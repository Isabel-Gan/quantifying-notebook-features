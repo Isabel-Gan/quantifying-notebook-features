{
 "cells": [
  {
   "cell_type": "code",
   "execution_count": 1,
   "metadata": {
    "collapsed": false
   },
   "outputs": [
    {
     "data": {
      "application/javascript": [
       "IPython.Cell.options_default.cm_config.lineNumbers = true"
      ],
      "text/plain": [
       "<IPython.core.display.Javascript object>"
      ]
     },
     "metadata": {},
     "output_type": "display_data"
    }
   ],
   "source": [
    "%%javascript\n",
    "IPython.Cell.options_default.cm_config.lineNumbers = true"
   ]
  },
  {
   "cell_type": "code",
   "execution_count": 2,
   "metadata": {
    "collapsed": false
   },
   "outputs": [
    {
     "data": {
      "text/html": [
       "<style>\n",
       "/* Pour le titre comme cela il n'y a pas de numérotation au */\n",
       "#titre{\n",
       "font-size: 24pt; \n",
       "color:#ff0000;\n",
       "text-decoration: underline;\n",
       "text-align: center;\n",
       "font-weight: bold;\n",
       "}\n",
       "\n",
       "div.text_cell_render { font-size: 12pt;   line-height: 145%; }\n",
       "div.text_cell_render h1{font-size: 24pt; color:#0000ff;  text-decoration: underline;}\n",
       "div.text_cell_render h2{font-size: 18pt;color:#0000ff;  text-decoration: underline;}\n",
       "div.text_cell_render h3{font-size: 14pt;color:#0000ff;  text-decoration: underline;}\n",
       "div.text_cell_render h4{font-size: 12pt;color:#0000ff;  text-decoration: underline; }\n",
       "div.text_cell_render h5 {font-weight: 300;}\n",
       "\n",
       "\n",
       "div.cell.code_cell { /* area that contains code + output */\n",
       "    background: #ffffff;\n",
       "    border: none;\n",
       "    border-radius: 10px;\n",
       "    padding-top: 1ex;\n",
       "}\n",
       "\n",
       "div.input_area { /* box around box with code */\n",
       "    border: none;\n",
       "    background: #f5f5f5;\n",
       "    border: 1px solid #ccc;\n",
       "    border-radius: 10px;\n",
       "    padding-top: 0.5ex;\n",
       "    padding-bottom: 0.5ex;\n",
       "    padding-left: 0.5em;\n",
       "}\n",
       "\n",
       "div.input { /* box with code */\n",
       "}\n",
       "\n",
       "div.CodeMirror { /* code font */\n",
       "    font-family: \"Inconsolata-dz\", monospace;\n",
       "    font-size: 10pt;\n",
       "}\n",
       "\n",
       "\n",
       "\n",
       "\n",
       "\n",
       "/*div.text_cell_render  code { font-size: medium; border: 3px #ababab solid; background-color: #f5f5f5;}*/\n",
       "/*.rendered_html code { border: 3px #ababab solid; background-color:  #f5f5f5;}*/\n",
       ".rendered_html blockquote { margin: 1em 2em; background: red; }\n",
       ".rendered_html ol { list-style:decimal; margin: 1em 2em; }\n",
       "\n",
       "\n",
       "/* classe pour inverse video */\n",
       ".reverse{\n",
       "    background-color: black;\n",
       "    color: white;\n",
       "}\n",
       "/*  strick   <s>texte/<s>*/\n",
       ".barre{\n",
       "\n",
       "}\n",
       "\n",
       "\n",
       "</style>"
      ],
      "text/plain": [
       "<IPython.core.display.HTML object>"
      ]
     },
     "execution_count": 2,
     "metadata": {},
     "output_type": "execute_result"
    }
   ],
   "source": [
    "# Charge ma feuille de style pour nbviewer\n",
    "from IPython.core.display import display, HTML\n",
    "from  urllib.request import urlopen\n",
    "# import urllib.request, urllib.parse, urllib.error\n",
    "\n",
    "url='https://github.com/debimax/cours-debimax/raw/master/static/custom.css'\n",
    "with urlopen(url) as response:\n",
    "    styles = response.read().decode(\"utf8\")\n",
    "styles=\"<style>\\n{}\\n</style>\".format(styles)\n",
    "HTML(styles)"
   ]
  },
  {
   "cell_type": "code",
   "execution_count": 3,
   "metadata": {
    "collapsed": false,
    "scrolled": true
   },
   "outputs": [
    {
     "data": {
      "application/javascript": [
       "\n",
       "    require(\n",
       "        [\n",
       "            \"https://cdn.rawgit.com/brython-dev/brython/master/www/src/brython_dist.js\"\n",
       "        ], \n",
       "        function() {\n",
       "            console.log(\"Loaded js code from https://cdn.rawgit.com/brython-dev/brython/master/www/src/brython_dist.js!\");\n",
       "        }\n",
       "    );    \n",
       "    "
      ],
      "text/plain": [
       "<IPython.core.display.Javascript object>"
      ]
     },
     "metadata": {},
     "output_type": "display_data"
    }
   ],
   "source": [
    "%reload_ext brythonmagic\n",
    "from brythonmagic import load_brython_dev\n",
    "load_brython_dev()"
   ]
  },
  {
   "cell_type": "markdown",
   "metadata": {},
   "source": [
    "<div id=\"titre\">Programmation web avec Brython</div>"
   ]
  },
  {
   "cell_type": "markdown",
   "metadata": {
    "cell_style": "center"
   },
   "source": [
    "Cours issue de la [documentation Brython](https://www.brython.info/static_doc/fr/intro.html)  \n",
    "Pour débogguer vos script avec le navigateur:\n",
    "- firefox: Outils-> Développement web->consol web (Ctrl+Maj+k))\n",
    "\n",
    "# Introduction\n",
    "\n",
    "\n",
    "\n",
    "## Qui fait quoi?\n",
    "\n",
    "\n",
    "lorsque vous saisissez une URL dans votre navigateur, que vous validez cette dernière, votre navigateur envoie une \"requête\" au serveur concerné afin qu'il nous renvoie une page web.  \n",
    "Tout d'abord, on nomme vulgairement l'échange de données entre votre navigateur et le serveur qui fournit les pages web un échange ***client / serveur***.   \n",
    "Le client représente votre navigateur.\n",
    "\n",
    "<object type=\"image/svg+xml\" data=\"https://github.com/debimax/cours-debimax/raw/master/images/client-serveur.svg\" width=\"400\">\n",
    "    Le navigateur ne peut lire ce kiwi\n",
    "</object>\n",
    "\n",
    "\n",
    "<center>\n",
    "<img width=400px src=\"https://github.com/debimax/cours-debimax/raw/master/images/client-serveur.png\" alt=\"client serveur sur internet\"   />\n",
    "</center>\n",
    "\n",
    "\n",
    "Normalement coté client c'est javascript qui est utilisé pour programmer.  \n",
    "Il existe des lirairies pour facilité la programmation ***javascript*** comme ***jquery, p5js***.  N'ayant pas le temps de vous apprendre à coder en javascript nous utiliseront ***Brython***  qui nous permet de coder en python. La libraire Brython transforme ce code python en javascript (compréhensible par votre navigateur).\n",
    "\n",
    "Vous devez bien faire faire la différence le programme exécuté coté client (javascript ou brython) et le programme exécuté coté serveur (php ou python).\n",
    "\n",
    "En fait le code python est convertit en javascript qui compréhensible pour votre navigateur internet"
   ]
  },
  {
   "cell_type": "markdown",
   "metadata": {},
   "source": [
    "## Que peut on faire avec Brython?\n",
    "\n",
    "\n",
    "On peut faire la même chose qu'avec javascript\n",
    "\n",
    "- Accéder aux DOM (Document Object Model)\n",
    "- Modifier le DOM\n",
    "- Réagir aux évènements de la souris, du clavier etc...\n"
   ]
  },
  {
   "cell_type": "markdown",
   "metadata": {},
   "source": [
    "## Préparation des fichiers  \n",
    "\n",
    "\n",
    "Il est necessaire d'utiliser d'utilser deux fichiers ***brython.js***  et ***brython_stdlib.js***  \n",
    "Comme au lycée la connection internet  n'est pas toujours fiable je vous conseille de télécharger ces deux fichiers\n",
    "\n",
    "- Dans votre dossier créez le dossier ***isn-internet*** puis ***isn-internet/static***\n",
    "- Téléchargez puis déposer dans le dossier *isn-internet/static* le fichier [brython.js](https://www.brython.info/src/brython.js).\n",
    "- Téléchargez puis déposer dans le dossier *isn-internet/static* le fichier [brython_stdlib.js](https://www.brython.info/src/brython_stdlib.js)"
   ]
  },
  {
   "cell_type": "markdown",
   "metadata": {},
   "source": [
    "## Exemple 1 (Hello World)\n",
    "\n",
    "Dans le dossier *isn-internet/*,  créez le fichier ***exo1.html*** avec votre éditeur de texte (pyzo, geany, idle ...)\n",
    "\n",
    "```html\n",
    "<html>\n",
    "<head>\n",
    "  <meta charset=\"utf-8\" />\n",
    "  <script type=\"text/javascript\" src=\"static/brython.js\"></script>\n",
    "  <script type=\"text/javascript\" src=\"static/brython_stdlib.js\"></script>\n",
    "  <title>Clock</title>\n",
    "</head>\n",
    "<body onLoad=\"brython()\">\n",
    "<h1>Exemple 1:</h1>\n",
    "<div>\n",
    "  <button id=\"bouton\" type=\"button\">Cliquez!</button>\n",
    "  <label id='hi'>Un texte</label>\n",
    "</div> \n",
    "<script type=\"text/python\">\n",
    "from browser import document\n",
    "def affiche(ev):\n",
    "    document['hi'].text=\"Hello Word\"\n",
    "\n",
    "document[\"bouton\"].bind(\"click\", affiche)\n",
    "</script>\n",
    "</body>\n",
    "</html>\n",
    "```\n",
    "\n",
    "Il ne reste plus qu'à ouvrir ce fichier avec votre navigateur préféré."
   ]
  },
  {
   "cell_type": "markdown",
   "metadata": {},
   "source": [
    "Un peu d'explication pour le code ci-dessus.\n",
    "\n",
    "***document[\"bouton\"]***  est l'élément qui a pour ***id*** \"bouton\", donc on définit l'évènement click sur le button d'id \"bouton\" qui déclenche la fonction ***affiche***.  \n",
    "Remarque: C'est la même syntaxe que pour tkinter.\n",
    "\n",
    "Il est aussi possible d'envoyer des arguments à la fonction ***affiche***  en utilisant les fonctions ***lamda***.  \n",
    "Modifer le code comme ci-dessous.\n",
    "\n",
    "```python\n",
    "<script>\n",
    "from browser import document\n",
    "def affiche(message,ev):\n",
    "    document['hi'].text=message\n",
    "\n",
    "message=\"Hello World\"\n",
    "document[\"bouton\"].bind(\"click\", lambda ev: affiche(message,ev))\n",
    "</script>\n",
    "```\n",
    "\n",
    "La syntaxe avec la fonction lambda sera identique avec tkinter.\n",
    "\n",
    "Modifions encore le code pour cette fois intéragir avec le clavier. La touche ***Esc*** a pour keycode 27.\n",
    "\n",
    "```python\n",
    "<div>\n",
    "  <label id='hi'>Appyer sur la touche esc</label>\n",
    "</div> \n",
    "<script type=\"text/python\">\n",
    "from browser import document\n",
    "def affiche(message,ev):\n",
    "    if int(ev.keyCode)==27 :\n",
    "        document['hi'].text=message\n",
    "\n",
    "document.bind('keydown', lambda ev :  affiche(\"Hello World\", ev))\n",
    "document.bind('keyup',   lambda ev :  affiche(\"Appyer sur la touche esc\", ev))\n",
    "</script>\n",
    "```\n",
    "\n",
    "On associe à l'évènement 'keydown' (appuyer sur une touche) le déclenchement de la fonction affiche avec les paramètre \"Hello World\" et ***ev*** où ev signifie ***event (évènement)***."
   ]
  },
  {
   "cell_type": "markdown",
   "metadata": {},
   "source": [
    "## Exemple 2 (Afficher l'heure)\n",
    "\n",
    "C'est le module ***time*** qui gère l'heure en python. Créer le fichier ***exo2.html***.\n",
    "\n",
    "```html\n",
    "<html>\n",
    "<head>\n",
    "<meta charset=\"utf-8\" />\n",
    "<script type=\"text/javascript\" src=\"static/brython.js\"></script>\n",
    "<script type=\"text/javascript\" src=\"static/brython_stdlib.js\"></script>\n",
    "<title>Clock</title>\n",
    "</head>\n",
    "<body onLoad=\"brython()\">\n",
    "<h1>exemple 2: Obtenir la date et l'heure</h1>\n",
    "<div id=\"date\"></div>\n",
    "<script type=\"text/python\">\n",
    "from browser import document\n",
    "import time\n",
    "document[\"date\"].text=time.strftime('Nous somme le %d %m %y, il est %H:%M:%S ',localtime)\n",
    "</script>\n",
    "</body>\n",
    "</html>\n",
    "```\n",
    "\n",
    "Vous voyez tout de suite ce qui ne va pas.  Il faudrait rafraichir toutes les secondes.  \n",
    "On modifie donc le script comme ci-dessous.  \n",
    "\n",
    "```python\n",
    "<script type=\"text/python\">\n",
    "from browser import document as doc\n",
    "from browser  import timer  #https://www.brython.info/static_doc/en/timer.html\n",
    "import time\n",
    "def getClock():\n",
    "\tlocaltime = time.localtime(time.time())\n",
    "\tdocument[\"date\"].text=time.strftime('Nous somme le %d %m %y, il est %H:%M:%S ',localtime)\n",
    "\n",
    "timer = timer.set_interval(getClock,1000)\n",
    "</script>\n",
    "```"
   ]
  },
  {
   "cell_type": "markdown",
   "metadata": {},
   "source": [
    "# Accéder aux éléments de la page\n",
    "\n",
    "\n",
    "\n",
    "Pour accéder à un élément, on peut utiliser plusieurs méthodes. La plus courante est de se servir de son identifiant, c'est-à-dire de son attribut *id* : si on a une zone de saisie définie par  \n",
    "```html\n",
    "    <input id=\"data\">\n",
    "```\n",
    "\n",
    "on peut obtenir une référence à ce champ par  \n",
    "```python\n",
    "    from browser import document\n",
    "    data = document[\"data\"]\n",
    "```\n",
    "\n",
    "L'objet document du module browser référence le document HTML. Il se comporte comme un dictionnaire dont les clés sont les identifiants des éléments de la page. Si aucun élément ne possède l'identifiant spécifié, le programme déclenche une exception *KeyError*\n",
    "\n",
    "On peut aussi récupérer tous les éléments d'un certain type, par exemple tous les liens hypertexte (balise HTML A), en utilisant la syntaxe  \n",
    "\n",
    "```python\n",
    "from browser import html\n",
    "links = document[html.A]\n",
    "```\n",
    "\n",
    "Enfin, tous les éléments de la page possèdent une méthode ***get()*** qui permet de rechercher des éléments de plusieurs façons :\n",
    "\n",
    "``` elt.get(name=N)``` retourne une liste avec tous les éléments descendant de *elt* dont l'attribut name est égal à N.  \n",
    "``` elt.get(selector=S)``` retourne une liste avec tous les élements descendant de *elt* dont le sélecteur CSS correspond à S.  \n",
    "\n",
    "Quelques exemples :\n",
    "\n",
    "```python\n",
    "document.get(selector='.foo')       # éléments avec la classe \"foo\"\n",
    "document.get(selector='form')       # liste des balises \"<form>\"\n",
    "document.get(selector='H1.bar')     # balises H1 avec la classe \"bar\"\n",
    "document.get(selector='#container') # liste avec l'élément dont l'id vaut \"container\", similaire à [document[\"container\"]]\n",
    "document.get(selector='a[title]')   # balises A avec un attribut \"title\"\n",
    "```\n"
   ]
  },
  {
   "cell_type": "markdown",
   "metadata": {},
   "source": [
    "# Attributs et méthodes des éléments\n",
    "\n",
    "Les éléments de la page possèdent des attributs et des méthodes qui dépendent du type de l'objet ;  \n",
    "On peut les trouver sur de nombreux [sites Internet](https://developer.mozilla.org/fr/docs/Web/HTML/Attributs).\n",
    "\n",
    "Comme le nom des attributs peut être différent d'un navigateur à l'autre, Brython définit des attributs supplémentaires qui fonctionnent dans tous les cas :\n",
    "\n",
    "<table style=\"font-size: small\">\n",
    "<tr><th> Nom </th><th>Type </th><th> Description</th><th> L = lecture seule<br />\n",
    "L/E = lecture + écriture</th></tr>\n",
    "<tr><td> abs_left </td><td> entier </td><td> position de l'élément par rapport au bord gauche de l'écran </td><td> L </td></tr>\n",
    "<tr><td> abs_top </td><td> entier </td><td> position de l'élément par rapport au bord supérieur de l'écran </td><td> L </td></tr>\n",
    "<tr><td> children </td><td> liste </td><td> les éléments \"descendants\" de l'élément </td><td> L </td></tr>\n",
    "<tr><td> class_name </td><td> chaine </td><td> le nom de la classe de l'élément (attribut class de la balise) </td><td> L/E</td></tr>\n",
    "<tr><td> clear </td><td> méthode </td><td> elt.clear() supprime tous les descendants de l'élément </td><td> - </td></tr>\n",
    "<tr><td> height </td><td> entier </td><td> hauteur de l'élément en pixels (2) </td><td> L/E </td></tr>\n",
    "<tr><td> html </td><td> chaine </td><td> le code HTML contenu dans l'élément </td><td> L/E </td></tr>\n",
    "<tr><td> inside </td><td> méthode </td><td> elt.inside(autre) teste si elt est contenu dans l'élément autre </td><td> - </td></tr>\n",
    "<tr><td> left </td><td> entier </td><td> la position de l'élément par rapport au bord gauche du premier parent positionné (1) </td><td> L/E </td></tr>\n",
    "<tr><td> parent </td><td> instance de DOMNode </td><td> l'élément parent de l'élément (None pour document) </td><td> L </td></tr>\n",
    "<tr><td> text </td><td> chaine </td><td> le texte contenu dans l'élément </td><td> L/E </td></tr>\n",
    "<tr><td> top </td><td> entier </td><td> la position de l'élément par rapport au bord supérieur du premier parent positionné (1) </td><td> L/E </td></tr>\n",
    "<tr><td> width </td><td> entier </td><td> largeur de l'élément en pixels (2) </td><td> L/E </td></tr>\n",
    "</table>"
   ]
  },
  {
   "cell_type": "markdown",
   "metadata": {
    "collapsed": true
   },
   "source": [
    "# Les évènements\n",
    "\n",
    "- Un ***événement (event***) est la survenue d’une action (clavier, souris) dont votre application a besoin d’être informée.\n",
    "- Un ***gestionnaire d'événement (event handler)*** est une fonction de votre application qui a vocation a être appelée lorsqu’un certain événement se produira.\n",
    "\n",
    "## Evénements souris\n",
    "\n",
    "### Les événements  relatifs à la souris\n",
    "\n",
    "<table  style=\"font-size: small\">\n",
    "<tr><th> évènement</th><th></th>  </tr>\n",
    "<tr><td> mouseenter </td> <td> la souris entre dans la zone couverte par l'élément, ou un de ses descendants </td></tr>\n",
    "<tr><td> mouseleave </td> <td> la souris sort de la zone couverte par l'élément et par ses descendants </td></tr>\n",
    "<tr><td> mouseover </td> <td> la souris entre dans la zone couverte par l'élément </td></tr>\n",
    "<tr><td> mouseout </td> <td> la souris quitte la zone couverte par l'élément </td></tr>\n",
    "<tr><td> mousemove </td> <td> la souris se déplace sur l'élément </td></tr>\n",
    "<tr><td> mousedown </td> <td> appui sur le bouton gauche de la souris </td></tr>\n",
    "<tr><td> mouseup </td> <td> relâchement du bouton gauche de la souris </td></tr>\n",
    "<tr><td> click </td> <td> appui puis relâchement du bouton gauche de la souris </td></tr>\n",
    "<tr><td> dblclick </td> <td> double clic </td></tr>\n",
    "</table>\n",
    "\n",
    "### Attributs de l'objet DOMEvent\n",
    "\n",
    "Pour les événements souris, l'instance de DOMEvent possède les attributs suivants\n",
    "\n",
    "<table  style=\"font-size: small\">\n",
    "<tr><th> attributs </th><th></th></tr>\n",
    "<tr><td> button </td><td> le numéro du bouton sur lequel on a appuyé </td><tr>\n",
    "<tr><td> buttons </td><td> indique sur quels boutons de la souris on a appuyé pour déclencher l'événement.<br />  Chaque bouton sur lequel on peut appuyer est représenté par un entier donné (1 : bouton gauche, 2 : bouton droit, 4   : roue).<br  />Si on appuie sur plus d'un bouton, la valeur de buttons est combinée pour produire un nouveau nombre.<br />Par exemple, si on appuie sur le bouton droit (2) et sur la roue (4), la valeur est égale à 2+4, soit 6 </td><tr>\n",
    "<tr><td> x </td><td> la position de la souris par rapport au bord gauche de la fenêtre (en pixels) </td><tr>\n",
    "<tr><td> y </td><td> la position de la souris par rapport au bord haut de la fenêtre (en pixels) </td><tr>\n",
    "<tr><td> clientX </td><td> la position de la souris par rapport au bord gauche de l'élément dans lequel la souris se trouve au moment du clic (en pixels) </td><tr>\n",
    "<tr><td> clientY </td><td> la position de la souris par rapport au bord haut de l'élément dans lequel la souris se trouve au moment du clic (en pixels) </td><tr>\n",
    "<tr><td> screenX </td><td> comme x </td><tr>\n",
    "<tr><td> screenY </td><td> comme y </td><tr>\n",
    "</table>"
   ]
  },
  {
   "cell_type": "markdown",
   "metadata": {
    "collapsed": true
   },
   "source": [
    "## Evénements clavier\n",
    "\n",
    "### Les événements relatifs au clavier\n",
    "\n",
    "<table  style=\"font-size: small\">\n",
    "<tr><th>évènement</th><th></th></tr>\n",
    "<tr><td> input </td><td> déclenché quand la valeur d'un élément &lsaquo;input&rsaquo; ou &lsaquo;textarea&rsaquo; est modifié, ou quand le contenu d'un élément contenteditable est modifié</td></tr>\n",
    "<tr><td> keydown </td><td> appui sur une touche quelconque du clavier</td></tr>\n",
    "<tr><td> keypress </td><td> appui sur une touche du clavier qui produit un caractère.<br />Par exemple, quand on entre Ctrl+C au clavier, l'événement keypress n'est déclenché qu'au moment où on appuie sur C, alors que keydown est déclenché dès l'appui sur Ctrl</td></tr>\n",
    "<tr><td> keyup </td><td> relâchement d'une touche enfoncée</td></tr>\n",
    "</table>\n",
    "\n",
    "###  Attributs de l'objet DOMEvent\n",
    "\n",
    "L'instance de ***DOMEvent*** possède les attributs suivants\n",
    "\n",
    "<table style=\"font-size: small\">\n",
    "<tr><td>***altKey***</td><td> booléen, indique si la touche Alt (ou Option sur Mac) était enfoncée quand l'événement clavier a été déclenché<br />\n",
    "Cet attribut n'est pas disponible pour l'événement *input*<br />\n",
    "Il est normalement utilisé avec *keypress*, pour pouvoir tester si on a entré Alt+&lsaquo;key&rsaquo; ou seulement &lsaquo;key&rsaquo;</td><tr>\n",
    "<tr><td>***charCode***</td><td> Le numéro de référence Unicode pour la touche<br />\n",
    "Cet attribut n'est utilisable que pour l'événement keypress</td><tr>\n",
    "<tr><td>***ctrlKey***</td>\n",
    "    <td> booléen, indique si la touche *Ctrl* était enfoncée quand l'événement clavier a été déclenché<br />\n",
    "\n",
    "    Cet attribut n'est pas disponible pour l'événement *input* \n",
    "\n",
    "    Il est normalement utilisé avec *keypress*, pour pouvoir tester si on a entré Ctrl+&lsaquo;key&rsaquo; ou seulement &lsaquo;key&rsaquo; \n",
    "<tr><td>***shiftKey***</td><td>\n",
    "    booléen, indique si la touche Majuscule était enfoncée quand l'événement clavier a été déclenché<br />\n",
    "    Cet attribut n'est pas disponible pour l'événement *input* <br />\n",
    "    Il est normalement utilisé avec keypress, pour pouvoir tester si on a entré Shift+&lsaquo;key&rsaquo; ou seulement &lsaquo;key&rsaquo; </td><tr>\n",
    " <tr><td>***which***</td><td>\n",
    "    un code numérique dépendant du système et de l'implémentation, caractérise la clé enfoncée <br />\n",
    "    noter que le résultat n'est pas le même selon qu'on gère les événements *keydown, keyup* et *keypress* </td><tr>\n",
    "</table>\n",
    " \n",
    "## Les événement focus:\n",
    "\n",
    "<table style=\"font-size: small\">\n",
    "<tr><td>***blur***</td><td>un élément a perdu le focus</td></tr>\n",
    "<tr><td>***focus***</td><td>un élément a reçu le focus</td></tr>\n",
    "</table>\n",
    "\n",
    "\n",
    "Il existe aussi l'événement ***[glisser-déposer](https://www.brython.info/static_doc/fr/drag_events.html)***"
   ]
  },
  {
   "cell_type": "markdown",
   "metadata": {},
   "source": [
    "# Exercices"
   ]
  },
  {
   "cell_type": "markdown",
   "metadata": {
    "solution2": "hidden",
    "solution2_first": true
   },
   "source": [
    "## Calculer votre IMC\n",
    "\n",
    "Nous traiterons des échanges client serveur dans une prochaine leçon avec flask pour programmer en python coté serveur.\n",
    "\n",
    "On imagine une page html qui vous demande votre *masse*, votre *taille* en cm dans deux champs de données et lorsqu'on click sur bouton on obtienne notre *icm*.  \n",
    "Dans un deuxième temps vérifiez que les données des champs *taille* et *masse* soient des nombres positifs.\n",
    "\n",
    "Je rappelle que la formule pour calculer l'IMC est $$IMC=\\dfrac{\\text{Masse en kg}}{\\text{Taille en m}}$$\n",
    "\n",
    "Voici la page html, je vous laisse compléter le script\n",
    "\n",
    "```html\n",
    "<html>\n",
    "<head>\n",
    "<meta charset=\"utf-8\" />\n",
    "<script type=\"text/javascript\" src=\"brython.js\"></script>\n",
    "<title>calcule IMC</title>\n",
    "</head>\n",
    "<body onLoad=\"brython()\">\n",
    "<h1>calcule IMC</h1>\n",
    "<div>\n",
    "<p>Entrer votre poids en kg: <input type=\"text\" id=\"masse\" /></p>\n",
    "<p>Entrer votre taille en cm: <input type=\"text\" id=\"taille\" /></p>\n",
    "<button id=\"calculer\">calculer</button>\n",
    "</div>\n",
    "<div>réponse: <label id=\"reponse\"></label></div>\n",
    "\n",
    "<script type=\"text/python\">\n",
    "from browser import document\n",
    "def calculImc():\n",
    "    IMC=..................\n",
    "    document[\"reponse\"].text = .................\n",
    "document[\"calculer\"].bind(\"click\", calculImc)\n",
    "</script>\n",
    "</body>\n",
    "</html>\n",
    "```\n",
    "\n"
   ]
  },
  {
   "cell_type": "markdown",
   "metadata": {
    "solution2": "hidden"
   },
   "source": [
    "```python\n",
    "def calculImc():\n",
    "    m=float(doc[\"masse\"].value)\n",
    "    t=float(doc[\"taille\"].value)/100\n",
    "    # On divise par 100 pour transformer en m.\n",
    "    imc=m/(t**2)\n",
    "    doc[\"reponse\"].text = \"IMC = {:.2f}   \".format(imc)\n",
    "```"
   ]
  },
  {
   "cell_type": "markdown",
   "metadata": {},
   "source": [
    "## Afficher les dimensions de l'ecran\n",
    "\n",
    "Créer une page html qui affiche les dimensions de l'ecran.\n",
    "\n",
    "On fera une recherche sur internet avec les mots clés:  dimension ecran javascript"
   ]
  },
  {
   "cell_type": "code",
   "execution_count": null,
   "metadata": {
    "collapsed": true
   },
   "outputs": [],
   "source": []
  },
  {
   "cell_type": "markdown",
   "metadata": {},
   "source": [
    "## Savoir si le navigateur est un mobile.\n",
    "\n",
    "Après une petite recherche sur internet avec le mot cle ***mobile ou pc en javascript***  j'obtiens:\n",
    "\n",
    "\n",
    "```javascript\n",
    "if (navigator.userAgent.match(/(android|iphone|blackberry|symbian|symbianos|symbos|netfront|model-orange|javaplatform|iemobile|windows phone|samsung|htc|opera mobile|opera mobi|opera mini|presto|huawei|blazer|bolt|doris|fennec|gobrowser|iris|maemo browser|mib|cldc|minimo|semc-browser|skyfire|teashark|teleca|uzard|uzardweb|meego|nokia|bb10|playbook)/gi)) {\n",
    "    alert('mobile');\n",
    "} else {\n",
    "    alert('none');\n",
    "}\n",
    "```\n",
    "\n",
    "Donc c'est avec ***navigator.userAgent*** que l'on obtient les informations necessaires.  Pour connaitre votre ***useragent***  regarder le site [navigator.userAgent](http://www.useragentstring.com/)\n",
    "\n",
    "\n",
    "Sous Brython on utilisera donc ***window.navigator.userAgent***  pour déterminer si on est sur un mobile ou un pc."
   ]
  },
  {
   "cell_type": "markdown",
   "metadata": {
    "solution2": "hidden",
    "solution2_first": true
   },
   "source": [
    "***Solution 1*** (Avec une liste)\n",
    "\n",
    "```python\n",
    "from browser  import window\n",
    "Agent=window.navigator.userAgent\n",
    "Liste_mobile=['Phone','iPod','Android','opera mini','blackberry','palm os','palm','hiptop','avantgo','plucker','xiino','blazer','elaine','iris','3g_t','windows ce','opera mobi','windows ce; smartphone;','windows ce']\n",
    "def ismobile():\n",
    "    ..................................\n",
    "```"
   ]
  },
  {
   "cell_type": "markdown",
   "metadata": {
    "solution2": "hidden"
   },
   "source": [
    "```python\n",
    "from browser  import window\n",
    "\n",
    "def ismobile():\n",
    "    Agent=window.navigator.userAgent\n",
    "    Liste_mobile=['Phone','iPod','Android','opera mini','blackberry','palm os','palm','hiptop','avantgo','plucker','xiino','blazer','elaine','iris','3g_t','windows ce','opera mobi','windows ce; smartphone;','windows ce']\n",
    "    if sum([i in Agent for i in Liste_mobile ]) == 0:\n",
    "        return False\n",
    "    else:\n",
    "        return True\n",
    "```"
   ]
  },
  {
   "cell_type": "markdown",
   "metadata": {
    "solution2": "hidden",
    "solution2_first": true
   },
   "source": [
    "***Solution 2 pour aller plus loin ***  (Avec le module ***RE***, voir mon *memento*)\n",
    "\n",
    " ```python\n",
    "from browser  import window\n",
    "import re \n",
    "\n",
    "def ismobile():\n",
    "    Agent=window.navigator.userAgent\n",
    "    ...................................\n",
    "```"
   ]
  },
  {
   "cell_type": "markdown",
   "metadata": {
    "solution2": "hidden"
   },
   "source": [
    "```python\n",
    "from browser  import window\n",
    "import re \n",
    "\n",
    "def ismobile():\n",
    "    Agent=window.navigator.userAgent\n",
    "    if re.search('android|iphone|blackberry|symbian|symbianos|symbos|netfront|modelorange|javaplatform|iemobile|windows phone|samsung|htc|opera mobile|opera mobi|opera mini|presto|huawei|blazer|bolt|doris|fennec|gobrowser|iris|maemo browser|mib|cldc|minimo|semc-browser|skyfire|teashark|teleca|uzard|uzardweb|meego|nokia|bb10|playbook', Agent, re.IGNORECASE):\n",
    "    return True\n",
    "else:\n",
    "    return False\n",
    "```"
   ]
  },
  {
   "cell_type": "code",
   "execution_count": null,
   "metadata": {
    "collapsed": true
   },
   "outputs": [],
   "source": []
  }
 ],
 "metadata": {
  "_draft": {
   "nbviewer_url": "https://gist.github.com/31f0c16000529e8a48628b544dd3facf"
  },
  "gist": {
   "data": {
    "description": "Brython.ipynb",
    "public": true
   },
   "id": "31f0c16000529e8a48628b544dd3facf"
  },
  "kernelspec": {
   "display_name": "Python 3",
   "language": "python",
   "name": "python3"
  },
  "language_info": {
   "codemirror_mode": {
    "name": "ipython",
    "version": 3
   },
   "file_extension": ".py",
   "mimetype": "text/x-python",
   "name": "python",
   "nbconvert_exporter": "python",
   "pygments_lexer": "ipython3",
   "version": "3.5.3+"
  },
  "latex_envs": {
   "LaTeX_envs_menu_present": true,
   "autocomplete": true,
   "bibliofile": "biblio.bib",
   "cite_by": "apalike",
   "current_citInitial": 1,
   "eqLabelWithNumbers": true,
   "eqNumInitial": 1,
   "hotkeys": {
    "equation": "Ctrl-E",
    "itemize": "Ctrl-I"
   },
   "labels_anchors": false,
   "latex_user_defs": false,
   "report_style_numbering": false,
   "user_envs_cfg": false
  },
  "toc": {
   "colors": {
    "hover_highlight": "#DAA520",
    "navigate_num": "#000000",
    "navigate_text": "#333333",
    "running_highlight": "#FF0000",
    "selected_highlight": "#FFD700",
    "sidebar_border": "#EEEEEE",
    "wrapper_background": "#FFFFFF"
   },
   "moveMenuLeft": true,
   "nav_menu": {
    "height": "229px",
    "width": "252px"
   },
   "navigate_menu": true,
   "number_sections": true,
   "sideBar": false,
   "threshold": 4,
   "toc_cell": false,
   "toc_position": {
    "height": "346px",
    "left": "1px",
    "right": "1516px",
    "top": "107px",
    "width": "247px"
   },
   "toc_section_display": "block",
   "toc_window_display": false,
   "widenNotebook": false
  }
 },
 "nbformat": 4,
 "nbformat_minor": 2
}
