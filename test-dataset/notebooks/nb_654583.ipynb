{
 "cells": [
  {
   "cell_type": "markdown",
   "metadata": {},
   "source": [
    "# Imports"
   ]
  },
  {
   "cell_type": "code",
   "execution_count": 1,
   "metadata": {
    "collapsed": true
   },
   "outputs": [],
   "source": [
    "import random as rnd\n",
    "import simpy as sp\n",
    "import matplotlib.pyplot as plt\n",
    "import pandas\n",
    "import datetime\n",
    "import dateutil\n",
    "%matplotlib inline"
   ]
  },
  {
   "cell_type": "code",
   "execution_count": 2,
   "metadata": {
    "collapsed": true
   },
   "outputs": [],
   "source": [
    "import logging\n",
    "logging.basicConfig(level=logging.DEBUG)"
   ]
  },
  {
   "cell_type": "markdown",
   "metadata": {},
   "source": [
    "# Appliances "
   ]
  },
  {
   "cell_type": "code",
   "execution_count": 72,
   "metadata": {
    "collapsed": false
   },
   "outputs": [
    {
     "data": {
      "text/html": [
       "<div style=\"max-height:1000px;max-width:1500px;overflow:auto;\">\n",
       "<table border=\"1\" class=\"dataframe\">\n",
       "  <thead>\n",
       "    <tr style=\"text-align: right;\">\n",
       "      <th></th>\n",
       "      <th>Apellido</th>\n",
       "      <th>Compromiso Declarado</th>\n",
       "      <th>Miembros</th>\n",
       "      <th>Aparato</th>\n",
       "      <th>Consumo/Dt</th>\n",
       "      <th>Horario alpha</th>\n",
       "      <th>Horario beta</th>\n",
       "      <th>Duracion (horas)</th>\n",
       "      <th>Cada N Dias</th>\n",
       "    </tr>\n",
       "  </thead>\n",
       "  <tbody>\n",
       "    <tr>\n",
       "      <th>0</th>\n",
       "      <td> AA</td>\n",
       "      <td> BAJO</td>\n",
       "      <td> 2</td>\n",
       "      <td> Calefaccion</td>\n",
       "      <td>  1</td>\n",
       "      <td> 00:00:00 AM</td>\n",
       "      <td>   0</td>\n",
       "      <td> 24</td>\n",
       "      <td> 1</td>\n",
       "    </tr>\n",
       "    <tr>\n",
       "      <th>1</th>\n",
       "      <td> AA</td>\n",
       "      <td> BAJO</td>\n",
       "      <td> 2</td>\n",
       "      <td> Frigorifico</td>\n",
       "      <td>  1</td>\n",
       "      <td> 00:00:00 AM</td>\n",
       "      <td>   0</td>\n",
       "      <td> 24</td>\n",
       "      <td> 1</td>\n",
       "    </tr>\n",
       "    <tr>\n",
       "      <th>2</th>\n",
       "      <td> AA</td>\n",
       "      <td> BAJO</td>\n",
       "      <td> 2</td>\n",
       "      <td>   Tostadora</td>\n",
       "      <td>  8</td>\n",
       "      <td> 08:00:00 AM</td>\n",
       "      <td>  10</td>\n",
       "      <td>  1</td>\n",
       "      <td> 2</td>\n",
       "    </tr>\n",
       "    <tr>\n",
       "      <th>3</th>\n",
       "      <td> AA</td>\n",
       "      <td> BAJO</td>\n",
       "      <td> 2</td>\n",
       "      <td>    Lavadora</td>\n",
       "      <td> 15</td>\n",
       "      <td> 01:00:00 PM</td>\n",
       "      <td> 100</td>\n",
       "      <td>  1</td>\n",
       "      <td> 2</td>\n",
       "    </tr>\n",
       "    <tr>\n",
       "      <th>4</th>\n",
       "      <td> BB</td>\n",
       "      <td> ALTO</td>\n",
       "      <td> 5</td>\n",
       "      <td>    Lavadora</td>\n",
       "      <td> 10</td>\n",
       "      <td> 10:00:00 PM</td>\n",
       "      <td>  50</td>\n",
       "      <td>  2</td>\n",
       "      <td> 1</td>\n",
       "    </tr>\n",
       "  </tbody>\n",
       "</table>\n",
       "</div>"
      ],
      "text/plain": [
       "  Apellido Compromiso Declarado  Miembros      Aparato  Consumo/Dt  \\\n",
       "0       AA                 BAJO         2  Calefaccion           1   \n",
       "1       AA                 BAJO         2  Frigorifico           1   \n",
       "2       AA                 BAJO         2    Tostadora           8   \n",
       "3       AA                 BAJO         2     Lavadora          15   \n",
       "4       BB                 ALTO         5     Lavadora          10   \n",
       "\n",
       "  Horario alpha  Horario beta  Duracion (horas)  Cada N Dias  \n",
       "0   00:00:00 AM             0                24            1  \n",
       "1   00:00:00 AM             0                24            1  \n",
       "2   08:00:00 AM            10                 1            2  \n",
       "3   01:00:00 PM           100                 1            2  \n",
       "4   10:00:00 PM            50                 2            1  "
      ]
     },
     "execution_count": 72,
     "metadata": {},
     "output_type": "execute_result"
    }
   ],
   "source": [
    "appliances = pandas.read_csv('./appliances.csv')\n",
    "appliances.head()"
   ]
  },
  {
   "cell_type": "code",
   "execution_count": 73,
   "metadata": {
    "collapsed": false
   },
   "outputs": [
    {
     "data": {
      "text/html": [
       "<div style=\"max-height:1000px;max-width:1500px;overflow:auto;\">\n",
       "<table border=\"1\" class=\"dataframe\">\n",
       "  <thead>\n",
       "    <tr style=\"text-align: right;\">\n",
       "      <th></th>\n",
       "      <th>Miembros</th>\n",
       "      <th>Consumo/Dt</th>\n",
       "      <th>Horario beta</th>\n",
       "      <th>Duracion (horas)</th>\n",
       "      <th>Cada N Dias</th>\n",
       "    </tr>\n",
       "  </thead>\n",
       "  <tbody>\n",
       "    <tr>\n",
       "      <th>count</th>\n",
       "      <td> 37.000000</td>\n",
       "      <td> 37.000000</td>\n",
       "      <td>  37.000000</td>\n",
       "      <td> 37.000000</td>\n",
       "      <td> 37.000000</td>\n",
       "    </tr>\n",
       "    <tr>\n",
       "      <th>mean</th>\n",
       "      <td>  2.891892</td>\n",
       "      <td>  7.729730</td>\n",
       "      <td>  30.081081</td>\n",
       "      <td> 12.486486</td>\n",
       "      <td>  1.243243</td>\n",
       "    </tr>\n",
       "    <tr>\n",
       "      <th>std</th>\n",
       "      <td>  1.349563</td>\n",
       "      <td>  7.981397</td>\n",
       "      <td>  39.242394</td>\n",
       "      <td> 11.371557</td>\n",
       "      <td>  0.547997</td>\n",
       "    </tr>\n",
       "    <tr>\n",
       "      <th>min</th>\n",
       "      <td>  1.000000</td>\n",
       "      <td>  1.000000</td>\n",
       "      <td>   0.000000</td>\n",
       "      <td>  1.000000</td>\n",
       "      <td>  1.000000</td>\n",
       "    </tr>\n",
       "    <tr>\n",
       "      <th>25%</th>\n",
       "      <td>  2.000000</td>\n",
       "      <td>  1.000000</td>\n",
       "      <td>   0.000000</td>\n",
       "      <td>  1.000000</td>\n",
       "      <td>  1.000000</td>\n",
       "    </tr>\n",
       "    <tr>\n",
       "      <th>50%</th>\n",
       "      <td>  2.000000</td>\n",
       "      <td>  5.000000</td>\n",
       "      <td>  10.000000</td>\n",
       "      <td>  3.000000</td>\n",
       "      <td>  1.000000</td>\n",
       "    </tr>\n",
       "    <tr>\n",
       "      <th>75%</th>\n",
       "      <td>  4.000000</td>\n",
       "      <td> 12.000000</td>\n",
       "      <td>  52.000000</td>\n",
       "      <td> 24.000000</td>\n",
       "      <td>  1.000000</td>\n",
       "    </tr>\n",
       "    <tr>\n",
       "      <th>max</th>\n",
       "      <td>  5.000000</td>\n",
       "      <td> 32.000000</td>\n",
       "      <td> 100.000000</td>\n",
       "      <td> 24.000000</td>\n",
       "      <td>  3.000000</td>\n",
       "    </tr>\n",
       "  </tbody>\n",
       "</table>\n",
       "</div>"
      ],
      "text/plain": [
       "        Miembros  Consumo/Dt  Horario beta  Duracion (horas)  Cada N Dias\n",
       "count  37.000000   37.000000     37.000000         37.000000    37.000000\n",
       "mean    2.891892    7.729730     30.081081         12.486486     1.243243\n",
       "std     1.349563    7.981397     39.242394         11.371557     0.547997\n",
       "min     1.000000    1.000000      0.000000          1.000000     1.000000\n",
       "25%     2.000000    1.000000      0.000000          1.000000     1.000000\n",
       "50%     2.000000    5.000000     10.000000          3.000000     1.000000\n",
       "75%     4.000000   12.000000     52.000000         24.000000     1.000000\n",
       "max     5.000000   32.000000    100.000000         24.000000     3.000000"
      ]
     },
     "execution_count": 73,
     "metadata": {},
     "output_type": "execute_result"
    }
   ],
   "source": [
    "appliances.describe()"
   ]
  },
  {
   "cell_type": "markdown",
   "metadata": {},
   "source": [
    "# Actions"
   ]
  },
  {
   "cell_type": "code",
   "execution_count": 74,
   "metadata": {
    "collapsed": false
   },
   "outputs": [],
   "source": [
    "DATETIME_START = datetime.datetime(2014, 12, 31, 0, 0)\n",
    "class Action:\n",
    "    def __init__(self, env, appliance,day):\n",
    "        self.env = env\n",
    "        self.appliance = appliance\n",
    "        logging.debug(\"surname, appliance = %s\" % str((self.appliance['Apellido'], self.appliance['Aparato'])))\n",
    "        self.minimum_datetime = self.generate_datetime(day, \n",
    "                                                       self.appliance['Horario alpha'], \n",
    "                                                       self.appliance['Horario beta'])\n",
    "    def _hour2datetime(self, hour=None):\n",
    "        if not hour:\n",
    "            hour = self.env.now\n",
    "        return DATETIME_START + datetime.timedelta(hours=hour)\n",
    "    def run(self):\n",
    "        event_datetime = self._hour2datetime()\n",
    "        while not (self.minimum_datetime <= event_datetime):    \n",
    "            logging.debug(\"too early for %s\" % str(self.appliance))\n",
    "            yield self.env.timeout(1)\n",
    "            event_datetime   = self._hour2datetime()\n",
    "        for d in range(self.appliance['Duracion (horas)']):\n",
    "            ce = self.consumption_event(self.appliance)\n",
    "            yield self.env.timeout(1)\n",
    "    def generate_datetime(self, day, alpha, beta):\n",
    "        simulated_hour = dateutil.parser.parse(alpha).hour\n",
    "        return self._hour2datetime(hour=24*day+simulated_hour)\n",
    "    def consumption_event(self, appliance):\n",
    "        current_appliance = self.appliance['Aparato']\n",
    "        current_family_id = self.appliance['Apellido']\n",
    "        consumption_event_kwh = appliance['Consumo/Dt']*rnd.normalvariate(1,.2)\n",
    "        event_datetime   = self._hour2datetime()\n",
    "        event = { 'datetime':event_datetime, \n",
    "                  'surname':current_family_id, \n",
    "                  '%s kwh' % current_appliance : consumption_event_kwh }\n",
    "        recorded_events.append(event)\n",
    "        logging.debug(\"event = %s\" % str(event))\n",
    "        return event\n",
    "    def is_valid(self, day):\n",
    "        return (day % self.appliance['Cada N Dias'] == 0)"
   ]
  },
  {
   "cell_type": "code",
   "execution_count": 75,
   "metadata": {
    "collapsed": false
   },
   "outputs": [],
   "source": [
    "class Family:\n",
    "    def __init__(self, env, appliances, day):\n",
    "        self.day_actions = list()\n",
    "        for appliance in appliances.values():\n",
    "            a = Action(env, appliance, day)\n",
    "            if a.is_valid(day):\n",
    "                self.day_actions.append(a)"
   ]
  },
  {
   "cell_type": "markdown",
   "metadata": {},
   "source": [
    "# Simulate"
   ]
  },
  {
   "cell_type": "code",
   "execution_count": 76,
   "metadata": {
    "collapsed": false
   },
   "outputs": [
    {
     "data": {
      "text/html": [
       "<div style=\"max-height:1000px;max-width:1500px;overflow:auto;\">\n",
       "<table border=\"1\" class=\"dataframe\">\n",
       "  <thead>\n",
       "    <tr style=\"text-align: right;\">\n",
       "      <th></th>\n",
       "      <th>Calefaccion kwh</th>\n",
       "      <th>Friegaplatos kwh</th>\n",
       "      <th>Frigorifico kwh</th>\n",
       "      <th>Lavadora kwh</th>\n",
       "      <th>Tostadora kwh</th>\n",
       "    </tr>\n",
       "  </thead>\n",
       "  <tbody>\n",
       "    <tr>\n",
       "      <th>count</th>\n",
       "      <td> 2880.000000</td>\n",
       "      <td> 15.000000</td>\n",
       "      <td> 3600.000000</td>\n",
       "      <td> 201.000000</td>\n",
       "      <td> 128.000000</td>\n",
       "    </tr>\n",
       "    <tr>\n",
       "      <th>mean</th>\n",
       "      <td>    1.252011</td>\n",
       "      <td> 31.702042</td>\n",
       "      <td>    1.306378</td>\n",
       "      <td>  16.808521</td>\n",
       "      <td>   9.240169</td>\n",
       "    </tr>\n",
       "    <tr>\n",
       "      <th>std</th>\n",
       "      <td>    0.502392</td>\n",
       "      <td>  5.867610</td>\n",
       "      <td>    0.543086</td>\n",
       "      <td>   6.107607</td>\n",
       "      <td>   3.297359</td>\n",
       "    </tr>\n",
       "    <tr>\n",
       "      <th>min</th>\n",
       "      <td>    0.282329</td>\n",
       "      <td> 20.326486</td>\n",
       "      <td>    0.390254</td>\n",
       "      <td>   6.483515</td>\n",
       "      <td>   2.869072</td>\n",
       "    </tr>\n",
       "    <tr>\n",
       "      <th>25%</th>\n",
       "      <td>    0.912940</td>\n",
       "      <td> 29.233639</td>\n",
       "      <td>    0.920506</td>\n",
       "      <td>  11.478484</td>\n",
       "      <td>   6.320833</td>\n",
       "    </tr>\n",
       "    <tr>\n",
       "      <th>50%</th>\n",
       "      <td>    1.086717</td>\n",
       "      <td> 31.840502</td>\n",
       "      <td>    1.106595</td>\n",
       "      <td>  16.494625</td>\n",
       "      <td>   9.208777</td>\n",
       "    </tr>\n",
       "    <tr>\n",
       "      <th>75%</th>\n",
       "      <td>    1.412360</td>\n",
       "      <td> 34.425976</td>\n",
       "      <td>    1.638388</td>\n",
       "      <td>  21.815578</td>\n",
       "      <td>  11.650252</td>\n",
       "    </tr>\n",
       "    <tr>\n",
       "      <th>max</th>\n",
       "      <td>    3.155289</td>\n",
       "      <td> 44.483635</td>\n",
       "      <td>    3.226086</td>\n",
       "      <td>  30.676649</td>\n",
       "      <td>  17.641852</td>\n",
       "    </tr>\n",
       "  </tbody>\n",
       "</table>\n",
       "</div>"
      ],
      "text/plain": [
       "       Calefaccion kwh  Friegaplatos kwh  Frigorifico kwh  Lavadora kwh  \\\n",
       "count      2880.000000         15.000000      3600.000000    201.000000   \n",
       "mean          1.252011         31.702042         1.306378     16.808521   \n",
       "std           0.502392          5.867610         0.543086      6.107607   \n",
       "min           0.282329         20.326486         0.390254      6.483515   \n",
       "25%           0.912940         29.233639         0.920506     11.478484   \n",
       "50%           1.086717         31.840502         1.106595     16.494625   \n",
       "75%           1.412360         34.425976         1.638388     21.815578   \n",
       "max           3.155289         44.483635         3.226086     30.676649   \n",
       "\n",
       "       Tostadora kwh  \n",
       "count     128.000000  \n",
       "mean        9.240169  \n",
       "std         3.297359  \n",
       "min         2.869072  \n",
       "25%         6.320833  \n",
       "50%         9.208777  \n",
       "75%        11.650252  \n",
       "max        17.641852  "
      ]
     },
     "execution_count": 76,
     "metadata": {},
     "output_type": "execute_result"
    }
   ],
   "source": [
    "recorded_events = list()\n",
    "env = sp.Environment()\n",
    "simulated_days = 15\n",
    "\n",
    "def simulate_day(day):\n",
    "    for surname in appliances['Apellido'].unique().tolist():\n",
    "        family_appliances = appliances[appliances['Apellido']==surname].T.to_dict()\n",
    "        family = Family(env, family_appliances, day)\n",
    "        for action in family.day_actions:\n",
    "            env.process(action.run())\n",
    "\n",
    "for day in range(simulated_days):\n",
    "    simulate_day(day)\n",
    "\n",
    "    \n",
    "env.run()\n",
    "\n",
    "data = pandas.DataFrame(recorded_events)\n",
    "#data.columns = [ 'datetime', 'surname', 'kwh', 'appliance' ]\n",
    "data = data.set_index('datetime')\n",
    "data.describe()"
   ]
  },
  {
   "cell_type": "code",
   "execution_count": 77,
   "metadata": {
    "collapsed": false
   },
   "outputs": [
    {
     "data": {
      "text/html": [
       "<div style=\"max-height:1000px;max-width:1500px;overflow:auto;\">\n",
       "<table border=\"1\" class=\"dataframe\">\n",
       "  <thead>\n",
       "    <tr style=\"text-align: right;\">\n",
       "      <th></th>\n",
       "      <th>Calefaccion kwh</th>\n",
       "      <th>Friegaplatos kwh</th>\n",
       "      <th>Frigorifico kwh</th>\n",
       "      <th>Lavadora kwh</th>\n",
       "      <th>Tostadora kwh</th>\n",
       "      <th>surname</th>\n",
       "    </tr>\n",
       "    <tr>\n",
       "      <th>datetime</th>\n",
       "      <th></th>\n",
       "      <th></th>\n",
       "      <th></th>\n",
       "      <th></th>\n",
       "      <th></th>\n",
       "      <th></th>\n",
       "    </tr>\n",
       "  </thead>\n",
       "  <tbody>\n",
       "    <tr>\n",
       "      <th>2014-12-31</th>\n",
       "      <td> 1.225340</td>\n",
       "      <td>NaN</td>\n",
       "      <td>      NaN</td>\n",
       "      <td>NaN</td>\n",
       "      <td>NaN</td>\n",
       "      <td> AA</td>\n",
       "    </tr>\n",
       "    <tr>\n",
       "      <th>2014-12-31</th>\n",
       "      <td>      NaN</td>\n",
       "      <td>NaN</td>\n",
       "      <td> 1.054233</td>\n",
       "      <td>NaN</td>\n",
       "      <td>NaN</td>\n",
       "      <td> AA</td>\n",
       "    </tr>\n",
       "    <tr>\n",
       "      <th>2014-12-31</th>\n",
       "      <td> 0.931774</td>\n",
       "      <td>NaN</td>\n",
       "      <td>      NaN</td>\n",
       "      <td>NaN</td>\n",
       "      <td>NaN</td>\n",
       "      <td> BB</td>\n",
       "    </tr>\n",
       "    <tr>\n",
       "      <th>2014-12-31</th>\n",
       "      <td>      NaN</td>\n",
       "      <td>NaN</td>\n",
       "      <td> 0.850122</td>\n",
       "      <td>NaN</td>\n",
       "      <td>NaN</td>\n",
       "      <td> BB</td>\n",
       "    </tr>\n",
       "    <tr>\n",
       "      <th>2014-12-31</th>\n",
       "      <td>      NaN</td>\n",
       "      <td>NaN</td>\n",
       "      <td> 2.519626</td>\n",
       "      <td>NaN</td>\n",
       "      <td>NaN</td>\n",
       "      <td> CC</td>\n",
       "    </tr>\n",
       "    <tr>\n",
       "      <th>2014-12-31</th>\n",
       "      <td> 0.986959</td>\n",
       "      <td>NaN</td>\n",
       "      <td>      NaN</td>\n",
       "      <td>NaN</td>\n",
       "      <td>NaN</td>\n",
       "      <td> DD</td>\n",
       "    </tr>\n",
       "    <tr>\n",
       "      <th>2014-12-31</th>\n",
       "      <td>      NaN</td>\n",
       "      <td>NaN</td>\n",
       "      <td> 1.628554</td>\n",
       "      <td>NaN</td>\n",
       "      <td>NaN</td>\n",
       "      <td> DD</td>\n",
       "    </tr>\n",
       "    <tr>\n",
       "      <th>2014-12-31</th>\n",
       "      <td> 0.994903</td>\n",
       "      <td>NaN</td>\n",
       "      <td>      NaN</td>\n",
       "      <td>NaN</td>\n",
       "      <td>NaN</td>\n",
       "      <td> EE</td>\n",
       "    </tr>\n",
       "    <tr>\n",
       "      <th>2014-12-31</th>\n",
       "      <td>      NaN</td>\n",
       "      <td>NaN</td>\n",
       "      <td> 1.193583</td>\n",
       "      <td>NaN</td>\n",
       "      <td>NaN</td>\n",
       "      <td> EE</td>\n",
       "    </tr>\n",
       "    <tr>\n",
       "      <th>2014-12-31</th>\n",
       "      <td> 1.610916</td>\n",
       "      <td>NaN</td>\n",
       "      <td>      NaN</td>\n",
       "      <td>NaN</td>\n",
       "      <td>NaN</td>\n",
       "      <td> FF</td>\n",
       "    </tr>\n",
       "  </tbody>\n",
       "</table>\n",
       "</div>"
      ],
      "text/plain": [
       "            Calefaccion kwh  Friegaplatos kwh  Frigorifico kwh  Lavadora kwh  \\\n",
       "datetime                                                                       \n",
       "2014-12-31         1.225340               NaN              NaN           NaN   \n",
       "2014-12-31              NaN               NaN         1.054233           NaN   \n",
       "2014-12-31         0.931774               NaN              NaN           NaN   \n",
       "2014-12-31              NaN               NaN         0.850122           NaN   \n",
       "2014-12-31              NaN               NaN         2.519626           NaN   \n",
       "2014-12-31         0.986959               NaN              NaN           NaN   \n",
       "2014-12-31              NaN               NaN         1.628554           NaN   \n",
       "2014-12-31         0.994903               NaN              NaN           NaN   \n",
       "2014-12-31              NaN               NaN         1.193583           NaN   \n",
       "2014-12-31         1.610916               NaN              NaN           NaN   \n",
       "\n",
       "            Tostadora kwh surname  \n",
       "datetime                           \n",
       "2014-12-31            NaN      AA  \n",
       "2014-12-31            NaN      AA  \n",
       "2014-12-31            NaN      BB  \n",
       "2014-12-31            NaN      BB  \n",
       "2014-12-31            NaN      CC  \n",
       "2014-12-31            NaN      DD  \n",
       "2014-12-31            NaN      DD  \n",
       "2014-12-31            NaN      EE  \n",
       "2014-12-31            NaN      EE  \n",
       "2014-12-31            NaN      FF  "
      ]
     },
     "execution_count": 77,
     "metadata": {},
     "output_type": "execute_result"
    }
   ],
   "source": [
    "data.head(10)"
   ]
  },
  {
   "cell_type": "code",
   "execution_count": 78,
   "metadata": {
    "collapsed": false
   },
   "outputs": [],
   "source": [
    "data['dt'] = data.index"
   ]
  },
  {
   "cell_type": "code",
   "execution_count": 79,
   "metadata": {
    "collapsed": false
   },
   "outputs": [
    {
     "data": {
      "text/plain": [
       "<matplotlib.text.Text at 0x10ce02a90>"
      ]
     },
     "execution_count": 79,
     "metadata": {},
     "output_type": "execute_result"
    },
    {
     "data": {
      "text/plain": [
       "<matplotlib.figure.Figure at 0x10ce149d0>"
      ]
     },
     "metadata": {},
     "output_type": "display_data"
    },
    {
     "data": {
      "image/png": "[encoded data removed]",
      "text/plain": [
       "<matplotlib.figure.Figure at 0x10cb71410>"
      ]
     },
     "metadata": {},
     "output_type": "display_data"
    }
   ],
   "source": [
    "f = plt.figure()\n",
    "ax = data.plot(x='dt', figsize=(16,9), legend=None)\n",
    "ax.set_ylabel(\"Kwh\")\n",
    "ax.set_xlabel(\"h\")"
   ]
  },
  {
   "cell_type": "markdown",
   "metadata": {},
   "source": [
    "# Costes"
   ]
  },
  {
   "cell_type": "markdown",
   "metadata": {},
   "source": [
    "### Parametrización del coste cada hora\n",
    "\n",
    "Sacado de: \n",
    "<http://www.esios.ree.es/preciodiario/>\n",
    "\n",
    "se muestra el array creado(a ojo de la página a día 24/06/2015"
   ]
  },
  {
   "cell_type": "code",
   "execution_count": 80,
   "metadata": {
    "collapsed": false
   },
   "outputs": [
    {
     "data": {
      "text/plain": [
       "<matplotlib.text.Text at 0x10d087fd0>"
      ]
     },
     "execution_count": 80,
     "metadata": {},
     "output_type": "execute_result"
    },
    {
     "data": {
      "image/png": "[encoded data removed]",
      "text/plain": [
       "<matplotlib.figure.Figure at 0x10d087150>"
      ]
     },
     "metadata": {},
     "output_type": "display_data"
    }
   ],
   "source": [
    "costs = [50,48,42,43,41,39,42,44,48,54,58,61,59,60,57,52,54,53,55,55,56,60,59,57]\n",
    "hours = range(0, 24)\n",
    "\n",
    "#costs_df = pandas.DataFrame(zip(costs*days,[  d for d in range(days*24) ]))\n",
    "costs_df = pandas.DataFrame(zip(costs, hours))\n",
    "costs_df.columns = ['costs', 'hours', ]\n",
    "ax = costs_df.plot(x='hours', y='costs', kind='bar', legend=None, alpha=0.3)\n",
    "ax.set_ylabel('eur')\n",
    "ax.set_xlabel('h')"
   ]
  },
  {
   "cell_type": "code",
   "execution_count": 81,
   "metadata": {
    "collapsed": false,
    "scrolled": true
   },
   "outputs": [
    {
     "data": {
      "text/plain": [
       "<matplotlib.axes._subplots.AxesSubplot at 0x10d23e190>"
      ]
     },
     "execution_count": 81,
     "metadata": {},
     "output_type": "execute_result"
    },
    {
     "data": {
      "image/png": "[encoded data removed]",
      "text/plain": [
       "<matplotlib.figure.Figure at 0x10c5f1250>"
      ]
     },
     "metadata": {},
     "output_type": "display_data"
    }
   ],
   "source": [
    "costs = [50,48,42,43,41,39,42,44,48,54,58,61,59,60,57,52,54,53,55,55,56,60,59,57]\n",
    "hours = range(0, 24)\n",
    "days = 15\n",
    "\n",
    "#costs_df = pandas.DataFrame(zip(costs*days,[  d for d in range(days*24) ]))\n",
    "costs_df = pandas.DataFrame(zip(costs*days,\n",
    "                                [  DATETIME_START + datetime.timedelta(hours=d) for d in range(simulated_days*24) ]))\n",
    "\n",
    "costs_df.columns = [ 'costs', 'hours' ]\n",
    "costs_df = costs_df.set_index('hours')\n",
    "costs_df['hours'] = costs_df.index\n",
    "costs_df.plot(x='hours', y='costs') #rects1 = ax.bar(hours, costs, 1, color='r')"
   ]
  },
  {
   "cell_type": "markdown",
   "metadata": {},
   "source": [
    "## Cálculo coste hora"
   ]
  },
  {
   "cell_type": "code",
   "execution_count": 82,
   "metadata": {
    "collapsed": false
   },
   "outputs": [
    {
     "data": {
      "text/html": [
       "<div style=\"max-height:1000px;max-width:1500px;overflow:auto;\">\n",
       "<table border=\"1\" class=\"dataframe\">\n",
       "  <thead>\n",
       "    <tr style=\"text-align: right;\">\n",
       "      <th></th>\n",
       "      <th>Calefaccion kwh</th>\n",
       "      <th>Friegaplatos kwh</th>\n",
       "      <th>Frigorifico kwh</th>\n",
       "      <th>Lavadora kwh</th>\n",
       "      <th>Tostadora kwh</th>\n",
       "      <th>surname</th>\n",
       "      <th>dt</th>\n",
       "    </tr>\n",
       "    <tr>\n",
       "      <th>datetime</th>\n",
       "      <th></th>\n",
       "      <th></th>\n",
       "      <th></th>\n",
       "      <th></th>\n",
       "      <th></th>\n",
       "      <th></th>\n",
       "      <th></th>\n",
       "    </tr>\n",
       "  </thead>\n",
       "  <tbody>\n",
       "    <tr>\n",
       "      <th>2014-12-31</th>\n",
       "      <td> 1.225340</td>\n",
       "      <td>NaN</td>\n",
       "      <td>      NaN</td>\n",
       "      <td>NaN</td>\n",
       "      <td>NaN</td>\n",
       "      <td> AA</td>\n",
       "      <td>2014-12-31</td>\n",
       "    </tr>\n",
       "    <tr>\n",
       "      <th>2014-12-31</th>\n",
       "      <td>      NaN</td>\n",
       "      <td>NaN</td>\n",
       "      <td> 1.054233</td>\n",
       "      <td>NaN</td>\n",
       "      <td>NaN</td>\n",
       "      <td> AA</td>\n",
       "      <td>2014-12-31</td>\n",
       "    </tr>\n",
       "    <tr>\n",
       "      <th>2014-12-31</th>\n",
       "      <td> 0.931774</td>\n",
       "      <td>NaN</td>\n",
       "      <td>      NaN</td>\n",
       "      <td>NaN</td>\n",
       "      <td>NaN</td>\n",
       "      <td> BB</td>\n",
       "      <td>2014-12-31</td>\n",
       "    </tr>\n",
       "    <tr>\n",
       "      <th>2014-12-31</th>\n",
       "      <td>      NaN</td>\n",
       "      <td>NaN</td>\n",
       "      <td> 0.850122</td>\n",
       "      <td>NaN</td>\n",
       "      <td>NaN</td>\n",
       "      <td> BB</td>\n",
       "      <td>2014-12-31</td>\n",
       "    </tr>\n",
       "    <tr>\n",
       "      <th>2014-12-31</th>\n",
       "      <td>      NaN</td>\n",
       "      <td>NaN</td>\n",
       "      <td> 2.519626</td>\n",
       "      <td>NaN</td>\n",
       "      <td>NaN</td>\n",
       "      <td> CC</td>\n",
       "      <td>2014-12-31</td>\n",
       "    </tr>\n",
       "  </tbody>\n",
       "</table>\n",
       "</div>"
      ],
      "text/plain": [
       "            Calefaccion kwh  Friegaplatos kwh  Frigorifico kwh  Lavadora kwh  \\\n",
       "datetime                                                                       \n",
       "2014-12-31         1.225340               NaN              NaN           NaN   \n",
       "2014-12-31              NaN               NaN         1.054233           NaN   \n",
       "2014-12-31         0.931774               NaN              NaN           NaN   \n",
       "2014-12-31              NaN               NaN         0.850122           NaN   \n",
       "2014-12-31              NaN               NaN         2.519626           NaN   \n",
       "\n",
       "            Tostadora kwh surname         dt  \n",
       "datetime                                      \n",
       "2014-12-31            NaN      AA 2014-12-31  \n",
       "2014-12-31            NaN      AA 2014-12-31  \n",
       "2014-12-31            NaN      BB 2014-12-31  \n",
       "2014-12-31            NaN      BB 2014-12-31  \n",
       "2014-12-31            NaN      CC 2014-12-31  "
      ]
     },
     "execution_count": 82,
     "metadata": {},
     "output_type": "execute_result"
    }
   ],
   "source": [
    "data.head()"
   ]
  },
  {
   "cell_type": "code",
   "execution_count": 83,
   "metadata": {
    "collapsed": false
   },
   "outputs": [],
   "source": [
    "eur_data = data.join(costs_df, rsuffix='cost_')"
   ]
  },
  {
   "cell_type": "code",
   "execution_count": 84,
   "metadata": {
    "collapsed": false
   },
   "outputs": [
    {
     "data": {
      "text/html": [
       "<div style=\"max-height:1000px;max-width:1500px;overflow:auto;\">\n",
       "<table border=\"1\" class=\"dataframe\">\n",
       "  <thead>\n",
       "    <tr style=\"text-align: right;\">\n",
       "      <th></th>\n",
       "      <th>Calefaccion kwh</th>\n",
       "      <th>Friegaplatos kwh</th>\n",
       "      <th>Frigorifico kwh</th>\n",
       "      <th>Lavadora kwh</th>\n",
       "      <th>Tostadora kwh</th>\n",
       "      <th>surname</th>\n",
       "      <th>dt</th>\n",
       "      <th>costs</th>\n",
       "      <th>hours</th>\n",
       "    </tr>\n",
       "  </thead>\n",
       "  <tbody>\n",
       "    <tr>\n",
       "      <th>2014-12-31</th>\n",
       "      <td> 1.225340</td>\n",
       "      <td>NaN</td>\n",
       "      <td>      NaN</td>\n",
       "      <td>NaN</td>\n",
       "      <td>NaN</td>\n",
       "      <td> AA</td>\n",
       "      <td>2014-12-31</td>\n",
       "      <td> 50</td>\n",
       "      <td>2014-12-31</td>\n",
       "    </tr>\n",
       "    <tr>\n",
       "      <th>2014-12-31</th>\n",
       "      <td>      NaN</td>\n",
       "      <td>NaN</td>\n",
       "      <td> 1.054233</td>\n",
       "      <td>NaN</td>\n",
       "      <td>NaN</td>\n",
       "      <td> AA</td>\n",
       "      <td>2014-12-31</td>\n",
       "      <td> 50</td>\n",
       "      <td>2014-12-31</td>\n",
       "    </tr>\n",
       "    <tr>\n",
       "      <th>2014-12-31</th>\n",
       "      <td> 0.931774</td>\n",
       "      <td>NaN</td>\n",
       "      <td>      NaN</td>\n",
       "      <td>NaN</td>\n",
       "      <td>NaN</td>\n",
       "      <td> BB</td>\n",
       "      <td>2014-12-31</td>\n",
       "      <td> 50</td>\n",
       "      <td>2014-12-31</td>\n",
       "    </tr>\n",
       "    <tr>\n",
       "      <th>2014-12-31</th>\n",
       "      <td>      NaN</td>\n",
       "      <td>NaN</td>\n",
       "      <td> 0.850122</td>\n",
       "      <td>NaN</td>\n",
       "      <td>NaN</td>\n",
       "      <td> BB</td>\n",
       "      <td>2014-12-31</td>\n",
       "      <td> 50</td>\n",
       "      <td>2014-12-31</td>\n",
       "    </tr>\n",
       "    <tr>\n",
       "      <th>2014-12-31</th>\n",
       "      <td>      NaN</td>\n",
       "      <td>NaN</td>\n",
       "      <td> 2.519626</td>\n",
       "      <td>NaN</td>\n",
       "      <td>NaN</td>\n",
       "      <td> CC</td>\n",
       "      <td>2014-12-31</td>\n",
       "      <td> 50</td>\n",
       "      <td>2014-12-31</td>\n",
       "    </tr>\n",
       "  </tbody>\n",
       "</table>\n",
       "</div>"
      ],
      "text/plain": [
       "            Calefaccion kwh  Friegaplatos kwh  Frigorifico kwh  Lavadora kwh  \\\n",
       "2014-12-31         1.225340               NaN              NaN           NaN   \n",
       "2014-12-31              NaN               NaN         1.054233           NaN   \n",
       "2014-12-31         0.931774               NaN              NaN           NaN   \n",
       "2014-12-31              NaN               NaN         0.850122           NaN   \n",
       "2014-12-31              NaN               NaN         2.519626           NaN   \n",
       "\n",
       "            Tostadora kwh surname         dt  costs      hours  \n",
       "2014-12-31            NaN      AA 2014-12-31     50 2014-12-31  \n",
       "2014-12-31            NaN      AA 2014-12-31     50 2014-12-31  \n",
       "2014-12-31            NaN      BB 2014-12-31     50 2014-12-31  \n",
       "2014-12-31            NaN      BB 2014-12-31     50 2014-12-31  \n",
       "2014-12-31            NaN      CC 2014-12-31     50 2014-12-31  "
      ]
     },
     "execution_count": 84,
     "metadata": {},
     "output_type": "execute_result"
    }
   ],
   "source": [
    "eur_data.head()"
   ]
  },
  {
   "cell_type": "code",
   "execution_count": 85,
   "metadata": {
    "collapsed": false
   },
   "outputs": [],
   "source": [
    "for c in eur_data.columns:\n",
    "    if c.endswith(' kwh'):\n",
    "        eur_data[c+' eur'] = eur_data[c]*eur_data['costs']"
   ]
  },
  {
   "cell_type": "code",
   "execution_count": 91,
   "metadata": {
    "collapsed": false
   },
   "outputs": [
    {
     "data": {
      "text/html": [
       "<div style=\"max-height:1000px;max-width:1500px;overflow:auto;\">\n",
       "<table border=\"1\" class=\"dataframe\">\n",
       "  <thead>\n",
       "    <tr style=\"text-align: right;\">\n",
       "      <th></th>\n",
       "      <th>Calefaccion kwh</th>\n",
       "      <th>Friegaplatos kwh</th>\n",
       "      <th>Frigorifico kwh</th>\n",
       "      <th>Lavadora kwh</th>\n",
       "      <th>Tostadora kwh</th>\n",
       "      <th>costs</th>\n",
       "      <th>Calefaccion kwh eur</th>\n",
       "      <th>Friegaplatos kwh eur</th>\n",
       "      <th>Frigorifico kwh eur</th>\n",
       "      <th>Lavadora kwh eur</th>\n",
       "      <th>Tostadora kwh eur</th>\n",
       "    </tr>\n",
       "  </thead>\n",
       "  <tbody>\n",
       "    <tr>\n",
       "      <th>count</th>\n",
       "      <td> 2880.000000</td>\n",
       "      <td> 15.000000</td>\n",
       "      <td> 3600.000000</td>\n",
       "      <td> 201.000000</td>\n",
       "      <td> 128.000000</td>\n",
       "      <td> 6824.000000</td>\n",
       "      <td> 2880.000000</td>\n",
       "      <td>   15.000000</td>\n",
       "      <td> 3600.000000</td>\n",
       "      <td>  201.000000</td>\n",
       "      <td>  128.000000</td>\n",
       "    </tr>\n",
       "    <tr>\n",
       "      <th>mean</th>\n",
       "      <td>    1.252011</td>\n",
       "      <td> 31.702042</td>\n",
       "      <td>    1.306378</td>\n",
       "      <td>  16.808521</td>\n",
       "      <td>   9.240169</td>\n",
       "      <td>   52.042937</td>\n",
       "      <td>   65.017227</td>\n",
       "      <td> 1482.033056</td>\n",
       "      <td>   67.854252</td>\n",
       "      <td>  897.922615</td>\n",
       "      <td>  505.185984</td>\n",
       "    </tr>\n",
       "    <tr>\n",
       "      <th>std</th>\n",
       "      <td>    0.502392</td>\n",
       "      <td>  5.867610</td>\n",
       "      <td>    0.543086</td>\n",
       "      <td>   6.107607</td>\n",
       "      <td>   3.297359</td>\n",
       "      <td>    6.817510</td>\n",
       "      <td>   27.655530</td>\n",
       "      <td>  311.757191</td>\n",
       "      <td>   29.793497</td>\n",
       "      <td>  319.139703</td>\n",
       "      <td>  218.166857</td>\n",
       "    </tr>\n",
       "    <tr>\n",
       "      <th>min</th>\n",
       "      <td>    0.282329</td>\n",
       "      <td> 20.326486</td>\n",
       "      <td>    0.390254</td>\n",
       "      <td>   6.483515</td>\n",
       "      <td>   2.869072</td>\n",
       "      <td>   39.000000</td>\n",
       "      <td>   15.528083</td>\n",
       "      <td>  853.712413</td>\n",
       "      <td>   17.262688</td>\n",
       "      <td>  358.472742</td>\n",
       "      <td>  126.239165</td>\n",
       "    </tr>\n",
       "    <tr>\n",
       "      <th>25%</th>\n",
       "      <td>    0.912940</td>\n",
       "      <td> 29.233639</td>\n",
       "      <td>    0.920506</td>\n",
       "      <td>  11.478484</td>\n",
       "      <td>   6.320833</td>\n",
       "      <td>   48.000000</td>\n",
       "      <td>   45.941341</td>\n",
       "      <td> 1325.783235</td>\n",
       "      <td>   46.667546</td>\n",
       "      <td>  625.941830</td>\n",
       "      <td>  316.952601</td>\n",
       "    </tr>\n",
       "    <tr>\n",
       "      <th>50%</th>\n",
       "      <td>    1.086717</td>\n",
       "      <td> 31.840502</td>\n",
       "      <td>    1.106595</td>\n",
       "      <td>  16.494625</td>\n",
       "      <td>   9.208777</td>\n",
       "      <td>   54.000000</td>\n",
       "      <td>   57.387159</td>\n",
       "      <td> 1509.659763</td>\n",
       "      <td>   58.237994</td>\n",
       "      <td>  900.986891</td>\n",
       "      <td>  499.624004</td>\n",
       "    </tr>\n",
       "    <tr>\n",
       "      <th>75%</th>\n",
       "      <td>    1.412360</td>\n",
       "      <td> 34.425976</td>\n",
       "      <td>    1.638388</td>\n",
       "      <td>  21.815578</td>\n",
       "      <td>  11.650252</td>\n",
       "      <td>   58.000000</td>\n",
       "      <td>   74.714206</td>\n",
       "      <td> 1598.261723</td>\n",
       "      <td>   82.371597</td>\n",
       "      <td> 1120.182866</td>\n",
       "      <td>  662.896348</td>\n",
       "    </tr>\n",
       "    <tr>\n",
       "      <th>max</th>\n",
       "      <td>    3.155289</td>\n",
       "      <td> 44.483635</td>\n",
       "      <td>    3.226086</td>\n",
       "      <td>  30.676649</td>\n",
       "      <td>  17.641852</td>\n",
       "      <td>   61.000000</td>\n",
       "      <td>  178.923796</td>\n",
       "      <td> 2224.181729</td>\n",
       "      <td>  185.922091</td>\n",
       "      <td> 1690.563513</td>\n",
       "      <td> 1058.511099</td>\n",
       "    </tr>\n",
       "  </tbody>\n",
       "</table>\n",
       "</div>"
      ],
      "text/plain": [
       "       Calefaccion kwh  Friegaplatos kwh  Frigorifico kwh  Lavadora kwh  \\\n",
       "count      2880.000000         15.000000      3600.000000    201.000000   \n",
       "mean          1.252011         31.702042         1.306378     16.808521   \n",
       "std           0.502392          5.867610         0.543086      6.107607   \n",
       "min           0.282329         20.326486         0.390254      6.483515   \n",
       "25%           0.912940         29.233639         0.920506     11.478484   \n",
       "50%           1.086717         31.840502         1.106595     16.494625   \n",
       "75%           1.412360         34.425976         1.638388     21.815578   \n",
       "max           3.155289         44.483635         3.226086     30.676649   \n",
       "\n",
       "       Tostadora kwh        costs  Calefaccion kwh eur  Friegaplatos kwh eur  \\\n",
       "count     128.000000  6824.000000          2880.000000             15.000000   \n",
       "mean        9.240169    52.042937            65.017227           1482.033056   \n",
       "std         3.297359     6.817510            27.655530            311.757191   \n",
       "min         2.869072    39.000000            15.528083            853.712413   \n",
       "25%         6.320833    48.000000            45.941341           1325.783235   \n",
       "50%         9.208777    54.000000            57.387159           1509.659763   \n",
       "75%        11.650252    58.000000            74.714206           1598.261723   \n",
       "max        17.641852    61.000000           178.923796           2224.181729   \n",
       "\n",
       "       Frigorifico kwh eur  Lavadora kwh eur  Tostadora kwh eur  \n",
       "count          3600.000000        201.000000         128.000000  \n",
       "mean             67.854252        897.922615         505.185984  \n",
       "std              29.793497        319.139703         218.166857  \n",
       "min              17.262688        358.472742         126.239165  \n",
       "25%              46.667546        625.941830         316.952601  \n",
       "50%              58.237994        900.986891         499.624004  \n",
       "75%              82.371597       1120.182866         662.896348  \n",
       "max             185.922091       1690.563513        1058.511099  "
      ]
     },
     "execution_count": 91,
     "metadata": {},
     "output_type": "execute_result"
    }
   ],
   "source": [
    "eur_data.describe()"
   ]
  },
  {
   "cell_type": "code",
   "execution_count": 94,
   "metadata": {
    "collapsed": false
   },
   "outputs": [],
   "source": [
    "median_family = eur_data.describe().ix[5]"
   ]
  },
  {
   "cell_type": "code",
   "execution_count": 95,
   "metadata": {
    "collapsed": false
   },
   "outputs": [
    {
     "name": "stdout",
     "output_type": "stream",
     "text": [
      "['Calefaccion kwh eur', 'Friegaplatos kwh eur', 'Frigorifico kwh eur', 'Lavadora kwh eur', 'Tostadora kwh eur']\n"
     ]
    },
    {
     "data": {
      "text/plain": [
       "<matplotlib.text.Text at 0x10df7a5d0>"
      ]
     },
     "execution_count": 95,
     "metadata": {},
     "output_type": "execute_result"
    },
    {
     "data": {
      "image/png": "[encoded data removed]",
      "text/plain": [
       "<matplotlib.figure.Figure at 0x10c86b790>"
      ]
     },
     "metadata": {},
     "output_type": "display_data"
    }
   ],
   "source": [
    "cost_cols = [c for c in eur_data.columns if c.endswith(' eur')]\n",
    "print cost_cols\n",
    "ax = eur_data[['Calefaccion kwh eur', 'Frigorifico kwh eur']].head(3000).plot(figsize=(16,9))\n",
    "ax.set_xlabel('h')\n",
    "ax.set_ylabel('eur')"
   ]
  },
  {
   "cell_type": "code",
   "execution_count": 96,
   "metadata": {
    "collapsed": false
   },
   "outputs": [
    {
     "data": {
      "image/png": "[encoded data removed]",
      "text/plain": [
       "<matplotlib.figure.Figure at 0x10d528cd0>"
      ]
     },
     "metadata": {},
     "output_type": "display_data"
    }
   ],
   "source": [
    "f = plt.figure(figsize=(16,9))\n",
    "ax1 = plt.subplot(111)\n",
    "bp = eur_data.boxplot(column=cost_cols, ax=ax1)"
   ]
  },
  {
   "cell_type": "code",
   "execution_count": 107,
   "metadata": {
    "collapsed": false
   },
   "outputs": [
    {
     "data": {
      "text/html": [
       "<div style=\"max-height:1000px;max-width:1500px;overflow:auto;\">\n",
       "<table border=\"1\" class=\"dataframe\">\n",
       "  <thead>\n",
       "    <tr style=\"text-align: right;\">\n",
       "      <th></th>\n",
       "      <th>Calefaccion kwh</th>\n",
       "      <th>Friegaplatos kwh</th>\n",
       "      <th>Frigorifico kwh</th>\n",
       "      <th>Lavadora kwh</th>\n",
       "      <th>Tostadora kwh</th>\n",
       "      <th>costs</th>\n",
       "      <th>Calefaccion kwh eur</th>\n",
       "      <th>Friegaplatos kwh eur</th>\n",
       "      <th>Frigorifico kwh eur</th>\n",
       "      <th>Lavadora kwh eur</th>\n",
       "      <th>Tostadora kwh eur</th>\n",
       "    </tr>\n",
       "    <tr>\n",
       "      <th>surname</th>\n",
       "      <th></th>\n",
       "      <th></th>\n",
       "      <th></th>\n",
       "      <th></th>\n",
       "      <th></th>\n",
       "      <th></th>\n",
       "      <th></th>\n",
       "      <th></th>\n",
       "      <th></th>\n",
       "      <th></th>\n",
       "      <th></th>\n",
       "    </tr>\n",
       "  </thead>\n",
       "  <tbody>\n",
       "    <tr>\n",
       "      <th>AA</th>\n",
       "      <td> 0.998736</td>\n",
       "      <td>       NaN</td>\n",
       "      <td> 1.002415</td>\n",
       "      <td> 12.976408</td>\n",
       "      <td>  7.918267</td>\n",
       "      <td> 54</td>\n",
       "      <td>  51.951104</td>\n",
       "      <td>         NaN</td>\n",
       "      <td>  51.606322</td>\n",
       "      <td>  778.584459</td>\n",
       "      <td> 380.076813</td>\n",
       "    </tr>\n",
       "    <tr>\n",
       "      <th>BB</th>\n",
       "      <td> 0.976127</td>\n",
       "      <td>       NaN</td>\n",
       "      <td> 0.981471</td>\n",
       "      <td>  9.812061</td>\n",
       "      <td>       NaN</td>\n",
       "      <td> 54</td>\n",
       "      <td>  50.917500</td>\n",
       "      <td>         NaN</td>\n",
       "      <td>  51.026563</td>\n",
       "      <td>  568.954793</td>\n",
       "      <td>        NaN</td>\n",
       "    </tr>\n",
       "    <tr>\n",
       "      <th>CC</th>\n",
       "      <td>      NaN</td>\n",
       "      <td>       NaN</td>\n",
       "      <td> 2.020414</td>\n",
       "      <td> 11.054582</td>\n",
       "      <td>  5.379868</td>\n",
       "      <td> 55</td>\n",
       "      <td>        NaN</td>\n",
       "      <td>         NaN</td>\n",
       "      <td> 103.991705</td>\n",
       "      <td>  633.683818</td>\n",
       "      <td> 322.792106</td>\n",
       "    </tr>\n",
       "    <tr>\n",
       "      <th>DD</th>\n",
       "      <td> 1.008877</td>\n",
       "      <td>       NaN</td>\n",
       "      <td> 2.068981</td>\n",
       "      <td> 21.935070</td>\n",
       "      <td> 13.016506</td>\n",
       "      <td> 54</td>\n",
       "      <td>  51.324704</td>\n",
       "      <td>         NaN</td>\n",
       "      <td> 104.415389</td>\n",
       "      <td> 1176.600630</td>\n",
       "      <td> 794.006896</td>\n",
       "    </tr>\n",
       "    <tr>\n",
       "      <th>EE</th>\n",
       "      <td> 1.010527</td>\n",
       "      <td>       NaN</td>\n",
       "      <td> 0.985372</td>\n",
       "      <td> 14.107403</td>\n",
       "      <td>  7.128275</td>\n",
       "      <td> 54</td>\n",
       "      <td>  51.427443</td>\n",
       "      <td>         NaN</td>\n",
       "      <td>  50.189198</td>\n",
       "      <td>  550.188731</td>\n",
       "      <td> 313.644093</td>\n",
       "    </tr>\n",
       "    <tr>\n",
       "      <th>FF</th>\n",
       "      <td> 1.993186</td>\n",
       "      <td>       NaN</td>\n",
       "      <td> 0.998645</td>\n",
       "      <td> 23.381212</td>\n",
       "      <td>       NaN</td>\n",
       "      <td> 54</td>\n",
       "      <td> 102.530776</td>\n",
       "      <td>         NaN</td>\n",
       "      <td>  51.801668</td>\n",
       "      <td>  920.641449</td>\n",
       "      <td>        NaN</td>\n",
       "    </tr>\n",
       "    <tr>\n",
       "      <th>GG</th>\n",
       "      <td> 1.029272</td>\n",
       "      <td> 31.840502</td>\n",
       "      <td> 0.994201</td>\n",
       "      <td> 11.082988</td>\n",
       "      <td>  5.273045</td>\n",
       "      <td> 54</td>\n",
       "      <td>  52.464459</td>\n",
       "      <td> 1509.659763</td>\n",
       "      <td>  51.284387</td>\n",
       "      <td>  609.564339</td>\n",
       "      <td> 232.013986</td>\n",
       "    </tr>\n",
       "    <tr>\n",
       "      <th>HH</th>\n",
       "      <td> 0.991515</td>\n",
       "      <td>       NaN</td>\n",
       "      <td> 0.986561</td>\n",
       "      <td> 17.852795</td>\n",
       "      <td> 12.139362</td>\n",
       "      <td> 54</td>\n",
       "      <td>  50.726035</td>\n",
       "      <td>         NaN</td>\n",
       "      <td>  51.407447</td>\n",
       "      <td> 1062.480940</td>\n",
       "      <td> 728.361739</td>\n",
       "    </tr>\n",
       "    <tr>\n",
       "      <th>II</th>\n",
       "      <td> 1.984926</td>\n",
       "      <td>       NaN</td>\n",
       "      <td> 2.012602</td>\n",
       "      <td> 20.787839</td>\n",
       "      <td> 10.725902</td>\n",
       "      <td> 54</td>\n",
       "      <td> 102.408585</td>\n",
       "      <td>         NaN</td>\n",
       "      <td> 102.884752</td>\n",
       "      <td> 1229.381862</td>\n",
       "      <td> 528.365990</td>\n",
       "    </tr>\n",
       "    <tr>\n",
       "      <th>JJ</th>\n",
       "      <td>      NaN</td>\n",
       "      <td>       NaN</td>\n",
       "      <td> 0.988983</td>\n",
       "      <td> 18.567051</td>\n",
       "      <td> 12.227701</td>\n",
       "      <td> 54</td>\n",
       "      <td>        NaN</td>\n",
       "      <td>         NaN</td>\n",
       "      <td>  50.016866</td>\n",
       "      <td> 1104.308543</td>\n",
       "      <td> 733.662054</td>\n",
       "    </tr>\n",
       "    <tr>\n",
       "      <th>50%</th>\n",
       "      <td> 1.086717</td>\n",
       "      <td> 31.840502</td>\n",
       "      <td> 1.106595</td>\n",
       "      <td> 16.494625</td>\n",
       "      <td>  9.208777</td>\n",
       "      <td> 54</td>\n",
       "      <td>  57.387159</td>\n",
       "      <td> 1509.659763</td>\n",
       "      <td>  58.237994</td>\n",
       "      <td>  900.986891</td>\n",
       "      <td> 499.624004</td>\n",
       "    </tr>\n",
       "  </tbody>\n",
       "</table>\n",
       "</div>"
      ],
      "text/plain": [
       "         Calefaccion kwh  Friegaplatos kwh  Frigorifico kwh  Lavadora kwh  \\\n",
       "surname                                                                     \n",
       "AA              0.998736               NaN         1.002415     12.976408   \n",
       "BB              0.976127               NaN         0.981471      9.812061   \n",
       "CC                   NaN               NaN         2.020414     11.054582   \n",
       "DD              1.008877               NaN         2.068981     21.935070   \n",
       "EE              1.010527               NaN         0.985372     14.107403   \n",
       "FF              1.993186               NaN         0.998645     23.381212   \n",
       "GG              1.029272         31.840502         0.994201     11.082988   \n",
       "HH              0.991515               NaN         0.986561     17.852795   \n",
       "II              1.984926               NaN         2.012602     20.787839   \n",
       "JJ                   NaN               NaN         0.988983     18.567051   \n",
       "50%             1.086717         31.840502         1.106595     16.494625   \n",
       "\n",
       "         Tostadora kwh  costs  Calefaccion kwh eur  Friegaplatos kwh eur  \\\n",
       "surname                                                                    \n",
       "AA            7.918267     54            51.951104                   NaN   \n",
       "BB                 NaN     54            50.917500                   NaN   \n",
       "CC            5.379868     55                  NaN                   NaN   \n",
       "DD           13.016506     54            51.324704                   NaN   \n",
       "EE            7.128275     54            51.427443                   NaN   \n",
       "FF                 NaN     54           102.530776                   NaN   \n",
       "GG            5.273045     54            52.464459           1509.659763   \n",
       "HH           12.139362     54            50.726035                   NaN   \n",
       "II           10.725902     54           102.408585                   NaN   \n",
       "JJ           12.227701     54                  NaN                   NaN   \n",
       "50%           9.208777     54            57.387159           1509.659763   \n",
       "\n",
       "         Frigorifico kwh eur  Lavadora kwh eur  Tostadora kwh eur  \n",
       "surname                                                            \n",
       "AA                 51.606322        778.584459         380.076813  \n",
       "BB                 51.026563        568.954793                NaN  \n",
       "CC                103.991705        633.683818         322.792106  \n",
       "DD                104.415389       1176.600630         794.006896  \n",
       "EE                 50.189198        550.188731         313.644093  \n",
       "FF                 51.801668        920.641449                NaN  \n",
       "GG                 51.284387        609.564339         232.013986  \n",
       "HH                 51.407447       1062.480940         728.361739  \n",
       "II                102.884752       1229.381862         528.365990  \n",
       "JJ                 50.016866       1104.308543         733.662054  \n",
       "50%                58.237994        900.986891         499.624004  "
      ]
     },
     "execution_count": 107,
     "metadata": {},
     "output_type": "execute_result"
    }
   ],
   "source": [
    "medians = eur_data.groupby('surname').median()\n",
    "medians = medians.append(median_family)\n",
    "medians.index.name='surname'\n",
    "medians"
   ]
  },
  {
   "cell_type": "code",
   "execution_count": 116,
   "metadata": {
    "collapsed": false
   },
   "outputs": [
    {
     "data": {
      "text/html": [
       "<div style=\"max-height:1000px;max-width:1500px;overflow:auto;\">\n",
       "<table border=\"1\" class=\"dataframe\">\n",
       "  <thead>\n",
       "    <tr style=\"text-align: right;\">\n",
       "      <th></th>\n",
       "      <th>Calefaccion kwh</th>\n",
       "      <th>Friegaplatos kwh</th>\n",
       "      <th>Frigorifico kwh</th>\n",
       "      <th>Lavadora kwh</th>\n",
       "      <th>Tostadora kwh</th>\n",
       "      <th>costs</th>\n",
       "      <th>Calefaccion kwh eur</th>\n",
       "      <th>Friegaplatos kwh eur</th>\n",
       "      <th>Frigorifico kwh eur</th>\n",
       "      <th>Lavadora kwh eur</th>\n",
       "      <th>Tostadora kwh eur</th>\n",
       "    </tr>\n",
       "    <tr>\n",
       "      <th>surname</th>\n",
       "      <th></th>\n",
       "      <th></th>\n",
       "      <th></th>\n",
       "      <th></th>\n",
       "      <th></th>\n",
       "      <th></th>\n",
       "      <th></th>\n",
       "      <th></th>\n",
       "      <th></th>\n",
       "      <th></th>\n",
       "      <th></th>\n",
       "    </tr>\n",
       "  </thead>\n",
       "  <tbody>\n",
       "    <tr>\n",
       "      <th>AA</th>\n",
       "      <td> 0.998736</td>\n",
       "      <td>       NaN</td>\n",
       "      <td> 1.002415</td>\n",
       "      <td> 12.976408</td>\n",
       "      <td> 7.918267</td>\n",
       "      <td> 54</td>\n",
       "      <td> 51.951104</td>\n",
       "      <td>         NaN</td>\n",
       "      <td> 51.606322</td>\n",
       "      <td> 778.584459</td>\n",
       "      <td> 380.076813</td>\n",
       "    </tr>\n",
       "    <tr>\n",
       "      <th>50%</th>\n",
       "      <td> 1.086717</td>\n",
       "      <td> 31.840502</td>\n",
       "      <td> 1.106595</td>\n",
       "      <td> 16.494625</td>\n",
       "      <td> 9.208777</td>\n",
       "      <td> 54</td>\n",
       "      <td> 57.387159</td>\n",
       "      <td> 1509.659763</td>\n",
       "      <td> 58.237994</td>\n",
       "      <td> 900.986891</td>\n",
       "      <td> 499.624004</td>\n",
       "    </tr>\n",
       "  </tbody>\n",
       "</table>\n",
       "</div>"
      ],
      "text/plain": [
       "         Calefaccion kwh  Friegaplatos kwh  Frigorifico kwh  Lavadora kwh  \\\n",
       "surname                                                                     \n",
       "AA              0.998736               NaN         1.002415     12.976408   \n",
       "50%             1.086717         31.840502         1.106595     16.494625   \n",
       "\n",
       "         Tostadora kwh  costs  Calefaccion kwh eur  Friegaplatos kwh eur  \\\n",
       "surname                                                                    \n",
       "AA            7.918267     54            51.951104                   NaN   \n",
       "50%           9.208777     54            57.387159           1509.659763   \n",
       "\n",
       "         Frigorifico kwh eur  Lavadora kwh eur  Tostadora kwh eur  \n",
       "surname                                                            \n",
       "AA                 51.606322        778.584459         380.076813  \n",
       "50%                58.237994        900.986891         499.624004  "
      ]
     },
     "execution_count": 116,
     "metadata": {},
     "output_type": "execute_result"
    }
   ],
   "source": [
    "AAmedians = medians[medians.index.map(lambda i:i in ['AA','50%'])]\n",
    "AAmedians"
   ]
  },
  {
   "cell_type": "code",
   "execution_count": 123,
   "metadata": {
    "collapsed": false
   },
   "outputs": [
    {
     "data": {
      "text/plain": [
       "<matplotlib.axes._subplots.AxesSubplot at 0x10d0c3590>"
      ]
     },
     "execution_count": 123,
     "metadata": {},
     "output_type": "execute_result"
    },
    {
     "data": {
      "image/png": "[encoded data removed]",
      "text/plain": [
       "<matplotlib.figure.Figure at 0x10d0b1a10>"
      ]
     },
     "metadata": {},
     "output_type": "display_data"
    }
   ],
   "source": [
    "AAmedians.plot(y=cost_cols,kind='bar',alpha=0.4, figsize=(10,6),title='AA vs 50')"
   ]
  },
  {
   "cell_type": "code",
   "execution_count": 89,
   "metadata": {
    "collapsed": false
   },
   "outputs": [
    {
     "data": {
      "text/plain": [
       "array([[<matplotlib.axes._subplots.AxesSubplot object at 0x10d275c90>,\n",
       "        <matplotlib.axes._subplots.AxesSubplot object at 0x10d11fa50>],\n",
       "       [<matplotlib.axes._subplots.AxesSubplot object at 0x10d143750>,\n",
       "        <matplotlib.axes._subplots.AxesSubplot object at 0x10d8f3ed0>],\n",
       "       [<matplotlib.axes._subplots.AxesSubplot object at 0x10d91bc50>,\n",
       "        <matplotlib.axes._subplots.AxesSubplot object at 0x10d93c7d0>]], dtype=object)"
      ]
     },
     "execution_count": 89,
     "metadata": {},
     "output_type": "execute_result"
    },
    {
     "data": {
      "image/png": "[encoded data removed]",
      "text/plain": [
       "<matplotlib.figure.Figure at 0x10d254450>"
      ]
     },
     "metadata": {},
     "output_type": "display_data"
    }
   ],
   "source": [
    "f = plt.figure(figsize=(16,9))\n",
    "ax1 = plt.subplot(121)\n",
    "bp = eur_data.boxplot(column=cost_cols, ax=ax1)\n",
    "color = dict(boxes='DarkGreen', whiskers='DarkOrange',\n",
    "             medians='DarkBlue', caps='Gray')\n",
    "ax2 = plt.subplot(122)\n",
    "eur_data.boxplot(by='surname', column=cost_cols, ax=ax2, sym='r+')"
   ]
  },
  {
   "cell_type": "code",
   "execution_count": null,
   "metadata": {
    "collapsed": false
   },
   "outputs": [],
   "source": [
    "eur_data[cost_cols].head(2000).plot(kind='area', figsize=(16,9))"
   ]
  },
  {
   "cell_type": "raw",
   "metadata": {
    "collapsed": false
   },
   "source": [
    "ax = eur_data.query(\"appliance=='Frigorifico'\").plot(x='hours', y='eur', \n",
    "                                                     #kind='area', \n",
    "                                                     figsize=(16,9), \n",
    "                                                     alpha=0.5,\n",
    "                                                     legend=None, \n",
    "                                                     color='red')\n",
    "eur_data.query(\"appliance=='Calefacción'\").plot(x='hours', y='eur',\n",
    "                                                     ax=ax,\n",
    "                                                     #kind='area', \n",
    "                                                     figsize=(16,9), \n",
    "                                                     alpha=0.5,\n",
    "                                                     legend=None, \n",
    "                                                     color='blue')\n",
    "eur_data.query(\"appliance=='Lavadora'\").plot(x='hours', y='eur',\n",
    "                                                     ax=ax,\n",
    "                                                     #kind='area', \n",
    "                                                     alpha=0.5, \n",
    "                                                     legend=None, \n",
    "                                                     color='green')\n",
    "#eur_data.query(\"appliance=='Tostadora'\").plot(x='hours', y='eur',\n",
    "#                                                     ax=ax,\n",
    "#                                                     #kind='area', \n",
    "#                                                     figsize=(16,9), \n",
    "#                                                     legend=None, \n",
    "#                                                     color='yellow')\n",
    "ax.set_xlabel('h')\n",
    "ax.set_ylabel('eur')"
   ]
  },
  {
   "cell_type": "code",
   "execution_count": 53,
   "metadata": {
    "collapsed": false
   },
   "outputs": [
    {
     "data": {
      "text/plain": [
       "'0.15.2'"
      ]
     },
     "execution_count": 53,
     "metadata": {},
     "output_type": "execute_result"
    }
   ],
   "source": [
    "pandas.version.version"
   ]
  },
  {
   "cell_type": "code",
   "execution_count": 54,
   "metadata": {
    "collapsed": false
   },
   "outputs": [
    {
     "data": {
      "text/plain": [
       "(6824, 7)"
      ]
     },
     "execution_count": 54,
     "metadata": {},
     "output_type": "execute_result"
    }
   ],
   "source": [
    "data.shape"
   ]
  },
  {
   "cell_type": "code",
   "execution_count": 55,
   "metadata": {
    "collapsed": true
   },
   "outputs": [],
   "source": [
    "eur_data[cost_cols].replace('nan', 0.0).to_csv('consumos3n.csv')"
   ]
  },
  {
   "cell_type": "code",
   "execution_count": null,
   "metadata": {
    "collapsed": true
   },
   "outputs": [],
   "source": []
  }
 ],
 "metadata": {
  "kernelspec": {
   "display_name": "Python 2",
   "language": "python",
   "name": "python2"
  },
  "language_info": {
   "codemirror_mode": {
    "name": "ipython",
    "version": 2
   },
   "file_extension": ".py",
   "mimetype": "text/x-python",
   "name": "python",
   "nbconvert_exporter": "python",
   "pygments_lexer": "ipython2",
   "version": "2.7.6"
  }
 },
 "nbformat": 4,
 "nbformat_minor": 0
}
