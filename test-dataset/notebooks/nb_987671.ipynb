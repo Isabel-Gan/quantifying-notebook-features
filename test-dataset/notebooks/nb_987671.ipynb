{
 "cells": [
  {
   "cell_type": "markdown",
   "metadata": {},
   "source": [
    "<img src=\"http://oproject.org/tiki-download_file.php?fileId=8&display&x=450&y=128\" width=\"200\" height=\"200\">\n",
    "<img src=\"http://gfif.udea.edu.co/root/tmva/img/tmva_logo.gif\" width=\"200\" height=\"200\">\n",
    "\n",
    "# Autoencoder Variable Transformation\n",
    "<hr style=\"border-top-width: 4px; border-top-color: #34609b;\"> "
   ]
  },
  {
   "cell_type": "markdown",
   "metadata": {},
   "source": [
    "### Initialize DataLoader and Factory "
   ]
  },
  {
   "cell_type": "code",
   "execution_count": null,
   "metadata": {
    "collapsed": true
   },
   "outputs": [],
   "source": [
    "TMVA::Tools::Instance();\n",
    "TFile *inputFile = TFile::Open( \"../datasets/mydataset.root\"); \n",
    "TFile* outputFile = TFile::Open( \"mydataset_output.root\", \"RECREATE\" );\n",
    "TMVA::Factory *factory = new TMVA::Factory(\"TMVARegression\", outputFile, \n",
    "                                           \"!V:!Silent:Color:DrawProgressBar:AnalysisType=Regression\" );\n",
    "TMVA::DataLoader *loader=new TMVA::DataLoader(\"mydataset\");"
   ]
  },
  {
   "cell_type": "markdown",
   "metadata": {},
   "source": [
    "### Setup DataLoader"
   ]
  },
  {
   "cell_type": "code",
   "execution_count": null,
   "metadata": {
    "collapsed": true
   },
   "outputs": [],
   "source": [
    "loader->AddVariable( \"var1\", 'F' );\n",
    "loader->AddVariable( \"var2\", \"Variable 2\", \"\", 'F' );\n",
    "loader->AddVariable( \"var3\", \"Variable 3\", \"units\", 'F' );\n",
    "loader->AddVariable( \"var4\", \"Variable 4\", \"units\", 'F' );\n",
    "TString fname = \"../datasets/tmva_example_multiple_background.root\";\n",
    "input = TFile::Open( fname );\n",
    "TTree *signal      = (TTree*)input->Get(\"TreeS\");\n",
    "TTree *background0 = (TTree*)input->Get(\"TreeB0\");\n",
    "TTree *background1 = (TTree*)input->Get(\"TreeB1\");\n",
    "TTree *background2 = (TTree*)input->Get(\"TreeB2\");\n",
    "loader->AddTree(signal,\"Signal\");\n",
    "loader->AddTree(background0,\"bg0\");\n",
    "loader->AddTree(background1,\"bg1\");\n",
    "loader->AddTree(background2,\"bg2\");\n",
    "loader->PrepareTrainingAndTestTree( \"\", \"SplitMode=Random:NormMode=NumEvents:!V\" );"
   ]
  },
  {
   "cell_type": "markdown",
   "metadata": {},
   "source": [
    "### Get DataSet Info"
   ]
  },
  {
   "cell_type": "code",
   "execution_count": null,
   "metadata": {
    "collapsed": true
   },
   "outputs": [],
   "source": [
    "loader->CalcNorm()"
   ]
  },
  {
   "cell_type": "markdown",
   "metadata": {},
   "source": [
    "### Setup Deep Neural Network"
   ]
  },
  {
   "cell_type": "code",
   "execution_count": null,
   "metadata": {
    "collapsed": true
   },
   "outputs": [],
   "source": [
    "TString layoutString (\"Layout=TANH|3,LINEAR\");\n",
    "TString training0 (\"LearningRate=1e-1,Momentum=0.0,Repetitions=1,ConvergenceSteps=300,BatchSize=20,TestRepetitions=15,WeightDecay=0.001,Regularization=NONE,DropConfig=0.0+0.5+0.5+0.5,DropRepetitions=1,Multithreading=True\");\n",
    "TString training1 (\"LearningRate=1e-2,Momentum=0.5,Repetitions=1,ConvergenceSteps=300,BatchSize=30,TestRepetitions=7,WeightDecay=0.001,Regularization=L2,Multithreading=True,DropConfig=0.0+0.1+0.1+0.1,DropRepetitions=1\");\n",
    "// TString training2 (\"LearningRate=1e-2,Momentum=0.3,Repetitions=1,ConvergenceSteps=300,BatchSize=40,TestRepetitions=7,WeightDecay=0.0001,Regularization=L2,Multithreading=True\");\n",
    "// TString training3 (\"LearningRate=1e-3,Momentum=0.1,Repetitions=1,ConvergenceSteps=200,BatchSize=70,TestRepetitions=7,WeightDecay=0.0001,Regularization=NONE,Multithreading=True\");\n",
    "\n",
    "// TString training0 (\"LearningRate=1e-5,Momentum=0.5,Repetitions=1,ConvergenceSteps=500,BatchSize=50,TestRepetitions=7,WeightDecay=0.01,Regularization=NONE,DropConfig=0.5+0.5+0.5+0.5,DropRepetitions=2,Multithreading=True\");\n",
    "// TString training1 (\"LearningRate=1e-5,Momentum=0.9,Repetitions=1,ConvergenceSteps=170,BatchSize=30,TestRepetitions=7,WeightDecay=0.01,Regularization=L2,DropConfig=0.1+0.1+0.1,DropRepetitions=1,Multithreading=True\");\n",
    "// TString training2 (\"LearningRate=1e-5,Momentum=0.3,Repetitions=1,ConvergenceSteps=150,BatchSize=40,TestRepetitions=7,WeightDecay=0.01,Regularization=NONE,Multithreading=True\");\n",
    "// TString training3 (\"LearningRate=1e-6,Momentum=0.1,Repetitions=1,ConvergenceSteps=500,BatchSize=100,TestRepetitions=7,WeightDecay=0.0001,Regularization=NONE,Multithreading=True\");\n",
    "\n",
    "TString trainingStrategyString (\"TrainingStrategy=\");\n",
    "// trainingStrategyString += training0 + \"|\" + training1 + \"|\" + training2 + \"|\" + training3;\n",
    "trainingStrategyString += training0 + \"|\" + training1;\n",
    "TString nnOptions (\"AE(indexLayer=1;pretraining=false;!H:V:ErrorStrategy=SUMOFSQUARES:VarTransform=G:WeightInitialization=XAVIERUNIFORM\");\n",
    "nnOptions.Append (\":\");\n",
    "nnOptions.Append (layoutString);\n",
    "nnOptions.Append (\":\");\n",
    "nnOptions.Append (trainingStrategyString);\n",
    "nnOptions.Append (\")\");"
   ]
  },
  {
   "cell_type": "code",
   "execution_count": null,
   "metadata": {
    "collapsed": true
   },
   "outputs": [],
   "source": [
    "cout << nnOptions.Data() << endl;"
   ]
  },
  {
   "cell_type": "markdown",
   "metadata": {},
   "source": [
    "### Autoencoder Transform"
   ]
  },
  {
   "cell_type": "code",
   "execution_count": null,
   "metadata": {
    "collapsed": true
   },
   "outputs": [],
   "source": [
    "TMVA::DataLoader* newloader = loader->VarTransform(nnOptions);"
   ]
  }
 ],
 "metadata": {
  "kernelspec": {
   "display_name": "ROOT C++",
   "language": "c++",
   "name": "root"
  },
  "language_info": {
   "codemirror_mode": "text/x-c++src",
   "file_extension": ".C",
   "mimetype": " text/x-c++src",
   "name": "c++"
  }
 },
 "nbformat": 4,
 "nbformat_minor": 0
}
