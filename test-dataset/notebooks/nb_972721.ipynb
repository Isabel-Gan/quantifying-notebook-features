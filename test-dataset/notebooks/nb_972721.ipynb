{
 "cells": [
  {
   "cell_type": "code",
   "execution_count": 1,
   "metadata": {
    "autoscroll": "json-false",
    "collapsed": false,
    "deletable": true,
    "editable": true,
    "ein.tags": [
     "worksheet-0"
    ]
   },
   "outputs": [],
   "source": [
    "%matplotlib inline\n",
    "%load_ext autoreload\n",
    "%autoreload 2"
   ]
  },
  {
   "cell_type": "code",
   "execution_count": 2,
   "metadata": {
    "autoscroll": "json-false",
    "collapsed": false,
    "deletable": true,
    "editable": true,
    "ein.tags": [
     "worksheet-0"
    ]
   },
   "outputs": [],
   "source": [
    "import numpy as np\n",
    "import cvxpy as cvx\n",
    "from model.distrs import StudentTDistribution as TDistribution, NormalDistribution,DiscreteDistribution\n",
    "from model.distrs import E,Var,Std\n",
    "from model.math_ops import D\n",
    "import model.synth_data as synth\n",
    "import model.utility as ut\n",
    "import model.problem as pr\n",
    "from helper.stats import five_stats"
   ]
  },
  {
   "cell_type": "code",
   "execution_count": 3,
   "metadata": {
    "autoscroll": "json-false",
    "collapsed": false,
    "deletable": true,
    "editable": true,
    "ein.tags": [
     "worksheet-0"
    ]
   },
   "outputs": [],
   "source": [
    "import matplotlib as mpl\n",
    "import matplotlib.pyplot as plt\n",
    "mpl.rcParams['figure.figsize'] = (6,4)\n",
    "mpl.rcParams['font.size'] = 10\n",
    "mpl.rcParams['font.family'] = 'serif'\n",
    "mpl.rcParams['savefig.dpi'] = 100\n",
    "plt.rc('text',usetex=True)\n",
    "plt.rc('font',serif='times')\n"
   ]
  },
  {
   "cell_type": "code",
   "execution_count": 11,
   "metadata": {
    "autoscroll": "json-false",
    "collapsed": false,
    "deletable": true,
    "editable": true,
    "ein.tags": [
     "worksheet-0"
    ]
   },
   "outputs": [],
   "source": [
    "p_true = 80\n",
    "sz = np.arange(4,p_true+1)"
   ]
  },
  {
   "cell_type": "code",
   "execution_count": 12,
   "metadata": {
    "autoscroll": "json-false",
    "collapsed": false,
    "deletable": true,
    "editable": true,
    "ein.tags": [
     "worksheet-0"
    ]
   },
   "outputs": [],
   "source": [
    "# Experiment parameters.\n",
    "\n",
    "n_true = 50000\n",
    "n_experiments = 50\n",
    "λ = 3\n",
    "δ = 0.2\n",
    "\n",
    "r_threshold = 60\n",
    "β = 0.5\n",
    "u = ut.LinearPlateauUtility(β,r_threshold)"
   ]
  },
  {
   "cell_type": "code",
   "execution_count": 13,
   "metadata": {
    "autoscroll": "json-false",
    "collapsed": false,
    "deletable": true,
    "editable": true,
    "ein.tags": [
     "worksheet-0"
    ]
   },
   "outputs": [],
   "source": [
    "# True Market\n",
    "R_true = NormalDistribution(5,10)\n",
    "# X_true = [1/np.sqrt(2)*TDistribution(ν=4) for _ in range(p_true)]\n",
    "X_true = [NormalDistribution(0,1) for _ in range(p_true)]\n",
    "M_true = synth.GaussianMarket(X_true,R_true)\n",
    "\n",
    "# Discretized Market\n",
    "X,R = M_true.sample(n_true)\n",
    "\n",
    "# for i in range(n_true):\n",
    "#     new_Xi = X[i,:]\n",
    "#     for j in range(1,len(new_Xi)):\n",
    "#         s = np.random.randint(1,2001)\n",
    "#         if s == 2000:\n",
    "#             new_Xi[j] = 100\n",
    "#         if s == 1999:\n",
    "#             new_Xi[j] = -100\n",
    "#     X[i,:] = new_Xi\n",
    "\n",
    "M = synth.MarketDiscreteDistribution(X,R)"
   ]
  },
  {
   "cell_type": "code",
   "execution_count": 13,
   "metadata": {
    "autoscroll": "json-false",
    "collapsed": false,
    "deletable": true,
    "editable": true,
    "ein.tags": [
     "worksheet-0"
    ]
   },
   "outputs": [
    {
     "name": "stdout",
     "output_type": "stream",
     "text": [
      "100  -4.749e+00  -4.749e+00  +4e-07  1e-16  4e-11  1e-12  3e-12  0.9890  6e-01   1  0  0 |  0  0\n",
      "Maximum number of iterations reached, recovering best iterate (33) and stopping.\n",
      "\n",
      "Close to OPTIMAL (within feastol=7.2e-09, reltol=2.0e-08, abstol=9.5e-08).\n",
      "Runtime: 86.999687 seconds.\n",
      "\n",
      "98  -4.749e+00  -4.749e+00  +4e-07  1e-16  4e-11  1e-12  3e-12  0.9890  6e-01   1  0  0 |  0  0\n",
      "99  -4.749e+00  -4.749e+00  +5e-07  1e-16  5e-11  8e-13  4e-12  0.9890  6e-01   1  0  0 |  0  0\n",
      "96  -4.749e+00  -4.749e+00  +4e-07  1e-16  4e-11  1e-12  3e-12  0.9890  6e-01   1  0  0 |  0  0\n",
      "97  -4.749e+00  -4.749e+00  +5e-07  2e-16  5e-11  8e-13  4e-12  0.9890  6e-01   1  0  0 |  0  0\n",
      "94  -4.749e+00  -4.749e+00  +4e-07  1e-16  4e-11  1e-12  3e-12  0.9890  6e-01   1  0  0 |  0  0\n",
      "95  -4.749e+00  -4.749e+00  +5e-07  2e-16  5e-11  8e-13  4e-12  0.9890  6e-01   1  0  0 |  0  0\n",
      "92  -4.749e+00  -4.749e+00  +4e-07  1e-16  4e-11  1e-12  3e-12  0.9890  6e-01   1  0  0 |  0  0\n",
      "93  -4.749e+00  -4.749e+00  +5e-07  2e-16  5e-11  8e-13  4e-12  0.9890  6e-01   1  0  0 |  0  0\n",
      "90  -4.749e+00  -4.749e+00  +4e-07  1e-16  4e-11  1e-12  3e-12  0.9890  6e-01   1  0  0 |  0  0\n",
      "91  -4.749e+00  -4.749e+00  +5e-07  2e-16  5e-11  8e-13  4e-12  0.9890  6e-01   1  0  0 |  0  0\n",
      "88  -4.749e+00  -4.749e+00  +4e-07  1e-16  4e-11  1e-12  3e-12  0.9890  6e-01   1  0  0 |  0  0\n",
      "89  -4.749e+00  -4.749e+00  +6e-07  2e-16  5e-11  8e-13  4e-12  0.9890  6e-01   1  0  0 |  0  0\n",
      "86  -4.749e+00  -4.749e+00  +4e-07  1e-16  4e-11  1e-12  3e-12  0.9890  6e-01   1  0  0 |  0  0\n",
      "87  -4.749e+00  -4.749e+00  +5e-07  2e-16  5e-11  8e-13  4e-12  0.9890  6e-01   1  0  0 |  0  0\n",
      "84  -4.749e+00  -4.749e+00  +4e-07  1e-16  4e-11  1e-12  3e-12  0.9890  6e-01   1  0  0 |  0  0\n",
      "85  -4.749e+00  -4.749e+00  +6e-07  2e-16  5e-11  8e-13  4e-12  0.9890  6e-01   1  0  0 |  0  0\n",
      "82  -4.749e+00  -4.749e+00  +4e-07  1e-16  4e-11  1e-12  3e-12  0.9890  6e-01   1  0  0 |  0  0\n",
      "83  -4.749e+00  -4.749e+00  +5e-07  1e-16  5e-11  8e-13  4e-12  0.9890  6e-01   1  0  0 |  0  0\n",
      "80  -4.749e+00  -4.749e+00  +4e-07  1e-16  4e-11  1e-12  3e-12  0.9890  6e-01   1  0  0 |  0  0\n",
      "81  -4.749e+00  -4.749e+00  +6e-07  2e-16  5e-11  8e-13  4e-12  0.9890  6e-01   1  0  0 |  0  0\n",
      "78  -4.749e+00  -4.749e+00  +4e-07  1e-16  4e-11  1e-12  3e-12  0.9890  6e-01   1  0  0 |  0  0\n",
      "79  -4.749e+00  -4.749e+00  +5e-07  2e-16  5e-11  8e-13  4e-12  0.9890  6e-01   1  0  0 |  0  0\n",
      "76  -4.749e+00  -4.749e+00  +4e-07  1e-16  4e-11  1e-12  3e-12  0.9890  6e-01   1  0  0 |  0  0\n",
      "77  -4.749e+00  -4.749e+00  +6e-07  2e-16  5e-11  8e-13  4e-12  0.9890  6e-01   1  0  0 |  0  0\n",
      "74  -4.749e+00  -4.749e+00  +4e-07  1e-16  4e-11  1e-12  3e-12  0.9890  6e-01   1  0  0 |  0  0\n",
      "75  -4.749e+00  -4.749e+00  +5e-07  1e-16  5e-11  8e-13  4e-12  0.9890  6e-01   1  0  0 |  0  0\n",
      "72  -4.749e+00  -4.749e+00  +4e-07  1e-16  4e-11  1e-12  3e-12  0.9890  6e-01   1  0  0 |  0  0\n",
      "73  -4.749e+00  -4.749e+00  +6e-07  2e-16  5e-11  8e-13  4e-12  0.9890  6e-01   1  0  0 |  0  0\n",
      "70  -4.749e+00  -4.749e+00  +4e-07  1e-16  4e-11  1e-12  3e-12  0.9890  6e-01   1  0  0 |  0  0\n",
      "71  -4.749e+00  -4.749e+00  +5e-07  2e-16  5e-11  8e-13  4e-12  0.9890  6e-01   1  0  0 |  0  0\n",
      "68  -4.749e+00  -4.749e+00  +4e-07  1e-16  4e-11  1e-12  3e-12  0.9890  6e-01   1  0  0 |  0  0\n",
      "69  -4.749e+00  -4.749e+00  +6e-07  2e-16  5e-11  8e-13  4e-12  0.9890  6e-01   1  0  0 |  0  0\n",
      "66  -4.749e+00  -4.749e+00  +4e-07  1e-16  4e-11  1e-12  3e-12  0.9890  6e-01   1  0  0 |  0  0\n",
      "67  -4.749e+00  -4.749e+00  +5e-07  1e-16  5e-11  8e-13  4e-12  0.9890  6e-01   1  0  0 |  0  0\n",
      "64  -4.749e+00  -4.749e+00  +4e-07  1e-16  4e-11  1e-12  3e-12  0.9890  6e-01   1  0  0 |  0  0\n",
      "65  -4.749e+00  -4.749e+00  +6e-07  2e-16  5e-11  8e-13  4e-12  0.9890  6e-01   1  0  0 |  0  0\n",
      "62  -4.749e+00  -4.749e+00  +4e-07  1e-16  4e-11  1e-12  3e-12  0.9890  7e-01   1  0  0 |  0  0\n",
      "63  -4.749e+00  -4.749e+00  +5e-07  1e-16  5e-11  8e-13  4e-12  0.9890  6e-01   1  0  0 |  0  0\n",
      "60  -4.749e+00  -4.749e+00  +4e-07  1e-16  4e-11  1e-12  3e-12  0.9890  6e-01   1  0  0 |  0  0\n",
      "61  -4.749e+00  -4.749e+00  +6e-07  2e-16  5e-11  8e-13  4e-12  0.9890  6e-01   1  0  0 |  0  0\n",
      "58  -4.749e+00  -4.749e+00  +4e-07  1e-16  4e-11  1e-12  3e-12  0.9890  7e-01   1  0  0 |  0  0\n",
      "59  -4.749e+00  -4.749e+00  +5e-07  1e-16  5e-11  8e-13  4e-12  0.9890  6e-01   1  0  0 |  0  0\n",
      "56  -4.749e+00  -4.749e+00  +4e-07  1e-16  4e-11  1e-12  3e-12  0.9890  6e-01   1  0  0 |  0  0\n",
      "57  -4.749e+00  -4.749e+00  +6e-07  2e-16  5e-11  8e-13  4e-12  0.9890  6e-01   1  0  0 |  0  0\n",
      "54  -4.749e+00  -4.749e+00  +4e-07  1e-16  4e-11  1e-12  3e-12  0.9890  7e-01   1  0  0 |  0  0\n",
      "55  -4.749e+00  -4.749e+00  +5e-07  1e-16  5e-11  8e-13  4e-12  0.9890  6e-01   1  0  0 |  0  0\n",
      "52  -4.749e+00  -4.749e+00  +4e-07  1e-16  5e-11  1e-12  3e-12  0.9890  6e-01   1  0  0 |  0  0\n",
      "53  -4.749e+00  -4.749e+00  +6e-07  2e-16  6e-11  8e-13  4e-12  0.9890  6e-01   1  0  0 |  0  0\n",
      "50  -4.749e+00  -4.749e+00  +4e-07  1e-16  1e-10  1e-12  3e-12  0.9890  7e-01   1  0  0 |  0  0\n",
      "51  -4.749e+00  -4.749e+00  +5e-07  2e-16  8e-11  8e-13  4e-12  0.9890  6e-01   1  0  0 |  0  0\n",
      "48  -4.749e+00  -4.749e+00  +4e-07  1e-16  3e-10  1e-12  3e-12  0.9890  6e-01   1  0  0 |  0  0\n",
      "49  -4.749e+00  -4.749e+00  +6e-07  2e-16  2e-10  8e-13  4e-12  0.9890  6e-01   1  0  0 |  0  0\n",
      "46  -4.749e+00  -4.749e+00  +4e-07  1e-16  7e-10  1e-12  3e-12  0.9890  7e-01   1  0  0 |  0  0\n",
      "47  -4.749e+00  -4.749e+00  +5e-07  2e-16  4e-10  8e-13  4e-12  0.9890  6e-01   1  0  0 |  0  0\n",
      "44  -4.749e+00  -4.749e+00  +4e-07  1e-16  1e-09  1e-12  3e-12  0.9890  7e-01   1  0  0 |  0  0\n",
      "45  -4.749e+00  -4.749e+00  +5e-07  2e-16  1e-09  8e-13  4e-12  0.9890  6e-01   1  0  0 |  0  0\n",
      "42  -4.749e+00  -4.749e+00  +4e-07  1e-16  3e-09  1e-12  3e-12  0.9890  7e-01   2  1  0 |  0  0\n",
      "43  -4.749e+00  -4.749e+00  +5e-07  2e-16  2e-09  8e-13  4e-12  0.9890  6e-01   1  0  0 |  0  0\n",
      "40  -4.749e+00  -4.749e+00  +4e-07  1e-16  5e-09  1e-12  3e-12  0.9890  7e-01   1  1  0 |  0  0\n",
      "41  -4.749e+00  -4.749e+00  +5e-07  1e-16  2e-09  9e-13  4e-12  0.9890  6e-01   1  0  0 |  0  0\n",
      "38  -4.749e+00  -4.749e+00  +4e-07  1e-16  5e-09  1e-12  3e-12  0.9890  8e-01   2  1  0 |  0  0\n",
      "39  -4.749e+00  -4.749e+00  +5e-07  2e-16  5e-09  9e-13  4e-12  0.9890  6e-01   2  1  0 |  0  0\n",
      "36  -4.749e+00  -4.749e+00  +4e-07  1e-16  7e-09  1e-12  3e-12  0.9890  3e-01   1  0  0 |  0  0\n",
      "37  -4.749e+00  -4.749e+00  +5e-07  1e-16  6e-09  8e-13  3e-12  0.9890  6e-01   2  1  0 |  0  0\n",
      "34  -4.749e+00  -4.749e+00  +2e-06  4e-16  8e-09  3e-13  1e-11  0.9890  9e-01   2  1  0 |  0  0\n",
      "35  -4.749e+00  -4.749e+00  +1e-06  3e-16  7e-09  4e-12  9e-12  0.9890  8e-01   2  1  0 |  0  0\n",
      "32  -4.749e+00  -4.749e+00  +4e-07  6e-16  6e-09  8e-13  3e-12  0.0695  1e+00   1  1  1 |  0  0\n",
      "33  -4.749e+00  -4.749e+00  +1e-07  1e-16  7e-09  2e-13  6e-13  0.9890  1e-01   2  1  1 |  0  0\n",
      "30  -4.749e+00  -4.749e+00  +6e-07  1e-15  9e-09  1e-12  4e-12  0.9890  7e-01   2  1  0 |  0  0\n",
      "31  -4.749e+00  -4.749e+00  +4e-07  5e-16  9e-09  8e-13  3e-12  0.9146  4e-01   2  1  1 |  0  0\n",
      "28  -4.749e+00  -4.749e+00  +5e-07  4e-15  9e-09  9e-13  3e-12  0.9890  6e-01   2  1  0 |  0  0\n",
      "29  -4.749e+00  -4.749e+00  +5e-07  2e-15  9e-09  8e-13  3e-12  0.9890  5e-01   2  1  1 |  0  0\n",
      "26  -4.749e+00  -4.749e+00  +5e-07  1e-14  1e-08  9e-13  3e-12  0.9890  7e-01   2  1  0 |  0  0\n",
      "27  -4.749e+00  -4.749e+00  +5e-07  6e-15  9e-09  8e-13  3e-12  0.9890  5e-01   2  1  1 |  0  0\n",
      "24  -4.749e+00  -4.749e+00  +5e-07  3e-14  1e-08  1e-12  3e-12  0.9890  4e-01   1  1  0 |  0  0\n",
      "25  -4.749e+00  -4.749e+00  +4e-07  2e-14  1e-08  9e-13  2e-12  0.9890  6e-01   1  1  1 |  0  0\n",
      "22  -4.749e+00  -4.749e+00  +6e-06  5e-13  4e-08  2e-11  4e-11  0.8302  4e-02   1  1  1 |  0  0\n",
      "23  -4.749e+00  -4.749e+00  +1e-06  7e-14  1e-08  3e-12  7e-12  0.9890  2e-01   1  1  1 |  0  0\n",
      "20  -4.749e+00  -4.749e+00  +2e-04  2e-11  1e-06  7e-10  1e-09  0.9890  4e-01   1  0  0 |  0  0\n",
      "21  -4.749e+00  -4.749e+00  +3e-05  2e-12  2e-07  1e-10  2e-10  0.9890  1e-01   1  0  0 |  0  0\n",
      "18  -4.748e+00  -4.749e+00  +2e-03  1e-10  1e-05  8e-09  1e-08  0.7424  9e-02   1  0  0 |  0  0\n",
      "19  -4.749e+00  -4.749e+00  +6e-04  4e-11  3e-06  2e-09  4e-09  0.7964  2e-01   1  0  0 |  0  0\n",
      "16  -4.746e+00  -4.752e+00  +2e-02  1e-09  9e-05  1e-07  1e-07  0.7763  2e-01   1  0  0 |  0  0\n",
      "17  -4.748e+00  -4.750e+00  +6e-03  4e-10  3e-05  2e-08  4e-08  0.8849  3e-01   1  0  0 |  0  0\n",
      "14  -4.739e+00  -4.760e+00  +6e-02  4e-09  3e-04  6e-07  4e-07  0.6930  1e-01   1  0  0 |  0  0\n",
      "15  -4.742e+00  -4.756e+00  +4e-02  3e-09  2e-04  4e-07  3e-07  0.4418  3e-01   1  0  0 |  0  0\n",
      "12  -4.700e+00  -4.810e+00  +3e-01  2e-08  2e-03  4e-06  2e-06  0.6064  8e-02   0  0  0 |  0  0\n",
      "13  -4.724e+00  -4.778e+00  +2e-01  1e-08  8e-04  2e-06  1e-06  0.5791  1e-01   0  0  0 |  0  0\n",
      "10  -4.519e+00  -5.058e+00  +2e+00  1e-07  8e-03  3e-05  1e-05  0.7929  4e-02   0  0  0 |  0  0\n",
      "11  -4.640e+00  -4.888e+00  +7e-01  5e-08  4e-03  1e-05  5e-06  0.6202  1e-01   0  0  0 |  0  0\n",
      " 8  -1.389e+00  -9.887e+00  +2e+01  2e-06  1e-01  5e-04  1e-04  0.7633  1e-01   0  0  0 |  0  0\n",
      " 9  -3.779e+00  -6.060e+00  +7e+00  5e-07  4e-02  1e-04  4e-05  0.8204  1e-01   0  0  0 |  0  0\n",
      " 6  +5.785e+01  -4.652e+02  +3e+02  1e-04  8e+00  3e-03  2e-03  0.9625  1e-04   0  0  0 |  0  0\n",
      " 7  +1.753e+01  -2.980e+01  +6e+01  1e-05  7e-01  8e-04  4e-04  0.8729  8e-02   0  0  0 |  0  0\n",
      " 4  +4.572e+01  -4.226e+05  +3e+05  1e-01  2e+02  6e+00  2e+00  0.7615  7e-02   1  1  1 |  0  0\n",
      " 5  +6.157e+01  -1.458e+04  +8e+03  4e-03  1e+02  3e-01  6e-02  0.9713  2e-03   1  1  1 |  0  0\n",
      " 2  -1.215e+01  -1.764e+06  +2e+06  5e-01  9e+01  8e+00  1e+01  0.3314  6e-01   1  1  1 |  0  0\n",
      " 3  +1.520e+01  -1.061e+06  +9e+05  3e-01  1e+02  8e+00  6e+00  0.6218  6e-02   2  0  1 |  0  0\n",
      "\n",
      "ECOS 2.0.4 - (C) embotech GmbH, Zurich Switzerland, 2012-15. Web: www.embotech.com/ECOS\n",
      "\n",
      "It     pcost       dcost      gap   pres   dres    k/t    mu     step   sigma     IR    |   BT\n",
      " 0  -1.908e+01  -1.500e+06  +3e+06  4e-01  6e+01  1e+00  2e+01    ---    ---    2  1  - |  -  - \n",
      " 1  -1.754e+01  -1.536e+06  +3e+06  4e-01  7e+01  2e+00  2e+01  0.1133  5e-01   1  1  0 |  0  0\n"
     ]
    }
   ],
   "source": [
    "# Real q∗ value computation\n",
    "p_star = pr.Problem(X,R,λ=0,u=u)\n",
    "p_star.solve()\n",
    "q_star = p_star.q"
   ]
  },
  {
   "cell_type": "code",
   "execution_count": 14,
   "metadata": {
    "autoscroll": "json-false",
    "collapsed": false,
    "deletable": true,
    "editable": true,
    "ein.tags": [
     "worksheet-0"
    ]
   },
   "outputs": [],
   "source": [
    "R_star_q_star = p_star.insample_cost(q_star)\n",
    "CE_star_q_star = p_star.insample_CE(q_star)"
   ]
  },
  {
   "cell_type": "code",
   "execution_count": 0,
   "metadata": {
    "autoscroll": "json-false",
    "collapsed": false,
    "deletable": true,
    "editable": true,
    "ein.tags": [
     "worksheet-0"
    ]
   },
   "outputs": [],
   "source": []
  },
  {
   "cell_type": "markdown",
   "metadata": {
    "deletable": true,
    "editable": true,
    "ein.tags": [
     "worksheet-1"
    ]
   },
   "source": [
    "## $p=O(1)$"
   ]
  },
  {
   "cell_type": "code",
   "execution_count": 66,
   "metadata": {
    "autoscroll": "json-false",
    "collapsed": true,
    "deletable": true,
    "editable": true,
    "ein.tags": [
     "worksheet-1"
    ]
   },
   "outputs": [
    {
     "data": {
      "text/plain": [
       "array([[ 40,  40],\n",
       "       [ 40,  50],\n",
       "       [ 40,  60],\n",
       "       [ 40,  70],\n",
       "       [ 40,  80],\n",
       "       [ 40,  90],\n",
       "       [ 40, 100],\n",
       "       [ 40, 110],\n",
       "       [ 40, 120],\n",
       "       [ 40, 130],\n",
       "       [ 40, 140],\n",
       "       [ 40, 150],\n",
       "       [ 40, 160],\n",
       "       [ 40, 170],\n",
       "       [ 40, 180],\n",
       "       [ 40, 190],\n",
       "       [ 40, 200],\n",
       "       [ 40, 210],\n",
       "       [ 40, 220],\n",
       "       [ 40, 230],\n",
       "       [ 40, 240],\n",
       "       [ 40, 250],\n",
       "       [ 40, 260],\n",
       "       [ 40, 270],\n",
       "       [ 40, 280],\n",
       "       [ 40, 290],\n",
       "       [ 40, 300],\n",
       "       [ 40, 310],\n",
       "       [ 40, 320],\n",
       "       [ 40, 330],\n",
       "       [ 40, 340],\n",
       "       [ 40, 350],\n",
       "       [ 40, 360],\n",
       "       [ 40, 370],\n",
       "       [ 40, 380],\n",
       "       [ 40, 390],\n",
       "       [ 40, 400]])"
      ]
     },
     "execution_count": 66,
     "metadata": {},
     "output_type": "execute_result"
    }
   ],
   "source": [
    "ns1 = sz*10\n",
    "ps1 = np.ones_like(sz)*p_true\n",
    "np.array([ps1,ns1]).T"
   ]
  },
  {
   "cell_type": "code",
   "execution_count": 0,
   "metadata": {
    "autoscroll": "json-false",
    "collapsed": true,
    "deletable": true,
    "editable": true,
    "ein.tags": [
     "worksheet-1"
    ]
   },
   "outputs": [
    {
     "name": "stdout",
     "output_type": "stream",
     "text": [
      "Sampling 50 problems of size 400 × 41\n",
      "Sampling 50 problems of size 390 × 41\n",
      "Sampling 50 problems of size 380 × 41\n",
      "Sampling 50 problems of size 370 × 41\n",
      "Sampling 50 problems of size 360 × 41\n",
      "Sampling 50 problems of size 350 × 41\n",
      "Sampling 50 problems of size 340 × 41\n",
      "Sampling 50 problems of size 330 × 41\n",
      "Sampling 50 problems of size 320 × 41\n",
      "Sampling 50 problems of size 310 × 41\n",
      "Sampling 50 problems of size 300 × 41\n",
      "Sampling 50 problems of size 290 × 41\n",
      "Sampling 50 problems of size 280 × 41\n",
      "Sampling 50 problems of size 270 × 41\n",
      "Sampling 50 problems of size 260 × 41\n",
      "Sampling 50 problems of size 250 × 41\n",
      "Sampling 50 problems of size 240 × 41\n",
      "Sampling 50 problems of size 230 × 41\n",
      "Sampling 50 problems of size 220 × 41\n",
      "Sampling 50 problems of size 210 × 41\n",
      "Sampling 50 problems of size 200 × 41\n",
      "Sampling 50 problems of size 190 × 41\n",
      "Sampling 50 problems of size 180 × 41\n",
      "Sampling 50 problems of size 170 × 41\n",
      "Sampling 50 problems of size 160 × 41\n",
      "Sampling 50 problems of size 150 × 41\n",
      "Sampling 50 problems of size 140 × 41\n",
      "Sampling 50 problems of size 130 × 41\n",
      "Sampling 50 problems of size 120 × 41\n",
      "Sampling 50 problems of size 110 × 41\n",
      "Sampling 50 problems of size 100 × 41\n",
      "Sampling 50 problems of size 90 × 41\n",
      "Sampling 50 problems of size 80 × 41\n",
      "Sampling 50 problems of size 70 × 41\n",
      "Sampling 50 problems of size 60 × 41\n",
      "Sampling 50 problems of size 50 × 41\n",
      "Sampling 50 problems of size 40 × 41\n"
     ]
    }
   ],
   "source": [
    "qs1 = np.zeros(shape=(len(ns1),p_true+1,n_experiments))\n",
    "CEs_ins1 = np.empty(shape=(len(ns1),n_experiments))\n",
    "CEs_oos1 = np.empty(shape=(len(ns1),n_experiments))\n",
    "\n",
    "for i,(n,p) in enumerate(zip(ns1,ps1)):\n",
    "    print('Sampling %d problems of size %d × %d' % (n_experiments,n,p+1))\n",
    "    prs = pr.ProblemsDistribution(M,n,λ,u,Rf=0,problem_t=pr.MaskedProblem)\n",
    "    prs.sample(n_experiments,{'fs':range(p+1)},par=True)\n",
    "    qs1[i,:p+1,:] = prs.qs.T\n",
    "    CEs_ins1[i,:] = prs.CEs_ins\n",
    "    CEs_oos1[i,:] = prs.CEs_oos"
   ]
  },
  {
   "cell_type": "code",
   "execution_count": 16,
   "metadata": {
    "autoscroll": "json-false",
    "collapsed": false,
    "deletable": true,
    "editable": true,
    "ein.tags": [
     "worksheet-1"
    ]
   },
   "outputs": [],
   "source": [
    "γ = u.γ\n",
    "r_bar = max(R)\n",
    "ξ = np.max(np.linalg.norm(X,axis=1))\n",
    "δ = 0.1\n",
    "norm_qstar = np.linalg.norm(q_star)\n",
    "Ω = γ*r_bar**2*ξ**2/λ * (γ/(2*ns1) + (1+γ)*np.sqrt(np.log(1/δ))/np.sqrt(2*ns1))\n",
    "ω = -λ*norm_qstar**2 - 8*γ**2*ξ**2*(32+np.log(1/δ))/(ns1*λ) - 2*γ*r_bar*ξ**2/λ * np.sqrt((32+np.log(1/δ))/ns1)"
   ]
  },
  {
   "cell_type": "code",
   "execution_count": 21,
   "metadata": {
    "autoscroll": "json-false",
    "collapsed": false,
    "deletable": true,
    "editable": true,
    "ein.tags": [
     "worksheet-1"
    ]
   },
   "outputs": [],
   "source": [
    "error_CE1 = CEs_oos1-CEs_ins1\n",
    "center_CE1 = np.median(error_CE1,axis=1)\n",
    "bottom_CE1 = np.percentile(error_CE1,10,axis=1)-center_CE1\n",
    "top_CE1 = -np.percentile(error_CE1,90,axis=1)+center_CE1\n",
    "\n",
    "error_bound1 = -(Ω/(D(u)(CEs_ins1)).T).T # double transpose is for broadcastigne\n",
    "center_bound1 = np.median(error_bound1,axis=1)\n",
    "bottom_bound1 = np.percentile(error_bound1,10,axis=1)-center_bound1\n",
    "top_bound1 = -np.percentile(error_bound1,90,axis=1)+center_bound1\n",
    "\n",
    "for i in range(len(top_CE1)):\n",
    "    if (i+1)%3 != 0:\n",
    "        bottom_CE1[i] = np.nan\n",
    "        top_CE1[i] = np.nan\n",
    "        bottom_bound1[i] = np.nan\n",
    "        top_bound1[i] = np.nan"
   ]
  },
  {
   "cell_type": "code",
   "execution_count": 67,
   "metadata": {
    "autoscroll": "json-false",
    "collapsed": false,
    "deletable": true,
    "editable": true,
    "ein.tags": [
     "worksheet-1"
    ]
   },
   "outputs": [
    {
     "data": {
      "image/png": "[encoded data removed]",
      "text/plain": [
       "<matplotlib.figure.Figure at 0x10be7a198>"
      ]
     },
     "metadata": {},
     "output_type": "display_data"
    }
   ],
   "source": [
    "fig1_oos = plt.figure()\n",
    "ax11_oos = fig1_oos.add_subplot(111)\n",
    "ax21_oos = ax11_oos.twinx()\n",
    "\n",
    "ax11_oos.errorbar(ns1,center_CE1,yerr=[top_CE1,bottom_CE1],color='b')\n",
    "ax11_oos.axis(xmin=min(ns1))\n",
    "ax11_oos.set_xlabel('$n\\,\\,(p=40)$')\n",
    "ax11_oos.set_ylabel('Returns (\\%)');\n",
    "for t in ax11_oos.get_yticklabels():\n",
    "    t.set_color('b')\n",
    "\n",
    "ax21_oos.errorbar(ns1,center_bound1,yerr=[top_bound1,bottom_bound1],color='r')\n",
    "ax21_oos.axis(xmin=min(ns1),ymax=0,ymin=-1000000)\n",
    "for t in ax21_oos.get_yticklabels():\n",
    "    t.set_color('r')\n",
    "\n",
    "ax11_oos.set_title('Out-of-sample deviation with $p=O(1)$');"
   ]
  },
  {
   "cell_type": "code",
   "execution_count": 68,
   "metadata": {
    "autoscroll": "json-false",
    "collapsed": false,
    "deletable": true,
    "editable": true,
    "ein.tags": [
     "worksheet-1"
    ]
   },
   "outputs": [],
   "source": [
    "error_CE1sub = CE_star_q_star - CEs_oos1\n",
    "center_CE1sub = np.median(error_CE1sub,axis=1)\n",
    "bottom_CE1sub = np.percentile(error_CE1sub,10,axis=1)-center_CE1sub\n",
    "top_CE1sub = -np.percentile(error_CE1sub,90,axis=1)+center_CE1sub\n",
    "\n",
    "error_bound1sub = -(ω/(D(u)(CEs_oos1)).T).T\n",
    "center_bound1sub = np.median(error_bound1sub,axis=1)\n",
    "bottom_bound1sub = np.percentile(error_bound1sub,10,axis=1)-center_bound1sub\n",
    "top_bound1sub = -np.percentile(error_bound1sub,90,axis=1)+center_bound1sub\n",
    "\n",
    "for i in range(len(top_CE1sub)):\n",
    "    if (i+1)%3 != 0:\n",
    "        bottom_CE1sub[i] = np.nan\n",
    "        top_CE1sub[i] = np.nan\n",
    "        bottom_bound1sub[i] = np.nan\n",
    "        top_bound1sub[i] = np.nan"
   ]
  },
  {
   "cell_type": "code",
   "execution_count": 70,
   "metadata": {
    "autoscroll": "json-false",
    "collapsed": false,
    "deletable": true,
    "editable": true,
    "ein.tags": [
     "worksheet-1"
    ]
   },
   "outputs": [
    {
     "data": {
      "image/png": "[encoded data removed]",
      "text/plain": [
       "<matplotlib.figure.Figure at 0x10be98748>"
      ]
     },
     "metadata": {},
     "output_type": "display_data"
    }
   ],
   "source": [
    "fig1_sub = plt.figure()\n",
    "ax11_sub = fig1_sub.add_subplot(111)\n",
    "ax21_sub = ax11_sub.twinx()\n",
    "\n",
    "ax11_sub.errorbar(ns1,center_CE1sub,yerr=[top_CE1sub,bottom_CE1sub])\n",
    "ax11_sub.axis(xmin=min(ns1))\n",
    "ax11_sub.set_xlabel('$n\\,\\,(p=40)$')\n",
    "ax11_sub.set_ylabel('Returns (\\%)');\n",
    "# ax11_sub.axis(ymax=7)\n",
    "for t in ax11_sub.get_yticklabels():\n",
    "    t.set_color('b')\n",
    "\n",
    "\n",
    "ax21_sub.errorbar(ns1,center_bound1sub,yerr=[top_bound1sub,bottom_bound1sub],color='r')\n",
    "# ax21_sub.axis(xmin=min(ns1),ymin=0,ymax=150000)\n",
    "for t in ax21_sub.get_yticklabels():\n",
    "    t.set_color('r')  \n",
    "\n",
    "ax11_sub.set_title('Suboptimality deviation with $p=O(1)$');"
   ]
  },
  {
   "cell_type": "code",
   "execution_count": 71,
   "metadata": {
    "autoscroll": "json-false",
    "collapsed": false,
    "deletable": true,
    "editable": true,
    "ein.tags": [
     "worksheet-1"
    ]
   },
   "outputs": [
    {
     "data": {
      "text/plain": [
       "array([40, 40, 40, 40, 40, 40, 40, 40, 40, 40, 40, 40, 40, 40, 40, 40, 40,\n",
       "       40, 40, 40, 40, 40, 40, 40, 40, 40, 40, 40, 40, 40, 40, 40, 40, 40,\n",
       "       40, 40, 40])"
      ]
     },
     "execution_count": 71,
     "metadata": {},
     "output_type": "execute_result"
    }
   ],
   "source": [
    "ps1"
   ]
  },
  {
   "cell_type": "code",
   "execution_count": 0,
   "metadata": {
    "autoscroll": "json-false",
    "collapsed": false,
    "deletable": true,
    "editable": true,
    "ein.tags": [
     "worksheet-1"
    ]
   },
   "outputs": [],
   "source": []
  },
  {
   "cell_type": "markdown",
   "metadata": {
    "deletable": true,
    "editable": true,
    "ein.tags": [
     "worksheet-2"
    ]
   },
   "source": [
    "## $p=O(\\sqrt{n})$"
   ]
  },
  {
   "cell_type": "code",
   "execution_count": 104,
   "metadata": {
    "autoscroll": "json-false",
    "collapsed": false,
    "deletable": true,
    "editable": true,
    "ein.tags": [
     "worksheet-2"
    ]
   },
   "outputs": [
    {
     "data": {
      "text/plain": [
       "array([[   4.,    1.],\n",
       "       [   5.,    2.],\n",
       "       [   6.,    3.],\n",
       "       [   7.,    4.],\n",
       "       [   8.,    6.],\n",
       "       [   9.,    8.],\n",
       "       [  10.,   10.],\n",
       "       [  11.,   12.],\n",
       "       [  12.,   14.],\n",
       "       [  13.,   16.],\n",
       "       [  14.,   19.],\n",
       "       [  15.,   22.],\n",
       "       [  16.,   25.],\n",
       "       [  17.,   28.],\n",
       "       [  18.,   32.],\n",
       "       [  19.,   36.],\n",
       "       [  20.,   40.],\n",
       "       [  21.,   44.],\n",
       "       [  22.,   48.],\n",
       "       [  23.,   52.],\n",
       "       [  24.,   57.],\n",
       "       [  25.,   62.],\n",
       "       [  26.,   67.],\n",
       "       [  27.,   72.],\n",
       "       [  28.,   78.],\n",
       "       [  29.,   84.],\n",
       "       [  30.,   90.],\n",
       "       [  31.,   96.],\n",
       "       [  32.,  102.],\n",
       "       [  33.,  108.],\n",
       "       [  34.,  115.],\n",
       "       [  35.,  122.],\n",
       "       [  36.,  129.],\n",
       "       [  37.,  136.],\n",
       "       [  38.,  144.],\n",
       "       [  39.,  152.],\n",
       "       [  40.,  160.]])"
      ]
     },
     "execution_count": 104,
     "metadata": {},
     "output_type": "execute_result"
    }
   ],
   "source": [
    "ps2 = sz\n",
    "ns2 = np.floor(0.1*ps2**2)\n",
    "np.array([ps2,ns2]).T"
   ]
  },
  {
   "cell_type": "code",
   "execution_count": 105,
   "metadata": {
    "autoscroll": "json-false",
    "collapsed": false,
    "deletable": true,
    "editable": true,
    "ein.tags": [
     "worksheet-2"
    ]
   },
   "outputs": [
    {
     "name": "stdout",
     "output_type": "stream",
     "text": [
      "Sampling 100 problems of size 160 × 41\n",
      "Sampling 100 problems of size 152 × 40\n",
      "Sampling 100 problems of size 144 × 39\n",
      "Sampling 100 problems of size 136 × 38\n",
      "Sampling 100 problems of size 129 × 37\n",
      "Sampling 100 problems of size 122 × 36\n",
      "Sampling 100 problems of size 115 × 35\n",
      "Sampling 100 problems of size 108 × 34\n",
      "Sampling 100 problems of size 102 × 33\n",
      "Sampling 100 problems of size 96 × 32\n",
      "Sampling 100 problems of size 90 × 31\n",
      "Sampling 100 problems of size 84 × 30\n",
      "Sampling 100 problems of size 78 × 29\n",
      "Sampling 100 problems of size 72 × 28\n",
      "Sampling 100 problems of size 67 × 27\n",
      "Sampling 100 problems of size 62 × 26\n",
      "Sampling 100 problems of size 57 × 25\n",
      "Sampling 100 problems of size 52 × 24\n",
      "Sampling 100 problems of size 48 × 23\n",
      "Sampling 100 problems of size 44 × 22\n",
      "Sampling 100 problems of size 40 × 21\n",
      "Sampling 100 problems of size 36 × 20\n",
      "Sampling 100 problems of size 32 × 19\n",
      "Sampling 100 problems of size 28 × 18\n",
      "Sampling 100 problems of size 25 × 17\n",
      "Sampling 100 problems of size 22 × 16\n",
      "Sampling 100 problems of size 19 × 15\n",
      "Sampling 100 problems of size 16 × 14\n",
      "Sampling 100 problems of size 14 × 13\n",
      "Sampling 100 problems of size 12 × 12\n",
      "Sampling 100 problems of size 10 × 11\n",
      "Sampling 100 problems of size 8 × 10\n",
      "Sampling 100 problems of size 6 × 9\n",
      "Sampling 100 problems of size 4 × 8\n",
      "Sampling 100 problems of size 3 × 7\n",
      "Sampling 100 problems of size 2 × 6\n",
      "Sampling 100 problems of size 1 × 5\n"
     ]
    }
   ],
   "source": [
    "n_experiments = 100\n",
    "\n",
    "qs2 = np.zeros(shape=(len(ns2),p_true+1,n_experiments))\n",
    "CEs_ins2 = np.empty(shape=(len(ns2),n_experiments))\n",
    "CEs_oos2 = np.empty(shape=(len(ns2),n_experiments))\n",
    "\n",
    "for i,(n,p) in enumerate(zip(ns2,ps2)):\n",
    "    print('Sampling %d problems of size %d × %d' % (n_experiments,n,p+1))\n",
    "    prs = pr.ProblemsDistribution(M,n,λ,u,Rf=0,problem_t=pr.MaskedProblem)\n",
    "    prs.sample(n_experiments,{'fs':range(p+1)},par=True)\n",
    "    qs2[i,:p+1,:] = prs.qs.T\n",
    "    CEs_ins2[i,:] = prs.CEs_ins\n",
    "    CEs_oos2[i,:] = prs.CEs_oos"
   ]
  },
  {
   "cell_type": "code",
   "execution_count": 106,
   "metadata": {
    "autoscroll": "json-false",
    "collapsed": false,
    "deletable": true,
    "editable": true,
    "ein.tags": [
     "worksheet-2"
    ]
   },
   "outputs": [],
   "source": [
    "error_CE2 = CEs_oos2-CEs_ins2\n",
    "center_CE2 = np.median(error_CE2,axis=1)\n",
    "bottom_CE2 = np.percentile(error_CE2,10,axis=1)-center_CE2\n",
    "top_CE2 = -np.percentile(error_CE2,90,axis=1)+center_CE2\n",
    "\n",
    "error_bound2 = -(Ω/(D(u)(CEs_ins2)).T).T # double transpose is for broadcastigne\n",
    "center_bound2 = np.median(error_bound2,axis=1)\n",
    "bottom_bound2 = np.percentile(error_bound2,10,axis=1)-center_bound2\n",
    "top_bound2 = -np.percentile(error_bound2,90,axis=1)+center_bound2\n",
    "\n",
    "for i in range(len(top_CE2)):\n",
    "    if (i+1)%3 != 0:\n",
    "        bottom_CE2[i] = np.nan\n",
    "        top_CE2[i] = np.nan\n",
    "        bottom_bound2[i] = np.nan\n",
    "        top_bound2[i] = np.nan"
   ]
  },
  {
   "cell_type": "code",
   "execution_count": 197,
   "metadata": {
    "autoscroll": "json-false",
    "collapsed": false,
    "deletable": true,
    "editable": true,
    "ein.tags": [
     "worksheet-2"
    ]
   },
   "outputs": [
    {
     "data": {
      "image/png": "[encoded data removed]",
      "text/plain": [
       "<matplotlib.figure.Figure at 0x108849cc0>"
      ]
     },
     "metadata": {},
     "output_type": "display_data"
    }
   ],
   "source": [
    "fig2_oos = plt.figure()\n",
    "ax12_oos = fig2_oos.add_subplot(111)\n",
    "ax22_oos = ax12_oos.twinx()\n",
    "\n",
    "ax12_oos.errorbar(ns2,center_CE2,yerr=[top_CE2,bottom_CE2],color='b')\n",
    "ax12_oos.axis(xmin=min(ns2))\n",
    "ax12_oos.set_xlabel('$n$')\n",
    "ax12_oos.set_ylabel('Returns (\\%)');\n",
    "for t in ax12_oos.get_yticklabels():\n",
    "   t.set_color('b')\n",
    "\n",
    "# ax22_oos.errorbar(ns2,center_bound2,yerr=[top_bound2,bottom_bound2],color='r')\n",
    "# ax22_oos.axis(xmin=min(ns2),ymax=0,ymin=-1000000)\n",
    "# for t in ax22_oos.get_yticklabels():\n",
    "#     t.set_color('r')\n",
    "\n",
    "ax12_oos.set_title('Out-of-sample deviation with $p=O(\\sqrt{n})$');"
   ]
  },
  {
   "cell_type": "code",
   "execution_count": 108,
   "metadata": {
    "autoscroll": "json-false",
    "collapsed": false,
    "deletable": true,
    "editable": true,
    "ein.tags": [
     "worksheet-2"
    ]
   },
   "outputs": [],
   "source": [
    "error_CE2sub = CE_star_q_star - CEs_oos2\n",
    "center_CE2sub = np.median(error_CE2sub,axis=1)\n",
    "bottom_CE2sub = np.percentile(error_CE2sub,10,axis=1)-center_CE2sub\n",
    "top_CE2sub = -np.percentile(error_CE2sub,90,axis=1)+center_CE2sub\n",
    "\n",
    "error_bound2sub = -(ω/(D(u)(CEs_oos2)).T).T\n",
    "center_bound2sub = np.median(error_bound2sub,axis=1)\n",
    "bottom_bound2sub = np.percentile(error_bound2sub,10,axis=1)-center_bound2sub\n",
    "top_bound2sub = -np.percentile(error_bound2sub,90,axis=1)+center_bound2sub\n",
    "\n",
    "for i in range(len(top_CE2sub)):\n",
    "    if (i+1)%3 != 0:\n",
    "        bottom_CE2sub[i] = np.nan\n",
    "        top_CE2sub[i] = np.nan\n",
    "        bottom_bound2sub[i] = np.nan\n",
    "        top_bound2sub[i] = np.nan"
   ]
  },
  {
   "cell_type": "code",
   "execution_count": 198,
   "metadata": {
    "autoscroll": "json-false",
    "collapsed": false,
    "deletable": true,
    "editable": true,
    "ein.tags": [
     "worksheet-2"
    ]
   },
   "outputs": [
    {
     "data": {
      "image/png": "[encoded data removed]",
      "text/plain": [
       "<matplotlib.figure.Figure at 0x106e41b00>"
      ]
     },
     "metadata": {},
     "output_type": "display_data"
    }
   ],
   "source": [
    "fig2_sub = plt.figure()\n",
    "ax12_sub = fig2_sub.add_subplot(111)\n",
    "ax22_sub = ax12_sub.twinx()\n",
    "\n",
    "ax12_sub.errorbar(ns2,center_CE2sub,yerr=[top_CE2sub,bottom_CE2sub])\n",
    "ax12_sub.axis(xmin=min(ns2))\n",
    "ax12_sub.set_xlabel('$n$')\n",
    "ax12_sub.set_ylabel('Returns (\\%)');\n",
    "# ax12_sub.axis(ymax=7)\n",
    "for t in ax12_sub.get_yticklabels():\n",
    "    t.set_color('b')\n",
    "\n",
    "\n",
    "# ax22_sub.errorbar(ps2,center_bound2sub,yerr=[top_bound2sub,bottom_bound2sub],color='r')\n",
    "# # ax22_sub.axis(xmin=min(ns2),ymin=0,ymax=150000)\n",
    "# for t in ax22_sub.get_yticklabels():\n",
    "#     t.set_color('r')\n",
    "\n",
    "ax12_sub.set_title('Suboptimality deviation with $p=O(\\sqrt{n})$');"
   ]
  },
  {
   "cell_type": "code",
   "execution_count": 0,
   "metadata": {
    "autoscroll": "json-false",
    "collapsed": false,
    "deletable": true,
    "editable": true,
    "ein.tags": [
     "worksheet-2"
    ]
   },
   "outputs": [],
   "source": []
  },
  {
   "cell_type": "markdown",
   "metadata": {
    "deletable": true,
    "editable": true,
    "ein.tags": [
     "worksheet-3"
    ]
   },
   "source": [
    "## $p=O(n^{3/4})$"
   ]
  },
  {
   "cell_type": "code",
   "execution_count": 128,
   "metadata": {
    "autoscroll": "json-false",
    "collapsed": false,
    "deletable": true,
    "editable": true,
    "ein.tags": [
     "worksheet-3"
    ]
   },
   "outputs": [
    {
     "data": {
      "text/plain": [
       "array([[   4.,    6.],\n",
       "       [   5.,    9.],\n",
       "       [   6.,   11.],\n",
       "       [   7.,   14.],\n",
       "       [   8.,   17.],\n",
       "       [   9.,   20.],\n",
       "       [  10.,   23.],\n",
       "       [  11.,   26.],\n",
       "       [  12.,   30.],\n",
       "       [  13.,   33.],\n",
       "       [  14.,   37.],\n",
       "       [  15.,   40.],\n",
       "       [  16.,   44.],\n",
       "       [  17.,   48.],\n",
       "       [  18.,   51.],\n",
       "       [  19.,   55.],\n",
       "       [  20.,   59.],\n",
       "       [  21.,   63.],\n",
       "       [  22.,   67.],\n",
       "       [  23.,   71.],\n",
       "       [  24.,   76.],\n",
       "       [  25.,   80.],\n",
       "       [  26.,   84.],\n",
       "       [  27.,   89.],\n",
       "       [  28.,   93.],\n",
       "       [  29.,   98.],\n",
       "       [  30.,  102.],\n",
       "       [  31.,  107.],\n",
       "       [  32.,  111.],\n",
       "       [  33.,  116.],\n",
       "       [  34.,  121.],\n",
       "       [  35.,  125.],\n",
       "       [  36.,  130.],\n",
       "       [  37.,  135.],\n",
       "       [  38.,  140.],\n",
       "       [  39.,  145.],\n",
       "       [  40.,  150.]])"
      ]
     },
     "execution_count": 128,
     "metadata": {},
     "output_type": "execute_result"
    }
   ],
   "source": [
    "ps3 = sz\n",
    "ns3 = np.floor(1.1*ps3**(4/3))\n",
    "np.array([ps3,ns3]).T"
   ]
  },
  {
   "cell_type": "code",
   "execution_count": 129,
   "metadata": {
    "autoscroll": "json-false",
    "collapsed": true,
    "deletable": true,
    "editable": true,
    "ein.tags": [
     "worksheet-3"
    ]
   },
   "outputs": [
    {
     "name": "stdout",
     "output_type": "stream",
     "text": [
      "Sampling 100 problems of size 150 × 41\n",
      "Sampling 100 problems of size 145 × 40\n",
      "Sampling 100 problems of size 140 × 39\n",
      "Sampling 100 problems of size 135 × 38\n",
      "Sampling 100 problems of size 130 × 37\n",
      "Sampling 100 problems of size 125 × 36\n",
      "Sampling 100 problems of size 121 × 35\n",
      "Sampling 100 problems of size 116 × 34\n",
      "Sampling 100 problems of size 111 × 33\n",
      "Sampling 100 problems of size 107 × 32\n",
      "Sampling 100 problems of size 102 × 31\n",
      "Sampling 100 problems of size 98 × 30\n",
      "Sampling 100 problems of size 93 × 29\n",
      "Sampling 100 problems of size 89 × 28\n",
      "Sampling 100 problems of size 84 × 27\n",
      "Sampling 100 problems of size 80 × 26\n",
      "Sampling 100 problems of size 76 × 25\n",
      "Sampling 100 problems of size 71 × 24\n",
      "Sampling 100 problems of size 67 × 23\n",
      "Sampling 100 problems of size 63 × 22\n",
      "Sampling 100 problems of size 59 × 21\n",
      "Sampling 100 problems of size 55 × 20\n",
      "Sampling 100 problems of size 51 × 19\n",
      "Sampling 100 problems of size 48 × 18\n",
      "Sampling 100 problems of size 44 × 17\n",
      "Sampling 100 problems of size 40 × 16\n",
      "Sampling 100 problems of size 37 × 15\n",
      "Sampling 100 problems of size 33 × 14\n",
      "Sampling 100 problems of size 30 × 13\n",
      "Sampling 100 problems of size 26 × 12\n",
      "Sampling 100 problems of size 23 × 11\n",
      "Sampling 100 problems of size 20 × 10\n",
      "Sampling 100 problems of size 17 × 9\n",
      "Sampling 100 problems of size 14 × 8\n",
      "Sampling 100 problems of size 11 × 7\n",
      "Sampling 100 problems of size 9 × 6\n",
      "Sampling 100 problems of size 6 × 5\n"
     ]
    }
   ],
   "source": [
    "n_experiments = 100\n",
    "\n",
    "qs3 = np.zeros(shape=(len(ns3),p_true+1,n_experiments))\n",
    "CEs_ins3 = np.empty(shape=(len(ns3),n_experiments))\n",
    "CEs_oos3 = np.empty(shape=(len(ns3),n_experiments))\n",
    "\n",
    "for i,(n,p) in enumerate(zip(ns3,ps3)):\n",
    "    print('Sampling %d problems of size %d × %d' % (n_experiments,n,p+1))\n",
    "    prs = pr.ProblemsDisxtribution(M,n,λ,u,Rf=0,problem_t=pr.MaskedProblem)\n",
    "    prs.sample(n_experiments,{'fs':range(p+1)},par=True)\n",
    "    qs3[i,:p+1,:] = prs.qs.T\n",
    "    CEs_ins3[i,:] = prs.CEs_ins\n",
    "    CEs_oos3[i,:] = prs.CEs_oos"
   ]
  },
  {
   "cell_type": "code",
   "execution_count": 130,
   "metadata": {
    "autoscroll": "json-false",
    "collapsed": false,
    "deletable": true,
    "editable": true,
    "ein.tags": [
     "worksheet-3"
    ]
   },
   "outputs": [],
   "source": [
    "error_CE3 = CEs_oos3-CEs_ins3\n",
    "center_CE3 = np.median(error_CE3,axis=1)\n",
    "bottom_CE3 = np.percentile(error_CE3,10,axis=1)-center_CE3\n",
    "top_CE3 = -np.percentile(error_CE3,90,axis=1)+center_CE3\n",
    "\n",
    "error_bound3 = -(Ω/(D(u)(CEs_ins3)).T).T # double transpose is for broadcastigne\n",
    "center_bound3 = np.median(error_bound3,axis=1)\n",
    "bottom_bound3 = np.percentile(error_bound3,10,axis=1)-center_bound3\n",
    "top_bound3 = -np.percentile(error_bound3,90,axis=1)+center_bound3\n",
    "\n",
    "for i in range(len(top_CE3)):\n",
    "    if (i+1)%3 != 0:\n",
    "        bottom_CE3[i] = np.nan\n",
    "        top_CE3[i] = np.nan\n",
    "        bottom_bound3[i] = np.nan\n",
    "        top_bound3[i] = np.nan"
   ]
  },
  {
   "cell_type": "code",
   "execution_count": 203,
   "metadata": {
    "autoscroll": "json-false",
    "collapsed": false,
    "deletable": true,
    "editable": true,
    "ein.tags": [
     "worksheet-3"
    ]
   },
   "outputs": [
    {
     "data": {
      "image/png": "[encoded data removed]",
      "text/plain": [
       "<matplotlib.figure.Figure at 0x10ba88710>"
      ]
     },
     "metadata": {},
     "output_type": "display_data"
    }
   ],
   "source": [
    "fig3_oos = plt.figure()\n",
    "ax13_oos = fig3_oos.add_subplot(111)\n",
    "ax23_oos = ax13_oos.twinx()\n",
    "\n",
    "ax13_oos.errorbar(ns3,center_CE3,yerr=[top_CE3,bottom_CE3],color='b')\n",
    "ax13_oos.axis(xmin=min(ns3),xmax=max(ns3))\n",
    "ax13_oos.set_xlabel('$p$')\n",
    "ax13_oos.set_ylabel('Returns (\\%)');\n",
    "for t in ax13_oos.get_yticklabels():\n",
    "   t.set_color('b')\n",
    "\n",
    "# ax23_oos.errorbar(ns3,center_bound3,yerr=[top_bound3,bottom_bound3],color='r')\n",
    "# ax23_oos.axis(xmin=min(ns3),ymax=0,ymin=-1000000)\n",
    "# for t in ax23_oos.get_yticklabels():\n",
    "#     t.set_color('r')\n",
    "\n",
    "ax13_oos.set_title('Out-of-sample deviation with $p=O(n^{3/4})$');"
   ]
  },
  {
   "cell_type": "code",
   "execution_count": 132,
   "metadata": {
    "autoscroll": "json-false",
    "collapsed": false,
    "deletable": true,
    "editable": true,
    "ein.tags": [
     "worksheet-3"
    ]
   },
   "outputs": [],
   "source": [
    "error_CE3sub = CE_star_q_star - CEs_oos3\n",
    "center_CE3sub = np.median(error_CE3sub,axis=1)\n",
    "bottom_CE3sub = np.percentile(error_CE3sub,10,axis=1)-center_CE3sub\n",
    "top_CE3sub = -np.percentile(error_CE3sub,90,axis=1)+center_CE3sub\n",
    "\n",
    "error_bound3sub = -(ω/(D(u)(CEs_oos3)).T).T\n",
    "center_bound3sub = np.median(error_bound3sub,axis=1)\n",
    "bottom_bound3sub = np.percentile(error_bound3sub,10,axis=1)-center_bound3sub\n",
    "top_bound3sub = -np.percentile(error_bound3sub,90,axis=1)+center_bound3sub\n",
    "\n",
    "for i in range(len(top_CE3sub)):\n",
    "    if (i+1)%3 != 0:\n",
    "        bottom_CE3sub[i] = np.nan\n",
    "        top_CE3sub[i] = np.nan\n",
    "        bottom_bound3sub[i] = np.nan\n",
    "        top_bound3sub[i] = np.nan"
   ]
  },
  {
   "cell_type": "code",
   "execution_count": 201,
   "metadata": {
    "autoscroll": "json-false",
    "collapsed": false,
    "deletable": true,
    "editable": true,
    "ein.tags": [
     "worksheet-3"
    ]
   },
   "outputs": [
    {
     "data": {
      "image/png": "[encoded data removed]",
      "text/plain": [
       "<matplotlib.figure.Figure at 0x109a9e780>"
      ]
     },
     "metadata": {},
     "output_type": "display_data"
    }
   ],
   "source": [
    "fig3_sub = plt.figure()\n",
    "ax13_sub = fig3_sub.add_subplot(111)\n",
    "ax23_sub = ax13_sub.twinx()\n",
    "\n",
    "ax13_sub.errorbar(ns3,center_CE3sub,yerr=[top_CE3sub,bottom_CE3sub])\n",
    "ax13_sub.axis(xmin=min(ns3),xmax=max(ns3))\n",
    "ax13_sub.set_xlabel('$n$')\n",
    "ax13_sub.set_ylabel('Returns (\\%)');\n",
    "# ax12_sub.axis(ymax=7)\n",
    "for t in ax13_sub.get_yticklabels():\n",
    "    t.set_color('b')\n",
    "\n",
    "\n",
    "# ax23_sub.errorbar(ps3,center_bound3sub,yerr=[top_bound3sub,bottom_bound3sub],color='r')\n",
    "# # ax23_sub.axis(xmin=min(ns3),ymin=0,ymax=150000)\n",
    "# for t in ax23_sub.get_yticklabels():\n",
    "#     t.set_color('r')\n",
    "\n",
    "ax13_sub.set_title('Suboptimality deviation with $p=O(n^{3/4})$');"
   ]
  },
  {
   "cell_type": "code",
   "execution_count": 0,
   "metadata": {
    "autoscroll": "json-false",
    "collapsed": false,
    "deletable": true,
    "editable": true,
    "ein.tags": [
     "worksheet-3"
    ]
   },
   "outputs": [],
   "source": []
  },
  {
   "cell_type": "code",
   "execution_count": 95,
   "metadata": {
    "autoscroll": "json-false",
    "collapsed": false,
    "deletable": true,
    "editable": true,
    "ein.tags": [
     "worksheet-4"
    ]
   },
   "outputs": [],
   "source": [
    "# True Market\n",
    "p_true = 100\n",
    "R_true = NormalDistribution(5,10)\n",
    "X_true = [1/np.sqrt(2)*TDistribution(ν=4) for _ in range(p_true)]\n",
    "M_true = synth.GaussianMarket(X_true,R_true)\n",
    "\n",
    "# Discretized Market\n",
    "X,R = M_true.sample(n_true)\n",
    "M2 = synth.MarketDiscreteDistribution(X,R)"
   ]
  },
  {
   "cell_type": "code",
   "execution_count": 101,
   "metadata": {
    "autoscroll": "json-false",
    "collapsed": false,
    "deletable": true,
    "editable": true,
    "ein.tags": [
     "worksheet-4"
    ]
   },
   "outputs": [],
   "source": [
    "res = np.zeros(shape=(p_true,5))\n",
    "for i,p in enumerate(range(p_true)):\n",
    "    X,R = M2.sample(400)\n",
    "    X = X[:,range(p+1)]\n",
    "    norm = np.linalg.norm(X,axis=1)**2\n",
    "    res[i,0] = np.min(norm)\n",
    "    res[i,1] = np.percentile(norm,10)\n",
    "    res[i,2] = np.median(norm)\n",
    "    res[i,3] = np.percentile(norm,95)\n",
    "    # res[i,4] = np.max(norm)\n",
    "    res[i,4] = np.percentile(norm,99)\n",
    "#res\n",
    "\n",
    "\n",
    "\n",
    "# res = np.empty(shape=(p_true2,3))\n",
    "# for i,p in enumerate(range(p_true2)):\n",
    "#     X,R = M2.sample(50)\n",
    "#     X = X[range(p),:]\n",
    "#     res[i,0] = np.min(np.linalg.norm(X,axis=0)**2)\n",
    "#     res[i,1] = np.median(np.linalg.norm(X,axis=0)**2)\n",
    "#     res[i,2] = np.max(np.linalg.norm(X,axis=0)**2)"
   ]
  },
  {
   "cell_type": "code",
   "execution_count": 102,
   "metadata": {
    "autoscroll": "json-false",
    "collapsed": false,
    "deletable": true,
    "editable": true,
    "ein.tags": [
     "worksheet-4"
    ]
   },
   "outputs": [
    {
     "data": {
      "image/png": "[encoded data removed]",
      "text/plain": [
       "<matplotlib.figure.Figure at 0x10ffb8e48>"
      ]
     },
     "metadata": {},
     "output_type": "display_data"
    },
    {
     "data": {
      "text/plain": [
       "[<matplotlib.lines.Line2D at 0x111310dd8>,\n",
       " <matplotlib.lines.Line2D at 0x111310f98>,\n",
       " <matplotlib.lines.Line2D at 0x1111f7278>,\n",
       " <matplotlib.lines.Line2D at 0x1111f7470>,\n",
       " <matplotlib.lines.Line2D at 0x1111f7668>]"
      ]
     },
     "execution_count": 102,
     "metadata": {},
     "output_type": "execute_result"
    }
   ],
   "source": [
    "plt.plot(res)"
   ]
  },
  {
   "cell_type": "code",
   "execution_count": 154,
   "metadata": {
    "autoscroll": "json-false",
    "collapsed": false,
    "deletable": true,
    "editable": true,
    "ein.tags": [
     "worksheet-4"
    ]
   },
   "outputs": [
    {
     "data": {
      "text/plain": [
       "array([[  1.47250785e-003,   2.84917716e-001,   4.08038056e+000],\n",
       "       [  5.30172312e-002,   1.08119566e+000,   1.67509852e+001],\n",
       "       [  1.92605567e-002,   1.60164791e+000,   8.99045720e+000],\n",
       "       [  3.03006260e-001,   2.67560598e+000,   2.08020757e+001],\n",
       "       [  4.23491901e-001,   3.00995724e+000,   2.11960522e+001],\n",
       "       [  7.03450261e-001,   4.18717505e+000,   2.32710748e+001],\n",
       "       [  1.09323423e+000,   5.77012322e+000,   5.45890529e+001],\n",
       "       [  1.43591246e+000,   5.36849144e+000,   5.13346264e+001],\n",
       "       [  1.38167022e+000,   7.00808287e+000,   4.81166274e+001],\n",
       "       [  1.18785495e+000,   8.65182333e+000,   2.36872348e+001],\n",
       "       [  1.91007031e+000,   8.66637804e+000,   1.85592497e+001],\n",
       "       [  1.84131875e+000,   9.62100536e+000,   2.68375802e+001],\n",
       "       [  2.32631566e+000,   9.65166319e+000,   5.60829867e+001],\n",
       "       [  1.56866704e+000,   1.31494029e+001,   4.50503001e+001],\n",
       "       [  3.00513091e+000,   1.10492387e+001,   3.67952565e+001],\n",
       "       [  3.36928830e+000,   1.27291918e+001,   4.38305509e+001],\n",
       "       [  4.58984054e+000,   1.47735164e+001,   5.26937756e+001],\n",
       "       [  4.75060739e+000,   1.34099598e+001,   1.83633102e+002],\n",
       "       [  5.95210429e+000,   1.49358481e+001,   2.92947411e+001],\n",
       "       [  5.20458717e+000,   1.73942093e+001,   4.79186264e+001],\n",
       "       [  7.63178243e+000,   2.10000000e+001,   4.53817989e+001],\n",
       "       [  6.62087938e+000,   1.74860946e+001,   5.08448207e+001],\n",
       "       [  1.02940485e+001,   2.20992652e+001,   6.20167154e+001],\n",
       "       [  8.82818063e+000,   2.17299417e+001,   5.52581160e+001],\n",
       "       [  6.11214229e+000,   2.10811199e+001,   4.66032708e+001],\n",
       "       [  8.82719216e+000,   2.08011585e+001,   6.73938728e+001],\n",
       "       [  9.31179628e+000,   2.30863959e+001,   5.89899665e+001],\n",
       "       [  1.06103362e+001,   2.32401001e+001,   1.47707132e+002],\n",
       "       [  9.77826946e+000,   2.49392705e+001,   7.52087795e+001],\n",
       "       [  1.35565058e+001,   2.59455044e+001,   6.12524840e+001],\n",
       "       [  1.27590152e+001,   2.72146916e+001,   1.10100680e+002],\n",
       "       [  8.87579544e+000,   2.45144708e+001,   6.18076984e+001],\n",
       "       [  1.35862067e+001,   2.75607687e+001,   1.02700704e+002],\n",
       "       [  1.12558768e+001,   2.57975258e+001,   7.14229355e+001],\n",
       "       [  1.51864925e+001,   2.82999325e+001,   1.19847869e+002],\n",
       "       [  1.39002707e+001,   3.41302951e+001,   2.23098272e+002],\n",
       "       [  1.30522033e+001,   3.03288941e+001,   6.33442440e+001],\n",
       "       [  1.51217707e+001,   3.28398886e+001,   8.92008234e+001],\n",
       "       [  1.26161216e+001,   3.32540841e+001,   1.52307721e+002],\n",
       "       [  1.65035377e+001,   4.00000000e+001,   1.41637203e+002],\n",
       "       [  1.52789832e+001,   3.17802057e+001,   8.90510934e+001],\n",
       "       [  1.65248517e+001,   3.73047428e+001,   8.49288914e+001],\n",
       "       [  1.69755343e+001,   3.75809373e+001,   1.69709495e+002],\n",
       "       [  1.71930134e+001,   4.40000000e+001,   1.15123659e+002],\n",
       "       [  2.68319735e+001,   4.01570688e+001,   1.38961099e+002],\n",
       "       [  1.48247013e+001,   4.07970396e+001,   1.19477028e+002],\n",
       "       [  1.70223698e+001,   3.83806312e+001,   7.65728786e+001],\n",
       "       [  2.23934128e+001,   3.95054001e+001,   1.19984135e+002],\n",
       "       [  2.73696331e+001,   4.66923929e+001,   1.01208682e+002],\n",
       "       [  2.79446230e+001,   4.72698293e+001,   1.02211824e+002],\n",
       "       [  2.40313530e-320,   0.00000000e+000,   0.00000000e+000],\n",
       "       [  2.12201236e-314,   0.00000000e+000,   0.00000000e+000],\n",
       "       [  8.48799594e-314,   0.00000000e+000,   0.00000000e+000],\n",
       "       [  1.48539833e-313,   0.00000000e+000,   0.00000000e+000],\n",
       "       [  6.36600002e-314,   0.00000000e+000,   0.00000000e+000],\n",
       "       [  4.24400448e-314,   0.00000000e+000,   0.00000000e+000],\n",
       "       [  7.58884832e-320,   0.00000000e+000,   0.00000000e+000],\n",
       "       [  2.12200857e-314,   0.00000000e+000,   4.44659081e-323],\n",
       "       [  3.60739419e-313,   0.00000000e+000,   0.00000000e+000],\n",
       "       [  2.12200857e-314,   0.00000000e+000,   0.00000000e+000],\n",
       "       [  2.97079545e-313,   0.00000000e+000,   0.00000000e+000],\n",
       "       [  3.18299503e-313,   0.00000000e+000,   0.00000000e+000],\n",
       "       [  2.33419665e-313,   0.00000000e+000,   0.00000000e+000],\n",
       "       [  1.27319874e-313,   0.00000000e+000,   0.00000000e+000],\n",
       "       [  1.48539832e-313,   0.00000000e+000,   0.00000000e+000],\n",
       "       [  5.45352935e-312,   0.00000000e+000,   0.00000000e+000],\n",
       "       [  1.69759790e-313,   0.00000000e+000,   0.00000000e+000],\n",
       "       [  2.40313530e-320,   0.00000000e+000,   0.00000000e+000],\n",
       "       [  2.12201236e-314,   0.00000000e+000,   0.00000000e+000],\n",
       "       [  8.48799594e-314,   0.00000000e+000,   0.00000000e+000],\n",
       "       [  1.48539833e-313,   0.00000000e+000,   0.00000000e+000],\n",
       "       [  1.69759790e-313,   0.00000000e+000,   0.00000000e+000],\n",
       "       [  4.24400448e-314,   0.00000000e+000,   0.00000000e+000],\n",
       "       [  7.58884832e-320,   0.00000000e+000,   0.00000000e+000],\n",
       "       [  1.12465791e-312,   2.24611994e-314,   0.00000000e+000],\n",
       "       [  0.00000000e+000,   0.00000000e+000,   0.00000000e+000],\n",
       "       [  0.00000000e+000,   0.00000000e+000,   0.00000000e+000],\n",
       "       [  0.00000000e+000,   0.00000000e+000,   0.00000000e+000],\n",
       "       [  0.00000000e+000,   0.00000000e+000,   0.00000000e+000],\n",
       "       [  0.00000000e+000,   0.00000000e+000,   0.00000000e+000],\n",
       "       [  0.00000000e+000,   0.00000000e+000,   0.00000000e+000],\n",
       "       [  0.00000000e+000,   0.00000000e+000,   0.00000000e+000],\n",
       "       [  0.00000000e+000,   0.00000000e+000,   0.00000000e+000],\n",
       "       [  0.00000000e+000,   0.00000000e+000,   0.00000000e+000],\n",
       "       [  0.00000000e+000,   0.00000000e+000,   0.00000000e+000],\n",
       "       [  5.56268465e-309,   1.18575755e-322,  -2.68156159e+154],\n",
       "       [  0.00000000e+000,   0.00000000e+000,   0.00000000e+000],\n",
       "       [  0.00000000e+000,   0.00000000e+000,   0.00000000e+000],\n",
       "       [  0.00000000e+000,   0.00000000e+000,   0.00000000e+000],\n",
       "       [  0.00000000e+000,   0.00000000e+000,   0.00000000e+000],\n",
       "       [  0.00000000e+000,   0.00000000e+000,   0.00000000e+000],\n",
       "       [  0.00000000e+000,   0.00000000e+000,   0.00000000e+000],\n",
       "       [  0.00000000e+000,   0.00000000e+000,   0.00000000e+000],\n",
       "       [  0.00000000e+000,   0.00000000e+000,   0.00000000e+000],\n",
       "       [  0.00000000e+000,   0.00000000e+000,   0.00000000e+000],\n",
       "       [  0.00000000e+000,   0.00000000e+000,   0.00000000e+000],\n",
       "       [  0.00000000e+000,   0.00000000e+000,   0.00000000e+000],\n",
       "       [  0.00000000e+000,   0.00000000e+000,   0.00000000e+000],\n",
       "       [  0.00000000e+000,   0.00000000e+000,   0.00000000e+000],\n",
       "       [  0.00000000e+000,   0.00000000e+000,   0.00000000e+000]])"
      ]
     },
     "execution_count": 154,
     "metadata": {},
     "output_type": "execute_result"
    }
   ],
   "source": [
    "res"
   ]
  },
  {
   "cell_type": "code",
   "execution_count": 0,
   "metadata": {
    "autoscroll": "json-false",
    "collapsed": false,
    "deletable": true,
    "editable": true,
    "ein.tags": [
     "worksheet-4"
    ]
   },
   "outputs": [],
   "source": []
  },
  {
   "cell_type": "code",
   "execution_count": 0,
   "metadata": {
    "autoscroll": "json-false",
    "collapsed": false,
    "deletable": true,
    "editable": true,
    "ein.tags": [
     "worksheet-5"
    ]
   },
   "outputs": [],
   "source": [
    "## $p=O(n^{3/4})$"
   ]
  },
  {
   "cell_type": "code",
   "execution_count": 9,
   "metadata": {
    "autoscroll": "json-false",
    "collapsed": false,
    "deletable": true,
    "editable": true,
    "ein.tags": [
     "worksheet-5"
    ]
   },
   "outputs": [
    {
     "data": {
      "text/plain": [
       "array([[  4,  60],\n",
       "       [  5,  75],\n",
       "       [  6,  90],\n",
       "       [  7, 105],\n",
       "       [  8, 120],\n",
       "       [  9, 135],\n",
       "       [ 10, 150],\n",
       "       [ 11, 165],\n",
       "       [ 12, 180],\n",
       "       [ 13, 195],\n",
       "       [ 14, 210],\n",
       "       [ 15, 225],\n",
       "       [ 16, 240],\n",
       "       [ 17, 255],\n",
       "       [ 18, 270],\n",
       "       [ 19, 285],\n",
       "       [ 20, 300],\n",
       "       [ 21, 315],\n",
       "       [ 22, 330],\n",
       "       [ 23, 345],\n",
       "       [ 24, 360],\n",
       "       [ 25, 375],\n",
       "       [ 26, 390],\n",
       "       [ 27, 405],\n",
       "       [ 28, 420],\n",
       "       [ 29, 435],\n",
       "       [ 30, 450],\n",
       "       [ 31, 465],\n",
       "       [ 32, 480],\n",
       "       [ 33, 495],\n",
       "       [ 34, 510],\n",
       "       [ 35, 525],\n",
       "       [ 36, 540],\n",
       "       [ 37, 555],\n",
       "       [ 38, 570],\n",
       "       [ 39, 585],\n",
       "       [ 40, 600]])"
      ]
     },
     "execution_count": 9,
     "metadata": {},
     "output_type": "execute_result"
    }
   ],
   "source": [
    "ps4 = sz\n",
    "ns4 = 15*ps4\n",
    "np.array([ps4,ns4]).T"
   ]
  },
  {
   "cell_type": "code",
   "execution_count": 16,
   "metadata": {
    "autoscroll": "json-false",
    "collapsed": false,
    "deletable": true,
    "editable": true,
    "ein.tags": [
     "worksheet-5"
    ]
   },
   "outputs": [
    {
     "name": "stdout",
     "output_type": "stream",
     "text": [
      "Sampling 50 problems of size 600 × 41\n",
      "Sampling 50 problems of size 585 × 40\n",
      "Sampling 50 problems of size 570 × 39\n",
      "Sampling 50 problems of size 555 × 38\n",
      "Sampling 50 problems of size 540 × 37\n",
      "Sampling 50 problems of size 525 × 36\n",
      "Sampling 50 problems of size 510 × 35\n",
      "Sampling 50 problems of size 495 × 34\n",
      "Sampling 50 problems of size 480 × 33\n",
      "Sampling 50 problems of size 465 × 32\n",
      "Sampling 50 problems of size 450 × 31\n",
      "Sampling 50 problems of size 435 × 30\n",
      "Sampling 50 problems of size 420 × 29\n",
      "Sampling 50 problems of size 405 × 28\n",
      "Sampling 50 problems of size 390 × 27\n",
      "Sampling 50 problems of size 375 × 26\n",
      "Sampling 50 problems of size 360 × 25\n",
      "Sampling 50 problems of size 345 × 24\n",
      "Sampling 50 problems of size 330 × 23\n",
      "Sampling 50 problems of size 315 × 22\n",
      "Sampling 50 problems of size 300 × 21\n",
      "Sampling 50 problems of size 285 × 20\n",
      "Sampling 50 problems of size 270 × 19\n",
      "Sampling 50 problems of size 255 × 18\n",
      "Sampling 50 problems of size 240 × 17\n",
      "Sampling 50 problems of size 225 × 16\n",
      "Sampling 50 problems of size 210 × 15\n",
      "Sampling 50 problems of size 195 × 14\n",
      "Sampling 50 problems of size 180 × 13\n",
      "Sampling 50 problems of size 165 × 12\n",
      "Sampling 50 problems of size 150 × 11\n",
      "Sampling 50 problems of size 135 × 10\n",
      "Sampling 50 problems of size 120 × 9\n",
      "Sampling 50 problems of size 105 × 8\n",
      "Sampling 50 problems of size 90 × 7\n",
      "Sampling 50 problems of size 75 × 6\n",
      "Sampling 50 problems of size 60 × 5\n"
     ]
    }
   ],
   "source": [
    "n_experiments = 50\n",
    "\n",
    "qs4 = np.zeros(shape=(len(ns4),p_true+1,n_experiments))\n",
    "CEs_ins4 = np.empty(shape=(len(ns4),n_experiments))\n",
    "CEs_oos4 = np.empty(shape=(len(ns4),n_experiments))\n",
    "\n",
    "for i,(n,p) in enumerate(zip(ns4,ps4)):\n",
    "    print('Sampling %d problems of size %d × %d' % (n_experiments,n,p+1))\n",
    "    prs = pr.ProblemsDistribution(M,n,λ=0,u=u,Rf=0,problem_t=pr.MaskedProblem)\n",
    "    prs.sample(n_experiments,{'fs':range(p+1)},par=True)\n",
    "    qs4[i,:p+1,:] = prs.qs.T\n",
    "    CEs_ins4[i,:] = prs.CEs_ins\n",
    "    CEs_oos4[i,:] = prs.CEs_oos"
   ]
  },
  {
   "cell_type": "code",
   "execution_count": 17,
   "metadata": {
    "autoscroll": "json-false",
    "collapsed": false,
    "deletable": true,
    "editable": true,
    "ein.tags": [
     "worksheet-5"
    ]
   },
   "outputs": [],
   "source": [
    "error_CE4 = CEs_oos4-CEs_ins4\n",
    "center_CE4 = np.median(error_CE4,axis=1)\n",
    "bottom_CE4 = np.percentile(error_CE4,10,axis=1)-center_CE4\n",
    "top_CE4 = -np.percentile(error_CE4,90,axis=1)+center_CE4\n",
    "\n",
    "# error_bound4 = -(Ω/(D(u)(CEs_ins4)).T).T # double transpose is for broadcastigne\n",
    "# center_bound4 = np.median(error_bound4,axis=1)\n",
    "# bottom_bound4 = np.percentile(error_bound4,10,axis=1)-center_bound4\n",
    "# top_bound4 = -np.percentile(error_bound4,90,axis=1)+center_bound4\n",
    "\n",
    "for i in range(len(top_CE4)):\n",
    "    if (i+1)%3 != 0:\n",
    "        bottom_CE4[i] = np.nan\n",
    "        top_CE4[i] = np.nan\n",
    "        # bottom_bound4[i] = np.nan\n",
    "        # top_bound4[i] = np.nan"
   ]
  },
  {
   "cell_type": "code",
   "execution_count": 19,
   "metadata": {
    "autoscroll": "json-false",
    "collapsed": false,
    "deletable": true,
    "editable": true,
    "ein.tags": [
     "worksheet-5"
    ]
   },
   "outputs": [
    {
     "data": {
      "image/png": "[encoded data removed]",
      "text/plain": [
       "<matplotlib.figure.Figure at 0x11324d4a8>"
      ]
     },
     "metadata": {},
     "output_type": "display_data"
    }
   ],
   "source": [
    "fig4_oos = plt.figure()\n",
    "ax14_oos = fig4_oos.add_subplot(111)\n",
    "ax24_oos = ax14_oos.twinx()\n",
    "\n",
    "ax14_oos.errorbar(ps4,center_CE4,yerr=[top_CE4,bottom_CE4],color='b')\n",
    "ax14_oos.axis(xmin=min(ps4),xmax=max(ps4))\n",
    "ax14_oos.set_xlabel('$p$')\n",
    "ax14_oos.set_ylabel('Returns (\\%)');\n",
    "for t in ax14_oos.get_yticklabels():\n",
    "   t.set_color('b')\n",
    "\n",
    "# ax24_oos.errorbar(ns4,center_bound4,yerr=[top_bound4,bottom_bound4],color='r')\n",
    "# ax24_oos.axis(xmin=min(ns4),ymax=0,ymin=-1000000)\n",
    "# for t in ax24_oos.get_yticklabels():\n",
    "#     t.set_color('r')\n",
    "\n",
    "ax14_oos.set_title('Out-of-sample deviation with $p=O(n)$');"
   ]
  },
  {
   "cell_type": "code",
   "execution_count": 22,
   "metadata": {
    "autoscroll": "json-false",
    "collapsed": false,
    "deletable": true,
    "editable": true,
    "ein.tags": [
     "worksheet-5"
    ]
   },
   "outputs": [],
   "source": [
    "error_CE4sub = CE_star_q_star - CEs_oos4\n",
    "center_CE4sub = np.median(error_CE4sub,axis=1)\n",
    "bottom_CE4sub = np.percentile(error_CE4sub,10,axis=1)-center_CE4sub\n",
    "top_CE4sub = -np.percentile(error_CE4sub,90,axis=1)+center_CE4sub\n",
    "\n",
    "# error_bound4sub = -(ω/(D(u)(CEs_oos4)).T).T\n",
    "# center_bound4sub = np.median(error_bound4sub,axis=1)\n",
    "# bottom_bound4sub = np.percentile(error_bound4sub,10,axis=1)-center_bound4sub\n",
    "# top_bound4sub = -np.percentile(error_bound4sub,90,axis=1)+center_bound4sub\n",
    "\n",
    "for i in range(len(top_CE4sub)):\n",
    "    if (i+1)%3 != 0:\n",
    "        bottom_CE4sub[i] = np.nan\n",
    "        top_CE4sub[i] = np.nan\n",
    "        # bottom_bound4sub[i] = np.nan\n",
    "        # top_bound4sub[i] = np.nan"
   ]
  },
  {
   "cell_type": "code",
   "execution_count": 23,
   "metadata": {
    "autoscroll": "json-false",
    "collapsed": false,
    "deletable": true,
    "editable": true,
    "ein.tags": [
     "worksheet-5"
    ]
   },
   "outputs": [
    {
     "data": {
      "image/png": "[encoded data removed]",
      "text/plain": [
       "<matplotlib.figure.Figure at 0x113305ef0>"
      ]
     },
     "metadata": {},
     "output_type": "display_data"
    }
   ],
   "source": [
    "fig4_sub = plt.figure()\n",
    "ax14_sub = fig4_sub.add_subplot(111)\n",
    "ax24_sub = ax14_sub.twinx()\n",
    "\n",
    "ax14_sub.errorbar(ns4,center_CE4sub,yerr=[top_CE4sub,bottom_CE4sub])\n",
    "ax14_sub.axis(xmin=min(ns4),xmax=max(ns4))\n",
    "ax14_sub.set_xlabel('$n$')\n",
    "ax14_sub.set_ylabel('Returns (\\%)');\n",
    "# ax12_sub.axis(ymax=7)\n",
    "for t in ax14_sub.get_yticklabels():\n",
    "    t.set_color('b')\n",
    "\n",
    "\n",
    "# ax24_sub.errorbar(ps4,center_bound4sub,yerr=[top_bound4sub,bottom_bound4sub],color='r')\n",
    "# # ax24_sub.axis(xmin=min(ns4),ymin=0,ymax=150000)\n",
    "# for t in ax24_sub.get_yticklabels():\n",
    "#     t.set_color('r')\n",
    "\n",
    "ax14_sub.set_title('Suboptimality deviation with $p=O(n)$');"
   ]
  },
  {
   "cell_type": "code",
   "execution_count": 0,
   "metadata": {
    "autoscroll": "json-false",
    "collapsed": false,
    "deletable": true,
    "editable": true,
    "ein.tags": [
     "worksheet-5"
    ]
   },
   "outputs": [],
   "source": []
  },
  {
   "cell_type": "code",
   "execution_count": 0,
   "metadata": {
    "autoscroll": "json-false",
    "collapsed": false,
    "deletable": true,
    "editable": true,
    "ein.tags": [
     "worksheet-6"
    ]
   },
   "outputs": [],
   "source": []
  },
  {
   "cell_type": "code",
   "execution_count": 0,
   "metadata": {
    "autoscroll": "json-false",
    "collapsed": false,
    "deletable": true,
    "editable": true,
    "ein.tags": [
     "worksheet-6"
    ]
   },
   "outputs": [],
   "source": [
    "## $p=O(n^{3/4})$"
   ]
  },
  {
   "cell_type": "code",
   "execution_count": 38,
   "metadata": {
    "autoscroll": "json-false",
    "collapsed": false,
    "deletable": true,
    "editable": true,
    "ein.tags": [
     "worksheet-6"
    ]
   },
   "outputs": [
    {
     "data": {
      "text/plain": [
       "array([[ 4,  8],\n",
       "       [ 5, 10],\n",
       "       [ 6, 12],\n",
       "       [ 7, 14],\n",
       "       [ 8, 16],\n",
       "       [ 9, 18],\n",
       "       [10, 20],\n",
       "       [11, 22],\n",
       "       [12, 24],\n",
       "       [13, 26],\n",
       "       [14, 28],\n",
       "       [15, 30],\n",
       "       [16, 32],\n",
       "       [17, 34],\n",
       "       [18, 36],\n",
       "       [19, 38],\n",
       "       [20, 40],\n",
       "       [21, 42],\n",
       "       [22, 44],\n",
       "       [23, 46],\n",
       "       [24, 48],\n",
       "       [25, 50],\n",
       "       [26, 52],\n",
       "       [27, 54],\n",
       "       [28, 56],\n",
       "       [29, 58],\n",
       "       [30, 60],\n",
       "       [31, 62],\n",
       "       [32, 64],\n",
       "       [33, 66],\n",
       "       [34, 68],\n",
       "       [35, 70],\n",
       "       [36, 72],\n",
       "       [37, 74],\n",
       "       [38, 76],\n",
       "       [39, 78],\n",
       "       [40, 80]])"
      ]
     },
     "execution_count": 38,
     "metadata": {},
     "output_type": "execute_result"
    }
   ],
   "source": [
    "ps4 = sz\n",
    "ns4 = 2*ps4\n",
    "np.array([ps4,ns4]).T"
   ]
  },
  {
   "cell_type": "code",
   "execution_count": 39,
   "metadata": {
    "autoscroll": "json-false",
    "collapsed": false,
    "deletable": true,
    "editable": true,
    "ein.tags": [
     "worksheet-6"
    ]
   },
   "outputs": [
    {
     "name": "stdout",
     "output_type": "stream",
     "text": [
      "Sampling 50 problems of size 80 × 41\n",
      "Sampling 50 problems of size 78 × 40\n",
      "Sampling 50 problems of size 76 × 39\n",
      "Sampling 50 problems of size 74 × 38\n",
      "Sampling 50 problems of size 72 × 37\n",
      "Sampling 50 problems of size 70 × 36\n",
      "Sampling 50 problems of size 68 × 35\n",
      "Sampling 50 problems of size 66 × 34\n",
      "Sampling 50 problems of size 64 × 33\n",
      "Sampling 50 problems of size 62 × 32\n",
      "Sampling 50 problems of size 60 × 31\n",
      "Sampling 50 problems of size 58 × 30\n",
      "Sampling 50 problems of size 56 × 29\n",
      "Sampling 50 problems of size 54 × 28\n",
      "Sampling 50 problems of size 52 × 27\n",
      "Sampling 50 problems of size 50 × 26\n",
      "Sampling 50 problems of size 48 × 25\n",
      "Sampling 50 problems of size 46 × 24\n",
      "Sampling 50 problems of size 44 × 23\n",
      "Sampling 50 problems of size 42 × 22\n",
      "Sampling 50 problems of size 40 × 21\n",
      "Sampling 50 problems of size 38 × 20\n",
      "Sampling 50 problems of size 36 × 19\n",
      "Sampling 50 problems of size 34 × 18\n",
      "Sampling 50 problems of size 32 × 17\n",
      "Sampling 50 problems of size 30 × 16\n",
      "Sampling 50 problems of size 28 × 15\n",
      "Sampling 50 problems of size 26 × 14\n",
      "Sampling 50 problems of size 24 × 13\n",
      "Sampling 50 problems of size 22 × 12\n",
      "Sampling 50 problems of size 20 × 11\n",
      "Sampling 50 problems of size 18 × 10\n",
      "Sampling 50 problems of size 16 × 9\n",
      "Sampling 50 problems of size 14 × 8\n",
      "Sampling 50 problems of size 12 × 7\n",
      "Sampling 50 problems of size 10 × 6\n",
      "Sampling 50 problems of size 8 × 5\n"
     ]
    }
   ],
   "source": [
    "n_experiments = 50\n",
    "\n",
    "qs4 = np.zeros(shape=(len(ns4),p_true+1,n_experiments))\n",
    "CEs_ins4 = np.empty(shape=(len(ns4),n_experiments))\n",
    "CEs_oos4 = np.empty(shape=(len(ns4),n_experiments))\n",
    "\n",
    "for i,(n,p) in enumerate(zip(ns4,ps4)):\n",
    "    print('Sampling %d problems of size %d × %d' % (n_experiments,n,p+1))\n",
    "    prs = pr.ProblemsDistribution(M,n,λ=1,u=u,Rf=0,problem_t=pr.MaskedProblem)\n",
    "    prs.sample(n_experiments,{'fs':range(p+1)},par=True)\n",
    "    qs4[i,:p+1,:] = prs.qs.T\n",
    "    CEs_ins4[i,:] = prs.CEs_ins\n",
    "    CEs_oos4[i,:] = prs.CEs_oos"
   ]
  },
  {
   "cell_type": "code",
   "execution_count": 40,
   "metadata": {
    "autoscroll": "json-false",
    "collapsed": false,
    "deletable": true,
    "editable": true,
    "ein.tags": [
     "worksheet-6"
    ]
   },
   "outputs": [],
   "source": [
    "\n",
    "error_CE4 = CEs_oos4-CEs_ins4\n",
    "center_CE4 = np.median(error_CE4,axis=1)\n",
    "bottom_CE4 = np.percentile(error_CE4,10,axis=1)-center_CE4\n",
    "top_CE4 = -np.percentile(error_CE4,90,axis=1)+center_CE4\n",
    "\n",
    "# error_bound4 = -(Ω/(D(u)(CEs_ins4)).T).T # double transpose is for broadcastigne\n",
    "# center_bound4 = np.median(error_bound4,axis=1)\n",
    "# bottom_bound4 = np.percentile(error_bound4,10,axis=1)-center_bound4\n",
    "# top_bound4 = -np.percentile(error_bound4,90,axis=1)+center_bound4\n",
    "\n",
    "for i in range(len(top_CE4)):\n",
    "    if (i+1)%3 != 0:\n",
    "        bottom_CE4[i] = np.nan\n",
    "        top_CE4[i] = np.nan\n",
    "        # bottom_bound4[i] = np.nan\n",
    "        # top_bound4[i] = np.nan"
   ]
  },
  {
   "cell_type": "code",
   "execution_count": 41,
   "metadata": {
    "autoscroll": "json-false",
    "collapsed": false,
    "deletable": true,
    "editable": true,
    "ein.tags": [
     "worksheet-6"
    ]
   },
   "outputs": [
    {
     "data": {
      "image/png": "[encoded data removed]",
      "text/plain": [
       "<matplotlib.figure.Figure at 0x107cb0b00>"
      ]
     },
     "metadata": {},
     "output_type": "display_data"
    }
   ],
   "source": [
    "fig4_oos = plt.figure()\n",
    "ax14_oos = fig4_oos.add_subplot(111)\n",
    "ax24_oos = ax14_oos.twinx()\n",
    "\n",
    "ax14_oos.errorbar(ps4,center_CE4,yerr=[top_CE4,bottom_CE4],color='b')\n",
    "ax14_oos.axis(xmin=min(ps4),xmax=max(ps4))\n",
    "ax14_oos.set_xlabel('$p$')\n",
    "ax14_oos.set_ylabel('Returns (\\%)');\n",
    "for t in ax14_oos.get_yticklabels():\n",
    "   t.set_color('b')\n",
    "\n",
    "# ax24_oos.errorbar(ns4,center_bound4,yerr=[top_bound4,bottom_bound4],color='r')\n",
    "# ax24_oos.axis(xmin=min(ns4),ymax=0,ymin=-1000000)\n",
    "# for t in ax24_oos.get_yticklabels():\n",
    "#     t.set_color('r')\n",
    "\n",
    "ax14_oos.set_title('Out-of-sample deviation with $p=O(n)$');"
   ]
  },
  {
   "cell_type": "code",
   "execution_count": 36,
   "metadata": {
    "autoscroll": "json-false",
    "collapsed": false,
    "deletable": true,
    "editable": true,
    "ein.tags": [
     "worksheet-6"
    ]
   },
   "outputs": [],
   "source": [
    "error_CE4sub = CE_star_q_star - CEs_oos4\n",
    "center_CE4sub = np.median(error_CE4sub,axis=1)\n",
    "bottom_CE4sub = np.percentile(error_CE4sub,10,axis=1)-center_CE4sub\n",
    "top_CE4sub = -np.percentile(error_CE4sub,90,axis=1)+center_CE4sub\n",
    "\n",
    "# error_bound4sub = -(ω/(D(u)(CEs_oos4)).T).T\n",
    "# center_bound4sub = np.median(error_bound4sub,axis=1)\n",
    "# bottom_bound4sub = np.percentile(error_bound4sub,10,axis=1)-center_bound4sub\n",
    "# top_bound4sub = -np.percentile(error_bound4sub,90,axis=1)+center_bound4sub\n",
    "\n",
    "for i in range(len(top_CE4sub)):\n",
    "    if (i+1)%3 != 0:\n",
    "        bottom_CE4sub[i] = np.nan\n",
    "        top_CE4sub[i] = np.nan\n",
    "        # bottom_bound4sub[i] = np.nan\n",
    "        # top_bound4sub[i] = np.nan"
   ]
  },
  {
   "cell_type": "code",
   "execution_count": 37,
   "metadata": {
    "autoscroll": "json-false",
    "collapsed": false,
    "deletable": true,
    "editable": true,
    "ein.tags": [
     "worksheet-6"
    ]
   },
   "outputs": [
    {
     "data": {
      "image/png": "[encoded data removed]",
      "text/plain": [
       "<matplotlib.figure.Figure at 0x114a70438>"
      ]
     },
     "metadata": {},
     "output_type": "display_data"
    }
   ],
   "source": [
    "fig4_sub = plt.figure()\n",
    "ax14_sub = fig4_sub.add_subplot(111)\n",
    "ax24_sub = ax14_sub.twinx()\n",
    "\n",
    "ax14_sub.errorbar(ns4,center_CE4sub,yerr=[top_CE4sub,bottom_CE4sub])\n",
    "ax14_sub.axis(xmin=min(ns4),xmax=max(ns4))\n",
    "ax14_sub.set_xlabel('$n$')\n",
    "ax14_sub.set_ylabel('Returns (\\%)');\n",
    "# ax12_sub.axis(ymax=7)\n",
    "for t in ax14_sub.get_yticklabels():\n",
    "    t.set_color('b')\n",
    "\n",
    "\n",
    "# ax24_sub.errorbar(ps4,center_bound4sub,yerr=[top_bound4sub,bottom_bound4sub],color='r')\n",
    "# # ax24_sub.axis(xmin=min(ns4),ymin=0,ymax=150000)\n",
    "# for t in ax24_sub.get_yticklabels():\n",
    "#     t.set_color('r')\n",
    "\n",
    "ax14_sub.set_title('Suboptimality deviation with $p=O(n)$');"
   ]
  },
  {
   "cell_type": "code",
   "execution_count": 0,
   "metadata": {
    "autoscroll": "json-false",
    "collapsed": false,
    "deletable": true,
    "editable": true,
    "ein.tags": [
     "worksheet-6"
    ]
   },
   "outputs": [],
   "source": []
  },
  {
   "cell_type": "code",
   "execution_count": 0,
   "metadata": {
    "autoscroll": "json-false",
    "collapsed": false,
    "deletable": true,
    "editable": true,
    "ein.tags": [
     "worksheet-7"
    ]
   },
   "outputs": [],
   "source": [
    "## λ=0, p = 4"
   ]
  },
  {
   "cell_type": "code",
   "execution_count": 43,
   "metadata": {
    "autoscroll": "json-false",
    "collapsed": false,
    "deletable": true,
    "editable": true,
    "ein.tags": [
     "worksheet-7"
    ]
   },
   "outputs": [
    {
     "data": {
      "text/plain": [
       "array([[ 4,  8],\n",
       "       [ 4, 10],\n",
       "       [ 4, 12],\n",
       "       [ 4, 14],\n",
       "       [ 4, 16],\n",
       "       [ 4, 18],\n",
       "       [ 4, 20],\n",
       "       [ 4, 22],\n",
       "       [ 4, 24],\n",
       "       [ 4, 26],\n",
       "       [ 4, 28],\n",
       "       [ 4, 30],\n",
       "       [ 4, 32],\n",
       "       [ 4, 34],\n",
       "       [ 4, 36],\n",
       "       [ 4, 38],\n",
       "       [ 4, 40],\n",
       "       [ 4, 42],\n",
       "       [ 4, 44],\n",
       "       [ 4, 46],\n",
       "       [ 4, 48],\n",
       "       [ 4, 50],\n",
       "       [ 4, 52],\n",
       "       [ 4, 54],\n",
       "       [ 4, 56],\n",
       "       [ 4, 58],\n",
       "       [ 4, 60],\n",
       "       [ 4, 62],\n",
       "       [ 4, 64],\n",
       "       [ 4, 66],\n",
       "       [ 4, 68],\n",
       "       [ 4, 70],\n",
       "       [ 4, 72],\n",
       "       [ 4, 74],\n",
       "       [ 4, 76],\n",
       "       [ 4, 78],\n",
       "       [ 4, 80]])"
      ]
     },
     "execution_count": 43,
     "metadata": {},
     "output_type": "execute_result"
    }
   ],
   "source": [
    "ps4 = np.ones_like(sz)*4\n",
    "ns4 = sz*2\n",
    "np.array([ps4,ns4]).T"
   ]
  },
  {
   "cell_type": "code",
   "execution_count": 51,
   "metadata": {
    "autoscroll": "json-false",
    "collapsed": false,
    "deletable": true,
    "editable": true,
    "ein.tags": [
     "worksheet-7"
    ]
   },
   "outputs": [
    {
     "name": "stdout",
     "output_type": "stream",
     "text": [
      "Sampling 50 problems of size 80 × 5\n",
      "Sampling 50 problems of size 78 × 5\n",
      "Sampling 50 problems of size 76 × 5\n",
      "Sampling 50 problems of size 74 × 5\n",
      "Sampling 50 problems of size 72 × 5\n",
      "Sampling 50 problems of size 70 × 5\n",
      "Sampling 50 problems of size 68 × 5\n",
      "Sampling 50 problems of size 66 × 5\n",
      "Sampling 50 problems of size 64 × 5\n",
      "Sampling 50 problems of size 62 × 5\n",
      "Sampling 50 problems of size 60 × 5\n",
      "Sampling 50 problems of size 58 × 5\n",
      "Sampling 50 problems of size 56 × 5\n",
      "Sampling 50 problems of size 54 × 5\n",
      "Sampling 50 problems of size 52 × 5\n",
      "Sampling 50 problems of size 50 × 5\n",
      "Sampling 50 problems of size 48 × 5\n",
      "Sampling 50 problems of size 46 × 5\n",
      "Sampling 50 problems of size 44 × 5\n",
      "Sampling 50 problems of size 42 × 5\n",
      "Sampling 50 problems of size 40 × 5\n",
      "Sampling 50 problems of size 38 × 5\n",
      "Sampling 50 problems of size 36 × 5\n",
      "Sampling 50 problems of size 34 × 5\n",
      "Sampling 50 problems of size 32 × 5\n",
      "Sampling 50 problems of size 30 × 5\n",
      "Sampling 50 problems of size 28 × 5\n",
      "Sampling 50 problems of size 26 × 5\n",
      "Sampling 50 problems of size 24 × 5\n",
      "Sampling 50 problems of size 22 × 5\n",
      "Sampling 50 problems of size 20 × 5\n",
      "Sampling 50 problems of size 18 × 5\n",
      "Sampling 50 problems of size 16 × 5\n",
      "Sampling 50 problems of size 14 × 5\n",
      "Sampling 50 problems of size 12 × 5\n",
      "Sampling 50 problems of size 10 × 5\n",
      "Sampling 50 problems of size 8 × 5\n"
     ]
    }
   ],
   "source": [
    "n_experiments = 50\n",
    "\n",
    "qs4 = np.zeros(shape=(len(ns4),p_true+1,n_experiments))\n",
    "CEs_ins4 = np.empty(shape=(len(ns4),n_experiments))\n",
    "CEs_oos4 = np.empty(shape=(len(ns4),n_experiments))\n",
    "\n",
    "for i,(n,p) in enumerate(zip(ns4,ps4)):\n",
    "    print('Sampling %d problems of size %d × %d' % (n_experiments,n,p+1))\n",
    "    prs = pr.ProblemsDistribution(M,n,λ=0,u=u,Rf=0,problem_t=pr.MaskedProblem)\n",
    "    prs.sample(n_experiments,{'fs':range(p+1)},par=True)\n",
    "    qs4[i,:p+1,:] = prs.qs.T\n",
    "    CEs_ins4[i,:] = prs.CEs_ins\n",
    "    CEs_oos4[i,:] = prs.CEs_oos"
   ]
  },
  {
   "cell_type": "code",
   "execution_count": 52,
   "metadata": {
    "autoscroll": "json-false",
    "collapsed": false,
    "deletable": true,
    "editable": true,
    "ein.tags": [
     "worksheet-7"
    ]
   },
   "outputs": [],
   "source": [
    "\n",
    "error_CE4 = CEs_oos4-CEs_ins4\n",
    "center_CE4 = np.median(error_CE4,axis=1)\n",
    "bottom_CE4 = np.percentile(error_CE4,10,axis=1)-center_CE4\n",
    "top_CE4 = -np.percentile(error_CE4,90,axis=1)+center_CE4\n",
    "\n",
    "# error_bound4 = -(Ω/(D(u)(CEs_ins4)).T).T # double transpose is for broadcastigne\n",
    "# center_bound4 = np.median(error_bound4,axis=1)\n",
    "# bottom_bound4 = np.percentile(error_bound4,10,axis=1)-center_bound4\n",
    "# top_bound4 = -np.percentile(error_bound4,90,axis=1)+center_bound4\n",
    "\n",
    "for i in range(len(top_CE4)):\n",
    "    if (i+1)%3 != 0:\n",
    "        bottom_CE4[i] = np.nan\n",
    "        top_CE4[i] = np.nan\n",
    "        # bottom_bound4[i] = np.nan\n",
    "        # top_bound4[i] = np.nan"
   ]
  },
  {
   "cell_type": "code",
   "execution_count": 53,
   "metadata": {
    "autoscroll": "json-false",
    "collapsed": false,
    "deletable": true,
    "editable": true,
    "ein.tags": [
     "worksheet-7"
    ]
   },
   "outputs": [
    {
     "data": {
      "image/png": "[encoded data removed]",
      "text/plain": [
       "<matplotlib.figure.Figure at 0x117b88898>"
      ]
     },
     "metadata": {},
     "output_type": "display_data"
    }
   ],
   "source": [
    "fig4_oos = plt.figure()\n",
    "ax14_oos = fig4_oos.add_subplot(111)\n",
    "ax24_oos = ax14_oos.twinx()\n",
    "\n",
    "ax14_oos.errorbar(ns4,center_CE4,yerr=[top_CE4,bottom_CE4],color='b')\n",
    "ax14_oos.axis(xmin=min(ns4),xmax=max(ns4))\n",
    "ax14_oos.set_xlabel('$n$')\n",
    "ax14_oos.set_ylabel('Returns (\\%)');\n",
    "for t in ax14_oos.get_yticklabels():\n",
    "   t.set_color('b')\n",
    "\n",
    "# ax24_oos.errorbar(ns4,center_bound4,yerr=[top_bound4,bottom_bound4],color='r')\n",
    "# ax24_oos.axis(xmin=min(ns4),ymax=0,ymin=-1000000)\n",
    "# for t in ax24_oos.get_yticklabels():\n",
    "#     t.set_color('r')\n",
    "\n",
    "ax14_oos.set_title('Out-of-sample deviation with $p=O(n)$');"
   ]
  },
  {
   "cell_type": "code",
   "execution_count": 0,
   "metadata": {
    "autoscroll": "json-false",
    "collapsed": false,
    "deletable": true,
    "editable": true,
    "ein.tags": [
     "worksheet-7"
    ]
   },
   "outputs": [],
   "source": []
  },
  {
   "cell_type": "code",
   "execution_count": 0,
   "metadata": {
    "autoscroll": "json-false",
    "collapsed": false,
    "deletable": true,
    "editable": true,
    "ein.tags": [
     "worksheet-8"
    ]
   },
   "outputs": [],
   "source": [
    "## λ = 0, p = \\sqrt{2n}"
   ]
  },
  {
   "cell_type": "code",
   "execution_count": 165,
   "metadata": {
    "autoscroll": "json-false",
    "collapsed": false,
    "deletable": true,
    "editable": true,
    "ein.tags": [
     "worksheet-8"
    ]
   },
   "outputs": [],
   "source": [
    "p_true = 40"
   ]
  },
  {
   "cell_type": "code",
   "execution_count": 246,
   "metadata": {
    "autoscroll": "json-false",
    "collapsed": false,
    "deletable": true,
    "editable": true,
    "ein.tags": [
     "worksheet-8"
    ]
   },
   "outputs": [
    {
     "data": {
      "text/plain": [
       "array([[   4.,    8.],\n",
       "       [   5.,   12.],\n",
       "       [   6.,   18.],\n",
       "       [   7.,   24.],\n",
       "       [   8.,   32.],\n",
       "       [   9.,   40.],\n",
       "       [  10.,   50.],\n",
       "       [  11.,   60.],\n",
       "       [  12.,   72.],\n",
       "       [  13.,   84.],\n",
       "       [  14.,   98.],\n",
       "       [  15.,  112.],\n",
       "       [  16.,  128.],\n",
       "       [  17.,  144.],\n",
       "       [  18.,  162.],\n",
       "       [  19.,  180.],\n",
       "       [  20.,  200.],\n",
       "       [  21.,  220.],\n",
       "       [  22.,  242.],\n",
       "       [  23.,  264.],\n",
       "       [  24.,  288.],\n",
       "       [  25.,  312.],\n",
       "       [  26.,  338.],\n",
       "       [  27.,  364.],\n",
       "       [  28.,  392.],\n",
       "       [  29.,  420.],\n",
       "       [  30.,  450.],\n",
       "       [  31.,  480.],\n",
       "       [  32.,  512.],\n",
       "       [  33.,  544.],\n",
       "       [  34.,  578.],\n",
       "       [  35.,  612.],\n",
       "       [  36.,  648.],\n",
       "       [  37.,  684.],\n",
       "       [  38.,  722.],\n",
       "       [  39.,  760.],\n",
       "       [  40.,  800.]])"
      ]
     },
     "execution_count": 246,
     "metadata": {},
     "output_type": "execute_result"
    }
   ],
   "source": [
    "ps4 = sz\n",
    "ns4 = np.floor(0.5*ps4**2)\n",
    "np.array([ps4,ns4]).T"
   ]
  },
  {
   "cell_type": "code",
   "execution_count": 247,
   "metadata": {
    "autoscroll": "json-false",
    "collapsed": false,
    "deletable": true,
    "editable": true,
    "ein.tags": [
     "worksheet-8"
    ]
   },
   "outputs": [
    {
     "ename": "PicklingError",
     "evalue": "Can't pickle <class 'model.distrs.DiscreteDistribution'>: it's not the same object as model.distrs.DiscreteDistribution",
     "output_type": "error",
     "traceback": [
      "\u001b[0;31m---------------------------------------------------------------------------\u001b[0m",
      "\u001b[0;31mPicklingError\u001b[0m                             Traceback (most recent call last)",
      "\u001b[0;32m<ipython-input-247-8379c580aed0>\u001b[0m in \u001b[0;36m<module>\u001b[0;34m()\u001b[0m\n\u001b[1;32m      8\u001b[0m     \u001b[0mprint\u001b[0m\u001b[0;34m(\u001b[0m\u001b[0;34m'Sampling %d problems of size %d × %d'\u001b[0m \u001b[0;34m%\u001b[0m \u001b[0;34m(\u001b[0m\u001b[0mn_experiments\u001b[0m\u001b[0;34m,\u001b[0m\u001b[0mn\u001b[0m\u001b[0;34m,\u001b[0m\u001b[0mp\u001b[0m\u001b[0;34m+\u001b[0m\u001b[0;36m1\u001b[0m\u001b[0;34m)\u001b[0m\u001b[0;34m)\u001b[0m\u001b[0;34m\u001b[0m\u001b[0m\n\u001b[1;32m      9\u001b[0m     \u001b[0mprs\u001b[0m \u001b[0;34m=\u001b[0m \u001b[0mpr\u001b[0m\u001b[0;34m.\u001b[0m\u001b[0mProblemsDistribution\u001b[0m\u001b[0;34m(\u001b[0m\u001b[0mM\u001b[0m\u001b[0;34m,\u001b[0m\u001b[0mn\u001b[0m\u001b[0;34m,\u001b[0m\u001b[0mλ\u001b[0m\u001b[0;34m=\u001b[0m\u001b[0;36m0\u001b[0m\u001b[0;34m,\u001b[0m\u001b[0mu\u001b[0m\u001b[0;34m=\u001b[0m\u001b[0mu\u001b[0m\u001b[0;34m,\u001b[0m\u001b[0mRf\u001b[0m\u001b[0;34m=\u001b[0m\u001b[0;36m0\u001b[0m\u001b[0;34m,\u001b[0m\u001b[0mproblem_t\u001b[0m\u001b[0;34m=\u001b[0m\u001b[0mpr\u001b[0m\u001b[0;34m.\u001b[0m\u001b[0mMaskedProblem\u001b[0m\u001b[0;34m)\u001b[0m\u001b[0;34m\u001b[0m\u001b[0m\n\u001b[0;32m---> 10\u001b[0;31m     \u001b[0mprs\u001b[0m\u001b[0;34m.\u001b[0m\u001b[0msample\u001b[0m\u001b[0;34m(\u001b[0m\u001b[0mn_experiments\u001b[0m\u001b[0;34m,\u001b[0m\u001b[0;34m{\u001b[0m\u001b[0;34m'fs'\u001b[0m\u001b[0;34m:\u001b[0m\u001b[0mrange\u001b[0m\u001b[0;34m(\u001b[0m\u001b[0mp\u001b[0m\u001b[0;34m+\u001b[0m\u001b[0;36m1\u001b[0m\u001b[0;34m)\u001b[0m\u001b[0;34m}\u001b[0m\u001b[0;34m,\u001b[0m\u001b[0mpar\u001b[0m\u001b[0;34m=\u001b[0m\u001b[0;32mTrue\u001b[0m\u001b[0;34m)\u001b[0m\u001b[0;34m\u001b[0m\u001b[0m\n\u001b[0m\u001b[1;32m     11\u001b[0m     \u001b[0mqs4\u001b[0m\u001b[0;34m[\u001b[0m\u001b[0mi\u001b[0m\u001b[0;34m,\u001b[0m\u001b[0;34m:\u001b[0m\u001b[0mp\u001b[0m\u001b[0;34m+\u001b[0m\u001b[0;36m1\u001b[0m\u001b[0;34m,\u001b[0m\u001b[0;34m:\u001b[0m\u001b[0;34m]\u001b[0m \u001b[0;34m=\u001b[0m \u001b[0mprs\u001b[0m\u001b[0;34m.\u001b[0m\u001b[0mqs\u001b[0m\u001b[0;34m.\u001b[0m\u001b[0mT\u001b[0m\u001b[0;34m\u001b[0m\u001b[0m\n\u001b[1;32m     12\u001b[0m     \u001b[0mCEs_ins4\u001b[0m\u001b[0;34m[\u001b[0m\u001b[0mi\u001b[0m\u001b[0;34m,\u001b[0m\u001b[0;34m:\u001b[0m\u001b[0;34m]\u001b[0m \u001b[0;34m=\u001b[0m \u001b[0mprs\u001b[0m\u001b[0;34m.\u001b[0m\u001b[0mCEs_ins\u001b[0m\u001b[0;34m\u001b[0m\u001b[0m\n",
      "\u001b[0;32m/Users/TBM/Recherche/Memoire/Model/model/problem.py\u001b[0m in \u001b[0;36msample\u001b[0;34m(self, m, specific_args, par)\u001b[0m\n\u001b[1;32m    358\u001b[0m             \u001b[0mctx\u001b[0m \u001b[0;34m=\u001b[0m \u001b[0mmp\u001b[0m\u001b[0;34m.\u001b[0m\u001b[0mget_context\u001b[0m\u001b[0;34m(\u001b[0m\u001b[0;34m'forkserver'\u001b[0m\u001b[0;34m)\u001b[0m\u001b[0;34m\u001b[0m\u001b[0m\n\u001b[1;32m    359\u001b[0m             \u001b[0;32mwith\u001b[0m \u001b[0mctx\u001b[0m\u001b[0;34m.\u001b[0m\u001b[0mPool\u001b[0m\u001b[0;34m(\u001b[0m\u001b[0mctx\u001b[0m\u001b[0;34m.\u001b[0m\u001b[0mcpu_count\u001b[0m\u001b[0;34m(\u001b[0m\u001b[0;34m)\u001b[0m\u001b[0;34m)\u001b[0m \u001b[0;32mas\u001b[0m \u001b[0mpool\u001b[0m\u001b[0;34m:\u001b[0m\u001b[0;34m\u001b[0m\u001b[0m\n\u001b[0;32m--> 360\u001b[0;31m                 \u001b[0mps\u001b[0m \u001b[0;34m=\u001b[0m \u001b[0mpool\u001b[0m\u001b[0;34m.\u001b[0m\u001b[0mmap\u001b[0m\u001b[0;34m(\u001b[0m\u001b[0mself\u001b[0m\u001b[0;34m.\u001b[0m\u001b[0m_p_hat\u001b[0m\u001b[0;34m,\u001b[0m\u001b[0;34m[\u001b[0m\u001b[0m_\u001b[0m\u001b[0;34m]\u001b[0m\u001b[0;34m*\u001b[0m\u001b[0mm\u001b[0m\u001b[0;34m)\u001b[0m\u001b[0;34m\u001b[0m\u001b[0m\n\u001b[0m\u001b[1;32m    361\u001b[0m         \u001b[0;32melse\u001b[0m\u001b[0;34m:\u001b[0m\u001b[0;34m\u001b[0m\u001b[0m\n\u001b[1;32m    362\u001b[0m             \u001b[0mps\u001b[0m \u001b[0;34m=\u001b[0m \u001b[0;34m[\u001b[0m\u001b[0mself\u001b[0m\u001b[0;34m.\u001b[0m\u001b[0m_p_hat\u001b[0m\u001b[0;34m(\u001b[0m\u001b[0m_\u001b[0m\u001b[0;34m)\u001b[0m \u001b[0;32mfor\u001b[0m \u001b[0m_\u001b[0m \u001b[0;32min\u001b[0m \u001b[0mrange\u001b[0m\u001b[0;34m(\u001b[0m\u001b[0mm\u001b[0m\u001b[0;34m)\u001b[0m\u001b[0;34m]\u001b[0m\u001b[0;34m\u001b[0m\u001b[0m\n",
      "\u001b[0;32m/usr/local/Cellar/python3/3.5.1/Frameworks/Python.framework/Versions/3.5/lib/python3.5/multiprocessing/pool.py\u001b[0m in \u001b[0;36mmap\u001b[0;34m(self, func, iterable, chunksize)\u001b[0m\n\u001b[1;32m    258\u001b[0m         \u001b[0;32min\u001b[0m \u001b[0ma\u001b[0m \u001b[0mlist\u001b[0m \u001b[0mthat\u001b[0m \u001b[0;32mis\u001b[0m \u001b[0mreturned\u001b[0m\u001b[0;34m.\u001b[0m\u001b[0;34m\u001b[0m\u001b[0m\n\u001b[1;32m    259\u001b[0m         '''\n\u001b[0;32m--> 260\u001b[0;31m         \u001b[0;32mreturn\u001b[0m \u001b[0mself\u001b[0m\u001b[0;34m.\u001b[0m\u001b[0m_map_async\u001b[0m\u001b[0;34m(\u001b[0m\u001b[0mfunc\u001b[0m\u001b[0;34m,\u001b[0m \u001b[0miterable\u001b[0m\u001b[0;34m,\u001b[0m \u001b[0mmapstar\u001b[0m\u001b[0;34m,\u001b[0m \u001b[0mchunksize\u001b[0m\u001b[0;34m)\u001b[0m\u001b[0;34m.\u001b[0m\u001b[0mget\u001b[0m\u001b[0;34m(\u001b[0m\u001b[0;34m)\u001b[0m\u001b[0;34m\u001b[0m\u001b[0m\n\u001b[0m\u001b[1;32m    261\u001b[0m \u001b[0;34m\u001b[0m\u001b[0m\n\u001b[1;32m    262\u001b[0m     \u001b[0;32mdef\u001b[0m \u001b[0mstarmap\u001b[0m\u001b[0;34m(\u001b[0m\u001b[0mself\u001b[0m\u001b[0;34m,\u001b[0m \u001b[0mfunc\u001b[0m\u001b[0;34m,\u001b[0m \u001b[0miterable\u001b[0m\u001b[0;34m,\u001b[0m \u001b[0mchunksize\u001b[0m\u001b[0;34m=\u001b[0m\u001b[0;32mNone\u001b[0m\u001b[0;34m)\u001b[0m\u001b[0;34m:\u001b[0m\u001b[0;34m\u001b[0m\u001b[0m\n",
      "\u001b[0;32m/usr/local/Cellar/python3/3.5.1/Frameworks/Python.framework/Versions/3.5/lib/python3.5/multiprocessing/pool.py\u001b[0m in \u001b[0;36mget\u001b[0;34m(self, timeout)\u001b[0m\n\u001b[1;32m    606\u001b[0m             \u001b[0;32mreturn\u001b[0m \u001b[0mself\u001b[0m\u001b[0;34m.\u001b[0m\u001b[0m_value\u001b[0m\u001b[0;34m\u001b[0m\u001b[0m\n\u001b[1;32m    607\u001b[0m         \u001b[0;32melse\u001b[0m\u001b[0;34m:\u001b[0m\u001b[0;34m\u001b[0m\u001b[0m\n\u001b[0;32m--> 608\u001b[0;31m             \u001b[0;32mraise\u001b[0m \u001b[0mself\u001b[0m\u001b[0;34m.\u001b[0m\u001b[0m_value\u001b[0m\u001b[0;34m\u001b[0m\u001b[0m\n\u001b[0m\u001b[1;32m    609\u001b[0m \u001b[0;34m\u001b[0m\u001b[0m\n\u001b[1;32m    610\u001b[0m     \u001b[0;32mdef\u001b[0m \u001b[0m_set\u001b[0m\u001b[0;34m(\u001b[0m\u001b[0mself\u001b[0m\u001b[0;34m,\u001b[0m \u001b[0mi\u001b[0m\u001b[0;34m,\u001b[0m \u001b[0mobj\u001b[0m\u001b[0;34m)\u001b[0m\u001b[0;34m:\u001b[0m\u001b[0;34m\u001b[0m\u001b[0m\n",
      "\u001b[0;32m/usr/local/Cellar/python3/3.5.1/Frameworks/Python.framework/Versions/3.5/lib/python3.5/multiprocessing/pool.py\u001b[0m in \u001b[0;36m_handle_tasks\u001b[0;34m(taskqueue, put, outqueue, pool, cache)\u001b[0m\n\u001b[1;32m    383\u001b[0m                         \u001b[0;32mbreak\u001b[0m\u001b[0;34m\u001b[0m\u001b[0m\n\u001b[1;32m    384\u001b[0m                     \u001b[0;32mtry\u001b[0m\u001b[0;34m:\u001b[0m\u001b[0;34m\u001b[0m\u001b[0m\n\u001b[0;32m--> 385\u001b[0;31m                         \u001b[0mput\u001b[0m\u001b[0;34m(\u001b[0m\u001b[0mtask\u001b[0m\u001b[0;34m)\u001b[0m\u001b[0;34m\u001b[0m\u001b[0m\n\u001b[0m\u001b[1;32m    386\u001b[0m                     \u001b[0;32mexcept\u001b[0m \u001b[0mException\u001b[0m \u001b[0;32mas\u001b[0m \u001b[0me\u001b[0m\u001b[0;34m:\u001b[0m\u001b[0;34m\u001b[0m\u001b[0m\n\u001b[1;32m    387\u001b[0m                         \u001b[0mjob\u001b[0m\u001b[0;34m,\u001b[0m \u001b[0mind\u001b[0m \u001b[0;34m=\u001b[0m \u001b[0mtask\u001b[0m\u001b[0;34m[\u001b[0m\u001b[0;34m:\u001b[0m\u001b[0;36m2\u001b[0m\u001b[0;34m]\u001b[0m\u001b[0;34m\u001b[0m\u001b[0m\n",
      "\u001b[0;32m/usr/local/Cellar/python3/3.5.1/Frameworks/Python.framework/Versions/3.5/lib/python3.5/multiprocessing/connection.py\u001b[0m in \u001b[0;36msend\u001b[0;34m(self, obj)\u001b[0m\n\u001b[1;32m    204\u001b[0m         \u001b[0mself\u001b[0m\u001b[0;34m.\u001b[0m\u001b[0m_check_closed\u001b[0m\u001b[0;34m(\u001b[0m\u001b[0;34m)\u001b[0m\u001b[0;34m\u001b[0m\u001b[0m\n\u001b[1;32m    205\u001b[0m         \u001b[0mself\u001b[0m\u001b[0;34m.\u001b[0m\u001b[0m_check_writable\u001b[0m\u001b[0;34m(\u001b[0m\u001b[0;34m)\u001b[0m\u001b[0;34m\u001b[0m\u001b[0m\n\u001b[0;32m--> 206\u001b[0;31m         \u001b[0mself\u001b[0m\u001b[0;34m.\u001b[0m\u001b[0m_send_bytes\u001b[0m\u001b[0;34m(\u001b[0m\u001b[0mForkingPickler\u001b[0m\u001b[0;34m.\u001b[0m\u001b[0mdumps\u001b[0m\u001b[0;34m(\u001b[0m\u001b[0mobj\u001b[0m\u001b[0;34m)\u001b[0m\u001b[0;34m)\u001b[0m\u001b[0;34m\u001b[0m\u001b[0m\n\u001b[0m\u001b[1;32m    207\u001b[0m \u001b[0;34m\u001b[0m\u001b[0m\n\u001b[1;32m    208\u001b[0m     \u001b[0;32mdef\u001b[0m \u001b[0mrecv_bytes\u001b[0m\u001b[0;34m(\u001b[0m\u001b[0mself\u001b[0m\u001b[0;34m,\u001b[0m \u001b[0mmaxlength\u001b[0m\u001b[0;34m=\u001b[0m\u001b[0;32mNone\u001b[0m\u001b[0;34m)\u001b[0m\u001b[0;34m:\u001b[0m\u001b[0;34m\u001b[0m\u001b[0m\n",
      "\u001b[0;32m/usr/local/Cellar/python3/3.5.1/Frameworks/Python.framework/Versions/3.5/lib/python3.5/multiprocessing/reduction.py\u001b[0m in \u001b[0;36mdumps\u001b[0;34m(cls, obj, protocol)\u001b[0m\n\u001b[1;32m     48\u001b[0m     \u001b[0;32mdef\u001b[0m \u001b[0mdumps\u001b[0m\u001b[0;34m(\u001b[0m\u001b[0mcls\u001b[0m\u001b[0;34m,\u001b[0m \u001b[0mobj\u001b[0m\u001b[0;34m,\u001b[0m \u001b[0mprotocol\u001b[0m\u001b[0;34m=\u001b[0m\u001b[0;32mNone\u001b[0m\u001b[0;34m)\u001b[0m\u001b[0;34m:\u001b[0m\u001b[0;34m\u001b[0m\u001b[0m\n\u001b[1;32m     49\u001b[0m         \u001b[0mbuf\u001b[0m \u001b[0;34m=\u001b[0m \u001b[0mio\u001b[0m\u001b[0;34m.\u001b[0m\u001b[0mBytesIO\u001b[0m\u001b[0;34m(\u001b[0m\u001b[0;34m)\u001b[0m\u001b[0;34m\u001b[0m\u001b[0m\n\u001b[0;32m---> 50\u001b[0;31m         \u001b[0mcls\u001b[0m\u001b[0;34m(\u001b[0m\u001b[0mbuf\u001b[0m\u001b[0;34m,\u001b[0m \u001b[0mprotocol\u001b[0m\u001b[0;34m)\u001b[0m\u001b[0;34m.\u001b[0m\u001b[0mdump\u001b[0m\u001b[0;34m(\u001b[0m\u001b[0mobj\u001b[0m\u001b[0;34m)\u001b[0m\u001b[0;34m\u001b[0m\u001b[0m\n\u001b[0m\u001b[1;32m     51\u001b[0m         \u001b[0;32mreturn\u001b[0m \u001b[0mbuf\u001b[0m\u001b[0;34m.\u001b[0m\u001b[0mgetbuffer\u001b[0m\u001b[0;34m(\u001b[0m\u001b[0;34m)\u001b[0m\u001b[0;34m\u001b[0m\u001b[0m\n\u001b[1;32m     52\u001b[0m \u001b[0;34m\u001b[0m\u001b[0m\n",
      "\u001b[0;31mPicklingError\u001b[0m: Can't pickle <class 'model.distrs.DiscreteDistribution'>: it's not the same object as model.distrs.DiscreteDistribution"
     ]
    },
    {
     "name": "stdout",
     "output_type": "stream",
     "text": [
      "Sampling 50 problems of size 8 × 5\n"
     ]
    }
   ],
   "source": [
    "n_experiments = 50\n",
    "\n",
    "qs4 = np.zeros(shape=(len(ns4),p_true+1,n_experiments))\n",
    "CEs_ins4 = np.empty(shape=(len(ns4),n_experiments))\n",
    "CEs_oos4 = np.empty(shape=(len(ns4),n_experiments))\n",
    "\n",
    "for i,(n,p) in enumerate(zip(ns4,ps4)):\n",
    "    print('Sampling %d problems of size %d × %d' % (n_experiments,n,p+1))\n",
    "    prs = pr.ProblemsDistribution(M,n,λ=0,u=u,Rf=0,problem_t=pr.MaskedProblem)\n",
    "    prs.sample(n_experiments,{'fs':range(p+1)},par=True)\n",
    "    qs4[i,:p+1,:] = prs.qs.T\n",
    "    CEs_ins4[i,:] = prs.CEs_ins\n",
    "    CEs_oos4[i,:] = prs.CEs_oos"
   ]
  },
  {
   "cell_type": "code",
   "execution_count": 199,
   "metadata": {
    "autoscroll": "json-false",
    "collapsed": false,
    "deletable": true,
    "editable": true,
    "ein.tags": [
     "worksheet-8"
    ]
   },
   "outputs": [],
   "source": [
    "error_CE4 = CEs_oos4-CEs_ins4\n",
    "center_CE4 = np.median(error_CE4,axis=1)\n",
    "bottom_CE4 = np.percentile(error_CE4,10,axis=1)-center_CE4\n",
    "top_CE4 = -np.percentile(error_CE4,90,axis=1)+center_CE4\n",
    "\n",
    "# error_bound4 = -(Ω/(D(u)(CEs_ins4)).T).T # double transpose is for broadcastigne\n",
    "# center_bound4 = np.median(error_bound4,axis=1)\n",
    "# bottom_bound4 = np.percentile(error_bound4,10,axis=1)-center_bound4\n",
    "# top_bound4 = -np.percentile(error_bound4,90,axis=1)+center_bound4\n",
    "\n",
    "for i in range(len(top_CE4)):\n",
    "    if (i+1)%3 != 0:\n",
    "        bottom_CE4[i] = np.nan\n",
    "        top_CE4[i] = np.nan\n",
    "        # bottom_bound4[i] = np.nan\n",
    "        # top_bound4[i] = np.nan"
   ]
  },
  {
   "cell_type": "code",
   "execution_count": 200,
   "metadata": {
    "autoscroll": "json-false",
    "collapsed": false,
    "deletable": true,
    "editable": true,
    "ein.tags": [
     "worksheet-8"
    ]
   },
   "outputs": [
    {
     "data": {
      "image/png": "[encoded data removed]",
      "text/plain": [
       "<matplotlib.figure.Figure at 0x111526630>"
      ]
     },
     "metadata": {},
     "output_type": "display_data"
    }
   ],
   "source": [
    "fig4_oos = plt.figure()\n",
    "ax14_oos = fig4_oos.add_subplot(111)\n",
    "ax24_oos = ax14_oos.twinx()\n",
    "\n",
    "ax14_oos.errorbar(ps4,center_CE4,yerr=[top_CE4,bottom_CE4],color='b')\n",
    "ax14_oos.axis(xmin=min(ps4),xmax=max(ps4),ymin=-50)\n",
    "ax14_oos.set_xlabel('$p$')\n",
    "ax14_oos.set_ylabel('Returns (\\%)');\n",
    "for t in ax14_oos.get_yticklabels():\n",
    "   t.set_color('b')\n",
    "\n",
    "# ax24_oos.errorbar(ns4,center_bound4,yerr=[top_bound4,bottom_bound4],color='r')\n",
    "# ax24_oos.axis(xmin=min(ns4),ymax=0,ymin=-1000000)\n",
    "# for t in ax24_oos.get_yticklabels():\n",
    "#     t.set_color('r')\n",
    "\n",
    "ax14_oos.set_title('Out-of-sample deviation with $p=O(\\sqrt{n})$');"
   ]
  },
  {
   "cell_type": "code",
   "execution_count": 0,
   "metadata": {
    "autoscroll": "json-false",
    "collapsed": false,
    "deletable": true,
    "editable": true,
    "ein.tags": [
     "worksheet-8"
    ]
   },
   "outputs": [],
   "source": []
  },
  {
   "cell_type": "code",
   "execution_count": 0,
   "metadata": {
    "autoscroll": "json-false",
    "collapsed": false,
    "deletable": true,
    "editable": true,
    "ein.tags": [
     "worksheet-9"
    ]
   },
   "outputs": [],
   "source": [
    "## $λ = 0, n = 2p$"
   ]
  },
  {
   "cell_type": "code",
   "execution_count": 7,
   "metadata": {
    "autoscroll": "json-false",
    "collapsed": false,
    "deletable": true,
    "editable": true,
    "ein.tags": [
     "worksheet-9"
    ]
   },
   "outputs": [
    {
     "data": {
      "text/plain": [
       "array([[ 4,  8],\n",
       "       [ 5, 10],\n",
       "       [ 6, 12],\n",
       "       [ 7, 14],\n",
       "       [ 8, 16],\n",
       "       [ 9, 18],\n",
       "       [10, 20],\n",
       "       [11, 22],\n",
       "       [12, 24],\n",
       "       [13, 26],\n",
       "       [14, 28],\n",
       "       [15, 30],\n",
       "       [16, 32],\n",
       "       [17, 34],\n",
       "       [18, 36],\n",
       "       [19, 38],\n",
       "       [20, 40],\n",
       "       [21, 42],\n",
       "       [22, 44],\n",
       "       [23, 46],\n",
       "       [24, 48],\n",
       "       [25, 50],\n",
       "       [26, 52],\n",
       "       [27, 54],\n",
       "       [28, 56],\n",
       "       [29, 58],\n",
       "       [30, 60],\n",
       "       [31, 62],\n",
       "       [32, 64],\n",
       "       [33, 66],\n",
       "       [34, 68],\n",
       "       [35, 70],\n",
       "       [36, 72],\n",
       "       [37, 74],\n",
       "       [38, 76],\n",
       "       [39, 78],\n",
       "       [40, 80]])"
      ]
     },
     "execution_count": 7,
     "metadata": {},
     "output_type": "execute_result"
    }
   ],
   "source": [
    "ps4 = sz\n",
    "ns4 = 2*ps4\n",
    "np.array([ps4,ns4]).T"
   ]
  },
  {
   "cell_type": "code",
   "execution_count": 8,
   "metadata": {
    "autoscroll": "json-false",
    "collapsed": true,
    "deletable": true,
    "editable": true,
    "ein.tags": [
     "worksheet-9"
    ]
   },
   "outputs": [
    {
     "name": "stdout",
     "output_type": "stream",
     "text": [
      "Sampling 150 problems of size 80 × 41\n",
      "Sampling 150 problems of size 78 × 40\n",
      "Sampling 150 problems of size 76 × 39\n",
      "Sampling 150 problems of size 74 × 38\n",
      "Sampling 150 problems of size 72 × 37\n",
      "Sampling 150 problems of size 70 × 36\n",
      "Sampling 150 problems of size 68 × 35\n",
      "Sampling 150 problems of size 66 × 34\n",
      "Sampling 150 problems of size 64 × 33\n",
      "Sampling 150 problems of size 62 × 32\n",
      "Sampling 150 problems of size 60 × 31\n",
      "Sampling 150 problems of size 58 × 30\n",
      "Sampling 150 problems of size 56 × 29\n",
      "Sampling 150 problems of size 54 × 28\n",
      "Sampling 150 problems of size 52 × 27\n",
      "Sampling 150 problems of size 50 × 26\n",
      "Sampling 150 problems of size 48 × 25\n",
      "Sampling 150 problems of size 46 × 24\n",
      "Sampling 150 problems of size 44 × 23\n",
      "Sampling 150 problems of size 42 × 22\n",
      "Sampling 150 problems of size 40 × 21\n",
      "Sampling 150 problems of size 38 × 20\n",
      "Sampling 150 problems of size 36 × 19\n",
      "Sampling 150 problems of size 34 × 18\n",
      "Sampling 150 problems of size 32 × 17\n",
      "Sampling 150 problems of size 30 × 16\n",
      "Sampling 150 problems of size 28 × 15\n",
      "Sampling 150 problems of size 26 × 14\n",
      "Sampling 150 problems of size 24 × 13\n",
      "Sampling 150 problems of size 22 × 12\n",
      "Sampling 150 problems of size 20 × 11\n",
      "Sampling 150 problems of size 18 × 10\n",
      "Sampling 150 problems of size 16 × 9\n",
      "Sampling 150 problems of size 14 × 8\n",
      "Sampling 150 problems of size 12 × 7\n",
      "Sampling 150 problems of size 10 × 6\n",
      "Sampling 150 problems of size 8 × 5\n"
     ]
    }
   ],
   "source": [
    "n_experiments = 150\n",
    "\n",
    "qs4 = np.zeros(shape=(len(ns4),p_true+1,n_experiments))\n",
    "CEs_ins4 = np.empty(shape=(len(ns4),n_experiments))\n",
    "CEs_oos4 = np.empty(shape=(len(ns4),n_experiments))\n",
    "\n",
    "for i,(n,p) in enumerate(zip(ns4,ps4)):\n",
    "    print('Sampling %d problems of size %d × %d' % (n_experiments,n,p+1))\n",
    "    prs = pr.ProblemsDistribution(M,n,λ=0,u=u,Rf=0,problem_t=pr.MaskedProblem)\n",
    "    prs.solver = cvx.CVXOPT\n",
    "    prs.sample(n_experiments,{'fs':range(p+1)},par=True)\n",
    "    qs4[i,:p+1,:] = prs.qs.T\n",
    "    CEs_ins4[i,:] = prs.CEs_ins\n",
    "    CEs_oos4[i,:] = prs.CEs_oos"
   ]
  },
  {
   "cell_type": "code",
   "execution_count": 9,
   "metadata": {
    "autoscroll": "json-false",
    "collapsed": false,
    "deletable": true,
    "editable": true,
    "ein.tags": [
     "worksheet-9"
    ]
   },
   "outputs": [],
   "source": [
    "error_CE4 = CEs_oos4-CEs_ins4\n",
    "center_CE4 = np.median(error_CE4,axis=1)\n",
    "bottom_CE4 = np.percentile(error_CE4,10,axis=1)-center_CE4\n",
    "top_CE4 = -np.percentile(error_CE4,90,axis=1)+center_CE4\n",
    "\n",
    "# error_bound4 = -(Ω/(D(u)(CEs_ins4)).T).T # double transpose is for broadcastigne\n",
    "# center_bound4 = np.median(error_bound4,axis=1)\n",
    "# bottom_bound4 = np.percentile(error_bound4,10,axis=1)-center_bound4\n",
    "# top_bound4 = -np.percentile(error_bound4,90,axis=1)+center_bound4\n",
    "\n",
    "for i in range(len(top_CE4)):\n",
    "    if (i+1)%3 != 0:\n",
    "        bottom_CE4[i] = np.nan\n",
    "        top_CE4[i] = np.nan\n",
    "        # bottom_bound4[i] = np.nan\n",
    "        # top_bound4[i] = np.nan"
   ]
  },
  {
   "cell_type": "code",
   "execution_count": 19,
   "metadata": {
    "autoscroll": "json-false",
    "collapsed": false,
    "deletable": true,
    "editable": true,
    "ein.tags": [
     "worksheet-9"
    ]
   },
   "outputs": [
    {
     "data": {
      "image/png": "[encoded data removed]",
      "text/plain": [
       "<matplotlib.figure.Figure at 0x10ecf8668>"
      ]
     },
     "metadata": {},
     "output_type": "display_data"
    }
   ],
   "source": [
    "fig4_oos = plt.figure()\n",
    "ax14_oos = fig4_oos.add_subplot(111)\n",
    "ax24_oos = ax14_oos.twinx()\n",
    "\n",
    "ax14_oos.errorbar(ps4,center_CE4,yerr=[top_CE4,bottom_CE4],color='b')\n",
    "ax14_oos.axis(xmin=min(ps4))\n",
    "ax14_oos.set_xlabel('$p$')\n",
    "ax14_oos.set_ylabel('Returns (\\%)');\n",
    "for t in ax14_oos.get_yticklabels():\n",
    "   t.set_color('b')\n",
    "\n",
    "# ax24_oos.errorbar(ns4,center_bound4,yerr=[top_bound4,bottom_bound4],color='r')\n",
    "# ax24_oos.axis(xmin=min(ns4),ymax=0,ymin=-1000000)\n",
    "# for t in ax24_oos.get_yticklabels():\n",
    "#     t.set_color('r')\n",
    "\n",
    "ax14_oos.set_title('Out-of-sample deviation with $p=O(n)$ and $\\lambda = 0$');"
   ]
  },
  {
   "cell_type": "code",
   "execution_count": 20,
   "metadata": {
    "autoscroll": "json-false",
    "collapsed": false,
    "deletable": true,
    "editable": true,
    "ein.tags": [
     "worksheet-9"
    ]
   },
   "outputs": [],
   "source": [
    "fig4_oos.savefig('o(n)-λ=0-oos.pdf')"
   ]
  },
  {
   "cell_type": "code",
   "execution_count": 16,
   "metadata": {
    "autoscroll": "json-false",
    "collapsed": false,
    "deletable": true,
    "editable": true,
    "ein.tags": [
     "worksheet-9"
    ]
   },
   "outputs": [],
   "source": [
    "error_CE4sub = CE_star_q_star - CEs_oos4\n",
    "center_CE4sub = np.median(error_CE4sub,axis=1)\n",
    "bottom_CE4sub = np.percentile(error_CE4sub,10,axis=1)-center_CE4sub\n",
    "top_CE4sub = -np.percentile(error_CE4sub,90,axis=1)+center_CE4sub\n",
    "\n",
    "# error_bound4sub = -(ω/(D(u)(CEs_oos4)).T).T\n",
    "# center_bound4sub = np.median(error_bound4sub,axis=1)\n",
    "# bottom_bound4sub = np.percentile(error_bound4sub,10,axis=1)-center_bound4sub\n",
    "# top_bound4sub = -np.percentile(error_bound4sub,90,axis=1)+center_bound4sub\n",
    "\n",
    "for i in range(len(top_CE4sub)):\n",
    "    if (i+1)%3 != 0:\n",
    "        bottom_CE4sub[i] = np.nan\n",
    "        top_CE4sub[i] = np.nan\n",
    "        # bottom_bound4sub[i] = np.nan\n",
    "        # top_bound4sub[i] = np.nan"
   ]
  },
  {
   "cell_type": "code",
   "execution_count": 18,
   "metadata": {
    "autoscroll": "json-false",
    "collapsed": false,
    "deletable": true,
    "editable": true,
    "ein.tags": [
     "worksheet-9"
    ]
   },
   "outputs": [
    {
     "data": {
      "image/png": "[encoded data removed]",
      "text/plain": [
       "<matplotlib.figure.Figure at 0x109803860>"
      ]
     },
     "metadata": {},
     "output_type": "display_data"
    }
   ],
   "source": [
    "fig4_sub = plt.figure()\n",
    "ax14_sub = fig4_sub.add_subplot(111)\n",
    "ax24_sub = ax14_sub.twinx()\n",
    "\n",
    "ax14_sub.errorbar(ns4,center_CE4sub,yerr=[top_CE4sub,bottom_CE4sub])\n",
    "ax14_sub.axis(xmin=min(ns4),xmax=max(ns4))\n",
    "ax14_sub.set_xlabel('$n$')\n",
    "ax14_sub.set_ylabel('Returns (\\%)');\n",
    "# ax12_sub.axis(ymax=7)\n",
    "for t in ax14_sub.get_yticklabels():\n",
    "    t.set_color('b')\n",
    "\n",
    "\n",
    "# ax24_sub.errorbar(ps4,center_bound4sub,yerr=[top_bound4sub,bottom_bound4sub],color='r')\n",
    "# # ax24_sub.axis(xmin=min(ns4),ymin=0,ymax=150000)\n",
    "# for t in ax24_sub.get_yticklabels():\n",
    "#     t.set_color('r')\n",
    "\n",
    "ax14_sub.set_title('Suboptimality deviation with $p=O(n)$ and $\\lambda = 0$');"
   ]
  },
  {
   "cell_type": "code",
   "execution_count": 0,
   "metadata": {
    "autoscroll": "json-false",
    "collapsed": false,
    "deletable": true,
    "editable": true,
    "ein.tags": [
     "worksheet-9"
    ]
   },
   "outputs": [],
   "source": []
  },
  {
   "cell_type": "code",
   "execution_count": 21,
   "metadata": {
    "autoscroll": "json-false",
    "collapsed": false,
    "deletable": true,
    "editable": true,
    "ein.tags": [
     "worksheet-10"
    ]
   },
   "outputs": [],
   "source": [
    "## $λ \\neq 0, n = 2p$"
   ]
  },
  {
   "cell_type": "code",
   "execution_count": 21,
   "metadata": {
    "autoscroll": "json-false",
    "collapsed": false,
    "deletable": true,
    "editable": true,
    "ein.tags": [
     "worksheet-10"
    ]
   },
   "outputs": [
    {
     "data": {
      "text/plain": [
       "array([[  4,   8],\n",
       "       [  6,  12],\n",
       "       [  8,  16],\n",
       "       [ 10,  20],\n",
       "       [ 12,  24],\n",
       "       [ 14,  28],\n",
       "       [ 16,  32],\n",
       "       [ 18,  36],\n",
       "       [ 20,  40],\n",
       "       [ 22,  44],\n",
       "       [ 24,  48],\n",
       "       [ 26,  52],\n",
       "       [ 28,  56],\n",
       "       [ 30,  60],\n",
       "       [ 32,  64],\n",
       "       [ 34,  68],\n",
       "       [ 36,  72],\n",
       "       [ 38,  76],\n",
       "       [ 40,  80],\n",
       "       [ 42,  84],\n",
       "       [ 44,  88],\n",
       "       [ 46,  92],\n",
       "       [ 48,  96],\n",
       "       [ 50, 100],\n",
       "       [ 52, 104],\n",
       "       [ 54, 108],\n",
       "       [ 56, 112],\n",
       "       [ 58, 116],\n",
       "       [ 60, 120],\n",
       "       [ 62, 124],\n",
       "       [ 64, 128],\n",
       "       [ 66, 132],\n",
       "       [ 68, 136],\n",
       "       [ 70, 140],\n",
       "       [ 72, 144],\n",
       "       [ 74, 148],\n",
       "       [ 76, 152],\n",
       "       [ 78, 156],\n",
       "       [ 80, 160]])"
      ]
     },
     "execution_count": 21,
     "metadata": {},
     "output_type": "execute_result"
    }
   ],
   "source": [
    "ps4 = sz\n",
    "ps4 = np.array([el for el in list(ps4) if el%2 == 0])\n",
    "ns4 = 2*ps4\n",
    "λ = 1e-4\n",
    "np.array([ps4,ns4]).T"
   ]
  },
  {
   "cell_type": "code",
   "execution_count": 22,
   "metadata": {
    "autoscroll": "json-false",
    "collapsed": false,
    "deletable": true,
    "editable": true,
    "ein.tags": [
     "worksheet-10"
    ]
   },
   "outputs": [
    {
     "name": "stdout",
     "output_type": "stream",
     "text": [
      "Sampling 50 problems of size 160 × 81\n",
      "Sampling 50 problems of size 156 × 79\n",
      "Sampling 50 problems of size 152 × 77\n",
      "Sampling 50 problems of size 148 × 75\n",
      "Sampling 50 problems of size 144 × 73\n",
      "Sampling 50 problems of size 140 × 71\n",
      "Sampling 50 problems of size 136 × 69\n",
      "Sampling 50 problems of size 132 × 67\n",
      "Sampling 50 problems of size 128 × 65\n",
      "Sampling 50 problems of size 124 × 63\n",
      "Sampling 50 problems of size 120 × 61\n",
      "Sampling 50 problems of size 116 × 59\n",
      "Sampling 50 problems of size 112 × 57\n",
      "Sampling 50 problems of size 108 × 55\n",
      "Sampling 50 problems of size 104 × 53\n",
      "Sampling 50 problems of size 100 × 51\n",
      "Sampling 50 problems of size 96 × 49\n",
      "Sampling 50 problems of size 92 × 47\n",
      "Sampling 50 problems of size 88 × 45\n",
      "Sampling 50 problems of size 84 × 43\n",
      "Sampling 50 problems of size 80 × 41\n",
      "Sampling 50 problems of size 76 × 39\n",
      "Sampling 50 problems of size 72 × 37\n",
      "Sampling 50 problems of size 68 × 35\n",
      "Sampling 50 problems of size 64 × 33\n",
      "Sampling 50 problems of size 60 × 31\n",
      "Sampling 50 problems of size 56 × 29\n",
      "Sampling 50 problems of size 52 × 27\n",
      "Sampling 50 problems of size 48 × 25\n",
      "Sampling 50 problems of size 44 × 23\n",
      "Sampling 50 problems of size 40 × 21\n",
      "Sampling 50 problems of size 36 × 19\n",
      "Sampling 50 problems of size 32 × 17\n",
      "Sampling 50 problems of size 28 × 15\n",
      "Sampling 50 problems of size 24 × 13\n",
      "Sampling 50 problems of size 20 × 11\n",
      "Sampling 50 problems of size 16 × 9\n",
      "Sampling 50 problems of size 12 × 7\n",
      "Sampling 50 problems of size 8 × 5\n"
     ]
    }
   ],
   "source": [
    "n_experiments = 50\n",
    "\n",
    "qs4 = np.zeros(shape=(len(ns4),p_true+1,n_experiments))\n",
    "CEs_ins4 = np.empty(shape=(len(ns4),n_experiments))\n",
    "CEs_oos4 = np.empty(shape=(len(ns4),n_experiments))\n",
    "\n",
    "for i,(n,p) in enumerate(zip(ns4,ps4)):\n",
    "    print('Sampling %d problems of size %d × %d' % (n_experiments,n,p+1))\n",
    "    prs = pr.ProblemsDistribution(M,n,λ=λ,u=u,Rf=0,problem_t=pr.MaskedProblem)\n",
    "    prs.solver = cvx.SCS\n",
    "    prs.sample(n_experiments,{'fs':range(p+1)},par=True)\n",
    "    qs4[i,:p+1,:] = prs.qs.T\n",
    "    CEs_ins4[i,:] = prs.CEs_ins\n",
    "    CEs_oos4[i,:] = prs.CEs_oos"
   ]
  },
  {
   "cell_type": "code",
   "execution_count": 23,
   "metadata": {
    "autoscroll": "json-false",
    "collapsed": false,
    "deletable": true,
    "editable": true,
    "ein.tags": [
     "worksheet-10"
    ]
   },
   "outputs": [],
   "source": [
    "error_CE4 = CEs_oos4-CEs_ins4\n",
    "center_CE4 = np.median(error_CE4,axis=1)\n",
    "bottom_CE4 = np.percentile(error_CE4,10,axis=1)-center_CE4\n",
    "top_CE4 = -np.percentile(error_CE4,90,axis=1)+center_CE4\n",
    "\n",
    "# error_bound4 = -(Ω/(D(u)(CEs_ins4)).T).T # double transpose is for broadcastigne\n",
    "# center_bound4 = np.median(error_bound4,axis=1)\n",
    "# bottom_bound4 = np.percentile(error_bound4,10,axis=1)-center_bound4\n",
    "# top_bound4 = -np.percentile(error_bound4,90,axis=1)+center_bound4\n",
    "\n",
    "for i in range(len(top_CE4)):\n",
    "    if (i+1)%3 != 0:\n",
    "        bottom_CE4[i] = np.nan\n",
    "        top_CE4[i] = np.nan\n",
    "        # bottom_bound4[i] = np.nan\n",
    "        # top_bound4[i] = np.nan"
   ]
  },
  {
   "cell_type": "code",
   "execution_count": 24,
   "metadata": {
    "autoscroll": "json-false",
    "collapsed": false,
    "deletable": true,
    "editable": true,
    "ein.tags": [
     "worksheet-10"
    ]
   },
   "outputs": [
    {
     "data": {
      "image/png": "[encoded data removed]",
      "text/plain": [
       "<matplotlib.figure.Figure at 0x111ccd438>"
      ]
     },
     "metadata": {},
     "output_type": "display_data"
    }
   ],
   "source": [
    "fig4_oos = plt.figure()\n",
    "ax14_oos = fig4_oos.add_subplot(111)\n",
    "ax24_oos = ax14_oos.twinx()\n",
    "\n",
    "ax14_oos.errorbar(ps4,center_CE4,yerr=[top_CE4,bottom_CE4],color='b')\n",
    "ax14_oos.axis(xmin=min(ps4))\n",
    "ax14_oos.set_xlabel('$p$')\n",
    "ax14_oos.set_ylabel('Returns (\\%)');\n",
    "for t in ax14_oos.get_yticklabels():\n",
    "   t.set_color('b')\n",
    "\n",
    "# ax24_oos.errorbar(ns4,center_bound4,yerr=[top_bound4,bottom_bound4],color='r')\n",
    "# ax24_oos.axis(xmin=min(ns4),ymax=0,ymin=-1000000)\n",
    "# for t in ax24_oos.get_yticklabels():\n",
    "#     t.set_color('r')\n",
    "\n",
    "ax14_oos.set_title('Out-of-sample deviation with $p=O(n)$ and $\\lambda = 10^{-4}$');"
   ]
  },
  {
   "cell_type": "code",
   "execution_count": 20,
   "metadata": {
    "autoscroll": "json-false",
    "collapsed": false,
    "deletable": true,
    "editable": true,
    "ein.tags": [
     "worksheet-10"
    ]
   },
   "outputs": [],
   "source": [
    "fig4_oos.savefig('Deviation-pO(n)-λ=1e-3.pdf')"
   ]
  },
  {
   "cell_type": "code",
   "execution_count": 0,
   "metadata": {
    "autoscroll": "json-false",
    "collapsed": false,
    "deletable": true,
    "editable": true,
    "ein.tags": [
     "worksheet-11"
    ]
   },
   "outputs": [],
   "source": [
    "## $λ \\neq 0, p = O(n^{3/2})$"
   ]
  },
  {
   "cell_type": "code",
   "execution_count": 34,
   "metadata": {
    "autoscroll": "json-false",
    "collapsed": true,
    "deletable": true,
    "editable": true,
    "ein.tags": [
     "worksheet-11"
    ]
   },
   "outputs": [
    {
     "data": {
      "text/plain": [
       "array([[  4.,   8.],\n",
       "       [  5.,  10.],\n",
       "       [  6.,  11.],\n",
       "       [  7.,  12.],\n",
       "       [  8.,  13.],\n",
       "       [  9.,  15.],\n",
       "       [ 10.,  16.],\n",
       "       [ 11.,  17.],\n",
       "       [ 12.,  18.],\n",
       "       [ 13.,  19.],\n",
       "       [ 14.,  20.],\n",
       "       [ 15.,  21.],\n",
       "       [ 16.,  22.],\n",
       "       [ 17.,  23.],\n",
       "       [ 18.,  24.],\n",
       "       [ 19.,  24.],\n",
       "       [ 20.,  25.],\n",
       "       [ 21.,  26.],\n",
       "       [ 22.,  27.],\n",
       "       [ 23.,  28.],\n",
       "       [ 24.,  29.],\n",
       "       [ 25.,  29.],\n",
       "       [ 26.,  30.],\n",
       "       [ 27.,  31.],\n",
       "       [ 28.,  32.],\n",
       "       [ 29.,  33.],\n",
       "       [ 30.,  33.],\n",
       "       [ 31.,  34.],\n",
       "       [ 32.,  35.],\n",
       "       [ 33.,  36.],\n",
       "       [ 34.,  36.],\n",
       "       [ 35.,  37.],\n",
       "       [ 36.,  38.],\n",
       "       [ 37.,  38.],\n",
       "       [ 38.,  39.],\n",
       "       [ 39.,  40.],\n",
       "       [ 40.,  40.]])"
      ]
     },
     "execution_count": 34,
     "metadata": {},
     "output_type": "execute_result"
    }
   ],
   "source": [
    "ps4 = sz\n",
    "ns4 = np.floor(3.5*ps4**(2/3))\n",
    "np.array([ps4,ns4]).T"
   ]
  },
  {
   "cell_type": "code",
   "execution_count": 35,
   "metadata": {
    "autoscroll": "json-false",
    "collapsed": false,
    "deletable": true,
    "editable": true,
    "ein.tags": [
     "worksheet-11"
    ]
   },
   "outputs": [
    {
     "name": "stdout",
     "output_type": "stream",
     "text": [
      "Sampling 50 problems of size 40 × 41\n",
      "Sampling 50 problems of size 40 × 40\n",
      "Sampling 50 problems of size 39 × 39\n",
      "Sampling 50 problems of size 38 × 38\n",
      "Sampling 50 problems of size 38 × 37\n",
      "Sampling 50 problems of size 37 × 36\n",
      "Sampling 50 problems of size 36 × 35\n",
      "Sampling 50 problems of size 36 × 34\n",
      "Sampling 50 problems of size 35 × 33\n",
      "Sampling 50 problems of size 34 × 32\n",
      "Sampling 50 problems of size 33 × 31\n",
      "Sampling 50 problems of size 33 × 30\n",
      "Sampling 50 problems of size 32 × 29\n",
      "Sampling 50 problems of size 31 × 28\n",
      "Sampling 50 problems of size 30 × 27\n",
      "Sampling 50 problems of size 29 × 26\n",
      "Sampling 50 problems of size 29 × 25\n",
      "Sampling 50 problems of size 28 × 24\n",
      "Sampling 50 problems of size 27 × 23\n",
      "Sampling 50 problems of size 26 × 22\n",
      "Sampling 50 problems of size 25 × 21\n",
      "Sampling 50 problems of size 24 × 20\n",
      "Sampling 50 problems of size 24 × 19\n",
      "Sampling 50 problems of size 23 × 18\n",
      "Sampling 50 problems of size 22 × 17\n",
      "Sampling 50 problems of size 21 × 16\n",
      "Sampling 50 problems of size 20 × 15\n",
      "Sampling 50 problems of size 19 × 14\n",
      "Sampling 50 problems of size 18 × 13\n",
      "Sampling 50 problems of size 17 × 12\n",
      "Sampling 50 problems of size 16 × 11\n",
      "Sampling 50 problems of size 15 × 10\n",
      "Sampling 50 problems of size 13 × 9\n",
      "Sampling 50 problems of size 12 × 8\n",
      "Sampling 50 problems of size 11 × 7\n",
      "Sampling 50 problems of size 10 × 6\n",
      "Sampling 50 problems of size 8 × 5\n"
     ]
    }
   ],
   "source": [
    "n_experiments = 50\n",
    "\n",
    "qs4 = np.zeros(shape=(len(ns4),p_true+1,n_experiments))\n",
    "CEs_ins4 = np.empty(shape=(len(ns4),n_experiments))\n",
    "CEs_oos4 = np.empty(shape=(len(ns4),n_experiments))\n",
    "\n",
    "for i,(n,p) in enumerate(zip(ns4,ps4)):\n",
    "    print('Sampling %d problems of size %d × %d' % (n_experiments,n,p+1))\n",
    "    prs = pr.ProblemsDistribution(M,n,λ=0.5,u=u,Rf=0,problem_t=pr.MaskedProblem)\n",
    "    prs.solver = None\n",
    "    prs.sample(n_experiments,{'fs':range(p+1)},par=True)\n",
    "    qs4[i,:p+1,:] = prs.qs.T\n",
    "    CEs_ins4[i,:] = prs.CEs_ins\n",
    "    CEs_oos4[i,:] = prs.CEs_oos"
   ]
  },
  {
   "cell_type": "code",
   "execution_count": 36,
   "metadata": {
    "autoscroll": "json-false",
    "collapsed": false,
    "deletable": true,
    "editable": true,
    "ein.tags": [
     "worksheet-11"
    ]
   },
   "outputs": [],
   "source": [
    "error_CE4 = CEs_oos4-CEs_ins4\n",
    "center_CE4 = np.median(error_CE4,axis=1)\n",
    "bottom_CE4 = np.percentile(error_CE4,10,axis=1)-center_CE4\n",
    "top_CE4 = -np.percentile(error_CE4,90,axis=1)+center_CE4\n",
    "\n",
    "# error_bound4 = -(Ω/(D(u)(CEs_ins4)).T).T # double transpose is for broadcastigne\n",
    "# center_bound4 = np.median(error_bound4,axis=1)\n",
    "# bottom_bound4 = np.percentile(error_bound4,10,axis=1)-center_bound4\n",
    "# top_bound4 = -np.percentile(error_bound4,90,axis=1)+center_bound4\n",
    "\n",
    "for i in range(len(top_CE4)):\n",
    "    if (i+1)%3 != 0:\n",
    "        bottom_CE4[i] = np.nan\n",
    "        top_CE4[i] = np.nan\n",
    "        # bottom_bound4[i] = np.nan\n",
    "        # top_bound4[i] = np.nan"
   ]
  },
  {
   "cell_type": "code",
   "execution_count": 38,
   "metadata": {
    "autoscroll": "json-false",
    "collapsed": false,
    "deletable": true,
    "editable": true,
    "ein.tags": [
     "worksheet-11"
    ]
   },
   "outputs": [
    {
     "data": {
      "image/png": "[encoded data removed]",
      "text/plain": [
       "<matplotlib.figure.Figure at 0x1117fb470>"
      ]
     },
     "metadata": {},
     "output_type": "display_data"
    }
   ],
   "source": [
    "fig4_oos = plt.figure()\n",
    "ax14_oos = fig4_oos.add_subplot(111)\n",
    "ax24_oos = ax14_oos.twinx()\n",
    "\n",
    "ax14_oos.errorbar(ps4,center_CE4,yerr=[top_CE4,bottom_CE4],color='b')\n",
    "ax14_oos.axis(xmin=min(ps4))\n",
    "ax14_oos.set_xlabel('$p$')\n",
    "ax14_oos.set_ylabel('Returns (\\%)');\n",
    "for t in ax14_oos.get_yticklabels():\n",
    "   t.set_color('b')\n",
    "\n",
    "# ax24_oos.errorbar(ns4,center_bound4,yerr=[top_bound4,bottom_bound4],color='r')\n",
    "# ax24_oos.axis(xmin=min(ns4),ymax=0,ymin=-1000000)\n",
    "# for t in ax24_oos.get_yticklabels():\n",
    "#     t.set_color('r')\n",
    "\n",
    "ax14_oos.set_title('Out-of-sample deviation with $p=O(n^{3/2})$ and $\\lambda = 1/2$');"
   ]
  },
  {
   "cell_type": "code",
   "execution_count": 0,
   "metadata": {
    "autoscroll": "json-false",
    "collapsed": false,
    "deletable": true,
    "editable": true,
    "ein.tags": [
     "worksheet-11"
    ]
   },
   "outputs": [],
   "source": []
  },
  {
   "cell_type": "code",
   "execution_count": 201,
   "metadata": {
    "autoscroll": "json-false",
    "collapsed": false,
    "deletable": true,
    "editable": true,
    "ein.tags": [
     "worksheet-12"
    ]
   },
   "outputs": [
    {
     "data": {
      "text/plain": [
       "array([[   4.,    8.],\n",
       "       [   5.,   11.],\n",
       "       [   6.,   15.],\n",
       "       [   7.,   18.],\n",
       "       [   8.,   22.],\n",
       "       [   9.,   26.],\n",
       "       [  10.,   30.],\n",
       "       [  11.,   34.],\n",
       "       [  12.,   38.],\n",
       "       [  13.,   42.],\n",
       "       [  14.,   47.],\n",
       "       [  15.,   51.],\n",
       "       [  16.,   56.],\n",
       "       [  17.,   61.],\n",
       "       [  18.,   66.],\n",
       "       [  19.,   70.],\n",
       "       [  20.,   76.],\n",
       "       [  21.,   81.],\n",
       "       [  22.,   86.],\n",
       "       [  23.,   91.],\n",
       "       [  24.,   96.],\n",
       "       [  25.,  102.],\n",
       "       [  26.,  107.],\n",
       "       [  27.,  113.],\n",
       "       [  28.,  119.],\n",
       "       [  29.,  124.],\n",
       "       [  30.,  130.],\n",
       "       [  31.,  136.],\n",
       "       [  32.,  142.],\n",
       "       [  33.,  148.],\n",
       "       [  34.,  154.],\n",
       "       [  35.,  160.],\n",
       "       [  36.,  166.],\n",
       "       [  37.,  172.],\n",
       "       [  38.,  178.],\n",
       "       [  39.,  185.],\n",
       "       [  40.,  191.]])"
      ]
     },
     "execution_count": 201,
     "metadata": {},
     "output_type": "execute_result"
    }
   ],
   "source": [
    "λ = 0\n",
    "ps4 = sz\n",
    "ns4 = np.floor(1.4*ps4**(4/3))\n",
    "np.array([ps4,ns4]).T"
   ]
  },
  {
   "cell_type": "code",
   "execution_count": 202,
   "metadata": {
    "autoscroll": "json-false",
    "collapsed": false,
    "deletable": true,
    "editable": true,
    "ein.tags": [
     "worksheet-12"
    ]
   },
   "outputs": [
    {
     "name": "stdout",
     "output_type": "stream",
     "text": [
      "Sampling 50 problems of size 191 × 41\n",
      "Sampling 50 problems of size 185 × 40\n",
      "Sampling 50 problems of size 178 × 39\n",
      "Sampling 50 problems of size 172 × 38\n",
      "Sampling 50 problems of size 166 × 37\n",
      "Sampling 50 problems of size 160 × 36\n",
      "Sampling 50 problems of size 154 × 35\n",
      "Sampling 50 problems of size 148 × 34\n",
      "Sampling 50 problems of size 142 × 33\n",
      "Sampling 50 problems of size 136 × 32\n",
      "Sampling 50 problems of size 130 × 31\n",
      "Sampling 50 problems of size 124 × 30\n",
      "Sampling 50 problems of size 119 × 29\n",
      "Sampling 50 problems of size 113 × 28\n",
      "Sampling 50 problems of size 107 × 27\n",
      "Sampling 50 problems of size 102 × 26\n",
      "Sampling 50 problems of size 96 × 25\n",
      "Sampling 50 problems of size 91 × 24\n",
      "Sampling 50 problems of size 86 × 23\n",
      "Sampling 50 problems of size 81 × 22\n",
      "Sampling 50 problems of size 76 × 21\n",
      "Sampling 50 problems of size 70 × 20\n",
      "Sampling 50 problems of size 66 × 19\n",
      "Sampling 50 problems of size 61 × 18\n",
      "Sampling 50 problems of size 56 × 17\n",
      "Sampling 50 problems of size 51 × 16\n",
      "Sampling 50 problems of size 47 × 15\n",
      "Sampling 50 problems of size 42 × 14\n",
      "Sampling 50 problems of size 38 × 13\n",
      "Sampling 50 problems of size 34 × 12\n",
      "Sampling 50 problems of size 30 × 11\n",
      "Sampling 50 problems of size 26 × 10\n",
      "Sampling 50 problems of size 22 × 9\n",
      "Sampling 50 problems of size 18 × 8\n",
      "Sampling 50 problems of size 15 × 7\n",
      "Sampling 50 problems of size 11 × 6\n",
      "Sampling 50 problems of size 8 × 5\n"
     ]
    }
   ],
   "source": [
    "n_experiments = 50\n",
    "\n",
    "qs4 = np.zeros(shape=(len(ns4),p_true+1,n_experiments))\n",
    "CEs_ins4 = np.empty(shape=(len(ns4),n_experiments))\n",
    "CEs_oos4 = np.empty(shape=(len(ns4),n_experiments))\n",
    "\n",
    "for i,(n,p) in enumerate(zip(ns4,ps4)):\n",
    "    print('Sampling %d problems of size %d × %d' % (n_experiments,n,p+1))\n",
    "    prs = pr.ProblemsDistribution(M,n,λ=λ,u=u,Rf=0,problem_t=pr.MaskedProblem)\n",
    "    prs.solver = cvx.SCS\n",
    "    prs.sample(n_experiments,{'fs':range(p+1)},par=True)\n",
    "    qs4[i,:p+1,:] = prs.qs.T\n",
    "    CEs_ins4[i,:] = prs.CEs_ins\n",
    "    CEs_oos4[i,:] = prs.CEs_oos"
   ]
  },
  {
   "cell_type": "code",
   "execution_count": 203,
   "metadata": {
    "autoscroll": "json-false",
    "collapsed": false,
    "deletable": true,
    "editable": true,
    "ein.tags": [
     "worksheet-12"
    ]
   },
   "outputs": [],
   "source": [
    "error_CE4 = CEs_oos4-CEs_ins4\n",
    "center_CE4 = np.median(error_CE4,axis=1)\n",
    "bottom_CE4 = np.percentile(error_CE4,10,axis=1)-center_CE4\n",
    "top_CE4 = -np.percentile(error_CE4,90,axis=1)+center_CE4\n",
    "\n",
    "# error_bound4 = -(Ω/(D(u)(CEs_ins4)).T).T # double transpose is for broadcastigne\n",
    "# center_bound4 = np.median(error_bound4,axis=1)\n",
    "# bottom_bound4 = np.percentile(error_bound4,10,axis=1)-center_bound4\n",
    "# top_bound4 = -np.percentile(error_bound4,90,axis=1)+center_bound4\n",
    "\n",
    "for i in range(len(top_CE4)):\n",
    "    if (i+1)%3 != 0:\n",
    "        bottom_CE4[i] = np.nan\n",
    "        top_CE4[i] = np.nan\n",
    "        # bottom_bound4[i] = np.nan\n",
    "        # top_bound4[i] = np.nan"
   ]
  },
  {
   "cell_type": "code",
   "execution_count": 204,
   "metadata": {
    "autoscroll": "json-false",
    "collapsed": false,
    "deletable": true,
    "editable": true,
    "ein.tags": [
     "worksheet-12"
    ]
   },
   "outputs": [
    {
     "data": {
      "image/png": "[encoded data removed]",
      "text/plain": [
       "<matplotlib.figure.Figure at 0x1113017f0>"
      ]
     },
     "metadata": {},
     "output_type": "display_data"
    }
   ],
   "source": [
    "fig4_oos = plt.figure()\n",
    "ax14_oos = fig4_oos.add_subplot(111)\n",
    "ax24_oos = ax14_oos.twinx()\n",
    "\n",
    "ax14_oos.errorbar(ps4,center_CE4,yerr=[top_CE4,bottom_CE4],color='b')\n",
    "ax14_oos.axis(xmin=min(ps4))\n",
    "ax14_oos.set_xlabel('$p$')\n",
    "ax14_oos.set_ylabel('Returns (\\%)');\n",
    "for t in ax14_oos.get_yticklabels():\n",
    "   t.set_color('b')\n",
    "\n",
    "# ax24_oos.errorbar(ns4,center_bound4,yerr=[top_bound4,bottom_bound4],color='r')\n",
    "# ax24_oos.axis(xmin=min(ns4),ymax=0,ymin=-1000000)\n",
    "# for t in ax24_oos.get_yticklabels():\n",
    "#     t.set_color('r')\n",
    "\n",
    "ax14_oos.set_title('Out-of-sample deviation with $p=O(n)$ and $\\lambda = %f$' % λ);"
   ]
  },
  {
   "cell_type": "code",
   "execution_count": 0,
   "metadata": {
    "autoscroll": "json-false",
    "collapsed": false,
    "deletable": true,
    "editable": true,
    "ein.tags": [
     "worksheet-12"
    ]
   },
   "outputs": [],
   "source": []
  },
  {
   "cell_type": "code",
   "execution_count": 0,
   "metadata": {
    "autoscroll": "json-false",
    "collapsed": false,
    "deletable": true,
    "editable": true,
    "ein.tags": [
     "worksheet-13"
    ]
   },
   "outputs": [],
   "source": [
    "%matplotlib inline\n",
    "%load_ext autoreload\n",
    "%autoreload 2"
   ]
  },
  {
   "cell_type": "code",
   "execution_count": 0,
   "metadata": {
    "autoscroll": "json-false",
    "collapsed": false,
    "deletable": true,
    "editable": true,
    "ein.tags": [
     "worksheet-13"
    ]
   },
   "outputs": [],
   "source": []
  },
  {
   "cell_type": "code",
   "execution_count": 5,
   "metadata": {
    "autoscroll": "json-false",
    "collapsed": false,
    "deletable": true,
    "editable": true,
    "ein.tags": [
     "worksheet-13"
    ]
   },
   "outputs": [],
   "source": [
    "# Experiment parameters.\n",
    "\n",
    "n_true = 50000\n",
    "n_experiments = 50\n",
    "λ = 3\n",
    "δ = 0.2\n",
    "\n",
    "r_threshold = 60\n",
    "β = 0.5\n",
    "u = ut.LinearPlateauUtility(β,r_threshold)"
   ]
  },
  {
   "cell_type": "code",
   "execution_count": 6,
   "metadata": {
    "autoscroll": "json-false",
    "collapsed": false,
    "deletable": true,
    "editable": true,
    "ein.tags": [
     "worksheet-13"
    ]
   },
   "outputs": [
    {
     "ename": "NameError",
     "evalue": "name 'RademacherDistribution' is not defined",
     "output_type": "error",
     "traceback": [
      "\u001b[0;31m---------------------------------------------------------------------------\u001b[0m",
      "\u001b[0;31mNameError\u001b[0m                                 Traceback (most recent call last)",
      "\u001b[0;32m<ipython-input-6-ba147fad7881>\u001b[0m in \u001b[0;36m<module>\u001b[0;34m()\u001b[0m\n\u001b[1;32m      1\u001b[0m \u001b[0mp_true\u001b[0m \u001b[0;34m=\u001b[0m \u001b[0;36m40\u001b[0m\u001b[0;34m\u001b[0m\u001b[0m\n\u001b[1;32m      2\u001b[0m \u001b[0mR_true\u001b[0m \u001b[0;34m=\u001b[0m \u001b[0mNormalDistribution\u001b[0m\u001b[0;34m(\u001b[0m\u001b[0;36m5\u001b[0m\u001b[0;34m,\u001b[0m\u001b[0;36m10\u001b[0m\u001b[0;34m)\u001b[0m\u001b[0;34m\u001b[0m\u001b[0m\n\u001b[0;32m----> 3\u001b[0;31m \u001b[0mX_true\u001b[0m \u001b[0;34m=\u001b[0m \u001b[0;34m[\u001b[0m\u001b[0mRademacherDistribution\u001b[0m\u001b[0;34m(\u001b[0m\u001b[0;34m)\u001b[0m \u001b[0;32mfor\u001b[0m \u001b[0m_\u001b[0m \u001b[0;32min\u001b[0m \u001b[0mrange\u001b[0m\u001b[0;34m(\u001b[0m\u001b[0mp_true\u001b[0m\u001b[0;34m)\u001b[0m\u001b[0;34m]\u001b[0m\u001b[0;34m\u001b[0m\u001b[0m\n\u001b[0m\u001b[1;32m      4\u001b[0m \u001b[0mM_true\u001b[0m \u001b[0;34m=\u001b[0m \u001b[0msynth\u001b[0m\u001b[0;34m.\u001b[0m\u001b[0mGaussianMarket\u001b[0m\u001b[0;34m(\u001b[0m\u001b[0mX_true\u001b[0m\u001b[0;34m,\u001b[0m\u001b[0mR_true\u001b[0m\u001b[0;34m)\u001b[0m\u001b[0;34m\u001b[0m\u001b[0m\n",
      "\u001b[0;32m<ipython-input-6-ba147fad7881>\u001b[0m in \u001b[0;36m<listcomp>\u001b[0;34m(.0)\u001b[0m\n\u001b[1;32m      1\u001b[0m \u001b[0mp_true\u001b[0m \u001b[0;34m=\u001b[0m \u001b[0;36m40\u001b[0m\u001b[0;34m\u001b[0m\u001b[0m\n\u001b[1;32m      2\u001b[0m \u001b[0mR_true\u001b[0m \u001b[0;34m=\u001b[0m \u001b[0mNormalDistribution\u001b[0m\u001b[0;34m(\u001b[0m\u001b[0;36m5\u001b[0m\u001b[0;34m,\u001b[0m\u001b[0;36m10\u001b[0m\u001b[0;34m)\u001b[0m\u001b[0;34m\u001b[0m\u001b[0m\n\u001b[0;32m----> 3\u001b[0;31m \u001b[0mX_true\u001b[0m \u001b[0;34m=\u001b[0m \u001b[0;34m[\u001b[0m\u001b[0mRademacherDistribution\u001b[0m\u001b[0;34m(\u001b[0m\u001b[0;34m)\u001b[0m \u001b[0;32mfor\u001b[0m \u001b[0m_\u001b[0m \u001b[0;32min\u001b[0m \u001b[0mrange\u001b[0m\u001b[0;34m(\u001b[0m\u001b[0mp_true\u001b[0m\u001b[0;34m)\u001b[0m\u001b[0;34m]\u001b[0m\u001b[0;34m\u001b[0m\u001b[0m\n\u001b[0m\u001b[1;32m      4\u001b[0m \u001b[0mM_true\u001b[0m \u001b[0;34m=\u001b[0m \u001b[0msynth\u001b[0m\u001b[0;34m.\u001b[0m\u001b[0mGaussianMarket\u001b[0m\u001b[0;34m(\u001b[0m\u001b[0mX_true\u001b[0m\u001b[0;34m,\u001b[0m\u001b[0mR_true\u001b[0m\u001b[0;34m)\u001b[0m\u001b[0;34m\u001b[0m\u001b[0m\n",
      "\u001b[0;31mNameError\u001b[0m: name 'RademacherDistribution' is not defined"
     ]
    }
   ],
   "source": [
    "p_true = 40\n",
    "R_true = NormalDistribution(5,10)\n",
    "X_true = [RademacherDistribution() for _ in range(p_true)]\n",
    "M_true = synth.GaussianMarket(X_true,R_true)"
   ]
  },
  {
   "cell_type": "code",
   "execution_count": 239,
   "metadata": {
    "autoscroll": "json-false",
    "collapsed": true,
    "deletable": true,
    "editable": true,
    "ein.tags": [
     "worksheet-13"
    ]
   },
   "outputs": [
    {
     "data": {
      "text/plain": [
       "array([[ 40,  40],\n",
       "       [ 40,  50],\n",
       "       [ 40,  60],\n",
       "       [ 40,  70],\n",
       "       [ 40,  80],\n",
       "       [ 40,  90],\n",
       "       [ 40, 100],\n",
       "       [ 40, 110],\n",
       "       [ 40, 120],\n",
       "       [ 40, 130],\n",
       "       [ 40, 140],\n",
       "       [ 40, 150],\n",
       "       [ 40, 160],\n",
       "       [ 40, 170],\n",
       "       [ 40, 180],\n",
       "       [ 40, 190],\n",
       "       [ 40, 200],\n",
       "       [ 40, 210],\n",
       "       [ 40, 220],\n",
       "       [ 40, 230],\n",
       "       [ 40, 240],\n",
       "       [ 40, 250],\n",
       "       [ 40, 260],\n",
       "       [ 40, 270],\n",
       "       [ 40, 280],\n",
       "       [ 40, 290],\n",
       "       [ 40, 300],\n",
       "       [ 40, 310],\n",
       "       [ 40, 320],\n",
       "       [ 40, 330],\n",
       "       [ 40, 340],\n",
       "       [ 40, 350],\n",
       "       [ 40, 360],\n",
       "       [ 40, 370],\n",
       "       [ 40, 380],\n",
       "       [ 40, 390],\n",
       "       [ 40, 400]])"
      ]
     },
     "execution_count": 239,
     "metadata": {},
     "output_type": "execute_result"
    }
   ],
   "source": [
    "ns1 = sz*10\n",
    "ps1 = np.ones_like(sz)*p_true\n",
    "np.array([ps1,ns1]).T"
   ]
  },
  {
   "cell_type": "code",
   "execution_count": 241,
   "metadata": {
    "autoscroll": "json-false",
    "collapsed": false,
    "deletable": true,
    "editable": true,
    "ein.tags": [
     "worksheet-13"
    ]
   },
   "outputs": [],
   "source": [
    "# Experiment parameters.\n",
    "\n",
    "n_true = 5000\n",
    "n_experiments = 50\n",
    "λ = 3\n",
    "δ = 0.2\n",
    "\n",
    "r_threshold = 60\n",
    "β = 1\n",
    "u = ut.LinearPlateauUtility(β,r_threshold)"
   ]
  },
  {
   "cell_type": "code",
   "execution_count": 243,
   "metadata": {
    "autoscroll": "json-false",
    "collapsed": false,
    "deletable": true,
    "editable": true,
    "ein.tags": [
     "worksheet-13"
    ]
   },
   "outputs": [],
   "source": [
    "X,R = M_true.sample(n_true)\n",
    "M = synth.MarketDiscreteDistribution(X,R)"
   ]
  },
  {
   "cell_type": "code",
   "execution_count": 244,
   "metadata": {
    "autoscroll": "json-false",
    "collapsed": true,
    "deletable": true,
    "editable": true,
    "ein.tags": [
     "worksheet-13"
    ]
   },
   "outputs": [
    {
     "name": "stdout",
     "output_type": "stream",
     "text": [
      "20  -1.910e+01  -1.910e+01  +1e-08  3e-15  2e-10  2e-13  8e-13  0.9890  1e-02   1  0  0 |  0  0\n",
      "\n",
      "OPTIMAL (within feastol=1.8e-10, reltol=6.3e-10, abstol=1.2e-08).\n",
      "Runtime: 1.511396 seconds.\n",
      "\n",
      "18  -1.910e+01  -1.910e+01  +4e-05  1e-11  1e-07  8e-10  3e-09  0.9890  3e-01   1  0  0 |  0  0\n",
      "19  -1.910e+01  -1.910e+01  +5e-07  1e-13  4e-09  1e-11  3e-11  0.9890  2e-03   1  0  0 |  0  0\n",
      "16  -1.910e+01  -1.910e+01  +9e-04  2e-10  3e-06  2e-08  6e-08  0.9890  2e-01   1  0  0 |  0  0\n",
      "17  -1.910e+01  -1.910e+01  +2e-04  4e-11  5e-07  3e-09  1e-08  0.8359  1e-02   1  0  0 |  0  0\n",
      "14  -1.910e+01  -1.910e+01  +8e-03  2e-09  3e-05  1e-07  5e-07  0.9890  2e-01   1  0  0 |  0  0\n",
      "15  -1.910e+01  -1.910e+01  +4e-03  1e-09  1e-05  8e-08  3e-07  0.5315  1e-01   1  0  0 |  0  0\n",
      "12  -1.909e+01  -1.911e+01  +7e-02  2e-08  3e-04  2e-06  5e-06  0.7235  1e-01   0  0  0 |  0  0\n",
      "13  -1.910e+01  -1.911e+01  +3e-02  8e-09  1e-04  8e-07  2e-06  0.6426  9e-02   1  0  0 |  0  0\n",
      "10  -1.902e+01  -1.919e+01  +6e-01  1e-07  2e-03  2e-05  4e-05  0.6027  2e-01   0  0  0 |  0  0\n",
      "11  -1.907e+01  -1.913e+01  +2e-01  5e-08  7e-04  6e-06  1e-05  0.7953  2e-01   0  0  0 |  0  0\n",
      " 8  -1.868e+01  -1.965e+01  +3e+00  8e-07  1e-02  2e-04  2e-04  0.7530  1e-01   0  0  0 |  0  0\n",
      " 9  -1.895e+01  -1.928e+01  +1e+00  3e-07  4e-03  5e-05  7e-05  0.7285  1e-01   0  0  0 |  0  0\n",
      " 6  -1.342e+01  -2.776e+01  +4e+01  1e-05  2e-01  2e-03  3e-03  0.7226  1e-01   0  0  0 |  0  0\n",
      " 7  -1.786e+01  -2.093e+01  +1e+01  2e-06  3e-02  5e-04  6e-04  0.7647  2e-02   0  0  0 |  0  0\n",
      " 4  +6.152e+01  -6.413e+02  +5e+02  9e-04  7e+00  5e-02  3e-02  0.9818  3e-04   1  0  0 |  0  0\n",
      " 5  +1.630e+01  -5.693e+01  +1e+02  9e-05  8e-01  3e-03  6e-03  0.8435  4e-02   0  0  0 |  0  0\n",
      " 2  -2.820e+00  -2.809e+05  +3e+05  4e-01  5e+01  2e+01  2e+01  0.5405  5e-01   1  0  0 |  0  0\n",
      " 3  +5.506e+01  -3.765e+04  +3e+04  5e-02  5e+01  5e+00  2e+00  0.9195  2e-02   0  0  0 |  0  0\n",
      "\n",
      "ECOS 2.0.4 - (C) embotech GmbH, Zurich Switzerland, 2012-15. Web: www.embotech.com/ECOS\n",
      "\n",
      "It     pcost       dcost      gap   pres   dres    k/t    mu     step   sigma     IR    |   BT\n",
      " 0  -3.749e+01  -3.000e+05  +5e+05  4e-01  3e+01  1e+00  3e+01    ---    ---    2  1  - |  -  - \n",
      " 1  -2.471e+01  -2.620e+05  +4e+05  4e-01  3e+01  4e+00  2e+01  0.3261  2e-01   1  1  1 |  0  0\n"
     ]
    }
   ],
   "source": [
    "p_star = pr.Problem(X,R,λ=0,u=u)\n",
    "p_star.solve()\n",
    "q_star = p_star.q"
   ]
  },
  {
   "cell_type": "code",
   "execution_count": 0,
   "metadata": {
    "autoscroll": "json-false",
    "collapsed": false,
    "deletable": true,
    "editable": true,
    "ein.tags": [
     "worksheet-14"
    ]
   },
   "outputs": [],
   "source": [
    "ns1 = sz*10\n",
    "ps1 = np.ones_like(sz)*p_true\n",
    "np.array([ps1,ns1]).T"
   ]
  }
 ],
 "metadata": {
  "kernelspec": {
   "display_name": "Python 3",
   "language": "python",
   "name": "python3"
  },
  "language_info": {
   "codemirror_mode": {
    "name": "ipython",
    "version": 3
   },
   "file_extension": ".py",
   "mimetype": "text/x-python",
   "name": "python",
   "nbconvert_exporter": "python",
   "pygments_lexer": "ipython3",
   "version": "3.6.0"
  },
  "name": "Experiment_Nips.ipynb"
 },
 "nbformat": 4,
 "nbformat_minor": 0
}
