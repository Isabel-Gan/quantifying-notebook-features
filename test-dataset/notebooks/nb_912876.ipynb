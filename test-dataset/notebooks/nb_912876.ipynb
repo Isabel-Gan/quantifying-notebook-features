{
 "metadata": {
  "name": "lecture-3",
  "signature": "sha256:14421066d517d6923b4cba71813d7ef50dd74e93a9583cbc5e8e59bb0fde7dfc"
 },
 "nbformat": 3,
 "nbformat_minor": 0,
 "worksheets": [
  {
   "cells": [
    {
     "cell_type": "markdown",
     "metadata": {},
     "source": [
      "# Introduction to scikit-learn and matplotlib"
     ]
    },
    {
     "cell_type": "markdown",
     "metadata": {},
     "source": [
      "Sources include: [Research Computing](http://nbviewer.ipython.org/github/ResearchComputing/Meetup-Fall-2013/blob/master/python/lecture_17_matplotlib.ipynb), [Harvard CS109](http://nbviewer.ipython.org/github/cs109/content/blob/master/lec_03_statistical_graphs.ipynb),[Chris Fonnesbeck](http://nbviewer.ipython.org/urls/gist.github.com/fonnesbeck/5850463/raw/a29d9ffb863bfab09ff6c1fc853e1d5bf69fe3e4/3.+Plotting+and+Visualization.ipynb) and the [MatPlotLib documentation](http://nbviewer.ipython.org/github/ResearchComputing/Meetup-Fall-2013/blob/master/python/lecture_17_matplotlib.ipynb)"
     ]
    },
    {
     "cell_type": "markdown",
     "metadata": {},
     "source": [
      "## Agenda:\n",
      "\n",
      "* Introduction to scikit-learn\n",
      "  * Estimators\n",
      "  \n",
      "* Introduction to matplotlib\n",
      "  * Syntax - basic plots and subplots\n",
      "  * Scatter Plots\n"
     ]
    },
    {
     "cell_type": "markdown",
     "metadata": {},
     "source": [
      "## Introduction to scikit-learn"
     ]
    },
    {
     "cell_type": "code",
     "collapsed": false,
     "input": [
      "from sklearn.linear_model import LinearRegression"
     ],
     "language": "python",
     "metadata": {},
     "outputs": [],
     "prompt_number": 1
    },
    {
     "cell_type": "markdown",
     "metadata": {},
     "source": [
      "### Training data\n",
      "For now, we will represent the instances with lists. Later, we will use data structures that can more efficiently represent data, particularly high-dimensional, sparse data."
     ]
    },
    {
     "cell_type": "code",
     "collapsed": false,
     "input": [
      "X_train = [[6], [8], [10], [14],   [18]]\n",
      "y_train = [[7], [9], [13], [17.5], [18]]"
     ],
     "language": "python",
     "metadata": {},
     "outputs": [],
     "prompt_number": 2
    },
    {
     "cell_type": "markdown",
     "metadata": {},
     "source": [
      "### Testing data"
     ]
    },
    {
     "cell_type": "code",
     "collapsed": false,
     "input": [
      "X_test = [[8],  [9],   [11], [16], [12]]\n",
      "y_test = [[11], [8.5], [15], [18], [11]]"
     ],
     "language": "python",
     "metadata": {},
     "outputs": [],
     "prompt_number": 3
    },
    {
     "cell_type": "markdown",
     "metadata": {},
     "source": [
      "### Create and fit the model\n",
      "LinearRegression is an `Estimator`. `Estimator`s implement the methods `fit`, `predict`, and `score`. This API allows you to quickly experiement with different models.\n",
      "\n",
      "Recall that simple linear regression is given by the model\n",
      "\n",
      "$ y = \\alpha + \\beta x $"
     ]
    },
    {
     "cell_type": "code",
     "collapsed": false,
     "input": [
      "regressor = LinearRegression()"
     ],
     "language": "python",
     "metadata": {},
     "outputs": [],
     "prompt_number": 4
    },
    {
     "cell_type": "markdown",
     "metadata": {},
     "source": [
      "`fit` learns the model parameters."
     ]
    },
    {
     "cell_type": "code",
     "collapsed": false,
     "input": [
      "regressor.fit(X_train, y_train)"
     ],
     "language": "python",
     "metadata": {},
     "outputs": [
      {
       "output_type": "pyout",
       "prompt_number": 5,
       "text": [
        "LinearRegression(copy_X=True, fit_intercept=True, normalize=False)"
       ]
      }
     ],
     "prompt_number": 5
    },
    {
     "cell_type": "markdown",
     "metadata": {},
     "source": [
      "### Evaluate the model\n",
      "\n",
      "By default, LinearRegression return the coefficient of determination, r-squared\n",
      "\n",
      "$ R^2 = 1 - \\frac{SS_{res}}{SS_{tot}} $"
     ]
    },
    {
     "cell_type": "code",
     "collapsed": false,
     "input": [
      "print regressor.score(X_test, y_test)"
     ],
     "language": "python",
     "metadata": {},
     "outputs": [
      {
       "output_type": "stream",
       "stream": "stdout",
       "text": [
        "0.662005292942\n"
       ]
      }
     ],
     "prompt_number": 6
    },
    {
     "cell_type": "markdown",
     "metadata": {},
     "source": [
      "### Making predictions"
     ]
    },
    {
     "cell_type": "code",
     "collapsed": false,
     "input": [
      "print regressor.predict([7])"
     ],
     "language": "python",
     "metadata": {},
     "outputs": [
      {
       "output_type": "stream",
       "stream": "stdout",
       "text": [
        "[ 8.79956897]\n"
       ]
      }
     ],
     "prompt_number": 7
    },
    {
     "cell_type": "markdown",
     "metadata": {},
     "source": [
      "# Introduction to pandas and matplotlib"
     ]
    },
    {
     "cell_type": "markdown",
     "metadata": {},
     "source": [
      "* Pandas plotting is built with Matplotlib\n",
      "* Pandas dataframes already include row and column label and grouping, so allow for more concise plotting statements."
     ]
    },
    {
     "cell_type": "code",
     "collapsed": false,
     "input": [
      "%pylab inline"
     ],
     "language": "python",
     "metadata": {},
     "outputs": [
      {
       "output_type": "stream",
       "stream": "stdout",
       "text": [
        "\n",
        "Welcome to pylab, a matplotlib-based Python environment [backend: module://IPython.zmq.pylab.backend_inline].\n",
        "For more information, type 'help(pylab)'.\n"
       ]
      }
     ],
     "prompt_number": 8
    },
    {
     "cell_type": "code",
     "collapsed": false,
     "input": [
      "from pandas import *"
     ],
     "language": "python",
     "metadata": {},
     "outputs": [],
     "prompt_number": 9
    },
    {
     "cell_type": "code",
     "collapsed": false,
     "input": [
      "# Subplotting example\n",
      "a = randn(50).cumsum()\n",
      "b = randn(50).cumsum()\n",
      "c = randn(50).cumsum()\n",
      "?randn()\n"
     ],
     "language": "python",
     "metadata": {},
     "outputs": [],
     "prompt_number": 14
    },
    {
     "cell_type": "code",
     "collapsed": false,
     "input": [
      "df=DataFrame({'a':a,'b':b,'c':c})"
     ],
     "language": "python",
     "metadata": {},
     "outputs": [],
     "prompt_number": 11
    },
    {
     "cell_type": "code",
     "collapsed": false,
     "input": [
      "df.plot(subplots=True)"
     ],
     "language": "python",
     "metadata": {},
     "outputs": [
      {
       "output_type": "pyout",
       "prompt_number": 12,
       "text": [
        "array([Axes(0.125,0.694118;0.775x0.205882),\n",
        "       Axes(0.125,0.447059;0.775x0.205882), Axes(0.125,0.2;0.775x0.205882)], dtype=object)"
       ]
      },
      {
       "output_type": "display_data",
       "png": "[encoded data removed]"
      }
     ],
     "prompt_number": 12
    },
    {
     "cell_type": "code",
     "collapsed": false,
     "input": [
      "df.plot()"
     ],
     "language": "python",
     "metadata": {},
     "outputs": []
    },
    {
     "cell_type": "code",
     "collapsed": false,
     "input": [
      "# Adding options\n",
      "#Generate a random graph \n",
      "a = randn(50).cumsum()"
     ],
     "language": "python",
     "metadata": {},
     "outputs": []
    },
    {
     "cell_type": "code",
     "collapsed": false,
     "input": [
      "df = DataFrame(a) # convert it to a dataframe"
     ],
     "language": "python",
     "metadata": {},
     "outputs": []
    },
    {
     "cell_type": "code",
     "collapsed": false,
     "input": [
      "df.plot(title='Random Plot',kind='line')"
     ],
     "language": "python",
     "metadata": {},
     "outputs": []
    },
    {
     "cell_type": "code",
     "collapsed": false,
     "input": [
      "# Pandas data frames have a built in plot function with defaults:\n",
      "df = DataFrame(np.random.randn(10, 4).cumsum(0),\n",
      "columns=['A', 'B', 'C', 'D'],\n",
      "index=np.arange(0, 100, 10))"
     ],
     "language": "python",
     "metadata": {},
     "outputs": []
    },
    {
     "cell_type": "code",
     "collapsed": false,
     "input": [
      "df"
     ],
     "language": "python",
     "metadata": {},
     "outputs": []
    },
    {
     "cell_type": "code",
     "collapsed": false,
     "input": [
      "df.plot(title='Plot automatically finds Indexes and Places Labels')"
     ],
     "language": "python",
     "metadata": {},
     "outputs": []
    },
    {
     "cell_type": "markdown",
     "metadata": {},
     "source": [
      "###Bar plots"
     ]
    },
    {
     "cell_type": "code",
     "collapsed": false,
     "input": [
      "titanic = read_csv(\"data/titanic.csv\")"
     ],
     "language": "python",
     "metadata": {},
     "outputs": []
    },
    {
     "cell_type": "code",
     "collapsed": false,
     "input": [
      "titanic"
     ],
     "language": "python",
     "metadata": {},
     "outputs": []
    },
    {
     "cell_type": "code",
     "collapsed": false,
     "input": [
      "SurvivedByClass=titanic.groupby('pclass').survived.sum()"
     ],
     "language": "python",
     "metadata": {},
     "outputs": []
    },
    {
     "cell_type": "code",
     "collapsed": false,
     "input": [
      "SurvivedByClass"
     ],
     "language": "python",
     "metadata": {},
     "outputs": []
    },
    {
     "cell_type": "code",
     "collapsed": false,
     "input": [
      "SurvivedByClass.plot(kind='bar',title='Titanic Survivors by Class')"
     ],
     "language": "python",
     "metadata": {},
     "outputs": []
    },
    {
     "cell_type": "code",
     "collapsed": false,
     "input": [
      "# Combine multiple groups and plot\n",
      "titanic.groupby(['sex','pclass']).survived.sum().plot(kind='barh',title='Titanic Survivors by Class and Gender')"
     ],
     "language": "python",
     "metadata": {},
     "outputs": []
    },
    {
     "cell_type": "code",
     "collapsed": false,
     "input": [
      "# Plot CrossTabs\n",
      "death_counts = crosstab([titanic.pclass, titanic.sex], titanic.survived.astype(bool))"
     ],
     "language": "python",
     "metadata": {},
     "outputs": []
    },
    {
     "cell_type": "code",
     "collapsed": false,
     "input": [
      "death_counts.plot(kind='bar', stacked=True, title='Passenger Outcomes by Gender and Class', color=['white','blue'], grid=False)"
     ],
     "language": "python",
     "metadata": {},
     "outputs": []
    },
    {
     "cell_type": "code",
     "collapsed": false,
     "input": [],
     "language": "python",
     "metadata": {},
     "outputs": []
    },
    {
     "cell_type": "markdown",
     "metadata": {},
     "source": [
      "###Histograms and Density Plots"
     ]
    },
    {
     "cell_type": "code",
     "collapsed": false,
     "input": [
      "# Histogram of a particular column\n",
      "titanic.fare.hist(grid=False,bins=25,range=(0,100))"
     ],
     "language": "python",
     "metadata": {},
     "outputs": []
    },
    {
     "cell_type": "code",
     "collapsed": false,
     "input": [
      "# Density plot -- Estimate the 'true' distribution\n",
      "titanic.fare.dropna().plot(kind='kde', xlim=(0,100))"
     ],
     "language": "python",
     "metadata": {},
     "outputs": []
    },
    {
     "cell_type": "code",
     "collapsed": false,
     "input": [
      "titanic.fare.hist(bins=25, normed=True, color='lightseagreen')"
     ],
     "language": "python",
     "metadata": {},
     "outputs": []
    },
    {
     "cell_type": "code",
     "collapsed": false,
     "input": [
      "titanic.fare.plot(kind='kde', xlim=(0,600), style='r--')"
     ],
     "language": "python",
     "metadata": {},
     "outputs": []
    },
    {
     "cell_type": "code",
     "collapsed": false,
     "input": [
      "titanic.boxplot(column='fare',by='pclass',grid=False)"
     ],
     "language": "python",
     "metadata": {},
     "outputs": []
    },
    {
     "cell_type": "code",
     "collapsed": false,
     "input": [
      "# Combine pandas plots by running them together -- if pandas thinks they can be overlapped, it will\n",
      "titanic.fare.hist(bins=25, normed=True, color='lightseagreen')\n",
      "titanic.fare.plot(kind='kde', xlim=(0,100), style='r--')\n",
      "titanic.boxplot(column='fare',by='pclass',grid=False)"
     ],
     "language": "python",
     "metadata": {},
     "outputs": []
    },
    {
     "cell_type": "code",
     "collapsed": false,
     "input": [],
     "language": "python",
     "metadata": {},
     "outputs": []
    },
    {
     "cell_type": "markdown",
     "metadata": {},
     "source": [
      "## Matplotlib"
     ]
    },
    {
     "cell_type": "markdown",
     "metadata": {},
     "source": [
      "### Figures and Subplots"
     ]
    },
    {
     "cell_type": "code",
     "collapsed": false,
     "input": [
      "import matplotlib.pyplot as plt"
     ],
     "language": "python",
     "metadata": {},
     "outputs": []
    },
    {
     "cell_type": "code",
     "collapsed": false,
     "input": [
      "x = np.arange(50)\n",
      "y = np.random.randn(50)\n",
      "plt.scatter(x,y)\n"
     ],
     "language": "python",
     "metadata": {},
     "outputs": []
    },
    {
     "cell_type": "code",
     "collapsed": false,
     "input": [],
     "language": "python",
     "metadata": {},
     "outputs": []
    },
    {
     "cell_type": "code",
     "collapsed": false,
     "input": [
      "%pylab inline"
     ],
     "language": "python",
     "metadata": {},
     "outputs": []
    },
    {
     "cell_type": "code",
     "collapsed": false,
     "input": [
      "#Single Plot\n",
      "a = randn(50).cumsum()\n",
      "\n",
      "plt.plot(a, color='red')"
     ],
     "language": "python",
     "metadata": {},
     "outputs": []
    },
    {
     "cell_type": "code",
     "collapsed": false,
     "input": [],
     "language": "python",
     "metadata": {},
     "outputs": []
    },
    {
     "cell_type": "code",
     "collapsed": false,
     "input": [],
     "language": "python",
     "metadata": {},
     "outputs": []
    },
    {
     "cell_type": "code",
     "collapsed": true,
     "input": [
      "fig = figure()\n",
      "\n",
      "# Two rows, one column, first plot\n",
      "ax1 = fig.add_subplot(2,1,1)\n",
      "ax1.plot(a, color='red')\n",
      "\n",
      "#Two rows, one column, second plot\n",
      "ax2 = fig.add_subplot(2,1,2)\n",
      "ax2.scatter(np.arange(50), randn(50))\n",
      "\n",
      "# Exercise: Try 1 row, two columns\n",
      "# Exercise: Try 1 row, one column"
     ],
     "language": "python",
     "metadata": {},
     "outputs": []
    },
    {
     "cell_type": "markdown",
     "metadata": {},
     "source": [
      "*fig* is the :class:`matplotlib.figure.Figure` object\n",
      "    \n",
      "*ax* can be either a single axis object or an array of axis\n",
      "objects if more than one subplot was created.  The dimensions\n",
      "of the resulting array can be controlled with the squeeze\n",
      "keyword, see above.\n",
      "    "
     ]
    },
    {
     "cell_type": "code",
     "collapsed": false,
     "input": [
      "fig, ax = plt.subplots(2,3)\n",
      "\n",
      "ax[0,1].plot(randn(50), color='green', linestyle='-')\n",
      "ax[1,2].scatter(np.arange(50), randn(50), color='red')\n",
      "ax[1,0].hist(randn(1000))\n",
      "plt.show() #Similar to print()\n",
      "\n"
     ],
     "language": "python",
     "metadata": {},
     "outputs": []
    },
    {
     "cell_type": "code",
     "collapsed": false,
     "input": [],
     "language": "python",
     "metadata": {},
     "outputs": []
    },
    {
     "cell_type": "code",
     "collapsed": false,
     "input": [
      "\n",
      "# Exercise: Swap the top row and bottom row plots\n",
      "# Excecise: Change the line style to dotted and add circles as markers \n",
      "# Exercise: change the bins to 100 for the histogram"
     ],
     "language": "python",
     "metadata": {},
     "outputs": []
    },
    {
     "cell_type": "markdown",
     "metadata": {},
     "source": [
      "###Ticks, Labels and Legends"
     ]
    },
    {
     "cell_type": "code",
     "collapsed": false,
     "input": [
      "fig = plt.figure(); ax = fig.add_subplot(1, 1, 1)\n",
      "ax.plot(randn(1000).cumsum(), 'k', label='one') \n",
      "ax.plot(randn(1000).cumsum(), 'k--', label='two')\n",
      "ax.plot(randn(1000).cumsum(), 'k.', label='three')\n",
      "ax.set_title('Three random lines')\n",
      "ax.legend(loc='best')\n",
      "plt.show()\n",
      "\n",
      "#Exercise: Change the color and line style of each line using the minimum amount of characters\n"
     ],
     "language": "python",
     "metadata": {},
     "outputs": []
    },
    {
     "cell_type": "code",
     "collapsed": false,
     "input": [
      "# Save the file\n",
      "plt.savefig('ThreeRandomLines.pdf')"
     ],
     "language": "python",
     "metadata": {},
     "outputs": []
    },
    {
     "cell_type": "code",
     "collapsed": false,
     "input": [
      "%pylab inline"
     ],
     "language": "python",
     "metadata": {},
     "outputs": []
    },
    {
     "cell_type": "code",
     "collapsed": false,
     "input": [
      "import pandas as pd"
     ],
     "language": "python",
     "metadata": {},
     "outputs": []
    },
    {
     "cell_type": "code",
     "collapsed": false,
     "input": [
      "### ScatterPlots from Data Frames"
     ],
     "language": "python",
     "metadata": {},
     "outputs": []
    },
    {
     "cell_type": "code",
     "collapsed": false,
     "input": [
      "# Combine pandas with matplotlib for scatterplots\n",
      "baseball = pd.read_csv(\"data/baseball.csv\")\n",
      "#Offensive Statistics from MLB -- 2008.  Glossary: http://www.baseballprospectus.com/glossary/index.php?context=all&category=true\n",
      "\n",
      "baseball.head()"
     ],
     "language": "python",
     "metadata": {},
     "outputs": []
    },
    {
     "cell_type": "code",
     "collapsed": false,
     "input": [],
     "language": "python",
     "metadata": {},
     "outputs": []
    },
    {
     "cell_type": "code",
     "collapsed": false,
     "input": [
      "fig = plt.figure()\n",
      "ax = fig.add_subplot(1,1,1) # one row, one column, first plot\n",
      "ax.set_title(\"Hits vs. At Bats\")\n",
      "ax.set_xlabel(\"At Bats\")\n",
      "ax.set_ylabel(\"Hits\")\n",
      "ax.scatter(baseball.ab, baseball.h) \n"
     ],
     "language": "python",
     "metadata": {},
     "outputs": []
    },
    {
     "cell_type": "code",
     "collapsed": false,
     "input": [
      "fig = plt.figure()\n",
      "ax = fig.add_subplot(1,1,1) # one row, one column, first plot\n",
      "ax.set_title(\"At Bats vs. Hits.  Size = Home Runs\")\n",
      "ax.set_xlabel(\"At Bats\")\n",
      "ax.set_ylabel(\"Hits\")\n",
      "plt.scatter(baseball.ab, baseball.h, s=baseball.hr*10, alpha=0.5)\n",
      "xlim(0, 700); ylim(0, 200)"
     ],
     "language": "python",
     "metadata": {},
     "outputs": []
    },
    {
     "cell_type": "code",
     "collapsed": false,
     "input": [
      "baseball"
     ],
     "language": "python",
     "metadata": {},
     "outputs": []
    },
    {
     "cell_type": "code",
     "collapsed": false,
     "input": [
      "xkcd()\n",
      "#plt.scatter(baseball.ab, baseball.h, c=baseball.hr, s=40, cmap='hot')\n",
      "fig = plt.figure()\n",
      "ax = fig.add_subplot(1,1,1) # one row, one column, first plot\n",
      "ax.set_title(\"At Bats vs. Hits, Size and Color = Home Runs\")\n",
      "ax.set_xlabel(\"At Bats\")\n",
      "ax.set_ylabel(\"Hits\")\n",
      "plt.scatter(baseball.ab, baseball.h, c=baseball.hr,cmap='hot')\n",
      "xlim(0, 700); ylim(0, 200)"
     ],
     "language": "python",
     "metadata": {},
     "outputs": []
    },
    {
     "cell_type": "markdown",
     "metadata": {},
     "source": [
      "## Other Packages"
     ]
    },
    {
     "cell_type": "code",
     "collapsed": false,
     "input": [],
     "language": "python",
     "metadata": {},
     "outputs": []
    },
    {
     "cell_type": "markdown",
     "metadata": {},
     "source": [
      "### Seaborn"
     ]
    },
    {
     "cell_type": "code",
     "collapsed": false,
     "input": [
      "#With Titanic Data\n",
      "import seaborn as sns\n",
      "sns.set(style=\"darkgrid\")\n",
      "\n",
      "df = sns.load_dataset(\"titanic\")\n",
      "\n",
      "pal = dict(male=\"#6495ED\", female=\"#F08080\")\n",
      "g = sns.lmplot(\"age\", \"survived\", col=\"sex\", hue=\"sex\", data=df,\n",
      "               palette=pal, y_jitter=.02, logistic=True)\n",
      "g.set(xlim=(0, 80), ylim=(-.05, 1.05))"
     ],
     "language": "python",
     "metadata": {},
     "outputs": []
    },
    {
     "cell_type": "code",
     "collapsed": false,
     "input": [
      "# Seaborn with Anscombe Data\n",
      "import seaborn as sns\n",
      "sns.set(style=\"ticks\")\n",
      "\n",
      "df = sns.load_dataset(\"anscombe\")\n",
      "sns.lmplot(\"x\", \"y\", col=\"dataset\", hue=\"dataset\", data=df,\n",
      "           col_wrap=2, ci=None, palette=\"muted\", size=4,\n",
      "           scatter_kws={\"s\": 50, \"alpha\": 1})"
     ],
     "language": "python",
     "metadata": {},
     "outputs": []
    },
    {
     "cell_type": "code",
     "collapsed": false,
     "input": [],
     "language": "python",
     "metadata": {},
     "outputs": []
    },
    {
     "cell_type": "markdown",
     "metadata": {},
     "source": [
      "#### Other packages\n",
      "\n",
      "vincent: wraps vega and is built on d3 -- javascript capabilities\n",
      "bokeh: Interactive plots (javascript)\n",
      "ggplot: (similar to R ggplot)\n",
      "\n",
      "\n",
      "\n"
     ]
    },
    {
     "cell_type": "markdown",
     "metadata": {},
     "source": [
      "## Practice\n",
      "\n",
      "If one of your group has a datset for your independent assignment:\n",
      "\n",
      "Create a plot of some features of the dataset, include title, axes labels\n",
      "* Include titles and axes labels\n",
      "* Include multiple variables, either on different or one one chart.\n",
      "* Include data subsets\n",
      "\n",
      "Or: Using Titanic, Baseball, or one of these [example datasets](http://vincentarelbundock.github.io/Rdatasets/datasets.html), ask a question that can be answered through visualization, and create the graph that provides the answer.\n",
      "* Include titles and axes labels\n",
      "* Include multiple variables, either on different or one one chart.\n",
      "* Include data subsets\n",
      "\n",
      "At the end of the period, we will go over two of the works in progress, and discuss ways of creating or improving the plots\n",
      "\n",
      "\n",
      "BONUS: Load Anscombe's Quartet and Create a Grid with a Scatter and Line Graph of Each\n",
      "[Anscombe's Quartet Data](http://vincentarelbundock.github.io/Rdatasets/csv/datasets/anscombe.csv)\n",
      "\n"
     ]
    }
   ],
   "metadata": {}
  }
 ]
}