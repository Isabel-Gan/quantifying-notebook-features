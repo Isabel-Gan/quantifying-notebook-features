{
 "cells": [
  {
   "cell_type": "code",
   "execution_count": 30,
   "metadata": {
    "collapsed": true
   },
   "outputs": [],
   "source": [
    "from __future__ import division, print_function, unicode_literals\n",
    "import unittest"
   ]
  },
  {
   "cell_type": "markdown",
   "metadata": {},
   "source": [
    "# Truth values\n",
    "\n",
    "In Python (and almost every major programming language), you will often have data that is either True or False, but does not take on any other value. These values are called Booleans, after the English mathematician George Boole.\n",
    "\n",
    "Python has a special set of operators that exclusively produce true or false (boolean) values. Let's look at a few of them below:\n",
    "\n",
    "## Comparison operators\n",
    "\n",
    "The first four should be familiar: these are the comparison operators that you learned about in elementary school"
   ]
  },
  {
   "cell_type": "code",
   "execution_count": 2,
   "metadata": {
    "collapsed": false
   },
   "outputs": [
    {
     "data": {
      "text/plain": [
       "False"
      ]
     },
     "execution_count": 2,
     "metadata": {},
     "output_type": "execute_result"
    }
   ],
   "source": [
    "3 < 2"
   ]
  },
  {
   "cell_type": "code",
   "execution_count": 3,
   "metadata": {
    "collapsed": false
   },
   "outputs": [
    {
     "data": {
      "text/plain": [
       "True"
      ]
     },
     "execution_count": 3,
     "metadata": {},
     "output_type": "execute_result"
    }
   ],
   "source": [
    "4 > 0"
   ]
  },
  {
   "cell_type": "code",
   "execution_count": 4,
   "metadata": {
    "collapsed": false
   },
   "outputs": [
    {
     "data": {
      "text/plain": [
       "True"
      ]
     },
     "execution_count": 4,
     "metadata": {},
     "output_type": "execute_result"
    }
   ],
   "source": [
    "3 <= 3.0"
   ]
  },
  {
   "cell_type": "code",
   "execution_count": 5,
   "metadata": {
    "collapsed": false
   },
   "outputs": [
    {
     "data": {
      "text/plain": [
       "False"
      ]
     },
     "execution_count": 5,
     "metadata": {},
     "output_type": "execute_result"
    }
   ],
   "source": [
    "4 >= 4.00000000001"
   ]
  },
  {
   "cell_type": "markdown",
   "metadata": {},
   "source": [
    "Note that the >= and <= operators must be spelled with the equals sign last.\n",
    "\n",
    "Python is unique among most languages in that you can chain these operators together. For example:"
   ]
  },
  {
   "cell_type": "code",
   "execution_count": 6,
   "metadata": {
    "collapsed": false
   },
   "outputs": [
    {
     "data": {
      "text/plain": [
       "True"
      ]
     },
     "execution_count": 6,
     "metadata": {},
     "output_type": "execute_result"
    }
   ],
   "source": [
    "0 < 2 < 5"
   ]
  },
  {
   "cell_type": "code",
   "execution_count": 7,
   "metadata": {
    "collapsed": false
   },
   "outputs": [
    {
     "data": {
      "text/plain": [
       "False"
      ]
     },
     "execution_count": 7,
     "metadata": {},
     "output_type": "execute_result"
    }
   ],
   "source": [
    "0 < 2 > 5 < 10"
   ]
  },
  {
   "cell_type": "markdown",
   "metadata": {},
   "source": [
    "These operators are also defined for strings, and basically return whether the dictionary sort order of the first string is greater, less than or equal to the second"
   ]
  },
  {
   "cell_type": "code",
   "execution_count": 8,
   "metadata": {
    "collapsed": false
   },
   "outputs": [
    {
     "data": {
      "text/plain": [
       "True"
      ]
     },
     "execution_count": 8,
     "metadata": {},
     "output_type": "execute_result"
    }
   ],
   "source": [
    "'aardvark' < 'zebra'"
   ]
  },
  {
   "cell_type": "markdown",
   "metadata": {},
   "source": [
    "Like the addition operator, you cannot mix strings and number types together in comparisons"
   ]
  },
  {
   "cell_type": "code",
   "execution_count": 9,
   "metadata": {
    "collapsed": false
   },
   "outputs": [
    {
     "ename": "TypeError",
     "evalue": "unorderable types: str() < int()",
     "output_type": "error",
     "traceback": [
      "\u001b[0;31m---------------------------------------------------------------------------\u001b[0m",
      "\u001b[0;31mTypeError\u001b[0m                                 Traceback (most recent call last)",
      "\u001b[0;32m<ipython-input-9-925817b3f9f4>\u001b[0m in \u001b[0;36m<module>\u001b[0;34m()\u001b[0m\n\u001b[0;32m----> 1\u001b[0;31m \u001b[0;34m'aardvark'\u001b[0m \u001b[0;34m<\u001b[0m \u001b[0;36m2\u001b[0m\u001b[0;34m\u001b[0m\u001b[0m\n\u001b[0m",
      "\u001b[0;31mTypeError\u001b[0m: unorderable types: str() < int()"
     ]
    }
   ],
   "source": [
    "'aardvark' < 2"
   ]
  },
  {
   "cell_type": "markdown",
   "metadata": {},
   "source": [
    "Also, due to a quirk in the way that string values are stored (if you want to know more, look up ASCII), all capital values are considered lower than all lowercase values"
   ]
  },
  {
   "cell_type": "code",
   "execution_count": 10,
   "metadata": {
    "collapsed": false
   },
   "outputs": [
    {
     "data": {
      "text/plain": [
       "True"
      ]
     },
     "execution_count": 10,
     "metadata": {},
     "output_type": "execute_result"
    }
   ],
   "source": [
    "'Zebra' < 'aardvark'"
   ]
  },
  {
   "cell_type": "markdown",
   "metadata": {},
   "source": [
    "## The equality operator"
   ]
  },
  {
   "cell_type": "markdown",
   "metadata": {},
   "source": [
    "We have already seen the single equals sign (=) in python, which assigns a value to a variable\n",
    "\n",
    "```python\n",
    "a = 2\n",
    "```\n",
    "\n",
    "In order to test the equality of two values, we use the double equals sign operator (==). It is very important not to mix these two up. One causes variables to be assigned, the other tests whether two things are equal."
   ]
  },
  {
   "cell_type": "code",
   "execution_count": 11,
   "metadata": {
    "collapsed": false
   },
   "outputs": [],
   "source": [
    "a = 2 "
   ]
  },
  {
   "cell_type": "code",
   "execution_count": 12,
   "metadata": {
    "collapsed": false
   },
   "outputs": [
    {
     "data": {
      "text/plain": [
       "2"
      ]
     },
     "execution_count": 12,
     "metadata": {},
     "output_type": "execute_result"
    }
   ],
   "source": [
    "a"
   ]
  },
  {
   "cell_type": "code",
   "execution_count": 13,
   "metadata": {
    "collapsed": false
   },
   "outputs": [
    {
     "data": {
      "text/plain": [
       "True"
      ]
     },
     "execution_count": 13,
     "metadata": {},
     "output_type": "execute_result"
    }
   ],
   "source": [
    "a == 2"
   ]
  },
  {
   "cell_type": "code",
   "execution_count": 14,
   "metadata": {
    "collapsed": true
   },
   "outputs": [],
   "source": [
    "a = 3"
   ]
  },
  {
   "cell_type": "code",
   "execution_count": 15,
   "metadata": {
    "collapsed": false
   },
   "outputs": [
    {
     "data": {
      "text/plain": [
       "3"
      ]
     },
     "execution_count": 15,
     "metadata": {},
     "output_type": "execute_result"
    }
   ],
   "source": [
    "a"
   ]
  },
  {
   "cell_type": "code",
   "execution_count": 16,
   "metadata": {
    "collapsed": false
   },
   "outputs": [
    {
     "data": {
      "text/plain": [
       "False"
      ]
     },
     "execution_count": 16,
     "metadata": {},
     "output_type": "execute_result"
    }
   ],
   "source": [
    "a == 2"
   ]
  },
  {
   "cell_type": "markdown",
   "metadata": {},
   "source": [
    "The opposite of the equality operator is the not equals (!=) operator"
   ]
  },
  {
   "cell_type": "code",
   "execution_count": 17,
   "metadata": {
    "collapsed": false
   },
   "outputs": [
    {
     "data": {
      "text/plain": [
       "True"
      ]
     },
     "execution_count": 17,
     "metadata": {},
     "output_type": "execute_result"
    }
   ],
   "source": [
    "a != 2"
   ]
  },
  {
   "cell_type": "code",
   "execution_count": 18,
   "metadata": {
    "collapsed": false
   },
   "outputs": [
    {
     "data": {
      "text/plain": [
       "True"
      ]
     },
     "execution_count": 18,
     "metadata": {},
     "output_type": "execute_result"
    }
   ],
   "source": [
    "'cat' != 'dog'"
   ]
  },
  {
   "cell_type": "markdown",
   "metadata": {},
   "source": [
    "## The *in* (membership) operator\n",
    "\n",
    "One other useful boolean operator in Python is the *in* operator. For the moment, the only type we know that this is useful for is Strings. For a string, though, it tells you if the first string is contained in the second. Lets see some examples"
   ]
  },
  {
   "cell_type": "code",
   "execution_count": 21,
   "metadata": {
    "collapsed": false
   },
   "outputs": [
    {
     "data": {
      "text/plain": [
       "True"
      ]
     },
     "execution_count": 21,
     "metadata": {},
     "output_type": "execute_result"
    }
   ],
   "source": [
    "'cat' in 'This is a conca'+'tenated string'"
   ]
  },
  {
   "cell_type": "code",
   "execution_count": 22,
   "metadata": {
    "collapsed": false
   },
   "outputs": [
    {
     "data": {
      "text/plain": [
       "False"
      ]
     },
     "execution_count": 22,
     "metadata": {},
     "output_type": "execute_result"
    }
   ],
   "source": [
    "'dog' in 'This is a concatenated string put together'"
   ]
  },
  {
   "cell_type": "markdown",
   "metadata": {},
   "source": [
    "Here's a use of the comparison operator to acutally do something: i.e. test if a single character is a DNA base"
   ]
  },
  {
   "cell_type": "code",
   "execution_count": 23,
   "metadata": {
    "collapsed": true
   },
   "outputs": [],
   "source": [
    "def is_DNA_base(c):\n",
    "    return c.upper() in 'ACGT'"
   ]
  },
  {
   "cell_type": "code",
   "execution_count": 24,
   "metadata": {
    "collapsed": false
   },
   "outputs": [
    {
     "data": {
      "text/plain": [
       "True"
      ]
     },
     "execution_count": 24,
     "metadata": {},
     "output_type": "execute_result"
    }
   ],
   "source": [
    "is_DNA_base('A')"
   ]
  },
  {
   "cell_type": "code",
   "execution_count": 25,
   "metadata": {
    "collapsed": false
   },
   "outputs": [
    {
     "data": {
      "text/plain": [
       "False"
      ]
     },
     "execution_count": 25,
     "metadata": {},
     "output_type": "execute_result"
    }
   ],
   "source": [
    "is_DNA_base('U')"
   ]
  },
  {
   "cell_type": "markdown",
   "metadata": {},
   "source": [
    "# If statements \n",
    "\n",
    "So far, we have only written programs that proceed from start to finish. These programs cannot make any decisions, or change the way that they handle data based on what the data is. While we've been able to do some useful things, the possibilities are pretty limited.\n",
    "\n",
    "If statements open up a huge number of possibilites. The way they look is as follows:\n",
    "\n",
    "```python\n",
    "if condition:\n",
    "    statement_to_do_if_condition_is_true()\n",
    "else:\n",
    "    statement_to_do_if_condition_is_false()\n",
    "```\n",
    "\n",
    "Like in a function, all of the lines in an if statement must be indented. This indentation tells Python that these lines belong together.\n",
    "\n",
    "In the example below, try changing the first variable from False to True and see what happens!"
   ]
  },
  {
   "cell_type": "code",
   "execution_count": 26,
   "metadata": {
    "collapsed": false
   },
   "outputs": [
    {
     "name": "stdout",
     "output_type": "stream",
     "text": [
      "Weird, nothing is really that different\n"
     ]
    }
   ],
   "source": [
    "took_the_road_less_travelled_by = False\n",
    "\n",
    "if took_the_road_less_travelled_by:\n",
    "    print(\"And that has made all the difference\")\n",
    "else:\n",
    "    print(\"Weird, nothing is really that different\")"
   ]
  },
  {
   "cell_type": "markdown",
   "metadata": {},
   "source": [
    "If statements can also do multiple tests in a row. For the second, third, etc tests, Python uses elif (short for else if). The else statement only executes if none of the above if statements are true"
   ]
  },
  {
   "cell_type": "code",
   "execution_count": 27,
   "metadata": {
    "collapsed": false
   },
   "outputs": [
    {
     "name": "stdout",
     "output_type": "stream",
     "text": [
      "Normal!\n"
     ]
    }
   ],
   "source": [
    "n = 40\n",
    "\n",
    "if n < 0:\n",
    "    print(\"Negative\")\n",
    "elif n < 10: \n",
    "    print(\"Small\")\n",
    "elif n > 40000:\n",
    "    print(\"Big\")\n",
    "else:\n",
    "    print(\"Normal!\")"
   ]
  },
  {
   "cell_type": "markdown",
   "metadata": {},
   "source": [
    "If statements can also be nested."
   ]
  },
  {
   "cell_type": "code",
   "execution_count": 28,
   "metadata": {
    "collapsed": false
   },
   "outputs": [
    {
     "name": "stdout",
     "output_type": "stream",
     "text": [
      "Negative but not that small\n"
     ]
    }
   ],
   "source": [
    "n = -20\n",
    "\n",
    "if n < 0:\n",
    "    if n > -40:\n",
    "        print(\"Negative but not that small\")\n",
    "    else: \n",
    "        print(\"Negative and not at all close to zero\")\n",
    "else:\n",
    "    print(\"Positive\")"
   ]
  },
  {
   "cell_type": "markdown",
   "metadata": {},
   "source": [
    "In this case, the first else statement only refers to the inner \"if\" statement, becasue it is indented to the same level."
   ]
  },
  {
   "cell_type": "markdown",
   "metadata": {},
   "source": [
    "# Boolean algebra\n",
    "\n",
    "Python has a special set of operators for dealing with Boolean (true or false) variables. Say we wanted to test if a number was less than -1000 or greater than 1000, but less than 10000. One way to do this would be to chain if statements together:"
   ]
  },
  {
   "cell_type": "code",
   "execution_count": 29,
   "metadata": {
    "collapsed": true
   },
   "outputs": [],
   "source": [
    "n = 4000\n",
    "\n",
    "def number_with_big_magnitude(number):\n",
    "    if number < -1000:\n",
    "        return True\n",
    "    elif number > 1000:\n",
    "        if number < 10000:\n",
    "            return True\n",
    "    else:\n",
    "        return False"
   ]
  },
  {
   "cell_type": "markdown",
   "metadata": {},
   "source": [
    "This works, but it's a pretty verbose way of expressing this idea. You can imagine that if you wanted to check a lot of things, these sorts of highly nested if statements would quickly get out of hand.\n",
    "\n",
    "Thankfully, Python has a nice way of combining multiple truth statements together. These operators are called:\n",
    "1. and\n",
    "2. or\n",
    "3. not\n",
    "\n",
    "And they basically do what they sound like in normal language. One quick distinction: \"or\" is true as long as both statements are not False. Let's rewrite the above statement to use these operators.\n"
   ]
  },
  {
   "cell_type": "code",
   "execution_count": 42,
   "metadata": {
    "collapsed": true
   },
   "outputs": [],
   "source": [
    "def number_with_big_magnitude(number):\n",
    "    if number < -1000 or (number > 1000 and number < 10000):\n",
    "        return True\n",
    "    else:\n",
    "        return False"
   ]
  },
  {
   "cell_type": "markdown",
   "metadata": {},
   "source": [
    "Here's some basic examples of these operators put together. If you're not familiar with formal logic, try playing around with these statements to make sure you know how they work! "
   ]
  },
  {
   "cell_type": "code",
   "execution_count": 43,
   "metadata": {
    "collapsed": false
   },
   "outputs": [
    {
     "data": {
      "text/plain": [
       "False"
      ]
     },
     "execution_count": 43,
     "metadata": {},
     "output_type": "execute_result"
    }
   ],
   "source": [
    "True and False"
   ]
  },
  {
   "cell_type": "code",
   "execution_count": 44,
   "metadata": {
    "collapsed": false
   },
   "outputs": [
    {
     "data": {
      "text/plain": [
       "True"
      ]
     },
     "execution_count": 44,
     "metadata": {},
     "output_type": "execute_result"
    }
   ],
   "source": [
    "True or False"
   ]
  },
  {
   "cell_type": "code",
   "execution_count": 45,
   "metadata": {
    "collapsed": false
   },
   "outputs": [
    {
     "data": {
      "text/plain": [
       "True"
      ]
     },
     "execution_count": 45,
     "metadata": {},
     "output_type": "execute_result"
    }
   ],
   "source": [
    "True or True"
   ]
  },
  {
   "cell_type": "code",
   "execution_count": 46,
   "metadata": {
    "collapsed": false
   },
   "outputs": [
    {
     "data": {
      "text/plain": [
       "True"
      ]
     },
     "execution_count": 46,
     "metadata": {},
     "output_type": "execute_result"
    }
   ],
   "source": [
    "not False"
   ]
  },
  {
   "cell_type": "markdown",
   "metadata": {},
   "source": [
    "And some slightly more advanced ones:"
   ]
  },
  {
   "cell_type": "code",
   "execution_count": 47,
   "metadata": {
    "collapsed": false
   },
   "outputs": [
    {
     "data": {
      "text/plain": [
       "True"
      ]
     },
     "execution_count": 47,
     "metadata": {},
     "output_type": "execute_result"
    }
   ],
   "source": [
    "message = 'The quick brown fox jumped over the lazy dog'\n",
    "('cat' not in message) and len(message) > 30"
   ]
  },
  {
   "cell_type": "code",
   "execution_count": 52,
   "metadata": {
    "collapsed": false
   },
   "outputs": [
    {
     "data": {
      "text/plain": [
       "True"
      ]
     },
     "execution_count": 52,
     "metadata": {},
     "output_type": "execute_result"
    }
   ],
   "source": [
    "-30 < 40 and (-30 * -30) > 0"
   ]
  },
  {
   "cell_type": "markdown",
   "metadata": {},
   "source": [
    "One little programming thing. Since these tests all together return true, or false, it's actually a little easier to just return the statement alone, like so"
   ]
  },
  {
   "cell_type": "code",
   "execution_count": 53,
   "metadata": {
    "collapsed": true
   },
   "outputs": [],
   "source": [
    "def number_with_big_magnitude(number):\n",
    "    return number < -1000 or (number > 1000 and number < 10000)"
   ]
  },
  {
   "cell_type": "markdown",
   "metadata": {},
   "source": [
    "It's more stylistic than anything else, but keep an eye out for times when you're returning \"True\" or \"False\" values and see if they're really necessary!"
   ]
  },
  {
   "cell_type": "markdown",
   "metadata": {},
   "source": [
    "# Excercises"
   ]
  },
  {
   "cell_type": "markdown",
   "metadata": {},
   "source": [
    "## DNA or RNA sequence?\n",
    "\n",
    "Write a function that takes a string, and determines whether the sequence represents valid DNA, RNA or neither. DNA sequences are strings composed entirely of (upper or lowercase) A, C, T, and G, while RNA sequences are composed strictly of A, U, C and G. If the sequence is DNA, return the string 'DNA'. If it's RNA, return 'RNA'. Otherwise, return 'neither.'\n",
    "\n",
    "There are mutliple ways of solving this problem. See if you can come up with a relatively ergonomic way of doing it! Note that it's not sufficient to only test if 'A', 'C', 'G' and 'T' are in the sequence to determine if it's DNA. You must verify that they constitute the entire sequence."
   ]
  },
  {
   "cell_type": "code",
   "execution_count": 40,
   "metadata": {
    "collapsed": true
   },
   "outputs": [],
   "source": [
    "def DNA_or_RNA_sequence(seq):\n",
    "    seq = seq.upper()\n",
    "    ACG_count = seq.count('A') + seq.count('G') + seq.count('C')\n",
    "    if ACG_count + seq.count('U') == len(seq):\n",
    "        return 'RNA'\n",
    "    elif ACG_count + seq.count('T') == len(seq):\n",
    "        return 'DNA'\n",
    "    else:\n",
    "        return 'neither'"
   ]
  },
  {
   "cell_type": "code",
   "execution_count": 41,
   "metadata": {
    "collapsed": false
   },
   "outputs": [
    {
     "name": "stderr",
     "output_type": "stream",
     "text": [
      "....\n",
      "----------------------------------------------------------------------\n",
      "Ran 4 tests in 0.004s\n",
      "\n",
      "OK\n"
     ]
    },
    {
     "data": {
      "text/plain": [
       "<unittest.runner.TextTestResult run=4 errors=0 failures=0>"
      ]
     },
     "execution_count": 41,
     "metadata": {},
     "output_type": "execute_result"
    }
   ],
   "source": [
    "class SequenceTest(unittest.TestCase):\n",
    "    def test_RNA_recognition(self):\n",
    "        rna_seq = 'AUggUGaCCGGuG'\n",
    "        self.assertEqual(DNA_or_RNA_sequence(rna_seq), 'RNA', 'Fails to recognize valid RNA')\n",
    "    def test_DNA_recognition(self):\n",
    "        dna_seq = 'ATggTGaCCGGtG'\n",
    "        self.assertEqual(DNA_or_RNA_sequence(dna_seq), 'DNA', 'Fails to recognize valid DNA')\n",
    "    def test_mixed_case(self):\n",
    "        mixed_seq = 'ATggTUaCCGutG'\n",
    "        self.assertEqual(DNA_or_RNA_sequence(mixed_seq), 'neither', 'Fails to reject sequences with both t and u')\n",
    "    def test_bad_input(self):\n",
    "        bad_input = 'ThisIsNotADNA Sequence 14525'\n",
    "        self.assertEqual(DNA_or_RNA_sequence(bad_input), 'neither', 'Fails to reject input that does not conform')\n",
    "\n",
    "suite = unittest.TestLoader().loadTestsFromTestCase(SequenceTest)\n",
    "unittest.TextTestRunner().run(suite)"
   ]
  },
  {
   "cell_type": "markdown",
   "metadata": {},
   "source": [
    "## Fizzbuzz\n",
    "\n",
    "A classic Silicon Valley recruiting excercise to test if people know \"basic\" coding is the Fizzbuzz challenge. Basically, the problem is to write a function that takes a number, and outputs a string. If the number is divisible by 3, the string should be \"Fizz.\" If the number is divisible by 5, the program should output \"Buzz.\" If the number is divisible by both 3 and 5, the program should output \"FizzBuzz.\" Otherwise, the program should return the number as a string.\n",
    "\n",
    "HINT: You can test the divisibility of a number with the modulo operator %. If you take a % b, it will give 0 if a is divisible by b, and the division remainder if a is not divisible by b. So to check if a number is even, you could write \n",
    "\n",
    "```python\n",
    "if a % 2 == 0:\n",
    "    # Code goes here\n",
    "```"
   ]
  },
  {
   "cell_type": "code",
   "execution_count": 42,
   "metadata": {
    "collapsed": true
   },
   "outputs": [],
   "source": [
    "def fizzbuzz(n):\n",
    "    if not n % 15:\n",
    "        return \"FizzBuzz\"\n",
    "    elif not n % 3:\n",
    "        return \"Fizz\"\n",
    "    elif not n % 5:\n",
    "        return \"Buzz\"\n",
    "    else:\n",
    "        return str(n)"
   ]
  },
  {
   "cell_type": "code",
   "execution_count": 43,
   "metadata": {
    "collapsed": false
   },
   "outputs": [
    {
     "name": "stderr",
     "output_type": "stream",
     "text": [
      "...F\n",
      "======================================================================\n",
      "FAIL: test_non_fizz_or_buzz (__main__.FizzBuzzTest)\n",
      "----------------------------------------------------------------------\n",
      "Traceback (most recent call last):\n",
      "  File \"<ipython-input-43-523224442d02>\", line 13, in test_non_fizz_or_buzz\n",
      "    self.assertEqual(fizzbuzz(151) , \"151\", \"Did you remember to return non fizz or buzz variables as strings?\")\n",
      "AssertionError: 151 != '151' : Did you remember to return non fizz or buzz variables as strings?\n",
      "\n",
      "----------------------------------------------------------------------\n",
      "Ran 4 tests in 0.008s\n",
      "\n",
      "FAILED (failures=1)\n"
     ]
    },
    {
     "data": {
      "text/plain": [
       "<unittest.runner.TextTestResult run=4 errors=0 failures=1>"
      ]
     },
     "execution_count": 43,
     "metadata": {},
     "output_type": "execute_result"
    }
   ],
   "source": [
    "class FizzBuzzTest(unittest.TestCase):\n",
    "    def test_fizz(self):\n",
    "        self.assertEqual(fizzbuzz(9).lower(), \"fizz\", \n",
    "                         \"Something went wrong with the Fizz part - try some multiples of 3?\")\n",
    "    def test_buzz(self):\n",
    "        self.assertEqual(fizzbuzz(25).lower() , \"buzz\", \n",
    "                         \"Something went wrong with the Buzz part - try some multiples of 5?\")\n",
    "    def test_fizzbuzz(self):\n",
    "        self.assertEqual(fizzbuzz(45).lower() , \"fizzbuzz\",\n",
    "                        \"Your program seems to have some issues with the fizzbuzz part. Try working through the order of your if statements?\"\n",
    "                        )\n",
    "    def test_non_fizz_or_buzz(self):\n",
    "        self.assertEqual(fizzbuzz(151) , \"151\", \"Did you remember to return non fizz or buzz variables as strings?\")\n",
    "\n",
    "suite = unittest.TestLoader().loadTestsFromTestCase(FizzBuzzTest)\n",
    "unittest.TextTestRunner().run(suite)"
   ]
  }
 ],
 "metadata": {
  "anaconda-cloud": {},
  "kernelspec": {
   "display_name": "Python [default]",
   "language": "python",
   "name": "python3"
  },
  "language_info": {
   "codemirror_mode": {
    "name": "ipython",
    "version": 3
   },
   "file_extension": ".py",
   "mimetype": "text/x-python",
   "name": "python",
   "nbconvert_exporter": "python",
   "pygments_lexer": "ipython3",
   "version": "3.5.2"
  }
 },
 "nbformat": 4,
 "nbformat_minor": 1
}
