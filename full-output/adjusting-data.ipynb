{
 "cells": [
  {
   "cell_type": "code",
   "execution_count": 5,
   "metadata": {},
   "outputs": [],
   "source": [
    "import pandas as pd\n",
    "import seaborn as sns\n",
    "import matplotlib.pyplot as plt\n",
    "import math"
   ]
  },
  {
   "cell_type": "markdown",
   "metadata": {},
   "source": [
    "# Outliers"
   ]
  },
  {
   "cell_type": "code",
   "execution_count": 2,
   "metadata": {},
   "outputs": [],
   "source": [
    "df = pd.read_pickle('full_no_repo_dups.pkl')"
   ]
  },
  {
   "cell_type": "code",
   "execution_count": 3,
   "metadata": {},
   "outputs": [
    {
     "data": {
      "text/html": [
       "<div>\n",
       "<style scoped>\n",
       "    .dataframe tbody tr th:only-of-type {\n",
       "        vertical-align: middle;\n",
       "    }\n",
       "\n",
       "    .dataframe tbody tr th {\n",
       "        vertical-align: top;\n",
       "    }\n",
       "\n",
       "    .dataframe thead th {\n",
       "        text-align: right;\n",
       "    }\n",
       "</style>\n",
       "<table border=\"1\" class=\"dataframe\">\n",
       "  <thead>\n",
       "    <tr style=\"text-align: right;\">\n",
       "      <th></th>\n",
       "      <th>nb_id</th>\n",
       "      <th>repo_id</th>\n",
       "      <th>has_author</th>\n",
       "      <th>jupyter_prop</th>\n",
       "      <th>output_cell_prop</th>\n",
       "      <th>num_contrib</th>\n",
       "      <th>image_prop</th>\n",
       "      <th>is_education</th>\n",
       "      <th>has_comments</th>\n",
       "      <th>num_commits</th>\n",
       "      <th>non_exec_prop</th>\n",
       "      <th>exec_inorder</th>\n",
       "      <th>exec_skips</th>\n",
       "      <th>has_error</th>\n",
       "      <th>has_export</th>\n",
       "      <th>num_functions</th>\n",
       "      <th>has_test</th>\n",
       "      <th>has_param</th>\n",
       "      <th>has_reqtext</th>\n",
       "      <th>num_stars</th>\n",
       "    </tr>\n",
       "  </thead>\n",
       "  <tbody>\n",
       "    <tr>\n",
       "      <th>79</th>\n",
       "      <td>106</td>\n",
       "      <td>165198456</td>\n",
       "      <td>False</td>\n",
       "      <td>0.930911</td>\n",
       "      <td>0.363636</td>\n",
       "      <td>1.0</td>\n",
       "      <td>0.000000</td>\n",
       "      <td>True</td>\n",
       "      <td>True</td>\n",
       "      <td>3.0</td>\n",
       "      <td>0.545455</td>\n",
       "      <td>0.75</td>\n",
       "      <td>4.500000</td>\n",
       "      <td>False</td>\n",
       "      <td>False</td>\n",
       "      <td>2.0</td>\n",
       "      <td>False</td>\n",
       "      <td>False</td>\n",
       "      <td>False</td>\n",
       "      <td>1.0</td>\n",
       "    </tr>\n",
       "    <tr>\n",
       "      <th>81</th>\n",
       "      <td>108</td>\n",
       "      <td>165197188</td>\n",
       "      <td>False</td>\n",
       "      <td>1.000000</td>\n",
       "      <td>0.560000</td>\n",
       "      <td>1.0</td>\n",
       "      <td>0.000000</td>\n",
       "      <td>True</td>\n",
       "      <td>True</td>\n",
       "      <td>1.0</td>\n",
       "      <td>0.000000</td>\n",
       "      <td>1.00</td>\n",
       "      <td>1.913043</td>\n",
       "      <td>False</td>\n",
       "      <td>False</td>\n",
       "      <td>6.0</td>\n",
       "      <td>False</td>\n",
       "      <td>False</td>\n",
       "      <td>False</td>\n",
       "      <td>1.0</td>\n",
       "    </tr>\n",
       "    <tr>\n",
       "      <th>88</th>\n",
       "      <td>116</td>\n",
       "      <td>165201963</td>\n",
       "      <td>False</td>\n",
       "      <td>1.000000</td>\n",
       "      <td>0.666667</td>\n",
       "      <td>1.0</td>\n",
       "      <td>0.187500</td>\n",
       "      <td>True</td>\n",
       "      <td>True</td>\n",
       "      <td>1.0</td>\n",
       "      <td>0.041667</td>\n",
       "      <td>1.00</td>\n",
       "      <td>1.227273</td>\n",
       "      <td>False</td>\n",
       "      <td>False</td>\n",
       "      <td>8.0</td>\n",
       "      <td>False</td>\n",
       "      <td>False</td>\n",
       "      <td>False</td>\n",
       "      <td>0.0</td>\n",
       "    </tr>\n",
       "    <tr>\n",
       "      <th>89</th>\n",
       "      <td>117</td>\n",
       "      <td>165200414</td>\n",
       "      <td>False</td>\n",
       "      <td>1.000000</td>\n",
       "      <td>0.000000</td>\n",
       "      <td>1.0</td>\n",
       "      <td>0.000000</td>\n",
       "      <td>True</td>\n",
       "      <td>True</td>\n",
       "      <td>1.0</td>\n",
       "      <td>1.000000</td>\n",
       "      <td>1.00</td>\n",
       "      <td>0.000000</td>\n",
       "      <td>False</td>\n",
       "      <td>True</td>\n",
       "      <td>0.0</td>\n",
       "      <td>False</td>\n",
       "      <td>False</td>\n",
       "      <td>False</td>\n",
       "      <td>0.0</td>\n",
       "    </tr>\n",
       "    <tr>\n",
       "      <th>92</th>\n",
       "      <td>120</td>\n",
       "      <td>165200582</td>\n",
       "      <td>False</td>\n",
       "      <td>1.000000</td>\n",
       "      <td>0.545455</td>\n",
       "      <td>0.0</td>\n",
       "      <td>0.833333</td>\n",
       "      <td>False</td>\n",
       "      <td>True</td>\n",
       "      <td>2.0</td>\n",
       "      <td>0.000000</td>\n",
       "      <td>1.00</td>\n",
       "      <td>1.222222</td>\n",
       "      <td>False</td>\n",
       "      <td>True</td>\n",
       "      <td>0.0</td>\n",
       "      <td>False</td>\n",
       "      <td>False</td>\n",
       "      <td>False</td>\n",
       "      <td>0.0</td>\n",
       "    </tr>\n",
       "  </tbody>\n",
       "</table>\n",
       "</div>"
      ],
      "text/plain": [
       "    nb_id    repo_id has_author  jupyter_prop  output_cell_prop  num_contrib  \\\n",
       "79    106  165198456      False      0.930911          0.363636          1.0   \n",
       "81    108  165197188      False      1.000000          0.560000          1.0   \n",
       "88    116  165201963      False      1.000000          0.666667          1.0   \n",
       "89    117  165200414      False      1.000000          0.000000          1.0   \n",
       "92    120  165200582      False      1.000000          0.545455          0.0   \n",
       "\n",
       "    image_prop is_education has_comments  num_commits  non_exec_prop  \\\n",
       "79    0.000000         True         True          3.0       0.545455   \n",
       "81    0.000000         True         True          1.0       0.000000   \n",
       "88    0.187500         True         True          1.0       0.041667   \n",
       "89    0.000000         True         True          1.0       1.000000   \n",
       "92    0.833333        False         True          2.0       0.000000   \n",
       "\n",
       "    exec_inorder  exec_skips has_error has_export  num_functions has_test  \\\n",
       "79          0.75    4.500000     False      False            2.0    False   \n",
       "81          1.00    1.913043     False      False            6.0    False   \n",
       "88          1.00    1.227273     False      False            8.0    False   \n",
       "89          1.00    0.000000     False       True            0.0    False   \n",
       "92          1.00    1.222222     False       True            0.0    False   \n",
       "\n",
       "   has_param has_reqtext  num_stars  \n",
       "79     False       False        1.0  \n",
       "81     False       False        1.0  \n",
       "88     False       False        0.0  \n",
       "89     False       False        0.0  \n",
       "92     False       False        0.0  "
      ]
     },
     "execution_count": 3,
     "metadata": {},
     "output_type": "execute_result"
    }
   ],
   "source": [
    "df.head()"
   ]
  },
  {
   "cell_type": "code",
   "execution_count": 4,
   "metadata": {},
   "outputs": [
    {
     "data": {
      "text/plain": [
       "18178"
      ]
     },
     "execution_count": 4,
     "metadata": {},
     "output_type": "execute_result"
    }
   ],
   "source": [
    "len(df)"
   ]
  },
  {
   "cell_type": "code",
   "execution_count": 5,
   "metadata": {},
   "outputs": [
    {
     "data": {
      "text/plain": [
       "['jupyter_prop',\n",
       " 'output_cell_prop',\n",
       " 'num_contrib',\n",
       " 'image_prop',\n",
       " 'num_commits',\n",
       " 'non_exec_prop',\n",
       " 'exec_inorder',\n",
       " 'exec_skips',\n",
       " 'num_functions',\n",
       " 'num_stars']"
      ]
     },
     "execution_count": 5,
     "metadata": {},
     "output_type": "execute_result"
    }
   ],
   "source": [
    "quant_vars = [df.columns[i] for i in [3, 4, 5, 6, 9, 10, 11, 12, 15, 19]]\n",
    "quant_vars"
   ]
  },
  {
   "cell_type": "code",
   "execution_count": 8,
   "metadata": {},
   "outputs": [
    {
     "data": {
      "text/plain": [
       "<matplotlib.axes._subplots.AxesSubplot at 0x7f1f6dca6630>"
      ]
     },
     "execution_count": 8,
     "metadata": {},
     "output_type": "execute_result"
    },
    {
     "data": {
      "image/png": "[encoded data removed]",
      "text/plain": [
       "<Figure size 432x288 with 1 Axes>"
      ]
     },
     "metadata": {
      "needs_background": "light"
     },
     "output_type": "display_data"
    }
   ],
   "source": [
    "df['num_stars'].plot(kind = 'hist')"
   ]
  },
  {
   "cell_type": "code",
   "execution_count": 134,
   "metadata": {},
   "outputs": [],
   "source": [
    "to_filter = set()\n",
    "outliers = df.nsmallest(2000, ['jupyter_prop'], keep='all')\n",
    "to_filter.update(outliers['nb_id'])"
   ]
  },
  {
   "cell_type": "code",
   "execution_count": 135,
   "metadata": {},
   "outputs": [],
   "source": [
    "outliers = df.nlargest(100, ['num_contrib'], keep='all')\n",
    "to_filter.update(outliers['nb_id'])"
   ]
  },
  {
   "cell_type": "code",
   "execution_count": 136,
   "metadata": {},
   "outputs": [],
   "source": [
    "outliers = df.nlargest(250, ['num_commits'], keep='all')\n",
    "to_filter.update(outliers['nb_id'])"
   ]
  },
  {
   "cell_type": "code",
   "execution_count": 137,
   "metadata": {},
   "outputs": [],
   "source": [
    "outliers = df.nsmallest(250, ['exec_inorder'], keep='all')\n",
    "to_filter.update(outliers['nb_id'])"
   ]
  },
  {
   "cell_type": "code",
   "execution_count": 138,
   "metadata": {},
   "outputs": [],
   "source": [
    "outliers = df.nlargest(250, ['exec_skips'], keep='all')\n",
    "to_filter.update(outliers['nb_id'])"
   ]
  },
  {
   "cell_type": "code",
   "execution_count": 139,
   "metadata": {},
   "outputs": [],
   "source": [
    "outliers = df.nlargest(100, ['num_functions'], keep='all')\n",
    "to_filter.update(outliers['nb_id'])"
   ]
  },
  {
   "cell_type": "code",
   "execution_count": 144,
   "metadata": {},
   "outputs": [],
   "source": [
    "outliers = df.nlargest(500, ['num_stars'], keep='all')\n",
    "to_filter.update(outliers['nb_id'])"
   ]
  },
  {
   "cell_type": "code",
   "execution_count": 156,
   "metadata": {},
   "outputs": [
    {
     "data": {
      "text/plain": [
       "<matplotlib.axes._subplots.AxesSubplot at 0x7ff03b643128>"
      ]
     },
     "execution_count": 156,
     "metadata": {},
     "output_type": "execute_result"
    },
    {
     "data": {
      "image/png": "[encoded data removed]",
      "text/plain": [
       "<Figure size 432x288 with 1 Axes>"
      ]
     },
     "metadata": {
      "needs_background": "light"
     },
     "output_type": "display_data"
    }
   ],
   "source": [
    "new_df = df[~df['nb_id'].isin(list(to_filter))]\n",
    "new_df['num_stars'].plot(kind = 'hist')"
   ]
  },
  {
   "cell_type": "code",
   "execution_count": 157,
   "metadata": {},
   "outputs": [
    {
     "data": {
      "text/plain": [
       "14999"
      ]
     },
     "execution_count": 157,
     "metadata": {},
     "output_type": "execute_result"
    }
   ],
   "source": [
    "len(new_df)"
   ]
  },
  {
   "cell_type": "code",
   "execution_count": 159,
   "metadata": {},
   "outputs": [],
   "source": [
    "new_df.to_pickle('full_reduced_outliers.pkl')\n",
    "new_df.to_csv('csv-files/full_reduced_outliers.csv')"
   ]
  },
  {
   "cell_type": "markdown",
   "metadata": {},
   "source": [
    "# Check Distance + Normalize"
   ]
  },
  {
   "cell_type": "code",
   "execution_count": 15,
   "metadata": {},
   "outputs": [],
   "source": [
    "df = pd.read_pickle('full_reduced_outliers.pkl')"
   ]
  },
  {
   "cell_type": "code",
   "execution_count": 16,
   "metadata": {},
   "outputs": [
    {
     "data": {
      "text/plain": [
       "['jupyter_prop',\n",
       " 'output_cell_prop',\n",
       " 'num_contrib',\n",
       " 'image_prop',\n",
       " 'num_commits',\n",
       " 'non_exec_prop',\n",
       " 'exec_inorder',\n",
       " 'exec_skips',\n",
       " 'num_functions',\n",
       " 'num_stars']"
      ]
     },
     "execution_count": 16,
     "metadata": {},
     "output_type": "execute_result"
    }
   ],
   "source": [
    "quant_vars = [df.columns[i] for i in [3, 4, 5, 6, 9, 10, 11, 12, 15, 19]]\n",
    "quant_vars"
   ]
  },
  {
   "cell_type": "code",
   "execution_count": 17,
   "metadata": {},
   "outputs": [],
   "source": [
    "quant_df = df[quant_vars]"
   ]
  },
  {
   "cell_type": "code",
   "execution_count": 18,
   "metadata": {},
   "outputs": [
    {
     "name": "stdout",
     "output_type": "stream",
     "text": [
      "jupyter_prop 0.9847532777816409\n",
      "output_cell_prop 0.5104937352920219\n",
      "num_contrib 1.2349489965997733\n",
      "image_prop 0.33600748352861126\n",
      "num_commits 1.7303153543569572\n",
      "non_exec_prop 0.16496533072484973\n",
      "exec_inorder 0.9438430995626165\n",
      "exec_skips 4.646672865958805\n",
      "num_functions 4.10754050270018\n",
      "num_stars 1.9061270751383426\n"
     ]
    },
    {
     "name": "stderr",
     "output_type": "stream",
     "text": [
      "/home/potato/.local/lib/python3.6/site-packages/ipykernel_launcher.py:4: SettingWithCopyWarning: \n",
      "A value is trying to be set on a copy of a slice from a DataFrame.\n",
      "Try using .loc[row_indexer,col_indexer] = value instead\n",
      "\n",
      "See the caveats in the documentation: https://pandas.pydata.org/pandas-docs/stable/user_guide/indexing.html#returning-a-view-versus-a-copy\n",
      "  after removing the cwd from sys.path.\n"
     ]
    }
   ],
   "source": [
    "for col in quant_df.columns:\n",
    "    avg = quant_df[col].mean()\n",
    "    print(col, avg)\n",
    "    quant_df[col] = quant_df[col].apply(lambda x : (x - avg) ** 2)"
   ]
  },
  {
   "cell_type": "code",
   "execution_count": 19,
   "metadata": {
    "scrolled": true
   },
   "outputs": [
    {
     "data": {
      "text/html": [
       "<div>\n",
       "<style scoped>\n",
       "    .dataframe tbody tr th:only-of-type {\n",
       "        vertical-align: middle;\n",
       "    }\n",
       "\n",
       "    .dataframe tbody tr th {\n",
       "        vertical-align: top;\n",
       "    }\n",
       "\n",
       "    .dataframe thead th {\n",
       "        text-align: right;\n",
       "    }\n",
       "</style>\n",
       "<table border=\"1\" class=\"dataframe\">\n",
       "  <thead>\n",
       "    <tr style=\"text-align: right;\">\n",
       "      <th></th>\n",
       "      <th>jupyter_prop</th>\n",
       "      <th>output_cell_prop</th>\n",
       "      <th>num_contrib</th>\n",
       "      <th>image_prop</th>\n",
       "      <th>num_commits</th>\n",
       "      <th>non_exec_prop</th>\n",
       "      <th>exec_inorder</th>\n",
       "      <th>exec_skips</th>\n",
       "      <th>num_functions</th>\n",
       "      <th>num_stars</th>\n",
       "    </tr>\n",
       "  </thead>\n",
       "  <tbody>\n",
       "    <tr>\n",
       "      <th>79</th>\n",
       "      <td>0.002899</td>\n",
       "      <td>0.021567</td>\n",
       "      <td>0.055201</td>\n",
       "      <td>0.112901</td>\n",
       "      <td>1.612099</td>\n",
       "      <td>0.144772</td>\n",
       "      <td>0.037575</td>\n",
       "      <td>0.021513</td>\n",
       "      <td>4.441727</td>\n",
       "      <td>0.821066</td>\n",
       "    </tr>\n",
       "    <tr>\n",
       "      <th>81</th>\n",
       "      <td>0.000232</td>\n",
       "      <td>0.002451</td>\n",
       "      <td>0.055201</td>\n",
       "      <td>0.112901</td>\n",
       "      <td>0.533361</td>\n",
       "      <td>0.027214</td>\n",
       "      <td>0.003154</td>\n",
       "      <td>7.472730</td>\n",
       "      <td>3.581403</td>\n",
       "      <td>0.821066</td>\n",
       "    </tr>\n",
       "    <tr>\n",
       "      <th>88</th>\n",
       "      <td>0.000232</td>\n",
       "      <td>0.024390</td>\n",
       "      <td>0.055201</td>\n",
       "      <td>0.022054</td>\n",
       "      <td>0.533361</td>\n",
       "      <td>0.015203</td>\n",
       "      <td>0.003154</td>\n",
       "      <td>11.692297</td>\n",
       "      <td>15.151241</td>\n",
       "      <td>3.633320</td>\n",
       "    </tr>\n",
       "    <tr>\n",
       "      <th>89</th>\n",
       "      <td>0.000232</td>\n",
       "      <td>0.260604</td>\n",
       "      <td>0.055201</td>\n",
       "      <td>0.112901</td>\n",
       "      <td>0.533361</td>\n",
       "      <td>0.697283</td>\n",
       "      <td>0.003154</td>\n",
       "      <td>21.591569</td>\n",
       "      <td>16.871889</td>\n",
       "      <td>3.633320</td>\n",
       "    </tr>\n",
       "    <tr>\n",
       "      <th>92</th>\n",
       "      <td>0.000232</td>\n",
       "      <td>0.001222</td>\n",
       "      <td>1.525099</td>\n",
       "      <td>0.247333</td>\n",
       "      <td>0.072730</td>\n",
       "      <td>0.027214</td>\n",
       "      <td>0.003154</td>\n",
       "      <td>11.726862</td>\n",
       "      <td>16.871889</td>\n",
       "      <td>3.633320</td>\n",
       "    </tr>\n",
       "  </tbody>\n",
       "</table>\n",
       "</div>"
      ],
      "text/plain": [
       "    jupyter_prop  output_cell_prop  num_contrib  image_prop  num_commits  \\\n",
       "79      0.002899          0.021567     0.055201    0.112901     1.612099   \n",
       "81      0.000232          0.002451     0.055201    0.112901     0.533361   \n",
       "88      0.000232          0.024390     0.055201    0.022054     0.533361   \n",
       "89      0.000232          0.260604     0.055201    0.112901     0.533361   \n",
       "92      0.000232          0.001222     1.525099    0.247333     0.072730   \n",
       "\n",
       "    non_exec_prop  exec_inorder  exec_skips  num_functions  num_stars  \n",
       "79       0.144772      0.037575    0.021513       4.441727   0.821066  \n",
       "81       0.027214      0.003154    7.472730       3.581403   0.821066  \n",
       "88       0.015203      0.003154   11.692297      15.151241   3.633320  \n",
       "89       0.697283      0.003154   21.591569      16.871889   3.633320  \n",
       "92       0.027214      0.003154   11.726862      16.871889   3.633320  "
      ]
     },
     "execution_count": 19,
     "metadata": {},
     "output_type": "execute_result"
    }
   ],
   "source": [
    "quant_df.head()"
   ]
  },
  {
   "cell_type": "code",
   "execution_count": 24,
   "metadata": {
    "scrolled": false
   },
   "outputs": [
    {
     "data": {
      "text/plain": [
       "<matplotlib.axes._subplots.AxesSubplot at 0x7fa3440f45f8>"
      ]
     },
     "execution_count": 24,
     "metadata": {},
     "output_type": "execute_result"
    },
    {
     "data": {
      "image/png": "[encoded data removed]",
      "text/plain": [
       "<Figure size 1440x1440 with 1 Axes>"
      ]
     },
     "metadata": {
      "needs_background": "light"
     },
     "output_type": "display_data"
    }
   ],
   "source": [
    "plt.figure(figsize=(20, 20))\n",
    "quant_df.boxplot()"
   ]
  },
  {
   "cell_type": "code",
   "execution_count": 25,
   "metadata": {},
   "outputs": [],
   "source": [
    "original_df = pd.read_pickle('full_reduced_outliers.pkl')"
   ]
  },
  {
   "cell_type": "code",
   "execution_count": 26,
   "metadata": {},
   "outputs": [
    {
     "data": {
      "text/plain": [
       "['jupyter_prop',\n",
       " 'output_cell_prop',\n",
       " 'num_contrib',\n",
       " 'image_prop',\n",
       " 'num_commits',\n",
       " 'non_exec_prop',\n",
       " 'exec_inorder',\n",
       " 'exec_skips',\n",
       " 'num_functions',\n",
       " 'num_stars']"
      ]
     },
     "execution_count": 26,
     "metadata": {},
     "output_type": "execute_result"
    }
   ],
   "source": [
    "quant_vars = [original_df.columns[i] for i in [3, 4, 5, 6, 9, 10, 11, 12, 15, 19]]\n",
    "quant_vars"
   ]
  },
  {
   "cell_type": "code",
   "execution_count": 27,
   "metadata": {},
   "outputs": [],
   "source": [
    "for quant_var in quant_vars:\n",
    "    original_df[quant_var].transform(lambda x : 1 / (1 + math.exp(-x)))"
   ]
  },
  {
   "cell_type": "code",
   "execution_count": 33,
   "metadata": {
    "scrolled": false
   },
   "outputs": [
    {
     "data": {
      "image/png": "[encoded data removed]",
      "text/plain": [
       "<Figure size 432x288 with 1 Axes>"
      ]
     },
     "metadata": {
      "needs_background": "light"
     },
     "output_type": "display_data"
    },
    {
     "data": {
      "image/png": "[encoded data removed]",
      "text/plain": [
       "<Figure size 432x288 with 1 Axes>"
      ]
     },
     "metadata": {
      "needs_background": "light"
     },
     "output_type": "display_data"
    },
    {
     "data": {
      "image/png": "[encoded data removed]",
      "text/plain": [
       "<Figure size 432x288 with 1 Axes>"
      ]
     },
     "metadata": {
      "needs_background": "light"
     },
     "output_type": "display_data"
    },
    {
     "data": {
      "image/png": "[encoded data removed]",
      "text/plain": [
       "<Figure size 432x288 with 1 Axes>"
      ]
     },
     "metadata": {
      "needs_background": "light"
     },
     "output_type": "display_data"
    },
    {
     "data": {
      "image/png": "[encoded data removed]",
      "text/plain": [
       "<Figure size 432x288 with 1 Axes>"
      ]
     },
     "metadata": {
      "needs_background": "light"
     },
     "output_type": "display_data"
    },
    {
     "data": {
      "image/png": "[encoded data removed]",
      "text/plain": [
       "<Figure size 432x288 with 1 Axes>"
      ]
     },
     "metadata": {
      "needs_background": "light"
     },
     "output_type": "display_data"
    },
    {
     "data": {
      "image/png": "[encoded data removed]",
      "text/plain": [
       "<Figure size 432x288 with 1 Axes>"
      ]
     },
     "metadata": {
      "needs_background": "light"
     },
     "output_type": "display_data"
    },
    {
     "data": {
      "image/png": "[encoded data removed]",
      "text/plain": [
       "<Figure size 432x288 with 1 Axes>"
      ]
     },
     "metadata": {
      "needs_background": "light"
     },
     "output_type": "display_data"
    },
    {
     "data": {
      "image/png": "[encoded data removed]",
      "text/plain": [
       "<Figure size 432x288 with 1 Axes>"
      ]
     },
     "metadata": {
      "needs_background": "light"
     },
     "output_type": "display_data"
    },
    {
     "data": {
      "image/png": "[encoded data removed]",
      "text/plain": [
       "<Figure size 432x288 with 1 Axes>"
      ]
     },
     "metadata": {
      "needs_background": "light"
     },
     "output_type": "display_data"
    }
   ],
   "source": [
    "for quant_var in quant_vars:\n",
    "    original_df[quant_var].plot(kind = 'hist')\n",
    "    plt.suptitle(quant_var, fontsize=20)\n",
    "    plt.show()"
   ]
  },
  {
   "cell_type": "code",
   "execution_count": 34,
   "metadata": {},
   "outputs": [],
   "source": [
    "original_df.to_pickle('full_normalized.pkl')\n",
    "original_df.to_csv('csv-files/full_normalized.csv')"
   ]
  }
 ],
 "metadata": {
  "kernelspec": {
   "display_name": "Python 3",
   "language": "python",
   "name": "python3"
  },
  "language_info": {
   "codemirror_mode": {
    "name": "ipython",
    "version": 3
   },
   "file_extension": ".py",
   "mimetype": "text/x-python",
   "name": "python",
   "nbconvert_exporter": "python",
   "pygments_lexer": "ipython3",
   "version": "3.6.9"
  }
 },
 "nbformat": 4,
 "nbformat_minor": 2
}
