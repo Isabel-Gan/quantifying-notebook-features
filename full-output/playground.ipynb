{
 "cells": [
  {
   "cell_type": "code",
   "execution_count": 23,
   "metadata": {},
   "outputs": [],
   "source": [
    "import pandas as pd\n",
    "import seaborn as sns\n",
    "import matplotlib.pyplot as plt\n",
    "import math"
   ]
  },
  {
   "cell_type": "markdown",
   "metadata": {},
   "source": [
    "# Exploring Distributions"
   ]
  },
  {
   "cell_type": "code",
   "execution_count": 3,
   "metadata": {},
   "outputs": [],
   "source": [
    "df = pd.read_pickle('full_no_repo_dups.pkl')"
   ]
  },
  {
   "cell_type": "code",
   "execution_count": 4,
   "metadata": {},
   "outputs": [
    {
     "data": {
      "text/html": [
       "<div>\n",
       "<style scoped>\n",
       "    .dataframe tbody tr th:only-of-type {\n",
       "        vertical-align: middle;\n",
       "    }\n",
       "\n",
       "    .dataframe tbody tr th {\n",
       "        vertical-align: top;\n",
       "    }\n",
       "\n",
       "    .dataframe thead th {\n",
       "        text-align: right;\n",
       "    }\n",
       "</style>\n",
       "<table border=\"1\" class=\"dataframe\">\n",
       "  <thead>\n",
       "    <tr style=\"text-align: right;\">\n",
       "      <th></th>\n",
       "      <th>nb_id</th>\n",
       "      <th>repo_id</th>\n",
       "      <th>has_author</th>\n",
       "      <th>jupyter_prop</th>\n",
       "      <th>output_cell_prop</th>\n",
       "      <th>num_contrib</th>\n",
       "      <th>image_prop</th>\n",
       "      <th>is_education</th>\n",
       "      <th>has_comments</th>\n",
       "      <th>num_commits</th>\n",
       "      <th>non_exec_prop</th>\n",
       "      <th>exec_inorder</th>\n",
       "      <th>exec_skips</th>\n",
       "      <th>has_error</th>\n",
       "      <th>has_export</th>\n",
       "      <th>num_functions</th>\n",
       "      <th>has_test</th>\n",
       "      <th>has_param</th>\n",
       "      <th>has_reqtext</th>\n",
       "      <th>num_stars</th>\n",
       "    </tr>\n",
       "  </thead>\n",
       "  <tbody>\n",
       "    <tr>\n",
       "      <th>79</th>\n",
       "      <td>106</td>\n",
       "      <td>165198456</td>\n",
       "      <td>False</td>\n",
       "      <td>0.930911</td>\n",
       "      <td>0.363636</td>\n",
       "      <td>1.0</td>\n",
       "      <td>0.000000</td>\n",
       "      <td>True</td>\n",
       "      <td>True</td>\n",
       "      <td>3.0</td>\n",
       "      <td>0.545455</td>\n",
       "      <td>0.75</td>\n",
       "      <td>4.500000</td>\n",
       "      <td>False</td>\n",
       "      <td>False</td>\n",
       "      <td>2.0</td>\n",
       "      <td>False</td>\n",
       "      <td>False</td>\n",
       "      <td>False</td>\n",
       "      <td>1.0</td>\n",
       "    </tr>\n",
       "    <tr>\n",
       "      <th>81</th>\n",
       "      <td>108</td>\n",
       "      <td>165197188</td>\n",
       "      <td>False</td>\n",
       "      <td>1.000000</td>\n",
       "      <td>0.560000</td>\n",
       "      <td>1.0</td>\n",
       "      <td>0.000000</td>\n",
       "      <td>True</td>\n",
       "      <td>True</td>\n",
       "      <td>1.0</td>\n",
       "      <td>0.000000</td>\n",
       "      <td>1.00</td>\n",
       "      <td>1.913043</td>\n",
       "      <td>False</td>\n",
       "      <td>False</td>\n",
       "      <td>6.0</td>\n",
       "      <td>False</td>\n",
       "      <td>False</td>\n",
       "      <td>False</td>\n",
       "      <td>1.0</td>\n",
       "    </tr>\n",
       "    <tr>\n",
       "      <th>88</th>\n",
       "      <td>116</td>\n",
       "      <td>165201963</td>\n",
       "      <td>False</td>\n",
       "      <td>1.000000</td>\n",
       "      <td>0.666667</td>\n",
       "      <td>1.0</td>\n",
       "      <td>0.187500</td>\n",
       "      <td>True</td>\n",
       "      <td>True</td>\n",
       "      <td>1.0</td>\n",
       "      <td>0.041667</td>\n",
       "      <td>1.00</td>\n",
       "      <td>1.227273</td>\n",
       "      <td>False</td>\n",
       "      <td>False</td>\n",
       "      <td>8.0</td>\n",
       "      <td>False</td>\n",
       "      <td>False</td>\n",
       "      <td>False</td>\n",
       "      <td>0.0</td>\n",
       "    </tr>\n",
       "    <tr>\n",
       "      <th>89</th>\n",
       "      <td>117</td>\n",
       "      <td>165200414</td>\n",
       "      <td>False</td>\n",
       "      <td>1.000000</td>\n",
       "      <td>0.000000</td>\n",
       "      <td>1.0</td>\n",
       "      <td>0.000000</td>\n",
       "      <td>True</td>\n",
       "      <td>True</td>\n",
       "      <td>1.0</td>\n",
       "      <td>1.000000</td>\n",
       "      <td>1.00</td>\n",
       "      <td>0.000000</td>\n",
       "      <td>False</td>\n",
       "      <td>True</td>\n",
       "      <td>0.0</td>\n",
       "      <td>False</td>\n",
       "      <td>False</td>\n",
       "      <td>False</td>\n",
       "      <td>0.0</td>\n",
       "    </tr>\n",
       "    <tr>\n",
       "      <th>92</th>\n",
       "      <td>120</td>\n",
       "      <td>165200582</td>\n",
       "      <td>False</td>\n",
       "      <td>1.000000</td>\n",
       "      <td>0.545455</td>\n",
       "      <td>0.0</td>\n",
       "      <td>0.833333</td>\n",
       "      <td>False</td>\n",
       "      <td>True</td>\n",
       "      <td>2.0</td>\n",
       "      <td>0.000000</td>\n",
       "      <td>1.00</td>\n",
       "      <td>1.222222</td>\n",
       "      <td>False</td>\n",
       "      <td>True</td>\n",
       "      <td>0.0</td>\n",
       "      <td>False</td>\n",
       "      <td>False</td>\n",
       "      <td>False</td>\n",
       "      <td>0.0</td>\n",
       "    </tr>\n",
       "  </tbody>\n",
       "</table>\n",
       "</div>"
      ],
      "text/plain": [
       "    nb_id    repo_id has_author  jupyter_prop  output_cell_prop  num_contrib  \\\n",
       "79    106  165198456      False      0.930911          0.363636          1.0   \n",
       "81    108  165197188      False      1.000000          0.560000          1.0   \n",
       "88    116  165201963      False      1.000000          0.666667          1.0   \n",
       "89    117  165200414      False      1.000000          0.000000          1.0   \n",
       "92    120  165200582      False      1.000000          0.545455          0.0   \n",
       "\n",
       "    image_prop is_education has_comments  num_commits  non_exec_prop  \\\n",
       "79    0.000000         True         True          3.0       0.545455   \n",
       "81    0.000000         True         True          1.0       0.000000   \n",
       "88    0.187500         True         True          1.0       0.041667   \n",
       "89    0.000000         True         True          1.0       1.000000   \n",
       "92    0.833333        False         True          2.0       0.000000   \n",
       "\n",
       "    exec_inorder  exec_skips has_error has_export  num_functions has_test  \\\n",
       "79          0.75    4.500000     False      False            2.0    False   \n",
       "81          1.00    1.913043     False      False            6.0    False   \n",
       "88          1.00    1.227273     False      False            8.0    False   \n",
       "89          1.00    0.000000     False       True            0.0    False   \n",
       "92          1.00    1.222222     False       True            0.0    False   \n",
       "\n",
       "   has_param has_reqtext  num_stars  \n",
       "79     False       False        1.0  \n",
       "81     False       False        1.0  \n",
       "88     False       False        0.0  \n",
       "89     False       False        0.0  \n",
       "92     False       False        0.0  "
      ]
     },
     "execution_count": 4,
     "metadata": {},
     "output_type": "execute_result"
    }
   ],
   "source": [
    "df.head()"
   ]
  },
  {
   "cell_type": "code",
   "execution_count": 10,
   "metadata": {},
   "outputs": [
    {
     "data": {
      "text/plain": [
       "[(0, 'nb_id'),\n",
       " (1, 'repo_id'),\n",
       " (2, 'has_author'),\n",
       " (3, 'jupyter_prop'),\n",
       " (4, 'output_cell_prop'),\n",
       " (5, 'num_contrib'),\n",
       " (6, 'image_prop'),\n",
       " (7, 'is_education'),\n",
       " (8, 'has_comments'),\n",
       " (9, 'num_commits'),\n",
       " (10, 'non_exec_prop'),\n",
       " (11, 'exec_inorder'),\n",
       " (12, 'exec_skips'),\n",
       " (13, 'has_error'),\n",
       " (14, 'has_export'),\n",
       " (15, 'num_functions'),\n",
       " (16, 'has_test'),\n",
       " (17, 'has_param'),\n",
       " (18, 'has_reqtext'),\n",
       " (19, 'num_stars')]"
      ]
     },
     "execution_count": 10,
     "metadata": {},
     "output_type": "execute_result"
    }
   ],
   "source": [
    "list(enumerate(df.columns))"
   ]
  },
  {
   "cell_type": "code",
   "execution_count": 12,
   "metadata": {
    "scrolled": true
   },
   "outputs": [
    {
     "data": {
      "text/plain": [
       "['jupyter_prop',\n",
       " 'output_cell_prop',\n",
       " 'num_contrib',\n",
       " 'image_prop',\n",
       " 'num_commits',\n",
       " 'non_exec_prop',\n",
       " 'exec_inorder',\n",
       " 'exec_skips',\n",
       " 'num_functions',\n",
       " 'num_stars']"
      ]
     },
     "execution_count": 12,
     "metadata": {},
     "output_type": "execute_result"
    }
   ],
   "source": [
    "quant_vars = [df.columns[i] for i in [3, 4, 5, 6, 9, 10, 11, 12, 15, 19]]\n",
    "quant_vars"
   ]
  },
  {
   "cell_type": "code",
   "execution_count": 30,
   "metadata": {},
   "outputs": [
    {
     "data": {
      "text/plain": [
       "<matplotlib.axes._subplots.AxesSubplot at 0x7fb83afb2588>"
      ]
     },
     "execution_count": 30,
     "metadata": {},
     "output_type": "execute_result"
    },
    {
     "data": {
      "image/png": "[encoded data removed]",
      "text/plain": [
       "<Figure size 432x288 with 1 Axes>"
      ]
     },
     "metadata": {
      "needs_background": "light"
     },
     "output_type": "display_data"
    }
   ],
   "source": [
    "df['num_stars'].plot(kind = 'hist')"
   ]
  },
  {
   "cell_type": "code",
   "execution_count": 29,
   "metadata": {},
   "outputs": [
    {
     "data": {
      "text/plain": [
       "<matplotlib.axes._subplots.AxesSubplot at 0x7fb83b2bb048>"
      ]
     },
     "execution_count": 29,
     "metadata": {},
     "output_type": "execute_result"
    },
    {
     "data": {
      "image/png": "[encoded data removed]",
      "text/plain": [
       "<Figure size 432x288 with 1 Axes>"
      ]
     },
     "metadata": {
      "needs_background": "light"
     },
     "output_type": "display_data"
    }
   ],
   "source": [
    "df['num_stars'].transform(lambda x : math.log(x + 1)).plot(kind = 'hist')"
   ]
  }
 ],
 "metadata": {
  "kernelspec": {
   "display_name": "Python 3",
   "language": "python",
   "name": "python3"
  },
  "language_info": {
   "codemirror_mode": {
    "name": "ipython",
    "version": 3
   },
   "file_extension": ".py",
   "mimetype": "text/x-python",
   "name": "python",
   "nbconvert_exporter": "python",
   "pygments_lexer": "ipython3",
   "version": "3.6.9"
  }
 },
 "nbformat": 4,
 "nbformat_minor": 2
}
