{
 "cells": [
  {
   "cell_type": "markdown",
   "metadata": {},
   "source": [
    "# Imports"
   ]
  },
  {
   "cell_type": "code",
   "execution_count": 1,
   "metadata": {},
   "outputs": [],
   "source": [
    "import pandas as pd\n",
    "import seaborn as sns\n",
    "import matplotlib.pyplot as plt\n",
    "plt.style.use('ggplot')\n",
    "import numpy as np"
   ]
  },
  {
   "cell_type": "markdown",
   "metadata": {},
   "source": [
    "# Loading the Data"
   ]
  },
  {
   "cell_type": "code",
   "execution_count": 2,
   "metadata": {},
   "outputs": [],
   "source": [
    "full_data_original = pd.read_pickle('full_all_data.pkl')"
   ]
  },
  {
   "cell_type": "code",
   "execution_count": 3,
   "metadata": {},
   "outputs": [],
   "source": [
    "full_data_df = full_data_original.copy()"
   ]
  },
  {
   "cell_type": "code",
   "execution_count": 4,
   "metadata": {
    "scrolled": true
   },
   "outputs": [
    {
     "data": {
      "text/html": [
       "<div>\n",
       "<style scoped>\n",
       "    .dataframe tbody tr th:only-of-type {\n",
       "        vertical-align: middle;\n",
       "    }\n",
       "\n",
       "    .dataframe tbody tr th {\n",
       "        vertical-align: top;\n",
       "    }\n",
       "\n",
       "    .dataframe thead th {\n",
       "        text-align: right;\n",
       "    }\n",
       "</style>\n",
       "<table border=\"1\" class=\"dataframe\">\n",
       "  <thead>\n",
       "    <tr style=\"text-align: right;\">\n",
       "      <th></th>\n",
       "      <th>nb_id</th>\n",
       "      <th>repo_id</th>\n",
       "      <th>longer_beginning</th>\n",
       "      <th>longer_ending</th>\n",
       "      <th>has_author</th>\n",
       "      <th>has_equation</th>\n",
       "      <th>jupyter_prop</th>\n",
       "      <th>output_cell_prop</th>\n",
       "      <th>markdown_prop</th>\n",
       "      <th>num_contrib</th>\n",
       "      <th>...</th>\n",
       "      <th>has_error</th>\n",
       "      <th>speaking_language</th>\n",
       "      <th>has_export</th>\n",
       "      <th>num_functions</th>\n",
       "      <th>has_test</th>\n",
       "      <th>num_headers</th>\n",
       "      <th>has_param</th>\n",
       "      <th>has_reqtext</th>\n",
       "      <th>num_stars</th>\n",
       "      <th>errors</th>\n",
       "    </tr>\n",
       "  </thead>\n",
       "  <tbody>\n",
       "    <tr>\n",
       "      <th>0</th>\n",
       "      <td>0</td>\n",
       "      <td>165196403</td>\n",
       "      <td>False</td>\n",
       "      <td>False</td>\n",
       "      <td>False</td>\n",
       "      <td>False</td>\n",
       "      <td>0.995303</td>\n",
       "      <td>0.166667</td>\n",
       "      <td>0.538462</td>\n",
       "      <td>1.0</td>\n",
       "      <td>...</td>\n",
       "      <td>False</td>\n",
       "      <td>NaN</td>\n",
       "      <td>False</td>\n",
       "      <td>0.0</td>\n",
       "      <td>False</td>\n",
       "      <td>9.0</td>\n",
       "      <td>False</td>\n",
       "      <td>False</td>\n",
       "      <td>1.0</td>\n",
       "      <td>NaN</td>\n",
       "    </tr>\n",
       "    <tr>\n",
       "      <th>1</th>\n",
       "      <td>2</td>\n",
       "      <td>165196403</td>\n",
       "      <td>True</td>\n",
       "      <td>True</td>\n",
       "      <td>False</td>\n",
       "      <td>True</td>\n",
       "      <td>0.995303</td>\n",
       "      <td>0.965517</td>\n",
       "      <td>0.508475</td>\n",
       "      <td>1.0</td>\n",
       "      <td>...</td>\n",
       "      <td>False</td>\n",
       "      <td>NaN</td>\n",
       "      <td>False</td>\n",
       "      <td>0.0</td>\n",
       "      <td>False</td>\n",
       "      <td>10.0</td>\n",
       "      <td>False</td>\n",
       "      <td>False</td>\n",
       "      <td>1.0</td>\n",
       "      <td>NaN</td>\n",
       "    </tr>\n",
       "    <tr>\n",
       "      <th>2</th>\n",
       "      <td>3</td>\n",
       "      <td>165196403</td>\n",
       "      <td>False</td>\n",
       "      <td>False</td>\n",
       "      <td>False</td>\n",
       "      <td>False</td>\n",
       "      <td>0.995303</td>\n",
       "      <td>0.500000</td>\n",
       "      <td>0.529412</td>\n",
       "      <td>1.0</td>\n",
       "      <td>...</td>\n",
       "      <td>False</td>\n",
       "      <td>NaN</td>\n",
       "      <td>False</td>\n",
       "      <td>3.0</td>\n",
       "      <td>False</td>\n",
       "      <td>6.0</td>\n",
       "      <td>False</td>\n",
       "      <td>False</td>\n",
       "      <td>1.0</td>\n",
       "      <td>NaN</td>\n",
       "    </tr>\n",
       "    <tr>\n",
       "      <th>3</th>\n",
       "      <td>5</td>\n",
       "      <td>165196403</td>\n",
       "      <td>False</td>\n",
       "      <td>True</td>\n",
       "      <td>False</td>\n",
       "      <td>True</td>\n",
       "      <td>0.995303</td>\n",
       "      <td>0.461538</td>\n",
       "      <td>0.518519</td>\n",
       "      <td>1.0</td>\n",
       "      <td>...</td>\n",
       "      <td>False</td>\n",
       "      <td>NaN</td>\n",
       "      <td>False</td>\n",
       "      <td>7.0</td>\n",
       "      <td>False</td>\n",
       "      <td>10.0</td>\n",
       "      <td>False</td>\n",
       "      <td>False</td>\n",
       "      <td>1.0</td>\n",
       "      <td>NaN</td>\n",
       "    </tr>\n",
       "    <tr>\n",
       "      <th>4</th>\n",
       "      <td>7</td>\n",
       "      <td>165196403</td>\n",
       "      <td>NaN</td>\n",
       "      <td>NaN</td>\n",
       "      <td>False</td>\n",
       "      <td>True</td>\n",
       "      <td>0.995303</td>\n",
       "      <td>0.666667</td>\n",
       "      <td>0.571429</td>\n",
       "      <td>1.0</td>\n",
       "      <td>...</td>\n",
       "      <td>False</td>\n",
       "      <td>Norwegian</td>\n",
       "      <td>False</td>\n",
       "      <td>2.0</td>\n",
       "      <td>False</td>\n",
       "      <td>8.0</td>\n",
       "      <td>False</td>\n",
       "      <td>False</td>\n",
       "      <td>1.0</td>\n",
       "      <td>NaN</td>\n",
       "    </tr>\n",
       "  </tbody>\n",
       "</table>\n",
       "<p>5 rows × 32 columns</p>\n",
       "</div>"
      ],
      "text/plain": [
       "   nb_id    repo_id longer_beginning longer_ending has_author has_equation  \\\n",
       "0      0  165196403            False         False      False        False   \n",
       "1      2  165196403             True          True      False         True   \n",
       "2      3  165196403            False         False      False        False   \n",
       "3      5  165196403            False          True      False         True   \n",
       "4      7  165196403              NaN           NaN      False         True   \n",
       "\n",
       "   jupyter_prop  output_cell_prop  markdown_prop  num_contrib  ...  has_error  \\\n",
       "0      0.995303          0.166667       0.538462          1.0  ...      False   \n",
       "1      0.995303          0.965517       0.508475          1.0  ...      False   \n",
       "2      0.995303          0.500000       0.529412          1.0  ...      False   \n",
       "3      0.995303          0.461538       0.518519          1.0  ...      False   \n",
       "4      0.995303          0.666667       0.571429          1.0  ...      False   \n",
       "\n",
       "  speaking_language has_export num_functions has_test  num_headers has_param  \\\n",
       "0               NaN      False           0.0    False          9.0     False   \n",
       "1               NaN      False           0.0    False         10.0     False   \n",
       "2               NaN      False           3.0    False          6.0     False   \n",
       "3               NaN      False           7.0    False         10.0     False   \n",
       "4         Norwegian      False           2.0    False          8.0     False   \n",
       "\n",
       "   has_reqtext num_stars  errors  \n",
       "0        False       1.0     NaN  \n",
       "1        False       1.0     NaN  \n",
       "2        False       1.0     NaN  \n",
       "3        False       1.0     NaN  \n",
       "4        False       1.0     NaN  \n",
       "\n",
       "[5 rows x 32 columns]"
      ]
     },
     "execution_count": 4,
     "metadata": {},
     "output_type": "execute_result"
    }
   ],
   "source": [
    "# initial look at the data\n",
    "full_data_df.head()"
   ]
  },
  {
   "cell_type": "markdown",
   "metadata": {},
   "source": [
    "## Loading on Future Executions"
   ]
  },
  {
   "cell_type": "code",
   "execution_count": 5,
   "metadata": {},
   "outputs": [],
   "source": [
    "# load in the pickle files\n",
    "md_group_original = pd.read_pickle('full_markdown_group.pkl')\n",
    "no_md_group_original = pd.read_pickle('full_no_markdown_group.pkl')"
   ]
  },
  {
   "cell_type": "code",
   "execution_count": 6,
   "metadata": {},
   "outputs": [],
   "source": [
    "# make copies of the original dataframes\n",
    "md_group = md_group_original.copy()\n",
    "no_md_group = no_md_group_original.copy()"
   ]
  },
  {
   "cell_type": "code",
   "execution_count": 7,
   "metadata": {
    "scrolled": true
   },
   "outputs": [
    {
     "data": {
      "text/html": [
       "<div>\n",
       "<style scoped>\n",
       "    .dataframe tbody tr th:only-of-type {\n",
       "        vertical-align: middle;\n",
       "    }\n",
       "\n",
       "    .dataframe tbody tr th {\n",
       "        vertical-align: top;\n",
       "    }\n",
       "\n",
       "    .dataframe thead th {\n",
       "        text-align: right;\n",
       "    }\n",
       "</style>\n",
       "<table border=\"1\" class=\"dataframe\">\n",
       "  <thead>\n",
       "    <tr style=\"text-align: right;\">\n",
       "      <th></th>\n",
       "      <th>nb_id</th>\n",
       "      <th>repo_id</th>\n",
       "      <th>longer_beginning</th>\n",
       "      <th>longer_ending</th>\n",
       "      <th>has_author</th>\n",
       "      <th>has_equation</th>\n",
       "      <th>jupyter_prop</th>\n",
       "      <th>output_cell_prop</th>\n",
       "      <th>markdown_prop</th>\n",
       "      <th>num_contrib</th>\n",
       "      <th>...</th>\n",
       "      <th>exec_inorder</th>\n",
       "      <th>exec_skips</th>\n",
       "      <th>has_error</th>\n",
       "      <th>has_export</th>\n",
       "      <th>num_functions</th>\n",
       "      <th>has_test</th>\n",
       "      <th>num_headers</th>\n",
       "      <th>has_param</th>\n",
       "      <th>has_reqtext</th>\n",
       "      <th>num_stars</th>\n",
       "    </tr>\n",
       "  </thead>\n",
       "  <tbody>\n",
       "    <tr>\n",
       "      <th>79</th>\n",
       "      <td>106</td>\n",
       "      <td>165198456</td>\n",
       "      <td>True</td>\n",
       "      <td>True</td>\n",
       "      <td>False</td>\n",
       "      <td>False</td>\n",
       "      <td>0.930911</td>\n",
       "      <td>0.363636</td>\n",
       "      <td>0.775510</td>\n",
       "      <td>1.0</td>\n",
       "      <td>...</td>\n",
       "      <td>0.75</td>\n",
       "      <td>4.500000</td>\n",
       "      <td>False</td>\n",
       "      <td>False</td>\n",
       "      <td>2.0</td>\n",
       "      <td>False</td>\n",
       "      <td>27.0</td>\n",
       "      <td>False</td>\n",
       "      <td>False</td>\n",
       "      <td>1.0</td>\n",
       "    </tr>\n",
       "    <tr>\n",
       "      <th>80</th>\n",
       "      <td>107</td>\n",
       "      <td>165198456</td>\n",
       "      <td>True</td>\n",
       "      <td>True</td>\n",
       "      <td>False</td>\n",
       "      <td>False</td>\n",
       "      <td>0.930911</td>\n",
       "      <td>0.000000</td>\n",
       "      <td>0.775510</td>\n",
       "      <td>1.0</td>\n",
       "      <td>...</td>\n",
       "      <td>1.00</td>\n",
       "      <td>0.000000</td>\n",
       "      <td>False</td>\n",
       "      <td>False</td>\n",
       "      <td>2.0</td>\n",
       "      <td>False</td>\n",
       "      <td>27.0</td>\n",
       "      <td>False</td>\n",
       "      <td>False</td>\n",
       "      <td>1.0</td>\n",
       "    </tr>\n",
       "    <tr>\n",
       "      <th>81</th>\n",
       "      <td>108</td>\n",
       "      <td>165197188</td>\n",
       "      <td>False</td>\n",
       "      <td>False</td>\n",
       "      <td>False</td>\n",
       "      <td>False</td>\n",
       "      <td>1.000000</td>\n",
       "      <td>0.560000</td>\n",
       "      <td>0.390244</td>\n",
       "      <td>1.0</td>\n",
       "      <td>...</td>\n",
       "      <td>1.00</td>\n",
       "      <td>1.913043</td>\n",
       "      <td>False</td>\n",
       "      <td>False</td>\n",
       "      <td>6.0</td>\n",
       "      <td>False</td>\n",
       "      <td>13.0</td>\n",
       "      <td>False</td>\n",
       "      <td>False</td>\n",
       "      <td>1.0</td>\n",
       "    </tr>\n",
       "    <tr>\n",
       "      <th>82</th>\n",
       "      <td>109</td>\n",
       "      <td>165197188</td>\n",
       "      <td>False</td>\n",
       "      <td>False</td>\n",
       "      <td>False</td>\n",
       "      <td>False</td>\n",
       "      <td>1.000000</td>\n",
       "      <td>0.560000</td>\n",
       "      <td>0.390244</td>\n",
       "      <td>1.0</td>\n",
       "      <td>...</td>\n",
       "      <td>1.00</td>\n",
       "      <td>1.913043</td>\n",
       "      <td>False</td>\n",
       "      <td>False</td>\n",
       "      <td>6.0</td>\n",
       "      <td>False</td>\n",
       "      <td>13.0</td>\n",
       "      <td>False</td>\n",
       "      <td>False</td>\n",
       "      <td>1.0</td>\n",
       "    </tr>\n",
       "    <tr>\n",
       "      <th>83</th>\n",
       "      <td>110</td>\n",
       "      <td>165197188</td>\n",
       "      <td>False</td>\n",
       "      <td>False</td>\n",
       "      <td>False</td>\n",
       "      <td>False</td>\n",
       "      <td>1.000000</td>\n",
       "      <td>0.588235</td>\n",
       "      <td>0.346154</td>\n",
       "      <td>1.0</td>\n",
       "      <td>...</td>\n",
       "      <td>1.00</td>\n",
       "      <td>0.000000</td>\n",
       "      <td>False</td>\n",
       "      <td>False</td>\n",
       "      <td>8.0</td>\n",
       "      <td>False</td>\n",
       "      <td>13.0</td>\n",
       "      <td>False</td>\n",
       "      <td>False</td>\n",
       "      <td>1.0</td>\n",
       "    </tr>\n",
       "  </tbody>\n",
       "</table>\n",
       "<p>5 rows × 29 columns</p>\n",
       "</div>"
      ],
      "text/plain": [
       "    nb_id    repo_id longer_beginning longer_ending has_author has_equation  \\\n",
       "79    106  165198456             True          True      False        False   \n",
       "80    107  165198456             True          True      False        False   \n",
       "81    108  165197188            False         False      False        False   \n",
       "82    109  165197188            False         False      False        False   \n",
       "83    110  165197188            False         False      False        False   \n",
       "\n",
       "    jupyter_prop  output_cell_prop  markdown_prop  num_contrib  ...  \\\n",
       "79      0.930911          0.363636       0.775510          1.0  ...   \n",
       "80      0.930911          0.000000       0.775510          1.0  ...   \n",
       "81      1.000000          0.560000       0.390244          1.0  ...   \n",
       "82      1.000000          0.560000       0.390244          1.0  ...   \n",
       "83      1.000000          0.588235       0.346154          1.0  ...   \n",
       "\n",
       "    exec_inorder exec_skips has_error has_export  num_functions has_test  \\\n",
       "79          0.75   4.500000     False      False            2.0    False   \n",
       "80          1.00   0.000000     False      False            2.0    False   \n",
       "81          1.00   1.913043     False      False            6.0    False   \n",
       "82          1.00   1.913043     False      False            6.0    False   \n",
       "83          1.00   0.000000     False      False            8.0    False   \n",
       "\n",
       "    num_headers has_param  has_reqtext  num_stars  \n",
       "79         27.0     False        False        1.0  \n",
       "80         27.0     False        False        1.0  \n",
       "81         13.0     False        False        1.0  \n",
       "82         13.0     False        False        1.0  \n",
       "83         13.0     False        False        1.0  \n",
       "\n",
       "[5 rows x 29 columns]"
      ]
     },
     "execution_count": 7,
     "metadata": {},
     "output_type": "execute_result"
    }
   ],
   "source": [
    "# check the data\n",
    "md_group.head()"
   ]
  },
  {
   "cell_type": "code",
   "execution_count": 8,
   "metadata": {},
   "outputs": [
    {
     "data": {
      "text/html": [
       "<div>\n",
       "<style scoped>\n",
       "    .dataframe tbody tr th:only-of-type {\n",
       "        vertical-align: middle;\n",
       "    }\n",
       "\n",
       "    .dataframe tbody tr th {\n",
       "        vertical-align: top;\n",
       "    }\n",
       "\n",
       "    .dataframe thead th {\n",
       "        text-align: right;\n",
       "    }\n",
       "</style>\n",
       "<table border=\"1\" class=\"dataframe\">\n",
       "  <thead>\n",
       "    <tr style=\"text-align: right;\">\n",
       "      <th></th>\n",
       "      <th>nb_id</th>\n",
       "      <th>repo_id</th>\n",
       "      <th>has_author</th>\n",
       "      <th>jupyter_prop</th>\n",
       "      <th>output_cell_prop</th>\n",
       "      <th>num_contrib</th>\n",
       "      <th>image_prop</th>\n",
       "      <th>is_education</th>\n",
       "      <th>has_comments</th>\n",
       "      <th>num_commits</th>\n",
       "      <th>non_exec_prop</th>\n",
       "      <th>exec_inorder</th>\n",
       "      <th>exec_skips</th>\n",
       "      <th>has_error</th>\n",
       "      <th>has_export</th>\n",
       "      <th>num_functions</th>\n",
       "      <th>has_test</th>\n",
       "      <th>has_param</th>\n",
       "      <th>has_reqtext</th>\n",
       "      <th>num_stars</th>\n",
       "    </tr>\n",
       "  </thead>\n",
       "  <tbody>\n",
       "    <tr>\n",
       "      <th>85</th>\n",
       "      <td>113</td>\n",
       "      <td>165197465</td>\n",
       "      <td>False</td>\n",
       "      <td>1.000000</td>\n",
       "      <td>0.500000</td>\n",
       "      <td>1.0</td>\n",
       "      <td>0.000000</td>\n",
       "      <td>False</td>\n",
       "      <td>True</td>\n",
       "      <td>1.0</td>\n",
       "      <td>0.500000</td>\n",
       "      <td>1.000000</td>\n",
       "      <td>0.000000</td>\n",
       "      <td>False</td>\n",
       "      <td>False</td>\n",
       "      <td>1.0</td>\n",
       "      <td>False</td>\n",
       "      <td>False</td>\n",
       "      <td>False</td>\n",
       "      <td>0.0</td>\n",
       "    </tr>\n",
       "    <tr>\n",
       "      <th>90</th>\n",
       "      <td>118</td>\n",
       "      <td>165198993</td>\n",
       "      <td>False</td>\n",
       "      <td>1.000000</td>\n",
       "      <td>0.571429</td>\n",
       "      <td>1.0</td>\n",
       "      <td>0.416667</td>\n",
       "      <td>False</td>\n",
       "      <td>True</td>\n",
       "      <td>1.0</td>\n",
       "      <td>0.047619</td>\n",
       "      <td>0.944444</td>\n",
       "      <td>4.555556</td>\n",
       "      <td>False</td>\n",
       "      <td>False</td>\n",
       "      <td>1.0</td>\n",
       "      <td>False</td>\n",
       "      <td>False</td>\n",
       "      <td>False</td>\n",
       "      <td>0.0</td>\n",
       "    </tr>\n",
       "    <tr>\n",
       "      <th>91</th>\n",
       "      <td>119</td>\n",
       "      <td>165198993</td>\n",
       "      <td>False</td>\n",
       "      <td>1.000000</td>\n",
       "      <td>0.595745</td>\n",
       "      <td>1.0</td>\n",
       "      <td>0.571429</td>\n",
       "      <td>False</td>\n",
       "      <td>True</td>\n",
       "      <td>1.0</td>\n",
       "      <td>0.000000</td>\n",
       "      <td>0.956522</td>\n",
       "      <td>3.543478</td>\n",
       "      <td>True</td>\n",
       "      <td>True</td>\n",
       "      <td>1.0</td>\n",
       "      <td>False</td>\n",
       "      <td>False</td>\n",
       "      <td>False</td>\n",
       "      <td>0.0</td>\n",
       "    </tr>\n",
       "    <tr>\n",
       "      <th>94</th>\n",
       "      <td>122</td>\n",
       "      <td>165198375</td>\n",
       "      <td>False</td>\n",
       "      <td>0.578178</td>\n",
       "      <td>0.000000</td>\n",
       "      <td>1.0</td>\n",
       "      <td>0.000000</td>\n",
       "      <td>False</td>\n",
       "      <td>True</td>\n",
       "      <td>1.0</td>\n",
       "      <td>0.976190</td>\n",
       "      <td>1.000000</td>\n",
       "      <td>0.000000</td>\n",
       "      <td>False</td>\n",
       "      <td>True</td>\n",
       "      <td>21.0</td>\n",
       "      <td>False</td>\n",
       "      <td>False</td>\n",
       "      <td>False</td>\n",
       "      <td>0.0</td>\n",
       "    </tr>\n",
       "    <tr>\n",
       "      <th>109</th>\n",
       "      <td>137</td>\n",
       "      <td>165196460</td>\n",
       "      <td>False</td>\n",
       "      <td>0.967215</td>\n",
       "      <td>0.727273</td>\n",
       "      <td>1.0</td>\n",
       "      <td>0.250000</td>\n",
       "      <td>False</td>\n",
       "      <td>False</td>\n",
       "      <td>1.0</td>\n",
       "      <td>0.000000</td>\n",
       "      <td>1.000000</td>\n",
       "      <td>1.400000</td>\n",
       "      <td>False</td>\n",
       "      <td>False</td>\n",
       "      <td>0.0</td>\n",
       "      <td>False</td>\n",
       "      <td>False</td>\n",
       "      <td>False</td>\n",
       "      <td>0.0</td>\n",
       "    </tr>\n",
       "  </tbody>\n",
       "</table>\n",
       "</div>"
      ],
      "text/plain": [
       "     nb_id    repo_id has_author  jupyter_prop  output_cell_prop  num_contrib  \\\n",
       "85     113  165197465      False      1.000000          0.500000          1.0   \n",
       "90     118  165198993      False      1.000000          0.571429          1.0   \n",
       "91     119  165198993      False      1.000000          0.595745          1.0   \n",
       "94     122  165198375      False      0.578178          0.000000          1.0   \n",
       "109    137  165196460      False      0.967215          0.727273          1.0   \n",
       "\n",
       "     image_prop is_education has_comments  num_commits  non_exec_prop  \\\n",
       "85     0.000000        False         True          1.0       0.500000   \n",
       "90     0.416667        False         True          1.0       0.047619   \n",
       "91     0.571429        False         True          1.0       0.000000   \n",
       "94     0.000000        False         True          1.0       0.976190   \n",
       "109    0.250000        False        False          1.0       0.000000   \n",
       "\n",
       "     exec_inorder  exec_skips has_error has_export  num_functions has_test  \\\n",
       "85       1.000000    0.000000     False      False            1.0    False   \n",
       "90       0.944444    4.555556     False      False            1.0    False   \n",
       "91       0.956522    3.543478      True       True            1.0    False   \n",
       "94       1.000000    0.000000     False       True           21.0    False   \n",
       "109      1.000000    1.400000     False      False            0.0    False   \n",
       "\n",
       "    has_param has_reqtext  num_stars  \n",
       "85      False       False        0.0  \n",
       "90      False       False        0.0  \n",
       "91      False       False        0.0  \n",
       "94      False       False        0.0  \n",
       "109     False       False        0.0  "
      ]
     },
     "execution_count": 8,
     "metadata": {},
     "output_type": "execute_result"
    }
   ],
   "source": [
    "no_md_group.head()"
   ]
  },
  {
   "cell_type": "code",
   "execution_count": 30,
   "metadata": {},
   "outputs": [
    {
     "data": {
      "text/html": [
       "<div>\n",
       "<style scoped>\n",
       "    .dataframe tbody tr th:only-of-type {\n",
       "        vertical-align: middle;\n",
       "    }\n",
       "\n",
       "    .dataframe tbody tr th {\n",
       "        vertical-align: top;\n",
       "    }\n",
       "\n",
       "    .dataframe thead th {\n",
       "        text-align: right;\n",
       "    }\n",
       "</style>\n",
       "<table border=\"1\" class=\"dataframe\">\n",
       "  <thead>\n",
       "    <tr style=\"text-align: right;\">\n",
       "      <th></th>\n",
       "      <th>nb_id</th>\n",
       "      <th>repo_id</th>\n",
       "      <th>longer_beginning</th>\n",
       "      <th>longer_ending</th>\n",
       "      <th>has_author</th>\n",
       "      <th>has_equation</th>\n",
       "      <th>jupyter_prop</th>\n",
       "      <th>output_cell_prop</th>\n",
       "      <th>markdown_prop</th>\n",
       "      <th>num_contrib</th>\n",
       "      <th>...</th>\n",
       "      <th>has_export</th>\n",
       "      <th>num_functions</th>\n",
       "      <th>has_test</th>\n",
       "      <th>num_headers</th>\n",
       "      <th>has_param</th>\n",
       "      <th>has_reqtext</th>\n",
       "      <th>num_stars</th>\n",
       "      <th>has_functions</th>\n",
       "      <th>has_headers</th>\n",
       "      <th>inorder_threshold</th>\n",
       "    </tr>\n",
       "  </thead>\n",
       "  <tbody>\n",
       "    <tr>\n",
       "      <th>79</th>\n",
       "      <td>106</td>\n",
       "      <td>165198456</td>\n",
       "      <td>True</td>\n",
       "      <td>True</td>\n",
       "      <td>False</td>\n",
       "      <td>False</td>\n",
       "      <td>0.930911</td>\n",
       "      <td>0.363636</td>\n",
       "      <td>0.775510</td>\n",
       "      <td>1.0</td>\n",
       "      <td>...</td>\n",
       "      <td>False</td>\n",
       "      <td>2.0</td>\n",
       "      <td>False</td>\n",
       "      <td>27.0</td>\n",
       "      <td>False</td>\n",
       "      <td>False</td>\n",
       "      <td>1.0</td>\n",
       "      <td>True</td>\n",
       "      <td>True</td>\n",
       "      <td>False</td>\n",
       "    </tr>\n",
       "    <tr>\n",
       "      <th>80</th>\n",
       "      <td>107</td>\n",
       "      <td>165198456</td>\n",
       "      <td>True</td>\n",
       "      <td>True</td>\n",
       "      <td>False</td>\n",
       "      <td>False</td>\n",
       "      <td>0.930911</td>\n",
       "      <td>0.000000</td>\n",
       "      <td>0.775510</td>\n",
       "      <td>1.0</td>\n",
       "      <td>...</td>\n",
       "      <td>False</td>\n",
       "      <td>2.0</td>\n",
       "      <td>False</td>\n",
       "      <td>27.0</td>\n",
       "      <td>False</td>\n",
       "      <td>False</td>\n",
       "      <td>1.0</td>\n",
       "      <td>True</td>\n",
       "      <td>True</td>\n",
       "      <td>True</td>\n",
       "    </tr>\n",
       "    <tr>\n",
       "      <th>81</th>\n",
       "      <td>108</td>\n",
       "      <td>165197188</td>\n",
       "      <td>False</td>\n",
       "      <td>False</td>\n",
       "      <td>False</td>\n",
       "      <td>False</td>\n",
       "      <td>1.000000</td>\n",
       "      <td>0.560000</td>\n",
       "      <td>0.390244</td>\n",
       "      <td>1.0</td>\n",
       "      <td>...</td>\n",
       "      <td>False</td>\n",
       "      <td>6.0</td>\n",
       "      <td>False</td>\n",
       "      <td>13.0</td>\n",
       "      <td>False</td>\n",
       "      <td>False</td>\n",
       "      <td>1.0</td>\n",
       "      <td>True</td>\n",
       "      <td>True</td>\n",
       "      <td>True</td>\n",
       "    </tr>\n",
       "    <tr>\n",
       "      <th>82</th>\n",
       "      <td>109</td>\n",
       "      <td>165197188</td>\n",
       "      <td>False</td>\n",
       "      <td>False</td>\n",
       "      <td>False</td>\n",
       "      <td>False</td>\n",
       "      <td>1.000000</td>\n",
       "      <td>0.560000</td>\n",
       "      <td>0.390244</td>\n",
       "      <td>1.0</td>\n",
       "      <td>...</td>\n",
       "      <td>False</td>\n",
       "      <td>6.0</td>\n",
       "      <td>False</td>\n",
       "      <td>13.0</td>\n",
       "      <td>False</td>\n",
       "      <td>False</td>\n",
       "      <td>1.0</td>\n",
       "      <td>True</td>\n",
       "      <td>True</td>\n",
       "      <td>True</td>\n",
       "    </tr>\n",
       "    <tr>\n",
       "      <th>83</th>\n",
       "      <td>110</td>\n",
       "      <td>165197188</td>\n",
       "      <td>False</td>\n",
       "      <td>False</td>\n",
       "      <td>False</td>\n",
       "      <td>False</td>\n",
       "      <td>1.000000</td>\n",
       "      <td>0.588235</td>\n",
       "      <td>0.346154</td>\n",
       "      <td>1.0</td>\n",
       "      <td>...</td>\n",
       "      <td>False</td>\n",
       "      <td>8.0</td>\n",
       "      <td>False</td>\n",
       "      <td>13.0</td>\n",
       "      <td>False</td>\n",
       "      <td>False</td>\n",
       "      <td>1.0</td>\n",
       "      <td>True</td>\n",
       "      <td>True</td>\n",
       "      <td>True</td>\n",
       "    </tr>\n",
       "  </tbody>\n",
       "</table>\n",
       "<p>5 rows × 32 columns</p>\n",
       "</div>"
      ],
      "text/plain": [
       "    nb_id    repo_id longer_beginning longer_ending has_author has_equation  \\\n",
       "79    106  165198456             True          True      False        False   \n",
       "80    107  165198456             True          True      False        False   \n",
       "81    108  165197188            False         False      False        False   \n",
       "82    109  165197188            False         False      False        False   \n",
       "83    110  165197188            False         False      False        False   \n",
       "\n",
       "    jupyter_prop  output_cell_prop  markdown_prop  num_contrib  ...  \\\n",
       "79      0.930911          0.363636       0.775510          1.0  ...   \n",
       "80      0.930911          0.000000       0.775510          1.0  ...   \n",
       "81      1.000000          0.560000       0.390244          1.0  ...   \n",
       "82      1.000000          0.560000       0.390244          1.0  ...   \n",
       "83      1.000000          0.588235       0.346154          1.0  ...   \n",
       "\n",
       "    has_export num_functions has_test num_headers  has_param has_reqtext  \\\n",
       "79       False           2.0    False        27.0      False       False   \n",
       "80       False           2.0    False        27.0      False       False   \n",
       "81       False           6.0    False        13.0      False       False   \n",
       "82       False           6.0    False        13.0      False       False   \n",
       "83       False           8.0    False        13.0      False       False   \n",
       "\n",
       "    num_stars has_functions  has_headers  inorder_threshold  \n",
       "79        1.0          True         True              False  \n",
       "80        1.0          True         True               True  \n",
       "81        1.0          True         True               True  \n",
       "82        1.0          True         True               True  \n",
       "83        1.0          True         True               True  \n",
       "\n",
       "[5 rows x 32 columns]"
      ]
     },
     "execution_count": 30,
     "metadata": {},
     "output_type": "execute_result"
    }
   ],
   "source": [
    "# combine the two dataframes to make all data\n",
    "full_data_df = pd.concat([md_group, no_md_group])\n",
    "full_data_df.head()"
   ]
  },
  {
   "cell_type": "code",
   "execution_count": 31,
   "metadata": {},
   "outputs": [
    {
     "data": {
      "text/plain": [
       "105701"
      ]
     },
     "execution_count": 31,
     "metadata": {},
     "output_type": "execute_result"
    }
   ],
   "source": [
    "len(full_data_df)"
   ]
  },
  {
   "cell_type": "markdown",
   "metadata": {},
   "source": [
    "# Filtering, Cleaning, and Grouping the Data"
   ]
  },
  {
   "cell_type": "markdown",
   "metadata": {},
   "source": [
    "## Cleaning (errors)"
   ]
  },
  {
   "cell_type": "code",
   "execution_count": 6,
   "metadata": {},
   "outputs": [
    {
     "data": {
      "text/plain": [
       "no code                                                    5528\n",
       "filtered out                                                533\n",
       "nb file                                                     300\n",
       "has_author                                                  197\n",
       "api                                                          97\n",
       "has_reqtext                                                  81\n",
       "num_commits                                                  32\n",
       "output_cell_prop,image_prop                                   7\n",
       "image_prop                                                    4\n",
       "longer_beginning,longer_ending                                2\n",
       "has_export,num_functions,has_test,num_headers,has_param       1\n",
       "md_format                                                     1\n",
       "has_export,num_functions                                      1\n",
       "num_commits,has_reqtext                                       1\n",
       "Name: errors, dtype: int64"
      ]
     },
     "execution_count": 6,
     "metadata": {},
     "output_type": "execute_result"
    }
   ],
   "source": [
    "# look at the errors\n",
    "full_data_df['errors'].value_counts()"
   ]
  },
  {
   "cell_type": "markdown",
   "metadata": {},
   "source": [
    "We can filter those out with `no code`, `filtered out`, `nb file`, and `api` errors"
   ]
  },
  {
   "cell_type": "code",
   "execution_count": 8,
   "metadata": {},
   "outputs": [
    {
     "data": {
      "text/plain": [
       "136667"
      ]
     },
     "execution_count": 8,
     "metadata": {},
     "output_type": "execute_result"
    }
   ],
   "source": [
    "condition = lambda error : error not in ['no code', 'filtered out', 'nb file', 'api']\n",
    "error_filtered = full_data_df[full_data_df['errors'].map(condition)]\n",
    "\n",
    "len(error_filtered)"
   ]
  },
  {
   "cell_type": "code",
   "execution_count": 10,
   "metadata": {
    "scrolled": false
   },
   "outputs": [
    {
     "data": {
      "text/plain": [
       "has_author                                                 197\n",
       "has_reqtext                                                 81\n",
       "num_commits                                                 32\n",
       "output_cell_prop,image_prop                                  7\n",
       "image_prop                                                   4\n",
       "longer_beginning,longer_ending                               2\n",
       "has_export,num_functions,has_test,num_headers,has_param      1\n",
       "md_format                                                    1\n",
       "has_export,num_functions                                     1\n",
       "num_commits,has_reqtext                                      1\n",
       "Name: errors, dtype: int64"
      ]
     },
     "execution_count": 10,
     "metadata": {},
     "output_type": "execute_result"
    }
   ],
   "source": [
    "# look at errors again\n",
    "error_filtered['errors'].value_counts()"
   ]
  },
  {
   "cell_type": "markdown",
   "metadata": {},
   "source": [
    "We can leave those with `has_author` errors, since the author URLs alone must have been invalid. We can assign those to a value of `False` for `has_author`"
   ]
  },
  {
   "cell_type": "code",
   "execution_count": 16,
   "metadata": {},
   "outputs": [],
   "source": [
    "for nb_id in error_filtered[error_filtered['errors'] == 'has_author']['nb_id']:\n",
    "    error_filtered.loc[error_filtered['nb_id'] == nb_id, 'has_author'] = False"
   ]
  },
  {
   "cell_type": "code",
   "execution_count": 20,
   "metadata": {},
   "outputs": [
    {
     "data": {
      "text/plain": [
       "0"
      ]
     },
     "execution_count": 20,
     "metadata": {},
     "output_type": "execute_result"
    }
   ],
   "source": [
    "# check that we assigned values correctly (no more nans in has_author)\n",
    "error_filtered['has_author'].isna().sum()"
   ]
  },
  {
   "cell_type": "markdown",
   "metadata": {},
   "source": [
    "We can now get rid of the `has_author` errors"
   ]
  },
  {
   "cell_type": "code",
   "execution_count": 22,
   "metadata": {},
   "outputs": [],
   "source": [
    "for nb_id in error_filtered[error_filtered['errors'] == 'has_author']['nb_id']:\n",
    "    error_filtered.loc[error_filtered['nb_id'] == nb_id, 'errors'] = np.nan"
   ]
  },
  {
   "cell_type": "code",
   "execution_count": 24,
   "metadata": {},
   "outputs": [
    {
     "data": {
      "text/plain": [
       "has_reqtext                                                81\n",
       "num_commits                                                32\n",
       "output_cell_prop,image_prop                                 7\n",
       "image_prop                                                  4\n",
       "longer_beginning,longer_ending                              2\n",
       "has_export,num_functions,has_test,num_headers,has_param     1\n",
       "md_format                                                   1\n",
       "has_export,num_functions                                    1\n",
       "num_commits,has_reqtext                                     1\n",
       "Name: errors, dtype: int64"
      ]
     },
     "execution_count": 24,
     "metadata": {},
     "output_type": "execute_result"
    }
   ],
   "source": [
    "# check the errors again\n",
    "error_filtered['errors'].value_counts()"
   ]
  },
  {
   "cell_type": "markdown",
   "metadata": {},
   "source": [
    "Let's tackle the `has_reqtext` errors next"
   ]
  },
  {
   "cell_type": "code",
   "execution_count": 29,
   "metadata": {},
   "outputs": [
    {
     "data": {
      "text/html": [
       "<div>\n",
       "<style scoped>\n",
       "    .dataframe tbody tr th:only-of-type {\n",
       "        vertical-align: middle;\n",
       "    }\n",
       "\n",
       "    .dataframe tbody tr th {\n",
       "        vertical-align: top;\n",
       "    }\n",
       "\n",
       "    .dataframe thead th {\n",
       "        text-align: right;\n",
       "    }\n",
       "</style>\n",
       "<table border=\"1\" class=\"dataframe\">\n",
       "  <thead>\n",
       "    <tr style=\"text-align: right;\">\n",
       "      <th></th>\n",
       "      <th>nb_id</th>\n",
       "      <th>has_reqtext</th>\n",
       "    </tr>\n",
       "  </thead>\n",
       "  <tbody>\n",
       "    <tr>\n",
       "      <th>2095</th>\n",
       "      <td>2223</td>\n",
       "      <td>NaN</td>\n",
       "    </tr>\n",
       "    <tr>\n",
       "      <th>11650</th>\n",
       "      <td>12256</td>\n",
       "      <td>NaN</td>\n",
       "    </tr>\n",
       "    <tr>\n",
       "      <th>15039</th>\n",
       "      <td>15821</td>\n",
       "      <td>NaN</td>\n",
       "    </tr>\n",
       "    <tr>\n",
       "      <th>17464</th>\n",
       "      <td>18541</td>\n",
       "      <td>NaN</td>\n",
       "    </tr>\n",
       "    <tr>\n",
       "      <th>22263</th>\n",
       "      <td>23601</td>\n",
       "      <td>NaN</td>\n",
       "    </tr>\n",
       "  </tbody>\n",
       "</table>\n",
       "</div>"
      ],
      "text/plain": [
       "       nb_id has_reqtext\n",
       "2095    2223         NaN\n",
       "11650  12256         NaN\n",
       "15039  15821         NaN\n",
       "17464  18541         NaN\n",
       "22263  23601         NaN"
      ]
     },
     "execution_count": 29,
     "metadata": {},
     "output_type": "execute_result"
    }
   ],
   "source": [
    "error_filtered[error_filtered['errors'] == 'has_reqtext'][['nb_id', 'has_reqtext']].head()"
   ]
  },
  {
   "cell_type": "markdown",
   "metadata": {},
   "source": [
    "Looking into these errors, it seems that the path was assigned incorrectly in the `notebooks.csv`, so we re-do the process of finding notebook path and running `has_requirements` for these notebooks."
   ]
  },
  {
   "cell_type": "markdown",
   "metadata": {},
   "source": [
    "Next, the `num_commits` errors"
   ]
  },
  {
   "cell_type": "code",
   "execution_count": 31,
   "metadata": {},
   "outputs": [
    {
     "data": {
      "text/html": [
       "<div>\n",
       "<style scoped>\n",
       "    .dataframe tbody tr th:only-of-type {\n",
       "        vertical-align: middle;\n",
       "    }\n",
       "\n",
       "    .dataframe tbody tr th {\n",
       "        vertical-align: top;\n",
       "    }\n",
       "\n",
       "    .dataframe thead th {\n",
       "        text-align: right;\n",
       "    }\n",
       "</style>\n",
       "<table border=\"1\" class=\"dataframe\">\n",
       "  <thead>\n",
       "    <tr style=\"text-align: right;\">\n",
       "      <th></th>\n",
       "      <th>nb_id</th>\n",
       "      <th>num_commits</th>\n",
       "    </tr>\n",
       "  </thead>\n",
       "  <tbody>\n",
       "    <tr>\n",
       "      <th>5005</th>\n",
       "      <td>5260</td>\n",
       "      <td>NaN</td>\n",
       "    </tr>\n",
       "    <tr>\n",
       "      <th>5225</th>\n",
       "      <td>5495</td>\n",
       "      <td>NaN</td>\n",
       "    </tr>\n",
       "    <tr>\n",
       "      <th>11420</th>\n",
       "      <td>12011</td>\n",
       "      <td>NaN</td>\n",
       "    </tr>\n",
       "    <tr>\n",
       "      <th>11454</th>\n",
       "      <td>12047</td>\n",
       "      <td>NaN</td>\n",
       "    </tr>\n",
       "    <tr>\n",
       "      <th>41942</th>\n",
       "      <td>44300</td>\n",
       "      <td>NaN</td>\n",
       "    </tr>\n",
       "  </tbody>\n",
       "</table>\n",
       "</div>"
      ],
      "text/plain": [
       "       nb_id  num_commits\n",
       "5005    5260          NaN\n",
       "5225    5495          NaN\n",
       "11420  12011          NaN\n",
       "11454  12047          NaN\n",
       "41942  44300          NaN"
      ]
     },
     "execution_count": 31,
     "metadata": {},
     "output_type": "execute_result"
    }
   ],
   "source": [
    "error_filtered[error_filtered['errors'] == 'num_commits'][['nb_id', 'num_commits']].head()"
   ]
  },
  {
   "cell_type": "markdown",
   "metadata": {},
   "source": [
    "Looking into these errors, it seems that the `%` characters in the notebook are not being escaped when the notebook paths are put into the URL, so we can re-do running the script on these notebooks and make sure to escape this character properly"
   ]
  },
  {
   "cell_type": "markdown",
   "metadata": {},
   "source": [
    "The rest of the errors have less than 10 notebooks associated with them, so we can handle those individually"
   ]
  },
  {
   "cell_type": "markdown",
   "metadata": {},
   "source": [
    "## Filtering"
   ]
  },
  {
   "cell_type": "code",
   "execution_count": 32,
   "metadata": {},
   "outputs": [],
   "source": [
    "filtered = error_filtered.copy()"
   ]
  },
  {
   "cell_type": "markdown",
   "metadata": {},
   "source": [
    "For now, let's filter out those that still have errors, as those will get resolved later"
   ]
  },
  {
   "cell_type": "code",
   "execution_count": 40,
   "metadata": {},
   "outputs": [
    {
     "data": {
      "text/plain": [
       "Series([], Name: errors, dtype: int64)"
      ]
     },
     "execution_count": 40,
     "metadata": {},
     "output_type": "execute_result"
    }
   ],
   "source": [
    "filtered = filtered[filtered['errors'].isnull()]\n",
    "filtered['errors'].value_counts()"
   ]
  },
  {
   "cell_type": "code",
   "execution_count": 41,
   "metadata": {},
   "outputs": [],
   "source": [
    "# we can now drop the errors column\n",
    "filtered = filtered.drop(['errors'], axis = 1)"
   ]
  },
  {
   "cell_type": "markdown",
   "metadata": {},
   "source": [
    "Next, we must filter down to just English and `python` notebooks"
   ]
  },
  {
   "cell_type": "code",
   "execution_count": 44,
   "metadata": {
    "scrolled": false
   },
   "outputs": [
    {
     "data": {
      "text/plain": [
       "python                                                    126025\n",
       "python3                                                     6774\n",
       "julia                                                        985\n",
       "R                                                            922\n",
       "python2                                                      181\n",
       "                                                           ...  \n",
       "markdown                                                       1\n",
       "python37564bitsidconda1d45427122d043f58fabe1fddaa2b008         1\n",
       "python37764bitaa037e6b9ce0482a97f7f2f266a78e54                 1\n",
       "lisp                                                           1\n",
       "mathematica                                                    1\n",
       "Name: language, Length: 71, dtype: int64"
      ]
     },
     "execution_count": 44,
     "metadata": {},
     "output_type": "execute_result"
    }
   ],
   "source": [
    "# look at the languages\n",
    "filtered['language'].value_counts()"
   ]
  },
  {
   "cell_type": "code",
   "execution_count": 47,
   "metadata": {},
   "outputs": [
    {
     "data": {
      "text/plain": [
       "133071"
      ]
     },
     "execution_count": 47,
     "metadata": {},
     "output_type": "execute_result"
    }
   ],
   "source": [
    "# drop the notebooks with 'nan' in the language column\n",
    "filtered = filtered.dropna(subset = ['language'])\n",
    "\n",
    "# filter down to those with python\n",
    "filtered = filtered[filtered['language'].str.contains(\"python\")]\n",
    "len(filtered)"
   ]
  },
  {
   "cell_type": "code",
   "execution_count": 48,
   "metadata": {
    "scrolled": true
   },
   "outputs": [
    {
     "data": {
      "text/plain": [
       "python                                                              126025\n",
       "python3                                                               6774\n",
       "python2                                                                181\n",
       "micropython                                                             65\n",
       "python37164bitbasecondad2822a14379545b6ad8221fdb28a47f5                  5\n",
       "python37664bite5e01d20666b4ea39b669a865bfedc91                           3\n",
       "python37664bit63fb4f53efb44350a8fe54ef578d532a                           2\n",
       "python37464bit2210ce78c9014828b7442ce7d2fdf2c3                           2\n",
       "python37132bitsimplificandocondad4a025f5665f45f198698144d61138fc         2\n",
       "python36964bit159e511b6454490fab42e7c387ca06d9                           2\n",
       "python37464bitbaseconda688895a7bc4d4baeb81185c00bfb955a                  1\n",
       "python3.5                                                                1\n",
       "python2.7                                                                1\n",
       "python36064bittfbaseconda3d523c105529487eac4d678fdf237542                1\n",
       "python37664bitadd2d29322fc4c69b2fa8d1ba2d3991d                           1\n",
       "python3_mydev                                                            1\n",
       "python38264bitee8223ec65594bc885f48f30722f6205                           1\n",
       "python37564bitsidconda1d45427122d043f58fabe1fddaa2b008                   1\n",
       "python37764bitaa037e6b9ce0482a97f7f2f266a78e54                           1\n",
       "python38264bitff2e5779a88248cfb107ead9076957e0                           1\n",
       "Name: language, dtype: int64"
      ]
     },
     "execution_count": 48,
     "metadata": {},
     "output_type": "execute_result"
    }
   ],
   "source": [
    "# check new value counts\n",
    "filtered['language'].value_counts()"
   ]
  },
  {
   "cell_type": "code",
   "execution_count": 49,
   "metadata": {},
   "outputs": [],
   "source": [
    "# we can now drop the language column\n",
    "filtered = filtered.drop(['language'], axis = 1)"
   ]
  },
  {
   "cell_type": "code",
   "execution_count": 50,
   "metadata": {},
   "outputs": [
    {
     "data": {
      "text/plain": [
       "English                    79938\n",
       "Korean                      2257\n",
       "Spanish                     1479\n",
       "Russian                     1404\n",
       "Portuguese                  1362\n",
       "French                      1012\n",
       "Welsh                        867\n",
       "Japanese                     825\n",
       "Catalan                      770\n",
       "Norwegian                    765\n",
       "Italian                      649\n",
       "German                       550\n",
       "Vietnamese                   521\n",
       "Polish                       456\n",
       "Romanian                     299\n",
       "Estonian                     254\n",
       "Indonesian                   231\n",
       "Tagalog                      179\n",
       "Danish                       148\n",
       "Turkish                      145\n",
       "Dutch                        119\n",
       "Croatian                     117\n",
       "Afrikaans                    106\n",
       "Swedish                       65\n",
       "Somali                        54\n",
       "Bulgarian                     50\n",
       "Czech                         45\n",
       "Hungarian                     44\n",
       "Finnish                       38\n",
       "Modern Greek (1453-)          34\n",
       "Thai                          29\n",
       "Slovak                        29\n",
       "Slovenian                     25\n",
       "Albanian                      23\n",
       "Lithuanian                    21\n",
       "Ukrainian                     17\n",
       "Latvian                       16\n",
       "Swahili (macrolanguage)       15\n",
       "Arabic                         6\n",
       "Persian                        5\n",
       "Macedonian                     2\n",
       "Hindi                          2\n",
       "Bengali                        1\n",
       "Name: speaking_language, dtype: int64"
      ]
     },
     "execution_count": 50,
     "metadata": {},
     "output_type": "execute_result"
    }
   ],
   "source": [
    "# look at the speaking languages\n",
    "filtered['speaking_language'].value_counts()"
   ]
  },
  {
   "cell_type": "code",
   "execution_count": 53,
   "metadata": {},
   "outputs": [
    {
     "data": {
      "text/plain": [
       "115821"
      ]
     },
     "execution_count": 53,
     "metadata": {},
     "output_type": "execute_result"
    }
   ],
   "source": [
    "# filter down to only english notebooks and notebooks with no markdown cells\n",
    "filtered = filtered[(filtered['speaking_language'] == 'English') |\n",
    "                   (filtered['markdown_prop'] == 0)]\n",
    "len(filtered)"
   ]
  },
  {
   "cell_type": "code",
   "execution_count": 52,
   "metadata": {
    "scrolled": true
   },
   "outputs": [
    {
     "data": {
      "text/plain": [
       "English    79938\n",
       "Name: speaking_language, dtype: int64"
      ]
     },
     "execution_count": 52,
     "metadata": {},
     "output_type": "execute_result"
    }
   ],
   "source": [
    "# check the speaking languages again\n",
    "filtered['speaking_language'].value_counts()"
   ]
  },
  {
   "cell_type": "code",
   "execution_count": 54,
   "metadata": {},
   "outputs": [],
   "source": [
    "# we now no longer need the speaking language column\n",
    "filtered = filtered.drop(['speaking_language'], axis = 1)"
   ]
  },
  {
   "cell_type": "markdown",
   "metadata": {},
   "source": [
    "## Cleaning and Adjusting (nan values)"
   ]
  },
  {
   "cell_type": "code",
   "execution_count": 56,
   "metadata": {},
   "outputs": [],
   "source": [
    "adjusted = filtered.copy()"
   ]
  },
  {
   "cell_type": "code",
   "execution_count": 57,
   "metadata": {
    "scrolled": true
   },
   "outputs": [
    {
     "name": "stdout",
     "output_type": "stream",
     "text": [
      "nb_id : False\n",
      "repo_id : False\n",
      "longer_beginning : True\n",
      "longer_ending : True\n",
      "has_author : False\n",
      "has_equation : True\n",
      "jupyter_prop : True\n",
      "output_cell_prop : False\n",
      "markdown_prop : False\n",
      "num_contrib : False\n",
      "image_prop : True\n",
      "is_education : False\n",
      "has_links : True\n",
      "has_comments : False\n",
      "md_frequency : True\n",
      "has_title : False\n",
      "num_commits : False\n",
      "md_format : True\n",
      "non_exec_prop : False\n",
      "exec_inorder : True\n",
      "exec_skips : True\n",
      "has_error : False\n",
      "has_export : False\n",
      "num_functions : False\n",
      "has_test : False\n",
      "num_headers : False\n",
      "has_param : False\n",
      "has_reqtext : False\n",
      "num_stars : False\n"
     ]
    }
   ],
   "source": [
    "# check each column for NaN\n",
    "for column in list(adjusted):\n",
    "    hasNaN = adjusted[column].isnull().values.any()\n",
    "    print(column + \" : \" + str(hasNaN))"
   ]
  },
  {
   "cell_type": "markdown",
   "metadata": {},
   "source": [
    "For the features associated with markdown cells, it is fine to have `NaN` values; we will separate the data into groups accordingly in a later section.\n",
    "- `longer_beginning`\n",
    "- `longer_ending`\n",
    "- `has_equation`\n",
    "- `has_links`\n",
    "- `md_frequency`\n",
    "- `md_format`"
   ]
  },
  {
   "cell_type": "markdown",
   "metadata": {},
   "source": [
    "Let us look at the `jupyter_prop` nan values"
   ]
  },
  {
   "cell_type": "code",
   "execution_count": 61,
   "metadata": {
    "scrolled": false
   },
   "outputs": [
    {
     "data": {
      "text/plain": [
       "23"
      ]
     },
     "execution_count": 61,
     "metadata": {},
     "output_type": "execute_result"
    }
   ],
   "source": [
    "len(adjusted[pd.isnull(adjusted['jupyter_prop'])])"
   ]
  },
  {
   "cell_type": "code",
   "execution_count": 62,
   "metadata": {
    "scrolled": true
   },
   "outputs": [
    {
     "data": {
      "text/html": [
       "<div>\n",
       "<style scoped>\n",
       "    .dataframe tbody tr th:only-of-type {\n",
       "        vertical-align: middle;\n",
       "    }\n",
       "\n",
       "    .dataframe tbody tr th {\n",
       "        vertical-align: top;\n",
       "    }\n",
       "\n",
       "    .dataframe thead th {\n",
       "        text-align: right;\n",
       "    }\n",
       "</style>\n",
       "<table border=\"1\" class=\"dataframe\">\n",
       "  <thead>\n",
       "    <tr style=\"text-align: right;\">\n",
       "      <th></th>\n",
       "      <th>nb_id</th>\n",
       "      <th>repo_id</th>\n",
       "      <th>longer_beginning</th>\n",
       "      <th>longer_ending</th>\n",
       "      <th>has_author</th>\n",
       "      <th>has_equation</th>\n",
       "      <th>jupyter_prop</th>\n",
       "      <th>output_cell_prop</th>\n",
       "      <th>markdown_prop</th>\n",
       "      <th>num_contrib</th>\n",
       "      <th>...</th>\n",
       "      <th>exec_inorder</th>\n",
       "      <th>exec_skips</th>\n",
       "      <th>has_error</th>\n",
       "      <th>has_export</th>\n",
       "      <th>num_functions</th>\n",
       "      <th>has_test</th>\n",
       "      <th>num_headers</th>\n",
       "      <th>has_param</th>\n",
       "      <th>has_reqtext</th>\n",
       "      <th>num_stars</th>\n",
       "    </tr>\n",
       "  </thead>\n",
       "  <tbody>\n",
       "    <tr>\n",
       "      <th>48689</th>\n",
       "      <td>51490</td>\n",
       "      <td>168097544</td>\n",
       "      <td>False</td>\n",
       "      <td>False</td>\n",
       "      <td>False</td>\n",
       "      <td>False</td>\n",
       "      <td>NaN</td>\n",
       "      <td>0.000000</td>\n",
       "      <td>0.166667</td>\n",
       "      <td>1.0</td>\n",
       "      <td>...</td>\n",
       "      <td>NaN</td>\n",
       "      <td>NaN</td>\n",
       "      <td>False</td>\n",
       "      <td>True</td>\n",
       "      <td>0.0</td>\n",
       "      <td>False</td>\n",
       "      <td>4.0</td>\n",
       "      <td>False</td>\n",
       "      <td>False</td>\n",
       "      <td>0.0</td>\n",
       "    </tr>\n",
       "    <tr>\n",
       "      <th>57507</th>\n",
       "      <td>60734</td>\n",
       "      <td>168518417</td>\n",
       "      <td>False</td>\n",
       "      <td>False</td>\n",
       "      <td>False</td>\n",
       "      <td>False</td>\n",
       "      <td>NaN</td>\n",
       "      <td>0.636364</td>\n",
       "      <td>0.352941</td>\n",
       "      <td>7.0</td>\n",
       "      <td>...</td>\n",
       "      <td>1.000000</td>\n",
       "      <td>1.380952</td>\n",
       "      <td>False</td>\n",
       "      <td>False</td>\n",
       "      <td>0.0</td>\n",
       "      <td>False</td>\n",
       "      <td>6.0</td>\n",
       "      <td>False</td>\n",
       "      <td>False</td>\n",
       "      <td>18.0</td>\n",
       "    </tr>\n",
       "    <tr>\n",
       "      <th>57508</th>\n",
       "      <td>60735</td>\n",
       "      <td>168518417</td>\n",
       "      <td>False</td>\n",
       "      <td>False</td>\n",
       "      <td>False</td>\n",
       "      <td>False</td>\n",
       "      <td>NaN</td>\n",
       "      <td>0.600000</td>\n",
       "      <td>0.347826</td>\n",
       "      <td>7.0</td>\n",
       "      <td>...</td>\n",
       "      <td>1.000000</td>\n",
       "      <td>1.000000</td>\n",
       "      <td>False</td>\n",
       "      <td>False</td>\n",
       "      <td>0.0</td>\n",
       "      <td>False</td>\n",
       "      <td>5.0</td>\n",
       "      <td>False</td>\n",
       "      <td>False</td>\n",
       "      <td>18.0</td>\n",
       "    </tr>\n",
       "    <tr>\n",
       "      <th>57510</th>\n",
       "      <td>60737</td>\n",
       "      <td>168518417</td>\n",
       "      <td>False</td>\n",
       "      <td>False</td>\n",
       "      <td>False</td>\n",
       "      <td>False</td>\n",
       "      <td>NaN</td>\n",
       "      <td>0.888889</td>\n",
       "      <td>0.250000</td>\n",
       "      <td>7.0</td>\n",
       "      <td>...</td>\n",
       "      <td>0.857143</td>\n",
       "      <td>12.714286</td>\n",
       "      <td>False</td>\n",
       "      <td>False</td>\n",
       "      <td>0.0</td>\n",
       "      <td>False</td>\n",
       "      <td>0.0</td>\n",
       "      <td>False</td>\n",
       "      <td>False</td>\n",
       "      <td>18.0</td>\n",
       "    </tr>\n",
       "    <tr>\n",
       "      <th>57511</th>\n",
       "      <td>60738</td>\n",
       "      <td>168518417</td>\n",
       "      <td>False</td>\n",
       "      <td>False</td>\n",
       "      <td>False</td>\n",
       "      <td>False</td>\n",
       "      <td>NaN</td>\n",
       "      <td>0.529412</td>\n",
       "      <td>0.413793</td>\n",
       "      <td>7.0</td>\n",
       "      <td>...</td>\n",
       "      <td>1.000000</td>\n",
       "      <td>1.333333</td>\n",
       "      <td>False</td>\n",
       "      <td>False</td>\n",
       "      <td>0.0</td>\n",
       "      <td>False</td>\n",
       "      <td>6.0</td>\n",
       "      <td>False</td>\n",
       "      <td>False</td>\n",
       "      <td>18.0</td>\n",
       "    </tr>\n",
       "  </tbody>\n",
       "</table>\n",
       "<p>5 rows × 29 columns</p>\n",
       "</div>"
      ],
      "text/plain": [
       "       nb_id    repo_id longer_beginning longer_ending has_author  \\\n",
       "48689  51490  168097544            False         False      False   \n",
       "57507  60734  168518417            False         False      False   \n",
       "57508  60735  168518417            False         False      False   \n",
       "57510  60737  168518417            False         False      False   \n",
       "57511  60738  168518417            False         False      False   \n",
       "\n",
       "      has_equation  jupyter_prop  output_cell_prop  markdown_prop  \\\n",
       "48689        False           NaN          0.000000       0.166667   \n",
       "57507        False           NaN          0.636364       0.352941   \n",
       "57508        False           NaN          0.600000       0.347826   \n",
       "57510        False           NaN          0.888889       0.250000   \n",
       "57511        False           NaN          0.529412       0.413793   \n",
       "\n",
       "       num_contrib  ...  exec_inorder exec_skips has_error has_export  \\\n",
       "48689          1.0  ...           NaN        NaN     False       True   \n",
       "57507          7.0  ...      1.000000   1.380952     False      False   \n",
       "57508          7.0  ...      1.000000   1.000000     False      False   \n",
       "57510          7.0  ...      0.857143  12.714286     False      False   \n",
       "57511          7.0  ...      1.000000   1.333333     False      False   \n",
       "\n",
       "       num_functions has_test  num_headers has_param  has_reqtext  num_stars  \n",
       "48689            0.0    False          4.0     False        False        0.0  \n",
       "57507            0.0    False          6.0     False        False       18.0  \n",
       "57508            0.0    False          5.0     False        False       18.0  \n",
       "57510            0.0    False          0.0     False        False       18.0  \n",
       "57511            0.0    False          6.0     False        False       18.0  \n",
       "\n",
       "[5 rows x 29 columns]"
      ]
     },
     "execution_count": 62,
     "metadata": {},
     "output_type": "execute_result"
    }
   ],
   "source": [
    "adjusted[pd.isnull(adjusted['jupyter_prop'])].head()"
   ]
  },
  {
   "cell_type": "markdown",
   "metadata": {},
   "source": [
    "These are notebooks of repositories for which `Jupyter Notebook` was left out in the language data, so we can filter these out"
   ]
  },
  {
   "cell_type": "code",
   "execution_count": 64,
   "metadata": {},
   "outputs": [
    {
     "data": {
      "text/plain": [
       "115798"
      ]
     },
     "execution_count": 64,
     "metadata": {},
     "output_type": "execute_result"
    }
   ],
   "source": [
    "jupyter_nans = adjusted[pd.isnull(adjusted['jupyter_prop'])].index\n",
    "adjusted = adjusted.drop(jupyter_nans, inplace = False)\n",
    "len(adjusted)"
   ]
  },
  {
   "cell_type": "code",
   "execution_count": 66,
   "metadata": {},
   "outputs": [
    {
     "name": "stdout",
     "output_type": "stream",
     "text": [
      "nb_id : False\n",
      "repo_id : False\n",
      "longer_beginning : True\n",
      "longer_ending : True\n",
      "has_author : False\n",
      "has_equation : True\n",
      "jupyter_prop : False\n",
      "output_cell_prop : False\n",
      "markdown_prop : False\n",
      "num_contrib : False\n",
      "image_prop : True\n",
      "is_education : False\n",
      "has_links : True\n",
      "has_comments : False\n",
      "md_frequency : True\n",
      "has_title : False\n",
      "num_commits : False\n",
      "md_format : True\n",
      "non_exec_prop : False\n",
      "exec_inorder : True\n",
      "exec_skips : True\n",
      "has_error : False\n",
      "has_export : False\n",
      "num_functions : False\n",
      "has_test : False\n",
      "num_headers : False\n",
      "has_param : False\n",
      "has_reqtext : False\n",
      "num_stars : False\n"
     ]
    }
   ],
   "source": [
    "# check nans again\n",
    "for column in list(adjusted):\n",
    "    hasNaN = adjusted[column].isnull().values.any()\n",
    "    print(column + \" : \" + str(hasNaN))"
   ]
  },
  {
   "cell_type": "markdown",
   "metadata": {},
   "source": [
    "Similar to how we did so on the last dataset, we can adjust values of the `image_prop`, `exec_inorder`, and `exec_skips` columns"
   ]
  },
  {
   "cell_type": "code",
   "execution_count": 67,
   "metadata": {},
   "outputs": [],
   "source": [
    "# change NaN in image_prop to 0\n",
    "adjusted['image_prop'] = adjusted['image_prop'].fillna(0)"
   ]
  },
  {
   "cell_type": "code",
   "execution_count": 68,
   "metadata": {},
   "outputs": [],
   "source": [
    "# change NaN in exec_inorder to 1\n",
    "adjusted['exec_inorder'] = adjusted['exec_inorder'].fillna(1)\n",
    "\n",
    "# change NaN in exec_skips to 0\n",
    "adjusted['exec_skips'] = adjusted['exec_skips'].fillna(0)"
   ]
  },
  {
   "cell_type": "code",
   "execution_count": 69,
   "metadata": {
    "scrolled": true
   },
   "outputs": [
    {
     "name": "stdout",
     "output_type": "stream",
     "text": [
      "nb_id : False\n",
      "repo_id : False\n",
      "longer_beginning : True\n",
      "longer_ending : True\n",
      "has_author : False\n",
      "has_equation : True\n",
      "jupyter_prop : False\n",
      "output_cell_prop : False\n",
      "markdown_prop : False\n",
      "num_contrib : False\n",
      "image_prop : False\n",
      "is_education : False\n",
      "has_links : True\n",
      "has_comments : False\n",
      "md_frequency : True\n",
      "has_title : False\n",
      "num_commits : False\n",
      "md_format : True\n",
      "non_exec_prop : False\n",
      "exec_inorder : False\n",
      "exec_skips : False\n",
      "has_error : False\n",
      "has_export : False\n",
      "num_functions : False\n",
      "has_test : False\n",
      "num_headers : False\n",
      "has_param : False\n",
      "has_reqtext : False\n",
      "num_stars : False\n"
     ]
    }
   ],
   "source": [
    "# check nans again\n",
    "for column in list(adjusted):\n",
    "    hasNaN = adjusted[column].isnull().values.any()\n",
    "    print(column + \" : \" + str(hasNaN))"
   ]
  },
  {
   "cell_type": "markdown",
   "metadata": {},
   "source": [
    "## Grouping"
   ]
  },
  {
   "cell_type": "code",
   "execution_count": 70,
   "metadata": {},
   "outputs": [],
   "source": [
    "# separate into markdown cell group and non-markdown cell group\n",
    "md_group = adjusted[adjusted['markdown_prop'] > 0].copy()\n",
    "no_md_group = adjusted[adjusted['markdown_prop'] == 0].copy()"
   ]
  },
  {
   "cell_type": "code",
   "execution_count": 71,
   "metadata": {
    "scrolled": false
   },
   "outputs": [
    {
     "data": {
      "text/plain": [
       "115798"
      ]
     },
     "execution_count": 71,
     "metadata": {},
     "output_type": "execute_result"
    }
   ],
   "source": [
    "len(md_group) + len(no_md_group)"
   ]
  },
  {
   "cell_type": "code",
   "execution_count": 78,
   "metadata": {},
   "outputs": [],
   "source": [
    "# drop unnecessary columns from the no markdown cell group\n",
    "no_md_group = no_md_group.drop(['longer_beginning', 'longer_ending', 'has_equation', 'markdown_prop', 'has_links',\n",
    "                                        'md_frequency', 'md_format', 'has_title', 'num_headers'], axis = 1)"
   ]
  },
  {
   "cell_type": "code",
   "execution_count": 79,
   "metadata": {},
   "outputs": [
    {
     "name": "stdout",
     "output_type": "stream",
     "text": [
      "nb_id : False\n",
      "repo_id : False\n",
      "longer_beginning : True\n",
      "longer_ending : True\n",
      "has_author : False\n",
      "has_equation : False\n",
      "jupyter_prop : False\n",
      "output_cell_prop : False\n",
      "markdown_prop : False\n",
      "num_contrib : False\n",
      "image_prop : False\n",
      "is_education : False\n",
      "has_links : False\n",
      "has_comments : False\n",
      "md_frequency : False\n",
      "has_title : False\n",
      "num_commits : False\n",
      "md_format : False\n",
      "non_exec_prop : False\n",
      "exec_inorder : False\n",
      "exec_skips : False\n",
      "has_error : False\n",
      "has_export : False\n",
      "num_functions : False\n",
      "has_test : False\n",
      "num_headers : False\n",
      "has_param : False\n",
      "has_reqtext : False\n",
      "num_stars : False\n"
     ]
    }
   ],
   "source": [
    "# check both groups for nans\n",
    "for column in list(md_group):\n",
    "    hasNaN = md_group[column].isnull().values.any()\n",
    "    print(column + \" : \" + str(hasNaN))"
   ]
  },
  {
   "cell_type": "code",
   "execution_count": 80,
   "metadata": {
    "scrolled": true
   },
   "outputs": [
    {
     "name": "stdout",
     "output_type": "stream",
     "text": [
      "10097\n",
      "10097\n"
     ]
    }
   ],
   "source": [
    "# check out longer_beginning and longer_ending nans\n",
    "print(len(md_group[pd.isnull(md_group['longer_beginning'])]))\n",
    "print(len(md_group[pd.isnull(md_group['longer_ending'])]))"
   ]
  },
  {
   "cell_type": "code",
   "execution_count": 81,
   "metadata": {},
   "outputs": [],
   "source": [
    "md_group = md_group.dropna(subset = ['longer_beginning', 'longer_ending'])"
   ]
  },
  {
   "cell_type": "code",
   "execution_count": 83,
   "metadata": {
    "scrolled": true
   },
   "outputs": [
    {
     "data": {
      "text/plain": [
       "105701"
      ]
     },
     "execution_count": 83,
     "metadata": {},
     "output_type": "execute_result"
    }
   ],
   "source": [
    "len(md_group) + len(no_md_group)"
   ]
  },
  {
   "cell_type": "code",
   "execution_count": 89,
   "metadata": {
    "scrolled": true
   },
   "outputs": [
    {
     "name": "stdout",
     "output_type": "stream",
     "text": [
      "nb_id : False\n",
      "repo_id : False\n",
      "longer_beginning : False\n",
      "longer_ending : False\n",
      "has_author : False\n",
      "has_equation : False\n",
      "jupyter_prop : False\n",
      "output_cell_prop : False\n",
      "markdown_prop : False\n",
      "num_contrib : False\n",
      "image_prop : False\n",
      "is_education : False\n",
      "has_links : False\n",
      "has_comments : False\n",
      "md_frequency : False\n",
      "has_title : False\n",
      "num_commits : False\n",
      "md_format : False\n",
      "non_exec_prop : False\n",
      "exec_inorder : False\n",
      "exec_skips : False\n",
      "has_error : False\n",
      "has_export : False\n",
      "num_functions : False\n",
      "has_test : False\n",
      "num_headers : False\n",
      "has_param : False\n",
      "has_reqtext : False\n",
      "num_stars : False\n"
     ]
    }
   ],
   "source": [
    "# check both groups for nans\n",
    "for column in list(md_group):\n",
    "    hasNaN = md_group[column].isnull().values.any()\n",
    "    print(column + \" : \" + str(hasNaN))"
   ]
  },
  {
   "cell_type": "code",
   "execution_count": 90,
   "metadata": {},
   "outputs": [
    {
     "name": "stdout",
     "output_type": "stream",
     "text": [
      "nb_id : False\n",
      "repo_id : False\n",
      "has_author : False\n",
      "jupyter_prop : False\n",
      "output_cell_prop : False\n",
      "num_contrib : False\n",
      "image_prop : False\n",
      "is_education : False\n",
      "has_comments : False\n",
      "num_commits : False\n",
      "non_exec_prop : False\n",
      "exec_inorder : False\n",
      "exec_skips : False\n",
      "has_error : False\n",
      "has_export : False\n",
      "num_functions : False\n",
      "has_test : False\n",
      "has_param : False\n",
      "has_reqtext : False\n",
      "num_stars : False\n"
     ]
    }
   ],
   "source": [
    "for column in list(no_md_group):\n",
    "    hasNaN = no_md_group[column].isnull().values.any()\n",
    "    print(column + \" : \" + str(hasNaN))"
   ]
  },
  {
   "cell_type": "markdown",
   "metadata": {},
   "source": [
    "We can export these cleaned and adjusted groups for quick retrieval later on."
   ]
  },
  {
   "cell_type": "code",
   "execution_count": 84,
   "metadata": {},
   "outputs": [],
   "source": [
    "md_group.to_pickle('full_markdown_group.pkl')\n",
    "no_md_group.to_pickle('full_no_markdown_group.pkl')"
   ]
  },
  {
   "cell_type": "markdown",
   "metadata": {},
   "source": [
    "# Analysis"
   ]
  },
  {
   "cell_type": "markdown",
   "metadata": {},
   "source": [
    "## Loading Github 2017 Data"
   ]
  },
  {
   "cell_type": "code",
   "execution_count": 75,
   "metadata": {},
   "outputs": [],
   "source": [
    "md_group_2017 = pd.read_csv('../output/complete-runs/analysis/markdown_group.csv')\n",
    "no_md_group_2017 = pd.read_csv('../output/complete-runs/analysis/no_markdown_group.csv')"
   ]
  },
  {
   "cell_type": "code",
   "execution_count": 76,
   "metadata": {},
   "outputs": [
    {
     "data": {
      "text/html": [
       "<div>\n",
       "<style scoped>\n",
       "    .dataframe tbody tr th:only-of-type {\n",
       "        vertical-align: middle;\n",
       "    }\n",
       "\n",
       "    .dataframe tbody tr th {\n",
       "        vertical-align: top;\n",
       "    }\n",
       "\n",
       "    .dataframe thead th {\n",
       "        text-align: right;\n",
       "    }\n",
       "</style>\n",
       "<table border=\"1\" class=\"dataframe\">\n",
       "  <thead>\n",
       "    <tr style=\"text-align: right;\">\n",
       "      <th></th>\n",
       "      <th>Unnamed: 0</th>\n",
       "      <th>nb_id</th>\n",
       "      <th>longer_beginning</th>\n",
       "      <th>longer_ending</th>\n",
       "      <th>has_author</th>\n",
       "      <th>has_equation</th>\n",
       "      <th>jupyter_prop</th>\n",
       "      <th>output_cell_prop</th>\n",
       "      <th>markdown_prop</th>\n",
       "      <th>num_contrib</th>\n",
       "      <th>...</th>\n",
       "      <th>non_exec_prop</th>\n",
       "      <th>exec_inorder</th>\n",
       "      <th>exec_skips</th>\n",
       "      <th>has_error</th>\n",
       "      <th>has_export</th>\n",
       "      <th>num_functions</th>\n",
       "      <th>has_test</th>\n",
       "      <th>num_headers</th>\n",
       "      <th>has_param</th>\n",
       "      <th>num_stars</th>\n",
       "    </tr>\n",
       "  </thead>\n",
       "  <tbody>\n",
       "    <tr>\n",
       "      <th>0</th>\n",
       "      <td>3</td>\n",
       "      <td>594</td>\n",
       "      <td>True</td>\n",
       "      <td>False</td>\n",
       "      <td>False</td>\n",
       "      <td>False</td>\n",
       "      <td>0.507588</td>\n",
       "      <td>1.000000</td>\n",
       "      <td>0.044444</td>\n",
       "      <td>3.0</td>\n",
       "      <td>...</td>\n",
       "      <td>0.000000</td>\n",
       "      <td>1.000000</td>\n",
       "      <td>1.809524</td>\n",
       "      <td>False</td>\n",
       "      <td>False</td>\n",
       "      <td>0.0</td>\n",
       "      <td>False</td>\n",
       "      <td>7.0</td>\n",
       "      <td>False</td>\n",
       "      <td>10.0</td>\n",
       "    </tr>\n",
       "    <tr>\n",
       "      <th>1</th>\n",
       "      <td>6</td>\n",
       "      <td>1222</td>\n",
       "      <td>True</td>\n",
       "      <td>False</td>\n",
       "      <td>False</td>\n",
       "      <td>False</td>\n",
       "      <td>1.000000</td>\n",
       "      <td>0.000000</td>\n",
       "      <td>0.161290</td>\n",
       "      <td>1.0</td>\n",
       "      <td>...</td>\n",
       "      <td>0.961538</td>\n",
       "      <td>1.000000</td>\n",
       "      <td>0.000000</td>\n",
       "      <td>False</td>\n",
       "      <td>False</td>\n",
       "      <td>0.0</td>\n",
       "      <td>False</td>\n",
       "      <td>5.0</td>\n",
       "      <td>False</td>\n",
       "      <td>0.0</td>\n",
       "    </tr>\n",
       "    <tr>\n",
       "      <th>2</th>\n",
       "      <td>7</td>\n",
       "      <td>1447</td>\n",
       "      <td>True</td>\n",
       "      <td>False</td>\n",
       "      <td>False</td>\n",
       "      <td>False</td>\n",
       "      <td>0.970851</td>\n",
       "      <td>0.011364</td>\n",
       "      <td>0.375887</td>\n",
       "      <td>1.0</td>\n",
       "      <td>...</td>\n",
       "      <td>0.988636</td>\n",
       "      <td>1.000000</td>\n",
       "      <td>0.000000</td>\n",
       "      <td>False</td>\n",
       "      <td>True</td>\n",
       "      <td>15.0</td>\n",
       "      <td>False</td>\n",
       "      <td>30.0</td>\n",
       "      <td>False</td>\n",
       "      <td>0.0</td>\n",
       "    </tr>\n",
       "    <tr>\n",
       "      <th>3</th>\n",
       "      <td>12</td>\n",
       "      <td>2705</td>\n",
       "      <td>True</td>\n",
       "      <td>False</td>\n",
       "      <td>False</td>\n",
       "      <td>False</td>\n",
       "      <td>1.000000</td>\n",
       "      <td>0.500000</td>\n",
       "      <td>0.461538</td>\n",
       "      <td>1.0</td>\n",
       "      <td>...</td>\n",
       "      <td>0.000000</td>\n",
       "      <td>0.923077</td>\n",
       "      <td>1.615385</td>\n",
       "      <td>False</td>\n",
       "      <td>False</td>\n",
       "      <td>6.0</td>\n",
       "      <td>False</td>\n",
       "      <td>7.0</td>\n",
       "      <td>False</td>\n",
       "      <td>0.0</td>\n",
       "    </tr>\n",
       "    <tr>\n",
       "      <th>4</th>\n",
       "      <td>15</td>\n",
       "      <td>2861</td>\n",
       "      <td>True</td>\n",
       "      <td>False</td>\n",
       "      <td>False</td>\n",
       "      <td>True</td>\n",
       "      <td>1.000000</td>\n",
       "      <td>0.214286</td>\n",
       "      <td>0.461538</td>\n",
       "      <td>1.0</td>\n",
       "      <td>...</td>\n",
       "      <td>0.000000</td>\n",
       "      <td>1.000000</td>\n",
       "      <td>6.333333</td>\n",
       "      <td>False</td>\n",
       "      <td>False</td>\n",
       "      <td>0.0</td>\n",
       "      <td>False</td>\n",
       "      <td>1.0</td>\n",
       "      <td>False</td>\n",
       "      <td>0.0</td>\n",
       "    </tr>\n",
       "  </tbody>\n",
       "</table>\n",
       "<p>5 rows × 28 columns</p>\n",
       "</div>"
      ],
      "text/plain": [
       "   Unnamed: 0  nb_id  longer_beginning  longer_ending  has_author  \\\n",
       "0           3    594              True          False       False   \n",
       "1           6   1222              True          False       False   \n",
       "2           7   1447              True          False       False   \n",
       "3          12   2705              True          False       False   \n",
       "4          15   2861              True          False       False   \n",
       "\n",
       "   has_equation  jupyter_prop  output_cell_prop  markdown_prop  num_contrib  \\\n",
       "0         False      0.507588          1.000000       0.044444          3.0   \n",
       "1         False      1.000000          0.000000       0.161290          1.0   \n",
       "2         False      0.970851          0.011364       0.375887          1.0   \n",
       "3         False      1.000000          0.500000       0.461538          1.0   \n",
       "4          True      1.000000          0.214286       0.461538          1.0   \n",
       "\n",
       "   ...  non_exec_prop  exec_inorder  exec_skips  has_error  has_export  \\\n",
       "0  ...       0.000000      1.000000    1.809524      False       False   \n",
       "1  ...       0.961538      1.000000    0.000000      False       False   \n",
       "2  ...       0.988636      1.000000    0.000000      False        True   \n",
       "3  ...       0.000000      0.923077    1.615385      False       False   \n",
       "4  ...       0.000000      1.000000    6.333333      False       False   \n",
       "\n",
       "   num_functions  has_test  num_headers  has_param  num_stars  \n",
       "0            0.0     False          7.0      False       10.0  \n",
       "1            0.0     False          5.0      False        0.0  \n",
       "2           15.0     False         30.0      False        0.0  \n",
       "3            6.0     False          7.0      False        0.0  \n",
       "4            0.0     False          1.0      False        0.0  \n",
       "\n",
       "[5 rows x 28 columns]"
      ]
     },
     "execution_count": 76,
     "metadata": {},
     "output_type": "execute_result"
    }
   ],
   "source": [
    "md_group_2017.head()"
   ]
  },
  {
   "cell_type": "code",
   "execution_count": 77,
   "metadata": {},
   "outputs": [],
   "source": [
    "# drop first column from both\n",
    "md_group_2017 = md_group_2017.drop(['Unnamed: 0'], axis = 1)\n",
    "no_md_group_2017 = no_md_group_2017.drop(['Unnamed: 0'], axis = 1)"
   ]
  },
  {
   "cell_type": "code",
   "execution_count": 85,
   "metadata": {},
   "outputs": [
    {
     "data": {
      "text/plain": [
       "Index(['nb_id', 'longer_beginning', 'longer_ending', 'has_author',\n",
       "       'has_equation', 'jupyter_prop', 'output_cell_prop', 'markdown_prop',\n",
       "       'num_contrib', 'image_prop', 'is_education', 'has_links',\n",
       "       'has_comments', 'md_frequency', 'has_title', 'num_commits', 'md_format',\n",
       "       'non_exec_prop', 'exec_inorder', 'exec_skips', 'has_error',\n",
       "       'has_export', 'num_functions', 'has_test', 'num_headers', 'has_param',\n",
       "       'num_stars'],\n",
       "      dtype='object')"
      ]
     },
     "execution_count": 85,
     "metadata": {},
     "output_type": "execute_result"
    }
   ],
   "source": [
    "# check the columns for both datasets to be sure they match up\n",
    "md_group_2017.columns"
   ]
  },
  {
   "cell_type": "code",
   "execution_count": 86,
   "metadata": {
    "scrolled": true
   },
   "outputs": [
    {
     "data": {
      "text/plain": [
       "Index(['nb_id', 'repo_id', 'longer_beginning', 'longer_ending', 'has_author',\n",
       "       'has_equation', 'jupyter_prop', 'output_cell_prop', 'markdown_prop',\n",
       "       'num_contrib', 'image_prop', 'is_education', 'has_links',\n",
       "       'has_comments', 'md_frequency', 'has_title', 'num_commits', 'md_format',\n",
       "       'non_exec_prop', 'exec_inorder', 'exec_skips', 'has_error',\n",
       "       'has_export', 'num_functions', 'has_test', 'num_headers', 'has_param',\n",
       "       'has_reqtext', 'num_stars'],\n",
       "      dtype='object')"
      ]
     },
     "execution_count": 86,
     "metadata": {},
     "output_type": "execute_result"
    }
   ],
   "source": [
    "md_group.columns"
   ]
  },
  {
   "cell_type": "code",
   "execution_count": 87,
   "metadata": {},
   "outputs": [
    {
     "data": {
      "text/plain": [
       "Index(['nb_id', 'has_author', 'jupyter_prop', 'output_cell_prop',\n",
       "       'num_contrib', 'image_prop', 'is_education', 'has_comments',\n",
       "       'num_commits', 'non_exec_prop', 'exec_inorder', 'exec_skips',\n",
       "       'has_error', 'has_export', 'num_functions', 'has_test', 'has_param',\n",
       "       'num_stars'],\n",
       "      dtype='object')"
      ]
     },
     "execution_count": 87,
     "metadata": {},
     "output_type": "execute_result"
    }
   ],
   "source": [
    "no_md_group_2017.columns"
   ]
  },
  {
   "cell_type": "code",
   "execution_count": 88,
   "metadata": {},
   "outputs": [
    {
     "data": {
      "text/plain": [
       "Index(['nb_id', 'repo_id', 'has_author', 'jupyter_prop', 'output_cell_prop',\n",
       "       'num_contrib', 'image_prop', 'is_education', 'has_comments',\n",
       "       'num_commits', 'non_exec_prop', 'exec_inorder', 'exec_skips',\n",
       "       'has_error', 'has_export', 'num_functions', 'has_test', 'has_param',\n",
       "       'has_reqtext', 'num_stars'],\n",
       "      dtype='object')"
      ]
     },
     "execution_count": 88,
     "metadata": {},
     "output_type": "execute_result"
    }
   ],
   "source": [
    "no_md_group.columns"
   ]
  },
  {
   "cell_type": "markdown",
   "metadata": {},
   "source": [
    "## Graphing and Comparison (between datasets)"
   ]
  },
  {
   "cell_type": "markdown",
   "metadata": {},
   "source": [
    "These are the features that correlate with best practices:\n",
    "\n",
    "- `md_frequency`\n",
    "- `longer_beginning` and `longer_ending`\n",
    "- `has_title`\n",
    "- `has_comments`\n",
    "- `md_frequency`\n",
    "- `num_commits`\n",
    "- `exec_inorder`\n",
    "- `exec_skips`\n",
    "- `has_error`\n",
    "- `num_functions`\n",
    "- `has_test`\n",
    "- `num_headers`\n",
    "- `has_param`\n",
    "- `has_reqtext`"
   ]
  },
  {
   "cell_type": "markdown",
   "metadata": {},
   "source": [
    "It may be more interesting to do `has_functions` and `has_headers` to distinguish the 0 cases from the rest, so we create these columns in both groups (just `has_functions` for the no markdown cell group)\n",
    "\n",
    "It may also be more interesting to threshold `exec_inorder` to 80%"
   ]
  },
  {
   "cell_type": "code",
   "execution_count": 25,
   "metadata": {},
   "outputs": [],
   "source": [
    "md_group['has_functions'] = md_group['num_functions'].apply(lambda x : x > 0)\n",
    "md_group['has_headers'] = md_group['num_headers'].apply(lambda x : x > 0)\n",
    "\n",
    "# md_group_2017['has_functions'] = md_group_2017['num_functions'].apply(lambda x : x > 0)\n",
    "# md_group_2017['has_headers'] = md_group_2017['num_headers'].apply(lambda x : x > 0)"
   ]
  },
  {
   "cell_type": "code",
   "execution_count": 26,
   "metadata": {},
   "outputs": [],
   "source": [
    "no_md_group['has_functions'] = no_md_group['num_functions'].apply(lambda x : x > 0)\n",
    "\n",
    "# no_md_group_2017['has_functions'] = no_md_group_2017['num_functions'].apply(lambda x : x > 0)"
   ]
  },
  {
   "cell_type": "code",
   "execution_count": 27,
   "metadata": {},
   "outputs": [],
   "source": [
    "inorder_threshold = 0.80\n",
    "md_group['inorder_threshold'] = md_group['exec_inorder'].apply(lambda x : x >= inorder_threshold)\n",
    "\n",
    "# md_group_2017['inorder_threshold'] = md_group_2017['exec_inorder'].apply(lambda x : x >= inorder_threshold)"
   ]
  },
  {
   "cell_type": "code",
   "execution_count": 28,
   "metadata": {},
   "outputs": [],
   "source": [
    "no_md_group['inorder_threshold'] = no_md_group['exec_inorder'].apply(lambda x : x >= inorder_threshold)\n",
    "\n",
    "# no_md_group_2017['inorder_threshold'] = no_md_group_2017['exec_inorder'].apply(lambda x : x >= inorder_threshold)"
   ]
  },
  {
   "cell_type": "code",
   "execution_count": 44,
   "metadata": {},
   "outputs": [],
   "source": [
    "md_group['frequency_threshold'] = md_group['md_frequency'].apply(lambda x : x >= 0.4)"
   ]
  },
  {
   "cell_type": "markdown",
   "metadata": {},
   "source": [
    "### Markdown Cell Groups\n",
    "\n",
    "We will go through each of the best practice features and graph each for both datasets"
   ]
  },
  {
   "cell_type": "code",
   "execution_count": 122,
   "metadata": {},
   "outputs": [
    {
     "data": {
      "image/png": "[encoded data removed]",
      "text/plain": [
       "<Figure size 432x288 with 1 Axes>"
      ]
     },
     "metadata": {},
     "output_type": "display_data"
    },
    {
     "data": {
      "image/png": "[encoded data removed]",
      "text/plain": [
       "<Figure size 432x288 with 1 Axes>"
      ]
     },
     "metadata": {},
     "output_type": "display_data"
    }
   ],
   "source": [
    "quant_feature = 'num_headers'\n",
    "quant_feature_name = 'Number of Headers'\n",
    "\n",
    "quant_feature_plot = md_group[quant_feature].plot(kind = 'hist')\n",
    "quant_feature_plot.set_title(quant_feature_name + ' - Recent Dataset')\n",
    "plt.show()\n",
    "\n",
    "plt.clf()\n",
    "quant_feature_plot = md_group_2017[quant_feature].plot(kind = 'hist')\n",
    "quant_feature_plot.set_title(quant_feature_name + ' - 2017 Dataset')\n",
    "plt.show()"
   ]
  },
  {
   "cell_type": "code",
   "execution_count": 134,
   "metadata": {
    "scrolled": false
   },
   "outputs": [
    {
     "data": {
      "image/png": "[encoded data removed]",
      "text/plain": [
       "<Figure size 432x288 with 1 Axes>"
      ]
     },
     "metadata": {},
     "output_type": "display_data"
    },
    {
     "data": {
      "image/png": "[encoded data removed]",
      "text/plain": [
       "<Figure size 432x288 with 1 Axes>"
      ]
     },
     "metadata": {},
     "output_type": "display_data"
    }
   ],
   "source": [
    "cat_feature = 'inorder_threshold'\n",
    "cat_feature_name = 'Mostly Inorder Execution'\n",
    "\n",
    "cat_feature_plot = sns.countplot(x = cat_feature, data = md_group)\n",
    "temp = cat_feature_plot.set(title = cat_feature_name + ' - Recent Dataset')\n",
    "plt.show()\n",
    "\n",
    "plt.clf()\n",
    "cat_feature_plot = sns.countplot(x = cat_feature, data = md_group_2017)\n",
    "temp = cat_feature_plot.set(title = cat_feature_name + ' - 2017 Dataset')\n",
    "plt.show()"
   ]
  },
  {
   "cell_type": "markdown",
   "metadata": {},
   "source": [
    "### No Markdown Cell Groups\n",
    "\n",
    "We will go through each of the best practice features and graph each for both datasets"
   ]
  },
  {
   "cell_type": "code",
   "execution_count": 138,
   "metadata": {},
   "outputs": [
    {
     "data": {
      "image/png": "[encoded data removed]",
      "text/plain": [
       "<Figure size 432x288 with 1 Axes>"
      ]
     },
     "metadata": {},
     "output_type": "display_data"
    },
    {
     "data": {
      "image/png": "[encoded data removed]",
      "text/plain": [
       "<Figure size 432x288 with 1 Axes>"
      ]
     },
     "metadata": {},
     "output_type": "display_data"
    }
   ],
   "source": [
    "quant_feature = 'num_functions'\n",
    "quant_feature_name = 'Number of Functions'\n",
    "\n",
    "quant_feature_plot = no_md_group[quant_feature].plot(kind = 'hist')\n",
    "quant_feature_plot.set_title(quant_feature_name + ' - Recent Dataset')\n",
    "plt.show()\n",
    "\n",
    "plt.clf()\n",
    "quant_feature_plot = no_md_group_2017[quant_feature].plot(kind = 'hist')\n",
    "quant_feature_plot.set_title(quant_feature_name + ' - 2017 Dataset')\n",
    "plt.show()"
   ]
  },
  {
   "cell_type": "code",
   "execution_count": 141,
   "metadata": {},
   "outputs": [
    {
     "data": {
      "image/png": "[encoded data removed]",
      "text/plain": [
       "<Figure size 432x288 with 1 Axes>"
      ]
     },
     "metadata": {},
     "output_type": "display_data"
    },
    {
     "data": {
      "image/png": "[encoded data removed]",
      "text/plain": [
       "<Figure size 432x288 with 1 Axes>"
      ]
     },
     "metadata": {},
     "output_type": "display_data"
    }
   ],
   "source": [
    "cat_feature = 'has_param'\n",
    "cat_feature_name = 'Parameterization'\n",
    "\n",
    "cat_feature_plot = sns.countplot(x = cat_feature, data = no_md_group)\n",
    "temp = cat_feature_plot.set(title = cat_feature_name + ' - Recent Dataset')\n",
    "plt.show()\n",
    "\n",
    "plt.clf()\n",
    "cat_feature_plot = sns.countplot(x = cat_feature, data = no_md_group_2017)\n",
    "temp = cat_feature_plot.set(title = cat_feature_name + ' - 2017 Dataset')\n",
    "plt.show()"
   ]
  },
  {
   "cell_type": "markdown",
   "metadata": {},
   "source": [
    "### All Data (no group separation)"
   ]
  },
  {
   "cell_type": "code",
   "execution_count": 145,
   "metadata": {},
   "outputs": [
    {
     "data": {
      "text/html": [
       "<div>\n",
       "<style scoped>\n",
       "    .dataframe tbody tr th:only-of-type {\n",
       "        vertical-align: middle;\n",
       "    }\n",
       "\n",
       "    .dataframe tbody tr th {\n",
       "        vertical-align: top;\n",
       "    }\n",
       "\n",
       "    .dataframe thead th {\n",
       "        text-align: right;\n",
       "    }\n",
       "</style>\n",
       "<table border=\"1\" class=\"dataframe\">\n",
       "  <thead>\n",
       "    <tr style=\"text-align: right;\">\n",
       "      <th></th>\n",
       "      <th>nb_id</th>\n",
       "      <th>repo_id</th>\n",
       "      <th>longer_beginning</th>\n",
       "      <th>longer_ending</th>\n",
       "      <th>has_author</th>\n",
       "      <th>has_equation</th>\n",
       "      <th>jupyter_prop</th>\n",
       "      <th>output_cell_prop</th>\n",
       "      <th>markdown_prop</th>\n",
       "      <th>num_contrib</th>\n",
       "      <th>...</th>\n",
       "      <th>has_export</th>\n",
       "      <th>num_functions</th>\n",
       "      <th>has_test</th>\n",
       "      <th>num_headers</th>\n",
       "      <th>has_param</th>\n",
       "      <th>has_reqtext</th>\n",
       "      <th>num_stars</th>\n",
       "      <th>has_functions</th>\n",
       "      <th>has_headers</th>\n",
       "      <th>inorder_threshold</th>\n",
       "    </tr>\n",
       "  </thead>\n",
       "  <tbody>\n",
       "    <tr>\n",
       "      <th>79</th>\n",
       "      <td>106</td>\n",
       "      <td>165198456</td>\n",
       "      <td>True</td>\n",
       "      <td>True</td>\n",
       "      <td>False</td>\n",
       "      <td>False</td>\n",
       "      <td>0.930911</td>\n",
       "      <td>0.363636</td>\n",
       "      <td>0.775510</td>\n",
       "      <td>1.0</td>\n",
       "      <td>...</td>\n",
       "      <td>False</td>\n",
       "      <td>2.0</td>\n",
       "      <td>False</td>\n",
       "      <td>27.0</td>\n",
       "      <td>False</td>\n",
       "      <td>False</td>\n",
       "      <td>1.0</td>\n",
       "      <td>True</td>\n",
       "      <td>True</td>\n",
       "      <td>False</td>\n",
       "    </tr>\n",
       "    <tr>\n",
       "      <th>80</th>\n",
       "      <td>107</td>\n",
       "      <td>165198456</td>\n",
       "      <td>True</td>\n",
       "      <td>True</td>\n",
       "      <td>False</td>\n",
       "      <td>False</td>\n",
       "      <td>0.930911</td>\n",
       "      <td>0.000000</td>\n",
       "      <td>0.775510</td>\n",
       "      <td>1.0</td>\n",
       "      <td>...</td>\n",
       "      <td>False</td>\n",
       "      <td>2.0</td>\n",
       "      <td>False</td>\n",
       "      <td>27.0</td>\n",
       "      <td>False</td>\n",
       "      <td>False</td>\n",
       "      <td>1.0</td>\n",
       "      <td>True</td>\n",
       "      <td>True</td>\n",
       "      <td>True</td>\n",
       "    </tr>\n",
       "    <tr>\n",
       "      <th>81</th>\n",
       "      <td>108</td>\n",
       "      <td>165197188</td>\n",
       "      <td>False</td>\n",
       "      <td>False</td>\n",
       "      <td>False</td>\n",
       "      <td>False</td>\n",
       "      <td>1.000000</td>\n",
       "      <td>0.560000</td>\n",
       "      <td>0.390244</td>\n",
       "      <td>1.0</td>\n",
       "      <td>...</td>\n",
       "      <td>False</td>\n",
       "      <td>6.0</td>\n",
       "      <td>False</td>\n",
       "      <td>13.0</td>\n",
       "      <td>False</td>\n",
       "      <td>False</td>\n",
       "      <td>1.0</td>\n",
       "      <td>True</td>\n",
       "      <td>True</td>\n",
       "      <td>True</td>\n",
       "    </tr>\n",
       "    <tr>\n",
       "      <th>82</th>\n",
       "      <td>109</td>\n",
       "      <td>165197188</td>\n",
       "      <td>False</td>\n",
       "      <td>False</td>\n",
       "      <td>False</td>\n",
       "      <td>False</td>\n",
       "      <td>1.000000</td>\n",
       "      <td>0.560000</td>\n",
       "      <td>0.390244</td>\n",
       "      <td>1.0</td>\n",
       "      <td>...</td>\n",
       "      <td>False</td>\n",
       "      <td>6.0</td>\n",
       "      <td>False</td>\n",
       "      <td>13.0</td>\n",
       "      <td>False</td>\n",
       "      <td>False</td>\n",
       "      <td>1.0</td>\n",
       "      <td>True</td>\n",
       "      <td>True</td>\n",
       "      <td>True</td>\n",
       "    </tr>\n",
       "    <tr>\n",
       "      <th>83</th>\n",
       "      <td>110</td>\n",
       "      <td>165197188</td>\n",
       "      <td>False</td>\n",
       "      <td>False</td>\n",
       "      <td>False</td>\n",
       "      <td>False</td>\n",
       "      <td>1.000000</td>\n",
       "      <td>0.588235</td>\n",
       "      <td>0.346154</td>\n",
       "      <td>1.0</td>\n",
       "      <td>...</td>\n",
       "      <td>False</td>\n",
       "      <td>8.0</td>\n",
       "      <td>False</td>\n",
       "      <td>13.0</td>\n",
       "      <td>False</td>\n",
       "      <td>False</td>\n",
       "      <td>1.0</td>\n",
       "      <td>True</td>\n",
       "      <td>True</td>\n",
       "      <td>True</td>\n",
       "    </tr>\n",
       "  </tbody>\n",
       "</table>\n",
       "<p>5 rows × 32 columns</p>\n",
       "</div>"
      ],
      "text/plain": [
       "    nb_id    repo_id longer_beginning longer_ending has_author has_equation  \\\n",
       "79    106  165198456             True          True      False        False   \n",
       "80    107  165198456             True          True      False        False   \n",
       "81    108  165197188            False         False      False        False   \n",
       "82    109  165197188            False         False      False        False   \n",
       "83    110  165197188            False         False      False        False   \n",
       "\n",
       "    jupyter_prop  output_cell_prop  markdown_prop  num_contrib  ...  \\\n",
       "79      0.930911          0.363636       0.775510          1.0  ...   \n",
       "80      0.930911          0.000000       0.775510          1.0  ...   \n",
       "81      1.000000          0.560000       0.390244          1.0  ...   \n",
       "82      1.000000          0.560000       0.390244          1.0  ...   \n",
       "83      1.000000          0.588235       0.346154          1.0  ...   \n",
       "\n",
       "    has_export num_functions has_test num_headers  has_param has_reqtext  \\\n",
       "79       False           2.0    False        27.0      False       False   \n",
       "80       False           2.0    False        27.0      False       False   \n",
       "81       False           6.0    False        13.0      False       False   \n",
       "82       False           6.0    False        13.0      False       False   \n",
       "83       False           8.0    False        13.0      False       False   \n",
       "\n",
       "    num_stars has_functions  has_headers  inorder_threshold  \n",
       "79        1.0          True         True              False  \n",
       "80        1.0          True         True               True  \n",
       "81        1.0          True         True               True  \n",
       "82        1.0          True         True               True  \n",
       "83        1.0          True         True               True  \n",
       "\n",
       "[5 rows x 32 columns]"
      ]
     },
     "execution_count": 145,
     "metadata": {},
     "output_type": "execute_result"
    }
   ],
   "source": [
    "# combine the groups\n",
    "all_data = pd.concat([md_group, no_md_group])\n",
    "all_data.head()"
   ]
  },
  {
   "cell_type": "code",
   "execution_count": 148,
   "metadata": {},
   "outputs": [
    {
     "data": {
      "text/html": [
       "<div>\n",
       "<style scoped>\n",
       "    .dataframe tbody tr th:only-of-type {\n",
       "        vertical-align: middle;\n",
       "    }\n",
       "\n",
       "    .dataframe tbody tr th {\n",
       "        vertical-align: top;\n",
       "    }\n",
       "\n",
       "    .dataframe thead th {\n",
       "        text-align: right;\n",
       "    }\n",
       "</style>\n",
       "<table border=\"1\" class=\"dataframe\">\n",
       "  <thead>\n",
       "    <tr style=\"text-align: right;\">\n",
       "      <th></th>\n",
       "      <th>nb_id</th>\n",
       "      <th>longer_beginning</th>\n",
       "      <th>longer_ending</th>\n",
       "      <th>has_author</th>\n",
       "      <th>has_equation</th>\n",
       "      <th>jupyter_prop</th>\n",
       "      <th>output_cell_prop</th>\n",
       "      <th>markdown_prop</th>\n",
       "      <th>num_contrib</th>\n",
       "      <th>image_prop</th>\n",
       "      <th>...</th>\n",
       "      <th>has_error</th>\n",
       "      <th>has_export</th>\n",
       "      <th>num_functions</th>\n",
       "      <th>has_test</th>\n",
       "      <th>num_headers</th>\n",
       "      <th>has_param</th>\n",
       "      <th>num_stars</th>\n",
       "      <th>has_functions</th>\n",
       "      <th>has_headers</th>\n",
       "      <th>inorder_threshold</th>\n",
       "    </tr>\n",
       "  </thead>\n",
       "  <tbody>\n",
       "    <tr>\n",
       "      <th>0</th>\n",
       "      <td>594</td>\n",
       "      <td>True</td>\n",
       "      <td>False</td>\n",
       "      <td>False</td>\n",
       "      <td>False</td>\n",
       "      <td>0.507588</td>\n",
       "      <td>1.000000</td>\n",
       "      <td>0.044444</td>\n",
       "      <td>3.0</td>\n",
       "      <td>0.0</td>\n",
       "      <td>...</td>\n",
       "      <td>False</td>\n",
       "      <td>False</td>\n",
       "      <td>0.0</td>\n",
       "      <td>False</td>\n",
       "      <td>7.0</td>\n",
       "      <td>False</td>\n",
       "      <td>10.0</td>\n",
       "      <td>False</td>\n",
       "      <td>True</td>\n",
       "      <td>True</td>\n",
       "    </tr>\n",
       "    <tr>\n",
       "      <th>1</th>\n",
       "      <td>1222</td>\n",
       "      <td>True</td>\n",
       "      <td>False</td>\n",
       "      <td>False</td>\n",
       "      <td>False</td>\n",
       "      <td>1.000000</td>\n",
       "      <td>0.000000</td>\n",
       "      <td>0.161290</td>\n",
       "      <td>1.0</td>\n",
       "      <td>0.0</td>\n",
       "      <td>...</td>\n",
       "      <td>False</td>\n",
       "      <td>False</td>\n",
       "      <td>0.0</td>\n",
       "      <td>False</td>\n",
       "      <td>5.0</td>\n",
       "      <td>False</td>\n",
       "      <td>0.0</td>\n",
       "      <td>False</td>\n",
       "      <td>True</td>\n",
       "      <td>True</td>\n",
       "    </tr>\n",
       "    <tr>\n",
       "      <th>2</th>\n",
       "      <td>1447</td>\n",
       "      <td>True</td>\n",
       "      <td>False</td>\n",
       "      <td>False</td>\n",
       "      <td>False</td>\n",
       "      <td>0.970851</td>\n",
       "      <td>0.011364</td>\n",
       "      <td>0.375887</td>\n",
       "      <td>1.0</td>\n",
       "      <td>0.0</td>\n",
       "      <td>...</td>\n",
       "      <td>False</td>\n",
       "      <td>True</td>\n",
       "      <td>15.0</td>\n",
       "      <td>False</td>\n",
       "      <td>30.0</td>\n",
       "      <td>False</td>\n",
       "      <td>0.0</td>\n",
       "      <td>True</td>\n",
       "      <td>True</td>\n",
       "      <td>True</td>\n",
       "    </tr>\n",
       "    <tr>\n",
       "      <th>3</th>\n",
       "      <td>2705</td>\n",
       "      <td>True</td>\n",
       "      <td>False</td>\n",
       "      <td>False</td>\n",
       "      <td>False</td>\n",
       "      <td>1.000000</td>\n",
       "      <td>0.500000</td>\n",
       "      <td>0.461538</td>\n",
       "      <td>1.0</td>\n",
       "      <td>0.0</td>\n",
       "      <td>...</td>\n",
       "      <td>False</td>\n",
       "      <td>False</td>\n",
       "      <td>6.0</td>\n",
       "      <td>False</td>\n",
       "      <td>7.0</td>\n",
       "      <td>False</td>\n",
       "      <td>0.0</td>\n",
       "      <td>True</td>\n",
       "      <td>True</td>\n",
       "      <td>True</td>\n",
       "    </tr>\n",
       "    <tr>\n",
       "      <th>4</th>\n",
       "      <td>2861</td>\n",
       "      <td>True</td>\n",
       "      <td>False</td>\n",
       "      <td>False</td>\n",
       "      <td>True</td>\n",
       "      <td>1.000000</td>\n",
       "      <td>0.214286</td>\n",
       "      <td>0.461538</td>\n",
       "      <td>1.0</td>\n",
       "      <td>0.0</td>\n",
       "      <td>...</td>\n",
       "      <td>False</td>\n",
       "      <td>False</td>\n",
       "      <td>0.0</td>\n",
       "      <td>False</td>\n",
       "      <td>1.0</td>\n",
       "      <td>False</td>\n",
       "      <td>0.0</td>\n",
       "      <td>False</td>\n",
       "      <td>True</td>\n",
       "      <td>True</td>\n",
       "    </tr>\n",
       "  </tbody>\n",
       "</table>\n",
       "<p>5 rows × 30 columns</p>\n",
       "</div>"
      ],
      "text/plain": [
       "   nb_id longer_beginning longer_ending  has_author has_equation  \\\n",
       "0    594             True         False       False        False   \n",
       "1   1222             True         False       False        False   \n",
       "2   1447             True         False       False        False   \n",
       "3   2705             True         False       False        False   \n",
       "4   2861             True         False       False         True   \n",
       "\n",
       "   jupyter_prop  output_cell_prop  markdown_prop  num_contrib  image_prop  \\\n",
       "0      0.507588          1.000000       0.044444          3.0         0.0   \n",
       "1      1.000000          0.000000       0.161290          1.0         0.0   \n",
       "2      0.970851          0.011364       0.375887          1.0         0.0   \n",
       "3      1.000000          0.500000       0.461538          1.0         0.0   \n",
       "4      1.000000          0.214286       0.461538          1.0         0.0   \n",
       "\n",
       "   ...  has_error has_export  num_functions  has_test num_headers  has_param  \\\n",
       "0  ...      False      False            0.0     False         7.0      False   \n",
       "1  ...      False      False            0.0     False         5.0      False   \n",
       "2  ...      False       True           15.0     False        30.0      False   \n",
       "3  ...      False      False            6.0     False         7.0      False   \n",
       "4  ...      False      False            0.0     False         1.0      False   \n",
       "\n",
       "  num_stars  has_functions  has_headers  inorder_threshold  \n",
       "0      10.0          False         True               True  \n",
       "1       0.0          False         True               True  \n",
       "2       0.0           True         True               True  \n",
       "3       0.0           True         True               True  \n",
       "4       0.0          False         True               True  \n",
       "\n",
       "[5 rows x 30 columns]"
      ]
     },
     "execution_count": 148,
     "metadata": {},
     "output_type": "execute_result"
    }
   ],
   "source": [
    "all_data_2017 = pd.concat([md_group_2017, no_md_group_2017])\n",
    "all_data_2017.head()"
   ]
  },
  {
   "cell_type": "code",
   "execution_count": 158,
   "metadata": {},
   "outputs": [
    {
     "data": {
      "image/png": "[encoded data removed]",
      "text/plain": [
       "<Figure size 432x288 with 1 Axes>"
      ]
     },
     "metadata": {},
     "output_type": "display_data"
    },
    {
     "data": {
      "image/png": "[encoded data removed]",
      "text/plain": [
       "<Figure size 432x288 with 1 Axes>"
      ]
     },
     "metadata": {},
     "output_type": "display_data"
    }
   ],
   "source": [
    "quant_feature = 'num_functions'\n",
    "quant_feature_name = 'Number of Functions'\n",
    "\n",
    "quant_feature_plot = all_data[quant_feature].plot(kind = 'hist')\n",
    "quant_feature_plot.set_title(quant_feature_name + ' - Recent Dataset')\n",
    "plt.show()\n",
    "\n",
    "plt.clf()\n",
    "quant_feature_plot = all_data_2017[quant_feature].plot(kind = 'hist')\n",
    "quant_feature_plot.set_title(quant_feature_name + ' - 2017 Dataset')\n",
    "plt.show()"
   ]
  },
  {
   "cell_type": "code",
   "execution_count": 161,
   "metadata": {
    "scrolled": true
   },
   "outputs": [
    {
     "data": {
      "image/png": "[encoded data removed]",
      "text/plain": [
       "<Figure size 432x288 with 1 Axes>"
      ]
     },
     "metadata": {},
     "output_type": "display_data"
    },
    {
     "data": {
      "image/png": "[encoded data removed]",
      "text/plain": [
       "<Figure size 432x288 with 1 Axes>"
      ]
     },
     "metadata": {},
     "output_type": "display_data"
    }
   ],
   "source": [
    "cat_feature = 'has_param'\n",
    "cat_feature_name = 'Parameterization'\n",
    "\n",
    "cat_feature_plot = sns.countplot(x = cat_feature, data = all_data)\n",
    "temp = cat_feature_plot.set(title = cat_feature_name + ' - Recent Dataset')\n",
    "plt.show()\n",
    "\n",
    "plt.clf()\n",
    "cat_feature_plot = sns.countplot(x = cat_feature, data = all_data_2017)\n",
    "temp = cat_feature_plot.set(title = cat_feature_name + ' - 2017 Dataset')\n",
    "plt.show()"
   ]
  },
  {
   "cell_type": "markdown",
   "metadata": {},
   "source": [
    "## Graphing and Comparison (between groups, within new dataset)"
   ]
  },
  {
   "cell_type": "code",
   "execution_count": 170,
   "metadata": {
    "scrolled": false
   },
   "outputs": [
    {
     "data": {
      "image/png": "[encoded data removed]",
      "text/plain": [
       "<Figure size 432x288 with 1 Axes>"
      ]
     },
     "metadata": {},
     "output_type": "display_data"
    },
    {
     "data": {
      "image/png": "[encoded data removed]",
      "text/plain": [
       "<Figure size 432x288 with 1 Axes>"
      ]
     },
     "metadata": {},
     "output_type": "display_data"
    }
   ],
   "source": [
    "quant_feature = 'num_functions'\n",
    "quant_feature_name = 'Number of Functions'\n",
    "\n",
    "quant_feature_plot = md_group[quant_feature].plot(kind = 'hist')\n",
    "quant_feature_plot.set_title(quant_feature_name + ' - Markdown Cell Group')\n",
    "plt.show()\n",
    "\n",
    "plt.clf()\n",
    "quant_feature_plot = no_md_group[quant_feature].plot(kind = 'hist')\n",
    "quant_feature_plot.set_title(quant_feature_name + ' - No Markdown Cell Group')\n",
    "plt.show()"
   ]
  },
  {
   "cell_type": "code",
   "execution_count": 173,
   "metadata": {
    "scrolled": true
   },
   "outputs": [
    {
     "data": {
      "image/png": "[encoded data removed]",
      "text/plain": [
       "<Figure size 432x288 with 1 Axes>"
      ]
     },
     "metadata": {},
     "output_type": "display_data"
    },
    {
     "data": {
      "image/png": "[encoded data removed]",
      "text/plain": [
       "<Figure size 432x288 with 1 Axes>"
      ]
     },
     "metadata": {},
     "output_type": "display_data"
    }
   ],
   "source": [
    "cat_feature = 'has_param'\n",
    "cat_feature_name = 'Parameterization'\n",
    "\n",
    "cat_feature_plot = sns.countplot(x = cat_feature, data = md_group)\n",
    "temp = cat_feature_plot.set(title = cat_feature_name + ' - Markdown Cell Group')\n",
    "plt.show()\n",
    "\n",
    "plt.clf()\n",
    "cat_feature_plot = sns.countplot(x = cat_feature, data = no_md_group)\n",
    "temp = cat_feature_plot.set(title = cat_feature_name + ' - No Markdown Cell Group')\n",
    "plt.show()"
   ]
  },
  {
   "cell_type": "markdown",
   "metadata": {},
   "source": [
    "## Graphing (individual features)"
   ]
  },
  {
   "cell_type": "code",
   "execution_count": 39,
   "metadata": {},
   "outputs": [
    {
     "data": {
      "image/png": "[encoded data removed]",
      "text/plain": [
       "<Figure size 432x288 with 1 Axes>"
      ]
     },
     "metadata": {},
     "output_type": "display_data"
    }
   ],
   "source": [
    "quant_feature = 'num_headers'\n",
    "quant_feature_name = 'Number of Headers'\n",
    "df = md_group.copy()\n",
    "\n",
    "quant_feature_plot = df[quant_feature].plot(kind = 'hist')\n",
    "quant_feature_plot.set_title(quant_feature_name + ' - Recent Dataset')\n",
    "plt.show()"
   ]
  },
  {
   "cell_type": "code",
   "execution_count": 47,
   "metadata": {},
   "outputs": [
    {
     "data": {
      "image/png": "[encoded data removed]",
      "text/plain": [
       "<Figure size 432x288 with 1 Axes>"
      ]
     },
     "metadata": {},
     "output_type": "display_data"
    }
   ],
   "source": [
    "cat_feature = 'has_markdown'\n",
    "cat_feature_name = 'Markdown Cells'\n",
    "df = full_data_df.copy()\n",
    "\n",
    "cat_feature_plot = sns.countplot(x = cat_feature, data = df)\n",
    "temp = cat_feature_plot.set(title = cat_feature_name + ' - Recent Dataset')\n",
    "plt.show()"
   ]
  },
  {
   "cell_type": "code",
   "execution_count": 46,
   "metadata": {},
   "outputs": [],
   "source": [
    "full_data_df['has_markdown'] = full_data_df['markdown_prop'].apply(lambda x : x > 0)"
   ]
  }
 ],
 "metadata": {
  "kernelspec": {
   "display_name": "Python 3",
   "language": "python",
   "name": "python3"
  },
  "language_info": {
   "codemirror_mode": {
    "name": "ipython",
    "version": 3
   },
   "file_extension": ".py",
   "mimetype": "text/x-python",
   "name": "python",
   "nbconvert_exporter": "python",
   "pygments_lexer": "ipython3",
   "version": "3.6.9"
  }
 },
 "nbformat": 4,
 "nbformat_minor": 2
}
