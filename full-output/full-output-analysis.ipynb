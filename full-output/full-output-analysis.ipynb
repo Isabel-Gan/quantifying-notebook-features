{
 "cells": [
  {
   "cell_type": "markdown",
   "metadata": {},
   "source": [
    "# Imports"
   ]
  },
  {
   "cell_type": "code",
   "execution_count": 21,
   "metadata": {},
   "outputs": [],
   "source": [
    "import pandas as pd\n",
    "import seaborn as sns\n",
    "import matplotlib as plt\n",
    "import numpy as np"
   ]
  },
  {
   "cell_type": "markdown",
   "metadata": {},
   "source": [
    "# Loading the Data"
   ]
  },
  {
   "cell_type": "code",
   "execution_count": 2,
   "metadata": {},
   "outputs": [],
   "source": [
    "full_data_original = pd.read_pickle('full_all_data.pkl')"
   ]
  },
  {
   "cell_type": "code",
   "execution_count": 3,
   "metadata": {},
   "outputs": [],
   "source": [
    "full_data_df = full_data_original.copy()"
   ]
  },
  {
   "cell_type": "code",
   "execution_count": 4,
   "metadata": {},
   "outputs": [
    {
     "data": {
      "text/html": [
       "<div>\n",
       "<style scoped>\n",
       "    .dataframe tbody tr th:only-of-type {\n",
       "        vertical-align: middle;\n",
       "    }\n",
       "\n",
       "    .dataframe tbody tr th {\n",
       "        vertical-align: top;\n",
       "    }\n",
       "\n",
       "    .dataframe thead th {\n",
       "        text-align: right;\n",
       "    }\n",
       "</style>\n",
       "<table border=\"1\" class=\"dataframe\">\n",
       "  <thead>\n",
       "    <tr style=\"text-align: right;\">\n",
       "      <th></th>\n",
       "      <th>nb_id</th>\n",
       "      <th>repo_id</th>\n",
       "      <th>longer_beginning</th>\n",
       "      <th>longer_ending</th>\n",
       "      <th>has_author</th>\n",
       "      <th>has_equation</th>\n",
       "      <th>jupyter_prop</th>\n",
       "      <th>output_cell_prop</th>\n",
       "      <th>markdown_prop</th>\n",
       "      <th>num_contrib</th>\n",
       "      <th>...</th>\n",
       "      <th>has_error</th>\n",
       "      <th>speaking_language</th>\n",
       "      <th>has_export</th>\n",
       "      <th>num_functions</th>\n",
       "      <th>has_test</th>\n",
       "      <th>num_headers</th>\n",
       "      <th>has_param</th>\n",
       "      <th>has_reqtext</th>\n",
       "      <th>num_stars</th>\n",
       "      <th>errors</th>\n",
       "    </tr>\n",
       "  </thead>\n",
       "  <tbody>\n",
       "    <tr>\n",
       "      <th>0</th>\n",
       "      <td>0</td>\n",
       "      <td>165196403</td>\n",
       "      <td>False</td>\n",
       "      <td>False</td>\n",
       "      <td>False</td>\n",
       "      <td>False</td>\n",
       "      <td>0.995303</td>\n",
       "      <td>0.166667</td>\n",
       "      <td>0.538462</td>\n",
       "      <td>1.0</td>\n",
       "      <td>...</td>\n",
       "      <td>False</td>\n",
       "      <td>NaN</td>\n",
       "      <td>False</td>\n",
       "      <td>0.0</td>\n",
       "      <td>False</td>\n",
       "      <td>9.0</td>\n",
       "      <td>False</td>\n",
       "      <td>False</td>\n",
       "      <td>1.0</td>\n",
       "      <td>NaN</td>\n",
       "    </tr>\n",
       "    <tr>\n",
       "      <th>1</th>\n",
       "      <td>2</td>\n",
       "      <td>165196403</td>\n",
       "      <td>True</td>\n",
       "      <td>True</td>\n",
       "      <td>False</td>\n",
       "      <td>True</td>\n",
       "      <td>0.995303</td>\n",
       "      <td>0.965517</td>\n",
       "      <td>0.508475</td>\n",
       "      <td>1.0</td>\n",
       "      <td>...</td>\n",
       "      <td>False</td>\n",
       "      <td>NaN</td>\n",
       "      <td>False</td>\n",
       "      <td>0.0</td>\n",
       "      <td>False</td>\n",
       "      <td>10.0</td>\n",
       "      <td>False</td>\n",
       "      <td>False</td>\n",
       "      <td>1.0</td>\n",
       "      <td>NaN</td>\n",
       "    </tr>\n",
       "    <tr>\n",
       "      <th>2</th>\n",
       "      <td>3</td>\n",
       "      <td>165196403</td>\n",
       "      <td>False</td>\n",
       "      <td>False</td>\n",
       "      <td>False</td>\n",
       "      <td>False</td>\n",
       "      <td>0.995303</td>\n",
       "      <td>0.500000</td>\n",
       "      <td>0.529412</td>\n",
       "      <td>1.0</td>\n",
       "      <td>...</td>\n",
       "      <td>False</td>\n",
       "      <td>NaN</td>\n",
       "      <td>False</td>\n",
       "      <td>3.0</td>\n",
       "      <td>False</td>\n",
       "      <td>6.0</td>\n",
       "      <td>False</td>\n",
       "      <td>False</td>\n",
       "      <td>1.0</td>\n",
       "      <td>NaN</td>\n",
       "    </tr>\n",
       "    <tr>\n",
       "      <th>3</th>\n",
       "      <td>5</td>\n",
       "      <td>165196403</td>\n",
       "      <td>False</td>\n",
       "      <td>True</td>\n",
       "      <td>False</td>\n",
       "      <td>True</td>\n",
       "      <td>0.995303</td>\n",
       "      <td>0.461538</td>\n",
       "      <td>0.518519</td>\n",
       "      <td>1.0</td>\n",
       "      <td>...</td>\n",
       "      <td>False</td>\n",
       "      <td>NaN</td>\n",
       "      <td>False</td>\n",
       "      <td>7.0</td>\n",
       "      <td>False</td>\n",
       "      <td>10.0</td>\n",
       "      <td>False</td>\n",
       "      <td>False</td>\n",
       "      <td>1.0</td>\n",
       "      <td>NaN</td>\n",
       "    </tr>\n",
       "    <tr>\n",
       "      <th>4</th>\n",
       "      <td>7</td>\n",
       "      <td>165196403</td>\n",
       "      <td>NaN</td>\n",
       "      <td>NaN</td>\n",
       "      <td>False</td>\n",
       "      <td>True</td>\n",
       "      <td>0.995303</td>\n",
       "      <td>0.666667</td>\n",
       "      <td>0.571429</td>\n",
       "      <td>1.0</td>\n",
       "      <td>...</td>\n",
       "      <td>False</td>\n",
       "      <td>Norwegian</td>\n",
       "      <td>False</td>\n",
       "      <td>2.0</td>\n",
       "      <td>False</td>\n",
       "      <td>8.0</td>\n",
       "      <td>False</td>\n",
       "      <td>False</td>\n",
       "      <td>1.0</td>\n",
       "      <td>NaN</td>\n",
       "    </tr>\n",
       "  </tbody>\n",
       "</table>\n",
       "<p>5 rows × 32 columns</p>\n",
       "</div>"
      ],
      "text/plain": [
       "   nb_id    repo_id longer_beginning longer_ending has_author has_equation  \\\n",
       "0      0  165196403            False         False      False        False   \n",
       "1      2  165196403             True          True      False         True   \n",
       "2      3  165196403            False         False      False        False   \n",
       "3      5  165196403            False          True      False         True   \n",
       "4      7  165196403              NaN           NaN      False         True   \n",
       "\n",
       "   jupyter_prop  output_cell_prop  markdown_prop  num_contrib  ...  has_error  \\\n",
       "0      0.995303          0.166667       0.538462          1.0  ...      False   \n",
       "1      0.995303          0.965517       0.508475          1.0  ...      False   \n",
       "2      0.995303          0.500000       0.529412          1.0  ...      False   \n",
       "3      0.995303          0.461538       0.518519          1.0  ...      False   \n",
       "4      0.995303          0.666667       0.571429          1.0  ...      False   \n",
       "\n",
       "  speaking_language has_export num_functions has_test  num_headers has_param  \\\n",
       "0               NaN      False           0.0    False          9.0     False   \n",
       "1               NaN      False           0.0    False         10.0     False   \n",
       "2               NaN      False           3.0    False          6.0     False   \n",
       "3               NaN      False           7.0    False         10.0     False   \n",
       "4         Norwegian      False           2.0    False          8.0     False   \n",
       "\n",
       "   has_reqtext num_stars  errors  \n",
       "0        False       1.0     NaN  \n",
       "1        False       1.0     NaN  \n",
       "2        False       1.0     NaN  \n",
       "3        False       1.0     NaN  \n",
       "4        False       1.0     NaN  \n",
       "\n",
       "[5 rows x 32 columns]"
      ]
     },
     "execution_count": 4,
     "metadata": {},
     "output_type": "execute_result"
    }
   ],
   "source": [
    "# initial look at the data\n",
    "full_data_df.head()"
   ]
  },
  {
   "cell_type": "markdown",
   "metadata": {},
   "source": [
    "# Filtering, Cleaning, and Grouping the Data"
   ]
  },
  {
   "cell_type": "markdown",
   "metadata": {},
   "source": [
    "## Cleaning (errors)"
   ]
  },
  {
   "cell_type": "code",
   "execution_count": 6,
   "metadata": {},
   "outputs": [
    {
     "data": {
      "text/plain": [
       "no code                                                    5528\n",
       "filtered out                                                533\n",
       "nb file                                                     300\n",
       "has_author                                                  197\n",
       "api                                                          97\n",
       "has_reqtext                                                  81\n",
       "num_commits                                                  32\n",
       "output_cell_prop,image_prop                                   7\n",
       "image_prop                                                    4\n",
       "longer_beginning,longer_ending                                2\n",
       "has_export,num_functions,has_test,num_headers,has_param       1\n",
       "md_format                                                     1\n",
       "has_export,num_functions                                      1\n",
       "num_commits,has_reqtext                                       1\n",
       "Name: errors, dtype: int64"
      ]
     },
     "execution_count": 6,
     "metadata": {},
     "output_type": "execute_result"
    }
   ],
   "source": [
    "# look at the errors\n",
    "full_data_df['errors'].value_counts()"
   ]
  },
  {
   "cell_type": "markdown",
   "metadata": {},
   "source": [
    "We can filter those out with `no code`, `filtered out`, `nb file`, and `api` errors"
   ]
  },
  {
   "cell_type": "code",
   "execution_count": 8,
   "metadata": {},
   "outputs": [
    {
     "data": {
      "text/plain": [
       "136667"
      ]
     },
     "execution_count": 8,
     "metadata": {},
     "output_type": "execute_result"
    }
   ],
   "source": [
    "condition = lambda error : error not in ['no code', 'filtered out', 'nb file', 'api']\n",
    "error_filtered = full_data_df[full_data_df['errors'].map(condition)]\n",
    "\n",
    "len(error_filtered)"
   ]
  },
  {
   "cell_type": "code",
   "execution_count": 10,
   "metadata": {
    "scrolled": false
   },
   "outputs": [
    {
     "data": {
      "text/plain": [
       "has_author                                                 197\n",
       "has_reqtext                                                 81\n",
       "num_commits                                                 32\n",
       "output_cell_prop,image_prop                                  7\n",
       "image_prop                                                   4\n",
       "longer_beginning,longer_ending                               2\n",
       "has_export,num_functions,has_test,num_headers,has_param      1\n",
       "md_format                                                    1\n",
       "has_export,num_functions                                     1\n",
       "num_commits,has_reqtext                                      1\n",
       "Name: errors, dtype: int64"
      ]
     },
     "execution_count": 10,
     "metadata": {},
     "output_type": "execute_result"
    }
   ],
   "source": [
    "# look at errors again\n",
    "error_filtered['errors'].value_counts()"
   ]
  },
  {
   "cell_type": "markdown",
   "metadata": {},
   "source": [
    "We can leave those with `has_author` errors, since the author URLs alone must have been invalid. We can assign those to a value of `False` for `has_author`"
   ]
  },
  {
   "cell_type": "code",
   "execution_count": 16,
   "metadata": {},
   "outputs": [],
   "source": [
    "for nb_id in error_filtered[error_filtered['errors'] == 'has_author']['nb_id']:\n",
    "    error_filtered.loc[error_filtered['nb_id'] == nb_id, 'has_author'] = False"
   ]
  },
  {
   "cell_type": "code",
   "execution_count": 20,
   "metadata": {},
   "outputs": [
    {
     "data": {
      "text/plain": [
       "0"
      ]
     },
     "execution_count": 20,
     "metadata": {},
     "output_type": "execute_result"
    }
   ],
   "source": [
    "# check that we assigned values correctly (no more nans in has_author)\n",
    "error_filtered['has_author'].isna().sum()"
   ]
  },
  {
   "cell_type": "markdown",
   "metadata": {},
   "source": [
    "We can now get rid of the `has_author` errors"
   ]
  },
  {
   "cell_type": "code",
   "execution_count": 22,
   "metadata": {},
   "outputs": [],
   "source": [
    "for nb_id in error_filtered[error_filtered['errors'] == 'has_author']['nb_id']:\n",
    "    error_filtered.loc[error_filtered['nb_id'] == nb_id, 'errors'] = np.nan"
   ]
  },
  {
   "cell_type": "code",
   "execution_count": 24,
   "metadata": {},
   "outputs": [
    {
     "data": {
      "text/plain": [
       "has_reqtext                                                81\n",
       "num_commits                                                32\n",
       "output_cell_prop,image_prop                                 7\n",
       "image_prop                                                  4\n",
       "longer_beginning,longer_ending                              2\n",
       "has_export,num_functions,has_test,num_headers,has_param     1\n",
       "md_format                                                   1\n",
       "has_export,num_functions                                    1\n",
       "num_commits,has_reqtext                                     1\n",
       "Name: errors, dtype: int64"
      ]
     },
     "execution_count": 24,
     "metadata": {},
     "output_type": "execute_result"
    }
   ],
   "source": [
    "# check the errors again\n",
    "error_filtered['errors'].value_counts()"
   ]
  },
  {
   "cell_type": "markdown",
   "metadata": {},
   "source": [
    "Let's tackle the `has_reqtext` errors next"
   ]
  },
  {
   "cell_type": "code",
   "execution_count": 29,
   "metadata": {},
   "outputs": [
    {
     "data": {
      "text/html": [
       "<div>\n",
       "<style scoped>\n",
       "    .dataframe tbody tr th:only-of-type {\n",
       "        vertical-align: middle;\n",
       "    }\n",
       "\n",
       "    .dataframe tbody tr th {\n",
       "        vertical-align: top;\n",
       "    }\n",
       "\n",
       "    .dataframe thead th {\n",
       "        text-align: right;\n",
       "    }\n",
       "</style>\n",
       "<table border=\"1\" class=\"dataframe\">\n",
       "  <thead>\n",
       "    <tr style=\"text-align: right;\">\n",
       "      <th></th>\n",
       "      <th>nb_id</th>\n",
       "      <th>has_reqtext</th>\n",
       "    </tr>\n",
       "  </thead>\n",
       "  <tbody>\n",
       "    <tr>\n",
       "      <th>2095</th>\n",
       "      <td>2223</td>\n",
       "      <td>NaN</td>\n",
       "    </tr>\n",
       "    <tr>\n",
       "      <th>11650</th>\n",
       "      <td>12256</td>\n",
       "      <td>NaN</td>\n",
       "    </tr>\n",
       "    <tr>\n",
       "      <th>15039</th>\n",
       "      <td>15821</td>\n",
       "      <td>NaN</td>\n",
       "    </tr>\n",
       "    <tr>\n",
       "      <th>17464</th>\n",
       "      <td>18541</td>\n",
       "      <td>NaN</td>\n",
       "    </tr>\n",
       "    <tr>\n",
       "      <th>22263</th>\n",
       "      <td>23601</td>\n",
       "      <td>NaN</td>\n",
       "    </tr>\n",
       "  </tbody>\n",
       "</table>\n",
       "</div>"
      ],
      "text/plain": [
       "       nb_id has_reqtext\n",
       "2095    2223         NaN\n",
       "11650  12256         NaN\n",
       "15039  15821         NaN\n",
       "17464  18541         NaN\n",
       "22263  23601         NaN"
      ]
     },
     "execution_count": 29,
     "metadata": {},
     "output_type": "execute_result"
    }
   ],
   "source": [
    "error_filtered[error_filtered['errors'] == 'has_reqtext'][['nb_id', 'has_reqtext']].head()"
   ]
  },
  {
   "cell_type": "markdown",
   "metadata": {},
   "source": [
    "Looking into these errors, it seems that the path was assigned incorrectly in the `notebooks.csv`, so we re-do the process of finding notebook path and running `has_requirements` for these notebooks."
   ]
  },
  {
   "cell_type": "markdown",
   "metadata": {},
   "source": [
    "Next, the `num_commits` errors"
   ]
  },
  {
   "cell_type": "code",
   "execution_count": 31,
   "metadata": {},
   "outputs": [
    {
     "data": {
      "text/html": [
       "<div>\n",
       "<style scoped>\n",
       "    .dataframe tbody tr th:only-of-type {\n",
       "        vertical-align: middle;\n",
       "    }\n",
       "\n",
       "    .dataframe tbody tr th {\n",
       "        vertical-align: top;\n",
       "    }\n",
       "\n",
       "    .dataframe thead th {\n",
       "        text-align: right;\n",
       "    }\n",
       "</style>\n",
       "<table border=\"1\" class=\"dataframe\">\n",
       "  <thead>\n",
       "    <tr style=\"text-align: right;\">\n",
       "      <th></th>\n",
       "      <th>nb_id</th>\n",
       "      <th>num_commits</th>\n",
       "    </tr>\n",
       "  </thead>\n",
       "  <tbody>\n",
       "    <tr>\n",
       "      <th>5005</th>\n",
       "      <td>5260</td>\n",
       "      <td>NaN</td>\n",
       "    </tr>\n",
       "    <tr>\n",
       "      <th>5225</th>\n",
       "      <td>5495</td>\n",
       "      <td>NaN</td>\n",
       "    </tr>\n",
       "    <tr>\n",
       "      <th>11420</th>\n",
       "      <td>12011</td>\n",
       "      <td>NaN</td>\n",
       "    </tr>\n",
       "    <tr>\n",
       "      <th>11454</th>\n",
       "      <td>12047</td>\n",
       "      <td>NaN</td>\n",
       "    </tr>\n",
       "    <tr>\n",
       "      <th>41942</th>\n",
       "      <td>44300</td>\n",
       "      <td>NaN</td>\n",
       "    </tr>\n",
       "  </tbody>\n",
       "</table>\n",
       "</div>"
      ],
      "text/plain": [
       "       nb_id  num_commits\n",
       "5005    5260          NaN\n",
       "5225    5495          NaN\n",
       "11420  12011          NaN\n",
       "11454  12047          NaN\n",
       "41942  44300          NaN"
      ]
     },
     "execution_count": 31,
     "metadata": {},
     "output_type": "execute_result"
    }
   ],
   "source": [
    "error_filtered[error_filtered['errors'] == 'num_commits'][['nb_id', 'num_commits']].head()"
   ]
  },
  {
   "cell_type": "markdown",
   "metadata": {},
   "source": [
    "Looking into these errors, it seems that the `%` characters in the notebook are not being escaped when the notebook paths are put into the URL, so we can re-do running the script on these notebooks and make sure to escape this character properly"
   ]
  },
  {
   "cell_type": "markdown",
   "metadata": {},
   "source": [
    "The rest of the errors have less than 10 notebooks associated with them, so we can handle those individually"
   ]
  },
  {
   "cell_type": "markdown",
   "metadata": {},
   "source": [
    "## Filtering"
   ]
  },
  {
   "cell_type": "code",
   "execution_count": 32,
   "metadata": {},
   "outputs": [],
   "source": [
    "filtered = error_filtered.copy()"
   ]
  },
  {
   "cell_type": "markdown",
   "metadata": {},
   "source": [
    "For now, let's filter out those that still have errors, as those will get resolved later"
   ]
  },
  {
   "cell_type": "code",
   "execution_count": 40,
   "metadata": {},
   "outputs": [
    {
     "data": {
      "text/plain": [
       "Series([], Name: errors, dtype: int64)"
      ]
     },
     "execution_count": 40,
     "metadata": {},
     "output_type": "execute_result"
    }
   ],
   "source": [
    "filtered = filtered[filtered['errors'].isnull()]\n",
    "filtered['errors'].value_counts()"
   ]
  },
  {
   "cell_type": "code",
   "execution_count": 41,
   "metadata": {},
   "outputs": [],
   "source": [
    "# we can now drop the errors column\n",
    "filtered = filtered.drop(['errors'], axis = 1)"
   ]
  },
  {
   "cell_type": "markdown",
   "metadata": {},
   "source": [
    "Next, we must filter down to just English and `python` notebooks"
   ]
  },
  {
   "cell_type": "code",
   "execution_count": 44,
   "metadata": {
    "scrolled": false
   },
   "outputs": [
    {
     "data": {
      "text/plain": [
       "python                                                    126025\n",
       "python3                                                     6774\n",
       "julia                                                        985\n",
       "R                                                            922\n",
       "python2                                                      181\n",
       "                                                           ...  \n",
       "markdown                                                       1\n",
       "python37564bitsidconda1d45427122d043f58fabe1fddaa2b008         1\n",
       "python37764bitaa037e6b9ce0482a97f7f2f266a78e54                 1\n",
       "lisp                                                           1\n",
       "mathematica                                                    1\n",
       "Name: language, Length: 71, dtype: int64"
      ]
     },
     "execution_count": 44,
     "metadata": {},
     "output_type": "execute_result"
    }
   ],
   "source": [
    "# look at the languages\n",
    "filtered['language'].value_counts()"
   ]
  },
  {
   "cell_type": "code",
   "execution_count": 47,
   "metadata": {},
   "outputs": [
    {
     "data": {
      "text/plain": [
       "133071"
      ]
     },
     "execution_count": 47,
     "metadata": {},
     "output_type": "execute_result"
    }
   ],
   "source": [
    "# drop the notebooks with 'nan' in the language column\n",
    "filtered = filtered.dropna(subset = ['language'])\n",
    "\n",
    "# filter down to those with python\n",
    "filtered = filtered[filtered['language'].str.contains(\"python\")]\n",
    "len(filtered)"
   ]
  },
  {
   "cell_type": "code",
   "execution_count": 48,
   "metadata": {
    "scrolled": true
   },
   "outputs": [
    {
     "data": {
      "text/plain": [
       "python                                                              126025\n",
       "python3                                                               6774\n",
       "python2                                                                181\n",
       "micropython                                                             65\n",
       "python37164bitbasecondad2822a14379545b6ad8221fdb28a47f5                  5\n",
       "python37664bite5e01d20666b4ea39b669a865bfedc91                           3\n",
       "python37664bit63fb4f53efb44350a8fe54ef578d532a                           2\n",
       "python37464bit2210ce78c9014828b7442ce7d2fdf2c3                           2\n",
       "python37132bitsimplificandocondad4a025f5665f45f198698144d61138fc         2\n",
       "python36964bit159e511b6454490fab42e7c387ca06d9                           2\n",
       "python37464bitbaseconda688895a7bc4d4baeb81185c00bfb955a                  1\n",
       "python3.5                                                                1\n",
       "python2.7                                                                1\n",
       "python36064bittfbaseconda3d523c105529487eac4d678fdf237542                1\n",
       "python37664bitadd2d29322fc4c69b2fa8d1ba2d3991d                           1\n",
       "python3_mydev                                                            1\n",
       "python38264bitee8223ec65594bc885f48f30722f6205                           1\n",
       "python37564bitsidconda1d45427122d043f58fabe1fddaa2b008                   1\n",
       "python37764bitaa037e6b9ce0482a97f7f2f266a78e54                           1\n",
       "python38264bitff2e5779a88248cfb107ead9076957e0                           1\n",
       "Name: language, dtype: int64"
      ]
     },
     "execution_count": 48,
     "metadata": {},
     "output_type": "execute_result"
    }
   ],
   "source": [
    "# check new value counts\n",
    "filtered['language'].value_counts()"
   ]
  },
  {
   "cell_type": "code",
   "execution_count": 49,
   "metadata": {},
   "outputs": [],
   "source": [
    "# we can now drop the language column\n",
    "filtered = filtered.drop(['language'], axis = 1)"
   ]
  },
  {
   "cell_type": "code",
   "execution_count": 50,
   "metadata": {},
   "outputs": [
    {
     "data": {
      "text/plain": [
       "English                    79938\n",
       "Korean                      2257\n",
       "Spanish                     1479\n",
       "Russian                     1404\n",
       "Portuguese                  1362\n",
       "French                      1012\n",
       "Welsh                        867\n",
       "Japanese                     825\n",
       "Catalan                      770\n",
       "Norwegian                    765\n",
       "Italian                      649\n",
       "German                       550\n",
       "Vietnamese                   521\n",
       "Polish                       456\n",
       "Romanian                     299\n",
       "Estonian                     254\n",
       "Indonesian                   231\n",
       "Tagalog                      179\n",
       "Danish                       148\n",
       "Turkish                      145\n",
       "Dutch                        119\n",
       "Croatian                     117\n",
       "Afrikaans                    106\n",
       "Swedish                       65\n",
       "Somali                        54\n",
       "Bulgarian                     50\n",
       "Czech                         45\n",
       "Hungarian                     44\n",
       "Finnish                       38\n",
       "Modern Greek (1453-)          34\n",
       "Thai                          29\n",
       "Slovak                        29\n",
       "Slovenian                     25\n",
       "Albanian                      23\n",
       "Lithuanian                    21\n",
       "Ukrainian                     17\n",
       "Latvian                       16\n",
       "Swahili (macrolanguage)       15\n",
       "Arabic                         6\n",
       "Persian                        5\n",
       "Macedonian                     2\n",
       "Hindi                          2\n",
       "Bengali                        1\n",
       "Name: speaking_language, dtype: int64"
      ]
     },
     "execution_count": 50,
     "metadata": {},
     "output_type": "execute_result"
    }
   ],
   "source": [
    "# look at the speaking languages\n",
    "filtered['speaking_language'].value_counts()"
   ]
  },
  {
   "cell_type": "code",
   "execution_count": 53,
   "metadata": {},
   "outputs": [
    {
     "data": {
      "text/plain": [
       "115821"
      ]
     },
     "execution_count": 53,
     "metadata": {},
     "output_type": "execute_result"
    }
   ],
   "source": [
    "# filter down to only english notebooks and notebooks with no markdown cells\n",
    "filtered = filtered[(filtered['speaking_language'] == 'English') |\n",
    "                   (filtered['markdown_prop'] == 0)]\n",
    "len(filtered)"
   ]
  },
  {
   "cell_type": "code",
   "execution_count": 52,
   "metadata": {
    "scrolled": true
   },
   "outputs": [
    {
     "data": {
      "text/plain": [
       "English    79938\n",
       "Name: speaking_language, dtype: int64"
      ]
     },
     "execution_count": 52,
     "metadata": {},
     "output_type": "execute_result"
    }
   ],
   "source": [
    "# check the speaking languages again\n",
    "filtered['speaking_language'].value_counts()"
   ]
  },
  {
   "cell_type": "code",
   "execution_count": 54,
   "metadata": {},
   "outputs": [],
   "source": [
    "# we now no longer need the speaking language column\n",
    "filtered = filtered.drop(['speaking_language'], axis = 1)"
   ]
  },
  {
   "cell_type": "markdown",
   "metadata": {},
   "source": [
    "## Cleaning and Adjusting (nan values)"
   ]
  },
  {
   "cell_type": "code",
   "execution_count": 56,
   "metadata": {},
   "outputs": [],
   "source": [
    "adjusted = filtered.copy()"
   ]
  },
  {
   "cell_type": "code",
   "execution_count": 57,
   "metadata": {
    "scrolled": true
   },
   "outputs": [
    {
     "name": "stdout",
     "output_type": "stream",
     "text": [
      "nb_id : False\n",
      "repo_id : False\n",
      "longer_beginning : True\n",
      "longer_ending : True\n",
      "has_author : False\n",
      "has_equation : True\n",
      "jupyter_prop : True\n",
      "output_cell_prop : False\n",
      "markdown_prop : False\n",
      "num_contrib : False\n",
      "image_prop : True\n",
      "is_education : False\n",
      "has_links : True\n",
      "has_comments : False\n",
      "md_frequency : True\n",
      "has_title : False\n",
      "num_commits : False\n",
      "md_format : True\n",
      "non_exec_prop : False\n",
      "exec_inorder : True\n",
      "exec_skips : True\n",
      "has_error : False\n",
      "has_export : False\n",
      "num_functions : False\n",
      "has_test : False\n",
      "num_headers : False\n",
      "has_param : False\n",
      "has_reqtext : False\n",
      "num_stars : False\n"
     ]
    }
   ],
   "source": [
    "# check each column for NaN\n",
    "for column in list(adjusted):\n",
    "    hasNaN = adjusted[column].isnull().values.any()\n",
    "    print(column + \" : \" + str(hasNaN))"
   ]
  },
  {
   "cell_type": "markdown",
   "metadata": {},
   "source": [
    "For the features associated with markdown cells, it is fine to have `NaN` values; we will separate the data into groups accordingly in a later section.\n",
    "- `longer_beginning`\n",
    "- `longer_ending`\n",
    "- `has_equation`\n",
    "- `has_links`\n",
    "- `md_frequency`\n",
    "- `md_format`"
   ]
  },
  {
   "cell_type": "markdown",
   "metadata": {},
   "source": [
    "Let us look at the `jupyter_prop` nan values"
   ]
  },
  {
   "cell_type": "code",
   "execution_count": 61,
   "metadata": {
    "scrolled": false
   },
   "outputs": [
    {
     "data": {
      "text/plain": [
       "23"
      ]
     },
     "execution_count": 61,
     "metadata": {},
     "output_type": "execute_result"
    }
   ],
   "source": [
    "len(adjusted[pd.isnull(adjusted['jupyter_prop'])])"
   ]
  },
  {
   "cell_type": "code",
   "execution_count": 62,
   "metadata": {
    "scrolled": true
   },
   "outputs": [
    {
     "data": {
      "text/html": [
       "<div>\n",
       "<style scoped>\n",
       "    .dataframe tbody tr th:only-of-type {\n",
       "        vertical-align: middle;\n",
       "    }\n",
       "\n",
       "    .dataframe tbody tr th {\n",
       "        vertical-align: top;\n",
       "    }\n",
       "\n",
       "    .dataframe thead th {\n",
       "        text-align: right;\n",
       "    }\n",
       "</style>\n",
       "<table border=\"1\" class=\"dataframe\">\n",
       "  <thead>\n",
       "    <tr style=\"text-align: right;\">\n",
       "      <th></th>\n",
       "      <th>nb_id</th>\n",
       "      <th>repo_id</th>\n",
       "      <th>longer_beginning</th>\n",
       "      <th>longer_ending</th>\n",
       "      <th>has_author</th>\n",
       "      <th>has_equation</th>\n",
       "      <th>jupyter_prop</th>\n",
       "      <th>output_cell_prop</th>\n",
       "      <th>markdown_prop</th>\n",
       "      <th>num_contrib</th>\n",
       "      <th>...</th>\n",
       "      <th>exec_inorder</th>\n",
       "      <th>exec_skips</th>\n",
       "      <th>has_error</th>\n",
       "      <th>has_export</th>\n",
       "      <th>num_functions</th>\n",
       "      <th>has_test</th>\n",
       "      <th>num_headers</th>\n",
       "      <th>has_param</th>\n",
       "      <th>has_reqtext</th>\n",
       "      <th>num_stars</th>\n",
       "    </tr>\n",
       "  </thead>\n",
       "  <tbody>\n",
       "    <tr>\n",
       "      <th>48689</th>\n",
       "      <td>51490</td>\n",
       "      <td>168097544</td>\n",
       "      <td>False</td>\n",
       "      <td>False</td>\n",
       "      <td>False</td>\n",
       "      <td>False</td>\n",
       "      <td>NaN</td>\n",
       "      <td>0.000000</td>\n",
       "      <td>0.166667</td>\n",
       "      <td>1.0</td>\n",
       "      <td>...</td>\n",
       "      <td>NaN</td>\n",
       "      <td>NaN</td>\n",
       "      <td>False</td>\n",
       "      <td>True</td>\n",
       "      <td>0.0</td>\n",
       "      <td>False</td>\n",
       "      <td>4.0</td>\n",
       "      <td>False</td>\n",
       "      <td>False</td>\n",
       "      <td>0.0</td>\n",
       "    </tr>\n",
       "    <tr>\n",
       "      <th>57507</th>\n",
       "      <td>60734</td>\n",
       "      <td>168518417</td>\n",
       "      <td>False</td>\n",
       "      <td>False</td>\n",
       "      <td>False</td>\n",
       "      <td>False</td>\n",
       "      <td>NaN</td>\n",
       "      <td>0.636364</td>\n",
       "      <td>0.352941</td>\n",
       "      <td>7.0</td>\n",
       "      <td>...</td>\n",
       "      <td>1.000000</td>\n",
       "      <td>1.380952</td>\n",
       "      <td>False</td>\n",
       "      <td>False</td>\n",
       "      <td>0.0</td>\n",
       "      <td>False</td>\n",
       "      <td>6.0</td>\n",
       "      <td>False</td>\n",
       "      <td>False</td>\n",
       "      <td>18.0</td>\n",
       "    </tr>\n",
       "    <tr>\n",
       "      <th>57508</th>\n",
       "      <td>60735</td>\n",
       "      <td>168518417</td>\n",
       "      <td>False</td>\n",
       "      <td>False</td>\n",
       "      <td>False</td>\n",
       "      <td>False</td>\n",
       "      <td>NaN</td>\n",
       "      <td>0.600000</td>\n",
       "      <td>0.347826</td>\n",
       "      <td>7.0</td>\n",
       "      <td>...</td>\n",
       "      <td>1.000000</td>\n",
       "      <td>1.000000</td>\n",
       "      <td>False</td>\n",
       "      <td>False</td>\n",
       "      <td>0.0</td>\n",
       "      <td>False</td>\n",
       "      <td>5.0</td>\n",
       "      <td>False</td>\n",
       "      <td>False</td>\n",
       "      <td>18.0</td>\n",
       "    </tr>\n",
       "    <tr>\n",
       "      <th>57510</th>\n",
       "      <td>60737</td>\n",
       "      <td>168518417</td>\n",
       "      <td>False</td>\n",
       "      <td>False</td>\n",
       "      <td>False</td>\n",
       "      <td>False</td>\n",
       "      <td>NaN</td>\n",
       "      <td>0.888889</td>\n",
       "      <td>0.250000</td>\n",
       "      <td>7.0</td>\n",
       "      <td>...</td>\n",
       "      <td>0.857143</td>\n",
       "      <td>12.714286</td>\n",
       "      <td>False</td>\n",
       "      <td>False</td>\n",
       "      <td>0.0</td>\n",
       "      <td>False</td>\n",
       "      <td>0.0</td>\n",
       "      <td>False</td>\n",
       "      <td>False</td>\n",
       "      <td>18.0</td>\n",
       "    </tr>\n",
       "    <tr>\n",
       "      <th>57511</th>\n",
       "      <td>60738</td>\n",
       "      <td>168518417</td>\n",
       "      <td>False</td>\n",
       "      <td>False</td>\n",
       "      <td>False</td>\n",
       "      <td>False</td>\n",
       "      <td>NaN</td>\n",
       "      <td>0.529412</td>\n",
       "      <td>0.413793</td>\n",
       "      <td>7.0</td>\n",
       "      <td>...</td>\n",
       "      <td>1.000000</td>\n",
       "      <td>1.333333</td>\n",
       "      <td>False</td>\n",
       "      <td>False</td>\n",
       "      <td>0.0</td>\n",
       "      <td>False</td>\n",
       "      <td>6.0</td>\n",
       "      <td>False</td>\n",
       "      <td>False</td>\n",
       "      <td>18.0</td>\n",
       "    </tr>\n",
       "  </tbody>\n",
       "</table>\n",
       "<p>5 rows × 29 columns</p>\n",
       "</div>"
      ],
      "text/plain": [
       "       nb_id    repo_id longer_beginning longer_ending has_author  \\\n",
       "48689  51490  168097544            False         False      False   \n",
       "57507  60734  168518417            False         False      False   \n",
       "57508  60735  168518417            False         False      False   \n",
       "57510  60737  168518417            False         False      False   \n",
       "57511  60738  168518417            False         False      False   \n",
       "\n",
       "      has_equation  jupyter_prop  output_cell_prop  markdown_prop  \\\n",
       "48689        False           NaN          0.000000       0.166667   \n",
       "57507        False           NaN          0.636364       0.352941   \n",
       "57508        False           NaN          0.600000       0.347826   \n",
       "57510        False           NaN          0.888889       0.250000   \n",
       "57511        False           NaN          0.529412       0.413793   \n",
       "\n",
       "       num_contrib  ...  exec_inorder exec_skips has_error has_export  \\\n",
       "48689          1.0  ...           NaN        NaN     False       True   \n",
       "57507          7.0  ...      1.000000   1.380952     False      False   \n",
       "57508          7.0  ...      1.000000   1.000000     False      False   \n",
       "57510          7.0  ...      0.857143  12.714286     False      False   \n",
       "57511          7.0  ...      1.000000   1.333333     False      False   \n",
       "\n",
       "       num_functions has_test  num_headers has_param  has_reqtext  num_stars  \n",
       "48689            0.0    False          4.0     False        False        0.0  \n",
       "57507            0.0    False          6.0     False        False       18.0  \n",
       "57508            0.0    False          5.0     False        False       18.0  \n",
       "57510            0.0    False          0.0     False        False       18.0  \n",
       "57511            0.0    False          6.0     False        False       18.0  \n",
       "\n",
       "[5 rows x 29 columns]"
      ]
     },
     "execution_count": 62,
     "metadata": {},
     "output_type": "execute_result"
    }
   ],
   "source": [
    "adjusted[pd.isnull(adjusted['jupyter_prop'])].head()"
   ]
  },
  {
   "cell_type": "markdown",
   "metadata": {},
   "source": [
    "These are notebooks of repositories for which `Jupyter Notebook` was left out in the language data, so we can filter these out"
   ]
  },
  {
   "cell_type": "code",
   "execution_count": 64,
   "metadata": {},
   "outputs": [
    {
     "data": {
      "text/plain": [
       "115798"
      ]
     },
     "execution_count": 64,
     "metadata": {},
     "output_type": "execute_result"
    }
   ],
   "source": [
    "jupyter_nans = adjusted[pd.isnull(adjusted['jupyter_prop'])].index\n",
    "adjusted = adjusted.drop(jupyter_nans, inplace = False)\n",
    "len(adjusted)"
   ]
  },
  {
   "cell_type": "code",
   "execution_count": 66,
   "metadata": {},
   "outputs": [
    {
     "name": "stdout",
     "output_type": "stream",
     "text": [
      "nb_id : False\n",
      "repo_id : False\n",
      "longer_beginning : True\n",
      "longer_ending : True\n",
      "has_author : False\n",
      "has_equation : True\n",
      "jupyter_prop : False\n",
      "output_cell_prop : False\n",
      "markdown_prop : False\n",
      "num_contrib : False\n",
      "image_prop : True\n",
      "is_education : False\n",
      "has_links : True\n",
      "has_comments : False\n",
      "md_frequency : True\n",
      "has_title : False\n",
      "num_commits : False\n",
      "md_format : True\n",
      "non_exec_prop : False\n",
      "exec_inorder : True\n",
      "exec_skips : True\n",
      "has_error : False\n",
      "has_export : False\n",
      "num_functions : False\n",
      "has_test : False\n",
      "num_headers : False\n",
      "has_param : False\n",
      "has_reqtext : False\n",
      "num_stars : False\n"
     ]
    }
   ],
   "source": [
    "# check nans again\n",
    "for column in list(adjusted):\n",
    "    hasNaN = adjusted[column].isnull().values.any()\n",
    "    print(column + \" : \" + str(hasNaN))"
   ]
  },
  {
   "cell_type": "markdown",
   "metadata": {},
   "source": [
    "Similar to how we did so on the last dataset, we can adjust values of the `image_prop`, `exec_inorder`, and `exec_skips` columns"
   ]
  },
  {
   "cell_type": "code",
   "execution_count": 67,
   "metadata": {},
   "outputs": [],
   "source": [
    "# change NaN in image_prop to 0\n",
    "adjusted['image_prop'] = adjusted['image_prop'].fillna(0)"
   ]
  },
  {
   "cell_type": "code",
   "execution_count": 68,
   "metadata": {},
   "outputs": [],
   "source": [
    "# change NaN in exec_inorder to 1\n",
    "adjusted['exec_inorder'] = adjusted['exec_inorder'].fillna(1)\n",
    "\n",
    "# change NaN in exec_skips to 0\n",
    "adjusted['exec_skips'] = adjusted['exec_skips'].fillna(0)"
   ]
  },
  {
   "cell_type": "code",
   "execution_count": 69,
   "metadata": {
    "scrolled": true
   },
   "outputs": [
    {
     "name": "stdout",
     "output_type": "stream",
     "text": [
      "nb_id : False\n",
      "repo_id : False\n",
      "longer_beginning : True\n",
      "longer_ending : True\n",
      "has_author : False\n",
      "has_equation : True\n",
      "jupyter_prop : False\n",
      "output_cell_prop : False\n",
      "markdown_prop : False\n",
      "num_contrib : False\n",
      "image_prop : False\n",
      "is_education : False\n",
      "has_links : True\n",
      "has_comments : False\n",
      "md_frequency : True\n",
      "has_title : False\n",
      "num_commits : False\n",
      "md_format : True\n",
      "non_exec_prop : False\n",
      "exec_inorder : False\n",
      "exec_skips : False\n",
      "has_error : False\n",
      "has_export : False\n",
      "num_functions : False\n",
      "has_test : False\n",
      "num_headers : False\n",
      "has_param : False\n",
      "has_reqtext : False\n",
      "num_stars : False\n"
     ]
    }
   ],
   "source": [
    "# check nans again\n",
    "for column in list(adjusted):\n",
    "    hasNaN = adjusted[column].isnull().values.any()\n",
    "    print(column + \" : \" + str(hasNaN))"
   ]
  },
  {
   "cell_type": "markdown",
   "metadata": {},
   "source": [
    "## Grouping"
   ]
  },
  {
   "cell_type": "code",
   "execution_count": 70,
   "metadata": {},
   "outputs": [],
   "source": [
    "# separate into markdown cell group and non-markdown cell group\n",
    "md_group = adjusted[adjusted['markdown_prop'] > 0].copy()\n",
    "no_md_group = adjusted[adjusted['markdown_prop'] == 0].copy()"
   ]
  },
  {
   "cell_type": "code",
   "execution_count": 71,
   "metadata": {
    "scrolled": true
   },
   "outputs": [
    {
     "data": {
      "text/plain": [
       "115798"
      ]
     },
     "execution_count": 71,
     "metadata": {},
     "output_type": "execute_result"
    }
   ],
   "source": [
    "len(md_group) + len(no_md_group)"
   ]
  },
  {
   "cell_type": "markdown",
   "metadata": {},
   "source": [
    "We can export these cleaned and adjusted groups for quick retrieval later on."
   ]
  },
  {
   "cell_type": "code",
   "execution_count": 73,
   "metadata": {},
   "outputs": [],
   "source": [
    "md_group.to_pickle('full_markdown_group.pkl')\n",
    "no_md_group.to_pickle('full_no_markdown_group.pkl')"
   ]
  }
 ],
 "metadata": {
  "kernelspec": {
   "display_name": "Python 3",
   "language": "python",
   "name": "python3"
  },
  "language_info": {
   "codemirror_mode": {
    "name": "ipython",
    "version": 3
   },
   "file_extension": ".py",
   "mimetype": "text/x-python",
   "name": "python",
   "nbconvert_exporter": "python",
   "pygments_lexer": "ipython3",
   "version": "3.6.9"
  }
 },
 "nbformat": 4,
 "nbformat_minor": 2
}
