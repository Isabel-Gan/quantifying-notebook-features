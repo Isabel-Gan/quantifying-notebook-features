{
 "cells": [
  {
   "cell_type": "markdown",
   "metadata": {},
   "source": [
    "# Imports"
   ]
  },
  {
   "cell_type": "code",
   "execution_count": 12,
   "metadata": {},
   "outputs": [],
   "source": [
    "import pandas as pd \n",
    "import seaborn as sns\n",
    "import matplotlib as plt\n",
    "from IPython.display import display\n"
   ]
  },
  {
   "cell_type": "markdown",
   "metadata": {},
   "source": [
    "# Analyzing Errors\n",
    "\n",
    "Analyzing the notebooks that ran into various errors while the script was executing (`github2017-sixth-errors.csv`)"
   ]
  },
  {
   "cell_type": "markdown",
   "metadata": {},
   "source": [
    "## Loading the .csv file"
   ]
  },
  {
   "cell_type": "code",
   "execution_count": 3,
   "metadata": {},
   "outputs": [
    {
     "data": {
      "text/html": [
       "<div>\n",
       "<style scoped>\n",
       "    .dataframe tbody tr th:only-of-type {\n",
       "        vertical-align: middle;\n",
       "    }\n",
       "\n",
       "    .dataframe tbody tr th {\n",
       "        vertical-align: top;\n",
       "    }\n",
       "\n",
       "    .dataframe thead th {\n",
       "        text-align: right;\n",
       "    }\n",
       "</style>\n",
       "<table border=\"1\" class=\"dataframe\">\n",
       "  <thead>\n",
       "    <tr style=\"text-align: right;\">\n",
       "      <th></th>\n",
       "      <th>nb_id</th>\n",
       "      <th>repo_id</th>\n",
       "      <th>err_in</th>\n",
       "    </tr>\n",
       "  </thead>\n",
       "  <tbody>\n",
       "    <tr>\n",
       "      <th>0</th>\n",
       "      <td>408548</td>\n",
       "      <td>93282436</td>\n",
       "      <td>api</td>\n",
       "    </tr>\n",
       "    <tr>\n",
       "      <th>1</th>\n",
       "      <td>484614</td>\n",
       "      <td>95004508</td>\n",
       "      <td>no_code</td>\n",
       "    </tr>\n",
       "    <tr>\n",
       "      <th>2</th>\n",
       "      <td>806977</td>\n",
       "      <td>93647670</td>\n",
       "      <td>api</td>\n",
       "    </tr>\n",
       "    <tr>\n",
       "      <th>3</th>\n",
       "      <td>160930</td>\n",
       "      <td>29998194</td>\n",
       "      <td>api</td>\n",
       "    </tr>\n",
       "    <tr>\n",
       "      <th>4</th>\n",
       "      <td>964194</td>\n",
       "      <td>72123088</td>\n",
       "      <td>api</td>\n",
       "    </tr>\n",
       "  </tbody>\n",
       "</table>\n",
       "</div>"
      ],
      "text/plain": [
       "    nb_id   repo_id   err_in\n",
       "0  408548  93282436      api\n",
       "1  484614  95004508  no_code\n",
       "2  806977  93647670      api\n",
       "3  160930  29998194      api\n",
       "4  964194  72123088      api"
      ]
     },
     "execution_count": 3,
     "metadata": {},
     "output_type": "execute_result"
    }
   ],
   "source": [
    "errors_filepath = 'github2017-sixth-errors.csv'\n",
    "errors_df = pd.read_csv(errors_filepath)\n",
    "\n",
    "# initial look at the data\n",
    "errors_df.head()"
   ]
  },
  {
   "cell_type": "markdown",
   "metadata": {},
   "source": [
    "## Plotting the error data"
   ]
  },
  {
   "cell_type": "code",
   "execution_count": 5,
   "metadata": {
    "scrolled": true
   },
   "outputs": [
    {
     "data": {
      "image/png": "[encoded data removed]",
      "text/plain": [
       "<Figure size 432x288 with 1 Axes>"
      ]
     },
     "metadata": {
      "needs_background": "light"
     },
     "output_type": "display_data"
    }
   ],
   "source": [
    "# create a bar plot of the errors column\n",
    "error_plot = sns.countplot(x='err_in', data=errors_df)\n",
    "\n",
    "# fix the appearance of the bar plot\n",
    "temp = error_plot.set_xticklabels(error_plot.get_xticklabels(), rotation=60, ha=\"right\")\n",
    "temp = error_plot.set(title = \"Notebook Errors\")"
   ]
  },
  {
   "cell_type": "markdown",
   "metadata": {},
   "source": [
    "The top four errors (`api`, `no_code`, `has_author`, and `nb_file`) have similar numbers to the previous complete run. \n",
    "\n",
    "The `is_education` errors were caused by a bug (fixed) in the script, which didn't check for the `source` field in a markdown cell before accessing it."
   ]
  },
  {
   "cell_type": "markdown",
   "metadata": {},
   "source": [
    "# Analyzing Adjusted Features\n",
    "\n",
    "Analyzing the data obtained from running improved feature scripts on the dataset (`github2017-sixth-run.csv`) and comparing those results with previous runs of those feature scripts (`github2017-third-run.csv`)"
   ]
  },
  {
   "cell_type": "markdown",
   "metadata": {},
   "source": [
    "## Loading the .csv files"
   ]
  },
  {
   "cell_type": "code",
   "execution_count": 7,
   "metadata": {},
   "outputs": [
    {
     "data": {
      "text/html": [
       "<div>\n",
       "<style scoped>\n",
       "    .dataframe tbody tr th:only-of-type {\n",
       "        vertical-align: middle;\n",
       "    }\n",
       "\n",
       "    .dataframe tbody tr th {\n",
       "        vertical-align: top;\n",
       "    }\n",
       "\n",
       "    .dataframe thead th {\n",
       "        text-align: right;\n",
       "    }\n",
       "</style>\n",
       "<table border=\"1\" class=\"dataframe\">\n",
       "  <thead>\n",
       "    <tr style=\"text-align: right;\">\n",
       "      <th></th>\n",
       "      <th>nb_id</th>\n",
       "      <th>repo_id</th>\n",
       "      <th>longer_beginning</th>\n",
       "      <th>longer_ending</th>\n",
       "      <th>has_author</th>\n",
       "      <th>is_education</th>\n",
       "      <th>language</th>\n",
       "      <th>has_links</th>\n",
       "      <th>has_comments</th>\n",
       "    </tr>\n",
       "  </thead>\n",
       "  <tbody>\n",
       "    <tr>\n",
       "      <th>0</th>\n",
       "      <td>900493</td>\n",
       "      <td>85972539</td>\n",
       "      <td>NaN</td>\n",
       "      <td>NaN</td>\n",
       "      <td>False</td>\n",
       "      <td>False</td>\n",
       "      <td>python</td>\n",
       "      <td>NaN</td>\n",
       "      <td>False</td>\n",
       "    </tr>\n",
       "    <tr>\n",
       "      <th>1</th>\n",
       "      <td>322852</td>\n",
       "      <td>45655960</td>\n",
       "      <td>False</td>\n",
       "      <td>False</td>\n",
       "      <td>False</td>\n",
       "      <td>False</td>\n",
       "      <td>python</td>\n",
       "      <td>False</td>\n",
       "      <td>False</td>\n",
       "    </tr>\n",
       "    <tr>\n",
       "      <th>2</th>\n",
       "      <td>457759</td>\n",
       "      <td>27685708</td>\n",
       "      <td>True</td>\n",
       "      <td>False</td>\n",
       "      <td>False</td>\n",
       "      <td>False</td>\n",
       "      <td>python</td>\n",
       "      <td>False</td>\n",
       "      <td>False</td>\n",
       "    </tr>\n",
       "    <tr>\n",
       "      <th>3</th>\n",
       "      <td>672138</td>\n",
       "      <td>92749043</td>\n",
       "      <td>False</td>\n",
       "      <td>False</td>\n",
       "      <td>False</td>\n",
       "      <td>False</td>\n",
       "      <td>python</td>\n",
       "      <td>True</td>\n",
       "      <td>True</td>\n",
       "    </tr>\n",
       "    <tr>\n",
       "      <th>4</th>\n",
       "      <td>103154</td>\n",
       "      <td>30734070</td>\n",
       "      <td>False</td>\n",
       "      <td>False</td>\n",
       "      <td>False</td>\n",
       "      <td>False</td>\n",
       "      <td>python</td>\n",
       "      <td>False</td>\n",
       "      <td>False</td>\n",
       "    </tr>\n",
       "  </tbody>\n",
       "</table>\n",
       "</div>"
      ],
      "text/plain": [
       "    nb_id   repo_id longer_beginning longer_ending has_author is_education  \\\n",
       "0  900493  85972539              NaN           NaN      False        False   \n",
       "1  322852  45655960            False         False      False        False   \n",
       "2  457759  27685708             True         False      False        False   \n",
       "3  672138  92749043            False         False      False        False   \n",
       "4  103154  30734070            False         False      False        False   \n",
       "\n",
       "  language has_links has_comments  \n",
       "0   python       NaN        False  \n",
       "1   python     False        False  \n",
       "2   python     False        False  \n",
       "3   python      True         True  \n",
       "4   python     False        False  "
      ]
     },
     "execution_count": 7,
     "metadata": {},
     "output_type": "execute_result"
    }
   ],
   "source": [
    "results_filepath = 'github2017-sixth-run.csv'\n",
    "results_df = pd.read_csv(results_filepath)\n",
    "\n",
    "# initial look at the data\n",
    "results_df.head()"
   ]
  },
  {
   "cell_type": "code",
   "execution_count": 9,
   "metadata": {},
   "outputs": [
    {
     "data": {
      "text/html": [
       "<div>\n",
       "<style scoped>\n",
       "    .dataframe tbody tr th:only-of-type {\n",
       "        vertical-align: middle;\n",
       "    }\n",
       "\n",
       "    .dataframe tbody tr th {\n",
       "        vertical-align: top;\n",
       "    }\n",
       "\n",
       "    .dataframe thead th {\n",
       "        text-align: right;\n",
       "    }\n",
       "</style>\n",
       "<table border=\"1\" class=\"dataframe\">\n",
       "  <thead>\n",
       "    <tr style=\"text-align: right;\">\n",
       "      <th></th>\n",
       "      <th>nb_id</th>\n",
       "      <th>repo_id</th>\n",
       "      <th>longer_beginning</th>\n",
       "      <th>longer_ending</th>\n",
       "      <th>has_author</th>\n",
       "      <th>has_equation</th>\n",
       "      <th>jupyter_prop</th>\n",
       "      <th>output_cell_prop</th>\n",
       "      <th>markdown_prop</th>\n",
       "      <th>num_contrib</th>\n",
       "      <th>image_prop</th>\n",
       "      <th>e_keywords</th>\n",
       "      <th>p_keywords</th>\n",
       "      <th>s_keywords</th>\n",
       "      <th>is_education</th>\n",
       "      <th>language</th>\n",
       "    </tr>\n",
       "  </thead>\n",
       "  <tbody>\n",
       "    <tr>\n",
       "      <th>0</th>\n",
       "      <td>900493</td>\n",
       "      <td>85972539</td>\n",
       "      <td>NaN</td>\n",
       "      <td>NaN</td>\n",
       "      <td>False</td>\n",
       "      <td>NaN</td>\n",
       "      <td>0.991818</td>\n",
       "      <td>0.400000</td>\n",
       "      <td>0.000000</td>\n",
       "      <td>3</td>\n",
       "      <td>0.500000</td>\n",
       "      <td>0.0</td>\n",
       "      <td>0.0</td>\n",
       "      <td>0.0</td>\n",
       "      <td>False</td>\n",
       "      <td>python</td>\n",
       "    </tr>\n",
       "    <tr>\n",
       "      <th>1</th>\n",
       "      <td>322852</td>\n",
       "      <td>45655960</td>\n",
       "      <td>False</td>\n",
       "      <td>False</td>\n",
       "      <td>False</td>\n",
       "      <td>False</td>\n",
       "      <td>0.029944</td>\n",
       "      <td>0.000000</td>\n",
       "      <td>0.400000</td>\n",
       "      <td>2</td>\n",
       "      <td>NaN</td>\n",
       "      <td>0.0</td>\n",
       "      <td>1.0</td>\n",
       "      <td>0.0</td>\n",
       "      <td>False</td>\n",
       "      <td>python</td>\n",
       "    </tr>\n",
       "    <tr>\n",
       "      <th>2</th>\n",
       "      <td>457759</td>\n",
       "      <td>27685708</td>\n",
       "      <td>True</td>\n",
       "      <td>False</td>\n",
       "      <td>False</td>\n",
       "      <td>False</td>\n",
       "      <td>NaN</td>\n",
       "      <td>0.666667</td>\n",
       "      <td>0.250000</td>\n",
       "      <td>1</td>\n",
       "      <td>1.000000</td>\n",
       "      <td>0.0</td>\n",
       "      <td>0.0</td>\n",
       "      <td>1.0</td>\n",
       "      <td>False</td>\n",
       "      <td>python</td>\n",
       "    </tr>\n",
       "    <tr>\n",
       "      <th>3</th>\n",
       "      <td>672138</td>\n",
       "      <td>92749043</td>\n",
       "      <td>True</td>\n",
       "      <td>False</td>\n",
       "      <td>False</td>\n",
       "      <td>False</td>\n",
       "      <td>1.000000</td>\n",
       "      <td>0.695652</td>\n",
       "      <td>0.080000</td>\n",
       "      <td>1</td>\n",
       "      <td>0.312500</td>\n",
       "      <td>0.0</td>\n",
       "      <td>0.0</td>\n",
       "      <td>0.0</td>\n",
       "      <td>False</td>\n",
       "      <td>python</td>\n",
       "    </tr>\n",
       "    <tr>\n",
       "      <th>4</th>\n",
       "      <td>103154</td>\n",
       "      <td>30734070</td>\n",
       "      <td>False</td>\n",
       "      <td>False</td>\n",
       "      <td>False</td>\n",
       "      <td>False</td>\n",
       "      <td>NaN</td>\n",
       "      <td>0.638393</td>\n",
       "      <td>0.257426</td>\n",
       "      <td>1</td>\n",
       "      <td>0.006993</td>\n",
       "      <td>1.0</td>\n",
       "      <td>0.0</td>\n",
       "      <td>0.0</td>\n",
       "      <td>False</td>\n",
       "      <td>python</td>\n",
       "    </tr>\n",
       "  </tbody>\n",
       "</table>\n",
       "</div>"
      ],
      "text/plain": [
       "    nb_id   repo_id longer_beginning longer_ending has_author has_equation  \\\n",
       "0  900493  85972539              NaN           NaN      False          NaN   \n",
       "1  322852  45655960            False         False      False        False   \n",
       "2  457759  27685708             True         False      False        False   \n",
       "3  672138  92749043             True         False      False        False   \n",
       "4  103154  30734070            False         False      False        False   \n",
       "\n",
       "   jupyter_prop  output_cell_prop  markdown_prop  num_contrib  image_prop  \\\n",
       "0      0.991818          0.400000       0.000000            3    0.500000   \n",
       "1      0.029944          0.000000       0.400000            2         NaN   \n",
       "2           NaN          0.666667       0.250000            1    1.000000   \n",
       "3      1.000000          0.695652       0.080000            1    0.312500   \n",
       "4           NaN          0.638393       0.257426            1    0.006993   \n",
       "\n",
       "   e_keywords  p_keywords  s_keywords is_education language  \n",
       "0         0.0         0.0         0.0        False   python  \n",
       "1         0.0         1.0         0.0        False   python  \n",
       "2         0.0         0.0         1.0        False   python  \n",
       "3         0.0         0.0         0.0        False   python  \n",
       "4         1.0         0.0         0.0        False   python  "
      ]
     },
     "execution_count": 9,
     "metadata": {},
     "output_type": "execute_result"
    }
   ],
   "source": [
    "old_results_filepath = '../third-run/github2017-third-run.csv'\n",
    "old_results_df = pd.read_csv(old_results_filepath)\n",
    "\n",
    "# initial look at the old data\n",
    "old_results_df.head()"
   ]
  },
  {
   "cell_type": "markdown",
   "metadata": {},
   "source": [
    "The features that were adjusted and whose data will be compared against the third run are:\n",
    "\n",
    "- `longer_beginning`: changed to count words instead of characters, and links/equations counted as one word\n",
    "- `longer_ending`: same as above\n",
    "- `has_author`: now only checks the markdown cells and code comments for instances of author names\n",
    "- `is_education`: changes lines to lower case, then checks them against patterns\n",
    "- `language`: if language was not found in the `kernelspec`, then take the name of the `kernelspec` as a fallback"
   ]
  },
  {
   "cell_type": "markdown",
   "metadata": {},
   "source": [
    "## Plotting, Cleaning, and Comparing the Data"
   ]
  },
  {
   "cell_type": "code",
   "execution_count": 14,
   "metadata": {},
   "outputs": [],
   "source": [
    "def clean_column(field, df):\n",
    "    \n",
    "    # isolate the right columns\n",
    "    original = df[['nb_id', 'repo_id', field]]\n",
    "    \n",
    "    # filter out the NaN rows\n",
    "    clean = original.dropna(subset = [field])\n",
    "    \n",
    "    # return the cleaned column\n",
    "    return clean"
   ]
  },
  {
   "cell_type": "markdown",
   "metadata": {},
   "source": [
    "### Longer Markdown Cells at the Beginning/End"
   ]
  },
  {
   "cell_type": "code",
   "execution_count": 33,
   "metadata": {},
   "outputs": [
    {
     "data": {
      "image/png": "[encoded data removed]",
      "text/plain": [
       "<Figure size 432x288 with 1 Axes>"
      ]
     },
     "metadata": {
      "needs_background": "light"
     },
     "output_type": "display_data"
    }
   ],
   "source": [
    "# clean the data\n",
    "longer_beginning = clean_column('longer_beginning', results_df)\n",
    "\n",
    "# plot the data\n",
    "beginning_plot = sns.countplot(x='longer_beginning', data=longer_beginning)\n",
    "\n",
    "# fix appearance\n",
    "temp = beginning_plot.set(title = \"Sixth Run - Longer Markdown Cells @ the Beginning\")"
   ]
  },
  {
   "cell_type": "code",
   "execution_count": 21,
   "metadata": {
    "scrolled": false
   },
   "outputs": [
    {
     "data": {
      "image/png": "[encoded data removed]",
      "text/plain": [
       "<Figure size 432x288 with 1 Axes>"
      ]
     },
     "metadata": {
      "needs_background": "light"
     },
     "output_type": "display_data"
    }
   ],
   "source": [
    "# repeat the same for old results\n",
    "longer_beginning_old = clean_column('longer_beginning', old_results_df)\n",
    "beginning_old_plot = sns.countplot(x='longer_beginning',data=longer_beginning_old)\n",
    "temp = beginning_old_plot.set(title = \"Third Run - Longer Markdown Cells @ the Beginning\")"
   ]
  },
  {
   "cell_type": "markdown",
   "metadata": {},
   "source": [
    "The plots don't show any difference, so we instead generate a table of counts. In any case, it seems that there was no significant difference between the new and old data, so changing the script did not do much. "
   ]
  },
  {
   "cell_type": "code",
   "execution_count": 41,
   "metadata": {},
   "outputs": [
    {
     "name": "stdout",
     "output_type": "stream",
     "text": [
      "Sixth Run - 1828\n",
      "Third Run - 1864\n"
     ]
    }
   ],
   "source": [
    "# count the number of trues for both runs\n",
    "longer_beginning_count = len(results_df[results_df.longer_beginning == True])\n",
    "longer_beginning_count_old = len(old_results_df[old_results_df.longer_beginning == True])\n",
    "\n",
    "print(\"Sixth Run - \" + str(longer_beginning_count))\n",
    "print(\"Third Run - \" + str(longer_beginning_count_old))"
   ]
  },
  {
   "cell_type": "markdown",
   "metadata": {},
   "source": [
    "The sixth run categorized slightly less notebooks as having a longer markdown cell in the beginning of the notebook\n",
    "\n",
    "**Note (TODO): extract and verify the notebooks for which the output differed between the two runs**"
   ]
  },
  {
   "cell_type": "code",
   "execution_count": 34,
   "metadata": {
    "scrolled": true
   },
   "outputs": [
    {
     "data": {
      "image/png": "[encoded data removed]",
      "text/plain": [
       "<Figure size 432x288 with 1 Axes>"
      ]
     },
     "metadata": {
      "needs_background": "light"
     },
     "output_type": "display_data"
    }
   ],
   "source": [
    "# clean the data\n",
    "longer_ending = clean_column('longer_ending', results_df)\n",
    "\n",
    "# plot the data\n",
    "ending_plot = sns.countplot(x='longer_ending', data=longer_ending)\n",
    "\n",
    "# fix appearance\n",
    "temp = ending_plot.set(title = \"Sixth Run - Longer Markdown Cells @ the End\")"
   ]
  },
  {
   "cell_type": "code",
   "execution_count": 36,
   "metadata": {
    "scrolled": true
   },
   "outputs": [
    {
     "data": {
      "image/png": "[encoded data removed]",
      "text/plain": [
       "<Figure size 432x288 with 1 Axes>"
      ]
     },
     "metadata": {
      "needs_background": "light"
     },
     "output_type": "display_data"
    }
   ],
   "source": [
    "# repeat the same for old results\n",
    "longer_ending_old = clean_column('longer_ending', old_results_df)\n",
    "ending_old_plot = sns.countplot(x='longer_ending',data=longer_ending_old)\n",
    "temp = ending_old_plot.set(title = \"Third Run - Longer Markdown Cells @ the End\")"
   ]
  },
  {
   "cell_type": "code",
   "execution_count": 40,
   "metadata": {},
   "outputs": [
    {
     "name": "stdout",
     "output_type": "stream",
     "text": [
      "Sixth Run - 1070\n",
      "Third Run - 1061\n"
     ]
    }
   ],
   "source": [
    "# count the number of trues for both runs\n",
    "longer_ending_count = len(results_df[results_df.longer_ending == True])\n",
    "longer_ending_count_old = len(old_results_df[old_results_df.longer_ending == True])\n",
    "\n",
    "print(\"Sixth Run - \" + str(longer_ending_count))\n",
    "print(\"Third Run - \" + str(longer_ending_count_old))"
   ]
  },
  {
   "cell_type": "markdown",
   "metadata": {},
   "source": [
    "The sixth run categorized very slightly more notebooks as having a longer markdown cell at the end of the notebook.\n",
    "\n",
    "**Note (TODO): same as above, extract and verify the differences**"
   ]
  },
  {
   "cell_type": "markdown",
   "metadata": {},
   "source": [
    "### Author Detection"
   ]
  },
  {
   "cell_type": "code",
   "execution_count": 38,
   "metadata": {
    "scrolled": true
   },
   "outputs": [
    {
     "data": {
      "image/png": "[encoded data removed]",
      "text/plain": [
       "<Figure size 432x288 with 1 Axes>"
      ]
     },
     "metadata": {
      "needs_background": "light"
     },
     "output_type": "display_data"
    }
   ],
   "source": [
    "# clean the data\n",
    "has_author = clean_column('has_author', results_df)\n",
    "\n",
    "# plot the data\n",
    "has_author_plot = sns.countplot(x='has_author', data=has_author)\n",
    "\n",
    "# fix appearance\n",
    "temp = has_author_plot.set(title = \"Sixth Run - Author\")"
   ]
  },
  {
   "cell_type": "code",
   "execution_count": 39,
   "metadata": {
    "scrolled": true
   },
   "outputs": [
    {
     "data": {
      "image/png": "[encoded data removed]",
      "text/plain": [
       "<Figure size 432x288 with 1 Axes>"
      ]
     },
     "metadata": {
      "needs_background": "light"
     },
     "output_type": "display_data"
    }
   ],
   "source": [
    "# repeat the same for old results\n",
    "has_author_old = clean_column('has_author', old_results_df)\n",
    "has_author_old_plot = sns.countplot(x='has_author',data=has_author_old)\n",
    "temp = has_author_old_plot.set(title = \"Third Run - Author\")"
   ]
  },
  {
   "cell_type": "markdown",
   "metadata": {},
   "source": [
    "The sixth run categorized less notebooks as having an author; this makes sense, since many false positives were detected in the old results as usernames were being detected in links and filepaths."
   ]
  },
  {
   "cell_type": "markdown",
   "metadata": {},
   "source": [
    "### Educational Notebooks"
   ]
  },
  {
   "cell_type": "code",
   "execution_count": 42,
   "metadata": {
    "scrolled": false
   },
   "outputs": [
    {
     "data": {
      "image/png": "[encoded data removed]",
      "text/plain": [
       "<Figure size 432x288 with 1 Axes>"
      ]
     },
     "metadata": {
      "needs_background": "light"
     },
     "output_type": "display_data"
    }
   ],
   "source": [
    "# clean the data\n",
    "is_education = clean_column('is_education', results_df)\n",
    "\n",
    "# plot the data\n",
    "is_education_plot = sns.countplot(x='is_education', data=is_education)\n",
    "\n",
    "# fix appearance\n",
    "temp = is_education_plot.set(title = \"Sixth Run - Educational Notebooks\")"
   ]
  },
  {
   "cell_type": "code",
   "execution_count": 43,
   "metadata": {
    "scrolled": false
   },
   "outputs": [
    {
     "data": {
      "image/png": "[encoded data removed]",
      "text/plain": [
       "<Figure size 432x288 with 1 Axes>"
      ]
     },
     "metadata": {
      "needs_background": "light"
     },
     "output_type": "display_data"
    }
   ],
   "source": [
    "# repeat the same for old results\n",
    "is_education_old = clean_column('is_education', old_results_df)\n",
    "is_education_old_plot = sns.countplot(x='is_education',data=is_education_old)\n",
    "temp = is_education_old_plot.set(title = \"Third Run - Educational Notebooks\")"
   ]
  },
  {
   "cell_type": "markdown",
   "metadata": {},
   "source": [
    "The sixth run categorized more notebooks as having an educational purpose; this makes sense, since the script was adjusted to be case insensitive when checking for educational keywords."
   ]
  },
  {
   "cell_type": "markdown",
   "metadata": {},
   "source": [
    "### Language"
   ]
  },
  {
   "cell_type": "code",
   "execution_count": 47,
   "metadata": {},
   "outputs": [
    {
     "data": {
      "image/png": "[encoded data removed]",
      "text/plain": [
       "<Figure size 432x288 with 1 Axes>"
      ]
     },
     "metadata": {
      "needs_background": "light"
     },
     "output_type": "display_data"
    }
   ],
   "source": [
    "# clean the data\n",
    "languages = clean_column('language', results_df)\n",
    "\n",
    "# create a bar plot of the languages column\n",
    "languages_plot = sns.countplot(x='language', data=languages)\n",
    "\n",
    "# fix the appearance of the bar plot \n",
    "temp = languages_plot.set_xticklabels(languages_plot.get_xticklabels(), rotation=60, ha=\"right\")\n",
    "temp = languages_plot.set(title = \"Sixth Run - Languages\")"
   ]
  },
  {
   "cell_type": "code",
   "execution_count": 48,
   "metadata": {
    "scrolled": true
   },
   "outputs": [
    {
     "data": {
      "image/png": "[encoded data removed]",
      "text/plain": [
       "<Figure size 432x288 with 1 Axes>"
      ]
     },
     "metadata": {
      "needs_background": "light"
     },
     "output_type": "display_data"
    }
   ],
   "source": [
    "# repeat the same for old results\n",
    "languages_old = clean_column('language', old_results_df)\n",
    "languages_old_plot = sns.countplot(x='language', data=languages_old)\n",
    "temp = languages_old_plot.set_xticklabels(languages_old_plot.get_xticklabels(), rotation=60, ha=\"right\")\n",
    "temp = languages_old_plot.set(title = \"Third Run - Languages\")"
   ]
  },
  {
   "cell_type": "markdown",
   "metadata": {},
   "source": [
    "We can see the results of using the `name` of the `kernelspec` as a fallback: we're getting \"duplicate\" results, notably `python`, `python2`, `python3`, and `python3_mydev`. \n",
    "\n",
    "If we end up filtering out the Python notebooks in the future, it will be important to include these notebooks."
   ]
  },
  {
   "cell_type": "markdown",
   "metadata": {},
   "source": [
    "# Analyzing New Features\n",
    "\n",
    "Analyzing the data obtained from running the new feature scripts on the dataset (`github2017-sixth-run.csv)"
   ]
  },
  {
   "cell_type": "markdown",
   "metadata": {},
   "source": [
    "## Loading the .csv file\n",
    "\n",
    "The `.csv` file was already loaded in the previous section, so we simply take an initial look at the data again"
   ]
  },
  {
   "cell_type": "code",
   "execution_count": 45,
   "metadata": {},
   "outputs": [
    {
     "data": {
      "text/html": [
       "<div>\n",
       "<style scoped>\n",
       "    .dataframe tbody tr th:only-of-type {\n",
       "        vertical-align: middle;\n",
       "    }\n",
       "\n",
       "    .dataframe tbody tr th {\n",
       "        vertical-align: top;\n",
       "    }\n",
       "\n",
       "    .dataframe thead th {\n",
       "        text-align: right;\n",
       "    }\n",
       "</style>\n",
       "<table border=\"1\" class=\"dataframe\">\n",
       "  <thead>\n",
       "    <tr style=\"text-align: right;\">\n",
       "      <th></th>\n",
       "      <th>nb_id</th>\n",
       "      <th>repo_id</th>\n",
       "      <th>longer_beginning</th>\n",
       "      <th>longer_ending</th>\n",
       "      <th>has_author</th>\n",
       "      <th>is_education</th>\n",
       "      <th>language</th>\n",
       "      <th>has_links</th>\n",
       "      <th>has_comments</th>\n",
       "    </tr>\n",
       "  </thead>\n",
       "  <tbody>\n",
       "    <tr>\n",
       "      <th>0</th>\n",
       "      <td>900493</td>\n",
       "      <td>85972539</td>\n",
       "      <td>NaN</td>\n",
       "      <td>NaN</td>\n",
       "      <td>False</td>\n",
       "      <td>False</td>\n",
       "      <td>python</td>\n",
       "      <td>NaN</td>\n",
       "      <td>False</td>\n",
       "    </tr>\n",
       "    <tr>\n",
       "      <th>1</th>\n",
       "      <td>322852</td>\n",
       "      <td>45655960</td>\n",
       "      <td>False</td>\n",
       "      <td>False</td>\n",
       "      <td>False</td>\n",
       "      <td>False</td>\n",
       "      <td>python</td>\n",
       "      <td>False</td>\n",
       "      <td>False</td>\n",
       "    </tr>\n",
       "    <tr>\n",
       "      <th>2</th>\n",
       "      <td>457759</td>\n",
       "      <td>27685708</td>\n",
       "      <td>True</td>\n",
       "      <td>False</td>\n",
       "      <td>False</td>\n",
       "      <td>False</td>\n",
       "      <td>python</td>\n",
       "      <td>False</td>\n",
       "      <td>False</td>\n",
       "    </tr>\n",
       "    <tr>\n",
       "      <th>3</th>\n",
       "      <td>672138</td>\n",
       "      <td>92749043</td>\n",
       "      <td>False</td>\n",
       "      <td>False</td>\n",
       "      <td>False</td>\n",
       "      <td>False</td>\n",
       "      <td>python</td>\n",
       "      <td>True</td>\n",
       "      <td>True</td>\n",
       "    </tr>\n",
       "    <tr>\n",
       "      <th>4</th>\n",
       "      <td>103154</td>\n",
       "      <td>30734070</td>\n",
       "      <td>False</td>\n",
       "      <td>False</td>\n",
       "      <td>False</td>\n",
       "      <td>False</td>\n",
       "      <td>python</td>\n",
       "      <td>False</td>\n",
       "      <td>False</td>\n",
       "    </tr>\n",
       "  </tbody>\n",
       "</table>\n",
       "</div>"
      ],
      "text/plain": [
       "    nb_id   repo_id longer_beginning longer_ending has_author is_education  \\\n",
       "0  900493  85972539              NaN           NaN      False        False   \n",
       "1  322852  45655960            False         False      False        False   \n",
       "2  457759  27685708             True         False      False        False   \n",
       "3  672138  92749043            False         False      False        False   \n",
       "4  103154  30734070            False         False      False        False   \n",
       "\n",
       "  language has_links has_comments  \n",
       "0   python       NaN        False  \n",
       "1   python     False        False  \n",
       "2   python     False        False  \n",
       "3   python      True         True  \n",
       "4   python     False        False  "
      ]
     },
     "execution_count": 45,
     "metadata": {},
     "output_type": "execute_result"
    }
   ],
   "source": [
    "results_df.head()"
   ]
  },
  {
   "cell_type": "markdown",
   "metadata": {},
   "source": [
    "The new features for this run are:\n",
    "\n",
    "- `has_links`: uses a regex to detect links in markdown cells\n",
    "- `has_comments`: (only for python notebooks) uses a comment parser to see if the code has comments"
   ]
  },
  {
   "cell_type": "markdown",
   "metadata": {},
   "source": [
    "## Plotting and Cleaning the Data"
   ]
  },
  {
   "cell_type": "markdown",
   "metadata": {},
   "source": [
    "### Links"
   ]
  },
  {
   "cell_type": "code",
   "execution_count": 50,
   "metadata": {
    "scrolled": true
   },
   "outputs": [
    {
     "data": {
      "image/png": "[encoded data removed]",
      "text/plain": [
       "<Figure size 432x288 with 1 Axes>"
      ]
     },
     "metadata": {
      "needs_background": "light"
     },
     "output_type": "display_data"
    }
   ],
   "source": [
    "# clean the data\n",
    "has_links = clean_column('has_links', results_df)\n",
    "\n",
    "# plot the data\n",
    "has_links_plot = sns.countplot(x='has_links', data=has_links)\n",
    "\n",
    "# fix appearance\n",
    "temp = has_links_plot.set(title = \"Links\")"
   ]
  },
  {
   "cell_type": "markdown",
   "metadata": {},
   "source": [
    "### Comments"
   ]
  },
  {
   "cell_type": "code",
   "execution_count": 51,
   "metadata": {},
   "outputs": [
    {
     "data": {
      "image/png": "[encoded data removed]",
      "text/plain": [
       "<Figure size 432x288 with 1 Axes>"
      ]
     },
     "metadata": {
      "needs_background": "light"
     },
     "output_type": "display_data"
    }
   ],
   "source": [
    "# clean the data\n",
    "has_comments = clean_column('has_comments', results_df)\n",
    "\n",
    "# plot the data\n",
    "has_comments_plot = sns.countplot(x='has_comments', data=has_comments)\n",
    "\n",
    "# fix appearance\n",
    "temp = has_comments_plot.set(title = \"Comments\")"
   ]
  },
  {
   "cell_type": "markdown",
   "metadata": {},
   "source": [
    "The majority of notebooks did have comments in their code. However, whether these comments are descriptive or just commented-out code is not known at this point; the next run should test a feature that detects commented-out code.\n",
    "\n",
    "**Note (TODO): once the script to detect commented-out code is ready, see how many of these notebooks with comments only have commented-out code, and no descriptive code comments**"
   ]
  }
 ],
 "metadata": {
  "kernelspec": {
   "display_name": "Python 2",
   "language": "python",
   "name": "python2"
  },
  "language_info": {
   "codemirror_mode": {
    "name": "ipython",
    "version": 2
   },
   "file_extension": ".py",
   "mimetype": "text/x-python",
   "name": "python",
   "nbconvert_exporter": "python",
   "pygments_lexer": "ipython2",
   "version": "2.7.17"
  }
 },
 "nbformat": 4,
 "nbformat_minor": 2
}
