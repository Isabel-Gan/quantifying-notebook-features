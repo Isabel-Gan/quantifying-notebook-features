{
 "cells": [
  {
   "cell_type": "markdown",
   "metadata": {},
   "source": [
    "# Imports"
   ]
  },
  {
   "cell_type": "code",
   "execution_count": 53,
   "metadata": {},
   "outputs": [],
   "source": [
    "import pandas as pd\n",
    "import seaborn as sns\n",
    "import matplotlib as plt"
   ]
  },
  {
   "cell_type": "markdown",
   "metadata": {},
   "source": [
    "# Analyzing Errors\n",
    "\n",
    "Analyzing the notebooks that ran into various errors while the script was executing (`github2017-third-errors.csv`)"
   ]
  },
  {
   "cell_type": "markdown",
   "metadata": {},
   "source": [
    "## Loading the .csv file"
   ]
  },
  {
   "cell_type": "code",
   "execution_count": 54,
   "metadata": {},
   "outputs": [
    {
     "data": {
      "text/html": [
       "<div>\n",
       "<style scoped>\n",
       "    .dataframe tbody tr th:only-of-type {\n",
       "        vertical-align: middle;\n",
       "    }\n",
       "\n",
       "    .dataframe tbody tr th {\n",
       "        vertical-align: top;\n",
       "    }\n",
       "\n",
       "    .dataframe thead th {\n",
       "        text-align: right;\n",
       "    }\n",
       "</style>\n",
       "<table border=\"1\" class=\"dataframe\">\n",
       "  <thead>\n",
       "    <tr style=\"text-align: right;\">\n",
       "      <th></th>\n",
       "      <th>nb_id</th>\n",
       "      <th>repo_id</th>\n",
       "      <th>err_in</th>\n",
       "    </tr>\n",
       "  </thead>\n",
       "  <tbody>\n",
       "    <tr>\n",
       "      <th>0</th>\n",
       "      <td>116896</td>\n",
       "      <td>66478811</td>\n",
       "      <td>language</td>\n",
       "    </tr>\n",
       "    <tr>\n",
       "      <th>1</th>\n",
       "      <td>329885</td>\n",
       "      <td>34647497</td>\n",
       "      <td>language</td>\n",
       "    </tr>\n",
       "    <tr>\n",
       "      <th>2</th>\n",
       "      <td>408548</td>\n",
       "      <td>93282436</td>\n",
       "      <td>api</td>\n",
       "    </tr>\n",
       "    <tr>\n",
       "      <th>3</th>\n",
       "      <td>484614</td>\n",
       "      <td>95004508</td>\n",
       "      <td>no_code</td>\n",
       "    </tr>\n",
       "    <tr>\n",
       "      <th>4</th>\n",
       "      <td>806977</td>\n",
       "      <td>93647670</td>\n",
       "      <td>api</td>\n",
       "    </tr>\n",
       "  </tbody>\n",
       "</table>\n",
       "</div>"
      ],
      "text/plain": [
       "    nb_id   repo_id    err_in\n",
       "0  116896  66478811  language\n",
       "1  329885  34647497  language\n",
       "2  408548  93282436       api\n",
       "3  484614  95004508   no_code\n",
       "4  806977  93647670       api"
      ]
     },
     "execution_count": 54,
     "metadata": {},
     "output_type": "execute_result"
    }
   ],
   "source": [
    "errors_filepath = 'github2017-third-errors.csv'\n",
    "errors_df = pd.read_csv(errors_filepath)\n",
    "\n",
    "# initial look at the data\n",
    "errors_df.head()"
   ]
  },
  {
   "cell_type": "markdown",
   "metadata": {},
   "source": [
    "The `errors.csv` file has 3 columns, storing the notebook id, repository id, and the error associated with that notebook (see the README in the parent directory for interpretation."
   ]
  },
  {
   "cell_type": "markdown",
   "metadata": {},
   "source": [
    "## Plotting the error data"
   ]
  },
  {
   "cell_type": "code",
   "execution_count": 55,
   "metadata": {},
   "outputs": [
    {
     "data": {
      "image/png": "[encoded data removed]",
      "text/plain": [
       "<Figure size 432x288 with 1 Axes>"
      ]
     },
     "metadata": {
      "needs_background": "light"
     },
     "output_type": "display_data"
    }
   ],
   "source": [
    "# create a bar plot of the errors column\n",
    "error_plot = sns.countplot(x='err_in', data=errors_df)\n",
    "\n",
    "# fix the appearance of the bar plot (we put these under temp variables to hide the text)\n",
    "temp = error_plot.set_xticklabels(error_plot.get_xticklabels(), rotation=60, ha=\"right\")\n",
    "temp = error_plot.set(title = \"Notebook Errors\")"
   ]
  },
  {
   "cell_type": "markdown",
   "metadata": {},
   "source": [
    "The vast majority of errors were due to a non-responsive API; this means that the link leading to the repository or notebook file has become invalid. This can happen due to the repository/file being deleted, the repository being made private, etc.\n",
    "\n",
    "The other more common errors are `language`, `no_code`, and `has_author`. Very few notebook files were \"malformed\" (the low frequency of `nb_file` errors.\n",
    "\n",
    "The extremely small frequency of the rest of the errors (`longer_beginning`, `longer_ending`, etc.) was caused by a small bug in the code: some cells did not have a `source` attribute. This bug was fixed."
   ]
  },
  {
   "cell_type": "markdown",
   "metadata": {},
   "source": [
    "# Analyzing Features\n",
    "\n",
    "Analyzing the data obtained from running the feature scripts on the dataset (`github2017-third-run.csv`)"
   ]
  },
  {
   "cell_type": "markdown",
   "metadata": {},
   "source": [
    "## Loading the .csv file"
   ]
  },
  {
   "cell_type": "code",
   "execution_count": 56,
   "metadata": {
    "scrolled": true
   },
   "outputs": [
    {
     "data": {
      "text/html": [
       "<div>\n",
       "<style scoped>\n",
       "    .dataframe tbody tr th:only-of-type {\n",
       "        vertical-align: middle;\n",
       "    }\n",
       "\n",
       "    .dataframe tbody tr th {\n",
       "        vertical-align: top;\n",
       "    }\n",
       "\n",
       "    .dataframe thead th {\n",
       "        text-align: right;\n",
       "    }\n",
       "</style>\n",
       "<table border=\"1\" class=\"dataframe\">\n",
       "  <thead>\n",
       "    <tr style=\"text-align: right;\">\n",
       "      <th></th>\n",
       "      <th>nb_id</th>\n",
       "      <th>repo_id</th>\n",
       "      <th>longer_beginning</th>\n",
       "      <th>longer_ending</th>\n",
       "      <th>has_author</th>\n",
       "      <th>has_equation</th>\n",
       "      <th>jupyter_prop</th>\n",
       "      <th>output_cell_prop</th>\n",
       "      <th>markdown_prop</th>\n",
       "      <th>num_contrib</th>\n",
       "      <th>image_prop</th>\n",
       "      <th>e_keywords</th>\n",
       "      <th>p_keywords</th>\n",
       "      <th>s_keywords</th>\n",
       "      <th>is_education</th>\n",
       "      <th>language</th>\n",
       "    </tr>\n",
       "  </thead>\n",
       "  <tbody>\n",
       "    <tr>\n",
       "      <th>0</th>\n",
       "      <td>900493</td>\n",
       "      <td>85972539</td>\n",
       "      <td>NaN</td>\n",
       "      <td>NaN</td>\n",
       "      <td>False</td>\n",
       "      <td>NaN</td>\n",
       "      <td>0.991818</td>\n",
       "      <td>0.400000</td>\n",
       "      <td>0.000000</td>\n",
       "      <td>3</td>\n",
       "      <td>0.500000</td>\n",
       "      <td>0.0</td>\n",
       "      <td>0.0</td>\n",
       "      <td>0.0</td>\n",
       "      <td>False</td>\n",
       "      <td>python</td>\n",
       "    </tr>\n",
       "    <tr>\n",
       "      <th>1</th>\n",
       "      <td>322852</td>\n",
       "      <td>45655960</td>\n",
       "      <td>False</td>\n",
       "      <td>False</td>\n",
       "      <td>False</td>\n",
       "      <td>False</td>\n",
       "      <td>0.029944</td>\n",
       "      <td>0.000000</td>\n",
       "      <td>0.400000</td>\n",
       "      <td>2</td>\n",
       "      <td>NaN</td>\n",
       "      <td>0.0</td>\n",
       "      <td>1.0</td>\n",
       "      <td>0.0</td>\n",
       "      <td>False</td>\n",
       "      <td>python</td>\n",
       "    </tr>\n",
       "    <tr>\n",
       "      <th>2</th>\n",
       "      <td>457759</td>\n",
       "      <td>27685708</td>\n",
       "      <td>True</td>\n",
       "      <td>False</td>\n",
       "      <td>False</td>\n",
       "      <td>False</td>\n",
       "      <td>NaN</td>\n",
       "      <td>0.666667</td>\n",
       "      <td>0.250000</td>\n",
       "      <td>1</td>\n",
       "      <td>1.000000</td>\n",
       "      <td>0.0</td>\n",
       "      <td>0.0</td>\n",
       "      <td>1.0</td>\n",
       "      <td>False</td>\n",
       "      <td>python</td>\n",
       "    </tr>\n",
       "    <tr>\n",
       "      <th>3</th>\n",
       "      <td>672138</td>\n",
       "      <td>92749043</td>\n",
       "      <td>True</td>\n",
       "      <td>False</td>\n",
       "      <td>False</td>\n",
       "      <td>False</td>\n",
       "      <td>1.000000</td>\n",
       "      <td>0.695652</td>\n",
       "      <td>0.080000</td>\n",
       "      <td>1</td>\n",
       "      <td>0.312500</td>\n",
       "      <td>0.0</td>\n",
       "      <td>0.0</td>\n",
       "      <td>0.0</td>\n",
       "      <td>False</td>\n",
       "      <td>python</td>\n",
       "    </tr>\n",
       "    <tr>\n",
       "      <th>4</th>\n",
       "      <td>103154</td>\n",
       "      <td>30734070</td>\n",
       "      <td>False</td>\n",
       "      <td>False</td>\n",
       "      <td>False</td>\n",
       "      <td>False</td>\n",
       "      <td>NaN</td>\n",
       "      <td>0.638393</td>\n",
       "      <td>0.257426</td>\n",
       "      <td>1</td>\n",
       "      <td>0.006993</td>\n",
       "      <td>1.0</td>\n",
       "      <td>0.0</td>\n",
       "      <td>0.0</td>\n",
       "      <td>False</td>\n",
       "      <td>python</td>\n",
       "    </tr>\n",
       "  </tbody>\n",
       "</table>\n",
       "</div>"
      ],
      "text/plain": [
       "    nb_id   repo_id longer_beginning longer_ending has_author has_equation  \\\n",
       "0  900493  85972539              NaN           NaN      False          NaN   \n",
       "1  322852  45655960            False         False      False        False   \n",
       "2  457759  27685708             True         False      False        False   \n",
       "3  672138  92749043             True         False      False        False   \n",
       "4  103154  30734070            False         False      False        False   \n",
       "\n",
       "   jupyter_prop  output_cell_prop  markdown_prop  num_contrib  image_prop  \\\n",
       "0      0.991818          0.400000       0.000000            3    0.500000   \n",
       "1      0.029944          0.000000       0.400000            2         NaN   \n",
       "2           NaN          0.666667       0.250000            1    1.000000   \n",
       "3      1.000000          0.695652       0.080000            1    0.312500   \n",
       "4           NaN          0.638393       0.257426            1    0.006993   \n",
       "\n",
       "   e_keywords  p_keywords  s_keywords is_education language  \n",
       "0         0.0         0.0         0.0        False   python  \n",
       "1         0.0         1.0         0.0        False   python  \n",
       "2         0.0         0.0         1.0        False   python  \n",
       "3         0.0         0.0         0.0        False   python  \n",
       "4         1.0         0.0         0.0        False   python  "
      ]
     },
     "execution_count": 56,
     "metadata": {},
     "output_type": "execute_result"
    }
   ],
   "source": [
    "results_filepath = 'github2017-third-run.csv'\n",
    "results_df = pd.read_csv(results_filepath)\n",
    "\n",
    "# initial look at the data\n",
    "results_df.head()"
   ]
  },
  {
   "cell_type": "markdown",
   "metadata": {},
   "source": [
    "Along with notebook and repository ID, the results of running 12 feature scripts are recorded. The new features for this run are:\n",
    "\n",
    "- `longer_beginning`: longer markdown cell(s) at the beginning of the notebook\n",
    "- `longer_ending`: longer markdown cell(s) at the end of the notebook\n",
    "- `has_author`: the notebook has an author name in a code or markdown cell\n",
    "- `has_equation`: the notebook uses equations (math mode) in a markdown cell\n",
    "- `jupyter_prop`: the proportion of code in the repository written in Jupyter Notebook\n",
    "- `output_cell_prop`: the proportion of code cells in the notebook that have output\n",
    "- `markdown_prop`: the proportion of cells in the notebook that are markdown cells\n",
    "- `num_contrib`: the number of contributors to the notebook's repository\n",
    "- `image_prop`: the proportion of output cells in the notebook that contain an image/table/graph\n",
    "- `e/p/s_keywords`: the number of exploratory, pipeline/production, and sharing keywords occurring in the notebook\n",
    "- `is_education`: the notebook has an educaitonal purpose\n",
    "- `language`: the programming language of the notebook\n",
    "\n",
    "We see that there are various `NaN` values scattered across the data; this means that, either:\n",
    "\n",
    "- the feature being measured was not applicable (ex. if there are no markdown cells (`markdown_prop = 0`), then it wouldn't make sense to measure their length, look for the use of equations, etc.)\n",
    "- an error occurred while the feature was being measured (ex. invalid user links with `has_author`)"
   ]
  },
  {
   "cell_type": "markdown",
   "metadata": {},
   "source": [
    "## Plotting and Cleaning the Data\n",
    "\n",
    "Before we plot each column separately, we want to filter out the `NaN` values\n"
   ]
  },
  {
   "cell_type": "code",
   "execution_count": 57,
   "metadata": {},
   "outputs": [],
   "source": [
    "def clean_column(field):\n",
    "    \n",
    "    # isolate the right columns\n",
    "    original = results_df[['nb_id', 'repo_id', field]]\n",
    "    \n",
    "    # filter out NaN rows\n",
    "    clean = original.dropna(subset = [field])\n",
    "    \n",
    "    # return the cleaned column\n",
    "    return clean "
   ]
  },
  {
   "cell_type": "markdown",
   "metadata": {},
   "source": [
    "### Proportion of Markdown Cells"
   ]
  },
  {
   "cell_type": "code",
   "execution_count": 58,
   "metadata": {},
   "outputs": [
    {
     "data": {
      "image/png": "[encoded data removed]",
      "text/plain": [
       "<Figure size 432x288 with 1 Axes>"
      ]
     },
     "metadata": {
      "needs_background": "light"
     },
     "output_type": "display_data"
    }
   ],
   "source": [
    "# no need to clean the column, there should be no instances of NaN\n",
    "markdown_prop = results_df[['nb_id', 'repo_id', 'markdown_prop']]\n",
    "\n",
    "# plot the data\n",
    "markdown_prop_plot = markdown_prop['markdown_prop'].plot(kind='hist')\n",
    "\n",
    "# set title\n",
    "temp = markdown_prop_plot.set_title('Markdown Cell Proportion')"
   ]
  },
  {
   "cell_type": "markdown",
   "metadata": {},
   "source": [
    "The majority of notebooks had less than half of their cells as markdown cells, while a significant number actually had a very little proportion of their cells be markdown cells."
   ]
  },
  {
   "cell_type": "markdown",
   "metadata": {},
   "source": [
    "### Longer Markdown Cells at the Beginning/End "
   ]
  },
  {
   "cell_type": "code",
   "execution_count": 59,
   "metadata": {
    "scrolled": true
   },
   "outputs": [
    {
     "data": {
      "image/png": "[encoded data removed]",
      "text/plain": [
       "<Figure size 432x288 with 1 Axes>"
      ]
     },
     "metadata": {
      "needs_background": "light"
     },
     "output_type": "display_data"
    }
   ],
   "source": [
    "# clean the data\n",
    "longer_beginning = clean_column('longer_beginning')\n",
    "\n",
    "# plot the data\n",
    "beginning_plot = sns.countplot(x='longer_beginning', data=longer_beginning)\n",
    "\n",
    "# fix appearance\n",
    "temp = beginning_plot.set(title = 'Longer Markdown Cells @ the Beginning')"
   ]
  },
  {
   "cell_type": "markdown",
   "metadata": {},
   "source": [
    "The number of notebooks with longer markdown cells at the beginning was very close to the number of those without longer markdown cells at the beginning"
   ]
  },
  {
   "cell_type": "code",
   "execution_count": 60,
   "metadata": {},
   "outputs": [
    {
     "data": {
      "image/png": "[encoded data removed]",
      "text/plain": [
       "<Figure size 432x288 with 1 Axes>"
      ]
     },
     "metadata": {
      "needs_background": "light"
     },
     "output_type": "display_data"
    }
   ],
   "source": [
    "# clean the data\n",
    "longer_ending = clean_column('longer_ending')\n",
    "\n",
    "# plot the data\n",
    "ending_plot = sns.countplot(x='longer_ending', data=longer_ending)\n",
    "\n",
    "# fix appearance\n",
    "temp = ending_plot.set(title = 'Longer Markdown Cells @ the End')"
   ]
  },
  {
   "cell_type": "markdown",
   "metadata": {},
   "source": [
    "It seems that the majority of notebooks did not have longer markdown cells at the end.\n",
    "\n",
    "**Note (TODO): it may be interesting to see whether those notebooks that had longer markdown cells at the beginning were also those that had longer markdown cells at the end**"
   ]
  },
  {
   "cell_type": "markdown",
   "metadata": {},
   "source": [
    "### Author and Equation Detection"
   ]
  },
  {
   "cell_type": "code",
   "execution_count": 61,
   "metadata": {},
   "outputs": [
    {
     "data": {
      "image/png": "[encoded data removed]",
      "text/plain": [
       "<Figure size 432x288 with 1 Axes>"
      ]
     },
     "metadata": {
      "needs_background": "light"
     },
     "output_type": "display_data"
    }
   ],
   "source": [
    "# clean the data\n",
    "has_author = clean_column('has_author')\n",
    "\n",
    "# plot the data\n",
    "has_author = sns.countplot(x='has_author', data=has_author)\n",
    "\n",
    "# fix appearance\n",
    "temp = has_author.set(title = 'Author')"
   ]
  },
  {
   "cell_type": "markdown",
   "metadata": {},
   "source": [
    "The vast majority of notebooks did not have an author.\n",
    "\n",
    "**Note: the script used to detect author is pretty shallow; it searches for instances of usernames and names of the author and contributors to the repository, but in most cases full, real names are not recorded or even used by the user. There are most likely many false negatives.**"
   ]
  },
  {
   "cell_type": "code",
   "execution_count": 62,
   "metadata": {},
   "outputs": [
    {
     "data": {
      "image/png": "[encoded data removed]",
      "text/plain": [
       "<Figure size 432x288 with 1 Axes>"
      ]
     },
     "metadata": {
      "needs_background": "light"
     },
     "output_type": "display_data"
    }
   ],
   "source": [
    "# clean the data\n",
    "has_equation = clean_column('has_equation')\n",
    "\n",
    "# plot the data\n",
    "has_equation = sns.countplot(x='has_equation', data=has_equation)\n",
    "\n",
    "# fix appearance\n",
    "temp = has_equation.set(title = 'Equations')"
   ]
  },
  {
   "cell_type": "markdown",
   "metadata": {},
   "source": [
    "Most notebooks did not include equations in their markdown cells."
   ]
  },
  {
   "cell_type": "markdown",
   "metadata": {},
   "source": [
    "### Proportion of Code Cells with Output"
   ]
  },
  {
   "cell_type": "code",
   "execution_count": 63,
   "metadata": {},
   "outputs": [
    {
     "data": {
      "image/png": "[encoded data removed]",
      "text/plain": [
       "<Figure size 432x288 with 1 Axes>"
      ]
     },
     "metadata": {
      "needs_background": "light"
     },
     "output_type": "display_data"
    }
   ],
   "source": [
    "# no need to clean the column, there should be no instances of NaN\n",
    "output_prop = results_df[['nb_id', 'repo_id', 'output_cell_prop']]\n",
    "\n",
    "# plot the data\n",
    "output_prop_plot = output_prop['output_cell_prop'].plot(kind='hist')\n",
    "\n",
    "# set title\n",
    "temp = output_prop_plot.set_title('Output Cell Proportion')"
   ]
  },
  {
   "cell_type": "markdown",
   "metadata": {},
   "source": [
    "Pretty mixed results, but most notebooks had at least half of their code cells display output of some kind, with a spike in notebooks that had very little of their code cells display output."
   ]
  },
  {
   "cell_type": "markdown",
   "metadata": {},
   "source": [
    "### Proportion of Output Cells with Images "
   ]
  },
  {
   "cell_type": "code",
   "execution_count": 64,
   "metadata": {
    "scrolled": true
   },
   "outputs": [
    {
     "data": {
      "image/png": "[encoded data removed]",
      "text/plain": [
       "<Figure size 432x288 with 1 Axes>"
      ]
     },
     "metadata": {
      "needs_background": "light"
     },
     "output_type": "display_data"
    }
   ],
   "source": [
    "# clean the data\n",
    "image_prop = clean_column('image_prop')\n",
    "\n",
    "# plot the data\n",
    "image_prop_plot = image_prop['image_prop'].plot(kind='hist')\n",
    "\n",
    "# set title\n",
    "temp = image_prop_plot.set_title('Output Cells with Images')"
   ]
  },
  {
   "cell_type": "markdown",
   "metadata": {},
   "source": [
    "Pretty even distribution, except a vast majority of notebooks had a very little proportion of output cells that contained images (tables or graphs)"
   ]
  },
  {
   "cell_type": "markdown",
   "metadata": {},
   "source": [
    "### Proportion of Repository Code in Jupyter Notebook"
   ]
  },
  {
   "cell_type": "code",
   "execution_count": 65,
   "metadata": {},
   "outputs": [
    {
     "data": {
      "image/png": "[encoded data removed]",
      "text/plain": [
       "<Figure size 432x288 with 1 Axes>"
      ]
     },
     "metadata": {
      "needs_background": "light"
     },
     "output_type": "display_data"
    }
   ],
   "source": [
    "# clean the data\n",
    "jupyter_prop = clean_column('jupyter_prop')\n",
    "\n",
    "# plot the data\n",
    "jupyter_prop_plot = jupyter_prop['jupyter_prop'].plot(kind='hist')\n",
    "\n",
    "# set title\n",
    "temp = jupyter_prop_plot.set_title('Jupyter Notebook Proportion')"
   ]
  },
  {
   "cell_type": "markdown",
   "metadata": {},
   "source": [
    "For the majority of notebooks, the majority of their repository was code written in Jupyter Notebook\n",
    "\n",
    "**Note (TODO): It might make more sense to analyze by repository for this one, since there are many instances of notebooks from the same repository**"
   ]
  },
  {
   "cell_type": "markdown",
   "metadata": {},
   "source": [
    "### Number of Contributors (to the Repository)"
   ]
  },
  {
   "cell_type": "code",
   "execution_count": 66,
   "metadata": {
    "scrolled": true
   },
   "outputs": [
    {
     "data": {
      "image/png": "[encoded data removed]",
      "text/plain": [
       "<Figure size 432x288 with 1 Axes>"
      ]
     },
     "metadata": {
      "needs_background": "light"
     },
     "output_type": "display_data"
    }
   ],
   "source": [
    "# no need to clean the column, there should be no instances of NaN\n",
    "num_contrib = results_df[['nb_id', 'repo_id', 'num_contrib']]\n",
    "\n",
    "# plot the data\n",
    "num_contrib_plot = num_contrib['num_contrib'].plot(kind='hist')\n",
    "\n",
    "# set title\n",
    "temp = num_contrib_plot.set_title('# of Contributors')"
   ]
  },
  {
   "cell_type": "markdown",
   "metadata": {},
   "source": [
    "The vast majority of repositories (of the notebooks) had very little contributors (0-5)\n",
    "\n",
    "**Note (TODO): It might make more sense to analyze by repository for this one, since there are many instances of notebooks from the same repository**"
   ]
  },
  {
   "cell_type": "markdown",
   "metadata": {},
   "source": [
    "### Keywords"
   ]
  },
  {
   "cell_type": "markdown",
   "metadata": {},
   "source": [
    "#### Exploratory Notebook Keywords"
   ]
  },
  {
   "cell_type": "code",
   "execution_count": 67,
   "metadata": {
    "scrolled": true
   },
   "outputs": [
    {
     "data": {
      "image/png": "[encoded data removed]",
      "text/plain": [
       "<Figure size 432x288 with 1 Axes>"
      ]
     },
     "metadata": {
      "needs_background": "light"
     },
     "output_type": "display_data"
    }
   ],
   "source": [
    "# no need to clean the column, there should be no instances of NaN\n",
    "e_keywords = results_df[['nb_id', 'repo_id', 'e_keywords']]\n",
    "\n",
    "# plot the data\n",
    "e_keywords_plot = e_keywords['e_keywords'].plot(kind='hist')\n",
    "\n",
    "# set title\n",
    "temp = e_keywords_plot.set_title('Exploratory Keywords')"
   ]
  },
  {
   "cell_type": "markdown",
   "metadata": {},
   "source": [
    "#### Pipeline/Production Notebook Keywords"
   ]
  },
  {
   "cell_type": "code",
   "execution_count": 68,
   "metadata": {},
   "outputs": [
    {
     "data": {
      "image/png": "[encoded data removed]",
      "text/plain": [
       "<Figure size 432x288 with 1 Axes>"
      ]
     },
     "metadata": {
      "needs_background": "light"
     },
     "output_type": "display_data"
    }
   ],
   "source": [
    "# no need to clean the column, there should be no instances of NaN\n",
    "p_keywords = results_df[['nb_id', 'repo_id', 'p_keywords']]\n",
    "\n",
    "# plot the data\n",
    "p_keywords_plot = p_keywords['p_keywords'].plot(kind='hist')\n",
    "\n",
    "# set title\n",
    "temp = p_keywords_plot.set_title('Pipeline/Production Keywords')"
   ]
  },
  {
   "cell_type": "markdown",
   "metadata": {},
   "source": [
    "#### Sharing Notebook Keywords"
   ]
  },
  {
   "cell_type": "code",
   "execution_count": 69,
   "metadata": {
    "scrolled": true
   },
   "outputs": [
    {
     "data": {
      "image/png": "[encoded data removed]",
      "text/plain": [
       "<Figure size 432x288 with 1 Axes>"
      ]
     },
     "metadata": {
      "needs_background": "light"
     },
     "output_type": "display_data"
    }
   ],
   "source": [
    "# no need to clean the column, there should be no instances of NaN\n",
    "s_keywords = results_df[['nb_id', 'repo_id', 's_keywords']]\n",
    "\n",
    "# plot the data\n",
    "s_keywords_plot = s_keywords['s_keywords'].plot(kind='hist')\n",
    "\n",
    "# set title\n",
    "temp = s_keywords_plot.set_title('Sharing Keywords')"
   ]
  },
  {
   "cell_type": "markdown",
   "metadata": {},
   "source": [
    "It seems that more notebooks contained more instances of exploratory keywords, then sharing, then very little pipeline/production keywords. \n",
    "\n",
    "**Note: this is probably due to the fact that that is also the order of number of keywords I had recorded for each category.**"
   ]
  },
  {
   "cell_type": "markdown",
   "metadata": {},
   "source": [
    "### Language"
   ]
  },
  {
   "cell_type": "code",
   "execution_count": 70,
   "metadata": {
    "scrolled": true
   },
   "outputs": [
    {
     "data": {
      "image/png": "[encoded data removed]",
      "text/plain": [
       "<Figure size 432x288 with 1 Axes>"
      ]
     },
     "metadata": {
      "needs_background": "light"
     },
     "output_type": "display_data"
    }
   ],
   "source": [
    "# clean the data\n",
    "languages = clean_column('language')\n",
    "\n",
    "# create a bar plot of the languages column\n",
    "languages_plot = sns.countplot(x='language', data=languages)\n",
    "\n",
    "# fix the appearance of the bar plot (we put these under temp variables to hide the text)\n",
    "temp = languages_plot.set_xticklabels(languages_plot.get_xticklabels(), rotation=60, ha=\"right\")\n",
    "temp = languages_plot.set(title = \"Languages\")"
   ]
  },
  {
   "cell_type": "markdown",
   "metadata": {},
   "source": [
    "The vast majority of notebooks were coded in Python.\n",
    "\n",
    "**Note (TODO): based on the huge proportion of notebooks written in Python, it may be worth to just filter the non-Python notebooks out? not sure if this will have an effect on future analysis at all**"
   ]
  },
  {
   "cell_type": "markdown",
   "metadata": {},
   "source": [
    "### Educational Notebooks"
   ]
  },
  {
   "cell_type": "code",
   "execution_count": 71,
   "metadata": {
    "scrolled": true
   },
   "outputs": [
    {
     "data": {
      "image/png": "[encoded data removed]",
      "text/plain": [
       "<Figure size 432x288 with 1 Axes>"
      ]
     },
     "metadata": {
      "needs_background": "light"
     },
     "output_type": "display_data"
    }
   ],
   "source": [
    "# clean the data\n",
    "is_education = clean_column('is_education')\n",
    "\n",
    "# plot the data\n",
    "is_education = sns.countplot(x='is_education', data=is_education)\n",
    "\n",
    "# fix appearance\n",
    "temp = is_education.set(title = 'Educational Notebooks')"
   ]
  },
  {
   "cell_type": "markdown",
   "metadata": {},
   "source": [
    "Most of the notebooks were not educational (homework, quizzes, tutorials, etc.), but a significant number did have an educational purpose.\n",
    "\n",
    "**Note (TODO): It may be interesting to do separate analysis on the educational notebooks alone.**"
   ]
  }
 ],
 "metadata": {
  "kernelspec": {
   "display_name": "Python 2",
   "language": "python",
   "name": "python2"
  },
  "language_info": {
   "codemirror_mode": {
    "name": "ipython",
    "version": 2
   },
   "file_extension": ".py",
   "mimetype": "text/x-python",
   "name": "python",
   "nbconvert_exporter": "python",
   "pygments_lexer": "ipython2",
   "version": "2.7.17"
  }
 },
 "nbformat": 4,
 "nbformat_minor": 2
}
