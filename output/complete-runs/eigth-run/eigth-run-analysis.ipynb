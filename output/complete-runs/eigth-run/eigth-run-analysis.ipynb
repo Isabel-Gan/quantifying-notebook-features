{
 "cells": [
  {
   "cell_type": "markdown",
   "metadata": {},
   "source": [
    "# Imports"
   ]
  },
  {
   "cell_type": "code",
   "execution_count": 2,
   "metadata": {},
   "outputs": [],
   "source": [
    "import pandas as pd\n",
    "import seaborn as sns\n",
    "import matplotlib as plt"
   ]
  },
  {
   "cell_type": "markdown",
   "metadata": {},
   "source": [
    "# Analyzing Errors\n",
    "\n",
    "Analyzing the notebooks that ran into various errors while the script was executing (`github2017-eighth-errors.csv`)"
   ]
  },
  {
   "cell_type": "markdown",
   "metadata": {},
   "source": [
    "## Loading the .csv file"
   ]
  },
  {
   "cell_type": "code",
   "execution_count": 3,
   "metadata": {},
   "outputs": [
    {
     "data": {
      "text/html": [
       "<div>\n",
       "<style scoped>\n",
       "    .dataframe tbody tr th:only-of-type {\n",
       "        vertical-align: middle;\n",
       "    }\n",
       "\n",
       "    .dataframe tbody tr th {\n",
       "        vertical-align: top;\n",
       "    }\n",
       "\n",
       "    .dataframe thead th {\n",
       "        text-align: right;\n",
       "    }\n",
       "</style>\n",
       "<table border=\"1\" class=\"dataframe\">\n",
       "  <thead>\n",
       "    <tr style=\"text-align: right;\">\n",
       "      <th></th>\n",
       "      <th>nb_id</th>\n",
       "      <th>repo_id</th>\n",
       "      <th>err_in</th>\n",
       "    </tr>\n",
       "  </thead>\n",
       "  <tbody>\n",
       "    <tr>\n",
       "      <th>0</th>\n",
       "      <td>408548</td>\n",
       "      <td>93282436</td>\n",
       "      <td>api</td>\n",
       "    </tr>\n",
       "    <tr>\n",
       "      <th>1</th>\n",
       "      <td>484614</td>\n",
       "      <td>95004508</td>\n",
       "      <td>no_code</td>\n",
       "    </tr>\n",
       "    <tr>\n",
       "      <th>2</th>\n",
       "      <td>806977</td>\n",
       "      <td>93647670</td>\n",
       "      <td>api</td>\n",
       "    </tr>\n",
       "    <tr>\n",
       "      <th>3</th>\n",
       "      <td>160930</td>\n",
       "      <td>29998194</td>\n",
       "      <td>api</td>\n",
       "    </tr>\n",
       "    <tr>\n",
       "      <th>4</th>\n",
       "      <td>964194</td>\n",
       "      <td>72123088</td>\n",
       "      <td>api</td>\n",
       "    </tr>\n",
       "  </tbody>\n",
       "</table>\n",
       "</div>"
      ],
      "text/plain": [
       "    nb_id   repo_id   err_in\n",
       "0  408548  93282436      api\n",
       "1  484614  95004508  no_code\n",
       "2  806977  93647670      api\n",
       "3  160930  29998194      api\n",
       "4  964194  72123088      api"
      ]
     },
     "execution_count": 3,
     "metadata": {},
     "output_type": "execute_result"
    }
   ],
   "source": [
    "errors_filepath = 'github2017-eigth-errors.csv'\n",
    "errors_df = pd.read_csv(errors_filepath)\n",
    "\n",
    "# initial look at the data\n",
    "errors_df.head()"
   ]
  },
  {
   "cell_type": "markdown",
   "metadata": {},
   "source": [
    "## Plotting the error data"
   ]
  },
  {
   "cell_type": "code",
   "execution_count": 4,
   "metadata": {},
   "outputs": [
    {
     "data": {
      "image/png": "[encoded data removed]",
      "text/plain": [
       "<Figure size 432x288 with 1 Axes>"
      ]
     },
     "metadata": {
      "needs_background": "light"
     },
     "output_type": "display_data"
    }
   ],
   "source": [
    "# create a bar plot of the errors column\n",
    "error_plot = sns.countplot(x='err_in', data=errors_df)\n",
    "\n",
    "# fix the appearance of the bar plot\n",
    "temp = error_plot.set_xticklabels(error_plot.get_xticklabels(), rotation=60, ha=\"right\")\n",
    "temp = error_plot.set(title = \"Notebook Errors\")"
   ]
  },
  {
   "cell_type": "markdown",
   "metadata": {},
   "source": [
    "The top three errors (`api`, `no_code`, and `nb_file`) have similar numbers to the previous complete runs.\n",
    "\n",
    "The `md_format` and `has_error` errors were caused by bugs in `md_formatting` and `has_error` functions, and were fixed."
   ]
  },
  {
   "cell_type": "markdown",
   "metadata": {},
   "source": [
    "## Analyzing Adjusted Features\n",
    "\n",
    "Analyzing the data obtained from running improved feature scripts on the dataset (`github2017-eigth-run.csv`) and comparing those results with previous runs of those feature scripts (`github2017-sixth-run.csv`)"
   ]
  },
  {
   "cell_type": "markdown",
   "metadata": {},
   "source": [
    "## Loading the .csv files"
   ]
  },
  {
   "cell_type": "code",
   "execution_count": 5,
   "metadata": {},
   "outputs": [
    {
     "data": {
      "text/html": [
       "<div>\n",
       "<style scoped>\n",
       "    .dataframe tbody tr th:only-of-type {\n",
       "        vertical-align: middle;\n",
       "    }\n",
       "\n",
       "    .dataframe tbody tr th {\n",
       "        vertical-align: top;\n",
       "    }\n",
       "\n",
       "    .dataframe thead th {\n",
       "        text-align: right;\n",
       "    }\n",
       "</style>\n",
       "<table border=\"1\" class=\"dataframe\">\n",
       "  <thead>\n",
       "    <tr style=\"text-align: right;\">\n",
       "      <th></th>\n",
       "      <th>nb_id</th>\n",
       "      <th>repo_id</th>\n",
       "      <th>longer_beginning</th>\n",
       "      <th>longer_ending</th>\n",
       "      <th>md_frequency</th>\n",
       "      <th>has_title</th>\n",
       "      <th>num_commits</th>\n",
       "      <th>md_format</th>\n",
       "      <th>non_exec_prop</th>\n",
       "      <th>exec_inorder</th>\n",
       "      <th>exec_skips</th>\n",
       "      <th>has_error</th>\n",
       "      <th>comm_messages</th>\n",
       "      <th>speaking_language</th>\n",
       "    </tr>\n",
       "  </thead>\n",
       "  <tbody>\n",
       "    <tr>\n",
       "      <th>0</th>\n",
       "      <td>900493</td>\n",
       "      <td>85972539</td>\n",
       "      <td>NaN</td>\n",
       "      <td>NaN</td>\n",
       "      <td>NaN</td>\n",
       "      <td>False</td>\n",
       "      <td>1</td>\n",
       "      <td>NaN</td>\n",
       "      <td>0.000000</td>\n",
       "      <td>0.666667</td>\n",
       "      <td>12.666667</td>\n",
       "      <td>False</td>\n",
       "      <td>['borough_month plot']</td>\n",
       "      <td>NaN</td>\n",
       "    </tr>\n",
       "    <tr>\n",
       "      <th>1</th>\n",
       "      <td>322852</td>\n",
       "      <td>45655960</td>\n",
       "      <td>NaN</td>\n",
       "      <td>NaN</td>\n",
       "      <td>1.000000</td>\n",
       "      <td>False</td>\n",
       "      <td>2</td>\n",
       "      <td>False</td>\n",
       "      <td>0.000000</td>\n",
       "      <td>1.000000</td>\n",
       "      <td>1.500000</td>\n",
       "      <td>False</td>\n",
       "      <td>['Added better advice module', 'Reformatted fo...</td>\n",
       "      <td>English</td>\n",
       "    </tr>\n",
       "    <tr>\n",
       "      <th>2</th>\n",
       "      <td>457759</td>\n",
       "      <td>27685708</td>\n",
       "      <td>True</td>\n",
       "      <td>False</td>\n",
       "      <td>0.466667</td>\n",
       "      <td>True</td>\n",
       "      <td>3</td>\n",
       "      <td>False</td>\n",
       "      <td>0.000000</td>\n",
       "      <td>1.000000</td>\n",
       "      <td>1.000000</td>\n",
       "      <td>False</td>\n",
       "      <td>['Add most objects to main module namespace', ...</td>\n",
       "      <td>English</td>\n",
       "    </tr>\n",
       "    <tr>\n",
       "      <th>3</th>\n",
       "      <td>672138</td>\n",
       "      <td>92749043</td>\n",
       "      <td>False</td>\n",
       "      <td>False</td>\n",
       "      <td>0.125000</td>\n",
       "      <td>True</td>\n",
       "      <td>2</td>\n",
       "      <td>False</td>\n",
       "      <td>0.043478</td>\n",
       "      <td>0.850000</td>\n",
       "      <td>4.050000</td>\n",
       "      <td>False</td>\n",
       "      <td>['Update creditcard_classification.ipynb', 'fi...</td>\n",
       "      <td>English</td>\n",
       "    </tr>\n",
       "    <tr>\n",
       "      <th>4</th>\n",
       "      <td>103154</td>\n",
       "      <td>30734070</td>\n",
       "      <td>False</td>\n",
       "      <td>False</td>\n",
       "      <td>0.407285</td>\n",
       "      <td>False</td>\n",
       "      <td>1</td>\n",
       "      <td>False</td>\n",
       "      <td>0.000000</td>\n",
       "      <td>0.995495</td>\n",
       "      <td>1.063063</td>\n",
       "      <td>True</td>\n",
       "      <td>['[ch4] Add']</td>\n",
       "      <td>Korean</td>\n",
       "    </tr>\n",
       "  </tbody>\n",
       "</table>\n",
       "</div>"
      ],
      "text/plain": [
       "    nb_id   repo_id longer_beginning longer_ending  md_frequency  has_title  \\\n",
       "0  900493  85972539              NaN           NaN           NaN      False   \n",
       "1  322852  45655960              NaN           NaN      1.000000      False   \n",
       "2  457759  27685708             True         False      0.466667       True   \n",
       "3  672138  92749043            False         False      0.125000       True   \n",
       "4  103154  30734070            False         False      0.407285      False   \n",
       "\n",
       "   num_commits md_format  non_exec_prop  exec_inorder  exec_skips has_error  \\\n",
       "0            1       NaN       0.000000      0.666667   12.666667     False   \n",
       "1            2     False       0.000000      1.000000    1.500000     False   \n",
       "2            3     False       0.000000      1.000000    1.000000     False   \n",
       "3            2     False       0.043478      0.850000    4.050000     False   \n",
       "4            1     False       0.000000      0.995495    1.063063      True   \n",
       "\n",
       "                                       comm_messages speaking_language  \n",
       "0                             ['borough_month plot']               NaN  \n",
       "1  ['Added better advice module', 'Reformatted fo...           English  \n",
       "2  ['Add most objects to main module namespace', ...           English  \n",
       "3  ['Update creditcard_classification.ipynb', 'fi...           English  \n",
       "4                                      ['[ch4] Add']            Korean  "
      ]
     },
     "execution_count": 5,
     "metadata": {},
     "output_type": "execute_result"
    }
   ],
   "source": [
    "results_filepath = 'github2017-eigth-run.csv'\n",
    "results_df = pd.read_csv(results_filepath)\n",
    "\n",
    "# initial look at the data\n",
    "results_df.head()"
   ]
  },
  {
   "cell_type": "code",
   "execution_count": 6,
   "metadata": {},
   "outputs": [
    {
     "data": {
      "text/html": [
       "<div>\n",
       "<style scoped>\n",
       "    .dataframe tbody tr th:only-of-type {\n",
       "        vertical-align: middle;\n",
       "    }\n",
       "\n",
       "    .dataframe tbody tr th {\n",
       "        vertical-align: top;\n",
       "    }\n",
       "\n",
       "    .dataframe thead th {\n",
       "        text-align: right;\n",
       "    }\n",
       "</style>\n",
       "<table border=\"1\" class=\"dataframe\">\n",
       "  <thead>\n",
       "    <tr style=\"text-align: right;\">\n",
       "      <th></th>\n",
       "      <th>nb_id</th>\n",
       "      <th>repo_id</th>\n",
       "      <th>longer_beginning</th>\n",
       "      <th>longer_ending</th>\n",
       "      <th>has_author</th>\n",
       "      <th>is_education</th>\n",
       "      <th>language</th>\n",
       "      <th>has_links</th>\n",
       "      <th>has_comments</th>\n",
       "    </tr>\n",
       "  </thead>\n",
       "  <tbody>\n",
       "    <tr>\n",
       "      <th>0</th>\n",
       "      <td>900493</td>\n",
       "      <td>85972539</td>\n",
       "      <td>NaN</td>\n",
       "      <td>NaN</td>\n",
       "      <td>False</td>\n",
       "      <td>False</td>\n",
       "      <td>python</td>\n",
       "      <td>NaN</td>\n",
       "      <td>False</td>\n",
       "    </tr>\n",
       "    <tr>\n",
       "      <th>1</th>\n",
       "      <td>322852</td>\n",
       "      <td>45655960</td>\n",
       "      <td>False</td>\n",
       "      <td>False</td>\n",
       "      <td>False</td>\n",
       "      <td>False</td>\n",
       "      <td>python</td>\n",
       "      <td>False</td>\n",
       "      <td>False</td>\n",
       "    </tr>\n",
       "    <tr>\n",
       "      <th>2</th>\n",
       "      <td>457759</td>\n",
       "      <td>27685708</td>\n",
       "      <td>True</td>\n",
       "      <td>False</td>\n",
       "      <td>False</td>\n",
       "      <td>False</td>\n",
       "      <td>python</td>\n",
       "      <td>False</td>\n",
       "      <td>False</td>\n",
       "    </tr>\n",
       "    <tr>\n",
       "      <th>3</th>\n",
       "      <td>672138</td>\n",
       "      <td>92749043</td>\n",
       "      <td>False</td>\n",
       "      <td>False</td>\n",
       "      <td>False</td>\n",
       "      <td>False</td>\n",
       "      <td>python</td>\n",
       "      <td>True</td>\n",
       "      <td>True</td>\n",
       "    </tr>\n",
       "    <tr>\n",
       "      <th>4</th>\n",
       "      <td>103154</td>\n",
       "      <td>30734070</td>\n",
       "      <td>False</td>\n",
       "      <td>False</td>\n",
       "      <td>False</td>\n",
       "      <td>False</td>\n",
       "      <td>python</td>\n",
       "      <td>False</td>\n",
       "      <td>False</td>\n",
       "    </tr>\n",
       "  </tbody>\n",
       "</table>\n",
       "</div>"
      ],
      "text/plain": [
       "    nb_id   repo_id longer_beginning longer_ending has_author is_education  \\\n",
       "0  900493  85972539              NaN           NaN      False        False   \n",
       "1  322852  45655960            False         False      False        False   \n",
       "2  457759  27685708             True         False      False        False   \n",
       "3  672138  92749043            False         False      False        False   \n",
       "4  103154  30734070            False         False      False        False   \n",
       "\n",
       "  language has_links has_comments  \n",
       "0   python       NaN        False  \n",
       "1   python     False        False  \n",
       "2   python     False        False  \n",
       "3   python      True         True  \n",
       "4   python     False        False  "
      ]
     },
     "execution_count": 6,
     "metadata": {},
     "output_type": "execute_result"
    }
   ],
   "source": [
    "old_results_filepath = '../sixth-run/github2017-sixth-run.csv'\n",
    "old_results_df = pd.read_csv(old_results_filepath)\n",
    "\n",
    "# initial look at the old data\n",
    "old_results_df.head()"
   ]
  },
  {
   "cell_type": "markdown",
   "metadata": {},
   "source": [
    "The features that were adjusted and whose data will be compared against the sixth run are:\n",
    "\n",
    "- `longer_beginning`: changed to analyze length by groups of markdown cells instead of singular markdown cells, and only does analysis on notebooks with at least 10 cells\n",
    "- `longer_ending`: same as above"
   ]
  },
  {
   "cell_type": "markdown",
   "metadata": {},
   "source": [
    "## Plotting, Cleaning, and Comparing the Data"
   ]
  },
  {
   "cell_type": "code",
   "execution_count": 7,
   "metadata": {},
   "outputs": [],
   "source": [
    "def clean_column(field, df):\n",
    "    \n",
    "    # isolate the right columns\n",
    "    original = df[['nb_id', 'repo_id', field]]\n",
    "    \n",
    "    # filter out the NaN rows\n",
    "    clean = original.dropna(subset = [field])\n",
    "    \n",
    "    # return the cleaned column\n",
    "    return clean"
   ]
  },
  {
   "cell_type": "markdown",
   "metadata": {},
   "source": [
    "### Longer Markdown Cells at the Beginning/End"
   ]
  },
  {
   "cell_type": "code",
   "execution_count": 8,
   "metadata": {},
   "outputs": [
    {
     "data": {
      "image/png": "[encoded data removed]",
      "text/plain": [
       "<Figure size 432x288 with 1 Axes>"
      ]
     },
     "metadata": {
      "needs_background": "light"
     },
     "output_type": "display_data"
    }
   ],
   "source": [
    "# clean the data\n",
    "longer_beginning = clean_column('longer_beginning', results_df)\n",
    "\n",
    "# plot the data\n",
    "beginning_plot = sns.countplot(x='longer_beginning', data=longer_beginning)\n",
    "\n",
    "# fix appearance\n",
    "temp = beginning_plot.set(title = \"Eigth Run - Longer Markdown Cells @ the Beginning\")"
   ]
  },
  {
   "cell_type": "code",
   "execution_count": 9,
   "metadata": {},
   "outputs": [
    {
     "data": {
      "image/png": "[encoded data removed]",
      "text/plain": [
       "<Figure size 432x288 with 1 Axes>"
      ]
     },
     "metadata": {
      "needs_background": "light"
     },
     "output_type": "display_data"
    }
   ],
   "source": [
    "# repeat the same for old results\n",
    "longer_beginning_old = clean_column('longer_beginning', old_results_df)\n",
    "beginning_old_plot = sns.countplot(x='longer_beginning', data=longer_beginning_old)\n",
    "temp = beginning_old_plot.set(title = \"Sixth Run - Longer Markdown Cells @ the Beginning\")"
   ]
  },
  {
   "cell_type": "markdown",
   "metadata": {},
   "source": [
    "The plots show that the eigth run categorized many more notebooks as having a longer markdown cell in the beginning. The data is now almost perfectly split in half between those with/without a longer markdown cell in the beginning. This is most likely a result of grouping together markdown cells that were together instead of treating consecutive markdown cells as separate."
   ]
  },
  {
   "cell_type": "code",
   "execution_count": 10,
   "metadata": {},
   "outputs": [
    {
     "data": {
      "image/png": "[encoded data removed]",
      "text/plain": [
       "<Figure size 432x288 with 1 Axes>"
      ]
     },
     "metadata": {
      "needs_background": "light"
     },
     "output_type": "display_data"
    }
   ],
   "source": [
    "# clean the data\n",
    "longer_ending = clean_column('longer_ending', results_df)\n",
    "\n",
    "# plot the data\n",
    "ending_plot = sns.countplot(x='longer_ending', data=longer_ending)\n",
    "\n",
    "# fix appearance\n",
    "temp = ending_plot.set(title = \"Eigth Run - Longer Markdown Cells @ the End\")"
   ]
  },
  {
   "cell_type": "code",
   "execution_count": 11,
   "metadata": {},
   "outputs": [
    {
     "data": {
      "image/png": "[encoded data removed]",
      "text/plain": [
       "<Figure size 432x288 with 1 Axes>"
      ]
     },
     "metadata": {
      "needs_background": "light"
     },
     "output_type": "display_data"
    }
   ],
   "source": [
    "# repeat the same for old results\n",
    "longer_ending_old = clean_column('longer_ending', old_results_df)\n",
    "ending_old_plot = sns.countplot(x='longer_ending', data=longer_ending_old)\n",
    "temp = ending_old_plot.set(title = \"Sixth Run - Longer Markdown Cells @ the End\")"
   ]
  },
  {
   "cell_type": "code",
   "execution_count": 12,
   "metadata": {},
   "outputs": [
    {
     "name": "stdout",
     "output_type": "stream",
     "text": [
      "Eigth Run - 901\n",
      "Sixth Run - 1070\n"
     ]
    }
   ],
   "source": [
    "# count the number of trues for both runs\n",
    "longer_ending_count = len(results_df[results_df.longer_ending == True])\n",
    "longer_ending_count_old = len(old_results_df[old_results_df.longer_ending == True])\n",
    "\n",
    "print(\"Eigth Run - \" + str(longer_ending_count))\n",
    "print(\"Sixth Run - \" + str(longer_ending_count_old))"
   ]
  },
  {
   "cell_type": "markdown",
   "metadata": {},
   "source": [
    "Unlike the results reflected in `longer_beginning`, the eigth run categorized slightly less notebooks as having a longer markdown cell at the end of the notebook."
   ]
  },
  {
   "cell_type": "markdown",
   "metadata": {},
   "source": [
    "# Analyzing New Features\n",
    "\n",
    "Analyzing the data obtained from running the new feature scripts on the dataset (`github2017-eigth-run.csv`)"
   ]
  },
  {
   "cell_type": "markdown",
   "metadata": {},
   "source": [
    "## Loading the .csv file\n",
    "\n",
    "The .csv file was already loaded in the previous section, so we simply take an initial look at the data again"
   ]
  },
  {
   "cell_type": "code",
   "execution_count": 13,
   "metadata": {},
   "outputs": [
    {
     "data": {
      "text/html": [
       "<div>\n",
       "<style scoped>\n",
       "    .dataframe tbody tr th:only-of-type {\n",
       "        vertical-align: middle;\n",
       "    }\n",
       "\n",
       "    .dataframe tbody tr th {\n",
       "        vertical-align: top;\n",
       "    }\n",
       "\n",
       "    .dataframe thead th {\n",
       "        text-align: right;\n",
       "    }\n",
       "</style>\n",
       "<table border=\"1\" class=\"dataframe\">\n",
       "  <thead>\n",
       "    <tr style=\"text-align: right;\">\n",
       "      <th></th>\n",
       "      <th>nb_id</th>\n",
       "      <th>repo_id</th>\n",
       "      <th>longer_beginning</th>\n",
       "      <th>longer_ending</th>\n",
       "      <th>md_frequency</th>\n",
       "      <th>has_title</th>\n",
       "      <th>num_commits</th>\n",
       "      <th>md_format</th>\n",
       "      <th>non_exec_prop</th>\n",
       "      <th>exec_inorder</th>\n",
       "      <th>exec_skips</th>\n",
       "      <th>has_error</th>\n",
       "      <th>comm_messages</th>\n",
       "      <th>speaking_language</th>\n",
       "    </tr>\n",
       "  </thead>\n",
       "  <tbody>\n",
       "    <tr>\n",
       "      <th>0</th>\n",
       "      <td>900493</td>\n",
       "      <td>85972539</td>\n",
       "      <td>NaN</td>\n",
       "      <td>NaN</td>\n",
       "      <td>NaN</td>\n",
       "      <td>False</td>\n",
       "      <td>1</td>\n",
       "      <td>NaN</td>\n",
       "      <td>0.000000</td>\n",
       "      <td>0.666667</td>\n",
       "      <td>12.666667</td>\n",
       "      <td>False</td>\n",
       "      <td>['borough_month plot']</td>\n",
       "      <td>NaN</td>\n",
       "    </tr>\n",
       "    <tr>\n",
       "      <th>1</th>\n",
       "      <td>322852</td>\n",
       "      <td>45655960</td>\n",
       "      <td>NaN</td>\n",
       "      <td>NaN</td>\n",
       "      <td>1.000000</td>\n",
       "      <td>False</td>\n",
       "      <td>2</td>\n",
       "      <td>False</td>\n",
       "      <td>0.000000</td>\n",
       "      <td>1.000000</td>\n",
       "      <td>1.500000</td>\n",
       "      <td>False</td>\n",
       "      <td>['Added better advice module', 'Reformatted fo...</td>\n",
       "      <td>English</td>\n",
       "    </tr>\n",
       "    <tr>\n",
       "      <th>2</th>\n",
       "      <td>457759</td>\n",
       "      <td>27685708</td>\n",
       "      <td>True</td>\n",
       "      <td>False</td>\n",
       "      <td>0.466667</td>\n",
       "      <td>True</td>\n",
       "      <td>3</td>\n",
       "      <td>False</td>\n",
       "      <td>0.000000</td>\n",
       "      <td>1.000000</td>\n",
       "      <td>1.000000</td>\n",
       "      <td>False</td>\n",
       "      <td>['Add most objects to main module namespace', ...</td>\n",
       "      <td>English</td>\n",
       "    </tr>\n",
       "    <tr>\n",
       "      <th>3</th>\n",
       "      <td>672138</td>\n",
       "      <td>92749043</td>\n",
       "      <td>False</td>\n",
       "      <td>False</td>\n",
       "      <td>0.125000</td>\n",
       "      <td>True</td>\n",
       "      <td>2</td>\n",
       "      <td>False</td>\n",
       "      <td>0.043478</td>\n",
       "      <td>0.850000</td>\n",
       "      <td>4.050000</td>\n",
       "      <td>False</td>\n",
       "      <td>['Update creditcard_classification.ipynb', 'fi...</td>\n",
       "      <td>English</td>\n",
       "    </tr>\n",
       "    <tr>\n",
       "      <th>4</th>\n",
       "      <td>103154</td>\n",
       "      <td>30734070</td>\n",
       "      <td>False</td>\n",
       "      <td>False</td>\n",
       "      <td>0.407285</td>\n",
       "      <td>False</td>\n",
       "      <td>1</td>\n",
       "      <td>False</td>\n",
       "      <td>0.000000</td>\n",
       "      <td>0.995495</td>\n",
       "      <td>1.063063</td>\n",
       "      <td>True</td>\n",
       "      <td>['[ch4] Add']</td>\n",
       "      <td>Korean</td>\n",
       "    </tr>\n",
       "  </tbody>\n",
       "</table>\n",
       "</div>"
      ],
      "text/plain": [
       "    nb_id   repo_id longer_beginning longer_ending  md_frequency  has_title  \\\n",
       "0  900493  85972539              NaN           NaN           NaN      False   \n",
       "1  322852  45655960              NaN           NaN      1.000000      False   \n",
       "2  457759  27685708             True         False      0.466667       True   \n",
       "3  672138  92749043            False         False      0.125000       True   \n",
       "4  103154  30734070            False         False      0.407285      False   \n",
       "\n",
       "   num_commits md_format  non_exec_prop  exec_inorder  exec_skips has_error  \\\n",
       "0            1       NaN       0.000000      0.666667   12.666667     False   \n",
       "1            2     False       0.000000      1.000000    1.500000     False   \n",
       "2            3     False       0.000000      1.000000    1.000000     False   \n",
       "3            2     False       0.043478      0.850000    4.050000     False   \n",
       "4            1     False       0.000000      0.995495    1.063063      True   \n",
       "\n",
       "                                       comm_messages speaking_language  \n",
       "0                             ['borough_month plot']               NaN  \n",
       "1  ['Added better advice module', 'Reformatted fo...           English  \n",
       "2  ['Add most objects to main module namespace', ...           English  \n",
       "3  ['Update creditcard_classification.ipynb', 'fi...           English  \n",
       "4                                      ['[ch4] Add']            Korean  "
      ]
     },
     "execution_count": 13,
     "metadata": {},
     "output_type": "execute_result"
    }
   ],
   "source": [
    "results_df.head()"
   ]
  },
  {
   "cell_type": "markdown",
   "metadata": {},
   "source": [
    "The new features for this run are:\n",
    "\n",
    "- `md_frequency`: quantifies the frequency of markdown cells by calculating the proportion of cell borders that are between a code and markdown cell\n",
    "- `has_title`: uses a regex to determine whether or not a header is the first line in the notebook\n",
    "- `num_commits`: the number of commits related to (changing) the notebook in the repository\n",
    "- `md_format`: uses a markdown parser to determine whether or not markdown cells in the notebook have \"extra\" formatting (images, bullet points, quoting)\n",
    "- `non_exec_prop`: the proportion of code cells that have not been executed\n",
    "- `exec_inorder`: the proportion of cell borders that have an \"inorder\" execution order (increasing)\n",
    "- `exec_skips`: the average size of an execution order skip between cells\n",
    "- `has_error`: whether the notebook has at least one code cell for which execution resulted in an error\n",
    "- `comm_messages`: commit messages for the notebook\n",
    "- `speaking_language`: uses a language detector over the markdown cells to detect the language of the notebook"
   ]
  },
  {
   "cell_type": "markdown",
   "metadata": {},
   "source": [
    "## Plotting and Cleaining the Data"
   ]
  },
  {
   "cell_type": "markdown",
   "metadata": {},
   "source": [
    "### Markdown Frequency"
   ]
  },
  {
   "cell_type": "code",
   "execution_count": 14,
   "metadata": {},
   "outputs": [
    {
     "data": {
      "image/png": "[encoded data removed]",
      "text/plain": [
       "<Figure size 432x288 with 1 Axes>"
      ]
     },
     "metadata": {
      "needs_background": "light"
     },
     "output_type": "display_data"
    }
   ],
   "source": [
    "# clean the data\n",
    "md_frequency = clean_column('md_frequency', results_df)\n",
    "\n",
    "# plot the data\n",
    "md_frequency_plot = md_frequency['md_frequency'].plot(kind='hist')\n",
    "\n",
    "# set title\n",
    "temp = md_frequency_plot.set_title(\"Markdown Cell Frequency\")"
   ]
  },
  {
   "cell_type": "markdown",
   "metadata": {},
   "source": [
    "### Notebook Title"
   ]
  },
  {
   "cell_type": "code",
   "execution_count": 15,
   "metadata": {},
   "outputs": [
    {
     "data": {
      "image/png": "[encoded data removed]",
      "text/plain": [
       "<Figure size 432x288 with 1 Axes>"
      ]
     },
     "metadata": {
      "needs_background": "light"
     },
     "output_type": "display_data"
    }
   ],
   "source": [
    "# clean the data\n",
    "has_title = clean_column('has_title', results_df)\n",
    "\n",
    "# plot the data\n",
    "has_title_plot = sns.countplot(x='has_title', data=has_title)\n",
    "\n",
    "# fix appearance\n",
    "temp = has_title_plot.set(title = \"Notebook Title\")"
   ]
  },
  {
   "cell_type": "markdown",
   "metadata": {},
   "source": [
    "### Number of Notebook Commits"
   ]
  },
  {
   "cell_type": "code",
   "execution_count": 16,
   "metadata": {
    "scrolled": true
   },
   "outputs": [
    {
     "data": {
      "image/png": "[encoded data removed]",
      "text/plain": [
       "<Figure size 432x288 with 1 Axes>"
      ]
     },
     "metadata": {
      "needs_background": "light"
     },
     "output_type": "display_data"
    }
   ],
   "source": [
    "# clean the data\n",
    "num_commits = clean_column('num_commits', results_df)\n",
    "\n",
    "# plot the data\n",
    "num_commits_plot = num_commits['num_commits'].plot(kind='hist')\n",
    "\n",
    "# set title\n",
    "temp = num_commits_plot.set_title(\"Notebook Commits\")"
   ]
  },
  {
   "cell_type": "markdown",
   "metadata": {},
   "source": [
    "### Extra Markdown Formatting"
   ]
  },
  {
   "cell_type": "code",
   "execution_count": 17,
   "metadata": {
    "scrolled": true
   },
   "outputs": [
    {
     "data": {
      "image/png": "[encoded data removed]",
      "text/plain": [
       "<Figure size 432x288 with 1 Axes>"
      ]
     },
     "metadata": {
      "needs_background": "light"
     },
     "output_type": "display_data"
    }
   ],
   "source": [
    "# clean the data\n",
    "md_format = clean_column('md_format', results_df)\n",
    "\n",
    "# plot the data\n",
    "md_format_plot = sns.countplot(x='md_format', data=md_format)\n",
    "\n",
    "# fix appearance\n",
    "temp = md_format_plot.set(title = \"Extra Markdown Formatting\")"
   ]
  },
  {
   "cell_type": "markdown",
   "metadata": {},
   "source": [
    "### Proportion of Non-Executed Code Cells"
   ]
  },
  {
   "cell_type": "code",
   "execution_count": 18,
   "metadata": {},
   "outputs": [
    {
     "data": {
      "image/png": "[encoded data removed]",
      "text/plain": [
       "<Figure size 432x288 with 1 Axes>"
      ]
     },
     "metadata": {
      "needs_background": "light"
     },
     "output_type": "display_data"
    }
   ],
   "source": [
    "# clean the data\n",
    "non_exec_prop = clean_column('non_exec_prop', results_df)\n",
    "\n",
    "# plot the data\n",
    "non_exec_prop_plot = non_exec_prop['non_exec_prop'].plot(kind='hist')\n",
    "\n",
    "# set title\n",
    "temp = non_exec_prop_plot.set_title(\"Non-Executed Code Cells\")"
   ]
  },
  {
   "cell_type": "markdown",
   "metadata": {},
   "source": [
    "### Inorder Execution"
   ]
  },
  {
   "cell_type": "code",
   "execution_count": 19,
   "metadata": {
    "scrolled": true
   },
   "outputs": [
    {
     "data": {
      "image/png": "[encoded data removed]",
      "text/plain": [
       "<Figure size 432x288 with 1 Axes>"
      ]
     },
     "metadata": {
      "needs_background": "light"
     },
     "output_type": "display_data"
    }
   ],
   "source": [
    "# clean the data\n",
    "exec_inorder = clean_column('exec_inorder', results_df)\n",
    "\n",
    "# plot the data\n",
    "exec_inorder_plot = exec_inorder['exec_inorder'].plot(kind='hist')\n",
    "\n",
    "# set title\n",
    "temp = exec_inorder_plot.set_title(\"Proportion of Inorder Execution\")"
   ]
  },
  {
   "cell_type": "markdown",
   "metadata": {},
   "source": [
    "### Execution Order Skips"
   ]
  },
  {
   "cell_type": "code",
   "execution_count": 20,
   "metadata": {
    "scrolled": true
   },
   "outputs": [
    {
     "data": {
      "image/png": "[encoded data removed]",
      "text/plain": [
       "<Figure size 432x288 with 1 Axes>"
      ]
     },
     "metadata": {
      "needs_background": "light"
     },
     "output_type": "display_data"
    }
   ],
   "source": [
    "# clean the data\n",
    "exec_skips = clean_column('exec_skips', results_df)\n",
    "\n",
    "# plot the data\n",
    "exec_skips_plot = exec_skips['exec_skips'].plot(kind='hist')\n",
    "\n",
    "# set title\n",
    "temp = exec_skips_plot.set_title(\"Average Size of Execution Skip\")"
   ]
  },
  {
   "cell_type": "markdown",
   "metadata": {},
   "source": [
    "### Error Cells"
   ]
  },
  {
   "cell_type": "code",
   "execution_count": 21,
   "metadata": {
    "scrolled": true
   },
   "outputs": [
    {
     "data": {
      "image/png": "[encoded data removed]",
      "text/plain": [
       "<Figure size 432x288 with 1 Axes>"
      ]
     },
     "metadata": {
      "needs_background": "light"
     },
     "output_type": "display_data"
    }
   ],
   "source": [
    "# clean the data\n",
    "has_error = clean_column('has_error', results_df)\n",
    "\n",
    "# plot the data\n",
    "has_error_plot = sns.countplot(x='has_error', data=has_error)\n",
    "\n",
    "# fix appearance\n",
    "temp = has_error_plot.set(title = \"Error Cells\")"
   ]
  },
  {
   "cell_type": "markdown",
   "metadata": {},
   "source": [
    "### Speaking Langugage"
   ]
  },
  {
   "cell_type": "code",
   "execution_count": 22,
   "metadata": {},
   "outputs": [
    {
     "data": {
      "image/png": "[encoded data removed]",
      "text/plain": [
       "<Figure size 432x288 with 1 Axes>"
      ]
     },
     "metadata": {
      "needs_background": "light"
     },
     "output_type": "display_data"
    }
   ],
   "source": [
    "# clean the data\n",
    "speaking_language = clean_column('speaking_language', results_df)\n",
    "\n",
    "# create a bar plot of the speaking languages column\n",
    "speaking_language_plot = sns.countplot(x='speaking_language', data=speaking_language)\n",
    "\n",
    "# fix the appearance of the bar plot\n",
    "temp = speaking_language_plot.set_xticklabels(speaking_language_plot.get_xticklabels(), rotation=90, ha=\"right\")\n",
    "temp = speaking_language_plot.set(title = \"Speaking Languages\")"
   ]
  },
  {
   "cell_type": "markdown",
   "metadata": {},
   "source": [
    "# Analyzing Differences"
   ]
  },
  {
   "cell_type": "markdown",
   "metadata": {},
   "source": [
    "## Longer Markdown Cells in the Beginning\n",
    "\n",
    "Since this feature has been adjusted for the second time, we determine if the adjustment was effective by extracting the notebooks whose results changed between the sixth and eigth runs for analysis"
   ]
  },
  {
   "cell_type": "code",
   "execution_count": 23,
   "metadata": {},
   "outputs": [],
   "source": [
    "# gather the rows of the relevant columns \n",
    "rows = list(clean_column('longer_beginning', results_df).iterrows())\n",
    "\n",
    "# define the condition to keep a row\n",
    "def condition ((_, row)):\n",
    "    nb_id = row['nb_id']\n",
    "    old_row = old_results_df.loc[old_results_df['nb_id'] == nb_id]\n",
    "    try:\n",
    "        return old_row['longer_beginning'].bool() != row['longer_beginning']\n",
    "    except:\n",
    "        return True\n",
    "\n",
    "# filter the list of rows\n",
    "differences = list(filter(condition, rows))\n",
    "differences_ids = list(map(lambda (_, row) : row['nb_id'], differences))\n",
    "\n",
    "# create a new dataframe with the notebook IDs and the old + new results\n",
    "differences_df = pd.DataFrame(columns = ['nb_id', 'old_longer_beginning', 'new_longer_beginning'])\n",
    "\n",
    "# template for rows that will be added to the dataframe\n",
    "differences_dict = {'nb_id': None, 'old_longer_beginning': None, 'new_longer_beginning': None, 'nb_url': None}\n",
    "\n",
    "# load in the notebooks_sample.csv to be able to add the nb_url to the output\n",
    "notebooks_df = pd.read_csv('../../../test-dataset/notebooks_sample.csv')\n",
    "\n",
    "# add each notebook to the dataframe\n",
    "for nb_id in differences_ids:\n",
    "    \n",
    "    # populate the row dictionary\n",
    "    differences_dict['nb_id'] = nb_id\n",
    "    \n",
    "    row = results_df.loc[results_df['nb_id'] == nb_id]\n",
    "    try:\n",
    "        differences_dict['new_longer_beginning'] = row['longer_beginning'].bool()\n",
    "    except:\n",
    "        differences_dict['new_longer_beginning'] = None\n",
    "    \n",
    "    old_row = old_results_df.loc[old_results_df['nb_id'] == nb_id]\n",
    "    try:\n",
    "        differences_dict['old_longer_beginning'] = old_row['longer_beginning'].bool()\n",
    "    except:\n",
    "        differences_dict['old_longer_beginning'] = None\n",
    "        \n",
    "    nb_url = notebooks_df.loc[notebooks_df['nb_id'] == nb_id]['html_url']\n",
    "    differences_dict['nb_url'] = str(nb_url.item())\n",
    "    \n",
    "    differences_df = differences_df.append(differences_dict, ignore_index = True)"
   ]
  },
  {
   "cell_type": "code",
   "execution_count": 24,
   "metadata": {},
   "outputs": [
    {
     "data": {
      "text/html": [
       "<div>\n",
       "<style scoped>\n",
       "    .dataframe tbody tr th:only-of-type {\n",
       "        vertical-align: middle;\n",
       "    }\n",
       "\n",
       "    .dataframe tbody tr th {\n",
       "        vertical-align: top;\n",
       "    }\n",
       "\n",
       "    .dataframe thead th {\n",
       "        text-align: right;\n",
       "    }\n",
       "</style>\n",
       "<table border=\"1\" class=\"dataframe\">\n",
       "  <thead>\n",
       "    <tr style=\"text-align: right;\">\n",
       "      <th></th>\n",
       "      <th>nb_id</th>\n",
       "      <th>old_longer_beginning</th>\n",
       "      <th>new_longer_beginning</th>\n",
       "      <th>nb_url</th>\n",
       "    </tr>\n",
       "  </thead>\n",
       "  <tbody>\n",
       "    <tr>\n",
       "      <th>0</th>\n",
       "      <td>625482</td>\n",
       "      <td>False</td>\n",
       "      <td>True</td>\n",
       "      <td>https://github.com/debimax/cours-debimax/blob/...</td>\n",
       "    </tr>\n",
       "    <tr>\n",
       "      <th>1</th>\n",
       "      <td>729600</td>\n",
       "      <td>True</td>\n",
       "      <td>False</td>\n",
       "      <td>https://github.com/tuanavu/udacity-course/blob...</td>\n",
       "    </tr>\n",
       "    <tr>\n",
       "      <th>2</th>\n",
       "      <td>715173</td>\n",
       "      <td>False</td>\n",
       "      <td>True</td>\n",
       "      <td>https://github.com/debimax/cours-debimax/blob/...</td>\n",
       "    </tr>\n",
       "    <tr>\n",
       "      <th>3</th>\n",
       "      <td>358465</td>\n",
       "      <td>True</td>\n",
       "      <td>False</td>\n",
       "      <td>https://github.com/PatrickMockridge/SpringBoar...</td>\n",
       "    </tr>\n",
       "    <tr>\n",
       "      <th>4</th>\n",
       "      <td>1086913</td>\n",
       "      <td>False</td>\n",
       "      <td>True</td>\n",
       "      <td>https://github.com/lveronese/capstone/blob/940...</td>\n",
       "    </tr>\n",
       "  </tbody>\n",
       "</table>\n",
       "</div>"
      ],
      "text/plain": [
       "     nb_id old_longer_beginning new_longer_beginning  \\\n",
       "0   625482                False                 True   \n",
       "1   729600                 True                False   \n",
       "2   715173                False                 True   \n",
       "3   358465                 True                False   \n",
       "4  1086913                False                 True   \n",
       "\n",
       "                                              nb_url  \n",
       "0  https://github.com/debimax/cours-debimax/blob/...  \n",
       "1  https://github.com/tuanavu/udacity-course/blob...  \n",
       "2  https://github.com/debimax/cours-debimax/blob/...  \n",
       "3  https://github.com/PatrickMockridge/SpringBoar...  \n",
       "4  https://github.com/lveronese/capstone/blob/940...  "
      ]
     },
     "execution_count": 24,
     "metadata": {},
     "output_type": "execute_result"
    }
   ],
   "source": [
    "# initial look at the data\n",
    "differences_df.head()"
   ]
  },
  {
   "cell_type": "code",
   "execution_count": 25,
   "metadata": {},
   "outputs": [],
   "source": [
    "# export the dataframe to a csv\n",
    "output_path = 'longer_beginning_diff.csv'\n",
    "differences_df.to_csv(output_path)"
   ]
  }
 ],
 "metadata": {
  "kernelspec": {
   "display_name": "Python 2",
   "language": "python",
   "name": "python2"
  },
  "language_info": {
   "codemirror_mode": {
    "name": "ipython",
    "version": 2
   },
   "file_extension": ".py",
   "mimetype": "text/x-python",
   "name": "python",
   "nbconvert_exporter": "python",
   "pygments_lexer": "ipython2",
   "version": "2.7.17"
  }
 },
 "nbformat": 4,
 "nbformat_minor": 2
}
