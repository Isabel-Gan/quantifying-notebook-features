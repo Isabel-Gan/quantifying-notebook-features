{
 "cells": [
  {
   "cell_type": "markdown",
   "metadata": {},
   "source": [
    "# Imports"
   ]
  },
  {
   "cell_type": "code",
   "execution_count": 1,
   "metadata": {},
   "outputs": [],
   "source": [
    "import pandas as pd"
   ]
  },
  {
   "cell_type": "markdown",
   "metadata": {},
   "source": [
    "# Itemsets"
   ]
  },
  {
   "cell_type": "markdown",
   "metadata": {},
   "source": [
    "## Markdown Cells"
   ]
  },
  {
   "cell_type": "markdown",
   "metadata": {},
   "source": [
    "### Exporting"
   ]
  },
  {
   "cell_type": "code",
   "execution_count": 2,
   "metadata": {},
   "outputs": [
    {
     "data": {
      "text/html": [
       "<div>\n",
       "<style scoped>\n",
       "    .dataframe tbody tr th:only-of-type {\n",
       "        vertical-align: middle;\n",
       "    }\n",
       "\n",
       "    .dataframe tbody tr th {\n",
       "        vertical-align: top;\n",
       "    }\n",
       "\n",
       "    .dataframe thead th {\n",
       "        text-align: right;\n",
       "    }\n",
       "</style>\n",
       "<table border=\"1\" class=\"dataframe\">\n",
       "  <thead>\n",
       "    <tr style=\"text-align: right;\">\n",
       "      <th></th>\n",
       "      <th>support</th>\n",
       "      <th>itemsets</th>\n",
       "      <th>length</th>\n",
       "    </tr>\n",
       "  </thead>\n",
       "  <tbody>\n",
       "    <tr>\n",
       "      <th>0</th>\n",
       "      <td>0.543867</td>\n",
       "      <td>(longer_beginning_T)</td>\n",
       "      <td>1</td>\n",
       "    </tr>\n",
       "    <tr>\n",
       "      <th>1</th>\n",
       "      <td>0.741161</td>\n",
       "      <td>(longer_ending_F)</td>\n",
       "      <td>1</td>\n",
       "    </tr>\n",
       "    <tr>\n",
       "      <th>2</th>\n",
       "      <td>0.953296</td>\n",
       "      <td>(has_author_F)</td>\n",
       "      <td>1</td>\n",
       "    </tr>\n",
       "    <tr>\n",
       "      <th>3</th>\n",
       "      <td>0.806198</td>\n",
       "      <td>(has_equation_F)</td>\n",
       "      <td>1</td>\n",
       "    </tr>\n",
       "    <tr>\n",
       "      <th>4</th>\n",
       "      <td>0.787429</td>\n",
       "      <td>(jupyter_prop_high)</td>\n",
       "      <td>1</td>\n",
       "    </tr>\n",
       "  </tbody>\n",
       "</table>\n",
       "</div>"
      ],
      "text/plain": [
       "    support              itemsets  length\n",
       "0  0.543867  (longer_beginning_T)       1\n",
       "1  0.741161     (longer_ending_F)       1\n",
       "2  0.953296        (has_author_F)       1\n",
       "3  0.806198      (has_equation_F)       1\n",
       "4  0.787429   (jupyter_prop_high)       1"
      ]
     },
     "execution_count": 2,
     "metadata": {},
     "output_type": "execute_result"
    }
   ],
   "source": [
    "md_itemsets = pd.read_pickle('md_frequent_itemsets.pkl')\n",
    "md_itemsets.head()"
   ]
  },
  {
   "cell_type": "code",
   "execution_count": 3,
   "metadata": {},
   "outputs": [
    {
     "data": {
      "text/plain": [
       "(1267, 3)"
      ]
     },
     "execution_count": 3,
     "metadata": {},
     "output_type": "execute_result"
    }
   ],
   "source": [
    "md_itemsets.shape"
   ]
  },
  {
   "cell_type": "code",
   "execution_count": 4,
   "metadata": {},
   "outputs": [
    {
     "data": {
      "text/html": [
       "<div>\n",
       "<style scoped>\n",
       "    .dataframe tbody tr th:only-of-type {\n",
       "        vertical-align: middle;\n",
       "    }\n",
       "\n",
       "    .dataframe tbody tr th {\n",
       "        vertical-align: top;\n",
       "    }\n",
       "\n",
       "    .dataframe thead th {\n",
       "        text-align: right;\n",
       "    }\n",
       "</style>\n",
       "<table border=\"1\" class=\"dataframe\">\n",
       "  <thead>\n",
       "    <tr style=\"text-align: right;\">\n",
       "      <th></th>\n",
       "      <th>support</th>\n",
       "      <th>itemsets</th>\n",
       "      <th>length</th>\n",
       "    </tr>\n",
       "  </thead>\n",
       "  <tbody>\n",
       "    <tr>\n",
       "      <th>2</th>\n",
       "      <td>0.953296</td>\n",
       "      <td>(has_author_F)</td>\n",
       "      <td>1</td>\n",
       "    </tr>\n",
       "    <tr>\n",
       "      <th>16</th>\n",
       "      <td>0.951550</td>\n",
       "      <td>(exec_inorder_higher)</td>\n",
       "      <td>1</td>\n",
       "    </tr>\n",
       "    <tr>\n",
       "      <th>6</th>\n",
       "      <td>0.934090</td>\n",
       "      <td>(num_contrib_lower)</td>\n",
       "      <td>1</td>\n",
       "    </tr>\n",
       "    <tr>\n",
       "      <th>48</th>\n",
       "      <td>0.907900</td>\n",
       "      <td>(exec_inorder_higher, has_author_F)</td>\n",
       "      <td>2</td>\n",
       "    </tr>\n",
       "    <tr>\n",
       "      <th>10</th>\n",
       "      <td>0.889568</td>\n",
       "      <td>(has_comments_T)</td>\n",
       "      <td>1</td>\n",
       "    </tr>\n",
       "  </tbody>\n",
       "</table>\n",
       "</div>"
      ],
      "text/plain": [
       "     support                             itemsets  length\n",
       "2   0.953296                       (has_author_F)       1\n",
       "16  0.951550                (exec_inorder_higher)       1\n",
       "6   0.934090                  (num_contrib_lower)       1\n",
       "48  0.907900  (exec_inorder_higher, has_author_F)       2\n",
       "10  0.889568                     (has_comments_T)       1"
      ]
     },
     "execution_count": 4,
     "metadata": {},
     "output_type": "execute_result"
    }
   ],
   "source": [
    "sorted_itemsets = md_itemsets.sort_values(by = ['support'], ascending = False)\n",
    "sorted_itemsets.head()"
   ]
  },
  {
   "cell_type": "code",
   "execution_count": 5,
   "metadata": {},
   "outputs": [],
   "source": [
    "sorted_itemsets.to_csv('csv-files/md_frequent_itemsets.csv')"
   ]
  },
  {
   "cell_type": "markdown",
   "metadata": {},
   "source": [
    "### Analysis"
   ]
  },
  {
   "cell_type": "code",
   "execution_count": 6,
   "metadata": {},
   "outputs": [],
   "source": [
    "md_itemsets = sorted_itemsets.copy()"
   ]
  },
  {
   "cell_type": "code",
   "execution_count": 7,
   "metadata": {},
   "outputs": [
    {
     "name": "stdout",
     "output_type": "stream",
     "text": [
      "10\n"
     ]
    }
   ],
   "source": [
    "print(len(md_itemsets[(md_itemsets['length'] == 1) &\n",
    "                     (md_itemsets['support'] >= 0.8)]))"
   ]
  },
  {
   "cell_type": "code",
   "execution_count": 8,
   "metadata": {
    "scrolled": true
   },
   "outputs": [
    {
     "name": "stdout",
     "output_type": "stream",
     "text": [
      "2            (has_author_F)\n",
      "16    (exec_inorder_higher)\n",
      "6       (num_contrib_lower)\n",
      "10         (has_comments_T)\n",
      "15      (non_exec_prop_low)\n",
      "18            (has_error_F)\n",
      "13      (num_commits_lower)\n",
      "17       (exec_skips_lower)\n",
      "5       (markdown_prop_med)\n",
      "3          (has_equation_F)\n",
      "Name: itemsets, dtype: object\n"
     ]
    }
   ],
   "source": [
    "print(md_itemsets[(md_itemsets['length'] == 1) &\n",
    "                     (md_itemsets['support'] >= 0.8)]['itemsets'])"
   ]
  },
  {
   "cell_type": "markdown",
   "metadata": {},
   "source": [
    "## No Markdown Cells"
   ]
  },
  {
   "cell_type": "markdown",
   "metadata": {},
   "source": [
    "### Exporting"
   ]
  },
  {
   "cell_type": "code",
   "execution_count": 9,
   "metadata": {},
   "outputs": [
    {
     "data": {
      "text/html": [
       "<div>\n",
       "<style scoped>\n",
       "    .dataframe tbody tr th:only-of-type {\n",
       "        vertical-align: middle;\n",
       "    }\n",
       "\n",
       "    .dataframe tbody tr th {\n",
       "        vertical-align: top;\n",
       "    }\n",
       "\n",
       "    .dataframe thead th {\n",
       "        text-align: right;\n",
       "    }\n",
       "</style>\n",
       "<table border=\"1\" class=\"dataframe\">\n",
       "  <thead>\n",
       "    <tr style=\"text-align: right;\">\n",
       "      <th></th>\n",
       "      <th>support</th>\n",
       "      <th>itemsets</th>\n",
       "      <th>length</th>\n",
       "    </tr>\n",
       "  </thead>\n",
       "  <tbody>\n",
       "    <tr>\n",
       "      <th>0</th>\n",
       "      <td>0.991144</td>\n",
       "      <td>(has_author_F)</td>\n",
       "      <td>1</td>\n",
       "    </tr>\n",
       "    <tr>\n",
       "      <th>1</th>\n",
       "      <td>0.671587</td>\n",
       "      <td>(jupyter_prop_high)</td>\n",
       "      <td>1</td>\n",
       "    </tr>\n",
       "    <tr>\n",
       "      <th>2</th>\n",
       "      <td>0.912915</td>\n",
       "      <td>(num_contrib_lower)</td>\n",
       "      <td>1</td>\n",
       "    </tr>\n",
       "    <tr>\n",
       "      <th>3</th>\n",
       "      <td>0.676015</td>\n",
       "      <td>(image_prop_low)</td>\n",
       "      <td>1</td>\n",
       "    </tr>\n",
       "    <tr>\n",
       "      <th>4</th>\n",
       "      <td>0.892251</td>\n",
       "      <td>(is_education_F)</td>\n",
       "      <td>1</td>\n",
       "    </tr>\n",
       "  </tbody>\n",
       "</table>\n",
       "</div>"
      ],
      "text/plain": [
       "    support             itemsets  length\n",
       "0  0.991144       (has_author_F)       1\n",
       "1  0.671587  (jupyter_prop_high)       1\n",
       "2  0.912915  (num_contrib_lower)       1\n",
       "3  0.676015     (image_prop_low)       1\n",
       "4  0.892251     (is_education_F)       1"
      ]
     },
     "execution_count": 9,
     "metadata": {},
     "output_type": "execute_result"
    }
   ],
   "source": [
    "no_md_itemsets = pd.read_pickle('no_md_frequent_itemsets.pkl')\n",
    "no_md_itemsets.head()"
   ]
  },
  {
   "cell_type": "code",
   "execution_count": 10,
   "metadata": {},
   "outputs": [
    {
     "data": {
      "text/plain": [
       "(346, 3)"
      ]
     },
     "execution_count": 10,
     "metadata": {},
     "output_type": "execute_result"
    }
   ],
   "source": [
    "no_md_itemsets.shape"
   ]
  },
  {
   "cell_type": "code",
   "execution_count": 11,
   "metadata": {},
   "outputs": [
    {
     "data": {
      "text/html": [
       "<div>\n",
       "<style scoped>\n",
       "    .dataframe tbody tr th:only-of-type {\n",
       "        vertical-align: middle;\n",
       "    }\n",
       "\n",
       "    .dataframe tbody tr th {\n",
       "        vertical-align: top;\n",
       "    }\n",
       "\n",
       "    .dataframe thead th {\n",
       "        text-align: right;\n",
       "    }\n",
       "</style>\n",
       "<table border=\"1\" class=\"dataframe\">\n",
       "  <thead>\n",
       "    <tr style=\"text-align: right;\">\n",
       "      <th></th>\n",
       "      <th>support</th>\n",
       "      <th>itemsets</th>\n",
       "      <th>length</th>\n",
       "    </tr>\n",
       "  </thead>\n",
       "  <tbody>\n",
       "    <tr>\n",
       "      <th>0</th>\n",
       "      <td>0.991144</td>\n",
       "      <td>(has_author_F)</td>\n",
       "      <td>1</td>\n",
       "    </tr>\n",
       "    <tr>\n",
       "      <th>7</th>\n",
       "      <td>0.921771</td>\n",
       "      <td>(non_exec_prop_lower)</td>\n",
       "      <td>1</td>\n",
       "    </tr>\n",
       "    <tr>\n",
       "      <th>17</th>\n",
       "      <td>0.916605</td>\n",
       "      <td>(has_author_F, non_exec_prop_lower)</td>\n",
       "      <td>2</td>\n",
       "    </tr>\n",
       "    <tr>\n",
       "      <th>2</th>\n",
       "      <td>0.912915</td>\n",
       "      <td>(num_contrib_lower)</td>\n",
       "      <td>1</td>\n",
       "    </tr>\n",
       "    <tr>\n",
       "      <th>12</th>\n",
       "      <td>0.904797</td>\n",
       "      <td>(has_author_F, num_contrib_lower)</td>\n",
       "      <td>2</td>\n",
       "    </tr>\n",
       "  </tbody>\n",
       "</table>\n",
       "</div>"
      ],
      "text/plain": [
       "     support                             itemsets  length\n",
       "0   0.991144                       (has_author_F)       1\n",
       "7   0.921771                (non_exec_prop_lower)       1\n",
       "17  0.916605  (has_author_F, non_exec_prop_lower)       2\n",
       "2   0.912915                  (num_contrib_lower)       1\n",
       "12  0.904797    (has_author_F, num_contrib_lower)       2"
      ]
     },
     "execution_count": 11,
     "metadata": {},
     "output_type": "execute_result"
    }
   ],
   "source": [
    "sorted_itemsets = no_md_itemsets.sort_values(by = ['support'], ascending = False)\n",
    "sorted_itemsets.head()"
   ]
  },
  {
   "cell_type": "code",
   "execution_count": 12,
   "metadata": {},
   "outputs": [],
   "source": [
    "sorted_itemsets.to_csv('csv-files/no_md_frequent_itemsets.csv')"
   ]
  },
  {
   "cell_type": "markdown",
   "metadata": {},
   "source": [
    "### Analysis"
   ]
  },
  {
   "cell_type": "code",
   "execution_count": 13,
   "metadata": {},
   "outputs": [],
   "source": [
    "no_md_itemsets = sorted_itemsets.copy()"
   ]
  },
  {
   "cell_type": "code",
   "execution_count": 14,
   "metadata": {
    "scrolled": true
   },
   "outputs": [
    {
     "name": "stdout",
     "output_type": "stream",
     "text": [
      "7\n"
     ]
    }
   ],
   "source": [
    "print(len(no_md_itemsets[(no_md_itemsets['length'] == 1) &\n",
    "                     (no_md_itemsets['support'] >= 0.8)]))"
   ]
  },
  {
   "cell_type": "code",
   "execution_count": 15,
   "metadata": {
    "scrolled": true
   },
   "outputs": [
    {
     "name": "stdout",
     "output_type": "stream",
     "text": [
      "0            (has_author_F)\n",
      "7     (non_exec_prop_lower)\n",
      "2       (num_contrib_lower)\n",
      "4          (is_education_F)\n",
      "8     (exec_inorder_higher)\n",
      "9        (exec_skips_lower)\n",
      "10            (has_error_F)\n",
      "Name: itemsets, dtype: object\n"
     ]
    }
   ],
   "source": [
    "print(no_md_itemsets[(no_md_itemsets['length'] == 1) &\n",
    "                     (no_md_itemsets['support'] >= 0.8)]['itemsets'])"
   ]
  },
  {
   "cell_type": "markdown",
   "metadata": {},
   "source": [
    "# Association Rules"
   ]
  },
  {
   "cell_type": "markdown",
   "metadata": {},
   "source": [
    "## Markdown Cells"
   ]
  },
  {
   "cell_type": "code",
   "execution_count": 16,
   "metadata": {},
   "outputs": [
    {
     "data": {
      "text/html": [
       "<div>\n",
       "<style scoped>\n",
       "    .dataframe tbody tr th:only-of-type {\n",
       "        vertical-align: middle;\n",
       "    }\n",
       "\n",
       "    .dataframe tbody tr th {\n",
       "        vertical-align: top;\n",
       "    }\n",
       "\n",
       "    .dataframe thead th {\n",
       "        text-align: right;\n",
       "    }\n",
       "</style>\n",
       "<table border=\"1\" class=\"dataframe\">\n",
       "  <thead>\n",
       "    <tr style=\"text-align: right;\">\n",
       "      <th></th>\n",
       "      <th>antecedents</th>\n",
       "      <th>consequents</th>\n",
       "      <th>antecedent support</th>\n",
       "      <th>consequent support</th>\n",
       "      <th>support</th>\n",
       "      <th>confidence</th>\n",
       "      <th>lift</th>\n",
       "      <th>leverage</th>\n",
       "      <th>conviction</th>\n",
       "      <th>antecedent_len</th>\n",
       "      <th>consequent_len</th>\n",
       "    </tr>\n",
       "  </thead>\n",
       "  <tbody>\n",
       "    <tr>\n",
       "      <th>0</th>\n",
       "      <td>(longer_beginning_T)</td>\n",
       "      <td>(has_author_F)</td>\n",
       "      <td>0.543867</td>\n",
       "      <td>0.953296</td>\n",
       "      <td>0.515932</td>\n",
       "      <td>0.948636</td>\n",
       "      <td>0.995112</td>\n",
       "      <td>-0.002534</td>\n",
       "      <td>0.909278</td>\n",
       "      <td>1</td>\n",
       "      <td>1</td>\n",
       "    </tr>\n",
       "    <tr>\n",
       "      <th>1</th>\n",
       "      <td>(longer_beginning_T)</td>\n",
       "      <td>(num_contrib_lower)</td>\n",
       "      <td>0.543867</td>\n",
       "      <td>0.934090</td>\n",
       "      <td>0.503710</td>\n",
       "      <td>0.926164</td>\n",
       "      <td>0.991515</td>\n",
       "      <td>-0.004311</td>\n",
       "      <td>0.892652</td>\n",
       "      <td>1</td>\n",
       "      <td>1</td>\n",
       "    </tr>\n",
       "    <tr>\n",
       "      <th>2</th>\n",
       "      <td>(longer_beginning_T)</td>\n",
       "      <td>(has_comments_T)</td>\n",
       "      <td>0.543867</td>\n",
       "      <td>0.889568</td>\n",
       "      <td>0.503274</td>\n",
       "      <td>0.925361</td>\n",
       "      <td>1.040237</td>\n",
       "      <td>0.019467</td>\n",
       "      <td>1.479553</td>\n",
       "      <td>1</td>\n",
       "      <td>1</td>\n",
       "    </tr>\n",
       "    <tr>\n",
       "      <th>3</th>\n",
       "      <td>(longer_beginning_T)</td>\n",
       "      <td>(exec_inorder_higher)</td>\n",
       "      <td>0.543867</td>\n",
       "      <td>0.951550</td>\n",
       "      <td>0.516368</td>\n",
       "      <td>0.949438</td>\n",
       "      <td>0.997781</td>\n",
       "      <td>-0.001148</td>\n",
       "      <td>0.958242</td>\n",
       "      <td>1</td>\n",
       "      <td>1</td>\n",
       "    </tr>\n",
       "    <tr>\n",
       "      <th>4</th>\n",
       "      <td>(longer_ending_F)</td>\n",
       "      <td>(has_author_F)</td>\n",
       "      <td>0.741161</td>\n",
       "      <td>0.953296</td>\n",
       "      <td>0.713226</td>\n",
       "      <td>0.962309</td>\n",
       "      <td>1.009455</td>\n",
       "      <td>0.006680</td>\n",
       "      <td>1.239129</td>\n",
       "      <td>1</td>\n",
       "      <td>1</td>\n",
       "    </tr>\n",
       "  </tbody>\n",
       "</table>\n",
       "</div>"
      ],
      "text/plain": [
       "            antecedents            consequents  antecedent support  \\\n",
       "0  (longer_beginning_T)         (has_author_F)            0.543867   \n",
       "1  (longer_beginning_T)    (num_contrib_lower)            0.543867   \n",
       "2  (longer_beginning_T)       (has_comments_T)            0.543867   \n",
       "3  (longer_beginning_T)  (exec_inorder_higher)            0.543867   \n",
       "4     (longer_ending_F)         (has_author_F)            0.741161   \n",
       "\n",
       "   consequent support   support  confidence      lift  leverage  conviction  \\\n",
       "0            0.953296  0.515932    0.948636  0.995112 -0.002534    0.909278   \n",
       "1            0.934090  0.503710    0.926164  0.991515 -0.004311    0.892652   \n",
       "2            0.889568  0.503274    0.925361  1.040237  0.019467    1.479553   \n",
       "3            0.951550  0.516368    0.949438  0.997781 -0.001148    0.958242   \n",
       "4            0.953296  0.713226    0.962309  1.009455  0.006680    1.239129   \n",
       "\n",
       "   antecedent_len  consequent_len  \n",
       "0               1               1  \n",
       "1               1               1  \n",
       "2               1               1  \n",
       "3               1               1  \n",
       "4               1               1  "
      ]
     },
     "execution_count": 16,
     "metadata": {},
     "output_type": "execute_result"
    }
   ],
   "source": [
    "md_association_rules = pd.read_pickle('md_association_rules.pkl')\n",
    "md_association_rules.head()"
   ]
  },
  {
   "cell_type": "code",
   "execution_count": 17,
   "metadata": {},
   "outputs": [
    {
     "data": {
      "text/plain": [
       "(16625, 11)"
      ]
     },
     "execution_count": 17,
     "metadata": {},
     "output_type": "execute_result"
    }
   ],
   "source": [
    "md_association_rules.shape"
   ]
  },
  {
   "cell_type": "code",
   "execution_count": 18,
   "metadata": {
    "scrolled": true
   },
   "outputs": [
    {
     "data": {
      "text/html": [
       "<div>\n",
       "<style scoped>\n",
       "    .dataframe tbody tr th:only-of-type {\n",
       "        vertical-align: middle;\n",
       "    }\n",
       "\n",
       "    .dataframe tbody tr th {\n",
       "        vertical-align: top;\n",
       "    }\n",
       "\n",
       "    .dataframe thead th {\n",
       "        text-align: right;\n",
       "    }\n",
       "</style>\n",
       "<table border=\"1\" class=\"dataframe\">\n",
       "  <thead>\n",
       "    <tr style=\"text-align: right;\">\n",
       "      <th></th>\n",
       "      <th>antecedents</th>\n",
       "      <th>consequents</th>\n",
       "      <th>antecedent support</th>\n",
       "      <th>consequent support</th>\n",
       "      <th>support</th>\n",
       "      <th>confidence</th>\n",
       "      <th>lift</th>\n",
       "      <th>leverage</th>\n",
       "      <th>conviction</th>\n",
       "      <th>antecedent_len</th>\n",
       "      <th>consequent_len</th>\n",
       "    </tr>\n",
       "  </thead>\n",
       "  <tbody>\n",
       "    <tr>\n",
       "      <th>15950</th>\n",
       "      <td>(num_commits_lower, exec_inorder_higher, jupyt...</td>\n",
       "      <td>(num_contrib_lower)</td>\n",
       "      <td>0.515059</td>\n",
       "      <td>0.93409</td>\n",
       "      <td>0.506766</td>\n",
       "      <td>0.983898</td>\n",
       "      <td>1.053323</td>\n",
       "      <td>0.025654</td>\n",
       "      <td>4.093363</td>\n",
       "      <td>5</td>\n",
       "      <td>1</td>\n",
       "    </tr>\n",
       "    <tr>\n",
       "      <th>11323</th>\n",
       "      <td>(has_comments_T, jupyter_prop_high, non_exec_p...</td>\n",
       "      <td>(num_contrib_lower)</td>\n",
       "      <td>0.538629</td>\n",
       "      <td>0.93409</td>\n",
       "      <td>0.529900</td>\n",
       "      <td>0.983793</td>\n",
       "      <td>1.053210</td>\n",
       "      <td>0.026771</td>\n",
       "      <td>4.066652</td>\n",
       "      <td>4</td>\n",
       "      <td>1</td>\n",
       "    </tr>\n",
       "    <tr>\n",
       "      <th>13922</th>\n",
       "      <td>(has_author_F, num_commits_lower, jupyter_prop...</td>\n",
       "      <td>(num_contrib_lower)</td>\n",
       "      <td>0.522479</td>\n",
       "      <td>0.93409</td>\n",
       "      <td>0.513749</td>\n",
       "      <td>0.983292</td>\n",
       "      <td>1.052673</td>\n",
       "      <td>0.025707</td>\n",
       "      <td>3.944718</td>\n",
       "      <td>5</td>\n",
       "      <td>1</td>\n",
       "    </tr>\n",
       "    <tr>\n",
       "      <th>14914</th>\n",
       "      <td>(has_author_F, num_commits_lower, exec_skips_l...</td>\n",
       "      <td>(exec_inorder_higher)</td>\n",
       "      <td>0.522916</td>\n",
       "      <td>0.95155</td>\n",
       "      <td>0.513749</td>\n",
       "      <td>0.982471</td>\n",
       "      <td>1.032496</td>\n",
       "      <td>0.016169</td>\n",
       "      <td>2.763983</td>\n",
       "      <td>5</td>\n",
       "      <td>1</td>\n",
       "    </tr>\n",
       "    <tr>\n",
       "      <th>10194</th>\n",
       "      <td>(has_author_F, has_comments_T, exec_skips_lowe...</td>\n",
       "      <td>(exec_inorder_higher)</td>\n",
       "      <td>0.617634</td>\n",
       "      <td>0.95155</td>\n",
       "      <td>0.606722</td>\n",
       "      <td>0.982332</td>\n",
       "      <td>1.032350</td>\n",
       "      <td>0.019012</td>\n",
       "      <td>2.742296</td>\n",
       "      <td>4</td>\n",
       "      <td>1</td>\n",
       "    </tr>\n",
       "  </tbody>\n",
       "</table>\n",
       "</div>"
      ],
      "text/plain": [
       "                                             antecedents  \\\n",
       "15950  (num_commits_lower, exec_inorder_higher, jupyt...   \n",
       "11323  (has_comments_T, jupyter_prop_high, non_exec_p...   \n",
       "13922  (has_author_F, num_commits_lower, jupyter_prop...   \n",
       "14914  (has_author_F, num_commits_lower, exec_skips_l...   \n",
       "10194  (has_author_F, has_comments_T, exec_skips_lowe...   \n",
       "\n",
       "                 consequents  antecedent support  consequent support  \\\n",
       "15950    (num_contrib_lower)            0.515059             0.93409   \n",
       "11323    (num_contrib_lower)            0.538629             0.93409   \n",
       "13922    (num_contrib_lower)            0.522479             0.93409   \n",
       "14914  (exec_inorder_higher)            0.522916             0.95155   \n",
       "10194  (exec_inorder_higher)            0.617634             0.95155   \n",
       "\n",
       "        support  confidence      lift  leverage  conviction  antecedent_len  \\\n",
       "15950  0.506766    0.983898  1.053323  0.025654    4.093363               5   \n",
       "11323  0.529900    0.983793  1.053210  0.026771    4.066652               4   \n",
       "13922  0.513749    0.983292  1.052673  0.025707    3.944718               5   \n",
       "14914  0.513749    0.982471  1.032496  0.016169    2.763983               5   \n",
       "10194  0.606722    0.982332  1.032350  0.019012    2.742296               4   \n",
       "\n",
       "       consequent_len  \n",
       "15950               1  \n",
       "11323               1  \n",
       "13922               1  \n",
       "14914               1  \n",
       "10194               1  "
      ]
     },
     "execution_count": 18,
     "metadata": {},
     "output_type": "execute_result"
    }
   ],
   "source": [
    "sorted_rules = md_association_rules.sort_values(by = ['confidence'], ascending = False)\n",
    "sorted_rules.head()"
   ]
  },
  {
   "cell_type": "code",
   "execution_count": 19,
   "metadata": {
    "scrolled": true
   },
   "outputs": [
    {
     "data": {
      "text/html": [
       "<div>\n",
       "<style scoped>\n",
       "    .dataframe tbody tr th:only-of-type {\n",
       "        vertical-align: middle;\n",
       "    }\n",
       "\n",
       "    .dataframe tbody tr th {\n",
       "        vertical-align: top;\n",
       "    }\n",
       "\n",
       "    .dataframe thead th {\n",
       "        text-align: right;\n",
       "    }\n",
       "</style>\n",
       "<table border=\"1\" class=\"dataframe\">\n",
       "  <thead>\n",
       "    <tr style=\"text-align: right;\">\n",
       "      <th></th>\n",
       "      <th>antecedents</th>\n",
       "      <th>consequents</th>\n",
       "      <th>confidence</th>\n",
       "      <th>lift</th>\n",
       "      <th>conviction</th>\n",
       "      <th>antecedent_len</th>\n",
       "      <th>consequent_len</th>\n",
       "    </tr>\n",
       "  </thead>\n",
       "  <tbody>\n",
       "    <tr>\n",
       "      <th>15950</th>\n",
       "      <td>(num_commits_lower, exec_inorder_higher, jupyt...</td>\n",
       "      <td>(num_contrib_lower)</td>\n",
       "      <td>0.983898</td>\n",
       "      <td>1.053323</td>\n",
       "      <td>4.093363</td>\n",
       "      <td>5</td>\n",
       "      <td>1</td>\n",
       "    </tr>\n",
       "    <tr>\n",
       "      <th>11323</th>\n",
       "      <td>(has_comments_T, jupyter_prop_high, non_exec_p...</td>\n",
       "      <td>(num_contrib_lower)</td>\n",
       "      <td>0.983793</td>\n",
       "      <td>1.053210</td>\n",
       "      <td>4.066652</td>\n",
       "      <td>4</td>\n",
       "      <td>1</td>\n",
       "    </tr>\n",
       "    <tr>\n",
       "      <th>13922</th>\n",
       "      <td>(has_author_F, num_commits_lower, jupyter_prop...</td>\n",
       "      <td>(num_contrib_lower)</td>\n",
       "      <td>0.983292</td>\n",
       "      <td>1.052673</td>\n",
       "      <td>3.944718</td>\n",
       "      <td>5</td>\n",
       "      <td>1</td>\n",
       "    </tr>\n",
       "    <tr>\n",
       "      <th>14914</th>\n",
       "      <td>(has_author_F, num_commits_lower, exec_skips_l...</td>\n",
       "      <td>(exec_inorder_higher)</td>\n",
       "      <td>0.982471</td>\n",
       "      <td>1.032496</td>\n",
       "      <td>2.763983</td>\n",
       "      <td>5</td>\n",
       "      <td>1</td>\n",
       "    </tr>\n",
       "    <tr>\n",
       "      <th>10194</th>\n",
       "      <td>(has_author_F, has_comments_T, exec_skips_lowe...</td>\n",
       "      <td>(exec_inorder_higher)</td>\n",
       "      <td>0.982332</td>\n",
       "      <td>1.032350</td>\n",
       "      <td>2.742296</td>\n",
       "      <td>4</td>\n",
       "      <td>1</td>\n",
       "    </tr>\n",
       "  </tbody>\n",
       "</table>\n",
       "</div>"
      ],
      "text/plain": [
       "                                             antecedents  \\\n",
       "15950  (num_commits_lower, exec_inorder_higher, jupyt...   \n",
       "11323  (has_comments_T, jupyter_prop_high, non_exec_p...   \n",
       "13922  (has_author_F, num_commits_lower, jupyter_prop...   \n",
       "14914  (has_author_F, num_commits_lower, exec_skips_l...   \n",
       "10194  (has_author_F, has_comments_T, exec_skips_lowe...   \n",
       "\n",
       "                 consequents  confidence      lift  conviction  \\\n",
       "15950    (num_contrib_lower)    0.983898  1.053323    4.093363   \n",
       "11323    (num_contrib_lower)    0.983793  1.053210    4.066652   \n",
       "13922    (num_contrib_lower)    0.983292  1.052673    3.944718   \n",
       "14914  (exec_inorder_higher)    0.982471  1.032496    2.763983   \n",
       "10194  (exec_inorder_higher)    0.982332  1.032350    2.742296   \n",
       "\n",
       "       antecedent_len  consequent_len  \n",
       "15950               5               1  \n",
       "11323               4               1  \n",
       "13922               5               1  \n",
       "14914               5               1  \n",
       "10194               4               1  "
      ]
     },
     "execution_count": 19,
     "metadata": {},
     "output_type": "execute_result"
    }
   ],
   "source": [
    "export = sorted_rules.drop(['antecedent support', 'consequent support', 'support', 'leverage'], axis = 1)\n",
    "export.head()"
   ]
  },
  {
   "cell_type": "code",
   "execution_count": 20,
   "metadata": {},
   "outputs": [
    {
     "data": {
      "text/html": [
       "<div>\n",
       "<style scoped>\n",
       "    .dataframe tbody tr th:only-of-type {\n",
       "        vertical-align: middle;\n",
       "    }\n",
       "\n",
       "    .dataframe tbody tr th {\n",
       "        vertical-align: top;\n",
       "    }\n",
       "\n",
       "    .dataframe thead th {\n",
       "        text-align: right;\n",
       "    }\n",
       "</style>\n",
       "<table border=\"1\" class=\"dataframe\">\n",
       "  <thead>\n",
       "    <tr style=\"text-align: right;\">\n",
       "      <th></th>\n",
       "      <th>antecedents</th>\n",
       "      <th>consequents</th>\n",
       "      <th>confidence</th>\n",
       "      <th>lift</th>\n",
       "      <th>conviction</th>\n",
       "      <th>antecedent_len</th>\n",
       "      <th>consequent_len</th>\n",
       "    </tr>\n",
       "  </thead>\n",
       "  <tbody>\n",
       "    <tr>\n",
       "      <th>15950</th>\n",
       "      <td>({'num_commits_lower', 'exec_inorder_higher', ...</td>\n",
       "      <td>({'num_contrib_lower'})</td>\n",
       "      <td>0.983898</td>\n",
       "      <td>1.053323</td>\n",
       "      <td>4.093363</td>\n",
       "      <td>5</td>\n",
       "      <td>1</td>\n",
       "    </tr>\n",
       "    <tr>\n",
       "      <th>11323</th>\n",
       "      <td>({'has_comments_T', 'jupyter_prop_high', 'non_...</td>\n",
       "      <td>({'num_contrib_lower'})</td>\n",
       "      <td>0.983793</td>\n",
       "      <td>1.053210</td>\n",
       "      <td>4.066652</td>\n",
       "      <td>4</td>\n",
       "      <td>1</td>\n",
       "    </tr>\n",
       "    <tr>\n",
       "      <th>13922</th>\n",
       "      <td>({'has_author_F', 'num_commits_lower', 'jupyte...</td>\n",
       "      <td>({'num_contrib_lower'})</td>\n",
       "      <td>0.983292</td>\n",
       "      <td>1.052673</td>\n",
       "      <td>3.944718</td>\n",
       "      <td>5</td>\n",
       "      <td>1</td>\n",
       "    </tr>\n",
       "    <tr>\n",
       "      <th>14914</th>\n",
       "      <td>({'has_author_F', 'num_commits_lower', 'exec_s...</td>\n",
       "      <td>({'exec_inorder_higher'})</td>\n",
       "      <td>0.982471</td>\n",
       "      <td>1.032496</td>\n",
       "      <td>2.763983</td>\n",
       "      <td>5</td>\n",
       "      <td>1</td>\n",
       "    </tr>\n",
       "    <tr>\n",
       "      <th>10194</th>\n",
       "      <td>({'has_author_F', 'has_comments_T', 'exec_skip...</td>\n",
       "      <td>({'exec_inorder_higher'})</td>\n",
       "      <td>0.982332</td>\n",
       "      <td>1.032350</td>\n",
       "      <td>2.742296</td>\n",
       "      <td>4</td>\n",
       "      <td>1</td>\n",
       "    </tr>\n",
       "  </tbody>\n",
       "</table>\n",
       "</div>"
      ],
      "text/plain": [
       "                                             antecedents  \\\n",
       "15950  ({'num_commits_lower', 'exec_inorder_higher', ...   \n",
       "11323  ({'has_comments_T', 'jupyter_prop_high', 'non_...   \n",
       "13922  ({'has_author_F', 'num_commits_lower', 'jupyte...   \n",
       "14914  ({'has_author_F', 'num_commits_lower', 'exec_s...   \n",
       "10194  ({'has_author_F', 'has_comments_T', 'exec_skip...   \n",
       "\n",
       "                     consequents  confidence      lift  conviction  \\\n",
       "15950    ({'num_contrib_lower'})    0.983898  1.053323    4.093363   \n",
       "11323    ({'num_contrib_lower'})    0.983793  1.053210    4.066652   \n",
       "13922    ({'num_contrib_lower'})    0.983292  1.052673    3.944718   \n",
       "14914  ({'exec_inorder_higher'})    0.982471  1.032496    2.763983   \n",
       "10194  ({'exec_inorder_higher'})    0.982332  1.032350    2.742296   \n",
       "\n",
       "       antecedent_len  consequent_len  \n",
       "15950               5               1  \n",
       "11323               4               1  \n",
       "13922               5               1  \n",
       "14914               5               1  \n",
       "10194               4               1  "
      ]
     },
     "execution_count": 20,
     "metadata": {},
     "output_type": "execute_result"
    }
   ],
   "source": [
    "export['antecedents'] = export['antecedents'].apply(lambda x : str(x).replace('frozenset', ''))\n",
    "export['consequents'] = export['consequents'].apply(lambda x : str(x).replace('frozenset', ''))\n",
    "export.head()"
   ]
  },
  {
   "cell_type": "code",
   "execution_count": 21,
   "metadata": {},
   "outputs": [],
   "source": [
    "export.to_csv('csv-files/md_association_rules.csv')"
   ]
  },
  {
   "cell_type": "markdown",
   "metadata": {},
   "source": [
    "## No Markdown Cells"
   ]
  },
  {
   "cell_type": "code",
   "execution_count": 22,
   "metadata": {
    "scrolled": true
   },
   "outputs": [
    {
     "data": {
      "text/html": [
       "<div>\n",
       "<style scoped>\n",
       "    .dataframe tbody tr th:only-of-type {\n",
       "        vertical-align: middle;\n",
       "    }\n",
       "\n",
       "    .dataframe tbody tr th {\n",
       "        vertical-align: top;\n",
       "    }\n",
       "\n",
       "    .dataframe thead th {\n",
       "        text-align: right;\n",
       "    }\n",
       "</style>\n",
       "<table border=\"1\" class=\"dataframe\">\n",
       "  <thead>\n",
       "    <tr style=\"text-align: right;\">\n",
       "      <th></th>\n",
       "      <th>antecedents</th>\n",
       "      <th>consequents</th>\n",
       "      <th>antecedent support</th>\n",
       "      <th>consequent support</th>\n",
       "      <th>support</th>\n",
       "      <th>confidence</th>\n",
       "      <th>lift</th>\n",
       "      <th>leverage</th>\n",
       "      <th>conviction</th>\n",
       "      <th>antecedent_len</th>\n",
       "      <th>consequent_len</th>\n",
       "    </tr>\n",
       "  </thead>\n",
       "  <tbody>\n",
       "    <tr>\n",
       "      <th>0</th>\n",
       "      <td>(jupyter_prop_high)</td>\n",
       "      <td>(has_author_F)</td>\n",
       "      <td>0.671587</td>\n",
       "      <td>0.991144</td>\n",
       "      <td>0.669373</td>\n",
       "      <td>0.996703</td>\n",
       "      <td>1.005609</td>\n",
       "      <td>0.003734</td>\n",
       "      <td>2.686347</td>\n",
       "      <td>1</td>\n",
       "      <td>1</td>\n",
       "    </tr>\n",
       "    <tr>\n",
       "      <th>1</th>\n",
       "      <td>(num_contrib_lower)</td>\n",
       "      <td>(has_author_F)</td>\n",
       "      <td>0.912915</td>\n",
       "      <td>0.991144</td>\n",
       "      <td>0.904797</td>\n",
       "      <td>0.991108</td>\n",
       "      <td>0.999963</td>\n",
       "      <td>-0.000033</td>\n",
       "      <td>0.995907</td>\n",
       "      <td>1</td>\n",
       "      <td>1</td>\n",
       "    </tr>\n",
       "    <tr>\n",
       "      <th>2</th>\n",
       "      <td>(has_author_F)</td>\n",
       "      <td>(num_contrib_lower)</td>\n",
       "      <td>0.991144</td>\n",
       "      <td>0.912915</td>\n",
       "      <td>0.904797</td>\n",
       "      <td>0.912882</td>\n",
       "      <td>0.999963</td>\n",
       "      <td>-0.000033</td>\n",
       "      <td>0.999615</td>\n",
       "      <td>1</td>\n",
       "      <td>1</td>\n",
       "    </tr>\n",
       "    <tr>\n",
       "      <th>3</th>\n",
       "      <td>(image_prop_low)</td>\n",
       "      <td>(has_author_F)</td>\n",
       "      <td>0.676015</td>\n",
       "      <td>0.991144</td>\n",
       "      <td>0.667897</td>\n",
       "      <td>0.987991</td>\n",
       "      <td>0.996819</td>\n",
       "      <td>-0.002131</td>\n",
       "      <td>0.737471</td>\n",
       "      <td>1</td>\n",
       "      <td>1</td>\n",
       "    </tr>\n",
       "    <tr>\n",
       "      <th>4</th>\n",
       "      <td>(has_author_F)</td>\n",
       "      <td>(is_education_F)</td>\n",
       "      <td>0.991144</td>\n",
       "      <td>0.892251</td>\n",
       "      <td>0.883395</td>\n",
       "      <td>0.891288</td>\n",
       "      <td>0.998921</td>\n",
       "      <td>-0.000954</td>\n",
       "      <td>0.991144</td>\n",
       "      <td>1</td>\n",
       "      <td>1</td>\n",
       "    </tr>\n",
       "  </tbody>\n",
       "</table>\n",
       "</div>"
      ],
      "text/plain": [
       "           antecedents          consequents  antecedent support  \\\n",
       "0  (jupyter_prop_high)       (has_author_F)            0.671587   \n",
       "1  (num_contrib_lower)       (has_author_F)            0.912915   \n",
       "2       (has_author_F)  (num_contrib_lower)            0.991144   \n",
       "3     (image_prop_low)       (has_author_F)            0.676015   \n",
       "4       (has_author_F)     (is_education_F)            0.991144   \n",
       "\n",
       "   consequent support   support  confidence      lift  leverage  conviction  \\\n",
       "0            0.991144  0.669373    0.996703  1.005609  0.003734    2.686347   \n",
       "1            0.991144  0.904797    0.991108  0.999963 -0.000033    0.995907   \n",
       "2            0.912915  0.904797    0.912882  0.999963 -0.000033    0.999615   \n",
       "3            0.991144  0.667897    0.987991  0.996819 -0.002131    0.737471   \n",
       "4            0.892251  0.883395    0.891288  0.998921 -0.000954    0.991144   \n",
       "\n",
       "   antecedent_len  consequent_len  \n",
       "0               1               1  \n",
       "1               1               1  \n",
       "2               1               1  \n",
       "3               1               1  \n",
       "4               1               1  "
      ]
     },
     "execution_count": 22,
     "metadata": {},
     "output_type": "execute_result"
    }
   ],
   "source": [
    "no_md_association_rules = pd.read_pickle('no_md_association_rules.pkl')\n",
    "no_md_association_rules.head()"
   ]
  },
  {
   "cell_type": "code",
   "execution_count": 23,
   "metadata": {},
   "outputs": [
    {
     "data": {
      "text/plain": [
       "(2968, 11)"
      ]
     },
     "execution_count": 23,
     "metadata": {},
     "output_type": "execute_result"
    }
   ],
   "source": [
    "no_md_association_rules.shape"
   ]
  },
  {
   "cell_type": "code",
   "execution_count": 24,
   "metadata": {},
   "outputs": [
    {
     "data": {
      "text/html": [
       "<div>\n",
       "<style scoped>\n",
       "    .dataframe tbody tr th:only-of-type {\n",
       "        vertical-align: middle;\n",
       "    }\n",
       "\n",
       "    .dataframe tbody tr th {\n",
       "        vertical-align: top;\n",
       "    }\n",
       "\n",
       "    .dataframe thead th {\n",
       "        text-align: right;\n",
       "    }\n",
       "</style>\n",
       "<table border=\"1\" class=\"dataframe\">\n",
       "  <thead>\n",
       "    <tr style=\"text-align: right;\">\n",
       "      <th></th>\n",
       "      <th>antecedents</th>\n",
       "      <th>consequents</th>\n",
       "      <th>antecedent support</th>\n",
       "      <th>consequent support</th>\n",
       "      <th>support</th>\n",
       "      <th>confidence</th>\n",
       "      <th>lift</th>\n",
       "      <th>leverage</th>\n",
       "      <th>conviction</th>\n",
       "      <th>antecedent_len</th>\n",
       "      <th>consequent_len</th>\n",
       "    </tr>\n",
       "  </thead>\n",
       "  <tbody>\n",
       "    <tr>\n",
       "      <th>0</th>\n",
       "      <td>(jupyter_prop_high)</td>\n",
       "      <td>(has_author_F)</td>\n",
       "      <td>0.671587</td>\n",
       "      <td>0.991144</td>\n",
       "      <td>0.669373</td>\n",
       "      <td>0.996703</td>\n",
       "      <td>1.005609</td>\n",
       "      <td>0.003734</td>\n",
       "      <td>2.686347</td>\n",
       "      <td>1</td>\n",
       "      <td>1</td>\n",
       "    </tr>\n",
       "    <tr>\n",
       "      <th>89</th>\n",
       "      <td>(jupyter_prop_high, non_exec_prop_lower)</td>\n",
       "      <td>(has_author_F)</td>\n",
       "      <td>0.622878</td>\n",
       "      <td>0.991144</td>\n",
       "      <td>0.620664</td>\n",
       "      <td>0.996445</td>\n",
       "      <td>1.005349</td>\n",
       "      <td>0.003302</td>\n",
       "      <td>2.491513</td>\n",
       "      <td>2</td>\n",
       "      <td>1</td>\n",
       "    </tr>\n",
       "    <tr>\n",
       "      <th>80</th>\n",
       "      <td>(jupyter_prop_high, num_contrib_lower)</td>\n",
       "      <td>(has_author_F)</td>\n",
       "      <td>0.614760</td>\n",
       "      <td>0.991144</td>\n",
       "      <td>0.612546</td>\n",
       "      <td>0.996399</td>\n",
       "      <td>1.005302</td>\n",
       "      <td>0.003230</td>\n",
       "      <td>2.459041</td>\n",
       "      <td>2</td>\n",
       "      <td>1</td>\n",
       "    </tr>\n",
       "    <tr>\n",
       "      <th>83</th>\n",
       "      <td>(is_education_F, jupyter_prop_high)</td>\n",
       "      <td>(has_author_F)</td>\n",
       "      <td>0.610332</td>\n",
       "      <td>0.991144</td>\n",
       "      <td>0.608118</td>\n",
       "      <td>0.996372</td>\n",
       "      <td>1.005275</td>\n",
       "      <td>0.003191</td>\n",
       "      <td>2.441328</td>\n",
       "      <td>2</td>\n",
       "      <td>1</td>\n",
       "    </tr>\n",
       "    <tr>\n",
       "      <th>92</th>\n",
       "      <td>(exec_inorder_higher, jupyter_prop_high)</td>\n",
       "      <td>(has_author_F)</td>\n",
       "      <td>0.602214</td>\n",
       "      <td>0.991144</td>\n",
       "      <td>0.600000</td>\n",
       "      <td>0.996324</td>\n",
       "      <td>1.005226</td>\n",
       "      <td>0.003119</td>\n",
       "      <td>2.408856</td>\n",
       "      <td>2</td>\n",
       "      <td>1</td>\n",
       "    </tr>\n",
       "  </tbody>\n",
       "</table>\n",
       "</div>"
      ],
      "text/plain": [
       "                                 antecedents     consequents  \\\n",
       "0                        (jupyter_prop_high)  (has_author_F)   \n",
       "89  (jupyter_prop_high, non_exec_prop_lower)  (has_author_F)   \n",
       "80    (jupyter_prop_high, num_contrib_lower)  (has_author_F)   \n",
       "83       (is_education_F, jupyter_prop_high)  (has_author_F)   \n",
       "92  (exec_inorder_higher, jupyter_prop_high)  (has_author_F)   \n",
       "\n",
       "    antecedent support  consequent support   support  confidence      lift  \\\n",
       "0             0.671587            0.991144  0.669373    0.996703  1.005609   \n",
       "89            0.622878            0.991144  0.620664    0.996445  1.005349   \n",
       "80            0.614760            0.991144  0.612546    0.996399  1.005302   \n",
       "83            0.610332            0.991144  0.608118    0.996372  1.005275   \n",
       "92            0.602214            0.991144  0.600000    0.996324  1.005226   \n",
       "\n",
       "    leverage  conviction  antecedent_len  consequent_len  \n",
       "0   0.003734    2.686347               1               1  \n",
       "89  0.003302    2.491513               2               1  \n",
       "80  0.003230    2.459041               2               1  \n",
       "83  0.003191    2.441328               2               1  \n",
       "92  0.003119    2.408856               2               1  "
      ]
     },
     "execution_count": 24,
     "metadata": {},
     "output_type": "execute_result"
    }
   ],
   "source": [
    "sorted_rules = no_md_association_rules.sort_values(by = ['confidence'], ascending = False)\n",
    "sorted_rules.head()"
   ]
  },
  {
   "cell_type": "code",
   "execution_count": 25,
   "metadata": {},
   "outputs": [
    {
     "data": {
      "text/html": [
       "<div>\n",
       "<style scoped>\n",
       "    .dataframe tbody tr th:only-of-type {\n",
       "        vertical-align: middle;\n",
       "    }\n",
       "\n",
       "    .dataframe tbody tr th {\n",
       "        vertical-align: top;\n",
       "    }\n",
       "\n",
       "    .dataframe thead th {\n",
       "        text-align: right;\n",
       "    }\n",
       "</style>\n",
       "<table border=\"1\" class=\"dataframe\">\n",
       "  <thead>\n",
       "    <tr style=\"text-align: right;\">\n",
       "      <th></th>\n",
       "      <th>antecedents</th>\n",
       "      <th>consequents</th>\n",
       "      <th>confidence</th>\n",
       "      <th>lift</th>\n",
       "      <th>conviction</th>\n",
       "      <th>antecedent_len</th>\n",
       "      <th>consequent_len</th>\n",
       "    </tr>\n",
       "  </thead>\n",
       "  <tbody>\n",
       "    <tr>\n",
       "      <th>0</th>\n",
       "      <td>(jupyter_prop_high)</td>\n",
       "      <td>(has_author_F)</td>\n",
       "      <td>0.996703</td>\n",
       "      <td>1.005609</td>\n",
       "      <td>2.686347</td>\n",
       "      <td>1</td>\n",
       "      <td>1</td>\n",
       "    </tr>\n",
       "    <tr>\n",
       "      <th>89</th>\n",
       "      <td>(jupyter_prop_high, non_exec_prop_lower)</td>\n",
       "      <td>(has_author_F)</td>\n",
       "      <td>0.996445</td>\n",
       "      <td>1.005349</td>\n",
       "      <td>2.491513</td>\n",
       "      <td>2</td>\n",
       "      <td>1</td>\n",
       "    </tr>\n",
       "    <tr>\n",
       "      <th>80</th>\n",
       "      <td>(jupyter_prop_high, num_contrib_lower)</td>\n",
       "      <td>(has_author_F)</td>\n",
       "      <td>0.996399</td>\n",
       "      <td>1.005302</td>\n",
       "      <td>2.459041</td>\n",
       "      <td>2</td>\n",
       "      <td>1</td>\n",
       "    </tr>\n",
       "    <tr>\n",
       "      <th>83</th>\n",
       "      <td>(is_education_F, jupyter_prop_high)</td>\n",
       "      <td>(has_author_F)</td>\n",
       "      <td>0.996372</td>\n",
       "      <td>1.005275</td>\n",
       "      <td>2.441328</td>\n",
       "      <td>2</td>\n",
       "      <td>1</td>\n",
       "    </tr>\n",
       "    <tr>\n",
       "      <th>92</th>\n",
       "      <td>(exec_inorder_higher, jupyter_prop_high)</td>\n",
       "      <td>(has_author_F)</td>\n",
       "      <td>0.996324</td>\n",
       "      <td>1.005226</td>\n",
       "      <td>2.408856</td>\n",
       "      <td>2</td>\n",
       "      <td>1</td>\n",
       "    </tr>\n",
       "  </tbody>\n",
       "</table>\n",
       "</div>"
      ],
      "text/plain": [
       "                                 antecedents     consequents  confidence  \\\n",
       "0                        (jupyter_prop_high)  (has_author_F)    0.996703   \n",
       "89  (jupyter_prop_high, non_exec_prop_lower)  (has_author_F)    0.996445   \n",
       "80    (jupyter_prop_high, num_contrib_lower)  (has_author_F)    0.996399   \n",
       "83       (is_education_F, jupyter_prop_high)  (has_author_F)    0.996372   \n",
       "92  (exec_inorder_higher, jupyter_prop_high)  (has_author_F)    0.996324   \n",
       "\n",
       "        lift  conviction  antecedent_len  consequent_len  \n",
       "0   1.005609    2.686347               1               1  \n",
       "89  1.005349    2.491513               2               1  \n",
       "80  1.005302    2.459041               2               1  \n",
       "83  1.005275    2.441328               2               1  \n",
       "92  1.005226    2.408856               2               1  "
      ]
     },
     "execution_count": 25,
     "metadata": {},
     "output_type": "execute_result"
    }
   ],
   "source": [
    "export = sorted_rules.drop(['antecedent support', 'consequent support', 'support', 'leverage'], axis = 1)\n",
    "export.head()"
   ]
  },
  {
   "cell_type": "code",
   "execution_count": 26,
   "metadata": {},
   "outputs": [
    {
     "data": {
      "text/html": [
       "<div>\n",
       "<style scoped>\n",
       "    .dataframe tbody tr th:only-of-type {\n",
       "        vertical-align: middle;\n",
       "    }\n",
       "\n",
       "    .dataframe tbody tr th {\n",
       "        vertical-align: top;\n",
       "    }\n",
       "\n",
       "    .dataframe thead th {\n",
       "        text-align: right;\n",
       "    }\n",
       "</style>\n",
       "<table border=\"1\" class=\"dataframe\">\n",
       "  <thead>\n",
       "    <tr style=\"text-align: right;\">\n",
       "      <th></th>\n",
       "      <th>antecedents</th>\n",
       "      <th>consequents</th>\n",
       "      <th>confidence</th>\n",
       "      <th>lift</th>\n",
       "      <th>conviction</th>\n",
       "      <th>antecedent_len</th>\n",
       "      <th>consequent_len</th>\n",
       "    </tr>\n",
       "  </thead>\n",
       "  <tbody>\n",
       "    <tr>\n",
       "      <th>0</th>\n",
       "      <td>({'jupyter_prop_high'})</td>\n",
       "      <td>({'has_author_F'})</td>\n",
       "      <td>0.996703</td>\n",
       "      <td>1.005609</td>\n",
       "      <td>2.686347</td>\n",
       "      <td>1</td>\n",
       "      <td>1</td>\n",
       "    </tr>\n",
       "    <tr>\n",
       "      <th>89</th>\n",
       "      <td>({'jupyter_prop_high', 'non_exec_prop_lower'})</td>\n",
       "      <td>({'has_author_F'})</td>\n",
       "      <td>0.996445</td>\n",
       "      <td>1.005349</td>\n",
       "      <td>2.491513</td>\n",
       "      <td>2</td>\n",
       "      <td>1</td>\n",
       "    </tr>\n",
       "    <tr>\n",
       "      <th>80</th>\n",
       "      <td>({'jupyter_prop_high', 'num_contrib_lower'})</td>\n",
       "      <td>({'has_author_F'})</td>\n",
       "      <td>0.996399</td>\n",
       "      <td>1.005302</td>\n",
       "      <td>2.459041</td>\n",
       "      <td>2</td>\n",
       "      <td>1</td>\n",
       "    </tr>\n",
       "    <tr>\n",
       "      <th>83</th>\n",
       "      <td>({'is_education_F', 'jupyter_prop_high'})</td>\n",
       "      <td>({'has_author_F'})</td>\n",
       "      <td>0.996372</td>\n",
       "      <td>1.005275</td>\n",
       "      <td>2.441328</td>\n",
       "      <td>2</td>\n",
       "      <td>1</td>\n",
       "    </tr>\n",
       "    <tr>\n",
       "      <th>92</th>\n",
       "      <td>({'exec_inorder_higher', 'jupyter_prop_high'})</td>\n",
       "      <td>({'has_author_F'})</td>\n",
       "      <td>0.996324</td>\n",
       "      <td>1.005226</td>\n",
       "      <td>2.408856</td>\n",
       "      <td>2</td>\n",
       "      <td>1</td>\n",
       "    </tr>\n",
       "  </tbody>\n",
       "</table>\n",
       "</div>"
      ],
      "text/plain": [
       "                                       antecedents         consequents  \\\n",
       "0                          ({'jupyter_prop_high'})  ({'has_author_F'})   \n",
       "89  ({'jupyter_prop_high', 'non_exec_prop_lower'})  ({'has_author_F'})   \n",
       "80    ({'jupyter_prop_high', 'num_contrib_lower'})  ({'has_author_F'})   \n",
       "83       ({'is_education_F', 'jupyter_prop_high'})  ({'has_author_F'})   \n",
       "92  ({'exec_inorder_higher', 'jupyter_prop_high'})  ({'has_author_F'})   \n",
       "\n",
       "    confidence      lift  conviction  antecedent_len  consequent_len  \n",
       "0     0.996703  1.005609    2.686347               1               1  \n",
       "89    0.996445  1.005349    2.491513               2               1  \n",
       "80    0.996399  1.005302    2.459041               2               1  \n",
       "83    0.996372  1.005275    2.441328               2               1  \n",
       "92    0.996324  1.005226    2.408856               2               1  "
      ]
     },
     "execution_count": 26,
     "metadata": {},
     "output_type": "execute_result"
    }
   ],
   "source": [
    "export['antecedents'] = export['antecedents'].apply(lambda x : str(x).replace('frozenset', ''))\n",
    "export['consequents'] = export['consequents'].apply(lambda x : str(x).replace('frozenset', ''))\n",
    "export.head()"
   ]
  },
  {
   "cell_type": "code",
   "execution_count": 27,
   "metadata": {},
   "outputs": [],
   "source": [
    "export.to_csv('csv-files/no_md_association_rules.csv')"
   ]
  }
 ],
 "metadata": {
  "kernelspec": {
   "display_name": "Python 3",
   "language": "python",
   "name": "python3"
  },
  "language_info": {
   "codemirror_mode": {
    "name": "ipython",
    "version": 3
   },
   "file_extension": ".py",
   "mimetype": "text/x-python",
   "name": "python",
   "nbconvert_exporter": "python",
   "pygments_lexer": "ipython3",
   "version": "3.6.9"
  }
 },
 "nbformat": 4,
 "nbformat_minor": 2
}
