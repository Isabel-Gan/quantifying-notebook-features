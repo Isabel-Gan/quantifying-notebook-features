{
 "cells": [
  {
   "cell_type": "markdown",
   "metadata": {},
   "source": [
    "# Imports"
   ]
  },
  {
   "cell_type": "code",
   "execution_count": 1,
   "metadata": {},
   "outputs": [],
   "source": [
    "import pandas as pd"
   ]
  },
  {
   "cell_type": "markdown",
   "metadata": {},
   "source": [
    "# Itemset Analysis"
   ]
  },
  {
   "cell_type": "markdown",
   "metadata": {},
   "source": [
    "## Markdown Cells"
   ]
  },
  {
   "cell_type": "code",
   "execution_count": 52,
   "metadata": {},
   "outputs": [],
   "source": [
    "# load in the itemsets\n",
    "md_itemsets_original = pd.read_pickle('md_frequent_itemsets.pkl')"
   ]
  },
  {
   "cell_type": "code",
   "execution_count": 73,
   "metadata": {},
   "outputs": [],
   "source": [
    "# copy the original dataframe\n",
    "md_itemsets = md_itemsets_original.copy()"
   ]
  },
  {
   "cell_type": "code",
   "execution_count": 70,
   "metadata": {
    "scrolled": false
   },
   "outputs": [
    {
     "data": {
      "text/html": [
       "<div>\n",
       "<style scoped>\n",
       "    .dataframe tbody tr th:only-of-type {\n",
       "        vertical-align: middle;\n",
       "    }\n",
       "\n",
       "    .dataframe tbody tr th {\n",
       "        vertical-align: top;\n",
       "    }\n",
       "\n",
       "    .dataframe thead th {\n",
       "        text-align: right;\n",
       "    }\n",
       "</style>\n",
       "<table border=\"1\" class=\"dataframe\">\n",
       "  <thead>\n",
       "    <tr style=\"text-align: right;\">\n",
       "      <th></th>\n",
       "      <th>support</th>\n",
       "      <th>itemsets</th>\n",
       "      <th>length</th>\n",
       "    </tr>\n",
       "  </thead>\n",
       "  <tbody>\n",
       "    <tr>\n",
       "      <th>0</th>\n",
       "      <td>0.543867</td>\n",
       "      <td>(longer_beginning_T)</td>\n",
       "      <td>1</td>\n",
       "    </tr>\n",
       "    <tr>\n",
       "      <th>1</th>\n",
       "      <td>0.741161</td>\n",
       "      <td>(longer_ending_F)</td>\n",
       "      <td>1</td>\n",
       "    </tr>\n",
       "    <tr>\n",
       "      <th>2</th>\n",
       "      <td>0.953296</td>\n",
       "      <td>(has_author_F)</td>\n",
       "      <td>1</td>\n",
       "    </tr>\n",
       "    <tr>\n",
       "      <th>3</th>\n",
       "      <td>0.806198</td>\n",
       "      <td>(has_equation_F)</td>\n",
       "      <td>1</td>\n",
       "    </tr>\n",
       "    <tr>\n",
       "      <th>4</th>\n",
       "      <td>0.787429</td>\n",
       "      <td>(jupyter_prop_high)</td>\n",
       "      <td>1</td>\n",
       "    </tr>\n",
       "  </tbody>\n",
       "</table>\n",
       "</div>"
      ],
      "text/plain": [
       "    support              itemsets  length\n",
       "0  0.543867  (longer_beginning_T)       1\n",
       "1  0.741161     (longer_ending_F)       1\n",
       "2  0.953296        (has_author_F)       1\n",
       "3  0.806198      (has_equation_F)       1\n",
       "4  0.787429   (jupyter_prop_high)       1"
      ]
     },
     "execution_count": 70,
     "metadata": {},
     "output_type": "execute_result"
    }
   ],
   "source": [
    "# initial look at the data\n",
    "md_itemsets.head()"
   ]
  },
  {
   "cell_type": "code",
   "execution_count": 74,
   "metadata": {
    "scrolled": false
   },
   "outputs": [
    {
     "data": {
      "text/html": [
       "<div>\n",
       "<style scoped>\n",
       "    .dataframe tbody tr th:only-of-type {\n",
       "        vertical-align: middle;\n",
       "    }\n",
       "\n",
       "    .dataframe tbody tr th {\n",
       "        vertical-align: top;\n",
       "    }\n",
       "\n",
       "    .dataframe thead th {\n",
       "        text-align: right;\n",
       "    }\n",
       "</style>\n",
       "<table border=\"1\" class=\"dataframe\">\n",
       "  <thead>\n",
       "    <tr style=\"text-align: right;\">\n",
       "      <th></th>\n",
       "      <th>support</th>\n",
       "      <th>itemsets</th>\n",
       "      <th>length</th>\n",
       "    </tr>\n",
       "  </thead>\n",
       "  <tbody>\n",
       "    <tr>\n",
       "      <th>19</th>\n",
       "      <td>0.515932</td>\n",
       "      <td>(has_author_F, longer_beginning_T)</td>\n",
       "      <td>2</td>\n",
       "    </tr>\n",
       "    <tr>\n",
       "      <th>20</th>\n",
       "      <td>0.503710</td>\n",
       "      <td>(longer_beginning_T, num_contrib_lower)</td>\n",
       "      <td>2</td>\n",
       "    </tr>\n",
       "    <tr>\n",
       "      <th>21</th>\n",
       "      <td>0.503274</td>\n",
       "      <td>(longer_beginning_T, has_comments_T)</td>\n",
       "      <td>2</td>\n",
       "    </tr>\n",
       "    <tr>\n",
       "      <th>22</th>\n",
       "      <td>0.516368</td>\n",
       "      <td>(exec_inorder_higher, longer_beginning_T)</td>\n",
       "      <td>2</td>\n",
       "    </tr>\n",
       "    <tr>\n",
       "      <th>23</th>\n",
       "      <td>0.713226</td>\n",
       "      <td>(has_author_F, longer_ending_F)</td>\n",
       "      <td>2</td>\n",
       "    </tr>\n",
       "  </tbody>\n",
       "</table>\n",
       "</div>"
      ],
      "text/plain": [
       "     support                                   itemsets  length\n",
       "19  0.515932         (has_author_F, longer_beginning_T)       2\n",
       "20  0.503710    (longer_beginning_T, num_contrib_lower)       2\n",
       "21  0.503274       (longer_beginning_T, has_comments_T)       2\n",
       "22  0.516368  (exec_inorder_higher, longer_beginning_T)       2\n",
       "23  0.713226            (has_author_F, longer_ending_F)       2"
      ]
     },
     "execution_count": 74,
     "metadata": {},
     "output_type": "execute_result"
    }
   ],
   "source": [
    "# filter out itemsets with length 1\n",
    "md_itemsets = md_itemsets[md_itemsets['length'] > 1]\n",
    "md_itemsets.head()"
   ]
  },
  {
   "cell_type": "code",
   "execution_count": 75,
   "metadata": {
    "scrolled": true
   },
   "outputs": [],
   "source": [
    "# drop all sets that are subsets of other sets\n",
    "num_itemsets = len(md_itemsets)\n",
    "for index in md_itemsets.index:\n",
    "    \n",
    "    # check if this index is a subset of a later frozenset\n",
    "    for i in range(index + 1, num_itemsets):\n",
    "        if md_itemsets.loc[index]['itemsets'].issubset(md_itemsets.loc[i]['itemsets']):\n",
    "            md_itemsets = md_itemsets.drop(index = index)\n",
    "            break"
   ]
  },
  {
   "cell_type": "code",
   "execution_count": 77,
   "metadata": {
    "scrolled": true
   },
   "outputs": [
    {
     "data": {
      "text/html": [
       "<div>\n",
       "<style scoped>\n",
       "    .dataframe tbody tr th:only-of-type {\n",
       "        vertical-align: middle;\n",
       "    }\n",
       "\n",
       "    .dataframe tbody tr th {\n",
       "        vertical-align: top;\n",
       "    }\n",
       "\n",
       "    .dataframe thead th {\n",
       "        text-align: right;\n",
       "    }\n",
       "</style>\n",
       "<table border=\"1\" class=\"dataframe\">\n",
       "  <thead>\n",
       "    <tr style=\"text-align: right;\">\n",
       "      <th></th>\n",
       "      <th>support</th>\n",
       "      <th>itemsets</th>\n",
       "      <th>length</th>\n",
       "    </tr>\n",
       "  </thead>\n",
       "  <tbody>\n",
       "    <tr>\n",
       "      <th>19</th>\n",
       "      <td>0.515932</td>\n",
       "      <td>(has_author_F, longer_beginning_T)</td>\n",
       "      <td>2</td>\n",
       "    </tr>\n",
       "    <tr>\n",
       "      <th>20</th>\n",
       "      <td>0.503710</td>\n",
       "      <td>(longer_beginning_T, num_contrib_lower)</td>\n",
       "      <td>2</td>\n",
       "    </tr>\n",
       "    <tr>\n",
       "      <th>21</th>\n",
       "      <td>0.503274</td>\n",
       "      <td>(longer_beginning_T, has_comments_T)</td>\n",
       "      <td>2</td>\n",
       "    </tr>\n",
       "    <tr>\n",
       "      <th>22</th>\n",
       "      <td>0.516368</td>\n",
       "      <td>(exec_inorder_higher, longer_beginning_T)</td>\n",
       "      <td>2</td>\n",
       "    </tr>\n",
       "    <tr>\n",
       "      <th>39</th>\n",
       "      <td>0.516805</td>\n",
       "      <td>(has_author_F, image_prop_low)</td>\n",
       "      <td>2</td>\n",
       "    </tr>\n",
       "    <tr>\n",
       "      <th>...</th>\n",
       "      <td>...</td>\n",
       "      <td>...</td>\n",
       "      <td>...</td>\n",
       "    </tr>\n",
       "    <tr>\n",
       "      <th>1262</th>\n",
       "      <td>0.522916</td>\n",
       "      <td>(has_error_F, num_commits_lower, num_contrib_l...</td>\n",
       "      <td>6</td>\n",
       "    </tr>\n",
       "    <tr>\n",
       "      <th>1263</th>\n",
       "      <td>0.502837</td>\n",
       "      <td>(has_comments_T, has_author_F, num_commits_low...</td>\n",
       "      <td>7</td>\n",
       "    </tr>\n",
       "    <tr>\n",
       "      <th>1264</th>\n",
       "      <td>0.512003</td>\n",
       "      <td>(has_error_F, has_comments_T, has_author_F, nu...</td>\n",
       "      <td>7</td>\n",
       "    </tr>\n",
       "    <tr>\n",
       "      <th>1265</th>\n",
       "      <td>0.504583</td>\n",
       "      <td>(has_error_F, has_comments_T, has_author_F, nu...</td>\n",
       "      <td>7</td>\n",
       "    </tr>\n",
       "    <tr>\n",
       "      <th>1266</th>\n",
       "      <td>0.505020</td>\n",
       "      <td>(has_error_F, has_author_F, num_commits_lower,...</td>\n",
       "      <td>7</td>\n",
       "    </tr>\n",
       "  </tbody>\n",
       "</table>\n",
       "<p>301 rows × 3 columns</p>\n",
       "</div>"
      ],
      "text/plain": [
       "       support                                           itemsets  length\n",
       "19    0.515932                 (has_author_F, longer_beginning_T)       2\n",
       "20    0.503710            (longer_beginning_T, num_contrib_lower)       2\n",
       "21    0.503274               (longer_beginning_T, has_comments_T)       2\n",
       "22    0.516368          (exec_inorder_higher, longer_beginning_T)       2\n",
       "39    0.516805                     (has_author_F, image_prop_low)       2\n",
       "...        ...                                                ...     ...\n",
       "1262  0.522916  (has_error_F, num_commits_lower, num_contrib_l...       6\n",
       "1263  0.502837  (has_comments_T, has_author_F, num_commits_low...       7\n",
       "1264  0.512003  (has_error_F, has_comments_T, has_author_F, nu...       7\n",
       "1265  0.504583  (has_error_F, has_comments_T, has_author_F, nu...       7\n",
       "1266  0.505020  (has_error_F, has_author_F, num_commits_lower,...       7\n",
       "\n",
       "[301 rows x 3 columns]"
      ]
     },
     "execution_count": 77,
     "metadata": {},
     "output_type": "execute_result"
    }
   ],
   "source": [
    "# look at the filtered itemsets\n",
    "md_itemsets"
   ]
  },
  {
   "cell_type": "code",
   "execution_count": 84,
   "metadata": {},
   "outputs": [],
   "source": [
    "# create a copy of the filtered dataframe we will export\n",
    "md_itemsets_export = md_itemsets.copy()\n",
    "\n",
    "# change itemset column to string\n",
    "md_itemsets_export['itemsets'] = md_itemsets_export['itemsets'].apply(lambda x : str(x).replace('frozenset', ''))"
   ]
  },
  {
   "cell_type": "code",
   "execution_count": 86,
   "metadata": {},
   "outputs": [
    {
     "data": {
      "text/html": [
       "<div>\n",
       "<style scoped>\n",
       "    .dataframe tbody tr th:only-of-type {\n",
       "        vertical-align: middle;\n",
       "    }\n",
       "\n",
       "    .dataframe tbody tr th {\n",
       "        vertical-align: top;\n",
       "    }\n",
       "\n",
       "    .dataframe thead th {\n",
       "        text-align: right;\n",
       "    }\n",
       "</style>\n",
       "<table border=\"1\" class=\"dataframe\">\n",
       "  <thead>\n",
       "    <tr style=\"text-align: right;\">\n",
       "      <th></th>\n",
       "      <th>support</th>\n",
       "      <th>itemsets</th>\n",
       "      <th>length</th>\n",
       "    </tr>\n",
       "  </thead>\n",
       "  <tbody>\n",
       "    <tr>\n",
       "      <th>19</th>\n",
       "      <td>0.515932</td>\n",
       "      <td>({'has_author_F', 'longer_beginning_T'})</td>\n",
       "      <td>2</td>\n",
       "    </tr>\n",
       "    <tr>\n",
       "      <th>20</th>\n",
       "      <td>0.503710</td>\n",
       "      <td>({'longer_beginning_T', 'num_contrib_lower'})</td>\n",
       "      <td>2</td>\n",
       "    </tr>\n",
       "    <tr>\n",
       "      <th>21</th>\n",
       "      <td>0.503274</td>\n",
       "      <td>({'longer_beginning_T', 'has_comments_T'})</td>\n",
       "      <td>2</td>\n",
       "    </tr>\n",
       "    <tr>\n",
       "      <th>22</th>\n",
       "      <td>0.516368</td>\n",
       "      <td>({'exec_inorder_higher', 'longer_beginning_T'})</td>\n",
       "      <td>2</td>\n",
       "    </tr>\n",
       "    <tr>\n",
       "      <th>39</th>\n",
       "      <td>0.516805</td>\n",
       "      <td>({'has_author_F', 'image_prop_low'})</td>\n",
       "      <td>2</td>\n",
       "    </tr>\n",
       "    <tr>\n",
       "      <th>...</th>\n",
       "      <td>...</td>\n",
       "      <td>...</td>\n",
       "      <td>...</td>\n",
       "    </tr>\n",
       "    <tr>\n",
       "      <th>1262</th>\n",
       "      <td>0.522916</td>\n",
       "      <td>({'has_error_F', 'num_commits_lower', 'num_con...</td>\n",
       "      <td>6</td>\n",
       "    </tr>\n",
       "    <tr>\n",
       "      <th>1263</th>\n",
       "      <td>0.502837</td>\n",
       "      <td>({'has_comments_T', 'has_author_F', 'num_commi...</td>\n",
       "      <td>7</td>\n",
       "    </tr>\n",
       "    <tr>\n",
       "      <th>1264</th>\n",
       "      <td>0.512003</td>\n",
       "      <td>({'has_error_F', 'has_comments_T', 'has_author...</td>\n",
       "      <td>7</td>\n",
       "    </tr>\n",
       "    <tr>\n",
       "      <th>1265</th>\n",
       "      <td>0.504583</td>\n",
       "      <td>({'has_error_F', 'has_comments_T', 'has_author...</td>\n",
       "      <td>7</td>\n",
       "    </tr>\n",
       "    <tr>\n",
       "      <th>1266</th>\n",
       "      <td>0.505020</td>\n",
       "      <td>({'has_error_F', 'has_author_F', 'num_commits_...</td>\n",
       "      <td>7</td>\n",
       "    </tr>\n",
       "  </tbody>\n",
       "</table>\n",
       "<p>301 rows × 3 columns</p>\n",
       "</div>"
      ],
      "text/plain": [
       "       support                                           itemsets  length\n",
       "19    0.515932           ({'has_author_F', 'longer_beginning_T'})       2\n",
       "20    0.503710      ({'longer_beginning_T', 'num_contrib_lower'})       2\n",
       "21    0.503274         ({'longer_beginning_T', 'has_comments_T'})       2\n",
       "22    0.516368    ({'exec_inorder_higher', 'longer_beginning_T'})       2\n",
       "39    0.516805               ({'has_author_F', 'image_prop_low'})       2\n",
       "...        ...                                                ...     ...\n",
       "1262  0.522916  ({'has_error_F', 'num_commits_lower', 'num_con...       6\n",
       "1263  0.502837  ({'has_comments_T', 'has_author_F', 'num_commi...       7\n",
       "1264  0.512003  ({'has_error_F', 'has_comments_T', 'has_author...       7\n",
       "1265  0.504583  ({'has_error_F', 'has_comments_T', 'has_author...       7\n",
       "1266  0.505020  ({'has_error_F', 'has_author_F', 'num_commits_...       7\n",
       "\n",
       "[301 rows x 3 columns]"
      ]
     },
     "execution_count": 86,
     "metadata": {},
     "output_type": "execute_result"
    }
   ],
   "source": [
    "# check the export dataframe\n",
    "md_itemsets_export"
   ]
  },
  {
   "cell_type": "code",
   "execution_count": 87,
   "metadata": {},
   "outputs": [],
   "source": [
    "# export the dataframe\n",
    "md_itemsets_export.to_csv('md_itemsets_filtered.csv')"
   ]
  }
 ],
 "metadata": {
  "kernelspec": {
   "display_name": "Python 3",
   "language": "python",
   "name": "python3"
  },
  "language_info": {
   "codemirror_mode": {
    "name": "ipython",
    "version": 3
   },
   "file_extension": ".py",
   "mimetype": "text/x-python",
   "name": "python",
   "nbconvert_exporter": "python",
   "pygments_lexer": "ipython3",
   "version": "3.6.9"
  }
 },
 "nbformat": 4,
 "nbformat_minor": 2
}
