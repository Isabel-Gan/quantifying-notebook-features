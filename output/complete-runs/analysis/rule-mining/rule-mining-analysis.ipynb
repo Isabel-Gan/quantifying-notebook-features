{
 "cells": [
  {
   "cell_type": "markdown",
   "metadata": {},
   "source": [
    "# Imports"
   ]
  },
  {
   "cell_type": "code",
   "execution_count": 126,
   "metadata": {},
   "outputs": [],
   "source": [
    "import pandas as pd"
   ]
  },
  {
   "cell_type": "markdown",
   "metadata": {},
   "source": [
    "# Itemset Analysis"
   ]
  },
  {
   "cell_type": "markdown",
   "metadata": {},
   "source": [
    "## Markdown Cells"
   ]
  },
  {
   "cell_type": "code",
   "execution_count": 127,
   "metadata": {},
   "outputs": [],
   "source": [
    "# load in the itemsets\n",
    "md_itemsets_original = pd.read_pickle('md_frequent_itemsets.pkl')"
   ]
  },
  {
   "cell_type": "code",
   "execution_count": 128,
   "metadata": {},
   "outputs": [],
   "source": [
    "# copy the original dataframe\n",
    "md_itemsets = md_itemsets_original.copy()"
   ]
  },
  {
   "cell_type": "code",
   "execution_count": 147,
   "metadata": {
    "scrolled": false
   },
   "outputs": [
    {
     "name": "stdout",
     "output_type": "stream",
     "text": [
      "original length is 1267 itemsets\n"
     ]
    }
   ],
   "source": [
    "# initial look at the data\n",
    "md_itemsets.head()\n",
    "print(\"original length is \" + str(len(md_itemsets_original)) + \" itemsets\")"
   ]
  },
  {
   "cell_type": "code",
   "execution_count": 130,
   "metadata": {
    "scrolled": false
   },
   "outputs": [
    {
     "data": {
      "text/html": [
       "<div>\n",
       "<style scoped>\n",
       "    .dataframe tbody tr th:only-of-type {\n",
       "        vertical-align: middle;\n",
       "    }\n",
       "\n",
       "    .dataframe tbody tr th {\n",
       "        vertical-align: top;\n",
       "    }\n",
       "\n",
       "    .dataframe thead th {\n",
       "        text-align: right;\n",
       "    }\n",
       "</style>\n",
       "<table border=\"1\" class=\"dataframe\">\n",
       "  <thead>\n",
       "    <tr style=\"text-align: right;\">\n",
       "      <th></th>\n",
       "      <th>support</th>\n",
       "      <th>itemsets</th>\n",
       "      <th>length</th>\n",
       "    </tr>\n",
       "  </thead>\n",
       "  <tbody>\n",
       "    <tr>\n",
       "      <th>19</th>\n",
       "      <td>0.515932</td>\n",
       "      <td>(has_author_F, longer_beginning_T)</td>\n",
       "      <td>2</td>\n",
       "    </tr>\n",
       "    <tr>\n",
       "      <th>20</th>\n",
       "      <td>0.503710</td>\n",
       "      <td>(longer_beginning_T, num_contrib_lower)</td>\n",
       "      <td>2</td>\n",
       "    </tr>\n",
       "    <tr>\n",
       "      <th>21</th>\n",
       "      <td>0.503274</td>\n",
       "      <td>(longer_beginning_T, has_comments_T)</td>\n",
       "      <td>2</td>\n",
       "    </tr>\n",
       "    <tr>\n",
       "      <th>22</th>\n",
       "      <td>0.516368</td>\n",
       "      <td>(exec_inorder_higher, longer_beginning_T)</td>\n",
       "      <td>2</td>\n",
       "    </tr>\n",
       "    <tr>\n",
       "      <th>23</th>\n",
       "      <td>0.713226</td>\n",
       "      <td>(has_author_F, longer_ending_F)</td>\n",
       "      <td>2</td>\n",
       "    </tr>\n",
       "  </tbody>\n",
       "</table>\n",
       "</div>"
      ],
      "text/plain": [
       "     support                                   itemsets  length\n",
       "19  0.515932         (has_author_F, longer_beginning_T)       2\n",
       "20  0.503710    (longer_beginning_T, num_contrib_lower)       2\n",
       "21  0.503274       (longer_beginning_T, has_comments_T)       2\n",
       "22  0.516368  (exec_inorder_higher, longer_beginning_T)       2\n",
       "23  0.713226            (has_author_F, longer_ending_F)       2"
      ]
     },
     "execution_count": 130,
     "metadata": {},
     "output_type": "execute_result"
    }
   ],
   "source": [
    "# filter out itemsets with length 1\n",
    "md_itemsets_small = md_itemsets[md_itemsets['length'] == 1]\n",
    "md_itemsets =  md_itemsets.drop(index = md_itemsets_small.index)\n",
    "md_itemsets.head()"
   ]
  },
  {
   "cell_type": "code",
   "execution_count": 131,
   "metadata": {
    "scrolled": true
   },
   "outputs": [
    {
     "name": "stdout",
     "output_type": "stream",
     "text": [
      "filtered down to 301 itemsets\n"
     ]
    }
   ],
   "source": [
    "# drop all sets that are subsets of other sets\n",
    "num_itemsets = len(md_itemsets)\n",
    "for index in md_itemsets.index:\n",
    "    \n",
    "    # check if this index is a subset of a later frozenset\n",
    "    for i in range(index + 1, num_itemsets):\n",
    "        if md_itemsets.loc[index]['itemsets'].issubset(md_itemsets.loc[i]['itemsets']):\n",
    "            md_itemsets = md_itemsets.drop(index = index)\n",
    "            break\n",
    "            \n",
    "print(\"filtered down to \" + str(len(md_itemsets)) + \" itemsets\")"
   ]
  },
  {
   "cell_type": "code",
   "execution_count": 132,
   "metadata": {},
   "outputs": [
    {
     "name": "stdout",
     "output_type": "stream",
     "text": [
      "added back 19 itemsets\n"
     ]
    }
   ],
   "source": [
    "# add back the length 1 itemsets\n",
    "md_itemsets = md_itemsets.append(md_itemsets_small)\n",
    "print(\"added back \" + str(len(md_itemsets_small)) + \" itemsets\")"
   ]
  },
  {
   "cell_type": "code",
   "execution_count": 133,
   "metadata": {
    "scrolled": false
   },
   "outputs": [
    {
     "data": {
      "text/html": [
       "<div>\n",
       "<style scoped>\n",
       "    .dataframe tbody tr th:only-of-type {\n",
       "        vertical-align: middle;\n",
       "    }\n",
       "\n",
       "    .dataframe tbody tr th {\n",
       "        vertical-align: top;\n",
       "    }\n",
       "\n",
       "    .dataframe thead th {\n",
       "        text-align: right;\n",
       "    }\n",
       "</style>\n",
       "<table border=\"1\" class=\"dataframe\">\n",
       "  <thead>\n",
       "    <tr style=\"text-align: right;\">\n",
       "      <th></th>\n",
       "      <th>support</th>\n",
       "      <th>itemsets</th>\n",
       "      <th>length</th>\n",
       "    </tr>\n",
       "  </thead>\n",
       "  <tbody>\n",
       "    <tr>\n",
       "      <th>19</th>\n",
       "      <td>0.515932</td>\n",
       "      <td>(has_author_F, longer_beginning_T)</td>\n",
       "      <td>2</td>\n",
       "    </tr>\n",
       "    <tr>\n",
       "      <th>20</th>\n",
       "      <td>0.503710</td>\n",
       "      <td>(longer_beginning_T, num_contrib_lower)</td>\n",
       "      <td>2</td>\n",
       "    </tr>\n",
       "    <tr>\n",
       "      <th>21</th>\n",
       "      <td>0.503274</td>\n",
       "      <td>(longer_beginning_T, has_comments_T)</td>\n",
       "      <td>2</td>\n",
       "    </tr>\n",
       "    <tr>\n",
       "      <th>22</th>\n",
       "      <td>0.516368</td>\n",
       "      <td>(exec_inorder_higher, longer_beginning_T)</td>\n",
       "      <td>2</td>\n",
       "    </tr>\n",
       "    <tr>\n",
       "      <th>39</th>\n",
       "      <td>0.516805</td>\n",
       "      <td>(has_author_F, image_prop_low)</td>\n",
       "      <td>2</td>\n",
       "    </tr>\n",
       "    <tr>\n",
       "      <th>...</th>\n",
       "      <td>...</td>\n",
       "      <td>...</td>\n",
       "      <td>...</td>\n",
       "    </tr>\n",
       "    <tr>\n",
       "      <th>14</th>\n",
       "      <td>0.539502</td>\n",
       "      <td>(md_format_F)</td>\n",
       "      <td>1</td>\n",
       "    </tr>\n",
       "    <tr>\n",
       "      <th>15</th>\n",
       "      <td>0.874291</td>\n",
       "      <td>(non_exec_prop_low)</td>\n",
       "      <td>1</td>\n",
       "    </tr>\n",
       "    <tr>\n",
       "      <th>16</th>\n",
       "      <td>0.951550</td>\n",
       "      <td>(exec_inorder_higher)</td>\n",
       "      <td>1</td>\n",
       "    </tr>\n",
       "    <tr>\n",
       "      <th>17</th>\n",
       "      <td>0.840244</td>\n",
       "      <td>(exec_skips_lower)</td>\n",
       "      <td>1</td>\n",
       "    </tr>\n",
       "    <tr>\n",
       "      <th>18</th>\n",
       "      <td>0.865997</td>\n",
       "      <td>(has_error_F)</td>\n",
       "      <td>1</td>\n",
       "    </tr>\n",
       "  </tbody>\n",
       "</table>\n",
       "<p>320 rows × 3 columns</p>\n",
       "</div>"
      ],
      "text/plain": [
       "     support                                   itemsets  length\n",
       "19  0.515932         (has_author_F, longer_beginning_T)       2\n",
       "20  0.503710    (longer_beginning_T, num_contrib_lower)       2\n",
       "21  0.503274       (longer_beginning_T, has_comments_T)       2\n",
       "22  0.516368  (exec_inorder_higher, longer_beginning_T)       2\n",
       "39  0.516805             (has_author_F, image_prop_low)       2\n",
       "..       ...                                        ...     ...\n",
       "14  0.539502                              (md_format_F)       1\n",
       "15  0.874291                        (non_exec_prop_low)       1\n",
       "16  0.951550                      (exec_inorder_higher)       1\n",
       "17  0.840244                         (exec_skips_lower)       1\n",
       "18  0.865997                              (has_error_F)       1\n",
       "\n",
       "[320 rows x 3 columns]"
      ]
     },
     "execution_count": 133,
     "metadata": {},
     "output_type": "execute_result"
    }
   ],
   "source": [
    "# look at the filtered itemsets\n",
    "md_itemsets"
   ]
  },
  {
   "cell_type": "code",
   "execution_count": 134,
   "metadata": {},
   "outputs": [],
   "source": [
    "# create a copy of the filtered dataframe we will export\n",
    "md_itemsets_export = md_itemsets.copy()\n",
    "\n",
    "# change itemset column to string\n",
    "md_itemsets_export['itemsets'] = md_itemsets_export['itemsets'].apply(lambda x : str(x).replace('frozenset', ''))"
   ]
  },
  {
   "cell_type": "code",
   "execution_count": 135,
   "metadata": {},
   "outputs": [
    {
     "data": {
      "text/html": [
       "<div>\n",
       "<style scoped>\n",
       "    .dataframe tbody tr th:only-of-type {\n",
       "        vertical-align: middle;\n",
       "    }\n",
       "\n",
       "    .dataframe tbody tr th {\n",
       "        vertical-align: top;\n",
       "    }\n",
       "\n",
       "    .dataframe thead th {\n",
       "        text-align: right;\n",
       "    }\n",
       "</style>\n",
       "<table border=\"1\" class=\"dataframe\">\n",
       "  <thead>\n",
       "    <tr style=\"text-align: right;\">\n",
       "      <th></th>\n",
       "      <th>support</th>\n",
       "      <th>itemsets</th>\n",
       "      <th>length</th>\n",
       "    </tr>\n",
       "  </thead>\n",
       "  <tbody>\n",
       "    <tr>\n",
       "      <th>19</th>\n",
       "      <td>0.515932</td>\n",
       "      <td>({'has_author_F', 'longer_beginning_T'})</td>\n",
       "      <td>2</td>\n",
       "    </tr>\n",
       "    <tr>\n",
       "      <th>20</th>\n",
       "      <td>0.503710</td>\n",
       "      <td>({'longer_beginning_T', 'num_contrib_lower'})</td>\n",
       "      <td>2</td>\n",
       "    </tr>\n",
       "    <tr>\n",
       "      <th>21</th>\n",
       "      <td>0.503274</td>\n",
       "      <td>({'longer_beginning_T', 'has_comments_T'})</td>\n",
       "      <td>2</td>\n",
       "    </tr>\n",
       "    <tr>\n",
       "      <th>22</th>\n",
       "      <td>0.516368</td>\n",
       "      <td>({'exec_inorder_higher', 'longer_beginning_T'})</td>\n",
       "      <td>2</td>\n",
       "    </tr>\n",
       "    <tr>\n",
       "      <th>39</th>\n",
       "      <td>0.516805</td>\n",
       "      <td>({'has_author_F', 'image_prop_low'})</td>\n",
       "      <td>2</td>\n",
       "    </tr>\n",
       "    <tr>\n",
       "      <th>...</th>\n",
       "      <td>...</td>\n",
       "      <td>...</td>\n",
       "      <td>...</td>\n",
       "    </tr>\n",
       "    <tr>\n",
       "      <th>14</th>\n",
       "      <td>0.539502</td>\n",
       "      <td>({'md_format_F'})</td>\n",
       "      <td>1</td>\n",
       "    </tr>\n",
       "    <tr>\n",
       "      <th>15</th>\n",
       "      <td>0.874291</td>\n",
       "      <td>({'non_exec_prop_low'})</td>\n",
       "      <td>1</td>\n",
       "    </tr>\n",
       "    <tr>\n",
       "      <th>16</th>\n",
       "      <td>0.951550</td>\n",
       "      <td>({'exec_inorder_higher'})</td>\n",
       "      <td>1</td>\n",
       "    </tr>\n",
       "    <tr>\n",
       "      <th>17</th>\n",
       "      <td>0.840244</td>\n",
       "      <td>({'exec_skips_lower'})</td>\n",
       "      <td>1</td>\n",
       "    </tr>\n",
       "    <tr>\n",
       "      <th>18</th>\n",
       "      <td>0.865997</td>\n",
       "      <td>({'has_error_F'})</td>\n",
       "      <td>1</td>\n",
       "    </tr>\n",
       "  </tbody>\n",
       "</table>\n",
       "<p>320 rows × 3 columns</p>\n",
       "</div>"
      ],
      "text/plain": [
       "     support                                         itemsets  length\n",
       "19  0.515932         ({'has_author_F', 'longer_beginning_T'})       2\n",
       "20  0.503710    ({'longer_beginning_T', 'num_contrib_lower'})       2\n",
       "21  0.503274       ({'longer_beginning_T', 'has_comments_T'})       2\n",
       "22  0.516368  ({'exec_inorder_higher', 'longer_beginning_T'})       2\n",
       "39  0.516805             ({'has_author_F', 'image_prop_low'})       2\n",
       "..       ...                                              ...     ...\n",
       "14  0.539502                                ({'md_format_F'})       1\n",
       "15  0.874291                          ({'non_exec_prop_low'})       1\n",
       "16  0.951550                        ({'exec_inorder_higher'})       1\n",
       "17  0.840244                           ({'exec_skips_lower'})       1\n",
       "18  0.865997                                ({'has_error_F'})       1\n",
       "\n",
       "[320 rows x 3 columns]"
      ]
     },
     "execution_count": 135,
     "metadata": {},
     "output_type": "execute_result"
    }
   ],
   "source": [
    "# check the export dataframe\n",
    "md_itemsets_export"
   ]
  },
  {
   "cell_type": "code",
   "execution_count": 136,
   "metadata": {},
   "outputs": [],
   "source": [
    "# export the dataframe\n",
    "md_itemsets_export.to_csv('md_itemsets_filtered.csv')"
   ]
  },
  {
   "cell_type": "markdown",
   "metadata": {},
   "source": [
    "## No Markdown Cells"
   ]
  },
  {
   "cell_type": "code",
   "execution_count": 137,
   "metadata": {},
   "outputs": [],
   "source": [
    "# load in the itemsets\n",
    "no_md_itemsets_original = pd.read_pickle('no_md_frequent_itemsets.pkl')"
   ]
  },
  {
   "cell_type": "code",
   "execution_count": 138,
   "metadata": {},
   "outputs": [],
   "source": [
    "# copy the original dataframe\n",
    "no_md_itemsets = no_md_itemsets_original.copy()"
   ]
  },
  {
   "cell_type": "code",
   "execution_count": 148,
   "metadata": {
    "scrolled": false
   },
   "outputs": [
    {
     "name": "stdout",
     "output_type": "stream",
     "text": [
      "original length is 346 itemsets\n"
     ]
    }
   ],
   "source": [
    "# initial look at the data\n",
    "no_md_itemsets.head()\n",
    "print(\"original length is \" + str(len(no_md_itemsets_original)) + \" itemsets\")"
   ]
  },
  {
   "cell_type": "code",
   "execution_count": 140,
   "metadata": {
    "scrolled": true
   },
   "outputs": [
    {
     "data": {
      "text/html": [
       "<div>\n",
       "<style scoped>\n",
       "    .dataframe tbody tr th:only-of-type {\n",
       "        vertical-align: middle;\n",
       "    }\n",
       "\n",
       "    .dataframe tbody tr th {\n",
       "        vertical-align: top;\n",
       "    }\n",
       "\n",
       "    .dataframe thead th {\n",
       "        text-align: right;\n",
       "    }\n",
       "</style>\n",
       "<table border=\"1\" class=\"dataframe\">\n",
       "  <thead>\n",
       "    <tr style=\"text-align: right;\">\n",
       "      <th></th>\n",
       "      <th>support</th>\n",
       "      <th>itemsets</th>\n",
       "      <th>length</th>\n",
       "    </tr>\n",
       "  </thead>\n",
       "  <tbody>\n",
       "    <tr>\n",
       "      <th>11</th>\n",
       "      <td>0.669373</td>\n",
       "      <td>(has_author_F, jupyter_prop_high)</td>\n",
       "      <td>2</td>\n",
       "    </tr>\n",
       "    <tr>\n",
       "      <th>12</th>\n",
       "      <td>0.904797</td>\n",
       "      <td>(has_author_F, num_contrib_lower)</td>\n",
       "      <td>2</td>\n",
       "    </tr>\n",
       "    <tr>\n",
       "      <th>13</th>\n",
       "      <td>0.667897</td>\n",
       "      <td>(has_author_F, image_prop_low)</td>\n",
       "      <td>2</td>\n",
       "    </tr>\n",
       "    <tr>\n",
       "      <th>14</th>\n",
       "      <td>0.883395</td>\n",
       "      <td>(has_author_F, is_education_F)</td>\n",
       "      <td>2</td>\n",
       "    </tr>\n",
       "    <tr>\n",
       "      <th>15</th>\n",
       "      <td>0.669373</td>\n",
       "      <td>(has_author_F, has_comments_T)</td>\n",
       "      <td>2</td>\n",
       "    </tr>\n",
       "  </tbody>\n",
       "</table>\n",
       "</div>"
      ],
      "text/plain": [
       "     support                           itemsets  length\n",
       "11  0.669373  (has_author_F, jupyter_prop_high)       2\n",
       "12  0.904797  (has_author_F, num_contrib_lower)       2\n",
       "13  0.667897     (has_author_F, image_prop_low)       2\n",
       "14  0.883395     (has_author_F, is_education_F)       2\n",
       "15  0.669373     (has_author_F, has_comments_T)       2"
      ]
     },
     "execution_count": 140,
     "metadata": {},
     "output_type": "execute_result"
    }
   ],
   "source": [
    "# filter out itemsets with length 1\n",
    "no_md_itemsets_small = no_md_itemsets[no_md_itemsets['length'] == 1]\n",
    "no_md_itemsets = no_md_itemsets.drop(index = no_md_itemsets_small.index)\n",
    "no_md_itemsets.head()"
   ]
  },
  {
   "cell_type": "code",
   "execution_count": 141,
   "metadata": {},
   "outputs": [
    {
     "name": "stdout",
     "output_type": "stream",
     "text": [
      "filtered down to 94 itemsets\n"
     ]
    }
   ],
   "source": [
    "# drop all sets that are subsets of other sets\n",
    "num_itemsets = len(no_md_itemsets)\n",
    "for index in no_md_itemsets.index:\n",
    "    \n",
    "    # check if this index is a subset of a later frozenset\n",
    "    for i in range(index + 1, num_itemsets):\n",
    "        if no_md_itemsets.loc[index]['itemsets'].issubset(no_md_itemsets.loc[i]['itemsets']):\n",
    "            no_md_itemsets = no_md_itemsets.drop(index = index)\n",
    "            break\n",
    "\n",
    "print(\"filtered down to \" + str(len(no_md_itemsets)) + \" itemsets\")"
   ]
  },
  {
   "cell_type": "code",
   "execution_count": 142,
   "metadata": {},
   "outputs": [
    {
     "name": "stdout",
     "output_type": "stream",
     "text": [
      "added back 11 itemsets\n"
     ]
    }
   ],
   "source": [
    "# add back the length 1 itemsets\n",
    "no_md_itemsets = no_md_itemsets.append(no_md_itemsets_small)\n",
    "print(\"added back \" + str(len(no_md_itemsets_small)) + \" itemsets\")"
   ]
  },
  {
   "cell_type": "code",
   "execution_count": 143,
   "metadata": {
    "scrolled": true
   },
   "outputs": [
    {
     "data": {
      "text/html": [
       "<div>\n",
       "<style scoped>\n",
       "    .dataframe tbody tr th:only-of-type {\n",
       "        vertical-align: middle;\n",
       "    }\n",
       "\n",
       "    .dataframe tbody tr th {\n",
       "        vertical-align: top;\n",
       "    }\n",
       "\n",
       "    .dataframe thead th {\n",
       "        text-align: right;\n",
       "    }\n",
       "</style>\n",
       "<table border=\"1\" class=\"dataframe\">\n",
       "  <thead>\n",
       "    <tr style=\"text-align: right;\">\n",
       "      <th></th>\n",
       "      <th>support</th>\n",
       "      <th>itemsets</th>\n",
       "      <th>length</th>\n",
       "    </tr>\n",
       "  </thead>\n",
       "  <tbody>\n",
       "    <tr>\n",
       "      <th>64</th>\n",
       "      <td>0.524723</td>\n",
       "      <td>(has_author_F, jupyter_prop_high, num_commits_...</td>\n",
       "      <td>3</td>\n",
       "    </tr>\n",
       "    <tr>\n",
       "      <th>78</th>\n",
       "      <td>0.535055</td>\n",
       "      <td>(has_author_F, image_prop_low, num_commits_lower)</td>\n",
       "      <td>3</td>\n",
       "    </tr>\n",
       "    <tr>\n",
       "      <th>110</th>\n",
       "      <td>0.500369</td>\n",
       "      <td>(jupyter_prop_high, has_error_F, is_education_F)</td>\n",
       "      <td>3</td>\n",
       "    </tr>\n",
       "    <tr>\n",
       "      <th>166</th>\n",
       "      <td>0.500369</td>\n",
       "      <td>(has_error_F, has_comments_T, exec_skips_lower)</td>\n",
       "      <td>3</td>\n",
       "    </tr>\n",
       "    <tr>\n",
       "      <th>180</th>\n",
       "      <td>0.529889</td>\n",
       "      <td>(has_author_F, jupyter_prop_high, exec_skips_l...</td>\n",
       "      <td>4</td>\n",
       "    </tr>\n",
       "    <tr>\n",
       "      <th>...</th>\n",
       "      <td>...</td>\n",
       "      <td>...</td>\n",
       "      <td>...</td>\n",
       "    </tr>\n",
       "    <tr>\n",
       "      <th>6</th>\n",
       "      <td>0.769004</td>\n",
       "      <td>(num_commits_lower)</td>\n",
       "      <td>1</td>\n",
       "    </tr>\n",
       "    <tr>\n",
       "      <th>7</th>\n",
       "      <td>0.921771</td>\n",
       "      <td>(non_exec_prop_lower)</td>\n",
       "      <td>1</td>\n",
       "    </tr>\n",
       "    <tr>\n",
       "      <th>8</th>\n",
       "      <td>0.889299</td>\n",
       "      <td>(exec_inorder_higher)</td>\n",
       "      <td>1</td>\n",
       "    </tr>\n",
       "    <tr>\n",
       "      <th>9</th>\n",
       "      <td>0.870111</td>\n",
       "      <td>(exec_skips_lower)</td>\n",
       "      <td>1</td>\n",
       "    </tr>\n",
       "    <tr>\n",
       "      <th>10</th>\n",
       "      <td>0.840590</td>\n",
       "      <td>(has_error_F)</td>\n",
       "      <td>1</td>\n",
       "    </tr>\n",
       "  </tbody>\n",
       "</table>\n",
       "<p>105 rows × 3 columns</p>\n",
       "</div>"
      ],
      "text/plain": [
       "      support                                           itemsets  length\n",
       "64   0.524723  (has_author_F, jupyter_prop_high, num_commits_...       3\n",
       "78   0.535055  (has_author_F, image_prop_low, num_commits_lower)       3\n",
       "110  0.500369   (jupyter_prop_high, has_error_F, is_education_F)       3\n",
       "166  0.500369    (has_error_F, has_comments_T, exec_skips_lower)       3\n",
       "180  0.529889  (has_author_F, jupyter_prop_high, exec_skips_l...       4\n",
       "..        ...                                                ...     ...\n",
       "6    0.769004                                (num_commits_lower)       1\n",
       "7    0.921771                              (non_exec_prop_lower)       1\n",
       "8    0.889299                              (exec_inorder_higher)       1\n",
       "9    0.870111                                 (exec_skips_lower)       1\n",
       "10   0.840590                                      (has_error_F)       1\n",
       "\n",
       "[105 rows x 3 columns]"
      ]
     },
     "execution_count": 143,
     "metadata": {},
     "output_type": "execute_result"
    }
   ],
   "source": [
    "# look at the filtered itemsets\n",
    "no_md_itemsets"
   ]
  },
  {
   "cell_type": "code",
   "execution_count": 144,
   "metadata": {},
   "outputs": [],
   "source": [
    "# create a copy of the filtered dataframe we will export\n",
    "no_md_itemsets_export = no_md_itemsets.copy()\n",
    "\n",
    "# change itemset column to string\n",
    "no_md_itemsets_export['itemsets'] = no_md_itemsets_export['itemsets'].apply(lambda x : str(x).replace('frozenset', ''))"
   ]
  },
  {
   "cell_type": "code",
   "execution_count": 145,
   "metadata": {},
   "outputs": [
    {
     "data": {
      "text/html": [
       "<div>\n",
       "<style scoped>\n",
       "    .dataframe tbody tr th:only-of-type {\n",
       "        vertical-align: middle;\n",
       "    }\n",
       "\n",
       "    .dataframe tbody tr th {\n",
       "        vertical-align: top;\n",
       "    }\n",
       "\n",
       "    .dataframe thead th {\n",
       "        text-align: right;\n",
       "    }\n",
       "</style>\n",
       "<table border=\"1\" class=\"dataframe\">\n",
       "  <thead>\n",
       "    <tr style=\"text-align: right;\">\n",
       "      <th></th>\n",
       "      <th>support</th>\n",
       "      <th>itemsets</th>\n",
       "      <th>length</th>\n",
       "    </tr>\n",
       "  </thead>\n",
       "  <tbody>\n",
       "    <tr>\n",
       "      <th>64</th>\n",
       "      <td>0.524723</td>\n",
       "      <td>({'has_author_F', 'jupyter_prop_high', 'num_co...</td>\n",
       "      <td>3</td>\n",
       "    </tr>\n",
       "    <tr>\n",
       "      <th>78</th>\n",
       "      <td>0.535055</td>\n",
       "      <td>({'has_author_F', 'image_prop_low', 'num_commi...</td>\n",
       "      <td>3</td>\n",
       "    </tr>\n",
       "    <tr>\n",
       "      <th>110</th>\n",
       "      <td>0.500369</td>\n",
       "      <td>({'jupyter_prop_high', 'has_error_F', 'is_educ...</td>\n",
       "      <td>3</td>\n",
       "    </tr>\n",
       "    <tr>\n",
       "      <th>166</th>\n",
       "      <td>0.500369</td>\n",
       "      <td>({'has_error_F', 'has_comments_T', 'exec_skips...</td>\n",
       "      <td>3</td>\n",
       "    </tr>\n",
       "    <tr>\n",
       "      <th>180</th>\n",
       "      <td>0.529889</td>\n",
       "      <td>({'has_author_F', 'jupyter_prop_high', 'exec_s...</td>\n",
       "      <td>4</td>\n",
       "    </tr>\n",
       "    <tr>\n",
       "      <th>...</th>\n",
       "      <td>...</td>\n",
       "      <td>...</td>\n",
       "      <td>...</td>\n",
       "    </tr>\n",
       "    <tr>\n",
       "      <th>6</th>\n",
       "      <td>0.769004</td>\n",
       "      <td>({'num_commits_lower'})</td>\n",
       "      <td>1</td>\n",
       "    </tr>\n",
       "    <tr>\n",
       "      <th>7</th>\n",
       "      <td>0.921771</td>\n",
       "      <td>({'non_exec_prop_lower'})</td>\n",
       "      <td>1</td>\n",
       "    </tr>\n",
       "    <tr>\n",
       "      <th>8</th>\n",
       "      <td>0.889299</td>\n",
       "      <td>({'exec_inorder_higher'})</td>\n",
       "      <td>1</td>\n",
       "    </tr>\n",
       "    <tr>\n",
       "      <th>9</th>\n",
       "      <td>0.870111</td>\n",
       "      <td>({'exec_skips_lower'})</td>\n",
       "      <td>1</td>\n",
       "    </tr>\n",
       "    <tr>\n",
       "      <th>10</th>\n",
       "      <td>0.840590</td>\n",
       "      <td>({'has_error_F'})</td>\n",
       "      <td>1</td>\n",
       "    </tr>\n",
       "  </tbody>\n",
       "</table>\n",
       "<p>105 rows × 3 columns</p>\n",
       "</div>"
      ],
      "text/plain": [
       "      support                                           itemsets  length\n",
       "64   0.524723  ({'has_author_F', 'jupyter_prop_high', 'num_co...       3\n",
       "78   0.535055  ({'has_author_F', 'image_prop_low', 'num_commi...       3\n",
       "110  0.500369  ({'jupyter_prop_high', 'has_error_F', 'is_educ...       3\n",
       "166  0.500369  ({'has_error_F', 'has_comments_T', 'exec_skips...       3\n",
       "180  0.529889  ({'has_author_F', 'jupyter_prop_high', 'exec_s...       4\n",
       "..        ...                                                ...     ...\n",
       "6    0.769004                            ({'num_commits_lower'})       1\n",
       "7    0.921771                          ({'non_exec_prop_lower'})       1\n",
       "8    0.889299                          ({'exec_inorder_higher'})       1\n",
       "9    0.870111                             ({'exec_skips_lower'})       1\n",
       "10   0.840590                                  ({'has_error_F'})       1\n",
       "\n",
       "[105 rows x 3 columns]"
      ]
     },
     "execution_count": 145,
     "metadata": {},
     "output_type": "execute_result"
    }
   ],
   "source": [
    "# check the export dataframe\n",
    "no_md_itemsets_export"
   ]
  },
  {
   "cell_type": "code",
   "execution_count": 146,
   "metadata": {},
   "outputs": [],
   "source": [
    "# export the dataframe\n",
    "no_md_itemsets_export.to_csv('no_md_itemsets_filtered.csv')"
   ]
  }
 ],
 "metadata": {
  "kernelspec": {
   "display_name": "Python 3",
   "language": "python",
   "name": "python3"
  },
  "language_info": {
   "codemirror_mode": {
    "name": "ipython",
    "version": 3
   },
   "file_extension": ".py",
   "mimetype": "text/x-python",
   "name": "python",
   "nbconvert_exporter": "python",
   "pygments_lexer": "ipython3",
   "version": "3.6.9"
  }
 },
 "nbformat": 4,
 "nbformat_minor": 2
}
