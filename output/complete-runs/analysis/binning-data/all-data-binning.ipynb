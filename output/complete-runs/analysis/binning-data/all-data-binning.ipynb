{
 "cells": [
  {
   "cell_type": "markdown",
   "metadata": {},
   "source": [
    "# Imports"
   ]
  },
  {
   "cell_type": "code",
   "execution_count": 1,
   "metadata": {},
   "outputs": [],
   "source": [
    "import pandas as pd\n",
    "from sklearn.preprocessing import StandardScaler\n",
    "import matplotlib.pyplot as plt\n",
    "import numpy as np\n",
    "import math"
   ]
  },
  {
   "cell_type": "markdown",
   "metadata": {},
   "source": [
    "# Loading the Data"
   ]
  },
  {
   "cell_type": "markdown",
   "metadata": {},
   "source": [
    "## Markdown Cells"
   ]
  },
  {
   "cell_type": "code",
   "execution_count": 2,
   "metadata": {},
   "outputs": [],
   "source": [
    "md_filepath = '../markdown_group.csv'\n",
    "md_original = pd.read_csv(md_filepath)"
   ]
  },
  {
   "cell_type": "code",
   "execution_count": 3,
   "metadata": {},
   "outputs": [],
   "source": [
    "# create a variable where we will modify the dataframe\n",
    "md_df = md_original.copy()"
   ]
  },
  {
   "cell_type": "code",
   "execution_count": 4,
   "metadata": {},
   "outputs": [
    {
     "data": {
      "text/html": [
       "<div>\n",
       "<style scoped>\n",
       "    .dataframe tbody tr th:only-of-type {\n",
       "        vertical-align: middle;\n",
       "    }\n",
       "\n",
       "    .dataframe tbody tr th {\n",
       "        vertical-align: top;\n",
       "    }\n",
       "\n",
       "    .dataframe thead th {\n",
       "        text-align: right;\n",
       "    }\n",
       "</style>\n",
       "<table border=\"1\" class=\"dataframe\">\n",
       "  <thead>\n",
       "    <tr style=\"text-align: right;\">\n",
       "      <th></th>\n",
       "      <th>Unnamed: 0</th>\n",
       "      <th>nb_id</th>\n",
       "      <th>longer_beginning</th>\n",
       "      <th>longer_ending</th>\n",
       "      <th>has_author</th>\n",
       "      <th>has_equation</th>\n",
       "      <th>jupyter_prop</th>\n",
       "      <th>output_cell_prop</th>\n",
       "      <th>markdown_prop</th>\n",
       "      <th>num_contrib</th>\n",
       "      <th>...</th>\n",
       "      <th>non_exec_prop</th>\n",
       "      <th>exec_inorder</th>\n",
       "      <th>exec_skips</th>\n",
       "      <th>has_error</th>\n",
       "      <th>has_export</th>\n",
       "      <th>num_functions</th>\n",
       "      <th>has_test</th>\n",
       "      <th>num_headers</th>\n",
       "      <th>has_param</th>\n",
       "      <th>num_stars</th>\n",
       "    </tr>\n",
       "  </thead>\n",
       "  <tbody>\n",
       "    <tr>\n",
       "      <th>0</th>\n",
       "      <td>3</td>\n",
       "      <td>594</td>\n",
       "      <td>True</td>\n",
       "      <td>False</td>\n",
       "      <td>False</td>\n",
       "      <td>False</td>\n",
       "      <td>0.507588</td>\n",
       "      <td>1.000000</td>\n",
       "      <td>0.044444</td>\n",
       "      <td>3.0</td>\n",
       "      <td>...</td>\n",
       "      <td>0.000000</td>\n",
       "      <td>1.000000</td>\n",
       "      <td>1.809524</td>\n",
       "      <td>False</td>\n",
       "      <td>False</td>\n",
       "      <td>0.0</td>\n",
       "      <td>False</td>\n",
       "      <td>7.0</td>\n",
       "      <td>False</td>\n",
       "      <td>10.0</td>\n",
       "    </tr>\n",
       "    <tr>\n",
       "      <th>1</th>\n",
       "      <td>6</td>\n",
       "      <td>1222</td>\n",
       "      <td>True</td>\n",
       "      <td>False</td>\n",
       "      <td>False</td>\n",
       "      <td>False</td>\n",
       "      <td>1.000000</td>\n",
       "      <td>0.000000</td>\n",
       "      <td>0.161290</td>\n",
       "      <td>1.0</td>\n",
       "      <td>...</td>\n",
       "      <td>0.961538</td>\n",
       "      <td>1.000000</td>\n",
       "      <td>0.000000</td>\n",
       "      <td>False</td>\n",
       "      <td>False</td>\n",
       "      <td>0.0</td>\n",
       "      <td>False</td>\n",
       "      <td>5.0</td>\n",
       "      <td>False</td>\n",
       "      <td>0.0</td>\n",
       "    </tr>\n",
       "    <tr>\n",
       "      <th>2</th>\n",
       "      <td>7</td>\n",
       "      <td>1447</td>\n",
       "      <td>True</td>\n",
       "      <td>False</td>\n",
       "      <td>False</td>\n",
       "      <td>False</td>\n",
       "      <td>0.970851</td>\n",
       "      <td>0.011364</td>\n",
       "      <td>0.375887</td>\n",
       "      <td>1.0</td>\n",
       "      <td>...</td>\n",
       "      <td>0.988636</td>\n",
       "      <td>1.000000</td>\n",
       "      <td>0.000000</td>\n",
       "      <td>False</td>\n",
       "      <td>True</td>\n",
       "      <td>15.0</td>\n",
       "      <td>False</td>\n",
       "      <td>30.0</td>\n",
       "      <td>False</td>\n",
       "      <td>0.0</td>\n",
       "    </tr>\n",
       "    <tr>\n",
       "      <th>3</th>\n",
       "      <td>12</td>\n",
       "      <td>2705</td>\n",
       "      <td>True</td>\n",
       "      <td>False</td>\n",
       "      <td>False</td>\n",
       "      <td>False</td>\n",
       "      <td>1.000000</td>\n",
       "      <td>0.500000</td>\n",
       "      <td>0.461538</td>\n",
       "      <td>1.0</td>\n",
       "      <td>...</td>\n",
       "      <td>0.000000</td>\n",
       "      <td>0.923077</td>\n",
       "      <td>1.615385</td>\n",
       "      <td>False</td>\n",
       "      <td>False</td>\n",
       "      <td>6.0</td>\n",
       "      <td>False</td>\n",
       "      <td>7.0</td>\n",
       "      <td>False</td>\n",
       "      <td>0.0</td>\n",
       "    </tr>\n",
       "    <tr>\n",
       "      <th>4</th>\n",
       "      <td>15</td>\n",
       "      <td>2861</td>\n",
       "      <td>True</td>\n",
       "      <td>False</td>\n",
       "      <td>False</td>\n",
       "      <td>True</td>\n",
       "      <td>1.000000</td>\n",
       "      <td>0.214286</td>\n",
       "      <td>0.461538</td>\n",
       "      <td>1.0</td>\n",
       "      <td>...</td>\n",
       "      <td>0.000000</td>\n",
       "      <td>1.000000</td>\n",
       "      <td>6.333333</td>\n",
       "      <td>False</td>\n",
       "      <td>False</td>\n",
       "      <td>0.0</td>\n",
       "      <td>False</td>\n",
       "      <td>1.0</td>\n",
       "      <td>False</td>\n",
       "      <td>0.0</td>\n",
       "    </tr>\n",
       "  </tbody>\n",
       "</table>\n",
       "<p>5 rows × 28 columns</p>\n",
       "</div>"
      ],
      "text/plain": [
       "   Unnamed: 0  nb_id  longer_beginning  longer_ending  has_author  \\\n",
       "0           3    594              True          False       False   \n",
       "1           6   1222              True          False       False   \n",
       "2           7   1447              True          False       False   \n",
       "3          12   2705              True          False       False   \n",
       "4          15   2861              True          False       False   \n",
       "\n",
       "   has_equation  jupyter_prop  output_cell_prop  markdown_prop  num_contrib  \\\n",
       "0         False      0.507588          1.000000       0.044444          3.0   \n",
       "1         False      1.000000          0.000000       0.161290          1.0   \n",
       "2         False      0.970851          0.011364       0.375887          1.0   \n",
       "3         False      1.000000          0.500000       0.461538          1.0   \n",
       "4          True      1.000000          0.214286       0.461538          1.0   \n",
       "\n",
       "   ...  non_exec_prop  exec_inorder  exec_skips  has_error  has_export  \\\n",
       "0  ...       0.000000      1.000000    1.809524      False       False   \n",
       "1  ...       0.961538      1.000000    0.000000      False       False   \n",
       "2  ...       0.988636      1.000000    0.000000      False        True   \n",
       "3  ...       0.000000      0.923077    1.615385      False       False   \n",
       "4  ...       0.000000      1.000000    6.333333      False       False   \n",
       "\n",
       "   num_functions  has_test  num_headers  has_param  num_stars  \n",
       "0            0.0     False          7.0      False       10.0  \n",
       "1            0.0     False          5.0      False        0.0  \n",
       "2           15.0     False         30.0      False        0.0  \n",
       "3            6.0     False          7.0      False        0.0  \n",
       "4            0.0     False          1.0      False        0.0  \n",
       "\n",
       "[5 rows x 28 columns]"
      ]
     },
     "execution_count": 4,
     "metadata": {},
     "output_type": "execute_result"
    }
   ],
   "source": [
    "# initial look at the data\n",
    "md_df.head()"
   ]
  },
  {
   "cell_type": "code",
   "execution_count": 5,
   "metadata": {},
   "outputs": [],
   "source": [
    "# drop the first two columns\n",
    "md_df = md_df.drop(['Unnamed: 0', 'nb_id'], axis = 1)"
   ]
  },
  {
   "cell_type": "code",
   "execution_count": 6,
   "metadata": {},
   "outputs": [
    {
     "data": {
      "text/plain": [
       "[(0, ('longer_beginning', dtype('bool'))),\n",
       " (1, ('longer_ending', dtype('bool'))),\n",
       " (2, ('has_author', dtype('bool'))),\n",
       " (3, ('has_equation', dtype('bool'))),\n",
       " (4, ('jupyter_prop', dtype('float64'))),\n",
       " (5, ('output_cell_prop', dtype('float64'))),\n",
       " (6, ('markdown_prop', dtype('float64'))),\n",
       " (7, ('num_contrib', dtype('float64'))),\n",
       " (8, ('image_prop', dtype('float64'))),\n",
       " (9, ('is_education', dtype('bool'))),\n",
       " (10, ('has_links', dtype('bool'))),\n",
       " (11, ('has_comments', dtype('bool'))),\n",
       " (12, ('md_frequency', dtype('float64'))),\n",
       " (13, ('has_title', dtype('bool'))),\n",
       " (14, ('num_commits', dtype('float64'))),\n",
       " (15, ('md_format', dtype('bool'))),\n",
       " (16, ('non_exec_prop', dtype('float64'))),\n",
       " (17, ('exec_inorder', dtype('float64'))),\n",
       " (18, ('exec_skips', dtype('float64'))),\n",
       " (19, ('has_error', dtype('bool'))),\n",
       " (20, ('has_export', dtype('bool'))),\n",
       " (21, ('num_functions', dtype('float64'))),\n",
       " (22, ('has_test', dtype('bool'))),\n",
       " (23, ('num_headers', dtype('float64'))),\n",
       " (24, ('has_param', dtype('bool'))),\n",
       " (25, ('num_stars', dtype('float64')))]"
      ]
     },
     "execution_count": 6,
     "metadata": {},
     "output_type": "execute_result"
    }
   ],
   "source": [
    "# get the datatypes so we can isolate the quantitative variables for binning\n",
    "list(enumerate(zip(list(md_df), md_df.dtypes)))"
   ]
  },
  {
   "cell_type": "code",
   "execution_count": 8,
   "metadata": {},
   "outputs": [
    {
     "data": {
      "text/plain": [
       "['jupyter_prop',\n",
       " 'output_cell_prop',\n",
       " 'markdown_prop',\n",
       " 'num_contrib',\n",
       " 'image_prop',\n",
       " 'md_frequency',\n",
       " 'num_commits',\n",
       " 'non_exec_prop',\n",
       " 'exec_inorder',\n",
       " 'exec_skips',\n",
       " 'num_functions',\n",
       " 'num_headers',\n",
       " 'num_stars']"
      ]
     },
     "execution_count": 8,
     "metadata": {},
     "output_type": "execute_result"
    }
   ],
   "source": [
    "# isolate the quantitative variables\n",
    "md_quant_vars = [list(md_df)[i] for i in [4, 5, 6, 7, 8, 12, 14, 16, 17, 18, 21, 23, 25]]\n",
    "md_quant_vars"
   ]
  },
  {
   "cell_type": "code",
   "execution_count": 9,
   "metadata": {},
   "outputs": [],
   "source": [
    "# dataframe of just quantitative variables\n",
    "md_quant_df = md_df[md_quant_vars]"
   ]
  },
  {
   "cell_type": "code",
   "execution_count": 10,
   "metadata": {},
   "outputs": [
    {
     "data": {
      "text/html": [
       "<div>\n",
       "<style scoped>\n",
       "    .dataframe tbody tr th:only-of-type {\n",
       "        vertical-align: middle;\n",
       "    }\n",
       "\n",
       "    .dataframe tbody tr th {\n",
       "        vertical-align: top;\n",
       "    }\n",
       "\n",
       "    .dataframe thead th {\n",
       "        text-align: right;\n",
       "    }\n",
       "</style>\n",
       "<table border=\"1\" class=\"dataframe\">\n",
       "  <thead>\n",
       "    <tr style=\"text-align: right;\">\n",
       "      <th></th>\n",
       "      <th>jupyter_prop</th>\n",
       "      <th>output_cell_prop</th>\n",
       "      <th>markdown_prop</th>\n",
       "      <th>num_contrib</th>\n",
       "      <th>image_prop</th>\n",
       "      <th>md_frequency</th>\n",
       "      <th>num_commits</th>\n",
       "      <th>non_exec_prop</th>\n",
       "      <th>exec_inorder</th>\n",
       "      <th>exec_skips</th>\n",
       "      <th>num_functions</th>\n",
       "      <th>num_headers</th>\n",
       "      <th>num_stars</th>\n",
       "    </tr>\n",
       "  </thead>\n",
       "  <tbody>\n",
       "    <tr>\n",
       "      <th>0</th>\n",
       "      <td>0.507588</td>\n",
       "      <td>1.000000</td>\n",
       "      <td>0.044444</td>\n",
       "      <td>3.0</td>\n",
       "      <td>0.0</td>\n",
       "      <td>0.068182</td>\n",
       "      <td>1.0</td>\n",
       "      <td>0.000000</td>\n",
       "      <td>1.000000</td>\n",
       "      <td>1.809524</td>\n",
       "      <td>0.0</td>\n",
       "      <td>7.0</td>\n",
       "      <td>10.0</td>\n",
       "    </tr>\n",
       "    <tr>\n",
       "      <th>1</th>\n",
       "      <td>1.000000</td>\n",
       "      <td>0.000000</td>\n",
       "      <td>0.161290</td>\n",
       "      <td>1.0</td>\n",
       "      <td>0.0</td>\n",
       "      <td>0.333333</td>\n",
       "      <td>2.0</td>\n",
       "      <td>0.961538</td>\n",
       "      <td>1.000000</td>\n",
       "      <td>0.000000</td>\n",
       "      <td>0.0</td>\n",
       "      <td>5.0</td>\n",
       "      <td>0.0</td>\n",
       "    </tr>\n",
       "    <tr>\n",
       "      <th>2</th>\n",
       "      <td>0.970851</td>\n",
       "      <td>0.011364</td>\n",
       "      <td>0.375887</td>\n",
       "      <td>1.0</td>\n",
       "      <td>0.0</td>\n",
       "      <td>0.621429</td>\n",
       "      <td>1.0</td>\n",
       "      <td>0.988636</td>\n",
       "      <td>1.000000</td>\n",
       "      <td>0.000000</td>\n",
       "      <td>15.0</td>\n",
       "      <td>30.0</td>\n",
       "      <td>0.0</td>\n",
       "    </tr>\n",
       "    <tr>\n",
       "      <th>3</th>\n",
       "      <td>1.000000</td>\n",
       "      <td>0.500000</td>\n",
       "      <td>0.461538</td>\n",
       "      <td>1.0</td>\n",
       "      <td>0.0</td>\n",
       "      <td>0.640000</td>\n",
       "      <td>1.0</td>\n",
       "      <td>0.000000</td>\n",
       "      <td>0.923077</td>\n",
       "      <td>1.615385</td>\n",
       "      <td>6.0</td>\n",
       "      <td>7.0</td>\n",
       "      <td>0.0</td>\n",
       "    </tr>\n",
       "    <tr>\n",
       "      <th>4</th>\n",
       "      <td>1.000000</td>\n",
       "      <td>0.214286</td>\n",
       "      <td>0.461538</td>\n",
       "      <td>1.0</td>\n",
       "      <td>0.0</td>\n",
       "      <td>0.520000</td>\n",
       "      <td>1.0</td>\n",
       "      <td>0.000000</td>\n",
       "      <td>1.000000</td>\n",
       "      <td>6.333333</td>\n",
       "      <td>0.0</td>\n",
       "      <td>1.0</td>\n",
       "      <td>0.0</td>\n",
       "    </tr>\n",
       "  </tbody>\n",
       "</table>\n",
       "</div>"
      ],
      "text/plain": [
       "   jupyter_prop  output_cell_prop  markdown_prop  num_contrib  image_prop  \\\n",
       "0      0.507588          1.000000       0.044444          3.0         0.0   \n",
       "1      1.000000          0.000000       0.161290          1.0         0.0   \n",
       "2      0.970851          0.011364       0.375887          1.0         0.0   \n",
       "3      1.000000          0.500000       0.461538          1.0         0.0   \n",
       "4      1.000000          0.214286       0.461538          1.0         0.0   \n",
       "\n",
       "   md_frequency  num_commits  non_exec_prop  exec_inorder  exec_skips  \\\n",
       "0      0.068182          1.0       0.000000      1.000000    1.809524   \n",
       "1      0.333333          2.0       0.961538      1.000000    0.000000   \n",
       "2      0.621429          1.0       0.988636      1.000000    0.000000   \n",
       "3      0.640000          1.0       0.000000      0.923077    1.615385   \n",
       "4      0.520000          1.0       0.000000      1.000000    6.333333   \n",
       "\n",
       "   num_functions  num_headers  num_stars  \n",
       "0            0.0          7.0       10.0  \n",
       "1            0.0          5.0        0.0  \n",
       "2           15.0         30.0        0.0  \n",
       "3            6.0          7.0        0.0  \n",
       "4            0.0          1.0        0.0  "
      ]
     },
     "execution_count": 10,
     "metadata": {},
     "output_type": "execute_result"
    }
   ],
   "source": [
    "# initial look at the quantitative data\n",
    "md_quant_df.head()"
   ]
  },
  {
   "cell_type": "markdown",
   "metadata": {},
   "source": [
    "## No Markdown Cells"
   ]
  },
  {
   "cell_type": "code",
   "execution_count": 11,
   "metadata": {},
   "outputs": [],
   "source": [
    "no_md_filepath = '../no_markdown_group.csv'\n",
    "no_md_original = pd.read_csv(no_md_filepath)"
   ]
  },
  {
   "cell_type": "code",
   "execution_count": 12,
   "metadata": {},
   "outputs": [],
   "source": [
    "# create a variable where we will modify the dataframe\n",
    "no_md_df = no_md_original.copy()"
   ]
  },
  {
   "cell_type": "code",
   "execution_count": 13,
   "metadata": {},
   "outputs": [
    {
     "data": {
      "text/html": [
       "<div>\n",
       "<style scoped>\n",
       "    .dataframe tbody tr th:only-of-type {\n",
       "        vertical-align: middle;\n",
       "    }\n",
       "\n",
       "    .dataframe tbody tr th {\n",
       "        vertical-align: top;\n",
       "    }\n",
       "\n",
       "    .dataframe thead th {\n",
       "        text-align: right;\n",
       "    }\n",
       "</style>\n",
       "<table border=\"1\" class=\"dataframe\">\n",
       "  <thead>\n",
       "    <tr style=\"text-align: right;\">\n",
       "      <th></th>\n",
       "      <th>Unnamed: 0</th>\n",
       "      <th>nb_id</th>\n",
       "      <th>has_author</th>\n",
       "      <th>jupyter_prop</th>\n",
       "      <th>output_cell_prop</th>\n",
       "      <th>num_contrib</th>\n",
       "      <th>image_prop</th>\n",
       "      <th>is_education</th>\n",
       "      <th>has_comments</th>\n",
       "      <th>num_commits</th>\n",
       "      <th>non_exec_prop</th>\n",
       "      <th>exec_inorder</th>\n",
       "      <th>exec_skips</th>\n",
       "      <th>has_error</th>\n",
       "      <th>has_export</th>\n",
       "      <th>num_functions</th>\n",
       "      <th>has_test</th>\n",
       "      <th>has_param</th>\n",
       "      <th>num_stars</th>\n",
       "    </tr>\n",
       "  </thead>\n",
       "  <tbody>\n",
       "    <tr>\n",
       "      <th>0</th>\n",
       "      <td>8</td>\n",
       "      <td>1589</td>\n",
       "      <td>False</td>\n",
       "      <td>0.714130</td>\n",
       "      <td>0.538462</td>\n",
       "      <td>1.0</td>\n",
       "      <td>0.142857</td>\n",
       "      <td>False</td>\n",
       "      <td>False</td>\n",
       "      <td>1.0</td>\n",
       "      <td>0.00000</td>\n",
       "      <td>1.000000</td>\n",
       "      <td>1.000000</td>\n",
       "      <td>False</td>\n",
       "      <td>True</td>\n",
       "      <td>2.0</td>\n",
       "      <td>False</td>\n",
       "      <td>False</td>\n",
       "      <td>1.0</td>\n",
       "    </tr>\n",
       "    <tr>\n",
       "      <th>1</th>\n",
       "      <td>10</td>\n",
       "      <td>1919</td>\n",
       "      <td>False</td>\n",
       "      <td>0.997840</td>\n",
       "      <td>0.780488</td>\n",
       "      <td>1.0</td>\n",
       "      <td>0.187500</td>\n",
       "      <td>False</td>\n",
       "      <td>True</td>\n",
       "      <td>1.0</td>\n",
       "      <td>0.04878</td>\n",
       "      <td>0.789474</td>\n",
       "      <td>10.631579</td>\n",
       "      <td>True</td>\n",
       "      <td>True</td>\n",
       "      <td>5.0</td>\n",
       "      <td>False</td>\n",
       "      <td>False</td>\n",
       "      <td>1.0</td>\n",
       "    </tr>\n",
       "    <tr>\n",
       "      <th>2</th>\n",
       "      <td>14</td>\n",
       "      <td>2857</td>\n",
       "      <td>False</td>\n",
       "      <td>0.121957</td>\n",
       "      <td>0.461538</td>\n",
       "      <td>5.0</td>\n",
       "      <td>0.000000</td>\n",
       "      <td>False</td>\n",
       "      <td>True</td>\n",
       "      <td>11.0</td>\n",
       "      <td>0.00000</td>\n",
       "      <td>0.909091</td>\n",
       "      <td>6.181818</td>\n",
       "      <td>False</td>\n",
       "      <td>True</td>\n",
       "      <td>0.0</td>\n",
       "      <td>False</td>\n",
       "      <td>False</td>\n",
       "      <td>4.0</td>\n",
       "    </tr>\n",
       "    <tr>\n",
       "      <th>3</th>\n",
       "      <td>27</td>\n",
       "      <td>4339</td>\n",
       "      <td>False</td>\n",
       "      <td>1.000000</td>\n",
       "      <td>0.190476</td>\n",
       "      <td>1.0</td>\n",
       "      <td>0.000000</td>\n",
       "      <td>False</td>\n",
       "      <td>True</td>\n",
       "      <td>1.0</td>\n",
       "      <td>0.00000</td>\n",
       "      <td>1.000000</td>\n",
       "      <td>1.631579</td>\n",
       "      <td>False</td>\n",
       "      <td>False</td>\n",
       "      <td>1.0</td>\n",
       "      <td>False</td>\n",
       "      <td>False</td>\n",
       "      <td>0.0</td>\n",
       "    </tr>\n",
       "    <tr>\n",
       "      <th>4</th>\n",
       "      <td>29</td>\n",
       "      <td>4659</td>\n",
       "      <td>False</td>\n",
       "      <td>0.940063</td>\n",
       "      <td>0.125000</td>\n",
       "      <td>3.0</td>\n",
       "      <td>0.000000</td>\n",
       "      <td>False</td>\n",
       "      <td>True</td>\n",
       "      <td>3.0</td>\n",
       "      <td>0.12500</td>\n",
       "      <td>1.000000</td>\n",
       "      <td>1.000000</td>\n",
       "      <td>True</td>\n",
       "      <td>False</td>\n",
       "      <td>3.0</td>\n",
       "      <td>False</td>\n",
       "      <td>False</td>\n",
       "      <td>0.0</td>\n",
       "    </tr>\n",
       "  </tbody>\n",
       "</table>\n",
       "</div>"
      ],
      "text/plain": [
       "   Unnamed: 0  nb_id  has_author  jupyter_prop  output_cell_prop  num_contrib  \\\n",
       "0           8   1589       False      0.714130          0.538462          1.0   \n",
       "1          10   1919       False      0.997840          0.780488          1.0   \n",
       "2          14   2857       False      0.121957          0.461538          5.0   \n",
       "3          27   4339       False      1.000000          0.190476          1.0   \n",
       "4          29   4659       False      0.940063          0.125000          3.0   \n",
       "\n",
       "   image_prop  is_education  has_comments  num_commits  non_exec_prop  \\\n",
       "0    0.142857         False         False          1.0        0.00000   \n",
       "1    0.187500         False          True          1.0        0.04878   \n",
       "2    0.000000         False          True         11.0        0.00000   \n",
       "3    0.000000         False          True          1.0        0.00000   \n",
       "4    0.000000         False          True          3.0        0.12500   \n",
       "\n",
       "   exec_inorder  exec_skips  has_error  has_export  num_functions  has_test  \\\n",
       "0      1.000000    1.000000      False        True            2.0     False   \n",
       "1      0.789474   10.631579       True        True            5.0     False   \n",
       "2      0.909091    6.181818      False        True            0.0     False   \n",
       "3      1.000000    1.631579      False       False            1.0     False   \n",
       "4      1.000000    1.000000       True       False            3.0     False   \n",
       "\n",
       "   has_param  num_stars  \n",
       "0      False        1.0  \n",
       "1      False        1.0  \n",
       "2      False        4.0  \n",
       "3      False        0.0  \n",
       "4      False        0.0  "
      ]
     },
     "execution_count": 13,
     "metadata": {},
     "output_type": "execute_result"
    }
   ],
   "source": [
    "# initial look at the data\n",
    "no_md_df.head()"
   ]
  },
  {
   "cell_type": "code",
   "execution_count": 14,
   "metadata": {},
   "outputs": [],
   "source": [
    "# drop the first two columns\n",
    "no_md_df = no_md_df.drop(['Unnamed: 0', 'nb_id'], axis = 1)"
   ]
  },
  {
   "cell_type": "code",
   "execution_count": 15,
   "metadata": {},
   "outputs": [
    {
     "data": {
      "text/plain": [
       "[(0, ('has_author', dtype('bool'))),\n",
       " (1, ('jupyter_prop', dtype('float64'))),\n",
       " (2, ('output_cell_prop', dtype('float64'))),\n",
       " (3, ('num_contrib', dtype('float64'))),\n",
       " (4, ('image_prop', dtype('float64'))),\n",
       " (5, ('is_education', dtype('bool'))),\n",
       " (6, ('has_comments', dtype('bool'))),\n",
       " (7, ('num_commits', dtype('float64'))),\n",
       " (8, ('non_exec_prop', dtype('float64'))),\n",
       " (9, ('exec_inorder', dtype('float64'))),\n",
       " (10, ('exec_skips', dtype('float64'))),\n",
       " (11, ('has_error', dtype('bool'))),\n",
       " (12, ('has_export', dtype('bool'))),\n",
       " (13, ('num_functions', dtype('float64'))),\n",
       " (14, ('has_test', dtype('bool'))),\n",
       " (15, ('has_param', dtype('bool'))),\n",
       " (16, ('num_stars', dtype('float64')))]"
      ]
     },
     "execution_count": 15,
     "metadata": {},
     "output_type": "execute_result"
    }
   ],
   "source": [
    "# get the datatypes so we can isolate the quantitative variables for binning\n",
    "list(enumerate(zip(list(no_md_df), no_md_df.dtypes)))"
   ]
  },
  {
   "cell_type": "code",
   "execution_count": 16,
   "metadata": {
    "scrolled": true
   },
   "outputs": [
    {
     "data": {
      "text/plain": [
       "['jupyter_prop',\n",
       " 'output_cell_prop',\n",
       " 'num_contrib',\n",
       " 'image_prop',\n",
       " 'num_commits',\n",
       " 'non_exec_prop',\n",
       " 'exec_inorder',\n",
       " 'exec_skips',\n",
       " 'num_functions',\n",
       " 'num_stars']"
      ]
     },
     "execution_count": 16,
     "metadata": {},
     "output_type": "execute_result"
    }
   ],
   "source": [
    "# isolate the quantitative variables\n",
    "no_md_quant_vars = [list(no_md_df)[i] for i in [1, 2, 3, 4, 7, 8, 9, 10, 13, 16]]\n",
    "no_md_quant_vars"
   ]
  },
  {
   "cell_type": "code",
   "execution_count": 17,
   "metadata": {},
   "outputs": [],
   "source": [
    "# dataframe of just quantitative variables\n",
    "no_md_quant_df = no_md_df[no_md_quant_vars]"
   ]
  },
  {
   "cell_type": "code",
   "execution_count": 18,
   "metadata": {
    "scrolled": true
   },
   "outputs": [
    {
     "data": {
      "text/html": [
       "<div>\n",
       "<style scoped>\n",
       "    .dataframe tbody tr th:only-of-type {\n",
       "        vertical-align: middle;\n",
       "    }\n",
       "\n",
       "    .dataframe tbody tr th {\n",
       "        vertical-align: top;\n",
       "    }\n",
       "\n",
       "    .dataframe thead th {\n",
       "        text-align: right;\n",
       "    }\n",
       "</style>\n",
       "<table border=\"1\" class=\"dataframe\">\n",
       "  <thead>\n",
       "    <tr style=\"text-align: right;\">\n",
       "      <th></th>\n",
       "      <th>jupyter_prop</th>\n",
       "      <th>output_cell_prop</th>\n",
       "      <th>num_contrib</th>\n",
       "      <th>image_prop</th>\n",
       "      <th>num_commits</th>\n",
       "      <th>non_exec_prop</th>\n",
       "      <th>exec_inorder</th>\n",
       "      <th>exec_skips</th>\n",
       "      <th>num_functions</th>\n",
       "      <th>num_stars</th>\n",
       "    </tr>\n",
       "  </thead>\n",
       "  <tbody>\n",
       "    <tr>\n",
       "      <th>0</th>\n",
       "      <td>0.714130</td>\n",
       "      <td>0.538462</td>\n",
       "      <td>1.0</td>\n",
       "      <td>0.142857</td>\n",
       "      <td>1.0</td>\n",
       "      <td>0.00000</td>\n",
       "      <td>1.000000</td>\n",
       "      <td>1.000000</td>\n",
       "      <td>2.0</td>\n",
       "      <td>1.0</td>\n",
       "    </tr>\n",
       "    <tr>\n",
       "      <th>1</th>\n",
       "      <td>0.997840</td>\n",
       "      <td>0.780488</td>\n",
       "      <td>1.0</td>\n",
       "      <td>0.187500</td>\n",
       "      <td>1.0</td>\n",
       "      <td>0.04878</td>\n",
       "      <td>0.789474</td>\n",
       "      <td>10.631579</td>\n",
       "      <td>5.0</td>\n",
       "      <td>1.0</td>\n",
       "    </tr>\n",
       "    <tr>\n",
       "      <th>2</th>\n",
       "      <td>0.121957</td>\n",
       "      <td>0.461538</td>\n",
       "      <td>5.0</td>\n",
       "      <td>0.000000</td>\n",
       "      <td>11.0</td>\n",
       "      <td>0.00000</td>\n",
       "      <td>0.909091</td>\n",
       "      <td>6.181818</td>\n",
       "      <td>0.0</td>\n",
       "      <td>4.0</td>\n",
       "    </tr>\n",
       "    <tr>\n",
       "      <th>3</th>\n",
       "      <td>1.000000</td>\n",
       "      <td>0.190476</td>\n",
       "      <td>1.0</td>\n",
       "      <td>0.000000</td>\n",
       "      <td>1.0</td>\n",
       "      <td>0.00000</td>\n",
       "      <td>1.000000</td>\n",
       "      <td>1.631579</td>\n",
       "      <td>1.0</td>\n",
       "      <td>0.0</td>\n",
       "    </tr>\n",
       "    <tr>\n",
       "      <th>4</th>\n",
       "      <td>0.940063</td>\n",
       "      <td>0.125000</td>\n",
       "      <td>3.0</td>\n",
       "      <td>0.000000</td>\n",
       "      <td>3.0</td>\n",
       "      <td>0.12500</td>\n",
       "      <td>1.000000</td>\n",
       "      <td>1.000000</td>\n",
       "      <td>3.0</td>\n",
       "      <td>0.0</td>\n",
       "    </tr>\n",
       "  </tbody>\n",
       "</table>\n",
       "</div>"
      ],
      "text/plain": [
       "   jupyter_prop  output_cell_prop  num_contrib  image_prop  num_commits  \\\n",
       "0      0.714130          0.538462          1.0    0.142857          1.0   \n",
       "1      0.997840          0.780488          1.0    0.187500          1.0   \n",
       "2      0.121957          0.461538          5.0    0.000000         11.0   \n",
       "3      1.000000          0.190476          1.0    0.000000          1.0   \n",
       "4      0.940063          0.125000          3.0    0.000000          3.0   \n",
       "\n",
       "   non_exec_prop  exec_inorder  exec_skips  num_functions  num_stars  \n",
       "0        0.00000      1.000000    1.000000            2.0        1.0  \n",
       "1        0.04878      0.789474   10.631579            5.0        1.0  \n",
       "2        0.00000      0.909091    6.181818            0.0        4.0  \n",
       "3        0.00000      1.000000    1.631579            1.0        0.0  \n",
       "4        0.12500      1.000000    1.000000            3.0        0.0  "
      ]
     },
     "execution_count": 18,
     "metadata": {},
     "output_type": "execute_result"
    }
   ],
   "source": [
    "# initial look at the quantitative data\n",
    "no_md_quant_df.head()"
   ]
  },
  {
   "cell_type": "markdown",
   "metadata": {},
   "source": [
    "# First Attempt - Standardizing the Data\n",
    "\n",
    "We will first attempt to standardize the data, then bin"
   ]
  },
  {
   "cell_type": "code",
   "execution_count": 19,
   "metadata": {},
   "outputs": [],
   "source": [
    "# labels used for 3 bins (will combine medium1 and medium2)\n",
    "four_labels = ['low', 'medium1', 'medium2', 'high']"
   ]
  },
  {
   "cell_type": "code",
   "execution_count": 20,
   "metadata": {},
   "outputs": [],
   "source": [
    "# labels used for 2 bins\n",
    "two_labels = ['lower', 'higher']"
   ]
  },
  {
   "cell_type": "markdown",
   "metadata": {},
   "source": [
    "## Markdown Cells"
   ]
  },
  {
   "cell_type": "markdown",
   "metadata": {},
   "source": [
    "### Standardize"
   ]
  },
  {
   "cell_type": "code",
   "execution_count": 21,
   "metadata": {},
   "outputs": [],
   "source": [
    "# noramlize all variables\n",
    "md_quant_stand = md_quant_df.loc[:, md_quant_vars].values\n",
    "md_quant_stand = StandardScaler().fit_transform(md_quant_stand)"
   ]
  },
  {
   "cell_type": "code",
   "execution_count": 22,
   "metadata": {},
   "outputs": [
    {
     "name": "stdout",
     "output_type": "stream",
     "text": [
      "5.964331462244402e-17 1.0\n"
     ]
    }
   ],
   "source": [
    "# check that the normalized data has a mean of zero and std of one\n",
    "print(np.mean(md_quant_stand), np.std(md_quant_stand))"
   ]
  },
  {
   "cell_type": "code",
   "execution_count": 23,
   "metadata": {
    "scrolled": false
   },
   "outputs": [
    {
     "data": {
      "text/html": [
       "<div>\n",
       "<style scoped>\n",
       "    .dataframe tbody tr th:only-of-type {\n",
       "        vertical-align: middle;\n",
       "    }\n",
       "\n",
       "    .dataframe tbody tr th {\n",
       "        vertical-align: top;\n",
       "    }\n",
       "\n",
       "    .dataframe thead th {\n",
       "        text-align: right;\n",
       "    }\n",
       "</style>\n",
       "<table border=\"1\" class=\"dataframe\">\n",
       "  <thead>\n",
       "    <tr style=\"text-align: right;\">\n",
       "      <th></th>\n",
       "      <th>jupyter_prop</th>\n",
       "      <th>output_cell_prop</th>\n",
       "      <th>markdown_prop</th>\n",
       "      <th>num_contrib</th>\n",
       "      <th>image_prop</th>\n",
       "      <th>md_frequency</th>\n",
       "      <th>num_commits</th>\n",
       "      <th>non_exec_prop</th>\n",
       "      <th>exec_inorder</th>\n",
       "      <th>exec_skips</th>\n",
       "      <th>num_functions</th>\n",
       "      <th>num_headers</th>\n",
       "      <th>num_stars</th>\n",
       "    </tr>\n",
       "  </thead>\n",
       "  <tbody>\n",
       "    <tr>\n",
       "      <th>0</th>\n",
       "      <td>-1.293088</td>\n",
       "      <td>1.698566</td>\n",
       "      <td>-1.942050</td>\n",
       "      <td>0.504838</td>\n",
       "      <td>-0.960204</td>\n",
       "      <td>-1.964232</td>\n",
       "      <td>-0.399981</td>\n",
       "      <td>-0.410421</td>\n",
       "      <td>0.690767</td>\n",
       "      <td>-0.337021</td>\n",
       "      <td>-0.684319</td>\n",
       "      <td>-0.124890</td>\n",
       "      <td>0.446948</td>\n",
       "    </tr>\n",
       "    <tr>\n",
       "      <th>1</th>\n",
       "      <td>0.570932</td>\n",
       "      <td>-2.007369</td>\n",
       "      <td>-1.286070</td>\n",
       "      <td>-0.201473</td>\n",
       "      <td>-0.960204</td>\n",
       "      <td>-0.934795</td>\n",
       "      <td>-0.056390</td>\n",
       "      <td>3.185141</td>\n",
       "      <td>0.690767</td>\n",
       "      <td>-0.487356</td>\n",
       "      <td>-0.684319</td>\n",
       "      <td>-0.340020</td>\n",
       "      <td>-0.194027</td>\n",
       "    </tr>\n",
       "    <tr>\n",
       "      <th>2</th>\n",
       "      <td>0.460589</td>\n",
       "      <td>-1.965256</td>\n",
       "      <td>-0.081313</td>\n",
       "      <td>-0.201473</td>\n",
       "      <td>-0.960204</td>\n",
       "      <td>0.183720</td>\n",
       "      <td>-0.399981</td>\n",
       "      <td>3.286470</td>\n",
       "      <td>0.690767</td>\n",
       "      <td>-0.487356</td>\n",
       "      <td>1.253279</td>\n",
       "      <td>2.349109</td>\n",
       "      <td>-0.194027</td>\n",
       "    </tr>\n",
       "    <tr>\n",
       "      <th>3</th>\n",
       "      <td>0.570932</td>\n",
       "      <td>-0.154402</td>\n",
       "      <td>0.399542</td>\n",
       "      <td>-0.201473</td>\n",
       "      <td>-0.960204</td>\n",
       "      <td>0.255823</td>\n",
       "      <td>-0.399981</td>\n",
       "      <td>-0.410421</td>\n",
       "      <td>0.003778</td>\n",
       "      <td>-0.353150</td>\n",
       "      <td>0.090720</td>\n",
       "      <td>-0.124890</td>\n",
       "      <td>-0.194027</td>\n",
       "    </tr>\n",
       "    <tr>\n",
       "      <th>4</th>\n",
       "      <td>0.570932</td>\n",
       "      <td>-1.213240</td>\n",
       "      <td>0.399542</td>\n",
       "      <td>-0.201473</td>\n",
       "      <td>-0.960204</td>\n",
       "      <td>-0.210071</td>\n",
       "      <td>-0.399981</td>\n",
       "      <td>-0.410421</td>\n",
       "      <td>0.690767</td>\n",
       "      <td>0.038819</td>\n",
       "      <td>-0.684319</td>\n",
       "      <td>-0.770281</td>\n",
       "      <td>-0.194027</td>\n",
       "    </tr>\n",
       "  </tbody>\n",
       "</table>\n",
       "</div>"
      ],
      "text/plain": [
       "   jupyter_prop  output_cell_prop  markdown_prop  num_contrib  image_prop  \\\n",
       "0     -1.293088          1.698566      -1.942050     0.504838   -0.960204   \n",
       "1      0.570932         -2.007369      -1.286070    -0.201473   -0.960204   \n",
       "2      0.460589         -1.965256      -0.081313    -0.201473   -0.960204   \n",
       "3      0.570932         -0.154402       0.399542    -0.201473   -0.960204   \n",
       "4      0.570932         -1.213240       0.399542    -0.201473   -0.960204   \n",
       "\n",
       "   md_frequency  num_commits  non_exec_prop  exec_inorder  exec_skips  \\\n",
       "0     -1.964232    -0.399981      -0.410421      0.690767   -0.337021   \n",
       "1     -0.934795    -0.056390       3.185141      0.690767   -0.487356   \n",
       "2      0.183720    -0.399981       3.286470      0.690767   -0.487356   \n",
       "3      0.255823    -0.399981      -0.410421      0.003778   -0.353150   \n",
       "4     -0.210071    -0.399981      -0.410421      0.690767    0.038819   \n",
       "\n",
       "   num_functions  num_headers  num_stars  \n",
       "0      -0.684319    -0.124890   0.446948  \n",
       "1      -0.684319    -0.340020  -0.194027  \n",
       "2       1.253279     2.349109  -0.194027  \n",
       "3       0.090720    -0.124890  -0.194027  \n",
       "4      -0.684319    -0.770281  -0.194027  "
      ]
     },
     "execution_count": 23,
     "metadata": {},
     "output_type": "execute_result"
    }
   ],
   "source": [
    "# put the normalized features back into dataframe format\n",
    "md_stand_df = pd.DataFrame(md_quant_stand, columns = md_quant_vars)\n",
    "\n",
    "# initial look at the standardized data\n",
    "md_stand_df.head()"
   ]
  },
  {
   "cell_type": "markdown",
   "metadata": {},
   "source": [
    "### Bin"
   ]
  },
  {
   "cell_type": "code",
   "execution_count": 24,
   "metadata": {},
   "outputs": [],
   "source": [
    "# create a copy of the data that we will bin \n",
    "md_binned_df = md_stand_df.copy()"
   ]
  },
  {
   "cell_type": "code",
   "execution_count": 25,
   "metadata": {},
   "outputs": [],
   "source": [
    "# for each quantitative field in the data\n",
    "for quant_var in md_quant_vars:\n",
    "    \n",
    "    # change the column in the dataframe so that it is binned into low, medium, and high\n",
    "    md_binned_df.loc[:, quant_var] = pd.cut(md_binned_df[quant_var], 4, labels = four_labels)\n",
    "    \n",
    "    # combine medium1 and medium2\n",
    "    md_binned_df.loc[:, quant_var] = md_binned_df[quant_var].replace(['medium1', 'medium2'], 'medium')"
   ]
  },
  {
   "cell_type": "code",
   "execution_count": 26,
   "metadata": {},
   "outputs": [
    {
     "data": {
      "text/html": [
       "<div>\n",
       "<style scoped>\n",
       "    .dataframe tbody tr th:only-of-type {\n",
       "        vertical-align: middle;\n",
       "    }\n",
       "\n",
       "    .dataframe tbody tr th {\n",
       "        vertical-align: top;\n",
       "    }\n",
       "\n",
       "    .dataframe thead th {\n",
       "        text-align: right;\n",
       "    }\n",
       "</style>\n",
       "<table border=\"1\" class=\"dataframe\">\n",
       "  <thead>\n",
       "    <tr style=\"text-align: right;\">\n",
       "      <th></th>\n",
       "      <th>jupyter_prop</th>\n",
       "      <th>output_cell_prop</th>\n",
       "      <th>markdown_prop</th>\n",
       "      <th>num_contrib</th>\n",
       "      <th>image_prop</th>\n",
       "      <th>md_frequency</th>\n",
       "      <th>num_commits</th>\n",
       "      <th>non_exec_prop</th>\n",
       "      <th>exec_inorder</th>\n",
       "      <th>exec_skips</th>\n",
       "      <th>num_functions</th>\n",
       "      <th>num_headers</th>\n",
       "      <th>num_stars</th>\n",
       "    </tr>\n",
       "  </thead>\n",
       "  <tbody>\n",
       "    <tr>\n",
       "      <th>0</th>\n",
       "      <td>medium</td>\n",
       "      <td>high</td>\n",
       "      <td>low</td>\n",
       "      <td>low</td>\n",
       "      <td>low</td>\n",
       "      <td>low</td>\n",
       "      <td>low</td>\n",
       "      <td>low</td>\n",
       "      <td>high</td>\n",
       "      <td>low</td>\n",
       "      <td>low</td>\n",
       "      <td>low</td>\n",
       "      <td>low</td>\n",
       "    </tr>\n",
       "    <tr>\n",
       "      <th>1</th>\n",
       "      <td>high</td>\n",
       "      <td>low</td>\n",
       "      <td>low</td>\n",
       "      <td>low</td>\n",
       "      <td>low</td>\n",
       "      <td>medium</td>\n",
       "      <td>low</td>\n",
       "      <td>high</td>\n",
       "      <td>high</td>\n",
       "      <td>low</td>\n",
       "      <td>low</td>\n",
       "      <td>low</td>\n",
       "      <td>low</td>\n",
       "    </tr>\n",
       "    <tr>\n",
       "      <th>2</th>\n",
       "      <td>high</td>\n",
       "      <td>low</td>\n",
       "      <td>medium</td>\n",
       "      <td>low</td>\n",
       "      <td>low</td>\n",
       "      <td>medium</td>\n",
       "      <td>low</td>\n",
       "      <td>high</td>\n",
       "      <td>high</td>\n",
       "      <td>low</td>\n",
       "      <td>low</td>\n",
       "      <td>medium</td>\n",
       "      <td>low</td>\n",
       "    </tr>\n",
       "    <tr>\n",
       "      <th>3</th>\n",
       "      <td>high</td>\n",
       "      <td>medium</td>\n",
       "      <td>medium</td>\n",
       "      <td>low</td>\n",
       "      <td>low</td>\n",
       "      <td>medium</td>\n",
       "      <td>low</td>\n",
       "      <td>low</td>\n",
       "      <td>high</td>\n",
       "      <td>low</td>\n",
       "      <td>low</td>\n",
       "      <td>low</td>\n",
       "      <td>low</td>\n",
       "    </tr>\n",
       "    <tr>\n",
       "      <th>4</th>\n",
       "      <td>high</td>\n",
       "      <td>low</td>\n",
       "      <td>medium</td>\n",
       "      <td>low</td>\n",
       "      <td>low</td>\n",
       "      <td>medium</td>\n",
       "      <td>low</td>\n",
       "      <td>low</td>\n",
       "      <td>high</td>\n",
       "      <td>low</td>\n",
       "      <td>low</td>\n",
       "      <td>low</td>\n",
       "      <td>low</td>\n",
       "    </tr>\n",
       "  </tbody>\n",
       "</table>\n",
       "</div>"
      ],
      "text/plain": [
       "  jupyter_prop output_cell_prop markdown_prop num_contrib image_prop  \\\n",
       "0       medium             high           low         low        low   \n",
       "1         high              low           low         low        low   \n",
       "2         high              low        medium         low        low   \n",
       "3         high           medium        medium         low        low   \n",
       "4         high              low        medium         low        low   \n",
       "\n",
       "  md_frequency num_commits non_exec_prop exec_inorder exec_skips  \\\n",
       "0          low         low           low         high        low   \n",
       "1       medium         low          high         high        low   \n",
       "2       medium         low          high         high        low   \n",
       "3       medium         low           low         high        low   \n",
       "4       medium         low           low         high        low   \n",
       "\n",
       "  num_functions num_headers num_stars  \n",
       "0           low         low       low  \n",
       "1           low         low       low  \n",
       "2           low      medium       low  \n",
       "3           low         low       low  \n",
       "4           low         low       low  "
      ]
     },
     "execution_count": 26,
     "metadata": {},
     "output_type": "execute_result"
    }
   ],
   "source": [
    "# initial look at the binned data\n",
    "md_binned_df.head()"
   ]
  },
  {
   "cell_type": "code",
   "execution_count": 27,
   "metadata": {
    "scrolled": true
   },
   "outputs": [
    {
     "name": "stdout",
     "output_type": "stream",
     "text": [
      "high      1804\n",
      "medium     346\n",
      "low        141\n",
      "Name: jupyter_prop, dtype: int64\n",
      "medium    1383\n",
      "high       529\n",
      "low        379\n",
      "Name: output_cell_prop, dtype: int64\n",
      "medium    1672\n",
      "low        544\n",
      "high        75\n",
      "Name: markdown_prop, dtype: int64\n",
      "low       2218\n",
      "medium      61\n",
      "high        12\n",
      "Name: num_contrib, dtype: int64\n",
      "low       1196\n",
      "medium     881\n",
      "high       214\n",
      "Name: image_prop, dtype: int64\n",
      "medium    1276\n",
      "high       660\n",
      "low        355\n",
      "Name: md_frequency, dtype: int64\n",
      "low       2192\n",
      "medium      90\n",
      "high         9\n",
      "Name: num_commits, dtype: int64\n",
      "low       2003\n",
      "high       173\n",
      "medium     115\n",
      "Name: non_exec_prop, dtype: int64\n",
      "high      2130\n",
      "medium     157\n",
      "low          4\n",
      "Name: exec_inorder, dtype: int64\n",
      "low       2255\n",
      "medium      34\n",
      "high         2\n",
      "Name: exec_skips, dtype: int64\n",
      "low       2237\n",
      "medium      53\n",
      "high         1\n",
      "Name: num_functions, dtype: int64\n",
      "low       1983\n",
      "medium     292\n",
      "high        16\n",
      "Name: num_headers, dtype: int64\n",
      "low       2246\n",
      "medium      23\n",
      "high        22\n",
      "Name: num_stars, dtype: int64\n"
     ]
    }
   ],
   "source": [
    "# check the bin counts\n",
    "for quant_var in md_quant_vars:\n",
    "    print(md_binned_df[quant_var].value_counts())"
   ]
  },
  {
   "cell_type": "markdown",
   "metadata": {},
   "source": [
    "No change, so this attempt failed"
   ]
  },
  {
   "cell_type": "markdown",
   "metadata": {},
   "source": [
    "# Second Attempt - Data Transformations\n",
    "\n",
    "Maybe we can do some kind of data transformation on the variables"
   ]
  },
  {
   "cell_type": "markdown",
   "metadata": {},
   "source": [
    "## Markdown Cells"
   ]
  },
  {
   "cell_type": "markdown",
   "metadata": {},
   "source": [
    "Based on the binning numbers from the previous cell, I believe the columns that we have to transform are:\n",
    "\n",
    "- `markdown_prop` - sqrt, 3 bins\n",
    "- `num_contrib` - log + 0.5, 2 bins\n",
    "- `num_commits` - log + 0.5, 2 bins\n",
    "- `exec_inorder` - square, 2 bins\n",
    "- `exec_skips` - log + 0.5, 2 bins\n",
    "- `num_functions` - log + 0.5, 2 bins\n",
    "- `num_headers` - log + 0.5, 3 bins\n",
    "- `num_stars` - log + 0.5, 2 bins"
   ]
  },
  {
   "cell_type": "code",
   "execution_count": 75,
   "metadata": {
    "scrolled": true
   },
   "outputs": [
    {
     "data": {
      "text/plain": [
       "<matplotlib.axes._subplots.AxesSubplot at 0x7fa6233dcd68>"
      ]
     },
     "execution_count": 75,
     "metadata": {},
     "output_type": "execute_result"
    },
    {
     "data": {
      "image/png": "[encoded data removed]",
      "text/plain": [
       "<Figure size 432x288 with 1 Axes>"
      ]
     },
     "metadata": {
      "needs_background": "light"
     },
     "output_type": "display_data"
    }
   ],
   "source": [
    "# create a copy of markdown_prop column that we will play with\n",
    "md_markdown_prop = md_quant_df['markdown_prop'].copy()\n",
    "\n",
    "# plot the data\n",
    "md_markdown_prop.plot(kind = 'hist')"
   ]
  },
  {
   "cell_type": "markdown",
   "metadata": {},
   "source": [
    "Since the data is right-skewed, we can try to square root the data"
   ]
  },
  {
   "cell_type": "code",
   "execution_count": 76,
   "metadata": {},
   "outputs": [
    {
     "data": {
      "text/plain": [
       "<matplotlib.axes._subplots.AxesSubplot at 0x7fa623349470>"
      ]
     },
     "execution_count": 76,
     "metadata": {},
     "output_type": "execute_result"
    },
    {
     "data": {
      "image/png": "[encoded data removed]",
      "text/plain": [
       "<Figure size 432x288 with 1 Axes>"
      ]
     },
     "metadata": {
      "needs_background": "light"
     },
     "output_type": "display_data"
    }
   ],
   "source": [
    "# transform the column\n",
    "md_markdown_prop = md_markdown_prop.transform(lambda x : math.sqrt(x))\n",
    "\n",
    "# plot the column again\n",
    "md_markdown_prop.plot(kind = 'hist')"
   ]
  },
  {
   "cell_type": "code",
   "execution_count": 77,
   "metadata": {
    "scrolled": true
   },
   "outputs": [
    {
     "data": {
      "text/plain": [
       "medium    1879\n",
       "high       216\n",
       "low        196\n",
       "Name: markdown_prop, dtype: int64"
      ]
     },
     "execution_count": 77,
     "metadata": {},
     "output_type": "execute_result"
    }
   ],
   "source": [
    "# try to bin the data again\n",
    "md_markdown_prop = pd.cut(md_markdown_prop, 4, labels = four_labels)\n",
    "\n",
    "# combine medium1 and medium2\n",
    "md_markdown_prop = md_markdown_prop.replace(['medium1', 'medium2'], 'medium')\n",
    "\n",
    "# check bin counts\n",
    "md_markdown_prop.value_counts()"
   ]
  },
  {
   "cell_type": "code",
   "execution_count": 97,
   "metadata": {
    "scrolled": true
   },
   "outputs": [
    {
     "data": {
      "text/plain": [
       "<matplotlib.axes._subplots.AxesSubplot at 0x7fa622fdb9b0>"
      ]
     },
     "execution_count": 97,
     "metadata": {},
     "output_type": "execute_result"
    },
    {
     "data": {
      "image/png": "[encoded data removed]",
      "text/plain": [
       "<Figure size 432x288 with 1 Axes>"
      ]
     },
     "metadata": {
      "needs_background": "light"
     },
     "output_type": "display_data"
    }
   ],
   "source": [
    "# create a copy of num_contrib column\n",
    "md_num_contrib = md_quant_df['num_contrib'].copy()\n",
    "\n",
    "# plot the data\n",
    "md_num_contrib.plot(kind = 'hist')"
   ]
  },
  {
   "cell_type": "markdown",
   "metadata": {},
   "source": [
    "Since the data is right-skewed, we can try to square root the data. Tried three different transformations and none of them produced good bins, so we can switch to two bins for this variable"
   ]
  },
  {
   "cell_type": "code",
   "execution_count": 98,
   "metadata": {},
   "outputs": [
    {
     "data": {
      "text/plain": [
       "lower     2255\n",
       "higher      36\n",
       "Name: num_contrib, dtype: int64"
      ]
     },
     "execution_count": 98,
     "metadata": {},
     "output_type": "execute_result"
    }
   ],
   "source": [
    "# put the data into two bins\n",
    "md_num_contrib = pd.cut(md_num_contrib, 2, labels = two_labels)\n",
    "\n",
    "# check the bin counts\n",
    "md_num_contrib.value_counts()"
   ]
  },
  {
   "cell_type": "markdown",
   "metadata": {},
   "source": [
    "Since the bin numbers are still too low, we still have to transform the data"
   ]
  },
  {
   "cell_type": "code",
   "execution_count": 127,
   "metadata": {
    "scrolled": true
   },
   "outputs": [
    {
     "data": {
      "text/plain": [
       "<matplotlib.axes._subplots.AxesSubplot at 0x7fa6227e2390>"
      ]
     },
     "execution_count": 127,
     "metadata": {},
     "output_type": "execute_result"
    },
    {
     "data": {
      "image/png": "[encoded data removed]",
      "text/plain": [
       "<Figure size 432x288 with 1 Axes>"
      ]
     },
     "metadata": {
      "needs_background": "light"
     },
     "output_type": "display_data"
    }
   ],
   "source": [
    "# go back to original quantitative form of the column\n",
    "md_num_contrib = md_quant_df['num_contrib'].copy()\n",
    "\n",
    "# transform the column\n",
    "md_num_contrib = md_num_contrib.transform(lambda x : math.log(x + 0.5))\n",
    "\n",
    "# plot the column again\n",
    "md_num_contrib.plot(kind = 'hist')"
   ]
  },
  {
   "cell_type": "code",
   "execution_count": 128,
   "metadata": {
    "scrolled": true
   },
   "outputs": [
    {
     "data": {
      "text/plain": [
       "lower     2140\n",
       "higher     151\n",
       "Name: num_contrib, dtype: int64"
      ]
     },
     "execution_count": 128,
     "metadata": {},
     "output_type": "execute_result"
    }
   ],
   "source": [
    "# try to bin the data again\n",
    "md_num_contrib = pd.cut(md_num_contrib, 2, labels = two_labels)\n",
    "\n",
    "# check bin counts\n",
    "md_num_contrib.value_counts()"
   ]
  },
  {
   "cell_type": "code",
   "execution_count": 123,
   "metadata": {
    "scrolled": true
   },
   "outputs": [
    {
     "data": {
      "text/plain": [
       "<matplotlib.axes._subplots.AxesSubplot at 0x7fa6228ea1d0>"
      ]
     },
     "execution_count": 123,
     "metadata": {},
     "output_type": "execute_result"
    },
    {
     "data": {
      "image/png": "[encoded data removed]",
      "text/plain": [
       "<Figure size 432x288 with 1 Axes>"
      ]
     },
     "metadata": {
      "needs_background": "light"
     },
     "output_type": "display_data"
    }
   ],
   "source": [
    "# make a copy of the num_commits column\n",
    "md_num_commits = md_quant_df['num_commits'].copy()\n",
    "\n",
    "# plot the data\n",
    "md_num_commits.plot(kind = 'hist')"
   ]
  },
  {
   "cell_type": "markdown",
   "metadata": {},
   "source": [
    "Since the data is right-skewed, we can try to square root the data. Tried three different transformations and none of them produced good bins, so we can switch to two bins for this variable"
   ]
  },
  {
   "cell_type": "code",
   "execution_count": 124,
   "metadata": {
    "scrolled": true
   },
   "outputs": [
    {
     "data": {
      "text/plain": [
       "lower     2266\n",
       "higher      25\n",
       "Name: num_commits, dtype: int64"
      ]
     },
     "execution_count": 124,
     "metadata": {},
     "output_type": "execute_result"
    }
   ],
   "source": [
    "# put the data into two bins\n",
    "md_num_commits = pd.cut(md_num_commits, 2, labels = two_labels)\n",
    "\n",
    "# check the bin counts\n",
    "md_num_commits.value_counts()"
   ]
  },
  {
   "cell_type": "markdown",
   "metadata": {},
   "source": [
    "Since the bin numbers are still too low, we still have to transform the data"
   ]
  },
  {
   "cell_type": "code",
   "execution_count": 130,
   "metadata": {
    "scrolled": true
   },
   "outputs": [
    {
     "data": {
      "text/plain": [
       "<matplotlib.axes._subplots.AxesSubplot at 0x7fa622a79160>"
      ]
     },
     "execution_count": 130,
     "metadata": {},
     "output_type": "execute_result"
    },
    {
     "data": {
      "image/png": "[encoded data removed]",
      "text/plain": [
       "<Figure size 432x288 with 1 Axes>"
      ]
     },
     "metadata": {
      "needs_background": "light"
     },
     "output_type": "display_data"
    }
   ],
   "source": [
    "# go back to original quantitative form of the column\n",
    "md_num_commits = md_quant_df['num_commits'].copy()\n",
    "\n",
    "# transform the column\n",
    "md_num_commits = md_num_commits.transform(lambda x : math.log(x + 0.5))\n",
    "\n",
    "# plot the column again\n",
    "md_num_commits.plot(kind = 'hist')"
   ]
  },
  {
   "cell_type": "code",
   "execution_count": 131,
   "metadata": {},
   "outputs": [
    {
     "data": {
      "text/plain": [
       "lower     1981\n",
       "higher     310\n",
       "Name: num_commits, dtype: int64"
      ]
     },
     "execution_count": 131,
     "metadata": {},
     "output_type": "execute_result"
    }
   ],
   "source": [
    "# try to bin the data again\n",
    "md_num_commits = pd.cut(md_num_commits, 2, labels = two_labels)\n",
    "\n",
    "# check bin counts\n",
    "md_num_commits.value_counts()"
   ]
  },
  {
   "cell_type": "code",
   "execution_count": 139,
   "metadata": {
    "scrolled": false
   },
   "outputs": [
    {
     "data": {
      "text/plain": [
       "<matplotlib.axes._subplots.AxesSubplot at 0x7fa622492400>"
      ]
     },
     "execution_count": 139,
     "metadata": {},
     "output_type": "execute_result"
    },
    {
     "data": {
      "image/png": "[encoded data removed]",
      "text/plain": [
       "<Figure size 432x288 with 1 Axes>"
      ]
     },
     "metadata": {
      "needs_background": "light"
     },
     "output_type": "display_data"
    }
   ],
   "source": [
    "# make a copy of the exec_inorder column\n",
    "md_exec_inorder = md_quant_df['exec_inorder'].copy()\n",
    "\n",
    "# plot the column\n",
    "md_exec_inorder.plot(kind = 'hist')"
   ]
  },
  {
   "cell_type": "markdown",
   "metadata": {},
   "source": [
    "Since the data is left-skewed, we can try squaring the data. Tried squaring and cubing the data and unsuccessful, so we switch to two bins for this column"
   ]
  },
  {
   "cell_type": "code",
   "execution_count": 140,
   "metadata": {},
   "outputs": [
    {
     "data": {
      "text/plain": [
       "higher    2268\n",
       "lower       23\n",
       "Name: exec_inorder, dtype: int64"
      ]
     },
     "execution_count": 140,
     "metadata": {},
     "output_type": "execute_result"
    }
   ],
   "source": [
    "# put column into two bins\n",
    "md_exec_inorder = pd.cut(md_exec_inorder, 2, labels = two_labels)\n",
    "\n",
    "# check the bin counts\n",
    "md_exec_inorder.value_counts()"
   ]
  },
  {
   "cell_type": "markdown",
   "metadata": {},
   "source": [
    "Since the bin numbers are still too low, we still perform a data transformation"
   ]
  },
  {
   "cell_type": "code",
   "execution_count": 141,
   "metadata": {
    "scrolled": true
   },
   "outputs": [
    {
     "data": {
      "text/plain": [
       "<matplotlib.axes._subplots.AxesSubplot at 0x7fa622421cc0>"
      ]
     },
     "execution_count": 141,
     "metadata": {},
     "output_type": "execute_result"
    },
    {
     "data": {
      "image/png": "[encoded data removed]",
      "text/plain": [
       "<Figure size 432x288 with 1 Axes>"
      ]
     },
     "metadata": {
      "needs_background": "light"
     },
     "output_type": "display_data"
    }
   ],
   "source": [
    "md_exec_inorder = md_quant_df['exec_inorder'].copy()\n",
    "\n",
    "# transform the column\n",
    "md_exec_inorder = md_exec_inorder.transform(lambda x : x ** 2)\n",
    "\n",
    "# plot again\n",
    "md_exec_inorder.plot(kind = 'hist')"
   ]
  },
  {
   "cell_type": "code",
   "execution_count": 142,
   "metadata": {},
   "outputs": [
    {
     "data": {
      "text/plain": [
       "higher    2180\n",
       "lower      111\n",
       "Name: exec_inorder, dtype: int64"
      ]
     },
     "execution_count": 142,
     "metadata": {},
     "output_type": "execute_result"
    }
   ],
   "source": [
    "# try to bin the data again\n",
    "md_exec_inorder = pd.cut(md_exec_inorder, 2, labels = two_labels)\n",
    "\n",
    "# check bin counts\n",
    "md_exec_inorder.value_counts()"
   ]
  },
  {
   "cell_type": "code",
   "execution_count": 153,
   "metadata": {
    "scrolled": false
   },
   "outputs": [
    {
     "data": {
      "text/plain": [
       "<matplotlib.axes._subplots.AxesSubplot at 0x7fa62208ecc0>"
      ]
     },
     "execution_count": 153,
     "metadata": {},
     "output_type": "execute_result"
    },
    {
     "data": {
      "image/png": "[encoded data removed]",
      "text/plain": [
       "<Figure size 432x288 with 1 Axes>"
      ]
     },
     "metadata": {
      "needs_background": "light"
     },
     "output_type": "display_data"
    }
   ],
   "source": [
    "# make a copy of the exec_skips column\n",
    "md_exec_skips = md_quant_df['exec_skips'].copy()\n",
    "\n",
    "# plot the column\n",
    "md_exec_skips.plot(kind = 'hist')"
   ]
  },
  {
   "cell_type": "markdown",
   "metadata": {},
   "source": [
    "Since the data is right-skewed, we can try to square root the data. Tried three different transformations and none of them produced good bins, so we can switch to two bins for this variable"
   ]
  },
  {
   "cell_type": "code",
   "execution_count": 154,
   "metadata": {},
   "outputs": [
    {
     "data": {
      "text/plain": [
       "lower     2284\n",
       "higher       7\n",
       "Name: exec_skips, dtype: int64"
      ]
     },
     "execution_count": 154,
     "metadata": {},
     "output_type": "execute_result"
    }
   ],
   "source": [
    "# put the data into two bins\n",
    "md_exec_skips = pd.cut(md_exec_skips, 2, labels = two_labels)\n",
    "\n",
    "# check the bin counts\n",
    "md_exec_skips.value_counts()"
   ]
  },
  {
   "cell_type": "markdown",
   "metadata": {},
   "source": [
    "Since the bin counts are still too low, we still do a data transformation"
   ]
  },
  {
   "cell_type": "code",
   "execution_count": 159,
   "metadata": {},
   "outputs": [
    {
     "data": {
      "text/plain": [
       "<matplotlib.axes._subplots.AxesSubplot at 0x7fa621f152b0>"
      ]
     },
     "execution_count": 159,
     "metadata": {},
     "output_type": "execute_result"
    },
    {
     "data": {
      "image/png": "[encoded data removed]",
      "text/plain": [
       "<Figure size 432x288 with 1 Axes>"
      ]
     },
     "metadata": {
      "needs_background": "light"
     },
     "output_type": "display_data"
    }
   ],
   "source": [
    "md_exec_skips = md_quant_df['exec_skips'].copy()\n",
    "\n",
    "# transform the column\n",
    "md_exec_skips = md_exec_skips.transform(lambda x : math.log(x + 0.5))\n",
    "\n",
    "# plot again\n",
    "md_exec_skips.plot(kind = 'hist')"
   ]
  },
  {
   "cell_type": "code",
   "execution_count": 160,
   "metadata": {
    "scrolled": false
   },
   "outputs": [
    {
     "data": {
      "text/plain": [
       "lower     1925\n",
       "higher     366\n",
       "Name: exec_skips, dtype: int64"
      ]
     },
     "execution_count": 160,
     "metadata": {},
     "output_type": "execute_result"
    }
   ],
   "source": [
    "# try to bin the data again\n",
    "md_exec_skips = pd.cut(md_exec_skips, 2, labels = two_labels)\n",
    "\n",
    "# check bin counts\n",
    "md_exec_skips.value_counts()"
   ]
  },
  {
   "cell_type": "code",
   "execution_count": 40,
   "metadata": {},
   "outputs": [
    {
     "data": {
      "text/plain": [
       "<matplotlib.axes._subplots.AxesSubplot at 0x7fcdd76db5f8>"
      ]
     },
     "execution_count": 40,
     "metadata": {},
     "output_type": "execute_result"
    },
    {
     "data": {
      "image/png": "[encoded data removed]",
      "text/plain": [
       "<Figure size 432x288 with 1 Axes>"
      ]
     },
     "metadata": {
      "needs_background": "light"
     },
     "output_type": "display_data"
    }
   ],
   "source": [
    "# create a copy of num_functions column\n",
    "md_num_functions = md_quant_df['num_functions'].copy()\n",
    "\n",
    "# plot the data\n",
    "md_num_functions.plot(kind = 'hist')"
   ]
  },
  {
   "cell_type": "markdown",
   "metadata": {},
   "source": [
    "Since the data is right-skewed, we can try to square root the data. Tried three different transformations and none of them produced good buns, so we can switch to two bins for this variable"
   ]
  },
  {
   "cell_type": "code",
   "execution_count": 41,
   "metadata": {},
   "outputs": [
    {
     "data": {
      "text/plain": [
       "lower     2287\n",
       "higher       4\n",
       "Name: num_functions, dtype: int64"
      ]
     },
     "execution_count": 41,
     "metadata": {},
     "output_type": "execute_result"
    }
   ],
   "source": [
    "# put the data into two bins\n",
    "md_num_functions = pd.cut(md_num_functions, 2, labels = two_labels)\n",
    "\n",
    "# check the bin counts\n",
    "md_num_functions.value_counts()"
   ]
  },
  {
   "cell_type": "markdown",
   "metadata": {},
   "source": [
    "Since the bin numbers are still too low, we still have to transform the data"
   ]
  },
  {
   "cell_type": "code",
   "execution_count": 46,
   "metadata": {},
   "outputs": [
    {
     "data": {
      "text/plain": [
       "<matplotlib.axes._subplots.AxesSubplot at 0x7fcdd75ab7b8>"
      ]
     },
     "execution_count": 46,
     "metadata": {},
     "output_type": "execute_result"
    },
    {
     "data": {
      "image/png": "[encoded data removed]",
      "text/plain": [
       "<Figure size 432x288 with 1 Axes>"
      ]
     },
     "metadata": {
      "needs_background": "light"
     },
     "output_type": "display_data"
    }
   ],
   "source": [
    "# go back to original quantitative form of the column\n",
    "md_num_functions = md_quant_df['num_functions'].copy()\n",
    "\n",
    "# transform the column\n",
    "md_num_functions = md_num_functions.transform(lambda x : math.log(x + 0.5))\n",
    "\n",
    "# plot the column again\n",
    "md_num_functions.plot(kind = 'hist')"
   ]
  },
  {
   "cell_type": "code",
   "execution_count": 47,
   "metadata": {
    "scrolled": true
   },
   "outputs": [
    {
     "data": {
      "text/plain": [
       "lower     1752\n",
       "higher     539\n",
       "Name: num_functions, dtype: int64"
      ]
     },
     "execution_count": 47,
     "metadata": {},
     "output_type": "execute_result"
    }
   ],
   "source": [
    "# try to bin the data again\n",
    "md_num_functions = pd.cut(md_num_functions, 2, labels = two_labels)\n",
    "\n",
    "# check the bin counts\n",
    "md_num_functions.value_counts()"
   ]
  },
  {
   "cell_type": "code",
   "execution_count": 59,
   "metadata": {
    "scrolled": true
   },
   "outputs": [
    {
     "data": {
      "text/plain": [
       "<matplotlib.axes._subplots.AxesSubplot at 0x7fcdd7136978>"
      ]
     },
     "execution_count": 59,
     "metadata": {},
     "output_type": "execute_result"
    },
    {
     "data": {
      "image/png": "[encoded data removed]",
      "text/plain": [
       "<Figure size 432x288 with 1 Axes>"
      ]
     },
     "metadata": {
      "needs_background": "light"
     },
     "output_type": "display_data"
    }
   ],
   "source": [
    "# create a copy of the num_headers column\n",
    "md_num_headers = md_quant_df['num_headers'].copy()\n",
    "\n",
    "# plot the data\n",
    "md_num_headers.plot(kind = 'hist')"
   ]
  },
  {
   "cell_type": "markdown",
   "metadata": {},
   "source": [
    "Since the data is right-skewed, we can try to square root the data"
   ]
  },
  {
   "cell_type": "code",
   "execution_count": 60,
   "metadata": {},
   "outputs": [
    {
     "data": {
      "text/plain": [
       "<matplotlib.axes._subplots.AxesSubplot at 0x7fcdd70a60b8>"
      ]
     },
     "execution_count": 60,
     "metadata": {},
     "output_type": "execute_result"
    },
    {
     "data": {
      "image/png": "[encoded data removed]",
      "text/plain": [
       "<Figure size 432x288 with 1 Axes>"
      ]
     },
     "metadata": {
      "needs_background": "light"
     },
     "output_type": "display_data"
    }
   ],
   "source": [
    "# transform the column\n",
    "md_num_headers = md_num_headers.transform(lambda x : math.log(x + 0.5))\n",
    "\n",
    "# plot the column again\n",
    "md_num_headers.plot(kind = 'hist')"
   ]
  },
  {
   "cell_type": "code",
   "execution_count": 61,
   "metadata": {
    "scrolled": true
   },
   "outputs": [
    {
     "data": {
      "text/plain": [
       "medium    1392\n",
       "low        655\n",
       "high       244\n",
       "Name: num_headers, dtype: int64"
      ]
     },
     "execution_count": 61,
     "metadata": {},
     "output_type": "execute_result"
    }
   ],
   "source": [
    "# try to bin the data again\n",
    "md_num_headers = pd.cut(md_num_headers, 4, labels = four_labels)\n",
    "\n",
    "# combine medium1 and medium2\n",
    "md_num_headers = md_num_headers.replace(['medium1', 'medium2'], 'medium')\n",
    "\n",
    "# check bin counts\n",
    "md_num_headers.value_counts()"
   ]
  },
  {
   "cell_type": "code",
   "execution_count": 43,
   "metadata": {
    "scrolled": false
   },
   "outputs": [
    {
     "data": {
      "text/plain": [
       "<matplotlib.axes._subplots.AxesSubplot at 0x7f5655482438>"
      ]
     },
     "execution_count": 43,
     "metadata": {},
     "output_type": "execute_result"
    },
    {
     "data": {
      "image/png": "[encoded data removed]",
      "text/plain": [
       "<Figure size 432x288 with 1 Axes>"
      ]
     },
     "metadata": {
      "needs_background": "light"
     },
     "output_type": "display_data"
    }
   ],
   "source": [
    "# create a copy of the num_stars column\n",
    "md_num_stars = md_quant_df['num_stars'].copy()\n",
    "\n",
    "# plot the data\n",
    "md_num_stars.plot(kind = 'hist')"
   ]
  },
  {
   "cell_type": "markdown",
   "metadata": {},
   "source": [
    "Since the data is right-skewed, we can try to square root the data. Tried three different transformations and none of them produced good bins, so we can switch to two bins for this variable"
   ]
  },
  {
   "cell_type": "code",
   "execution_count": 42,
   "metadata": {},
   "outputs": [
    {
     "data": {
      "text/plain": [
       "lower     2268\n",
       "higher      23\n",
       "Name: num_stars, dtype: int64"
      ]
     },
     "execution_count": 42,
     "metadata": {},
     "output_type": "execute_result"
    }
   ],
   "source": [
    "# put the data into two bins\n",
    "md_num_stars = pd.cut(md_num_stars, 2, labels = two_labels)\n",
    "\n",
    "# check the bin counts\n",
    "md_num_stars.value_counts()"
   ]
  },
  {
   "cell_type": "markdown",
   "metadata": {},
   "source": [
    "Since the bin numbers are still too low, we still have to transform the data"
   ]
  },
  {
   "cell_type": "code",
   "execution_count": 57,
   "metadata": {},
   "outputs": [
    {
     "data": {
      "text/plain": [
       "<matplotlib.axes._subplots.AxesSubplot at 0x7f5655228cc0>"
      ]
     },
     "execution_count": 57,
     "metadata": {},
     "output_type": "execute_result"
    },
    {
     "data": {
      "image/png": "[encoded data removed]",
      "text/plain": [
       "<Figure size 432x288 with 1 Axes>"
      ]
     },
     "metadata": {
      "needs_background": "light"
     },
     "output_type": "display_data"
    }
   ],
   "source": [
    "# copy original\n",
    "md_num_stars = md_quant_df['num_stars'].copy()\n",
    "\n",
    "# transform the column\n",
    "md_num_stars = md_num_stars.transform(lambda x : math.log(x + 0.5))\n",
    "\n",
    "# plot the column again\n",
    "md_num_stars.plot(kind = 'hist')"
   ]
  },
  {
   "cell_type": "code",
   "execution_count": 58,
   "metadata": {},
   "outputs": [
    {
     "data": {
      "text/plain": [
       "lower     2133\n",
       "higher     158\n",
       "Name: num_stars, dtype: int64"
      ]
     },
     "execution_count": 58,
     "metadata": {},
     "output_type": "execute_result"
    }
   ],
   "source": [
    "# try to bin the data again\n",
    "md_num_stars = pd.cut(md_num_stars, 2, labels = two_labels)\n",
    "\n",
    "# check bin counts\n",
    "md_num_stars.value_counts()"
   ]
  },
  {
   "cell_type": "markdown",
   "metadata": {},
   "source": [
    "## No Markdown Cells"
   ]
  },
  {
   "cell_type": "markdown",
   "metadata": {},
   "source": [
    "### Looking at Past Bin Results"
   ]
  },
  {
   "cell_type": "code",
   "execution_count": 48,
   "metadata": {},
   "outputs": [],
   "source": [
    "# create a copy of the data that we will bin\n",
    "no_md_binned_df = no_md_df.copy()"
   ]
  },
  {
   "cell_type": "code",
   "execution_count": 49,
   "metadata": {},
   "outputs": [],
   "source": [
    "# for each quantitative field in the data\n",
    "for quant_var in no_md_quant_vars:\n",
    "    \n",
    "    # change the column in the dataframe so that it is binned into low, medium, and high\n",
    "    no_md_binned_df.loc[:, quant_var] = pd.cut(no_md_binned_df[quant_var], 4, labels = four_labels)\n",
    "    \n",
    "    # combine medium1 and medium2\n",
    "    no_md_binned_df.loc[:, quant_var] = no_md_binned_df[quant_var].replace(['medium1', 'medium2'], 'medium')"
   ]
  },
  {
   "cell_type": "code",
   "execution_count": 50,
   "metadata": {},
   "outputs": [
    {
     "data": {
      "text/html": [
       "<div>\n",
       "<style scoped>\n",
       "    .dataframe tbody tr th:only-of-type {\n",
       "        vertical-align: middle;\n",
       "    }\n",
       "\n",
       "    .dataframe tbody tr th {\n",
       "        vertical-align: top;\n",
       "    }\n",
       "\n",
       "    .dataframe thead th {\n",
       "        text-align: right;\n",
       "    }\n",
       "</style>\n",
       "<table border=\"1\" class=\"dataframe\">\n",
       "  <thead>\n",
       "    <tr style=\"text-align: right;\">\n",
       "      <th></th>\n",
       "      <th>has_author</th>\n",
       "      <th>jupyter_prop</th>\n",
       "      <th>output_cell_prop</th>\n",
       "      <th>num_contrib</th>\n",
       "      <th>image_prop</th>\n",
       "      <th>is_education</th>\n",
       "      <th>has_comments</th>\n",
       "      <th>num_commits</th>\n",
       "      <th>non_exec_prop</th>\n",
       "      <th>exec_inorder</th>\n",
       "      <th>exec_skips</th>\n",
       "      <th>has_error</th>\n",
       "      <th>has_export</th>\n",
       "      <th>num_functions</th>\n",
       "      <th>has_test</th>\n",
       "      <th>has_param</th>\n",
       "      <th>num_stars</th>\n",
       "    </tr>\n",
       "  </thead>\n",
       "  <tbody>\n",
       "    <tr>\n",
       "      <th>0</th>\n",
       "      <td>False</td>\n",
       "      <td>medium</td>\n",
       "      <td>medium</td>\n",
       "      <td>low</td>\n",
       "      <td>low</td>\n",
       "      <td>False</td>\n",
       "      <td>False</td>\n",
       "      <td>low</td>\n",
       "      <td>low</td>\n",
       "      <td>high</td>\n",
       "      <td>low</td>\n",
       "      <td>False</td>\n",
       "      <td>True</td>\n",
       "      <td>low</td>\n",
       "      <td>False</td>\n",
       "      <td>False</td>\n",
       "      <td>low</td>\n",
       "    </tr>\n",
       "    <tr>\n",
       "      <th>1</th>\n",
       "      <td>False</td>\n",
       "      <td>high</td>\n",
       "      <td>high</td>\n",
       "      <td>low</td>\n",
       "      <td>low</td>\n",
       "      <td>False</td>\n",
       "      <td>True</td>\n",
       "      <td>low</td>\n",
       "      <td>low</td>\n",
       "      <td>high</td>\n",
       "      <td>low</td>\n",
       "      <td>True</td>\n",
       "      <td>True</td>\n",
       "      <td>low</td>\n",
       "      <td>False</td>\n",
       "      <td>False</td>\n",
       "      <td>low</td>\n",
       "    </tr>\n",
       "    <tr>\n",
       "      <th>2</th>\n",
       "      <td>False</td>\n",
       "      <td>low</td>\n",
       "      <td>medium</td>\n",
       "      <td>low</td>\n",
       "      <td>low</td>\n",
       "      <td>False</td>\n",
       "      <td>True</td>\n",
       "      <td>medium</td>\n",
       "      <td>low</td>\n",
       "      <td>high</td>\n",
       "      <td>low</td>\n",
       "      <td>False</td>\n",
       "      <td>True</td>\n",
       "      <td>low</td>\n",
       "      <td>False</td>\n",
       "      <td>False</td>\n",
       "      <td>low</td>\n",
       "    </tr>\n",
       "    <tr>\n",
       "      <th>3</th>\n",
       "      <td>False</td>\n",
       "      <td>high</td>\n",
       "      <td>low</td>\n",
       "      <td>low</td>\n",
       "      <td>low</td>\n",
       "      <td>False</td>\n",
       "      <td>True</td>\n",
       "      <td>low</td>\n",
       "      <td>low</td>\n",
       "      <td>high</td>\n",
       "      <td>low</td>\n",
       "      <td>False</td>\n",
       "      <td>False</td>\n",
       "      <td>low</td>\n",
       "      <td>False</td>\n",
       "      <td>False</td>\n",
       "      <td>low</td>\n",
       "    </tr>\n",
       "    <tr>\n",
       "      <th>4</th>\n",
       "      <td>False</td>\n",
       "      <td>high</td>\n",
       "      <td>low</td>\n",
       "      <td>low</td>\n",
       "      <td>low</td>\n",
       "      <td>False</td>\n",
       "      <td>True</td>\n",
       "      <td>low</td>\n",
       "      <td>low</td>\n",
       "      <td>high</td>\n",
       "      <td>low</td>\n",
       "      <td>True</td>\n",
       "      <td>False</td>\n",
       "      <td>low</td>\n",
       "      <td>False</td>\n",
       "      <td>False</td>\n",
       "      <td>low</td>\n",
       "    </tr>\n",
       "  </tbody>\n",
       "</table>\n",
       "</div>"
      ],
      "text/plain": [
       "   has_author jupyter_prop output_cell_prop num_contrib image_prop  \\\n",
       "0       False       medium           medium         low        low   \n",
       "1       False         high             high         low        low   \n",
       "2       False          low           medium         low        low   \n",
       "3       False         high              low         low        low   \n",
       "4       False         high              low         low        low   \n",
       "\n",
       "   is_education  has_comments num_commits non_exec_prop exec_inorder  \\\n",
       "0         False         False         low           low         high   \n",
       "1         False          True         low           low         high   \n",
       "2         False          True      medium           low         high   \n",
       "3         False          True         low           low         high   \n",
       "4         False          True         low           low         high   \n",
       "\n",
       "  exec_skips  has_error  has_export num_functions  has_test  has_param  \\\n",
       "0        low      False        True           low     False      False   \n",
       "1        low       True        True           low     False      False   \n",
       "2        low      False        True           low     False      False   \n",
       "3        low      False       False           low     False      False   \n",
       "4        low       True       False           low     False      False   \n",
       "\n",
       "  num_stars  \n",
       "0       low  \n",
       "1       low  \n",
       "2       low  \n",
       "3       low  \n",
       "4       low  "
      ]
     },
     "execution_count": 50,
     "metadata": {},
     "output_type": "execute_result"
    }
   ],
   "source": [
    "# initial look at the binned data\n",
    "no_md_binned_df.head()"
   ]
  },
  {
   "cell_type": "code",
   "execution_count": 51,
   "metadata": {
    "scrolled": true
   },
   "outputs": [
    {
     "name": "stdout",
     "output_type": "stream",
     "text": [
      "high      1040\n",
      "medium     254\n",
      "low         60\n",
      "Name: jupyter_prop, dtype: int64\n",
      "medium    794\n",
      "low       393\n",
      "high      167\n",
      "Name: output_cell_prop, dtype: int64\n",
      "low       1322\n",
      "medium      29\n",
      "high         3\n",
      "Name: num_contrib, dtype: int64\n",
      "low       915\n",
      "medium    281\n",
      "high      158\n",
      "Name: image_prop, dtype: int64\n",
      "low       1337\n",
      "medium      16\n",
      "high         1\n",
      "Name: num_commits, dtype: int64\n",
      "low       1177\n",
      "medium      93\n",
      "high        84\n",
      "Name: non_exec_prop, dtype: int64\n",
      "high      1164\n",
      "medium     169\n",
      "low         21\n",
      "Name: exec_inorder, dtype: int64\n",
      "low       1347\n",
      "medium       6\n",
      "high         1\n",
      "Name: exec_skips, dtype: int64\n",
      "low       1300\n",
      "medium      50\n",
      "high         4\n",
      "Name: num_functions, dtype: int64\n",
      "low       1343\n",
      "medium       8\n",
      "high         3\n",
      "Name: num_stars, dtype: int64\n"
     ]
    }
   ],
   "source": [
    "# check the bin counts\n",
    "for quant_var in no_md_quant_vars:\n",
    "    print(no_md_binned_df[quant_var].value_counts())"
   ]
  },
  {
   "cell_type": "code",
   "execution_count": 52,
   "metadata": {},
   "outputs": [],
   "source": [
    "# copy the dataframe again and try doing two bins\n",
    "no_md_binned_df = no_md_df.copy()"
   ]
  },
  {
   "cell_type": "code",
   "execution_count": 53,
   "metadata": {},
   "outputs": [],
   "source": [
    "# for each quantitative field in the data\n",
    "for quant_var in no_md_quant_vars:\n",
    "    \n",
    "    # change the column in the dataframe so that it is binned into lower and higher\n",
    "    no_md_binned_df.loc[:, quant_var] = pd.cut(no_md_binned_df[quant_var], 2, labels = two_labels)"
   ]
  },
  {
   "cell_type": "code",
   "execution_count": 54,
   "metadata": {},
   "outputs": [
    {
     "data": {
      "text/html": [
       "<div>\n",
       "<style scoped>\n",
       "    .dataframe tbody tr th:only-of-type {\n",
       "        vertical-align: middle;\n",
       "    }\n",
       "\n",
       "    .dataframe tbody tr th {\n",
       "        vertical-align: top;\n",
       "    }\n",
       "\n",
       "    .dataframe thead th {\n",
       "        text-align: right;\n",
       "    }\n",
       "</style>\n",
       "<table border=\"1\" class=\"dataframe\">\n",
       "  <thead>\n",
       "    <tr style=\"text-align: right;\">\n",
       "      <th></th>\n",
       "      <th>has_author</th>\n",
       "      <th>jupyter_prop</th>\n",
       "      <th>output_cell_prop</th>\n",
       "      <th>num_contrib</th>\n",
       "      <th>image_prop</th>\n",
       "      <th>is_education</th>\n",
       "      <th>has_comments</th>\n",
       "      <th>num_commits</th>\n",
       "      <th>non_exec_prop</th>\n",
       "      <th>exec_inorder</th>\n",
       "      <th>exec_skips</th>\n",
       "      <th>has_error</th>\n",
       "      <th>has_export</th>\n",
       "      <th>num_functions</th>\n",
       "      <th>has_test</th>\n",
       "      <th>has_param</th>\n",
       "      <th>num_stars</th>\n",
       "    </tr>\n",
       "  </thead>\n",
       "  <tbody>\n",
       "    <tr>\n",
       "      <th>0</th>\n",
       "      <td>False</td>\n",
       "      <td>higher</td>\n",
       "      <td>higher</td>\n",
       "      <td>lower</td>\n",
       "      <td>lower</td>\n",
       "      <td>False</td>\n",
       "      <td>False</td>\n",
       "      <td>lower</td>\n",
       "      <td>lower</td>\n",
       "      <td>higher</td>\n",
       "      <td>lower</td>\n",
       "      <td>False</td>\n",
       "      <td>True</td>\n",
       "      <td>lower</td>\n",
       "      <td>False</td>\n",
       "      <td>False</td>\n",
       "      <td>lower</td>\n",
       "    </tr>\n",
       "    <tr>\n",
       "      <th>1</th>\n",
       "      <td>False</td>\n",
       "      <td>higher</td>\n",
       "      <td>higher</td>\n",
       "      <td>lower</td>\n",
       "      <td>lower</td>\n",
       "      <td>False</td>\n",
       "      <td>True</td>\n",
       "      <td>lower</td>\n",
       "      <td>lower</td>\n",
       "      <td>higher</td>\n",
       "      <td>lower</td>\n",
       "      <td>True</td>\n",
       "      <td>True</td>\n",
       "      <td>lower</td>\n",
       "      <td>False</td>\n",
       "      <td>False</td>\n",
       "      <td>lower</td>\n",
       "    </tr>\n",
       "    <tr>\n",
       "      <th>2</th>\n",
       "      <td>False</td>\n",
       "      <td>lower</td>\n",
       "      <td>lower</td>\n",
       "      <td>lower</td>\n",
       "      <td>lower</td>\n",
       "      <td>False</td>\n",
       "      <td>True</td>\n",
       "      <td>lower</td>\n",
       "      <td>lower</td>\n",
       "      <td>higher</td>\n",
       "      <td>lower</td>\n",
       "      <td>False</td>\n",
       "      <td>True</td>\n",
       "      <td>lower</td>\n",
       "      <td>False</td>\n",
       "      <td>False</td>\n",
       "      <td>lower</td>\n",
       "    </tr>\n",
       "    <tr>\n",
       "      <th>3</th>\n",
       "      <td>False</td>\n",
       "      <td>higher</td>\n",
       "      <td>lower</td>\n",
       "      <td>lower</td>\n",
       "      <td>lower</td>\n",
       "      <td>False</td>\n",
       "      <td>True</td>\n",
       "      <td>lower</td>\n",
       "      <td>lower</td>\n",
       "      <td>higher</td>\n",
       "      <td>lower</td>\n",
       "      <td>False</td>\n",
       "      <td>False</td>\n",
       "      <td>lower</td>\n",
       "      <td>False</td>\n",
       "      <td>False</td>\n",
       "      <td>lower</td>\n",
       "    </tr>\n",
       "    <tr>\n",
       "      <th>4</th>\n",
       "      <td>False</td>\n",
       "      <td>higher</td>\n",
       "      <td>lower</td>\n",
       "      <td>lower</td>\n",
       "      <td>lower</td>\n",
       "      <td>False</td>\n",
       "      <td>True</td>\n",
       "      <td>lower</td>\n",
       "      <td>lower</td>\n",
       "      <td>higher</td>\n",
       "      <td>lower</td>\n",
       "      <td>True</td>\n",
       "      <td>False</td>\n",
       "      <td>lower</td>\n",
       "      <td>False</td>\n",
       "      <td>False</td>\n",
       "      <td>lower</td>\n",
       "    </tr>\n",
       "  </tbody>\n",
       "</table>\n",
       "</div>"
      ],
      "text/plain": [
       "   has_author jupyter_prop output_cell_prop num_contrib image_prop  \\\n",
       "0       False       higher           higher       lower      lower   \n",
       "1       False       higher           higher       lower      lower   \n",
       "2       False        lower            lower       lower      lower   \n",
       "3       False       higher            lower       lower      lower   \n",
       "4       False       higher            lower       lower      lower   \n",
       "\n",
       "   is_education  has_comments num_commits non_exec_prop exec_inorder  \\\n",
       "0         False         False       lower         lower       higher   \n",
       "1         False          True       lower         lower       higher   \n",
       "2         False          True       lower         lower       higher   \n",
       "3         False          True       lower         lower       higher   \n",
       "4         False          True       lower         lower       higher   \n",
       "\n",
       "  exec_skips  has_error  has_export num_functions  has_test  has_param  \\\n",
       "0      lower      False        True         lower     False      False   \n",
       "1      lower       True        True         lower     False      False   \n",
       "2      lower      False        True         lower     False      False   \n",
       "3      lower      False       False         lower     False      False   \n",
       "4      lower       True       False         lower     False      False   \n",
       "\n",
       "  num_stars  \n",
       "0     lower  \n",
       "1     lower  \n",
       "2     lower  \n",
       "3     lower  \n",
       "4     lower  "
      ]
     },
     "execution_count": 54,
     "metadata": {},
     "output_type": "execute_result"
    }
   ],
   "source": [
    "# initial look at the binned data\n",
    "no_md_binned_df.head()"
   ]
  },
  {
   "cell_type": "code",
   "execution_count": 55,
   "metadata": {
    "scrolled": true
   },
   "outputs": [
    {
     "name": "stdout",
     "output_type": "stream",
     "text": [
      "higher    1263\n",
      "lower       91\n",
      "Name: jupyter_prop, dtype: int64\n",
      "lower     841\n",
      "higher    513\n",
      "Name: output_cell_prop, dtype: int64\n",
      "lower     1347\n",
      "higher       7\n",
      "Name: num_contrib, dtype: int64\n",
      "lower     1101\n",
      "higher     253\n",
      "Name: image_prop, dtype: int64\n",
      "lower     1353\n",
      "higher       1\n",
      "Name: num_commits, dtype: int64\n",
      "lower     1248\n",
      "higher     106\n",
      "Name: non_exec_prop, dtype: int64\n",
      "higher    1289\n",
      "lower       65\n",
      "Name: exec_inorder, dtype: int64\n",
      "lower     1353\n",
      "higher       1\n",
      "Name: exec_skips, dtype: int64\n",
      "lower     1348\n",
      "higher       6\n",
      "Name: num_functions, dtype: int64\n",
      "lower     1350\n",
      "higher       4\n",
      "Name: num_stars, dtype: int64\n"
     ]
    }
   ],
   "source": [
    "# check the value counts\n",
    "for quant_var in no_md_quant_vars:\n",
    "    print(no_md_binned_df[quant_var].value_counts())"
   ]
  },
  {
   "cell_type": "markdown",
   "metadata": {},
   "source": [
    "### Data Transformations\n",
    "\n",
    "Based on the binning numbers from the previous cells (results from having three bins), I believe the columns that we have to transform are:\n",
    "\n",
    "- `jupyter_prop`: cubed, 3 bins\n",
    "- `num_contrib`: log + 0.5, 2 bins\n",
    "- `num_commits`: fourth root, 2 bins\n",
    "- `non_exec_prop`: 2 bins\n",
    "- `exec_inorder`: square, 2 bins\n",
    "- `exec_skips`: log + 0.5, 2 bins\n",
    "- `num_functions`: log + 0.5, 2 bins\n",
    "- `num_stars`: log + 0.5, 2 bins"
   ]
  },
  {
   "cell_type": "code",
   "execution_count": 228,
   "metadata": {
    "scrolled": true
   },
   "outputs": [
    {
     "data": {
      "text/plain": [
       "<matplotlib.axes._subplots.AxesSubplot at 0x7fa62141ec88>"
      ]
     },
     "execution_count": 228,
     "metadata": {},
     "output_type": "execute_result"
    },
    {
     "data": {
      "image/png": "[encoded data removed]",
      "text/plain": [
       "<Figure size 432x288 with 1 Axes>"
      ]
     },
     "metadata": {
      "needs_background": "light"
     },
     "output_type": "display_data"
    }
   ],
   "source": [
    "# create a copy of the jupyter_prop column\n",
    "no_md_jupyter_prop = no_md_quant_df['jupyter_prop'].copy()\n",
    "\n",
    "# plot the data\n",
    "no_md_jupyter_prop.plot(kind = 'hist')"
   ]
  },
  {
   "cell_type": "markdown",
   "metadata": {},
   "source": [
    "Since the data is left-skewed, we can try to square the data. "
   ]
  },
  {
   "cell_type": "code",
   "execution_count": 229,
   "metadata": {
    "scrolled": true
   },
   "outputs": [
    {
     "data": {
      "text/plain": [
       "<matplotlib.axes._subplots.AxesSubplot at 0x7fa6212ec898>"
      ]
     },
     "execution_count": 229,
     "metadata": {},
     "output_type": "execute_result"
    },
    {
     "data": {
      "image/png": "[encoded data removed]",
      "text/plain": [
       "<Figure size 432x288 with 1 Axes>"
      ]
     },
     "metadata": {
      "needs_background": "light"
     },
     "output_type": "display_data"
    }
   ],
   "source": [
    "# transform the column\n",
    "no_md_jupyter_prop = no_md_jupyter_prop.transform(lambda x : x ** 3)\n",
    "\n",
    "# plot again\n",
    "no_md_jupyter_prop.plot(kind = 'hist')"
   ]
  },
  {
   "cell_type": "code",
   "execution_count": 230,
   "metadata": {},
   "outputs": [
    {
     "data": {
      "text/plain": [
       "high      910\n",
       "medium    286\n",
       "low       159\n",
       "Name: jupyter_prop, dtype: int64"
      ]
     },
     "execution_count": 230,
     "metadata": {},
     "output_type": "execute_result"
    }
   ],
   "source": [
    "# try to bin the data again\n",
    "no_md_jupyter_prop = pd.cut(no_md_jupyter_prop, 4, labels = four_labels)\n",
    "\n",
    "# combine medium1 and medium2\n",
    "no_md_jupyter_prop = no_md_jupyter_prop.replace(['medium1', 'medium2'], 'medium')\n",
    "\n",
    "# check bin counts\n",
    "no_md_jupyter_prop.value_counts()"
   ]
  },
  {
   "cell_type": "code",
   "execution_count": 237,
   "metadata": {
    "scrolled": false
   },
   "outputs": [
    {
     "data": {
      "text/plain": [
       "<matplotlib.axes._subplots.AxesSubplot at 0x7fa621049748>"
      ]
     },
     "execution_count": 237,
     "metadata": {},
     "output_type": "execute_result"
    },
    {
     "data": {
      "image/png": "[encoded data removed]",
      "text/plain": [
       "<Figure size 432x288 with 1 Axes>"
      ]
     },
     "metadata": {
      "needs_background": "light"
     },
     "output_type": "display_data"
    }
   ],
   "source": [
    "# create a copy of num_contrib column\n",
    "no_md_num_contrib = no_md_quant_df['num_contrib'].copy()\n",
    "\n",
    "# plot the data\n",
    "no_md_num_contrib.plot(kind = 'hist')"
   ]
  },
  {
   "cell_type": "markdown",
   "metadata": {},
   "source": [
    "Since the data is right-skewed, we can try to square root the data. Tried three different transformations and none of them produced good bins, so we can switch to two bins for this variable.\n",
    "\n",
    "Based on the results of two bins for this variable in the previous section, we still have to transform the data"
   ]
  },
  {
   "cell_type": "code",
   "execution_count": 238,
   "metadata": {},
   "outputs": [
    {
     "data": {
      "text/plain": [
       "<matplotlib.axes._subplots.AxesSubplot at 0x7fa6210dceb8>"
      ]
     },
     "execution_count": 238,
     "metadata": {},
     "output_type": "execute_result"
    },
    {
     "data": {
      "image/png": "[encoded data removed]",
      "text/plain": [
       "<Figure size 432x288 with 1 Axes>"
      ]
     },
     "metadata": {
      "needs_background": "light"
     },
     "output_type": "display_data"
    }
   ],
   "source": [
    "# transform the column\n",
    "no_md_num_contrib = no_md_num_contrib.transform(lambda x : math.log(x + 0.5))\n",
    "\n",
    "# plot again\n",
    "no_md_num_contrib.plot(kind = 'hist')"
   ]
  },
  {
   "cell_type": "code",
   "execution_count": 239,
   "metadata": {},
   "outputs": [
    {
     "data": {
      "text/plain": [
       "lower     1237\n",
       "higher     118\n",
       "Name: num_contrib, dtype: int64"
      ]
     },
     "execution_count": 239,
     "metadata": {},
     "output_type": "execute_result"
    }
   ],
   "source": [
    "# try to bin the data again\n",
    "no_md_num_contrib = pd.cut(no_md_num_contrib, 2, labels = two_labels)\n",
    "\n",
    "# check bin counts\n",
    "no_md_num_contrib.value_counts()"
   ]
  },
  {
   "cell_type": "code",
   "execution_count": 323,
   "metadata": {
    "scrolled": false
   },
   "outputs": [
    {
     "data": {
      "text/plain": [
       "<matplotlib.axes._subplots.AxesSubplot at 0x7fa6202b1588>"
      ]
     },
     "execution_count": 323,
     "metadata": {},
     "output_type": "execute_result"
    },
    {
     "data": {
      "image/png": "[encoded data removed]",
      "text/plain": [
       "<Figure size 432x288 with 1 Axes>"
      ]
     },
     "metadata": {
      "needs_background": "light"
     },
     "output_type": "display_data"
    }
   ],
   "source": [
    "# make a copy of the num_commits column\n",
    "no_md_num_commits = no_md_quant_df['num_commits'].copy()\n",
    "\n",
    "# plot the data\n",
    "no_md_num_commits.plot(kind = 'hist')"
   ]
  },
  {
   "cell_type": "markdown",
   "metadata": {},
   "source": [
    "Since the data is right-skewed, we can try to square root the data. Tried three different transformations and none of them produced good bins, so we can switch to two bins for this variable.\n",
    "\n",
    "Based on the results of two bins for this variable in the previous section, we still have to transform the data"
   ]
  },
  {
   "cell_type": "code",
   "execution_count": 324,
   "metadata": {
    "scrolled": true
   },
   "outputs": [
    {
     "data": {
      "text/plain": [
       "<matplotlib.axes._subplots.AxesSubplot at 0x7fa62019ba20>"
      ]
     },
     "execution_count": 324,
     "metadata": {},
     "output_type": "execute_result"
    },
    {
     "data": {
      "image/png": "[encoded data removed]",
      "text/plain": [
       "<Figure size 432x288 with 1 Axes>"
      ]
     },
     "metadata": {
      "needs_background": "light"
     },
     "output_type": "display_data"
    }
   ],
   "source": [
    "# transform the data\n",
    "no_md_num_commits = no_md_num_commits.transform(lambda x : x ** (1. / 4))\n",
    "\n",
    "# plot again\n",
    "no_md_num_commits.plot(kind = 'hist')"
   ]
  },
  {
   "cell_type": "code",
   "execution_count": 325,
   "metadata": {
    "scrolled": true
   },
   "outputs": [
    {
     "data": {
      "text/plain": [
       "lower     1042\n",
       "higher     313\n",
       "Name: num_commits, dtype: int64"
      ]
     },
     "execution_count": 325,
     "metadata": {},
     "output_type": "execute_result"
    }
   ],
   "source": [
    "# try to bin the data again\n",
    "no_md_num_commits = pd.cut(no_md_num_commits, 2, labels = two_labels)\n",
    "\n",
    "# check bin counts\n",
    "no_md_num_commits.value_counts()"
   ]
  },
  {
   "cell_type": "code",
   "execution_count": 316,
   "metadata": {
    "scrolled": false
   },
   "outputs": [
    {
     "data": {
      "text/plain": [
       "<matplotlib.axes._subplots.AxesSubplot at 0x7fa61f8163c8>"
      ]
     },
     "execution_count": 316,
     "metadata": {},
     "output_type": "execute_result"
    },
    {
     "data": {
      "image/png": "[encoded data removed]",
      "text/plain": [
       "<Figure size 432x288 with 1 Axes>"
      ]
     },
     "metadata": {
      "needs_background": "light"
     },
     "output_type": "display_data"
    }
   ],
   "source": [
    "# make a copy of the exec_inorder column\n",
    "no_md_exec_inorder = no_md_quant_df['exec_inorder'].copy()\n",
    "\n",
    "# plot the column\n",
    "no_md_exec_inorder.plot(kind = 'hist')"
   ]
  },
  {
   "cell_type": "markdown",
   "metadata": {},
   "source": [
    "Since the data is left-skewed, we can try squaring the data. Tried squaring and cubing the data and none of them produced good bins, so we can switch to two bins for this variable.\n",
    "\n",
    "Based on the results of two bins for this variable in the previous section, we still have to transform the data"
   ]
  },
  {
   "cell_type": "code",
   "execution_count": 294,
   "metadata": {},
   "outputs": [
    {
     "data": {
      "text/plain": [
       "<matplotlib.axes._subplots.AxesSubplot at 0x7fa61ff6f6a0>"
      ]
     },
     "execution_count": 294,
     "metadata": {},
     "output_type": "execute_result"
    },
    {
     "data": {
      "image/png": "[encoded data removed]",
      "text/plain": [
       "<Figure size 432x288 with 1 Axes>"
      ]
     },
     "metadata": {
      "needs_background": "light"
     },
     "output_type": "display_data"
    }
   ],
   "source": [
    "# transform the data\n",
    "no_md_exec_inorder = no_md_exec_inorder.transform(lambda x : x ** 2)\n",
    "\n",
    "# plot again\n",
    "no_md_exec_inorder.plot(kind = 'hist')"
   ]
  },
  {
   "cell_type": "code",
   "execution_count": 295,
   "metadata": {},
   "outputs": [
    {
     "data": {
      "text/plain": [
       "higher    1205\n",
       "lower      150\n",
       "Name: exec_inorder, dtype: int64"
      ]
     },
     "execution_count": 295,
     "metadata": {},
     "output_type": "execute_result"
    }
   ],
   "source": [
    "# try to bin the data again\n",
    "no_md_exec_inorder = pd.cut(no_md_exec_inorder, 2, labels = two_labels)\n",
    "\n",
    "# check bin counts\n",
    "no_md_exec_inorder.value_counts()"
   ]
  },
  {
   "cell_type": "code",
   "execution_count": 308,
   "metadata": {
    "scrolled": true
   },
   "outputs": [
    {
     "data": {
      "text/plain": [
       "<matplotlib.axes._subplots.AxesSubplot at 0x7fa61fac57b8>"
      ]
     },
     "execution_count": 308,
     "metadata": {},
     "output_type": "execute_result"
    },
    {
     "data": {
      "image/png": "[encoded data removed]",
      "text/plain": [
       "<Figure size 432x288 with 1 Axes>"
      ]
     },
     "metadata": {
      "needs_background": "light"
     },
     "output_type": "display_data"
    }
   ],
   "source": [
    "# make a copy of the exec_skips column\n",
    "no_md_exec_skips = no_md_quant_df['exec_skips'].copy()\n",
    "\n",
    "# plot the column\n",
    "no_md_exec_skips.plot(kind = 'hist')"
   ]
  },
  {
   "cell_type": "markdown",
   "metadata": {},
   "source": [
    "Since the data is right-skewed, we can try to square root the data. Tried three different transformations and none of them produced good bins, so we can switch to two bins for this variable.\n",
    "\n",
    "Based on the results of two bins for this variable in the previous section, we still have to transform the data"
   ]
  },
  {
   "cell_type": "code",
   "execution_count": 309,
   "metadata": {},
   "outputs": [
    {
     "data": {
      "text/plain": [
       "<matplotlib.axes._subplots.AxesSubplot at 0x7fa61fa36160>"
      ]
     },
     "execution_count": 309,
     "metadata": {},
     "output_type": "execute_result"
    },
    {
     "data": {
      "image/png": "[encoded data removed]",
      "text/plain": [
       "<Figure size 432x288 with 1 Axes>"
      ]
     },
     "metadata": {
      "needs_background": "light"
     },
     "output_type": "display_data"
    }
   ],
   "source": [
    "# transform the column\n",
    "no_md_exec_skips = no_md_exec_skips.transform(lambda x : math.log(x + 0.5))\n",
    "\n",
    "# plot again\n",
    "no_md_exec_skips.plot(kind = 'hist')"
   ]
  },
  {
   "cell_type": "code",
   "execution_count": 310,
   "metadata": {
    "scrolled": true
   },
   "outputs": [
    {
     "data": {
      "text/plain": [
       "lower     1179\n",
       "higher     176\n",
       "Name: exec_skips, dtype: int64"
      ]
     },
     "execution_count": 310,
     "metadata": {},
     "output_type": "execute_result"
    }
   ],
   "source": [
    "# try to bin the data again\n",
    "no_md_exec_skips = pd.cut(no_md_exec_skips, 2, labels = two_labels)\n",
    "\n",
    "# check bin counts\n",
    "no_md_exec_skips.value_counts()"
   ]
  },
  {
   "cell_type": "code",
   "execution_count": 86,
   "metadata": {
    "scrolled": false
   },
   "outputs": [
    {
     "data": {
      "text/plain": [
       "<matplotlib.axes._subplots.AxesSubplot at 0x7fcdd6a3f208>"
      ]
     },
     "execution_count": 86,
     "metadata": {},
     "output_type": "execute_result"
    },
    {
     "data": {
      "image/png": "[encoded data removed]",
      "text/plain": [
       "<Figure size 432x288 with 1 Axes>"
      ]
     },
     "metadata": {
      "needs_background": "light"
     },
     "output_type": "display_data"
    }
   ],
   "source": [
    "# create a copy of the num_functions column\n",
    "no_md_num_functions = no_md_quant_df['num_functions'].copy()\n",
    "\n",
    "# plot the data\n",
    "no_md_num_functions.plot(kind = 'hist')"
   ]
  },
  {
   "cell_type": "markdown",
   "metadata": {},
   "source": [
    "Since the data is right-skewed, we can try to square root the data. Tried three different transformations and none of them produced good bins, so we can switch to two bins for this variable"
   ]
  },
  {
   "cell_type": "markdown",
   "metadata": {},
   "source": [
    "Based on the  results of two bins for this variable in the previous section, we still have to transform the data"
   ]
  },
  {
   "cell_type": "code",
   "execution_count": 87,
   "metadata": {},
   "outputs": [
    {
     "data": {
      "text/plain": [
       "<matplotlib.axes._subplots.AxesSubplot at 0x7fcdd69b4b70>"
      ]
     },
     "execution_count": 87,
     "metadata": {},
     "output_type": "execute_result"
    },
    {
     "data": {
      "image/png": "[encoded data removed]",
      "text/plain": [
       "<Figure size 432x288 with 1 Axes>"
      ]
     },
     "metadata": {
      "needs_background": "light"
     },
     "output_type": "display_data"
    }
   ],
   "source": [
    "# transform the column\n",
    "no_md_num_functions = no_md_num_functions.transform(lambda x : math.log(x + 0.5))\n",
    "\n",
    "# plot the column again\n",
    "no_md_num_functions.plot(kind = 'hist')"
   ]
  },
  {
   "cell_type": "code",
   "execution_count": 88,
   "metadata": {
    "scrolled": true
   },
   "outputs": [
    {
     "data": {
      "text/plain": [
       "lower     1153\n",
       "higher     201\n",
       "Name: num_functions, dtype: int64"
      ]
     },
     "execution_count": 88,
     "metadata": {},
     "output_type": "execute_result"
    }
   ],
   "source": [
    "# try to bin the data again\n",
    "no_md_num_functions = pd.cut(no_md_num_functions, 2, labels = two_labels)\n",
    "\n",
    "# check bin counts\n",
    "no_md_num_functions.value_counts()"
   ]
  },
  {
   "cell_type": "code",
   "execution_count": 69,
   "metadata": {
    "scrolled": true
   },
   "outputs": [
    {
     "data": {
      "text/plain": [
       "<matplotlib.axes._subplots.AxesSubplot at 0x7f56555b17f0>"
      ]
     },
     "execution_count": 69,
     "metadata": {},
     "output_type": "execute_result"
    },
    {
     "data": {
      "image/png": "[encoded data removed]",
      "text/plain": [
       "<Figure size 432x288 with 1 Axes>"
      ]
     },
     "metadata": {
      "needs_background": "light"
     },
     "output_type": "display_data"
    }
   ],
   "source": [
    "# create a copy of the num_stars column\n",
    "no_md_num_stars = no_md_quant_df['num_stars'].copy()\n",
    "\n",
    "# plot the data\n",
    "no_md_num_stars.plot(kind = 'hist')"
   ]
  },
  {
   "cell_type": "markdown",
   "metadata": {},
   "source": [
    "Since the data is right-skewed, we can try to square root the data. Tried three different transformations and none of them produced good bins, so we can switch to two bins for this variable"
   ]
  },
  {
   "cell_type": "code",
   "execution_count": 70,
   "metadata": {},
   "outputs": [
    {
     "data": {
      "text/plain": [
       "lower     1350\n",
       "higher       4\n",
       "Name: num_stars, dtype: int64"
      ]
     },
     "execution_count": 70,
     "metadata": {},
     "output_type": "execute_result"
    }
   ],
   "source": [
    "# put the data into two bins\n",
    "no_md_num_stars = pd.cut(no_md_num_stars, 2, labels = two_labels)\n",
    "\n",
    "# check the bin counts\n",
    "no_md_num_stars.value_counts()"
   ]
  },
  {
   "cell_type": "code",
   "execution_count": 85,
   "metadata": {
    "scrolled": true
   },
   "outputs": [
    {
     "data": {
      "text/plain": [
       "<matplotlib.axes._subplots.AxesSubplot at 0x7f5654b3fe10>"
      ]
     },
     "execution_count": 85,
     "metadata": {},
     "output_type": "execute_result"
    },
    {
     "data": {
      "image/png": "[encoded data removed]",
      "text/plain": [
       "<Figure size 432x288 with 1 Axes>"
      ]
     },
     "metadata": {
      "needs_background": "light"
     },
     "output_type": "display_data"
    }
   ],
   "source": [
    "# copy the original column\n",
    "no_md_num_stars = no_md_quant_df['num_stars'].copy()\n",
    "\n",
    "# transform the column\n",
    "no_md_num_stars = no_md_num_stars.transform(lambda x : math.log(x + 0.5))\n",
    "\n",
    "# plot the column again\n",
    "no_md_num_stars.plot(kind = 'hist')"
   ]
  },
  {
   "cell_type": "code",
   "execution_count": 86,
   "metadata": {},
   "outputs": [
    {
     "data": {
      "text/plain": [
       "lower     1299\n",
       "higher      55\n",
       "Name: num_stars, dtype: int64"
      ]
     },
     "execution_count": 86,
     "metadata": {},
     "output_type": "execute_result"
    }
   ],
   "source": [
    "# try to bin the data again\n",
    "no_md_num_stars = pd.cut(no_md_num_stars, 2, labels = two_labels)\n",
    "\n",
    "# check bin counts\n",
    "no_md_num_stars.value_counts()"
   ]
  },
  {
   "cell_type": "markdown",
   "metadata": {},
   "source": [
    "Tried all different transformations, and this was the biggest bin size I could get."
   ]
  },
  {
   "cell_type": "markdown",
   "metadata": {},
   "source": [
    "# Export the Binned Data"
   ]
  },
  {
   "cell_type": "code",
   "execution_count": 87,
   "metadata": {},
   "outputs": [],
   "source": [
    "# function that performs binning (2 or 3 bins)\n",
    "def bin_column(col,  num_bins):\n",
    "    \n",
    "    if num_bins == 2:\n",
    "        return pd.cut(col, 2, labels = two_labels)\n",
    "    elif num_bins == 3:\n",
    "        # put data into four bins first\n",
    "        four_bins = pd.cut(col, 4, labels = four_labels)\n",
    "        \n",
    "        # combine medium1 and medium2\n",
    "        return four_bins.replace(['medium1', 'medium2'], 'medium')\n",
    "    else:\n",
    "        return None"
   ]
  },
  {
   "cell_type": "markdown",
   "metadata": {},
   "source": [
    "## Markdown Cells"
   ]
  },
  {
   "cell_type": "code",
   "execution_count": 88,
   "metadata": {},
   "outputs": [],
   "source": [
    "# python dictionary of quantitative fields and the number of bins + transformations\n",
    "md_quant_bins = {\n",
    "    'jupyter_prop': (3, lambda x : x),\n",
    "    'markdown_prop': (3, lambda x : math.sqrt(x)),\n",
    "    'num_contrib': (2, lambda x : math.log(x + 0.5)),\n",
    "    'image_prop': (3, lambda x : x),\n",
    "    'output_cell_prop': (3, lambda x : x),\n",
    "    'md_frequency': (3, lambda x : x),\n",
    "    'num_commits': (2, lambda x : math.log(x + 0.5)),\n",
    "    'non_exec_prop': (3, lambda x : x),\n",
    "    'exec_inorder': (2, lambda x : x ** 2),\n",
    "    'exec_skips': (2, lambda x : math.log(x + 0.5)),\n",
    "    'num_functions': (2, lambda x : math.log(x + 0.5)),\n",
    "    'num_headers': (3, lambda x : math.log(x + 0.5)),\n",
    "    'num_stars': (2, lambda x : math.log(x + 0.5))\n",
    "}"
   ]
  },
  {
   "cell_type": "code",
   "execution_count": 89,
   "metadata": {},
   "outputs": [],
   "source": [
    "# create the dataframe that we will perform binning on\n",
    "md_binned_df = md_original.copy()"
   ]
  },
  {
   "cell_type": "code",
   "execution_count": 98,
   "metadata": {},
   "outputs": [],
   "source": [
    "# for each column in the dataframe\n",
    "for var in list(md_binned_df):\n",
    "    \n",
    "    # check if quantitative (then it needs to be binned)\n",
    "    if var in md_quant_bins.keys():\n",
    "        \n",
    "        # extract the number of bins and the transformation\n",
    "        (bins, transformation) = md_quant_bins[var]\n",
    "        \n",
    "        # perform the transformation\n",
    "        md_binned_df[var] = md_binned_df[var].apply(transformation)\n",
    "        \n",
    "        # bin the data\n",
    "        md_binned_df[var] = bin_column(md_binned_df[var], bins)"
   ]
  },
  {
   "cell_type": "code",
   "execution_count": 99,
   "metadata": {},
   "outputs": [
    {
     "data": {
      "text/html": [
       "<div>\n",
       "<style scoped>\n",
       "    .dataframe tbody tr th:only-of-type {\n",
       "        vertical-align: middle;\n",
       "    }\n",
       "\n",
       "    .dataframe tbody tr th {\n",
       "        vertical-align: top;\n",
       "    }\n",
       "\n",
       "    .dataframe thead th {\n",
       "        text-align: right;\n",
       "    }\n",
       "</style>\n",
       "<table border=\"1\" class=\"dataframe\">\n",
       "  <thead>\n",
       "    <tr style=\"text-align: right;\">\n",
       "      <th></th>\n",
       "      <th>Unnamed: 0</th>\n",
       "      <th>nb_id</th>\n",
       "      <th>longer_beginning</th>\n",
       "      <th>longer_ending</th>\n",
       "      <th>has_author</th>\n",
       "      <th>has_equation</th>\n",
       "      <th>jupyter_prop</th>\n",
       "      <th>output_cell_prop</th>\n",
       "      <th>markdown_prop</th>\n",
       "      <th>num_contrib</th>\n",
       "      <th>...</th>\n",
       "      <th>num_commits</th>\n",
       "      <th>md_format</th>\n",
       "      <th>non_exec_prop</th>\n",
       "      <th>exec_inorder</th>\n",
       "      <th>exec_skips</th>\n",
       "      <th>has_error</th>\n",
       "      <th>has_export</th>\n",
       "      <th>num_functions</th>\n",
       "      <th>has_test</th>\n",
       "      <th>num_headers</th>\n",
       "    </tr>\n",
       "  </thead>\n",
       "  <tbody>\n",
       "    <tr>\n",
       "      <th>0</th>\n",
       "      <td>3</td>\n",
       "      <td>594</td>\n",
       "      <td>True</td>\n",
       "      <td>False</td>\n",
       "      <td>False</td>\n",
       "      <td>False</td>\n",
       "      <td>medium</td>\n",
       "      <td>high</td>\n",
       "      <td>low</td>\n",
       "      <td>lower</td>\n",
       "      <td>...</td>\n",
       "      <td>lower</td>\n",
       "      <td>True</td>\n",
       "      <td>low</td>\n",
       "      <td>higher</td>\n",
       "      <td>lower</td>\n",
       "      <td>False</td>\n",
       "      <td>False</td>\n",
       "      <td>lower</td>\n",
       "      <td>False</td>\n",
       "      <td>medium</td>\n",
       "    </tr>\n",
       "    <tr>\n",
       "      <th>1</th>\n",
       "      <td>6</td>\n",
       "      <td>1222</td>\n",
       "      <td>True</td>\n",
       "      <td>False</td>\n",
       "      <td>False</td>\n",
       "      <td>False</td>\n",
       "      <td>high</td>\n",
       "      <td>low</td>\n",
       "      <td>medium</td>\n",
       "      <td>lower</td>\n",
       "      <td>...</td>\n",
       "      <td>lower</td>\n",
       "      <td>True</td>\n",
       "      <td>high</td>\n",
       "      <td>higher</td>\n",
       "      <td>lower</td>\n",
       "      <td>False</td>\n",
       "      <td>False</td>\n",
       "      <td>lower</td>\n",
       "      <td>False</td>\n",
       "      <td>medium</td>\n",
       "    </tr>\n",
       "    <tr>\n",
       "      <th>2</th>\n",
       "      <td>7</td>\n",
       "      <td>1447</td>\n",
       "      <td>True</td>\n",
       "      <td>False</td>\n",
       "      <td>False</td>\n",
       "      <td>False</td>\n",
       "      <td>high</td>\n",
       "      <td>low</td>\n",
       "      <td>medium</td>\n",
       "      <td>lower</td>\n",
       "      <td>...</td>\n",
       "      <td>lower</td>\n",
       "      <td>True</td>\n",
       "      <td>high</td>\n",
       "      <td>higher</td>\n",
       "      <td>lower</td>\n",
       "      <td>False</td>\n",
       "      <td>True</td>\n",
       "      <td>higher</td>\n",
       "      <td>False</td>\n",
       "      <td>high</td>\n",
       "    </tr>\n",
       "    <tr>\n",
       "      <th>3</th>\n",
       "      <td>12</td>\n",
       "      <td>2705</td>\n",
       "      <td>True</td>\n",
       "      <td>False</td>\n",
       "      <td>False</td>\n",
       "      <td>False</td>\n",
       "      <td>high</td>\n",
       "      <td>medium</td>\n",
       "      <td>medium</td>\n",
       "      <td>lower</td>\n",
       "      <td>...</td>\n",
       "      <td>lower</td>\n",
       "      <td>False</td>\n",
       "      <td>low</td>\n",
       "      <td>higher</td>\n",
       "      <td>lower</td>\n",
       "      <td>False</td>\n",
       "      <td>False</td>\n",
       "      <td>lower</td>\n",
       "      <td>False</td>\n",
       "      <td>medium</td>\n",
       "    </tr>\n",
       "    <tr>\n",
       "      <th>4</th>\n",
       "      <td>15</td>\n",
       "      <td>2861</td>\n",
       "      <td>True</td>\n",
       "      <td>False</td>\n",
       "      <td>False</td>\n",
       "      <td>True</td>\n",
       "      <td>high</td>\n",
       "      <td>low</td>\n",
       "      <td>medium</td>\n",
       "      <td>lower</td>\n",
       "      <td>...</td>\n",
       "      <td>lower</td>\n",
       "      <td>False</td>\n",
       "      <td>low</td>\n",
       "      <td>higher</td>\n",
       "      <td>lower</td>\n",
       "      <td>False</td>\n",
       "      <td>False</td>\n",
       "      <td>lower</td>\n",
       "      <td>False</td>\n",
       "      <td>low</td>\n",
       "    </tr>\n",
       "  </tbody>\n",
       "</table>\n",
       "<p>5 rows × 26 columns</p>\n",
       "</div>"
      ],
      "text/plain": [
       "   Unnamed: 0  nb_id  longer_beginning  longer_ending  has_author  \\\n",
       "0           3    594              True          False       False   \n",
       "1           6   1222              True          False       False   \n",
       "2           7   1447              True          False       False   \n",
       "3          12   2705              True          False       False   \n",
       "4          15   2861              True          False       False   \n",
       "\n",
       "   has_equation jupyter_prop output_cell_prop markdown_prop num_contrib  ...  \\\n",
       "0         False       medium             high           low       lower  ...   \n",
       "1         False         high              low        medium       lower  ...   \n",
       "2         False         high              low        medium       lower  ...   \n",
       "3         False         high           medium        medium       lower  ...   \n",
       "4          True         high              low        medium       lower  ...   \n",
       "\n",
       "  num_commits  md_format  non_exec_prop  exec_inorder exec_skips  has_error  \\\n",
       "0       lower       True            low        higher      lower      False   \n",
       "1       lower       True           high        higher      lower      False   \n",
       "2       lower       True           high        higher      lower      False   \n",
       "3       lower      False            low        higher      lower      False   \n",
       "4       lower      False            low        higher      lower      False   \n",
       "\n",
       "  has_export  num_functions has_test num_headers  \n",
       "0      False          lower    False      medium  \n",
       "1      False          lower    False      medium  \n",
       "2       True         higher    False        high  \n",
       "3      False          lower    False      medium  \n",
       "4      False          lower    False         low  \n",
       "\n",
       "[5 rows x 26 columns]"
      ]
     },
     "execution_count": 99,
     "metadata": {},
     "output_type": "execute_result"
    }
   ],
   "source": [
    "# initial look at the binned data \n",
    "md_binned_df.head()"
   ]
  },
  {
   "cell_type": "code",
   "execution_count": 100,
   "metadata": {},
   "outputs": [],
   "source": [
    "# clear the first column \n",
    "md_binned_df = md_binned_df.drop(['Unnamed: 0'], axis = 1)"
   ]
  },
  {
   "cell_type": "code",
   "execution_count": 101,
   "metadata": {
    "scrolled": true
   },
   "outputs": [
    {
     "name": "stdout",
     "output_type": "stream",
     "text": [
      "high      1804\n",
      "medium     346\n",
      "low        141\n",
      "Name: jupyter_prop, dtype: int64\n",
      "medium    1383\n",
      "high       529\n",
      "low        379\n",
      "Name: output_cell_prop, dtype: int64\n",
      "medium    1879\n",
      "high       216\n",
      "low        196\n",
      "Name: markdown_prop, dtype: int64\n",
      "lower     2140\n",
      "higher     151\n",
      "Name: num_contrib, dtype: int64\n",
      "low       1241\n",
      "medium     873\n",
      "high       177\n",
      "Name: image_prop, dtype: int64\n",
      "medium    1276\n",
      "high       660\n",
      "low        355\n",
      "Name: md_frequency, dtype: int64\n",
      "lower     1981\n",
      "higher     310\n",
      "Name: num_commits, dtype: int64\n",
      "low       2003\n",
      "high       173\n",
      "medium     115\n",
      "Name: non_exec_prop, dtype: int64\n",
      "higher    2180\n",
      "lower      111\n",
      "Name: exec_inorder, dtype: int64\n",
      "lower     1925\n",
      "higher     366\n",
      "Name: exec_skips, dtype: int64\n",
      "lower     1752\n",
      "higher     539\n",
      "Name: num_functions, dtype: int64\n",
      "medium    1392\n",
      "low        655\n",
      "high       244\n",
      "Name: num_headers, dtype: int64\n"
     ]
    }
   ],
   "source": [
    "# check the bin counts\n",
    "for quant_var in md_quant_vars:\n",
    "    print(md_binned_df[quant_var].value_counts())"
   ]
  },
  {
   "cell_type": "code",
   "execution_count": 102,
   "metadata": {},
   "outputs": [],
   "source": [
    "# export the binned data to a csv\n",
    "md_binned_df.to_csv('markdown_group_binned.csv')"
   ]
  },
  {
   "cell_type": "markdown",
   "metadata": {},
   "source": [
    "## No Markdown Cells"
   ]
  },
  {
   "cell_type": "code",
   "execution_count": 103,
   "metadata": {},
   "outputs": [],
   "source": [
    "# python dictionary of quantitative fields and the number of bins + transformations\n",
    "no_md_quant_bins = {\n",
    "    'jupyter_prop': (3, lambda x : x ** 3),\n",
    "    'num_contrib': (2, lambda x : math.log(x + 0.5)),\n",
    "    'image_prop': (3, lambda x : x),\n",
    "    'output_cell_prop': (3, lambda x : x),\n",
    "    'num_commits': (2, lambda x : x ** (1. / 4)),\n",
    "    'non_exec_prop': (2, lambda x : x),\n",
    "    'exec_inorder': (2, lambda x : x ** 2),\n",
    "    'exec_skips': (2, lambda x : math.log(x + 0.5)),\n",
    "    'num_functions': (2, lambda x : math.log(x + 0.5))\n",
    "}"
   ]
  },
  {
   "cell_type": "code",
   "execution_count": 104,
   "metadata": {},
   "outputs": [],
   "source": [
    "# create the dataframe that we will perform binning on\n",
    "no_md_binned_df = no_md_original.copy()"
   ]
  },
  {
   "cell_type": "code",
   "execution_count": 105,
   "metadata": {},
   "outputs": [],
   "source": [
    "# for each column in the dataframe\n",
    "for var in list(no_md_binned_df):\n",
    "    \n",
    "    # check if quantitative (then it needs to be binned)\n",
    "    if var in no_md_quant_bins.keys():\n",
    "        \n",
    "        # extract the number of bins and the transformation\n",
    "        (bins, transformation) = no_md_quant_bins[var]\n",
    "        \n",
    "        # perform the transformation\n",
    "        no_md_binned_df[var] = no_md_binned_df[var].apply(transformation)\n",
    "        \n",
    "        # bin the data\n",
    "        no_md_binned_df[var] = bin_column(no_md_binned_df[var], bins)"
   ]
  },
  {
   "cell_type": "code",
   "execution_count": 106,
   "metadata": {},
   "outputs": [
    {
     "data": {
      "text/html": [
       "<div>\n",
       "<style scoped>\n",
       "    .dataframe tbody tr th:only-of-type {\n",
       "        vertical-align: middle;\n",
       "    }\n",
       "\n",
       "    .dataframe tbody tr th {\n",
       "        vertical-align: top;\n",
       "    }\n",
       "\n",
       "    .dataframe thead th {\n",
       "        text-align: right;\n",
       "    }\n",
       "</style>\n",
       "<table border=\"1\" class=\"dataframe\">\n",
       "  <thead>\n",
       "    <tr style=\"text-align: right;\">\n",
       "      <th></th>\n",
       "      <th>Unnamed: 0</th>\n",
       "      <th>nb_id</th>\n",
       "      <th>has_author</th>\n",
       "      <th>jupyter_prop</th>\n",
       "      <th>output_cell_prop</th>\n",
       "      <th>num_contrib</th>\n",
       "      <th>image_prop</th>\n",
       "      <th>is_education</th>\n",
       "      <th>has_comments</th>\n",
       "      <th>num_commits</th>\n",
       "      <th>non_exec_prop</th>\n",
       "      <th>exec_inorder</th>\n",
       "      <th>exec_skips</th>\n",
       "      <th>has_error</th>\n",
       "      <th>has_export</th>\n",
       "      <th>num_functions</th>\n",
       "      <th>has_test</th>\n",
       "    </tr>\n",
       "  </thead>\n",
       "  <tbody>\n",
       "    <tr>\n",
       "      <th>0</th>\n",
       "      <td>8</td>\n",
       "      <td>1589</td>\n",
       "      <td>False</td>\n",
       "      <td>medium</td>\n",
       "      <td>medium</td>\n",
       "      <td>lower</td>\n",
       "      <td>low</td>\n",
       "      <td>False</td>\n",
       "      <td>False</td>\n",
       "      <td>lower</td>\n",
       "      <td>lower</td>\n",
       "      <td>higher</td>\n",
       "      <td>lower</td>\n",
       "      <td>False</td>\n",
       "      <td>True</td>\n",
       "      <td>lower</td>\n",
       "      <td>False</td>\n",
       "    </tr>\n",
       "    <tr>\n",
       "      <th>1</th>\n",
       "      <td>10</td>\n",
       "      <td>1919</td>\n",
       "      <td>False</td>\n",
       "      <td>high</td>\n",
       "      <td>high</td>\n",
       "      <td>lower</td>\n",
       "      <td>low</td>\n",
       "      <td>False</td>\n",
       "      <td>True</td>\n",
       "      <td>lower</td>\n",
       "      <td>lower</td>\n",
       "      <td>higher</td>\n",
       "      <td>lower</td>\n",
       "      <td>True</td>\n",
       "      <td>True</td>\n",
       "      <td>lower</td>\n",
       "      <td>False</td>\n",
       "    </tr>\n",
       "    <tr>\n",
       "      <th>2</th>\n",
       "      <td>14</td>\n",
       "      <td>2857</td>\n",
       "      <td>False</td>\n",
       "      <td>low</td>\n",
       "      <td>medium</td>\n",
       "      <td>higher</td>\n",
       "      <td>low</td>\n",
       "      <td>False</td>\n",
       "      <td>True</td>\n",
       "      <td>higher</td>\n",
       "      <td>lower</td>\n",
       "      <td>higher</td>\n",
       "      <td>lower</td>\n",
       "      <td>False</td>\n",
       "      <td>True</td>\n",
       "      <td>lower</td>\n",
       "      <td>False</td>\n",
       "    </tr>\n",
       "    <tr>\n",
       "      <th>3</th>\n",
       "      <td>27</td>\n",
       "      <td>4339</td>\n",
       "      <td>False</td>\n",
       "      <td>high</td>\n",
       "      <td>low</td>\n",
       "      <td>lower</td>\n",
       "      <td>low</td>\n",
       "      <td>False</td>\n",
       "      <td>True</td>\n",
       "      <td>lower</td>\n",
       "      <td>lower</td>\n",
       "      <td>higher</td>\n",
       "      <td>lower</td>\n",
       "      <td>False</td>\n",
       "      <td>False</td>\n",
       "      <td>lower</td>\n",
       "      <td>False</td>\n",
       "    </tr>\n",
       "    <tr>\n",
       "      <th>4</th>\n",
       "      <td>29</td>\n",
       "      <td>4659</td>\n",
       "      <td>False</td>\n",
       "      <td>high</td>\n",
       "      <td>low</td>\n",
       "      <td>lower</td>\n",
       "      <td>low</td>\n",
       "      <td>False</td>\n",
       "      <td>True</td>\n",
       "      <td>higher</td>\n",
       "      <td>lower</td>\n",
       "      <td>higher</td>\n",
       "      <td>lower</td>\n",
       "      <td>True</td>\n",
       "      <td>False</td>\n",
       "      <td>lower</td>\n",
       "      <td>False</td>\n",
       "    </tr>\n",
       "  </tbody>\n",
       "</table>\n",
       "</div>"
      ],
      "text/plain": [
       "   Unnamed: 0  nb_id  has_author jupyter_prop output_cell_prop num_contrib  \\\n",
       "0           8   1589       False       medium           medium       lower   \n",
       "1          10   1919       False         high             high       lower   \n",
       "2          14   2857       False          low           medium      higher   \n",
       "3          27   4339       False         high              low       lower   \n",
       "4          29   4659       False         high              low       lower   \n",
       "\n",
       "  image_prop  is_education  has_comments num_commits non_exec_prop  \\\n",
       "0        low         False         False       lower         lower   \n",
       "1        low         False          True       lower         lower   \n",
       "2        low         False          True      higher         lower   \n",
       "3        low         False          True       lower         lower   \n",
       "4        low         False          True      higher         lower   \n",
       "\n",
       "  exec_inorder exec_skips  has_error  has_export num_functions  has_test  \n",
       "0       higher      lower      False        True         lower     False  \n",
       "1       higher      lower       True        True         lower     False  \n",
       "2       higher      lower      False        True         lower     False  \n",
       "3       higher      lower      False       False         lower     False  \n",
       "4       higher      lower       True       False         lower     False  "
      ]
     },
     "execution_count": 106,
     "metadata": {},
     "output_type": "execute_result"
    }
   ],
   "source": [
    "# initial look at the binned data\n",
    "no_md_binned_df.head()"
   ]
  },
  {
   "cell_type": "code",
   "execution_count": 107,
   "metadata": {},
   "outputs": [],
   "source": [
    "# clear the first column\n",
    "no_md_binned_df = no_md_binned_df.drop(['Unnamed: 0'], axis = 1)"
   ]
  },
  {
   "cell_type": "code",
   "execution_count": 108,
   "metadata": {
    "scrolled": true
   },
   "outputs": [
    {
     "name": "stdout",
     "output_type": "stream",
     "text": [
      "high      910\n",
      "medium    286\n",
      "low       158\n",
      "Name: jupyter_prop, dtype: int64\n",
      "medium    794\n",
      "low       393\n",
      "high      167\n",
      "Name: output_cell_prop, dtype: int64\n",
      "lower     1236\n",
      "higher     118\n",
      "Name: num_contrib, dtype: int64\n",
      "low       915\n",
      "medium    281\n",
      "high      158\n",
      "Name: image_prop, dtype: int64\n",
      "lower     1041\n",
      "higher     313\n",
      "Name: num_commits, dtype: int64\n",
      "lower     1248\n",
      "higher     106\n",
      "Name: non_exec_prop, dtype: int64\n",
      "higher    1204\n",
      "lower      150\n",
      "Name: exec_inorder, dtype: int64\n",
      "lower     1178\n",
      "higher     176\n",
      "Name: exec_skips, dtype: int64\n",
      "lower     1153\n",
      "higher     201\n",
      "Name: num_functions, dtype: int64\n"
     ]
    }
   ],
   "source": [
    "# check the bin counts\n",
    "for quant_var in no_md_quant_vars:\n",
    "    print(no_md_binned_df[quant_var].value_counts())"
   ]
  },
  {
   "cell_type": "code",
   "execution_count": 109,
   "metadata": {},
   "outputs": [],
   "source": [
    "# export the binned data to a csv\n",
    "no_md_binned_df.to_csv('no_markdown_group_binned.csv')"
   ]
  }
 ],
 "metadata": {
  "kernelspec": {
   "display_name": "Python 3",
   "language": "python",
   "name": "python3"
  },
  "language_info": {
   "codemirror_mode": {
    "name": "ipython",
    "version": 3
   },
   "file_extension": ".py",
   "mimetype": "text/x-python",
   "name": "python",
   "nbconvert_exporter": "python",
   "pygments_lexer": "ipython3",
   "version": "3.6.9"
  }
 },
 "nbformat": 4,
 "nbformat_minor": 2
}
