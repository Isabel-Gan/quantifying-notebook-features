{
 "cells": [
  {
   "cell_type": "markdown",
   "metadata": {},
   "source": [
    "# Imports"
   ]
  },
  {
   "cell_type": "code",
   "execution_count": 82,
   "metadata": {},
   "outputs": [],
   "source": [
    "import pandas as pd\n",
    "from sklearn.preprocessing import StandardScaler\n",
    "from sklearn.cluster import KMeans\n",
    "from kmodes.kprototypes import KPrototypes\n",
    "import numpy as np\n",
    "import matplotlib.pyplot as plt\n",
    "from IPython.display import Image"
   ]
  },
  {
   "cell_type": "markdown",
   "metadata": {},
   "source": [
    "# Loading the Data"
   ]
  },
  {
   "cell_type": "markdown",
   "metadata": {},
   "source": [
    "## Markdown Cells"
   ]
  },
  {
   "cell_type": "code",
   "execution_count": 37,
   "metadata": {},
   "outputs": [],
   "source": [
    "md_filepath = 'markdown_group.csv'\n",
    "md_df = pd.read_csv(md_filepath)"
   ]
  },
  {
   "cell_type": "code",
   "execution_count": 38,
   "metadata": {},
   "outputs": [
    {
     "data": {
      "text/html": [
       "<div>\n",
       "<style scoped>\n",
       "    .dataframe tbody tr th:only-of-type {\n",
       "        vertical-align: middle;\n",
       "    }\n",
       "\n",
       "    .dataframe tbody tr th {\n",
       "        vertical-align: top;\n",
       "    }\n",
       "\n",
       "    .dataframe thead th {\n",
       "        text-align: right;\n",
       "    }\n",
       "</style>\n",
       "<table border=\"1\" class=\"dataframe\">\n",
       "  <thead>\n",
       "    <tr style=\"text-align: right;\">\n",
       "      <th></th>\n",
       "      <th>Unnamed: 0</th>\n",
       "      <th>nb_id</th>\n",
       "      <th>longer_beginning</th>\n",
       "      <th>longer_ending</th>\n",
       "      <th>has_author</th>\n",
       "      <th>has_equation</th>\n",
       "      <th>jupyter_prop</th>\n",
       "      <th>markdown_prop</th>\n",
       "      <th>num_contrib</th>\n",
       "      <th>image_prop</th>\n",
       "      <th>...</th>\n",
       "      <th>has_links</th>\n",
       "      <th>has_comments</th>\n",
       "      <th>md_frequency</th>\n",
       "      <th>has_title</th>\n",
       "      <th>num_commits</th>\n",
       "      <th>md_format</th>\n",
       "      <th>non_exec_prop</th>\n",
       "      <th>exec_inorder</th>\n",
       "      <th>exec_skips</th>\n",
       "      <th>has_error</th>\n",
       "    </tr>\n",
       "  </thead>\n",
       "  <tbody>\n",
       "    <tr>\n",
       "      <th>0</th>\n",
       "      <td>3</td>\n",
       "      <td>594</td>\n",
       "      <td>True</td>\n",
       "      <td>False</td>\n",
       "      <td>False</td>\n",
       "      <td>False</td>\n",
       "      <td>0.507588</td>\n",
       "      <td>0.044444</td>\n",
       "      <td>3.0</td>\n",
       "      <td>0.0</td>\n",
       "      <td>...</td>\n",
       "      <td>True</td>\n",
       "      <td>False</td>\n",
       "      <td>0.068182</td>\n",
       "      <td>True</td>\n",
       "      <td>1.0</td>\n",
       "      <td>True</td>\n",
       "      <td>0.000000</td>\n",
       "      <td>1.000000</td>\n",
       "      <td>1.809524</td>\n",
       "      <td>False</td>\n",
       "    </tr>\n",
       "    <tr>\n",
       "      <th>1</th>\n",
       "      <td>6</td>\n",
       "      <td>1222</td>\n",
       "      <td>True</td>\n",
       "      <td>False</td>\n",
       "      <td>False</td>\n",
       "      <td>False</td>\n",
       "      <td>1.000000</td>\n",
       "      <td>0.161290</td>\n",
       "      <td>1.0</td>\n",
       "      <td>0.0</td>\n",
       "      <td>...</td>\n",
       "      <td>True</td>\n",
       "      <td>True</td>\n",
       "      <td>0.333333</td>\n",
       "      <td>False</td>\n",
       "      <td>2.0</td>\n",
       "      <td>True</td>\n",
       "      <td>0.961538</td>\n",
       "      <td>1.000000</td>\n",
       "      <td>0.000000</td>\n",
       "      <td>False</td>\n",
       "    </tr>\n",
       "    <tr>\n",
       "      <th>2</th>\n",
       "      <td>7</td>\n",
       "      <td>1447</td>\n",
       "      <td>True</td>\n",
       "      <td>False</td>\n",
       "      <td>False</td>\n",
       "      <td>False</td>\n",
       "      <td>0.970851</td>\n",
       "      <td>0.375887</td>\n",
       "      <td>1.0</td>\n",
       "      <td>0.0</td>\n",
       "      <td>...</td>\n",
       "      <td>True</td>\n",
       "      <td>True</td>\n",
       "      <td>0.621429</td>\n",
       "      <td>True</td>\n",
       "      <td>1.0</td>\n",
       "      <td>True</td>\n",
       "      <td>0.988636</td>\n",
       "      <td>1.000000</td>\n",
       "      <td>0.000000</td>\n",
       "      <td>False</td>\n",
       "    </tr>\n",
       "    <tr>\n",
       "      <th>3</th>\n",
       "      <td>12</td>\n",
       "      <td>2705</td>\n",
       "      <td>True</td>\n",
       "      <td>False</td>\n",
       "      <td>False</td>\n",
       "      <td>False</td>\n",
       "      <td>1.000000</td>\n",
       "      <td>0.461538</td>\n",
       "      <td>1.0</td>\n",
       "      <td>0.0</td>\n",
       "      <td>...</td>\n",
       "      <td>True</td>\n",
       "      <td>True</td>\n",
       "      <td>0.640000</td>\n",
       "      <td>True</td>\n",
       "      <td>1.0</td>\n",
       "      <td>False</td>\n",
       "      <td>0.000000</td>\n",
       "      <td>0.923077</td>\n",
       "      <td>1.615385</td>\n",
       "      <td>False</td>\n",
       "    </tr>\n",
       "    <tr>\n",
       "      <th>4</th>\n",
       "      <td>15</td>\n",
       "      <td>2861</td>\n",
       "      <td>True</td>\n",
       "      <td>False</td>\n",
       "      <td>False</td>\n",
       "      <td>True</td>\n",
       "      <td>1.000000</td>\n",
       "      <td>0.461538</td>\n",
       "      <td>1.0</td>\n",
       "      <td>0.0</td>\n",
       "      <td>...</td>\n",
       "      <td>False</td>\n",
       "      <td>True</td>\n",
       "      <td>0.520000</td>\n",
       "      <td>False</td>\n",
       "      <td>1.0</td>\n",
       "      <td>False</td>\n",
       "      <td>0.000000</td>\n",
       "      <td>1.000000</td>\n",
       "      <td>6.333333</td>\n",
       "      <td>False</td>\n",
       "    </tr>\n",
       "  </tbody>\n",
       "</table>\n",
       "<p>5 rows × 21 columns</p>\n",
       "</div>"
      ],
      "text/plain": [
       "   Unnamed: 0  nb_id  longer_beginning  longer_ending  has_author  \\\n",
       "0           3    594              True          False       False   \n",
       "1           6   1222              True          False       False   \n",
       "2           7   1447              True          False       False   \n",
       "3          12   2705              True          False       False   \n",
       "4          15   2861              True          False       False   \n",
       "\n",
       "   has_equation  jupyter_prop  markdown_prop  num_contrib  image_prop  ...  \\\n",
       "0         False      0.507588       0.044444          3.0         0.0  ...   \n",
       "1         False      1.000000       0.161290          1.0         0.0  ...   \n",
       "2         False      0.970851       0.375887          1.0         0.0  ...   \n",
       "3         False      1.000000       0.461538          1.0         0.0  ...   \n",
       "4          True      1.000000       0.461538          1.0         0.0  ...   \n",
       "\n",
       "   has_links  has_comments  md_frequency  has_title  num_commits  md_format  \\\n",
       "0       True         False      0.068182       True          1.0       True   \n",
       "1       True          True      0.333333      False          2.0       True   \n",
       "2       True          True      0.621429       True          1.0       True   \n",
       "3       True          True      0.640000       True          1.0      False   \n",
       "4      False          True      0.520000      False          1.0      False   \n",
       "\n",
       "   non_exec_prop  exec_inorder  exec_skips  has_error  \n",
       "0       0.000000      1.000000    1.809524      False  \n",
       "1       0.961538      1.000000    0.000000      False  \n",
       "2       0.988636      1.000000    0.000000      False  \n",
       "3       0.000000      0.923077    1.615385      False  \n",
       "4       0.000000      1.000000    6.333333      False  \n",
       "\n",
       "[5 rows x 21 columns]"
      ]
     },
     "execution_count": 38,
     "metadata": {},
     "output_type": "execute_result"
    }
   ],
   "source": [
    "# initial look at the data\n",
    "md_df.head()"
   ]
  },
  {
   "cell_type": "code",
   "execution_count": 39,
   "metadata": {},
   "outputs": [],
   "source": [
    "# clear the first two columns\n",
    "md_df = md_df.drop(['Unnamed: 0', 'nb_id'], axis = 1)"
   ]
  },
  {
   "cell_type": "code",
   "execution_count": 40,
   "metadata": {},
   "outputs": [
    {
     "data": {
      "text/html": [
       "<div>\n",
       "<style scoped>\n",
       "    .dataframe tbody tr th:only-of-type {\n",
       "        vertical-align: middle;\n",
       "    }\n",
       "\n",
       "    .dataframe tbody tr th {\n",
       "        vertical-align: top;\n",
       "    }\n",
       "\n",
       "    .dataframe thead th {\n",
       "        text-align: right;\n",
       "    }\n",
       "</style>\n",
       "<table border=\"1\" class=\"dataframe\">\n",
       "  <thead>\n",
       "    <tr style=\"text-align: right;\">\n",
       "      <th></th>\n",
       "      <th>longer_beginning</th>\n",
       "      <th>longer_ending</th>\n",
       "      <th>has_author</th>\n",
       "      <th>has_equation</th>\n",
       "      <th>jupyter_prop</th>\n",
       "      <th>markdown_prop</th>\n",
       "      <th>num_contrib</th>\n",
       "      <th>image_prop</th>\n",
       "      <th>is_education</th>\n",
       "      <th>has_links</th>\n",
       "      <th>has_comments</th>\n",
       "      <th>md_frequency</th>\n",
       "      <th>has_title</th>\n",
       "      <th>num_commits</th>\n",
       "      <th>md_format</th>\n",
       "      <th>non_exec_prop</th>\n",
       "      <th>exec_inorder</th>\n",
       "      <th>exec_skips</th>\n",
       "      <th>has_error</th>\n",
       "    </tr>\n",
       "  </thead>\n",
       "  <tbody>\n",
       "    <tr>\n",
       "      <th>0</th>\n",
       "      <td>True</td>\n",
       "      <td>False</td>\n",
       "      <td>False</td>\n",
       "      <td>False</td>\n",
       "      <td>0.507588</td>\n",
       "      <td>0.044444</td>\n",
       "      <td>3.0</td>\n",
       "      <td>0.0</td>\n",
       "      <td>True</td>\n",
       "      <td>True</td>\n",
       "      <td>False</td>\n",
       "      <td>0.068182</td>\n",
       "      <td>True</td>\n",
       "      <td>1.0</td>\n",
       "      <td>True</td>\n",
       "      <td>0.000000</td>\n",
       "      <td>1.000000</td>\n",
       "      <td>1.809524</td>\n",
       "      <td>False</td>\n",
       "    </tr>\n",
       "    <tr>\n",
       "      <th>1</th>\n",
       "      <td>True</td>\n",
       "      <td>False</td>\n",
       "      <td>False</td>\n",
       "      <td>False</td>\n",
       "      <td>1.000000</td>\n",
       "      <td>0.161290</td>\n",
       "      <td>1.0</td>\n",
       "      <td>0.0</td>\n",
       "      <td>True</td>\n",
       "      <td>True</td>\n",
       "      <td>True</td>\n",
       "      <td>0.333333</td>\n",
       "      <td>False</td>\n",
       "      <td>2.0</td>\n",
       "      <td>True</td>\n",
       "      <td>0.961538</td>\n",
       "      <td>1.000000</td>\n",
       "      <td>0.000000</td>\n",
       "      <td>False</td>\n",
       "    </tr>\n",
       "    <tr>\n",
       "      <th>2</th>\n",
       "      <td>True</td>\n",
       "      <td>False</td>\n",
       "      <td>False</td>\n",
       "      <td>False</td>\n",
       "      <td>0.970851</td>\n",
       "      <td>0.375887</td>\n",
       "      <td>1.0</td>\n",
       "      <td>0.0</td>\n",
       "      <td>True</td>\n",
       "      <td>True</td>\n",
       "      <td>True</td>\n",
       "      <td>0.621429</td>\n",
       "      <td>True</td>\n",
       "      <td>1.0</td>\n",
       "      <td>True</td>\n",
       "      <td>0.988636</td>\n",
       "      <td>1.000000</td>\n",
       "      <td>0.000000</td>\n",
       "      <td>False</td>\n",
       "    </tr>\n",
       "    <tr>\n",
       "      <th>3</th>\n",
       "      <td>True</td>\n",
       "      <td>False</td>\n",
       "      <td>False</td>\n",
       "      <td>False</td>\n",
       "      <td>1.000000</td>\n",
       "      <td>0.461538</td>\n",
       "      <td>1.0</td>\n",
       "      <td>0.0</td>\n",
       "      <td>True</td>\n",
       "      <td>True</td>\n",
       "      <td>True</td>\n",
       "      <td>0.640000</td>\n",
       "      <td>True</td>\n",
       "      <td>1.0</td>\n",
       "      <td>False</td>\n",
       "      <td>0.000000</td>\n",
       "      <td>0.923077</td>\n",
       "      <td>1.615385</td>\n",
       "      <td>False</td>\n",
       "    </tr>\n",
       "    <tr>\n",
       "      <th>4</th>\n",
       "      <td>True</td>\n",
       "      <td>False</td>\n",
       "      <td>False</td>\n",
       "      <td>True</td>\n",
       "      <td>1.000000</td>\n",
       "      <td>0.461538</td>\n",
       "      <td>1.0</td>\n",
       "      <td>0.0</td>\n",
       "      <td>False</td>\n",
       "      <td>False</td>\n",
       "      <td>True</td>\n",
       "      <td>0.520000</td>\n",
       "      <td>False</td>\n",
       "      <td>1.0</td>\n",
       "      <td>False</td>\n",
       "      <td>0.000000</td>\n",
       "      <td>1.000000</td>\n",
       "      <td>6.333333</td>\n",
       "      <td>False</td>\n",
       "    </tr>\n",
       "  </tbody>\n",
       "</table>\n",
       "</div>"
      ],
      "text/plain": [
       "   longer_beginning  longer_ending  has_author  has_equation  jupyter_prop  \\\n",
       "0              True          False       False         False      0.507588   \n",
       "1              True          False       False         False      1.000000   \n",
       "2              True          False       False         False      0.970851   \n",
       "3              True          False       False         False      1.000000   \n",
       "4              True          False       False          True      1.000000   \n",
       "\n",
       "   markdown_prop  num_contrib  image_prop  is_education  has_links  \\\n",
       "0       0.044444          3.0         0.0          True       True   \n",
       "1       0.161290          1.0         0.0          True       True   \n",
       "2       0.375887          1.0         0.0          True       True   \n",
       "3       0.461538          1.0         0.0          True       True   \n",
       "4       0.461538          1.0         0.0         False      False   \n",
       "\n",
       "   has_comments  md_frequency  has_title  num_commits  md_format  \\\n",
       "0         False      0.068182       True          1.0       True   \n",
       "1          True      0.333333      False          2.0       True   \n",
       "2          True      0.621429       True          1.0       True   \n",
       "3          True      0.640000       True          1.0      False   \n",
       "4          True      0.520000      False          1.0      False   \n",
       "\n",
       "   non_exec_prop  exec_inorder  exec_skips  has_error  \n",
       "0       0.000000      1.000000    1.809524      False  \n",
       "1       0.961538      1.000000    0.000000      False  \n",
       "2       0.988636      1.000000    0.000000      False  \n",
       "3       0.000000      0.923077    1.615385      False  \n",
       "4       0.000000      1.000000    6.333333      False  "
      ]
     },
     "execution_count": 40,
     "metadata": {},
     "output_type": "execute_result"
    }
   ],
   "source": [
    "# check the data again\n",
    "md_df.head()"
   ]
  },
  {
   "cell_type": "code",
   "execution_count": 41,
   "metadata": {},
   "outputs": [
    {
     "data": {
      "text/plain": [
       "['longer_beginning',\n",
       " 'longer_ending',\n",
       " 'has_author',\n",
       " 'has_equation',\n",
       " 'jupyter_prop',\n",
       " 'markdown_prop',\n",
       " 'num_contrib',\n",
       " 'image_prop',\n",
       " 'is_education',\n",
       " 'has_links',\n",
       " 'has_comments',\n",
       " 'md_frequency',\n",
       " 'has_title',\n",
       " 'num_commits',\n",
       " 'md_format',\n",
       " 'non_exec_prop',\n",
       " 'exec_inorder',\n",
       " 'exec_skips',\n",
       " 'has_error']"
      ]
     },
     "execution_count": 41,
     "metadata": {},
     "output_type": "execute_result"
    }
   ],
   "source": [
    "# extract the column titles\n",
    "md_vars = list(md_df)\n",
    "md_vars"
   ]
  },
  {
   "cell_type": "markdown",
   "metadata": {},
   "source": [
    "## No Markdown Cells"
   ]
  },
  {
   "cell_type": "code",
   "execution_count": 42,
   "metadata": {},
   "outputs": [],
   "source": [
    "no_md_filepath = 'no_markdown_group.csv'\n",
    "no_md_df = pd.read_csv(no_md_filepath)"
   ]
  },
  {
   "cell_type": "code",
   "execution_count": 43,
   "metadata": {},
   "outputs": [],
   "source": [
    "# clear the first two columns\n",
    "no_md_df = no_md_df.drop(['Unnamed: 0', 'nb_id'], axis = 1)"
   ]
  },
  {
   "cell_type": "code",
   "execution_count": 44,
   "metadata": {},
   "outputs": [
    {
     "data": {
      "text/html": [
       "<div>\n",
       "<style scoped>\n",
       "    .dataframe tbody tr th:only-of-type {\n",
       "        vertical-align: middle;\n",
       "    }\n",
       "\n",
       "    .dataframe tbody tr th {\n",
       "        vertical-align: top;\n",
       "    }\n",
       "\n",
       "    .dataframe thead th {\n",
       "        text-align: right;\n",
       "    }\n",
       "</style>\n",
       "<table border=\"1\" class=\"dataframe\">\n",
       "  <thead>\n",
       "    <tr style=\"text-align: right;\">\n",
       "      <th></th>\n",
       "      <th>has_author</th>\n",
       "      <th>jupyter_prop</th>\n",
       "      <th>num_contrib</th>\n",
       "      <th>image_prop</th>\n",
       "      <th>is_education</th>\n",
       "      <th>has_comments</th>\n",
       "      <th>num_commits</th>\n",
       "      <th>non_exec_prop</th>\n",
       "      <th>exec_inorder</th>\n",
       "      <th>exec_skips</th>\n",
       "      <th>has_error</th>\n",
       "    </tr>\n",
       "  </thead>\n",
       "  <tbody>\n",
       "    <tr>\n",
       "      <th>0</th>\n",
       "      <td>False</td>\n",
       "      <td>0.714130</td>\n",
       "      <td>1.0</td>\n",
       "      <td>0.142857</td>\n",
       "      <td>False</td>\n",
       "      <td>False</td>\n",
       "      <td>1.0</td>\n",
       "      <td>0.00000</td>\n",
       "      <td>1.000000</td>\n",
       "      <td>1.000000</td>\n",
       "      <td>False</td>\n",
       "    </tr>\n",
       "    <tr>\n",
       "      <th>1</th>\n",
       "      <td>False</td>\n",
       "      <td>0.997840</td>\n",
       "      <td>1.0</td>\n",
       "      <td>0.187500</td>\n",
       "      <td>False</td>\n",
       "      <td>True</td>\n",
       "      <td>1.0</td>\n",
       "      <td>0.04878</td>\n",
       "      <td>0.789474</td>\n",
       "      <td>10.631579</td>\n",
       "      <td>True</td>\n",
       "    </tr>\n",
       "    <tr>\n",
       "      <th>2</th>\n",
       "      <td>False</td>\n",
       "      <td>0.121957</td>\n",
       "      <td>5.0</td>\n",
       "      <td>0.000000</td>\n",
       "      <td>False</td>\n",
       "      <td>True</td>\n",
       "      <td>11.0</td>\n",
       "      <td>0.00000</td>\n",
       "      <td>0.909091</td>\n",
       "      <td>6.181818</td>\n",
       "      <td>False</td>\n",
       "    </tr>\n",
       "    <tr>\n",
       "      <th>3</th>\n",
       "      <td>False</td>\n",
       "      <td>1.000000</td>\n",
       "      <td>1.0</td>\n",
       "      <td>0.000000</td>\n",
       "      <td>False</td>\n",
       "      <td>True</td>\n",
       "      <td>1.0</td>\n",
       "      <td>0.00000</td>\n",
       "      <td>1.000000</td>\n",
       "      <td>1.631579</td>\n",
       "      <td>False</td>\n",
       "    </tr>\n",
       "    <tr>\n",
       "      <th>4</th>\n",
       "      <td>False</td>\n",
       "      <td>0.940063</td>\n",
       "      <td>3.0</td>\n",
       "      <td>0.000000</td>\n",
       "      <td>False</td>\n",
       "      <td>True</td>\n",
       "      <td>3.0</td>\n",
       "      <td>0.12500</td>\n",
       "      <td>1.000000</td>\n",
       "      <td>1.000000</td>\n",
       "      <td>True</td>\n",
       "    </tr>\n",
       "  </tbody>\n",
       "</table>\n",
       "</div>"
      ],
      "text/plain": [
       "   has_author  jupyter_prop  num_contrib  image_prop  is_education  \\\n",
       "0       False      0.714130          1.0    0.142857         False   \n",
       "1       False      0.997840          1.0    0.187500         False   \n",
       "2       False      0.121957          5.0    0.000000         False   \n",
       "3       False      1.000000          1.0    0.000000         False   \n",
       "4       False      0.940063          3.0    0.000000         False   \n",
       "\n",
       "   has_comments  num_commits  non_exec_prop  exec_inorder  exec_skips  \\\n",
       "0         False          1.0        0.00000      1.000000    1.000000   \n",
       "1          True          1.0        0.04878      0.789474   10.631579   \n",
       "2          True         11.0        0.00000      0.909091    6.181818   \n",
       "3          True          1.0        0.00000      1.000000    1.631579   \n",
       "4          True          3.0        0.12500      1.000000    1.000000   \n",
       "\n",
       "   has_error  \n",
       "0      False  \n",
       "1       True  \n",
       "2      False  \n",
       "3      False  \n",
       "4       True  "
      ]
     },
     "execution_count": 44,
     "metadata": {},
     "output_type": "execute_result"
    }
   ],
   "source": [
    "# initial look at the data\n",
    "no_md_df.head()"
   ]
  },
  {
   "cell_type": "code",
   "execution_count": 45,
   "metadata": {
    "scrolled": true
   },
   "outputs": [
    {
     "data": {
      "text/plain": [
       "['has_author',\n",
       " 'jupyter_prop',\n",
       " 'num_contrib',\n",
       " 'image_prop',\n",
       " 'is_education',\n",
       " 'has_comments',\n",
       " 'num_commits',\n",
       " 'non_exec_prop',\n",
       " 'exec_inorder',\n",
       " 'exec_skips',\n",
       " 'has_error']"
      ]
     },
     "execution_count": 45,
     "metadata": {},
     "output_type": "execute_result"
    }
   ],
   "source": [
    "# extract the column titles\n",
    "no_md_vars = list(no_md_df)\n",
    "no_md_vars"
   ]
  },
  {
   "cell_type": "markdown",
   "metadata": {},
   "source": [
    "# K-Means Clustering"
   ]
  },
  {
   "cell_type": "markdown",
   "metadata": {},
   "source": [
    "## Adjust the Data\n",
    "\n",
    "Since k-means clustering is performed on quantitative variables, we change `True` and `False` in the data to `1` and `0`, respectively"
   ]
  },
  {
   "cell_type": "code",
   "execution_count": 46,
   "metadata": {},
   "outputs": [],
   "source": [
    "# replace True with 1 in both groups\n",
    "md_adjusted = md_df.replace(True, 1)\n",
    "no_md_adjusted = no_md_df.replace(True, 1)"
   ]
  },
  {
   "cell_type": "code",
   "execution_count": 47,
   "metadata": {},
   "outputs": [],
   "source": [
    "# replace False with 0 in both groups\n",
    "md_adjusted = md_adjusted.replace(False, 0)\n",
    "no_md_adjusted = no_md_adjusted.replace(False, 0)"
   ]
  },
  {
   "cell_type": "code",
   "execution_count": 48,
   "metadata": {},
   "outputs": [
    {
     "data": {
      "text/html": [
       "<div>\n",
       "<style scoped>\n",
       "    .dataframe tbody tr th:only-of-type {\n",
       "        vertical-align: middle;\n",
       "    }\n",
       "\n",
       "    .dataframe tbody tr th {\n",
       "        vertical-align: top;\n",
       "    }\n",
       "\n",
       "    .dataframe thead th {\n",
       "        text-align: right;\n",
       "    }\n",
       "</style>\n",
       "<table border=\"1\" class=\"dataframe\">\n",
       "  <thead>\n",
       "    <tr style=\"text-align: right;\">\n",
       "      <th></th>\n",
       "      <th>longer_beginning</th>\n",
       "      <th>longer_ending</th>\n",
       "      <th>has_author</th>\n",
       "      <th>has_equation</th>\n",
       "      <th>jupyter_prop</th>\n",
       "      <th>markdown_prop</th>\n",
       "      <th>num_contrib</th>\n",
       "      <th>image_prop</th>\n",
       "      <th>is_education</th>\n",
       "      <th>has_links</th>\n",
       "      <th>has_comments</th>\n",
       "      <th>md_frequency</th>\n",
       "      <th>has_title</th>\n",
       "      <th>num_commits</th>\n",
       "      <th>md_format</th>\n",
       "      <th>non_exec_prop</th>\n",
       "      <th>exec_inorder</th>\n",
       "      <th>exec_skips</th>\n",
       "      <th>has_error</th>\n",
       "    </tr>\n",
       "  </thead>\n",
       "  <tbody>\n",
       "    <tr>\n",
       "      <th>0</th>\n",
       "      <td>1.0</td>\n",
       "      <td>0.0</td>\n",
       "      <td>0.0</td>\n",
       "      <td>0.0</td>\n",
       "      <td>0.507588</td>\n",
       "      <td>0.044444</td>\n",
       "      <td>3.0</td>\n",
       "      <td>0.0</td>\n",
       "      <td>1.0</td>\n",
       "      <td>1.0</td>\n",
       "      <td>0.0</td>\n",
       "      <td>0.068182</td>\n",
       "      <td>1.0</td>\n",
       "      <td>1.0</td>\n",
       "      <td>1.0</td>\n",
       "      <td>0.000000</td>\n",
       "      <td>1.000000</td>\n",
       "      <td>1.809524</td>\n",
       "      <td>0.0</td>\n",
       "    </tr>\n",
       "    <tr>\n",
       "      <th>1</th>\n",
       "      <td>1.0</td>\n",
       "      <td>0.0</td>\n",
       "      <td>0.0</td>\n",
       "      <td>0.0</td>\n",
       "      <td>1.000000</td>\n",
       "      <td>0.161290</td>\n",
       "      <td>1.0</td>\n",
       "      <td>0.0</td>\n",
       "      <td>1.0</td>\n",
       "      <td>1.0</td>\n",
       "      <td>1.0</td>\n",
       "      <td>0.333333</td>\n",
       "      <td>0.0</td>\n",
       "      <td>2.0</td>\n",
       "      <td>1.0</td>\n",
       "      <td>0.961538</td>\n",
       "      <td>1.000000</td>\n",
       "      <td>0.000000</td>\n",
       "      <td>0.0</td>\n",
       "    </tr>\n",
       "    <tr>\n",
       "      <th>2</th>\n",
       "      <td>1.0</td>\n",
       "      <td>0.0</td>\n",
       "      <td>0.0</td>\n",
       "      <td>0.0</td>\n",
       "      <td>0.970851</td>\n",
       "      <td>0.375887</td>\n",
       "      <td>1.0</td>\n",
       "      <td>0.0</td>\n",
       "      <td>1.0</td>\n",
       "      <td>1.0</td>\n",
       "      <td>1.0</td>\n",
       "      <td>0.621429</td>\n",
       "      <td>1.0</td>\n",
       "      <td>1.0</td>\n",
       "      <td>1.0</td>\n",
       "      <td>0.988636</td>\n",
       "      <td>1.000000</td>\n",
       "      <td>0.000000</td>\n",
       "      <td>0.0</td>\n",
       "    </tr>\n",
       "    <tr>\n",
       "      <th>3</th>\n",
       "      <td>1.0</td>\n",
       "      <td>0.0</td>\n",
       "      <td>0.0</td>\n",
       "      <td>0.0</td>\n",
       "      <td>1.000000</td>\n",
       "      <td>0.461538</td>\n",
       "      <td>1.0</td>\n",
       "      <td>0.0</td>\n",
       "      <td>1.0</td>\n",
       "      <td>1.0</td>\n",
       "      <td>1.0</td>\n",
       "      <td>0.640000</td>\n",
       "      <td>1.0</td>\n",
       "      <td>1.0</td>\n",
       "      <td>0.0</td>\n",
       "      <td>0.000000</td>\n",
       "      <td>0.923077</td>\n",
       "      <td>1.615385</td>\n",
       "      <td>0.0</td>\n",
       "    </tr>\n",
       "    <tr>\n",
       "      <th>4</th>\n",
       "      <td>1.0</td>\n",
       "      <td>0.0</td>\n",
       "      <td>0.0</td>\n",
       "      <td>1.0</td>\n",
       "      <td>1.000000</td>\n",
       "      <td>0.461538</td>\n",
       "      <td>1.0</td>\n",
       "      <td>0.0</td>\n",
       "      <td>0.0</td>\n",
       "      <td>0.0</td>\n",
       "      <td>1.0</td>\n",
       "      <td>0.520000</td>\n",
       "      <td>0.0</td>\n",
       "      <td>1.0</td>\n",
       "      <td>0.0</td>\n",
       "      <td>0.000000</td>\n",
       "      <td>1.000000</td>\n",
       "      <td>6.333333</td>\n",
       "      <td>0.0</td>\n",
       "    </tr>\n",
       "  </tbody>\n",
       "</table>\n",
       "</div>"
      ],
      "text/plain": [
       "   longer_beginning  longer_ending  has_author  has_equation  jupyter_prop  \\\n",
       "0               1.0            0.0         0.0           0.0      0.507588   \n",
       "1               1.0            0.0         0.0           0.0      1.000000   \n",
       "2               1.0            0.0         0.0           0.0      0.970851   \n",
       "3               1.0            0.0         0.0           0.0      1.000000   \n",
       "4               1.0            0.0         0.0           1.0      1.000000   \n",
       "\n",
       "   markdown_prop  num_contrib  image_prop  is_education  has_links  \\\n",
       "0       0.044444          3.0         0.0           1.0        1.0   \n",
       "1       0.161290          1.0         0.0           1.0        1.0   \n",
       "2       0.375887          1.0         0.0           1.0        1.0   \n",
       "3       0.461538          1.0         0.0           1.0        1.0   \n",
       "4       0.461538          1.0         0.0           0.0        0.0   \n",
       "\n",
       "   has_comments  md_frequency  has_title  num_commits  md_format  \\\n",
       "0           0.0      0.068182        1.0          1.0        1.0   \n",
       "1           1.0      0.333333        0.0          2.0        1.0   \n",
       "2           1.0      0.621429        1.0          1.0        1.0   \n",
       "3           1.0      0.640000        1.0          1.0        0.0   \n",
       "4           1.0      0.520000        0.0          1.0        0.0   \n",
       "\n",
       "   non_exec_prop  exec_inorder  exec_skips  has_error  \n",
       "0       0.000000      1.000000    1.809524        0.0  \n",
       "1       0.961538      1.000000    0.000000        0.0  \n",
       "2       0.988636      1.000000    0.000000        0.0  \n",
       "3       0.000000      0.923077    1.615385        0.0  \n",
       "4       0.000000      1.000000    6.333333        0.0  "
      ]
     },
     "execution_count": 48,
     "metadata": {},
     "output_type": "execute_result"
    }
   ],
   "source": [
    "# check the markdown cell group\n",
    "md_adjusted.head()"
   ]
  },
  {
   "cell_type": "code",
   "execution_count": 49,
   "metadata": {
    "scrolled": true
   },
   "outputs": [
    {
     "data": {
      "text/html": [
       "<div>\n",
       "<style scoped>\n",
       "    .dataframe tbody tr th:only-of-type {\n",
       "        vertical-align: middle;\n",
       "    }\n",
       "\n",
       "    .dataframe tbody tr th {\n",
       "        vertical-align: top;\n",
       "    }\n",
       "\n",
       "    .dataframe thead th {\n",
       "        text-align: right;\n",
       "    }\n",
       "</style>\n",
       "<table border=\"1\" class=\"dataframe\">\n",
       "  <thead>\n",
       "    <tr style=\"text-align: right;\">\n",
       "      <th></th>\n",
       "      <th>has_author</th>\n",
       "      <th>jupyter_prop</th>\n",
       "      <th>num_contrib</th>\n",
       "      <th>image_prop</th>\n",
       "      <th>is_education</th>\n",
       "      <th>has_comments</th>\n",
       "      <th>num_commits</th>\n",
       "      <th>non_exec_prop</th>\n",
       "      <th>exec_inorder</th>\n",
       "      <th>exec_skips</th>\n",
       "      <th>has_error</th>\n",
       "    </tr>\n",
       "  </thead>\n",
       "  <tbody>\n",
       "    <tr>\n",
       "      <th>0</th>\n",
       "      <td>0.0</td>\n",
       "      <td>0.714130</td>\n",
       "      <td>1.0</td>\n",
       "      <td>0.142857</td>\n",
       "      <td>0.0</td>\n",
       "      <td>0.0</td>\n",
       "      <td>1.0</td>\n",
       "      <td>0.00000</td>\n",
       "      <td>1.000000</td>\n",
       "      <td>1.000000</td>\n",
       "      <td>0.0</td>\n",
       "    </tr>\n",
       "    <tr>\n",
       "      <th>1</th>\n",
       "      <td>0.0</td>\n",
       "      <td>0.997840</td>\n",
       "      <td>1.0</td>\n",
       "      <td>0.187500</td>\n",
       "      <td>0.0</td>\n",
       "      <td>1.0</td>\n",
       "      <td>1.0</td>\n",
       "      <td>0.04878</td>\n",
       "      <td>0.789474</td>\n",
       "      <td>10.631579</td>\n",
       "      <td>1.0</td>\n",
       "    </tr>\n",
       "    <tr>\n",
       "      <th>2</th>\n",
       "      <td>0.0</td>\n",
       "      <td>0.121957</td>\n",
       "      <td>5.0</td>\n",
       "      <td>0.000000</td>\n",
       "      <td>0.0</td>\n",
       "      <td>1.0</td>\n",
       "      <td>11.0</td>\n",
       "      <td>0.00000</td>\n",
       "      <td>0.909091</td>\n",
       "      <td>6.181818</td>\n",
       "      <td>0.0</td>\n",
       "    </tr>\n",
       "    <tr>\n",
       "      <th>3</th>\n",
       "      <td>0.0</td>\n",
       "      <td>1.000000</td>\n",
       "      <td>1.0</td>\n",
       "      <td>0.000000</td>\n",
       "      <td>0.0</td>\n",
       "      <td>1.0</td>\n",
       "      <td>1.0</td>\n",
       "      <td>0.00000</td>\n",
       "      <td>1.000000</td>\n",
       "      <td>1.631579</td>\n",
       "      <td>0.0</td>\n",
       "    </tr>\n",
       "    <tr>\n",
       "      <th>4</th>\n",
       "      <td>0.0</td>\n",
       "      <td>0.940063</td>\n",
       "      <td>3.0</td>\n",
       "      <td>0.000000</td>\n",
       "      <td>0.0</td>\n",
       "      <td>1.0</td>\n",
       "      <td>3.0</td>\n",
       "      <td>0.12500</td>\n",
       "      <td>1.000000</td>\n",
       "      <td>1.000000</td>\n",
       "      <td>1.0</td>\n",
       "    </tr>\n",
       "  </tbody>\n",
       "</table>\n",
       "</div>"
      ],
      "text/plain": [
       "   has_author  jupyter_prop  num_contrib  image_prop  is_education  \\\n",
       "0         0.0      0.714130          1.0    0.142857           0.0   \n",
       "1         0.0      0.997840          1.0    0.187500           0.0   \n",
       "2         0.0      0.121957          5.0    0.000000           0.0   \n",
       "3         0.0      1.000000          1.0    0.000000           0.0   \n",
       "4         0.0      0.940063          3.0    0.000000           0.0   \n",
       "\n",
       "   has_comments  num_commits  non_exec_prop  exec_inorder  exec_skips  \\\n",
       "0           0.0          1.0        0.00000      1.000000    1.000000   \n",
       "1           1.0          1.0        0.04878      0.789474   10.631579   \n",
       "2           1.0         11.0        0.00000      0.909091    6.181818   \n",
       "3           1.0          1.0        0.00000      1.000000    1.631579   \n",
       "4           1.0          3.0        0.12500      1.000000    1.000000   \n",
       "\n",
       "   has_error  \n",
       "0        0.0  \n",
       "1        1.0  \n",
       "2        0.0  \n",
       "3        0.0  \n",
       "4        1.0  "
      ]
     },
     "execution_count": 49,
     "metadata": {},
     "output_type": "execute_result"
    }
   ],
   "source": [
    "# check the no markdown cell group\n",
    "no_md_adjusted.head()"
   ]
  },
  {
   "cell_type": "markdown",
   "metadata": {},
   "source": [
    "## Markdown Cells"
   ]
  },
  {
   "cell_type": "markdown",
   "metadata": {},
   "source": [
    "### Standardizing the Data"
   ]
  },
  {
   "cell_type": "code",
   "execution_count": 50,
   "metadata": {},
   "outputs": [],
   "source": [
    "# normalize all variables\n",
    "md_stand = md_df.loc[:, md_vars].values\n",
    "md_stand = StandardScaler().fit_transform(md_stand)"
   ]
  },
  {
   "cell_type": "code",
   "execution_count": 51,
   "metadata": {},
   "outputs": [
    {
     "name": "stdout",
     "output_type": "stream",
     "text": [
      "7.602639141268273e-17 1.0\n"
     ]
    }
   ],
   "source": [
    "# check that the normalized data has a mean of zero and std of one\n",
    "print(np.mean(md_stand), np.std(md_stand))"
   ]
  },
  {
   "cell_type": "code",
   "execution_count": 52,
   "metadata": {},
   "outputs": [
    {
     "data": {
      "text/html": [
       "<div>\n",
       "<style scoped>\n",
       "    .dataframe tbody tr th:only-of-type {\n",
       "        vertical-align: middle;\n",
       "    }\n",
       "\n",
       "    .dataframe tbody tr th {\n",
       "        vertical-align: top;\n",
       "    }\n",
       "\n",
       "    .dataframe thead th {\n",
       "        text-align: right;\n",
       "    }\n",
       "</style>\n",
       "<table border=\"1\" class=\"dataframe\">\n",
       "  <thead>\n",
       "    <tr style=\"text-align: right;\">\n",
       "      <th></th>\n",
       "      <th>longer_beginning</th>\n",
       "      <th>longer_ending</th>\n",
       "      <th>has_author</th>\n",
       "      <th>has_equation</th>\n",
       "      <th>jupyter_prop</th>\n",
       "      <th>markdown_prop</th>\n",
       "      <th>num_contrib</th>\n",
       "      <th>image_prop</th>\n",
       "      <th>is_education</th>\n",
       "      <th>has_links</th>\n",
       "      <th>has_comments</th>\n",
       "      <th>md_frequency</th>\n",
       "      <th>has_title</th>\n",
       "      <th>num_commits</th>\n",
       "      <th>md_format</th>\n",
       "      <th>non_exec_prop</th>\n",
       "      <th>exec_inorder</th>\n",
       "      <th>exec_skips</th>\n",
       "      <th>has_error</th>\n",
       "    </tr>\n",
       "  </thead>\n",
       "  <tbody>\n",
       "    <tr>\n",
       "      <th>0</th>\n",
       "      <td>0.915797</td>\n",
       "      <td>-0.590961</td>\n",
       "      <td>-0.221343</td>\n",
       "      <td>-0.490296</td>\n",
       "      <td>-1.293088</td>\n",
       "      <td>-1.942050</td>\n",
       "      <td>0.504838</td>\n",
       "      <td>-0.960204</td>\n",
       "      <td>0.856909</td>\n",
       "      <td>1.280391</td>\n",
       "      <td>-2.838192</td>\n",
       "      <td>-1.964232</td>\n",
       "      <td>0.741665</td>\n",
       "      <td>-0.399981</td>\n",
       "      <td>1.082388</td>\n",
       "      <td>-0.410421</td>\n",
       "      <td>0.690767</td>\n",
       "      <td>-0.337021</td>\n",
       "      <td>-0.393367</td>\n",
       "    </tr>\n",
       "    <tr>\n",
       "      <th>1</th>\n",
       "      <td>0.915797</td>\n",
       "      <td>-0.590961</td>\n",
       "      <td>-0.221343</td>\n",
       "      <td>-0.490296</td>\n",
       "      <td>0.570932</td>\n",
       "      <td>-1.286070</td>\n",
       "      <td>-0.201473</td>\n",
       "      <td>-0.960204</td>\n",
       "      <td>0.856909</td>\n",
       "      <td>1.280391</td>\n",
       "      <td>0.352337</td>\n",
       "      <td>-0.934795</td>\n",
       "      <td>-1.348317</td>\n",
       "      <td>-0.056390</td>\n",
       "      <td>1.082388</td>\n",
       "      <td>3.185141</td>\n",
       "      <td>0.690767</td>\n",
       "      <td>-0.487356</td>\n",
       "      <td>-0.393367</td>\n",
       "    </tr>\n",
       "    <tr>\n",
       "      <th>2</th>\n",
       "      <td>0.915797</td>\n",
       "      <td>-0.590961</td>\n",
       "      <td>-0.221343</td>\n",
       "      <td>-0.490296</td>\n",
       "      <td>0.460589</td>\n",
       "      <td>-0.081313</td>\n",
       "      <td>-0.201473</td>\n",
       "      <td>-0.960204</td>\n",
       "      <td>0.856909</td>\n",
       "      <td>1.280391</td>\n",
       "      <td>0.352337</td>\n",
       "      <td>0.183720</td>\n",
       "      <td>0.741665</td>\n",
       "      <td>-0.399981</td>\n",
       "      <td>1.082388</td>\n",
       "      <td>3.286470</td>\n",
       "      <td>0.690767</td>\n",
       "      <td>-0.487356</td>\n",
       "      <td>-0.393367</td>\n",
       "    </tr>\n",
       "    <tr>\n",
       "      <th>3</th>\n",
       "      <td>0.915797</td>\n",
       "      <td>-0.590961</td>\n",
       "      <td>-0.221343</td>\n",
       "      <td>-0.490296</td>\n",
       "      <td>0.570932</td>\n",
       "      <td>0.399542</td>\n",
       "      <td>-0.201473</td>\n",
       "      <td>-0.960204</td>\n",
       "      <td>0.856909</td>\n",
       "      <td>1.280391</td>\n",
       "      <td>0.352337</td>\n",
       "      <td>0.255823</td>\n",
       "      <td>0.741665</td>\n",
       "      <td>-0.399981</td>\n",
       "      <td>-0.923883</td>\n",
       "      <td>-0.410421</td>\n",
       "      <td>0.003778</td>\n",
       "      <td>-0.353150</td>\n",
       "      <td>-0.393367</td>\n",
       "    </tr>\n",
       "    <tr>\n",
       "      <th>4</th>\n",
       "      <td>0.915797</td>\n",
       "      <td>-0.590961</td>\n",
       "      <td>-0.221343</td>\n",
       "      <td>2.039586</td>\n",
       "      <td>0.570932</td>\n",
       "      <td>0.399542</td>\n",
       "      <td>-0.201473</td>\n",
       "      <td>-0.960204</td>\n",
       "      <td>-1.166986</td>\n",
       "      <td>-0.781011</td>\n",
       "      <td>0.352337</td>\n",
       "      <td>-0.210071</td>\n",
       "      <td>-1.348317</td>\n",
       "      <td>-0.399981</td>\n",
       "      <td>-0.923883</td>\n",
       "      <td>-0.410421</td>\n",
       "      <td>0.690767</td>\n",
       "      <td>0.038819</td>\n",
       "      <td>-0.393367</td>\n",
       "    </tr>\n",
       "  </tbody>\n",
       "</table>\n",
       "</div>"
      ],
      "text/plain": [
       "   longer_beginning  longer_ending  has_author  has_equation  jupyter_prop  \\\n",
       "0          0.915797      -0.590961   -0.221343     -0.490296     -1.293088   \n",
       "1          0.915797      -0.590961   -0.221343     -0.490296      0.570932   \n",
       "2          0.915797      -0.590961   -0.221343     -0.490296      0.460589   \n",
       "3          0.915797      -0.590961   -0.221343     -0.490296      0.570932   \n",
       "4          0.915797      -0.590961   -0.221343      2.039586      0.570932   \n",
       "\n",
       "   markdown_prop  num_contrib  image_prop  is_education  has_links  \\\n",
       "0      -1.942050     0.504838   -0.960204      0.856909   1.280391   \n",
       "1      -1.286070    -0.201473   -0.960204      0.856909   1.280391   \n",
       "2      -0.081313    -0.201473   -0.960204      0.856909   1.280391   \n",
       "3       0.399542    -0.201473   -0.960204      0.856909   1.280391   \n",
       "4       0.399542    -0.201473   -0.960204     -1.166986  -0.781011   \n",
       "\n",
       "   has_comments  md_frequency  has_title  num_commits  md_format  \\\n",
       "0     -2.838192     -1.964232   0.741665    -0.399981   1.082388   \n",
       "1      0.352337     -0.934795  -1.348317    -0.056390   1.082388   \n",
       "2      0.352337      0.183720   0.741665    -0.399981   1.082388   \n",
       "3      0.352337      0.255823   0.741665    -0.399981  -0.923883   \n",
       "4      0.352337     -0.210071  -1.348317    -0.399981  -0.923883   \n",
       "\n",
       "   non_exec_prop  exec_inorder  exec_skips  has_error  \n",
       "0      -0.410421      0.690767   -0.337021  -0.393367  \n",
       "1       3.185141      0.690767   -0.487356  -0.393367  \n",
       "2       3.286470      0.690767   -0.487356  -0.393367  \n",
       "3      -0.410421      0.003778   -0.353150  -0.393367  \n",
       "4      -0.410421      0.690767    0.038819  -0.393367  "
      ]
     },
     "execution_count": 52,
     "metadata": {},
     "output_type": "execute_result"
    }
   ],
   "source": [
    "# put the normalized data back into dataframe format\n",
    "md_stand_df = pd.DataFrame(md_stand, columns = md_vars)\n",
    "\n",
    "# initial look at the standardized data\n",
    "md_stand_df.head()"
   ]
  },
  {
   "cell_type": "markdown",
   "metadata": {},
   "source": [
    "### Performing K-Means Clustering"
   ]
  },
  {
   "cell_type": "code",
   "execution_count": 53,
   "metadata": {},
   "outputs": [],
   "source": [
    "# perform k-means with multiple k to find the optimal number of clusters\n",
    "sum_of_squared_distances = []\n",
    "K = range(1, 15)\n",
    "for k in K:\n",
    "    km = KMeans(n_clusters = k)\n",
    "    km = km.fit(md_stand)\n",
    "    sum_of_squared_distances.append(km.inertia_)"
   ]
  },
  {
   "cell_type": "code",
   "execution_count": 54,
   "metadata": {},
   "outputs": [
    {
     "data": {
      "text/plain": [
       "Text(0.5, 1.0, 'Elbow Graph for Optimal k for Markdown Cell Group')"
      ]
     },
     "execution_count": 54,
     "metadata": {},
     "output_type": "execute_result"
    },
    {
     "data": {
      "image/png": "[encoded data removed]",
      "text/plain": [
       "<Figure size 432x288 with 1 Axes>"
      ]
     },
     "metadata": {
      "needs_background": "light"
     },
     "output_type": "display_data"
    }
   ],
   "source": [
    "# plot the elbow graph\n",
    "plt.plot(K, sum_of_squared_distances, 'bx-')\n",
    "plt.xlabel('k')\n",
    "plt.ylabel('sum_of_squared_distances')\n",
    "plt.title('Elbow Graph for Optimal k for Markdown Cell Group')"
   ]
  },
  {
   "cell_type": "markdown",
   "metadata": {},
   "source": [
    "## No Markdown Cells"
   ]
  },
  {
   "cell_type": "markdown",
   "metadata": {},
   "source": [
    "### Standardizing the Data"
   ]
  },
  {
   "cell_type": "code",
   "execution_count": 55,
   "metadata": {},
   "outputs": [],
   "source": [
    "# normalize all variables\n",
    "no_md_stand = no_md_df.loc[:, no_md_vars].values\n",
    "no_md_stand = StandardScaler().fit_transform(no_md_stand)"
   ]
  },
  {
   "cell_type": "code",
   "execution_count": 56,
   "metadata": {
    "scrolled": true
   },
   "outputs": [
    {
     "name": "stdout",
     "output_type": "stream",
     "text": [
      "-3.909057653963651e-17 1.0\n"
     ]
    }
   ],
   "source": [
    "# check that the normalized data has a mean of zero and a std of one\n",
    "print(np.mean(no_md_stand), np.std(no_md_stand))"
   ]
  },
  {
   "cell_type": "code",
   "execution_count": 57,
   "metadata": {},
   "outputs": [
    {
     "data": {
      "text/html": [
       "<div>\n",
       "<style scoped>\n",
       "    .dataframe tbody tr th:only-of-type {\n",
       "        vertical-align: middle;\n",
       "    }\n",
       "\n",
       "    .dataframe tbody tr th {\n",
       "        vertical-align: top;\n",
       "    }\n",
       "\n",
       "    .dataframe thead th {\n",
       "        text-align: right;\n",
       "    }\n",
       "</style>\n",
       "<table border=\"1\" class=\"dataframe\">\n",
       "  <thead>\n",
       "    <tr style=\"text-align: right;\">\n",
       "      <th></th>\n",
       "      <th>has_author</th>\n",
       "      <th>jupyter_prop</th>\n",
       "      <th>num_contrib</th>\n",
       "      <th>image_prop</th>\n",
       "      <th>is_education</th>\n",
       "      <th>has_comments</th>\n",
       "      <th>num_commits</th>\n",
       "      <th>non_exec_prop</th>\n",
       "      <th>exec_inorder</th>\n",
       "      <th>exec_skips</th>\n",
       "      <th>has_error</th>\n",
       "    </tr>\n",
       "  </thead>\n",
       "  <tbody>\n",
       "    <tr>\n",
       "      <th>0</th>\n",
       "      <td>-0.094526</td>\n",
       "      <td>-0.686940</td>\n",
       "      <td>-0.256338</td>\n",
       "      <td>-0.263196</td>\n",
       "      <td>-0.347507</td>\n",
       "      <td>-1.451826</td>\n",
       "      <td>-0.336957</td>\n",
       "      <td>-0.425060</td>\n",
       "      <td>0.525160</td>\n",
       "      <td>-0.371956</td>\n",
       "      <td>-0.435477</td>\n",
       "    </tr>\n",
       "    <tr>\n",
       "      <th>1</th>\n",
       "      <td>-0.094526</td>\n",
       "      <td>0.546025</td>\n",
       "      <td>-0.256338</td>\n",
       "      <td>-0.131354</td>\n",
       "      <td>-0.347507</td>\n",
       "      <td>0.688788</td>\n",
       "      <td>-0.336957</td>\n",
       "      <td>-0.233710</td>\n",
       "      <td>-0.681648</td>\n",
       "      <td>0.365723</td>\n",
       "      <td>2.296334</td>\n",
       "    </tr>\n",
       "    <tr>\n",
       "      <th>2</th>\n",
       "      <td>-0.094526</td>\n",
       "      <td>-3.260437</td>\n",
       "      <td>1.489081</td>\n",
       "      <td>-0.685091</td>\n",
       "      <td>-0.347507</td>\n",
       "      <td>0.688788</td>\n",
       "      <td>6.280101</td>\n",
       "      <td>-0.425060</td>\n",
       "      <td>0.004038</td>\n",
       "      <td>0.024918</td>\n",
       "      <td>-0.435477</td>\n",
       "    </tr>\n",
       "    <tr>\n",
       "      <th>3</th>\n",
       "      <td>-0.094526</td>\n",
       "      <td>0.555410</td>\n",
       "      <td>-0.256338</td>\n",
       "      <td>-0.685091</td>\n",
       "      <td>-0.347507</td>\n",
       "      <td>0.688788</td>\n",
       "      <td>-0.336957</td>\n",
       "      <td>-0.425060</td>\n",
       "      <td>0.525160</td>\n",
       "      <td>-0.323583</td>\n",
       "      <td>-0.435477</td>\n",
       "    </tr>\n",
       "    <tr>\n",
       "      <th>4</th>\n",
       "      <td>-0.094526</td>\n",
       "      <td>0.294933</td>\n",
       "      <td>0.616371</td>\n",
       "      <td>-0.685091</td>\n",
       "      <td>-0.347507</td>\n",
       "      <td>0.688788</td>\n",
       "      <td>0.986454</td>\n",
       "      <td>0.065274</td>\n",
       "      <td>0.525160</td>\n",
       "      <td>-0.371956</td>\n",
       "      <td>2.296334</td>\n",
       "    </tr>\n",
       "  </tbody>\n",
       "</table>\n",
       "</div>"
      ],
      "text/plain": [
       "   has_author  jupyter_prop  num_contrib  image_prop  is_education  \\\n",
       "0   -0.094526     -0.686940    -0.256338   -0.263196     -0.347507   \n",
       "1   -0.094526      0.546025    -0.256338   -0.131354     -0.347507   \n",
       "2   -0.094526     -3.260437     1.489081   -0.685091     -0.347507   \n",
       "3   -0.094526      0.555410    -0.256338   -0.685091     -0.347507   \n",
       "4   -0.094526      0.294933     0.616371   -0.685091     -0.347507   \n",
       "\n",
       "   has_comments  num_commits  non_exec_prop  exec_inorder  exec_skips  \\\n",
       "0     -1.451826    -0.336957      -0.425060      0.525160   -0.371956   \n",
       "1      0.688788    -0.336957      -0.233710     -0.681648    0.365723   \n",
       "2      0.688788     6.280101      -0.425060      0.004038    0.024918   \n",
       "3      0.688788    -0.336957      -0.425060      0.525160   -0.323583   \n",
       "4      0.688788     0.986454       0.065274      0.525160   -0.371956   \n",
       "\n",
       "   has_error  \n",
       "0  -0.435477  \n",
       "1   2.296334  \n",
       "2  -0.435477  \n",
       "3  -0.435477  \n",
       "4   2.296334  "
      ]
     },
     "execution_count": 57,
     "metadata": {},
     "output_type": "execute_result"
    }
   ],
   "source": [
    "# put the normalized features back into dataframe format\n",
    "no_md_stand_df = pd.DataFrame(no_md_stand, columns = no_md_vars)\n",
    "\n",
    "# initial look at the standardized data\n",
    "no_md_stand_df.head()"
   ]
  },
  {
   "cell_type": "markdown",
   "metadata": {},
   "source": [
    "### Performing K-Means Clustering"
   ]
  },
  {
   "cell_type": "code",
   "execution_count": 58,
   "metadata": {},
   "outputs": [],
   "source": [
    "# we perform k-means with multiple k to find the optimal number of clusters\n",
    "sum_of_squared_distances = []\n",
    "K = range(1, 15)\n",
    "for k in K:\n",
    "    km = KMeans(n_clusters = k)\n",
    "    km = km.fit(no_md_stand)\n",
    "    sum_of_squared_distances.append(km.inertia_)"
   ]
  },
  {
   "cell_type": "code",
   "execution_count": 59,
   "metadata": {
    "scrolled": true
   },
   "outputs": [
    {
     "data": {
      "text/plain": [
       "Text(0.5, 1.0, 'Elbow Graph for Optimal k for No Markdown Cell Group')"
      ]
     },
     "execution_count": 59,
     "metadata": {},
     "output_type": "execute_result"
    },
    {
     "data": {
      "image/png": "[encoded data removed]",
      "text/plain": [
       "<Figure size 432x288 with 1 Axes>"
      ]
     },
     "metadata": {
      "needs_background": "light"
     },
     "output_type": "display_data"
    }
   ],
   "source": [
    "# plot the elbow graph\n",
    "plt.plot(K, sum_of_squared_distances, 'bx-')\n",
    "plt.xlabel('k')\n",
    "plt.ylabel('sum_of_squared_distances')\n",
    "plt.title('Elbow Graph for Optimal k for No Markdown Cell Group')"
   ]
  },
  {
   "cell_type": "markdown",
   "metadata": {},
   "source": [
    "# K-Prototypes Clustering"
   ]
  },
  {
   "cell_type": "markdown",
   "metadata": {},
   "source": [
    "## Markdown Cells"
   ]
  },
  {
   "cell_type": "code",
   "execution_count": 76,
   "metadata": {
    "scrolled": true
   },
   "outputs": [
    {
     "data": {
      "text/plain": [
       "[(0, ('longer_beginning', dtype('bool'))),\n",
       " (1, ('longer_ending', dtype('bool'))),\n",
       " (2, ('has_author', dtype('bool'))),\n",
       " (3, ('has_equation', dtype('bool'))),\n",
       " (4, ('jupyter_prop', dtype('float64'))),\n",
       " (5, ('markdown_prop', dtype('float64'))),\n",
       " (6, ('num_contrib', dtype('float64'))),\n",
       " (7, ('image_prop', dtype('float64'))),\n",
       " (8, ('is_education', dtype('bool'))),\n",
       " (9, ('has_links', dtype('bool'))),\n",
       " (10, ('has_comments', dtype('bool'))),\n",
       " (11, ('md_frequency', dtype('float64'))),\n",
       " (12, ('has_title', dtype('bool'))),\n",
       " (13, ('num_commits', dtype('float64'))),\n",
       " (14, ('md_format', dtype('bool'))),\n",
       " (15, ('non_exec_prop', dtype('float64'))),\n",
       " (16, ('exec_inorder', dtype('float64'))),\n",
       " (17, ('exec_skips', dtype('float64'))),\n",
       " (18, ('has_error', dtype('bool')))]"
      ]
     },
     "execution_count": 76,
     "metadata": {},
     "output_type": "execute_result"
    }
   ],
   "source": [
    "# check the datatypes so we know the categorical indexes\n",
    "list(enumerate(zip(list(md_df), md_df.dtypes)))"
   ]
  },
  {
   "cell_type": "code",
   "execution_count": 62,
   "metadata": {},
   "outputs": [
    {
     "name": "stdout",
     "output_type": "stream",
     "text": [
      "clustering with 1 clusters\n",
      "clustering with 2 clusters\n",
      "clustering with 3 clusters\n",
      "clustering with 4 clusters\n"
     ]
    }
   ],
   "source": [
    "# perform k-prototypes clustering with multiple k to find the optimal number of clusters\n",
    "costs_md = []\n",
    "K = range(1, 5)\n",
    "for k in K:\n",
    "    print(\"clustering with \" + str(k) + \" clusters\")\n",
    "    kproto = KPrototypes(n_clusters = k, init = 'Cao', verbose = 0)\n",
    "    clusters = kproto.fit_predict(md_df, categorical = [0, 1, 2, 3, 8, 9, 10, 12, 14, 18])\n",
    "    costs_md.append(kproto.cost_)"
   ]
  },
  {
   "cell_type": "code",
   "execution_count": 72,
   "metadata": {
    "scrolled": true
   },
   "outputs": [
    {
     "data": {
      "image/png": "[encoded data removed]",
      "text/plain": [
       "<Figure size 432x288 with 1 Axes>"
      ]
     },
     "metadata": {
      "needs_background": "light"
     },
     "output_type": "display_data"
    }
   ],
   "source": [
    "# plot the graph to determine the optimal number of clusters\n",
    "plt.plot(K, costs_md, 'bx-')\n",
    "plt.xlabel('k')\n",
    "plt.ylabel('cost')\n",
    "plt.title('Cost Graph for Optimal k for Markdown Cell Group')\n",
    "plt.savefig('figures/4-md-kproto.png')"
   ]
  },
  {
   "cell_type": "code",
   "execution_count": 64,
   "metadata": {},
   "outputs": [
    {
     "name": "stdout",
     "output_type": "stream",
     "text": [
      "[385204.18526386685, 182240.04344039745, 118312.59458522317, 90640.33619310697]\n"
     ]
    }
   ],
   "source": [
    "print(costs_md)"
   ]
  },
  {
   "cell_type": "markdown",
   "metadata": {},
   "source": [
    "The code took a very long time to run on just `[1, 2, 3, 4]` clusters, so we will do more on the remote server."
   ]
  },
  {
   "cell_type": "code",
   "execution_count": 83,
   "metadata": {},
   "outputs": [
    {
     "data": {
      "image/png": "[encoded data removed]",
      "text/plain": [
       "<IPython.core.display.Image object>"
      ]
     },
     "execution_count": 83,
     "metadata": {},
     "output_type": "execute_result"
    }
   ],
   "source": [
    "Image('figures/10-markdown-kproto.png')"
   ]
  },
  {
   "cell_type": "markdown",
   "metadata": {},
   "source": [
    "## No Markdown Cells"
   ]
  },
  {
   "cell_type": "code",
   "execution_count": 67,
   "metadata": {},
   "outputs": [
    {
     "data": {
      "text/plain": [
       "[(0, dtype('bool')),\n",
       " (1, dtype('float64')),\n",
       " (2, dtype('float64')),\n",
       " (3, dtype('float64')),\n",
       " (4, dtype('bool')),\n",
       " (5, dtype('bool')),\n",
       " (6, dtype('float64')),\n",
       " (7, dtype('float64')),\n",
       " (8, dtype('float64')),\n",
       " (9, dtype('float64')),\n",
       " (10, dtype('bool'))]"
      ]
     },
     "execution_count": 67,
     "metadata": {},
     "output_type": "execute_result"
    }
   ],
   "source": [
    "# check datatypes\n",
    "list(enumerate(no_md_df.dtypes))"
   ]
  },
  {
   "cell_type": "code",
   "execution_count": 68,
   "metadata": {},
   "outputs": [
    {
     "name": "stdout",
     "output_type": "stream",
     "text": [
      "clustering with 1 clusters\n",
      "clustering with 2 clusters\n",
      "clustering with 3 clusters\n",
      "clustering with 4 clusters\n"
     ]
    }
   ],
   "source": [
    "# perform k-prototypes clustering with multiple k to find the optimal number of clusters\n",
    "costs_no_md = []\n",
    "K = range(1, 5)\n",
    "for k in K:\n",
    "    print(\"clustering with \" + str(k) + \" clusters\")\n",
    "    kproto = KPrototypes(n_clusters = k, init = 'Cao', verbose = 0)\n",
    "    clusters = kproto.fit_predict(no_md_df, categorical = [0, 4, 5, 10])\n",
    "    costs_no_md.append(kproto.cost_)"
   ]
  },
  {
   "cell_type": "code",
   "execution_count": 73,
   "metadata": {
    "scrolled": false
   },
   "outputs": [
    {
     "data": {
      "image/png": "[encoded data removed]",
      "text/plain": [
       "<Figure size 432x288 with 1 Axes>"
      ]
     },
     "metadata": {
      "needs_background": "light"
     },
     "output_type": "display_data"
    }
   ],
   "source": [
    "# plot the graph to determine the optimal number of clusters\n",
    "plt.plot(K, costs_no_md, 'bx-')\n",
    "plt.xlabel('k')\n",
    "plt.ylabel('cost')\n",
    "plt.title('Cost Graph for Optimal k for No Markdown Cell Group')\n",
    "plt.savefig('figures/4-no-md-kproto.png')"
   ]
  },
  {
   "cell_type": "code",
   "execution_count": 70,
   "metadata": {
    "scrolled": true
   },
   "outputs": [
    {
     "name": "stdout",
     "output_type": "stream",
     "text": [
      "[243733.80215925732, 133482.59109233855, 82105.75379667532, 71046.60905967362]\n"
     ]
    }
   ],
   "source": [
    "print(costs_no_md)"
   ]
  },
  {
   "cell_type": "code",
   "execution_count": 84,
   "metadata": {},
   "outputs": [
    {
     "data": {
      "image/png": "[encoded data removed]",
      "text/plain": [
       "<IPython.core.display.Image object>"
      ]
     },
     "execution_count": 84,
     "metadata": {},
     "output_type": "execute_result"
    }
   ],
   "source": [
    "Image('figures/10-no-markdown-kproto.png')"
   ]
  }
 ],
 "metadata": {
  "kernelspec": {
   "display_name": "Python 3",
   "language": "python",
   "name": "python3"
  },
  "language_info": {
   "codemirror_mode": {
    "name": "ipython",
    "version": 3
   },
   "file_extension": ".py",
   "mimetype": "text/x-python",
   "name": "python",
   "nbconvert_exporter": "python",
   "pygments_lexer": "ipython3",
   "version": "3.6.9"
  }
 },
 "nbformat": 4,
 "nbformat_minor": 2
}
