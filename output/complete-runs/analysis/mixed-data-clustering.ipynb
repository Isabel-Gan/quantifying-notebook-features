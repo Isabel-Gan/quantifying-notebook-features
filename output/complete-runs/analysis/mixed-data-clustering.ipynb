{
 "cells": [
  {
   "cell_type": "markdown",
   "metadata": {},
   "source": [
    "# Imports"
   ]
  },
  {
   "cell_type": "code",
   "execution_count": 2,
   "metadata": {},
   "outputs": [],
   "source": [
    "import pandas as pd\n",
    "from sklearn.preprocessing import StandardScaler\n",
    "from sklearn.cluster import KMeans\n",
    "from kmodes.kprototypes import KPrototypes\n",
    "import numpy as np\n",
    "import matplotlib.pyplot as plt\n",
    "from IPython.display import Image"
   ]
  },
  {
   "cell_type": "markdown",
   "metadata": {},
   "source": [
    "# Loading the Data"
   ]
  },
  {
   "cell_type": "markdown",
   "metadata": {},
   "source": [
    "## Markdown Cells"
   ]
  },
  {
   "cell_type": "code",
   "execution_count": 3,
   "metadata": {},
   "outputs": [],
   "source": [
    "md_filepath = 'markdown_group.csv'\n",
    "md_df = pd.read_csv(md_filepath)"
   ]
  },
  {
   "cell_type": "code",
   "execution_count": 4,
   "metadata": {
    "scrolled": false
   },
   "outputs": [
    {
     "data": {
      "text/html": [
       "<div>\n",
       "<style scoped>\n",
       "    .dataframe tbody tr th:only-of-type {\n",
       "        vertical-align: middle;\n",
       "    }\n",
       "\n",
       "    .dataframe tbody tr th {\n",
       "        vertical-align: top;\n",
       "    }\n",
       "\n",
       "    .dataframe thead th {\n",
       "        text-align: right;\n",
       "    }\n",
       "</style>\n",
       "<table border=\"1\" class=\"dataframe\">\n",
       "  <thead>\n",
       "    <tr style=\"text-align: right;\">\n",
       "      <th></th>\n",
       "      <th>Unnamed: 0</th>\n",
       "      <th>nb_id</th>\n",
       "      <th>longer_beginning</th>\n",
       "      <th>longer_ending</th>\n",
       "      <th>has_author</th>\n",
       "      <th>has_equation</th>\n",
       "      <th>jupyter_prop</th>\n",
       "      <th>markdown_prop</th>\n",
       "      <th>num_contrib</th>\n",
       "      <th>image_prop</th>\n",
       "      <th>...</th>\n",
       "      <th>has_links</th>\n",
       "      <th>has_comments</th>\n",
       "      <th>md_frequency</th>\n",
       "      <th>has_title</th>\n",
       "      <th>num_commits</th>\n",
       "      <th>md_format</th>\n",
       "      <th>non_exec_prop</th>\n",
       "      <th>exec_inorder</th>\n",
       "      <th>exec_skips</th>\n",
       "      <th>has_error</th>\n",
       "    </tr>\n",
       "  </thead>\n",
       "  <tbody>\n",
       "    <tr>\n",
       "      <th>0</th>\n",
       "      <td>3</td>\n",
       "      <td>594</td>\n",
       "      <td>True</td>\n",
       "      <td>False</td>\n",
       "      <td>False</td>\n",
       "      <td>False</td>\n",
       "      <td>0.507588</td>\n",
       "      <td>0.044444</td>\n",
       "      <td>3.0</td>\n",
       "      <td>0.0</td>\n",
       "      <td>...</td>\n",
       "      <td>True</td>\n",
       "      <td>False</td>\n",
       "      <td>0.068182</td>\n",
       "      <td>True</td>\n",
       "      <td>1.0</td>\n",
       "      <td>True</td>\n",
       "      <td>0.000000</td>\n",
       "      <td>1.000000</td>\n",
       "      <td>1.809524</td>\n",
       "      <td>False</td>\n",
       "    </tr>\n",
       "    <tr>\n",
       "      <th>1</th>\n",
       "      <td>6</td>\n",
       "      <td>1222</td>\n",
       "      <td>True</td>\n",
       "      <td>False</td>\n",
       "      <td>False</td>\n",
       "      <td>False</td>\n",
       "      <td>1.000000</td>\n",
       "      <td>0.161290</td>\n",
       "      <td>1.0</td>\n",
       "      <td>0.0</td>\n",
       "      <td>...</td>\n",
       "      <td>True</td>\n",
       "      <td>True</td>\n",
       "      <td>0.333333</td>\n",
       "      <td>False</td>\n",
       "      <td>2.0</td>\n",
       "      <td>True</td>\n",
       "      <td>0.961538</td>\n",
       "      <td>1.000000</td>\n",
       "      <td>0.000000</td>\n",
       "      <td>False</td>\n",
       "    </tr>\n",
       "    <tr>\n",
       "      <th>2</th>\n",
       "      <td>7</td>\n",
       "      <td>1447</td>\n",
       "      <td>True</td>\n",
       "      <td>False</td>\n",
       "      <td>False</td>\n",
       "      <td>False</td>\n",
       "      <td>0.970851</td>\n",
       "      <td>0.375887</td>\n",
       "      <td>1.0</td>\n",
       "      <td>0.0</td>\n",
       "      <td>...</td>\n",
       "      <td>True</td>\n",
       "      <td>True</td>\n",
       "      <td>0.621429</td>\n",
       "      <td>True</td>\n",
       "      <td>1.0</td>\n",
       "      <td>True</td>\n",
       "      <td>0.988636</td>\n",
       "      <td>1.000000</td>\n",
       "      <td>0.000000</td>\n",
       "      <td>False</td>\n",
       "    </tr>\n",
       "    <tr>\n",
       "      <th>3</th>\n",
       "      <td>12</td>\n",
       "      <td>2705</td>\n",
       "      <td>True</td>\n",
       "      <td>False</td>\n",
       "      <td>False</td>\n",
       "      <td>False</td>\n",
       "      <td>1.000000</td>\n",
       "      <td>0.461538</td>\n",
       "      <td>1.0</td>\n",
       "      <td>0.0</td>\n",
       "      <td>...</td>\n",
       "      <td>True</td>\n",
       "      <td>True</td>\n",
       "      <td>0.640000</td>\n",
       "      <td>True</td>\n",
       "      <td>1.0</td>\n",
       "      <td>False</td>\n",
       "      <td>0.000000</td>\n",
       "      <td>0.923077</td>\n",
       "      <td>1.615385</td>\n",
       "      <td>False</td>\n",
       "    </tr>\n",
       "    <tr>\n",
       "      <th>4</th>\n",
       "      <td>15</td>\n",
       "      <td>2861</td>\n",
       "      <td>True</td>\n",
       "      <td>False</td>\n",
       "      <td>False</td>\n",
       "      <td>True</td>\n",
       "      <td>1.000000</td>\n",
       "      <td>0.461538</td>\n",
       "      <td>1.0</td>\n",
       "      <td>0.0</td>\n",
       "      <td>...</td>\n",
       "      <td>False</td>\n",
       "      <td>True</td>\n",
       "      <td>0.520000</td>\n",
       "      <td>False</td>\n",
       "      <td>1.0</td>\n",
       "      <td>False</td>\n",
       "      <td>0.000000</td>\n",
       "      <td>1.000000</td>\n",
       "      <td>6.333333</td>\n",
       "      <td>False</td>\n",
       "    </tr>\n",
       "  </tbody>\n",
       "</table>\n",
       "<p>5 rows × 21 columns</p>\n",
       "</div>"
      ],
      "text/plain": [
       "   Unnamed: 0  nb_id  longer_beginning  longer_ending  has_author  \\\n",
       "0           3    594              True          False       False   \n",
       "1           6   1222              True          False       False   \n",
       "2           7   1447              True          False       False   \n",
       "3          12   2705              True          False       False   \n",
       "4          15   2861              True          False       False   \n",
       "\n",
       "   has_equation  jupyter_prop  markdown_prop  num_contrib  image_prop  ...  \\\n",
       "0         False      0.507588       0.044444          3.0         0.0  ...   \n",
       "1         False      1.000000       0.161290          1.0         0.0  ...   \n",
       "2         False      0.970851       0.375887          1.0         0.0  ...   \n",
       "3         False      1.000000       0.461538          1.0         0.0  ...   \n",
       "4          True      1.000000       0.461538          1.0         0.0  ...   \n",
       "\n",
       "   has_links  has_comments  md_frequency  has_title  num_commits  md_format  \\\n",
       "0       True         False      0.068182       True          1.0       True   \n",
       "1       True          True      0.333333      False          2.0       True   \n",
       "2       True          True      0.621429       True          1.0       True   \n",
       "3       True          True      0.640000       True          1.0      False   \n",
       "4      False          True      0.520000      False          1.0      False   \n",
       "\n",
       "   non_exec_prop  exec_inorder  exec_skips  has_error  \n",
       "0       0.000000      1.000000    1.809524      False  \n",
       "1       0.961538      1.000000    0.000000      False  \n",
       "2       0.988636      1.000000    0.000000      False  \n",
       "3       0.000000      0.923077    1.615385      False  \n",
       "4       0.000000      1.000000    6.333333      False  \n",
       "\n",
       "[5 rows x 21 columns]"
      ]
     },
     "execution_count": 4,
     "metadata": {},
     "output_type": "execute_result"
    }
   ],
   "source": [
    "# initial look at the data\n",
    "md_df.head()"
   ]
  },
  {
   "cell_type": "code",
   "execution_count": 5,
   "metadata": {},
   "outputs": [],
   "source": [
    "# save the original dataframe\n",
    "md_original = md_df.copy()"
   ]
  },
  {
   "cell_type": "code",
   "execution_count": 6,
   "metadata": {},
   "outputs": [],
   "source": [
    "# clear the first two columns\n",
    "md_df = md_df.drop(['Unnamed: 0', 'nb_id'], axis = 1)"
   ]
  },
  {
   "cell_type": "code",
   "execution_count": 7,
   "metadata": {},
   "outputs": [
    {
     "data": {
      "text/html": [
       "<div>\n",
       "<style scoped>\n",
       "    .dataframe tbody tr th:only-of-type {\n",
       "        vertical-align: middle;\n",
       "    }\n",
       "\n",
       "    .dataframe tbody tr th {\n",
       "        vertical-align: top;\n",
       "    }\n",
       "\n",
       "    .dataframe thead th {\n",
       "        text-align: right;\n",
       "    }\n",
       "</style>\n",
       "<table border=\"1\" class=\"dataframe\">\n",
       "  <thead>\n",
       "    <tr style=\"text-align: right;\">\n",
       "      <th></th>\n",
       "      <th>longer_beginning</th>\n",
       "      <th>longer_ending</th>\n",
       "      <th>has_author</th>\n",
       "      <th>has_equation</th>\n",
       "      <th>jupyter_prop</th>\n",
       "      <th>markdown_prop</th>\n",
       "      <th>num_contrib</th>\n",
       "      <th>image_prop</th>\n",
       "      <th>is_education</th>\n",
       "      <th>has_links</th>\n",
       "      <th>has_comments</th>\n",
       "      <th>md_frequency</th>\n",
       "      <th>has_title</th>\n",
       "      <th>num_commits</th>\n",
       "      <th>md_format</th>\n",
       "      <th>non_exec_prop</th>\n",
       "      <th>exec_inorder</th>\n",
       "      <th>exec_skips</th>\n",
       "      <th>has_error</th>\n",
       "    </tr>\n",
       "  </thead>\n",
       "  <tbody>\n",
       "    <tr>\n",
       "      <th>0</th>\n",
       "      <td>True</td>\n",
       "      <td>False</td>\n",
       "      <td>False</td>\n",
       "      <td>False</td>\n",
       "      <td>0.507588</td>\n",
       "      <td>0.044444</td>\n",
       "      <td>3.0</td>\n",
       "      <td>0.0</td>\n",
       "      <td>True</td>\n",
       "      <td>True</td>\n",
       "      <td>False</td>\n",
       "      <td>0.068182</td>\n",
       "      <td>True</td>\n",
       "      <td>1.0</td>\n",
       "      <td>True</td>\n",
       "      <td>0.000000</td>\n",
       "      <td>1.000000</td>\n",
       "      <td>1.809524</td>\n",
       "      <td>False</td>\n",
       "    </tr>\n",
       "    <tr>\n",
       "      <th>1</th>\n",
       "      <td>True</td>\n",
       "      <td>False</td>\n",
       "      <td>False</td>\n",
       "      <td>False</td>\n",
       "      <td>1.000000</td>\n",
       "      <td>0.161290</td>\n",
       "      <td>1.0</td>\n",
       "      <td>0.0</td>\n",
       "      <td>True</td>\n",
       "      <td>True</td>\n",
       "      <td>True</td>\n",
       "      <td>0.333333</td>\n",
       "      <td>False</td>\n",
       "      <td>2.0</td>\n",
       "      <td>True</td>\n",
       "      <td>0.961538</td>\n",
       "      <td>1.000000</td>\n",
       "      <td>0.000000</td>\n",
       "      <td>False</td>\n",
       "    </tr>\n",
       "    <tr>\n",
       "      <th>2</th>\n",
       "      <td>True</td>\n",
       "      <td>False</td>\n",
       "      <td>False</td>\n",
       "      <td>False</td>\n",
       "      <td>0.970851</td>\n",
       "      <td>0.375887</td>\n",
       "      <td>1.0</td>\n",
       "      <td>0.0</td>\n",
       "      <td>True</td>\n",
       "      <td>True</td>\n",
       "      <td>True</td>\n",
       "      <td>0.621429</td>\n",
       "      <td>True</td>\n",
       "      <td>1.0</td>\n",
       "      <td>True</td>\n",
       "      <td>0.988636</td>\n",
       "      <td>1.000000</td>\n",
       "      <td>0.000000</td>\n",
       "      <td>False</td>\n",
       "    </tr>\n",
       "    <tr>\n",
       "      <th>3</th>\n",
       "      <td>True</td>\n",
       "      <td>False</td>\n",
       "      <td>False</td>\n",
       "      <td>False</td>\n",
       "      <td>1.000000</td>\n",
       "      <td>0.461538</td>\n",
       "      <td>1.0</td>\n",
       "      <td>0.0</td>\n",
       "      <td>True</td>\n",
       "      <td>True</td>\n",
       "      <td>True</td>\n",
       "      <td>0.640000</td>\n",
       "      <td>True</td>\n",
       "      <td>1.0</td>\n",
       "      <td>False</td>\n",
       "      <td>0.000000</td>\n",
       "      <td>0.923077</td>\n",
       "      <td>1.615385</td>\n",
       "      <td>False</td>\n",
       "    </tr>\n",
       "    <tr>\n",
       "      <th>4</th>\n",
       "      <td>True</td>\n",
       "      <td>False</td>\n",
       "      <td>False</td>\n",
       "      <td>True</td>\n",
       "      <td>1.000000</td>\n",
       "      <td>0.461538</td>\n",
       "      <td>1.0</td>\n",
       "      <td>0.0</td>\n",
       "      <td>False</td>\n",
       "      <td>False</td>\n",
       "      <td>True</td>\n",
       "      <td>0.520000</td>\n",
       "      <td>False</td>\n",
       "      <td>1.0</td>\n",
       "      <td>False</td>\n",
       "      <td>0.000000</td>\n",
       "      <td>1.000000</td>\n",
       "      <td>6.333333</td>\n",
       "      <td>False</td>\n",
       "    </tr>\n",
       "  </tbody>\n",
       "</table>\n",
       "</div>"
      ],
      "text/plain": [
       "   longer_beginning  longer_ending  has_author  has_equation  jupyter_prop  \\\n",
       "0              True          False       False         False      0.507588   \n",
       "1              True          False       False         False      1.000000   \n",
       "2              True          False       False         False      0.970851   \n",
       "3              True          False       False         False      1.000000   \n",
       "4              True          False       False          True      1.000000   \n",
       "\n",
       "   markdown_prop  num_contrib  image_prop  is_education  has_links  \\\n",
       "0       0.044444          3.0         0.0          True       True   \n",
       "1       0.161290          1.0         0.0          True       True   \n",
       "2       0.375887          1.0         0.0          True       True   \n",
       "3       0.461538          1.0         0.0          True       True   \n",
       "4       0.461538          1.0         0.0         False      False   \n",
       "\n",
       "   has_comments  md_frequency  has_title  num_commits  md_format  \\\n",
       "0         False      0.068182       True          1.0       True   \n",
       "1          True      0.333333      False          2.0       True   \n",
       "2          True      0.621429       True          1.0       True   \n",
       "3          True      0.640000       True          1.0      False   \n",
       "4          True      0.520000      False          1.0      False   \n",
       "\n",
       "   non_exec_prop  exec_inorder  exec_skips  has_error  \n",
       "0       0.000000      1.000000    1.809524      False  \n",
       "1       0.961538      1.000000    0.000000      False  \n",
       "2       0.988636      1.000000    0.000000      False  \n",
       "3       0.000000      0.923077    1.615385      False  \n",
       "4       0.000000      1.000000    6.333333      False  "
      ]
     },
     "execution_count": 7,
     "metadata": {},
     "output_type": "execute_result"
    }
   ],
   "source": [
    "# check the data again\n",
    "md_df.head()"
   ]
  },
  {
   "cell_type": "code",
   "execution_count": 8,
   "metadata": {},
   "outputs": [
    {
     "data": {
      "text/plain": [
       "['longer_beginning',\n",
       " 'longer_ending',\n",
       " 'has_author',\n",
       " 'has_equation',\n",
       " 'jupyter_prop',\n",
       " 'markdown_prop',\n",
       " 'num_contrib',\n",
       " 'image_prop',\n",
       " 'is_education',\n",
       " 'has_links',\n",
       " 'has_comments',\n",
       " 'md_frequency',\n",
       " 'has_title',\n",
       " 'num_commits',\n",
       " 'md_format',\n",
       " 'non_exec_prop',\n",
       " 'exec_inorder',\n",
       " 'exec_skips',\n",
       " 'has_error']"
      ]
     },
     "execution_count": 8,
     "metadata": {},
     "output_type": "execute_result"
    }
   ],
   "source": [
    "# extract the column titles\n",
    "md_vars = list(md_df)\n",
    "md_vars"
   ]
  },
  {
   "cell_type": "markdown",
   "metadata": {},
   "source": [
    "## No Markdown Cells"
   ]
  },
  {
   "cell_type": "code",
   "execution_count": 9,
   "metadata": {},
   "outputs": [],
   "source": [
    "no_md_filepath = 'no_markdown_group.csv'\n",
    "no_md_df = pd.read_csv(no_md_filepath)"
   ]
  },
  {
   "cell_type": "code",
   "execution_count": 10,
   "metadata": {},
   "outputs": [],
   "source": [
    "# save the original dataframe\n",
    "no_md_original = no_md_df.copy()"
   ]
  },
  {
   "cell_type": "code",
   "execution_count": 11,
   "metadata": {},
   "outputs": [],
   "source": [
    "# clear the first two columns\n",
    "no_md_df = no_md_df.drop(['Unnamed: 0', 'nb_id'], axis = 1)"
   ]
  },
  {
   "cell_type": "code",
   "execution_count": 12,
   "metadata": {
    "scrolled": true
   },
   "outputs": [
    {
     "data": {
      "text/html": [
       "<div>\n",
       "<style scoped>\n",
       "    .dataframe tbody tr th:only-of-type {\n",
       "        vertical-align: middle;\n",
       "    }\n",
       "\n",
       "    .dataframe tbody tr th {\n",
       "        vertical-align: top;\n",
       "    }\n",
       "\n",
       "    .dataframe thead th {\n",
       "        text-align: right;\n",
       "    }\n",
       "</style>\n",
       "<table border=\"1\" class=\"dataframe\">\n",
       "  <thead>\n",
       "    <tr style=\"text-align: right;\">\n",
       "      <th></th>\n",
       "      <th>has_author</th>\n",
       "      <th>jupyter_prop</th>\n",
       "      <th>num_contrib</th>\n",
       "      <th>image_prop</th>\n",
       "      <th>is_education</th>\n",
       "      <th>has_comments</th>\n",
       "      <th>num_commits</th>\n",
       "      <th>non_exec_prop</th>\n",
       "      <th>exec_inorder</th>\n",
       "      <th>exec_skips</th>\n",
       "      <th>has_error</th>\n",
       "    </tr>\n",
       "  </thead>\n",
       "  <tbody>\n",
       "    <tr>\n",
       "      <th>0</th>\n",
       "      <td>False</td>\n",
       "      <td>0.714130</td>\n",
       "      <td>1.0</td>\n",
       "      <td>0.142857</td>\n",
       "      <td>False</td>\n",
       "      <td>False</td>\n",
       "      <td>1.0</td>\n",
       "      <td>0.00000</td>\n",
       "      <td>1.000000</td>\n",
       "      <td>1.000000</td>\n",
       "      <td>False</td>\n",
       "    </tr>\n",
       "    <tr>\n",
       "      <th>1</th>\n",
       "      <td>False</td>\n",
       "      <td>0.997840</td>\n",
       "      <td>1.0</td>\n",
       "      <td>0.187500</td>\n",
       "      <td>False</td>\n",
       "      <td>True</td>\n",
       "      <td>1.0</td>\n",
       "      <td>0.04878</td>\n",
       "      <td>0.789474</td>\n",
       "      <td>10.631579</td>\n",
       "      <td>True</td>\n",
       "    </tr>\n",
       "    <tr>\n",
       "      <th>2</th>\n",
       "      <td>False</td>\n",
       "      <td>0.121957</td>\n",
       "      <td>5.0</td>\n",
       "      <td>0.000000</td>\n",
       "      <td>False</td>\n",
       "      <td>True</td>\n",
       "      <td>11.0</td>\n",
       "      <td>0.00000</td>\n",
       "      <td>0.909091</td>\n",
       "      <td>6.181818</td>\n",
       "      <td>False</td>\n",
       "    </tr>\n",
       "    <tr>\n",
       "      <th>3</th>\n",
       "      <td>False</td>\n",
       "      <td>1.000000</td>\n",
       "      <td>1.0</td>\n",
       "      <td>0.000000</td>\n",
       "      <td>False</td>\n",
       "      <td>True</td>\n",
       "      <td>1.0</td>\n",
       "      <td>0.00000</td>\n",
       "      <td>1.000000</td>\n",
       "      <td>1.631579</td>\n",
       "      <td>False</td>\n",
       "    </tr>\n",
       "    <tr>\n",
       "      <th>4</th>\n",
       "      <td>False</td>\n",
       "      <td>0.940063</td>\n",
       "      <td>3.0</td>\n",
       "      <td>0.000000</td>\n",
       "      <td>False</td>\n",
       "      <td>True</td>\n",
       "      <td>3.0</td>\n",
       "      <td>0.12500</td>\n",
       "      <td>1.000000</td>\n",
       "      <td>1.000000</td>\n",
       "      <td>True</td>\n",
       "    </tr>\n",
       "  </tbody>\n",
       "</table>\n",
       "</div>"
      ],
      "text/plain": [
       "   has_author  jupyter_prop  num_contrib  image_prop  is_education  \\\n",
       "0       False      0.714130          1.0    0.142857         False   \n",
       "1       False      0.997840          1.0    0.187500         False   \n",
       "2       False      0.121957          5.0    0.000000         False   \n",
       "3       False      1.000000          1.0    0.000000         False   \n",
       "4       False      0.940063          3.0    0.000000         False   \n",
       "\n",
       "   has_comments  num_commits  non_exec_prop  exec_inorder  exec_skips  \\\n",
       "0         False          1.0        0.00000      1.000000    1.000000   \n",
       "1          True          1.0        0.04878      0.789474   10.631579   \n",
       "2          True         11.0        0.00000      0.909091    6.181818   \n",
       "3          True          1.0        0.00000      1.000000    1.631579   \n",
       "4          True          3.0        0.12500      1.000000    1.000000   \n",
       "\n",
       "   has_error  \n",
       "0      False  \n",
       "1       True  \n",
       "2      False  \n",
       "3      False  \n",
       "4       True  "
      ]
     },
     "execution_count": 12,
     "metadata": {},
     "output_type": "execute_result"
    }
   ],
   "source": [
    "# initial look at the data\n",
    "no_md_df.head()"
   ]
  },
  {
   "cell_type": "code",
   "execution_count": 13,
   "metadata": {
    "scrolled": true
   },
   "outputs": [
    {
     "data": {
      "text/plain": [
       "['has_author',\n",
       " 'jupyter_prop',\n",
       " 'num_contrib',\n",
       " 'image_prop',\n",
       " 'is_education',\n",
       " 'has_comments',\n",
       " 'num_commits',\n",
       " 'non_exec_prop',\n",
       " 'exec_inorder',\n",
       " 'exec_skips',\n",
       " 'has_error']"
      ]
     },
     "execution_count": 13,
     "metadata": {},
     "output_type": "execute_result"
    }
   ],
   "source": [
    "# extract the column titles\n",
    "no_md_vars = list(no_md_df)\n",
    "no_md_vars"
   ]
  },
  {
   "cell_type": "markdown",
   "metadata": {},
   "source": [
    "# K-Means Clustering"
   ]
  },
  {
   "cell_type": "markdown",
   "metadata": {},
   "source": [
    "## Adjust the Data\n",
    "\n",
    "Since k-means clustering is performed on quantitative variables, we change `True` and `False` in the data to `1` and `0`, respectively"
   ]
  },
  {
   "cell_type": "code",
   "execution_count": 14,
   "metadata": {},
   "outputs": [],
   "source": [
    "# replace True with 1 in both groups\n",
    "md_adjusted = md_df.replace(True, 1)\n",
    "no_md_adjusted = no_md_df.replace(True, 1)"
   ]
  },
  {
   "cell_type": "code",
   "execution_count": 15,
   "metadata": {},
   "outputs": [],
   "source": [
    "# replace False with 0 in both groups\n",
    "md_adjusted = md_adjusted.replace(False, 0)\n",
    "no_md_adjusted = no_md_adjusted.replace(False, 0)"
   ]
  },
  {
   "cell_type": "code",
   "execution_count": 16,
   "metadata": {},
   "outputs": [
    {
     "data": {
      "text/html": [
       "<div>\n",
       "<style scoped>\n",
       "    .dataframe tbody tr th:only-of-type {\n",
       "        vertical-align: middle;\n",
       "    }\n",
       "\n",
       "    .dataframe tbody tr th {\n",
       "        vertical-align: top;\n",
       "    }\n",
       "\n",
       "    .dataframe thead th {\n",
       "        text-align: right;\n",
       "    }\n",
       "</style>\n",
       "<table border=\"1\" class=\"dataframe\">\n",
       "  <thead>\n",
       "    <tr style=\"text-align: right;\">\n",
       "      <th></th>\n",
       "      <th>longer_beginning</th>\n",
       "      <th>longer_ending</th>\n",
       "      <th>has_author</th>\n",
       "      <th>has_equation</th>\n",
       "      <th>jupyter_prop</th>\n",
       "      <th>markdown_prop</th>\n",
       "      <th>num_contrib</th>\n",
       "      <th>image_prop</th>\n",
       "      <th>is_education</th>\n",
       "      <th>has_links</th>\n",
       "      <th>has_comments</th>\n",
       "      <th>md_frequency</th>\n",
       "      <th>has_title</th>\n",
       "      <th>num_commits</th>\n",
       "      <th>md_format</th>\n",
       "      <th>non_exec_prop</th>\n",
       "      <th>exec_inorder</th>\n",
       "      <th>exec_skips</th>\n",
       "      <th>has_error</th>\n",
       "    </tr>\n",
       "  </thead>\n",
       "  <tbody>\n",
       "    <tr>\n",
       "      <th>0</th>\n",
       "      <td>1.0</td>\n",
       "      <td>0.0</td>\n",
       "      <td>0.0</td>\n",
       "      <td>0.0</td>\n",
       "      <td>0.507588</td>\n",
       "      <td>0.044444</td>\n",
       "      <td>3.0</td>\n",
       "      <td>0.0</td>\n",
       "      <td>1.0</td>\n",
       "      <td>1.0</td>\n",
       "      <td>0.0</td>\n",
       "      <td>0.068182</td>\n",
       "      <td>1.0</td>\n",
       "      <td>1.0</td>\n",
       "      <td>1.0</td>\n",
       "      <td>0.000000</td>\n",
       "      <td>1.000000</td>\n",
       "      <td>1.809524</td>\n",
       "      <td>0.0</td>\n",
       "    </tr>\n",
       "    <tr>\n",
       "      <th>1</th>\n",
       "      <td>1.0</td>\n",
       "      <td>0.0</td>\n",
       "      <td>0.0</td>\n",
       "      <td>0.0</td>\n",
       "      <td>1.000000</td>\n",
       "      <td>0.161290</td>\n",
       "      <td>1.0</td>\n",
       "      <td>0.0</td>\n",
       "      <td>1.0</td>\n",
       "      <td>1.0</td>\n",
       "      <td>1.0</td>\n",
       "      <td>0.333333</td>\n",
       "      <td>0.0</td>\n",
       "      <td>2.0</td>\n",
       "      <td>1.0</td>\n",
       "      <td>0.961538</td>\n",
       "      <td>1.000000</td>\n",
       "      <td>0.000000</td>\n",
       "      <td>0.0</td>\n",
       "    </tr>\n",
       "    <tr>\n",
       "      <th>2</th>\n",
       "      <td>1.0</td>\n",
       "      <td>0.0</td>\n",
       "      <td>0.0</td>\n",
       "      <td>0.0</td>\n",
       "      <td>0.970851</td>\n",
       "      <td>0.375887</td>\n",
       "      <td>1.0</td>\n",
       "      <td>0.0</td>\n",
       "      <td>1.0</td>\n",
       "      <td>1.0</td>\n",
       "      <td>1.0</td>\n",
       "      <td>0.621429</td>\n",
       "      <td>1.0</td>\n",
       "      <td>1.0</td>\n",
       "      <td>1.0</td>\n",
       "      <td>0.988636</td>\n",
       "      <td>1.000000</td>\n",
       "      <td>0.000000</td>\n",
       "      <td>0.0</td>\n",
       "    </tr>\n",
       "    <tr>\n",
       "      <th>3</th>\n",
       "      <td>1.0</td>\n",
       "      <td>0.0</td>\n",
       "      <td>0.0</td>\n",
       "      <td>0.0</td>\n",
       "      <td>1.000000</td>\n",
       "      <td>0.461538</td>\n",
       "      <td>1.0</td>\n",
       "      <td>0.0</td>\n",
       "      <td>1.0</td>\n",
       "      <td>1.0</td>\n",
       "      <td>1.0</td>\n",
       "      <td>0.640000</td>\n",
       "      <td>1.0</td>\n",
       "      <td>1.0</td>\n",
       "      <td>0.0</td>\n",
       "      <td>0.000000</td>\n",
       "      <td>0.923077</td>\n",
       "      <td>1.615385</td>\n",
       "      <td>0.0</td>\n",
       "    </tr>\n",
       "    <tr>\n",
       "      <th>4</th>\n",
       "      <td>1.0</td>\n",
       "      <td>0.0</td>\n",
       "      <td>0.0</td>\n",
       "      <td>1.0</td>\n",
       "      <td>1.000000</td>\n",
       "      <td>0.461538</td>\n",
       "      <td>1.0</td>\n",
       "      <td>0.0</td>\n",
       "      <td>0.0</td>\n",
       "      <td>0.0</td>\n",
       "      <td>1.0</td>\n",
       "      <td>0.520000</td>\n",
       "      <td>0.0</td>\n",
       "      <td>1.0</td>\n",
       "      <td>0.0</td>\n",
       "      <td>0.000000</td>\n",
       "      <td>1.000000</td>\n",
       "      <td>6.333333</td>\n",
       "      <td>0.0</td>\n",
       "    </tr>\n",
       "  </tbody>\n",
       "</table>\n",
       "</div>"
      ],
      "text/plain": [
       "   longer_beginning  longer_ending  has_author  has_equation  jupyter_prop  \\\n",
       "0               1.0            0.0         0.0           0.0      0.507588   \n",
       "1               1.0            0.0         0.0           0.0      1.000000   \n",
       "2               1.0            0.0         0.0           0.0      0.970851   \n",
       "3               1.0            0.0         0.0           0.0      1.000000   \n",
       "4               1.0            0.0         0.0           1.0      1.000000   \n",
       "\n",
       "   markdown_prop  num_contrib  image_prop  is_education  has_links  \\\n",
       "0       0.044444          3.0         0.0           1.0        1.0   \n",
       "1       0.161290          1.0         0.0           1.0        1.0   \n",
       "2       0.375887          1.0         0.0           1.0        1.0   \n",
       "3       0.461538          1.0         0.0           1.0        1.0   \n",
       "4       0.461538          1.0         0.0           0.0        0.0   \n",
       "\n",
       "   has_comments  md_frequency  has_title  num_commits  md_format  \\\n",
       "0           0.0      0.068182        1.0          1.0        1.0   \n",
       "1           1.0      0.333333        0.0          2.0        1.0   \n",
       "2           1.0      0.621429        1.0          1.0        1.0   \n",
       "3           1.0      0.640000        1.0          1.0        0.0   \n",
       "4           1.0      0.520000        0.0          1.0        0.0   \n",
       "\n",
       "   non_exec_prop  exec_inorder  exec_skips  has_error  \n",
       "0       0.000000      1.000000    1.809524        0.0  \n",
       "1       0.961538      1.000000    0.000000        0.0  \n",
       "2       0.988636      1.000000    0.000000        0.0  \n",
       "3       0.000000      0.923077    1.615385        0.0  \n",
       "4       0.000000      1.000000    6.333333        0.0  "
      ]
     },
     "execution_count": 16,
     "metadata": {},
     "output_type": "execute_result"
    }
   ],
   "source": [
    "# check the markdown cell group\n",
    "md_adjusted.head()"
   ]
  },
  {
   "cell_type": "code",
   "execution_count": 17,
   "metadata": {
    "scrolled": true
   },
   "outputs": [
    {
     "data": {
      "text/html": [
       "<div>\n",
       "<style scoped>\n",
       "    .dataframe tbody tr th:only-of-type {\n",
       "        vertical-align: middle;\n",
       "    }\n",
       "\n",
       "    .dataframe tbody tr th {\n",
       "        vertical-align: top;\n",
       "    }\n",
       "\n",
       "    .dataframe thead th {\n",
       "        text-align: right;\n",
       "    }\n",
       "</style>\n",
       "<table border=\"1\" class=\"dataframe\">\n",
       "  <thead>\n",
       "    <tr style=\"text-align: right;\">\n",
       "      <th></th>\n",
       "      <th>has_author</th>\n",
       "      <th>jupyter_prop</th>\n",
       "      <th>num_contrib</th>\n",
       "      <th>image_prop</th>\n",
       "      <th>is_education</th>\n",
       "      <th>has_comments</th>\n",
       "      <th>num_commits</th>\n",
       "      <th>non_exec_prop</th>\n",
       "      <th>exec_inorder</th>\n",
       "      <th>exec_skips</th>\n",
       "      <th>has_error</th>\n",
       "    </tr>\n",
       "  </thead>\n",
       "  <tbody>\n",
       "    <tr>\n",
       "      <th>0</th>\n",
       "      <td>0.0</td>\n",
       "      <td>0.714130</td>\n",
       "      <td>1.0</td>\n",
       "      <td>0.142857</td>\n",
       "      <td>0.0</td>\n",
       "      <td>0.0</td>\n",
       "      <td>1.0</td>\n",
       "      <td>0.00000</td>\n",
       "      <td>1.000000</td>\n",
       "      <td>1.000000</td>\n",
       "      <td>0.0</td>\n",
       "    </tr>\n",
       "    <tr>\n",
       "      <th>1</th>\n",
       "      <td>0.0</td>\n",
       "      <td>0.997840</td>\n",
       "      <td>1.0</td>\n",
       "      <td>0.187500</td>\n",
       "      <td>0.0</td>\n",
       "      <td>1.0</td>\n",
       "      <td>1.0</td>\n",
       "      <td>0.04878</td>\n",
       "      <td>0.789474</td>\n",
       "      <td>10.631579</td>\n",
       "      <td>1.0</td>\n",
       "    </tr>\n",
       "    <tr>\n",
       "      <th>2</th>\n",
       "      <td>0.0</td>\n",
       "      <td>0.121957</td>\n",
       "      <td>5.0</td>\n",
       "      <td>0.000000</td>\n",
       "      <td>0.0</td>\n",
       "      <td>1.0</td>\n",
       "      <td>11.0</td>\n",
       "      <td>0.00000</td>\n",
       "      <td>0.909091</td>\n",
       "      <td>6.181818</td>\n",
       "      <td>0.0</td>\n",
       "    </tr>\n",
       "    <tr>\n",
       "      <th>3</th>\n",
       "      <td>0.0</td>\n",
       "      <td>1.000000</td>\n",
       "      <td>1.0</td>\n",
       "      <td>0.000000</td>\n",
       "      <td>0.0</td>\n",
       "      <td>1.0</td>\n",
       "      <td>1.0</td>\n",
       "      <td>0.00000</td>\n",
       "      <td>1.000000</td>\n",
       "      <td>1.631579</td>\n",
       "      <td>0.0</td>\n",
       "    </tr>\n",
       "    <tr>\n",
       "      <th>4</th>\n",
       "      <td>0.0</td>\n",
       "      <td>0.940063</td>\n",
       "      <td>3.0</td>\n",
       "      <td>0.000000</td>\n",
       "      <td>0.0</td>\n",
       "      <td>1.0</td>\n",
       "      <td>3.0</td>\n",
       "      <td>0.12500</td>\n",
       "      <td>1.000000</td>\n",
       "      <td>1.000000</td>\n",
       "      <td>1.0</td>\n",
       "    </tr>\n",
       "  </tbody>\n",
       "</table>\n",
       "</div>"
      ],
      "text/plain": [
       "   has_author  jupyter_prop  num_contrib  image_prop  is_education  \\\n",
       "0         0.0      0.714130          1.0    0.142857           0.0   \n",
       "1         0.0      0.997840          1.0    0.187500           0.0   \n",
       "2         0.0      0.121957          5.0    0.000000           0.0   \n",
       "3         0.0      1.000000          1.0    0.000000           0.0   \n",
       "4         0.0      0.940063          3.0    0.000000           0.0   \n",
       "\n",
       "   has_comments  num_commits  non_exec_prop  exec_inorder  exec_skips  \\\n",
       "0           0.0          1.0        0.00000      1.000000    1.000000   \n",
       "1           1.0          1.0        0.04878      0.789474   10.631579   \n",
       "2           1.0         11.0        0.00000      0.909091    6.181818   \n",
       "3           1.0          1.0        0.00000      1.000000    1.631579   \n",
       "4           1.0          3.0        0.12500      1.000000    1.000000   \n",
       "\n",
       "   has_error  \n",
       "0        0.0  \n",
       "1        1.0  \n",
       "2        0.0  \n",
       "3        0.0  \n",
       "4        1.0  "
      ]
     },
     "execution_count": 17,
     "metadata": {},
     "output_type": "execute_result"
    }
   ],
   "source": [
    "# check the no markdown cell group\n",
    "no_md_adjusted.head()"
   ]
  },
  {
   "cell_type": "markdown",
   "metadata": {},
   "source": [
    "## Markdown Cells"
   ]
  },
  {
   "cell_type": "markdown",
   "metadata": {},
   "source": [
    "### Standardizing the Data"
   ]
  },
  {
   "cell_type": "code",
   "execution_count": 18,
   "metadata": {},
   "outputs": [],
   "source": [
    "# normalize all variables\n",
    "md_stand = md_df.loc[:, md_vars].values\n",
    "md_stand = StandardScaler().fit_transform(md_stand)"
   ]
  },
  {
   "cell_type": "code",
   "execution_count": 19,
   "metadata": {},
   "outputs": [
    {
     "name": "stdout",
     "output_type": "stream",
     "text": [
      "7.602639141268273e-17 1.0\n"
     ]
    }
   ],
   "source": [
    "# check that the normalized data has a mean of zero and std of one\n",
    "print(np.mean(md_stand), np.std(md_stand))"
   ]
  },
  {
   "cell_type": "code",
   "execution_count": 20,
   "metadata": {},
   "outputs": [
    {
     "data": {
      "text/html": [
       "<div>\n",
       "<style scoped>\n",
       "    .dataframe tbody tr th:only-of-type {\n",
       "        vertical-align: middle;\n",
       "    }\n",
       "\n",
       "    .dataframe tbody tr th {\n",
       "        vertical-align: top;\n",
       "    }\n",
       "\n",
       "    .dataframe thead th {\n",
       "        text-align: right;\n",
       "    }\n",
       "</style>\n",
       "<table border=\"1\" class=\"dataframe\">\n",
       "  <thead>\n",
       "    <tr style=\"text-align: right;\">\n",
       "      <th></th>\n",
       "      <th>longer_beginning</th>\n",
       "      <th>longer_ending</th>\n",
       "      <th>has_author</th>\n",
       "      <th>has_equation</th>\n",
       "      <th>jupyter_prop</th>\n",
       "      <th>markdown_prop</th>\n",
       "      <th>num_contrib</th>\n",
       "      <th>image_prop</th>\n",
       "      <th>is_education</th>\n",
       "      <th>has_links</th>\n",
       "      <th>has_comments</th>\n",
       "      <th>md_frequency</th>\n",
       "      <th>has_title</th>\n",
       "      <th>num_commits</th>\n",
       "      <th>md_format</th>\n",
       "      <th>non_exec_prop</th>\n",
       "      <th>exec_inorder</th>\n",
       "      <th>exec_skips</th>\n",
       "      <th>has_error</th>\n",
       "    </tr>\n",
       "  </thead>\n",
       "  <tbody>\n",
       "    <tr>\n",
       "      <th>0</th>\n",
       "      <td>0.915797</td>\n",
       "      <td>-0.590961</td>\n",
       "      <td>-0.221343</td>\n",
       "      <td>-0.490296</td>\n",
       "      <td>-1.293088</td>\n",
       "      <td>-1.942050</td>\n",
       "      <td>0.504838</td>\n",
       "      <td>-0.960204</td>\n",
       "      <td>0.856909</td>\n",
       "      <td>1.280391</td>\n",
       "      <td>-2.838192</td>\n",
       "      <td>-1.964232</td>\n",
       "      <td>0.741665</td>\n",
       "      <td>-0.399981</td>\n",
       "      <td>1.082388</td>\n",
       "      <td>-0.410421</td>\n",
       "      <td>0.690767</td>\n",
       "      <td>-0.337021</td>\n",
       "      <td>-0.393367</td>\n",
       "    </tr>\n",
       "    <tr>\n",
       "      <th>1</th>\n",
       "      <td>0.915797</td>\n",
       "      <td>-0.590961</td>\n",
       "      <td>-0.221343</td>\n",
       "      <td>-0.490296</td>\n",
       "      <td>0.570932</td>\n",
       "      <td>-1.286070</td>\n",
       "      <td>-0.201473</td>\n",
       "      <td>-0.960204</td>\n",
       "      <td>0.856909</td>\n",
       "      <td>1.280391</td>\n",
       "      <td>0.352337</td>\n",
       "      <td>-0.934795</td>\n",
       "      <td>-1.348317</td>\n",
       "      <td>-0.056390</td>\n",
       "      <td>1.082388</td>\n",
       "      <td>3.185141</td>\n",
       "      <td>0.690767</td>\n",
       "      <td>-0.487356</td>\n",
       "      <td>-0.393367</td>\n",
       "    </tr>\n",
       "    <tr>\n",
       "      <th>2</th>\n",
       "      <td>0.915797</td>\n",
       "      <td>-0.590961</td>\n",
       "      <td>-0.221343</td>\n",
       "      <td>-0.490296</td>\n",
       "      <td>0.460589</td>\n",
       "      <td>-0.081313</td>\n",
       "      <td>-0.201473</td>\n",
       "      <td>-0.960204</td>\n",
       "      <td>0.856909</td>\n",
       "      <td>1.280391</td>\n",
       "      <td>0.352337</td>\n",
       "      <td>0.183720</td>\n",
       "      <td>0.741665</td>\n",
       "      <td>-0.399981</td>\n",
       "      <td>1.082388</td>\n",
       "      <td>3.286470</td>\n",
       "      <td>0.690767</td>\n",
       "      <td>-0.487356</td>\n",
       "      <td>-0.393367</td>\n",
       "    </tr>\n",
       "    <tr>\n",
       "      <th>3</th>\n",
       "      <td>0.915797</td>\n",
       "      <td>-0.590961</td>\n",
       "      <td>-0.221343</td>\n",
       "      <td>-0.490296</td>\n",
       "      <td>0.570932</td>\n",
       "      <td>0.399542</td>\n",
       "      <td>-0.201473</td>\n",
       "      <td>-0.960204</td>\n",
       "      <td>0.856909</td>\n",
       "      <td>1.280391</td>\n",
       "      <td>0.352337</td>\n",
       "      <td>0.255823</td>\n",
       "      <td>0.741665</td>\n",
       "      <td>-0.399981</td>\n",
       "      <td>-0.923883</td>\n",
       "      <td>-0.410421</td>\n",
       "      <td>0.003778</td>\n",
       "      <td>-0.353150</td>\n",
       "      <td>-0.393367</td>\n",
       "    </tr>\n",
       "    <tr>\n",
       "      <th>4</th>\n",
       "      <td>0.915797</td>\n",
       "      <td>-0.590961</td>\n",
       "      <td>-0.221343</td>\n",
       "      <td>2.039586</td>\n",
       "      <td>0.570932</td>\n",
       "      <td>0.399542</td>\n",
       "      <td>-0.201473</td>\n",
       "      <td>-0.960204</td>\n",
       "      <td>-1.166986</td>\n",
       "      <td>-0.781011</td>\n",
       "      <td>0.352337</td>\n",
       "      <td>-0.210071</td>\n",
       "      <td>-1.348317</td>\n",
       "      <td>-0.399981</td>\n",
       "      <td>-0.923883</td>\n",
       "      <td>-0.410421</td>\n",
       "      <td>0.690767</td>\n",
       "      <td>0.038819</td>\n",
       "      <td>-0.393367</td>\n",
       "    </tr>\n",
       "  </tbody>\n",
       "</table>\n",
       "</div>"
      ],
      "text/plain": [
       "   longer_beginning  longer_ending  has_author  has_equation  jupyter_prop  \\\n",
       "0          0.915797      -0.590961   -0.221343     -0.490296     -1.293088   \n",
       "1          0.915797      -0.590961   -0.221343     -0.490296      0.570932   \n",
       "2          0.915797      -0.590961   -0.221343     -0.490296      0.460589   \n",
       "3          0.915797      -0.590961   -0.221343     -0.490296      0.570932   \n",
       "4          0.915797      -0.590961   -0.221343      2.039586      0.570932   \n",
       "\n",
       "   markdown_prop  num_contrib  image_prop  is_education  has_links  \\\n",
       "0      -1.942050     0.504838   -0.960204      0.856909   1.280391   \n",
       "1      -1.286070    -0.201473   -0.960204      0.856909   1.280391   \n",
       "2      -0.081313    -0.201473   -0.960204      0.856909   1.280391   \n",
       "3       0.399542    -0.201473   -0.960204      0.856909   1.280391   \n",
       "4       0.399542    -0.201473   -0.960204     -1.166986  -0.781011   \n",
       "\n",
       "   has_comments  md_frequency  has_title  num_commits  md_format  \\\n",
       "0     -2.838192     -1.964232   0.741665    -0.399981   1.082388   \n",
       "1      0.352337     -0.934795  -1.348317    -0.056390   1.082388   \n",
       "2      0.352337      0.183720   0.741665    -0.399981   1.082388   \n",
       "3      0.352337      0.255823   0.741665    -0.399981  -0.923883   \n",
       "4      0.352337     -0.210071  -1.348317    -0.399981  -0.923883   \n",
       "\n",
       "   non_exec_prop  exec_inorder  exec_skips  has_error  \n",
       "0      -0.410421      0.690767   -0.337021  -0.393367  \n",
       "1       3.185141      0.690767   -0.487356  -0.393367  \n",
       "2       3.286470      0.690767   -0.487356  -0.393367  \n",
       "3      -0.410421      0.003778   -0.353150  -0.393367  \n",
       "4      -0.410421      0.690767    0.038819  -0.393367  "
      ]
     },
     "execution_count": 20,
     "metadata": {},
     "output_type": "execute_result"
    }
   ],
   "source": [
    "# put the normalized data back into dataframe format\n",
    "md_stand_df = pd.DataFrame(md_stand, columns = md_vars)\n",
    "\n",
    "# initial look at the standardized data\n",
    "md_stand_df.head()"
   ]
  },
  {
   "cell_type": "markdown",
   "metadata": {},
   "source": [
    "### Performing K-Means Clustering"
   ]
  },
  {
   "cell_type": "code",
   "execution_count": 21,
   "metadata": {},
   "outputs": [],
   "source": [
    "# perform k-means with multiple k to find the optimal number of clusters\n",
    "sum_of_squared_distances = []\n",
    "K = range(1, 15)\n",
    "for k in K:\n",
    "    km = KMeans(n_clusters = k)\n",
    "    km = km.fit(md_stand)\n",
    "    sum_of_squared_distances.append(km.inertia_)"
   ]
  },
  {
   "cell_type": "code",
   "execution_count": 22,
   "metadata": {},
   "outputs": [
    {
     "data": {
      "text/plain": [
       "Text(0.5, 1.0, 'Elbow Graph for Optimal k for Markdown Cell Group')"
      ]
     },
     "execution_count": 22,
     "metadata": {},
     "output_type": "execute_result"
    },
    {
     "data": {
      "image/png": "[encoded data removed]",
      "text/plain": [
       "<Figure size 432x288 with 1 Axes>"
      ]
     },
     "metadata": {
      "needs_background": "light"
     },
     "output_type": "display_data"
    }
   ],
   "source": [
    "# plot the elbow graph\n",
    "plt.plot(K, sum_of_squared_distances, 'bx-')\n",
    "plt.xlabel('k')\n",
    "plt.ylabel('sum_of_squared_distances')\n",
    "plt.title('Elbow Graph for Optimal k for Markdown Cell Group')"
   ]
  },
  {
   "cell_type": "markdown",
   "metadata": {},
   "source": [
    "## No Markdown Cells"
   ]
  },
  {
   "cell_type": "markdown",
   "metadata": {},
   "source": [
    "### Standardizing the Data"
   ]
  },
  {
   "cell_type": "code",
   "execution_count": 23,
   "metadata": {},
   "outputs": [],
   "source": [
    "# normalize all variables\n",
    "no_md_stand = no_md_df.loc[:, no_md_vars].values\n",
    "no_md_stand = StandardScaler().fit_transform(no_md_stand)"
   ]
  },
  {
   "cell_type": "code",
   "execution_count": 24,
   "metadata": {
    "scrolled": true
   },
   "outputs": [
    {
     "name": "stdout",
     "output_type": "stream",
     "text": [
      "-3.909057653963651e-17 1.0\n"
     ]
    }
   ],
   "source": [
    "# check that the normalized data has a mean of zero and a std of one\n",
    "print(np.mean(no_md_stand), np.std(no_md_stand))"
   ]
  },
  {
   "cell_type": "code",
   "execution_count": 25,
   "metadata": {},
   "outputs": [
    {
     "data": {
      "text/html": [
       "<div>\n",
       "<style scoped>\n",
       "    .dataframe tbody tr th:only-of-type {\n",
       "        vertical-align: middle;\n",
       "    }\n",
       "\n",
       "    .dataframe tbody tr th {\n",
       "        vertical-align: top;\n",
       "    }\n",
       "\n",
       "    .dataframe thead th {\n",
       "        text-align: right;\n",
       "    }\n",
       "</style>\n",
       "<table border=\"1\" class=\"dataframe\">\n",
       "  <thead>\n",
       "    <tr style=\"text-align: right;\">\n",
       "      <th></th>\n",
       "      <th>has_author</th>\n",
       "      <th>jupyter_prop</th>\n",
       "      <th>num_contrib</th>\n",
       "      <th>image_prop</th>\n",
       "      <th>is_education</th>\n",
       "      <th>has_comments</th>\n",
       "      <th>num_commits</th>\n",
       "      <th>non_exec_prop</th>\n",
       "      <th>exec_inorder</th>\n",
       "      <th>exec_skips</th>\n",
       "      <th>has_error</th>\n",
       "    </tr>\n",
       "  </thead>\n",
       "  <tbody>\n",
       "    <tr>\n",
       "      <th>0</th>\n",
       "      <td>-0.094526</td>\n",
       "      <td>-0.686940</td>\n",
       "      <td>-0.256338</td>\n",
       "      <td>-0.263196</td>\n",
       "      <td>-0.347507</td>\n",
       "      <td>-1.451826</td>\n",
       "      <td>-0.336957</td>\n",
       "      <td>-0.425060</td>\n",
       "      <td>0.525160</td>\n",
       "      <td>-0.371956</td>\n",
       "      <td>-0.435477</td>\n",
       "    </tr>\n",
       "    <tr>\n",
       "      <th>1</th>\n",
       "      <td>-0.094526</td>\n",
       "      <td>0.546025</td>\n",
       "      <td>-0.256338</td>\n",
       "      <td>-0.131354</td>\n",
       "      <td>-0.347507</td>\n",
       "      <td>0.688788</td>\n",
       "      <td>-0.336957</td>\n",
       "      <td>-0.233710</td>\n",
       "      <td>-0.681648</td>\n",
       "      <td>0.365723</td>\n",
       "      <td>2.296334</td>\n",
       "    </tr>\n",
       "    <tr>\n",
       "      <th>2</th>\n",
       "      <td>-0.094526</td>\n",
       "      <td>-3.260437</td>\n",
       "      <td>1.489081</td>\n",
       "      <td>-0.685091</td>\n",
       "      <td>-0.347507</td>\n",
       "      <td>0.688788</td>\n",
       "      <td>6.280101</td>\n",
       "      <td>-0.425060</td>\n",
       "      <td>0.004038</td>\n",
       "      <td>0.024918</td>\n",
       "      <td>-0.435477</td>\n",
       "    </tr>\n",
       "    <tr>\n",
       "      <th>3</th>\n",
       "      <td>-0.094526</td>\n",
       "      <td>0.555410</td>\n",
       "      <td>-0.256338</td>\n",
       "      <td>-0.685091</td>\n",
       "      <td>-0.347507</td>\n",
       "      <td>0.688788</td>\n",
       "      <td>-0.336957</td>\n",
       "      <td>-0.425060</td>\n",
       "      <td>0.525160</td>\n",
       "      <td>-0.323583</td>\n",
       "      <td>-0.435477</td>\n",
       "    </tr>\n",
       "    <tr>\n",
       "      <th>4</th>\n",
       "      <td>-0.094526</td>\n",
       "      <td>0.294933</td>\n",
       "      <td>0.616371</td>\n",
       "      <td>-0.685091</td>\n",
       "      <td>-0.347507</td>\n",
       "      <td>0.688788</td>\n",
       "      <td>0.986454</td>\n",
       "      <td>0.065274</td>\n",
       "      <td>0.525160</td>\n",
       "      <td>-0.371956</td>\n",
       "      <td>2.296334</td>\n",
       "    </tr>\n",
       "  </tbody>\n",
       "</table>\n",
       "</div>"
      ],
      "text/plain": [
       "   has_author  jupyter_prop  num_contrib  image_prop  is_education  \\\n",
       "0   -0.094526     -0.686940    -0.256338   -0.263196     -0.347507   \n",
       "1   -0.094526      0.546025    -0.256338   -0.131354     -0.347507   \n",
       "2   -0.094526     -3.260437     1.489081   -0.685091     -0.347507   \n",
       "3   -0.094526      0.555410    -0.256338   -0.685091     -0.347507   \n",
       "4   -0.094526      0.294933     0.616371   -0.685091     -0.347507   \n",
       "\n",
       "   has_comments  num_commits  non_exec_prop  exec_inorder  exec_skips  \\\n",
       "0     -1.451826    -0.336957      -0.425060      0.525160   -0.371956   \n",
       "1      0.688788    -0.336957      -0.233710     -0.681648    0.365723   \n",
       "2      0.688788     6.280101      -0.425060      0.004038    0.024918   \n",
       "3      0.688788    -0.336957      -0.425060      0.525160   -0.323583   \n",
       "4      0.688788     0.986454       0.065274      0.525160   -0.371956   \n",
       "\n",
       "   has_error  \n",
       "0  -0.435477  \n",
       "1   2.296334  \n",
       "2  -0.435477  \n",
       "3  -0.435477  \n",
       "4   2.296334  "
      ]
     },
     "execution_count": 25,
     "metadata": {},
     "output_type": "execute_result"
    }
   ],
   "source": [
    "# put the normalized features back into dataframe format\n",
    "no_md_stand_df = pd.DataFrame(no_md_stand, columns = no_md_vars)\n",
    "\n",
    "# initial look at the standardized data\n",
    "no_md_stand_df.head()"
   ]
  },
  {
   "cell_type": "markdown",
   "metadata": {},
   "source": [
    "### Performing K-Means Clustering"
   ]
  },
  {
   "cell_type": "code",
   "execution_count": 26,
   "metadata": {},
   "outputs": [],
   "source": [
    "# we perform k-means with multiple k to find the optimal number of clusters\n",
    "sum_of_squared_distances = []\n",
    "K = range(1, 15)\n",
    "for k in K:\n",
    "    km = KMeans(n_clusters = k)\n",
    "    km = km.fit(no_md_stand)\n",
    "    sum_of_squared_distances.append(km.inertia_)"
   ]
  },
  {
   "cell_type": "code",
   "execution_count": 27,
   "metadata": {
    "scrolled": true
   },
   "outputs": [
    {
     "data": {
      "text/plain": [
       "Text(0.5, 1.0, 'Elbow Graph for Optimal k for No Markdown Cell Group')"
      ]
     },
     "execution_count": 27,
     "metadata": {},
     "output_type": "execute_result"
    },
    {
     "data": {
      "image/png": "[encoded data removed]",
      "text/plain": [
       "<Figure size 432x288 with 1 Axes>"
      ]
     },
     "metadata": {
      "needs_background": "light"
     },
     "output_type": "display_data"
    }
   ],
   "source": [
    "# plot the elbow graph\n",
    "plt.plot(K, sum_of_squared_distances, 'bx-')\n",
    "plt.xlabel('k')\n",
    "plt.ylabel('sum_of_squared_distances')\n",
    "plt.title('Elbow Graph for Optimal k for No Markdown Cell Group')"
   ]
  },
  {
   "cell_type": "markdown",
   "metadata": {},
   "source": [
    "# K-Prototypes Clustering"
   ]
  },
  {
   "cell_type": "markdown",
   "metadata": {},
   "source": [
    "## Markdown Cells"
   ]
  },
  {
   "cell_type": "code",
   "execution_count": 28,
   "metadata": {
    "scrolled": true
   },
   "outputs": [
    {
     "data": {
      "text/plain": [
       "[(0, ('longer_beginning', dtype('bool'))),\n",
       " (1, ('longer_ending', dtype('bool'))),\n",
       " (2, ('has_author', dtype('bool'))),\n",
       " (3, ('has_equation', dtype('bool'))),\n",
       " (4, ('jupyter_prop', dtype('float64'))),\n",
       " (5, ('markdown_prop', dtype('float64'))),\n",
       " (6, ('num_contrib', dtype('float64'))),\n",
       " (7, ('image_prop', dtype('float64'))),\n",
       " (8, ('is_education', dtype('bool'))),\n",
       " (9, ('has_links', dtype('bool'))),\n",
       " (10, ('has_comments', dtype('bool'))),\n",
       " (11, ('md_frequency', dtype('float64'))),\n",
       " (12, ('has_title', dtype('bool'))),\n",
       " (13, ('num_commits', dtype('float64'))),\n",
       " (14, ('md_format', dtype('bool'))),\n",
       " (15, ('non_exec_prop', dtype('float64'))),\n",
       " (16, ('exec_inorder', dtype('float64'))),\n",
       " (17, ('exec_skips', dtype('float64'))),\n",
       " (18, ('has_error', dtype('bool')))]"
      ]
     },
     "execution_count": 28,
     "metadata": {},
     "output_type": "execute_result"
    }
   ],
   "source": [
    "# check the datatypes so we know the categorical indexes\n",
    "list(enumerate(zip(list(md_df), md_df.dtypes)))"
   ]
  },
  {
   "cell_type": "code",
   "execution_count": 29,
   "metadata": {},
   "outputs": [
    {
     "name": "stdout",
     "output_type": "stream",
     "text": [
      "clustering with 1 clusters\n",
      "clustering with 2 clusters\n",
      "clustering with 3 clusters\n",
      "clustering with 4 clusters\n"
     ]
    }
   ],
   "source": [
    "# perform k-prototypes clustering with multiple k to find the optimal number of clusters\n",
    "costs_md = []\n",
    "K = range(1, 5)\n",
    "for k in K:\n",
    "    print(\"clustering with \" + str(k) + \" clusters\")\n",
    "    kproto = KPrototypes(n_clusters = k, init = 'Cao', verbose = 0)\n",
    "    clusters = kproto.fit_predict(md_df, categorical = [0, 1, 2, 3, 8, 9, 10, 12, 14, 18])\n",
    "    costs_md.append(kproto.cost_)"
   ]
  },
  {
   "cell_type": "code",
   "execution_count": 30,
   "metadata": {
    "scrolled": true
   },
   "outputs": [
    {
     "data": {
      "image/png": "[encoded data removed]",
      "text/plain": [
       "<Figure size 432x288 with 1 Axes>"
      ]
     },
     "metadata": {
      "needs_background": "light"
     },
     "output_type": "display_data"
    }
   ],
   "source": [
    "# plot the graph to determine the optimal number of clusters\n",
    "plt.plot(K, costs_md, 'bx-')\n",
    "plt.xlabel('k')\n",
    "plt.ylabel('cost')\n",
    "plt.title('Cost Graph for Optimal k for Markdown Cell Group')\n",
    "plt.savefig('figures/4-md-kproto.png')"
   ]
  },
  {
   "cell_type": "code",
   "execution_count": 31,
   "metadata": {},
   "outputs": [
    {
     "name": "stdout",
     "output_type": "stream",
     "text": [
      "[385204.18526386685, 182240.04344039742, 118312.59458522317, 90640.33619310692]\n"
     ]
    }
   ],
   "source": [
    "print(costs_md)"
   ]
  },
  {
   "cell_type": "markdown",
   "metadata": {},
   "source": [
    "The code took a very long time to run on just `[1, 2, 3, 4]` clusters, so we will do more on the remote server."
   ]
  },
  {
   "cell_type": "code",
   "execution_count": 32,
   "metadata": {},
   "outputs": [
    {
     "data": {
      "image/png": "[encoded data removed]",
      "text/plain": [
       "<IPython.core.display.Image object>"
      ]
     },
     "execution_count": 32,
     "metadata": {},
     "output_type": "execute_result"
    }
   ],
   "source": [
    "Image('figures/10-markdown-kproto.png')"
   ]
  },
  {
   "cell_type": "markdown",
   "metadata": {},
   "source": [
    "## No Markdown Cells"
   ]
  },
  {
   "cell_type": "code",
   "execution_count": 33,
   "metadata": {},
   "outputs": [
    {
     "data": {
      "text/plain": [
       "[(0, dtype('bool')),\n",
       " (1, dtype('float64')),\n",
       " (2, dtype('float64')),\n",
       " (3, dtype('float64')),\n",
       " (4, dtype('bool')),\n",
       " (5, dtype('bool')),\n",
       " (6, dtype('float64')),\n",
       " (7, dtype('float64')),\n",
       " (8, dtype('float64')),\n",
       " (9, dtype('float64')),\n",
       " (10, dtype('bool'))]"
      ]
     },
     "execution_count": 33,
     "metadata": {},
     "output_type": "execute_result"
    }
   ],
   "source": [
    "# check datatypes\n",
    "list(enumerate(no_md_df.dtypes))"
   ]
  },
  {
   "cell_type": "code",
   "execution_count": 34,
   "metadata": {},
   "outputs": [
    {
     "name": "stdout",
     "output_type": "stream",
     "text": [
      "clustering with 1 clusters\n",
      "clustering with 2 clusters\n",
      "clustering with 3 clusters\n",
      "clustering with 4 clusters\n"
     ]
    }
   ],
   "source": [
    "# perform k-prototypes clustering with multiple k to find the optimal number of clusters\n",
    "costs_no_md = []\n",
    "K = range(1, 5)\n",
    "for k in K:\n",
    "    print(\"clustering with \" + str(k) + \" clusters\")\n",
    "    kproto = KPrototypes(n_clusters = k, init = 'Cao', verbose = 0)\n",
    "    clusters = kproto.fit_predict(no_md_df, categorical = [0, 4, 5, 10])\n",
    "    costs_no_md.append(kproto.cost_)"
   ]
  },
  {
   "cell_type": "code",
   "execution_count": 35,
   "metadata": {
    "scrolled": false
   },
   "outputs": [
    {
     "data": {
      "image/png": "[encoded data removed]",
      "text/plain": [
       "<Figure size 432x288 with 1 Axes>"
      ]
     },
     "metadata": {
      "needs_background": "light"
     },
     "output_type": "display_data"
    }
   ],
   "source": [
    "# plot the graph to determine the optimal number of clusters\n",
    "plt.plot(K, costs_no_md, 'bx-')\n",
    "plt.xlabel('k')\n",
    "plt.ylabel('cost')\n",
    "plt.title('Cost Graph for Optimal k for No Markdown Cell Group')\n",
    "plt.savefig('figures/4-no-md-kproto.png')"
   ]
  },
  {
   "cell_type": "code",
   "execution_count": 36,
   "metadata": {
    "scrolled": true
   },
   "outputs": [
    {
     "name": "stdout",
     "output_type": "stream",
     "text": [
      "[243733.80215925732, 133482.59109233855, 82105.75379667532, 71097.51113267324]\n"
     ]
    }
   ],
   "source": [
    "print(costs_no_md)"
   ]
  },
  {
   "cell_type": "code",
   "execution_count": 37,
   "metadata": {
    "scrolled": true
   },
   "outputs": [
    {
     "data": {
      "image/png": "[encoded data removed]",
      "text/plain": [
       "<IPython.core.display.Image object>"
      ]
     },
     "execution_count": 37,
     "metadata": {},
     "output_type": "execute_result"
    }
   ],
   "source": [
    "Image('figures/10-no-markdown-kproto.png')"
   ]
  },
  {
   "cell_type": "markdown",
   "metadata": {},
   "source": [
    "# Extracting Clusters "
   ]
  },
  {
   "cell_type": "markdown",
   "metadata": {},
   "source": [
    "## Centroids"
   ]
  },
  {
   "cell_type": "markdown",
   "metadata": {},
   "source": [
    "### Markdown Cells"
   ]
  },
  {
   "cell_type": "code",
   "execution_count": 38,
   "metadata": {},
   "outputs": [],
   "source": [
    "# run the kproto algorithm on the optimal number of clusters\n",
    "md_kproto = KPrototypes(n_clusters = 4, init = 'Cao', verbose = 0)\n",
    "md_clusters = md_kproto.fit_predict(md_df, categorical = [0, 1, 2, 3, 8, 9, 10, 12, 14, 18])"
   ]
  },
  {
   "cell_type": "code",
   "execution_count": 39,
   "metadata": {
    "scrolled": false
   },
   "outputs": [
    {
     "name": "stdout",
     "output_type": "stream",
     "text": [
      "[array([[7.77352673e-01, 3.47192173e-01, 7.85714286e-01, 5.32858560e-01,\n",
      "        5.74201253e-01, 1.78571429e+00, 3.78722329e-02, 7.09818511e-01,\n",
      "        1.06473607e+02],\n",
      "       [8.52051222e-01, 3.99229505e-01, 1.65401540e+00, 2.75839425e-01,\n",
      "        5.87105868e-01, 2.10396040e+00, 1.28159139e-01, 9.51070297e-01,\n",
      "        1.93094173e+00],\n",
      "       [8.49528957e-01, 3.05593794e-01, 1.59405941e+00, 3.79478882e-01,\n",
      "        4.51001238e-01, 3.07920792e+00, 4.29893860e-02, 7.55205682e-01,\n",
      "        3.85268836e+01],\n",
      "       [8.37303179e-01, 3.70987665e-01, 1.17039106e+00, 3.21604823e-01,\n",
      "        5.42829180e-01, 2.22625698e+00, 3.79499596e-02, 8.33913537e-01,\n",
      "        1.27008484e+01]]), array([[False, False, False, False, False, False,  True,  True, False,\n",
      "        False],\n",
      "       [ True, False, False, False,  True, False,  True,  True, False,\n",
      "        False],\n",
      "       [False, False, False, False,  True, False,  True,  True, False,\n",
      "        False],\n",
      "       [False, False, False, False,  True, False,  True,  True, False,\n",
      "        False]])]\n"
     ]
    }
   ],
   "source": [
    "# get the cluster centroids\n",
    "md_cluster_centroids = md_kproto.cluster_centroids_\n",
    "print(md_cluster_centroids)"
   ]
  },
  {
   "cell_type": "markdown",
   "metadata": {},
   "source": [
    "For the four clusters, the data is separated into quantitative and categorical, so we will organize it as such"
   ]
  },
  {
   "cell_type": "code",
   "execution_count": 40,
   "metadata": {},
   "outputs": [],
   "source": [
    "# extract arrays for quantitative and categorical\n",
    "md_quant_centroids = md_cluster_centroids[0]\n",
    "md_cat_centroids = md_cluster_centroids[1]"
   ]
  },
  {
   "cell_type": "code",
   "execution_count": 41,
   "metadata": {},
   "outputs": [
    {
     "data": {
      "text/plain": [
       "[(0, ('longer_beginning', dtype('bool'))),\n",
       " (1, ('longer_ending', dtype('bool'))),\n",
       " (2, ('has_author', dtype('bool'))),\n",
       " (3, ('has_equation', dtype('bool'))),\n",
       " (4, ('jupyter_prop', dtype('float64'))),\n",
       " (5, ('markdown_prop', dtype('float64'))),\n",
       " (6, ('num_contrib', dtype('float64'))),\n",
       " (7, ('image_prop', dtype('float64'))),\n",
       " (8, ('is_education', dtype('bool'))),\n",
       " (9, ('has_links', dtype('bool'))),\n",
       " (10, ('has_comments', dtype('bool'))),\n",
       " (11, ('md_frequency', dtype('float64'))),\n",
       " (12, ('has_title', dtype('bool'))),\n",
       " (13, ('num_commits', dtype('float64'))),\n",
       " (14, ('md_format', dtype('bool'))),\n",
       " (15, ('non_exec_prop', dtype('float64'))),\n",
       " (16, ('exec_inorder', dtype('float64'))),\n",
       " (17, ('exec_skips', dtype('float64'))),\n",
       " (18, ('has_error', dtype('bool')))]"
      ]
     },
     "execution_count": 41,
     "metadata": {},
     "output_type": "execute_result"
    }
   ],
   "source": [
    "# look at the variables so we can separate into quantitative and categorical\n",
    "list(enumerate(zip(md_vars, md_df.dtypes)))"
   ]
  },
  {
   "cell_type": "code",
   "execution_count": 42,
   "metadata": {},
   "outputs": [],
   "source": [
    "# extract quant and cat\n",
    "md_quant_vars = [md_vars[i] for i in [4, 5, 6, 7, 11, 13, 15, 16, 17]]\n",
    "md_cat_vars = [md_vars[i] for i in [0, 1, 2, 3, 8, 9, 10, 12, 14, 18]]"
   ]
  },
  {
   "cell_type": "markdown",
   "metadata": {},
   "source": [
    "We want to extract cluster information into a dataframe"
   ]
  },
  {
   "cell_type": "code",
   "execution_count": 43,
   "metadata": {},
   "outputs": [],
   "source": [
    "# dictionary of information to write to csv\n",
    "md_centroids_cols = {\n",
    "    'cluster': None,\n",
    "    'longer_beginning': None,\n",
    "    'longer_ending': None,\n",
    "    'has_author': None,\n",
    "    'has_equation': None,\n",
    "    'jupyter_prop': None,\n",
    "    'markdown_prop': None,\n",
    "    'num_contrib': None,\n",
    "    'image_prop': None,\n",
    "    'is_education': None,\n",
    "    'has_links': None,\n",
    "    'has_comments': None,\n",
    "    'md_frequency': None,\n",
    "    'has_title': None,\n",
    "    'num_commits': None,\n",
    "    'md_format': None,\n",
    "    'non_exec_prop': None,\n",
    "    'exec_inorder': None,\n",
    "    'exec_skips': None,\n",
    "    'has_error': None\n",
    "}"
   ]
  },
  {
   "cell_type": "code",
   "execution_count": 44,
   "metadata": {},
   "outputs": [],
   "source": [
    "# for each cluster, put the information in the dictionary above\n",
    "md_clusters = [md_centroids_cols.copy() for i in range(4)]\n",
    "for i in range(4):\n",
    "    \n",
    "    # set the cluster number\n",
    "    md_clusters[i]['cluster'] = i + 1\n",
    "    \n",
    "    # get the corresponding centroid data from the arrays\n",
    "    quant_centroid = md_quant_centroids[i]\n",
    "    cat_centroid = md_cat_centroids[i]\n",
    "    \n",
    "    # for each variable, write the data to the dictionary\n",
    "    for (j, var) in enumerate(md_quant_vars):\n",
    "        md_clusters[i][var] = quant_centroid[j]\n",
    "    for (j, var) in enumerate(md_cat_vars):\n",
    "        md_clusters[i][var] = cat_centroid[j]"
   ]
  },
  {
   "cell_type": "code",
   "execution_count": 45,
   "metadata": {
    "scrolled": true
   },
   "outputs": [
    {
     "data": {
      "text/html": [
       "<div>\n",
       "<style scoped>\n",
       "    .dataframe tbody tr th:only-of-type {\n",
       "        vertical-align: middle;\n",
       "    }\n",
       "\n",
       "    .dataframe tbody tr th {\n",
       "        vertical-align: top;\n",
       "    }\n",
       "\n",
       "    .dataframe thead th {\n",
       "        text-align: right;\n",
       "    }\n",
       "</style>\n",
       "<table border=\"1\" class=\"dataframe\">\n",
       "  <thead>\n",
       "    <tr style=\"text-align: right;\">\n",
       "      <th></th>\n",
       "      <th>cluster</th>\n",
       "      <th>longer_beginning</th>\n",
       "      <th>longer_ending</th>\n",
       "      <th>has_author</th>\n",
       "      <th>has_equation</th>\n",
       "      <th>jupyter_prop</th>\n",
       "      <th>markdown_prop</th>\n",
       "      <th>num_contrib</th>\n",
       "      <th>image_prop</th>\n",
       "      <th>is_education</th>\n",
       "      <th>has_links</th>\n",
       "      <th>has_comments</th>\n",
       "      <th>md_frequency</th>\n",
       "      <th>has_title</th>\n",
       "      <th>num_commits</th>\n",
       "      <th>md_format</th>\n",
       "      <th>non_exec_prop</th>\n",
       "      <th>exec_inorder</th>\n",
       "      <th>exec_skips</th>\n",
       "      <th>has_error</th>\n",
       "    </tr>\n",
       "  </thead>\n",
       "  <tbody>\n",
       "    <tr>\n",
       "      <th>0</th>\n",
       "      <td>1</td>\n",
       "      <td>False</td>\n",
       "      <td>False</td>\n",
       "      <td>False</td>\n",
       "      <td>False</td>\n",
       "      <td>0.777353</td>\n",
       "      <td>0.347192</td>\n",
       "      <td>0.785714</td>\n",
       "      <td>0.532859</td>\n",
       "      <td>False</td>\n",
       "      <td>False</td>\n",
       "      <td>True</td>\n",
       "      <td>0.574201</td>\n",
       "      <td>True</td>\n",
       "      <td>1.785714</td>\n",
       "      <td>False</td>\n",
       "      <td>0.037872</td>\n",
       "      <td>0.709819</td>\n",
       "      <td>106.473607</td>\n",
       "      <td>False</td>\n",
       "    </tr>\n",
       "    <tr>\n",
       "      <th>1</th>\n",
       "      <td>2</td>\n",
       "      <td>True</td>\n",
       "      <td>False</td>\n",
       "      <td>False</td>\n",
       "      <td>False</td>\n",
       "      <td>0.852051</td>\n",
       "      <td>0.399230</td>\n",
       "      <td>1.654015</td>\n",
       "      <td>0.275839</td>\n",
       "      <td>True</td>\n",
       "      <td>False</td>\n",
       "      <td>True</td>\n",
       "      <td>0.587106</td>\n",
       "      <td>True</td>\n",
       "      <td>2.103960</td>\n",
       "      <td>False</td>\n",
       "      <td>0.128159</td>\n",
       "      <td>0.951070</td>\n",
       "      <td>1.930942</td>\n",
       "      <td>False</td>\n",
       "    </tr>\n",
       "    <tr>\n",
       "      <th>2</th>\n",
       "      <td>3</td>\n",
       "      <td>False</td>\n",
       "      <td>False</td>\n",
       "      <td>False</td>\n",
       "      <td>False</td>\n",
       "      <td>0.849529</td>\n",
       "      <td>0.305594</td>\n",
       "      <td>1.594059</td>\n",
       "      <td>0.379479</td>\n",
       "      <td>True</td>\n",
       "      <td>False</td>\n",
       "      <td>True</td>\n",
       "      <td>0.451001</td>\n",
       "      <td>True</td>\n",
       "      <td>3.079208</td>\n",
       "      <td>False</td>\n",
       "      <td>0.042989</td>\n",
       "      <td>0.755206</td>\n",
       "      <td>38.526884</td>\n",
       "      <td>False</td>\n",
       "    </tr>\n",
       "    <tr>\n",
       "      <th>3</th>\n",
       "      <td>4</td>\n",
       "      <td>False</td>\n",
       "      <td>False</td>\n",
       "      <td>False</td>\n",
       "      <td>False</td>\n",
       "      <td>0.837303</td>\n",
       "      <td>0.370988</td>\n",
       "      <td>1.170391</td>\n",
       "      <td>0.321605</td>\n",
       "      <td>True</td>\n",
       "      <td>False</td>\n",
       "      <td>True</td>\n",
       "      <td>0.542829</td>\n",
       "      <td>True</td>\n",
       "      <td>2.226257</td>\n",
       "      <td>False</td>\n",
       "      <td>0.037950</td>\n",
       "      <td>0.833914</td>\n",
       "      <td>12.700848</td>\n",
       "      <td>False</td>\n",
       "    </tr>\n",
       "  </tbody>\n",
       "</table>\n",
       "</div>"
      ],
      "text/plain": [
       "   cluster  longer_beginning  longer_ending  has_author  has_equation  \\\n",
       "0        1             False          False       False         False   \n",
       "1        2              True          False       False         False   \n",
       "2        3             False          False       False         False   \n",
       "3        4             False          False       False         False   \n",
       "\n",
       "   jupyter_prop  markdown_prop  num_contrib  image_prop  is_education  \\\n",
       "0      0.777353       0.347192     0.785714    0.532859         False   \n",
       "1      0.852051       0.399230     1.654015    0.275839          True   \n",
       "2      0.849529       0.305594     1.594059    0.379479          True   \n",
       "3      0.837303       0.370988     1.170391    0.321605          True   \n",
       "\n",
       "   has_links  has_comments  md_frequency  has_title  num_commits  md_format  \\\n",
       "0      False          True      0.574201       True     1.785714      False   \n",
       "1      False          True      0.587106       True     2.103960      False   \n",
       "2      False          True      0.451001       True     3.079208      False   \n",
       "3      False          True      0.542829       True     2.226257      False   \n",
       "\n",
       "   non_exec_prop  exec_inorder  exec_skips  has_error  \n",
       "0       0.037872      0.709819  106.473607      False  \n",
       "1       0.128159      0.951070    1.930942      False  \n",
       "2       0.042989      0.755206   38.526884      False  \n",
       "3       0.037950      0.833914   12.700848      False  "
      ]
     },
     "execution_count": 45,
     "metadata": {},
     "output_type": "execute_result"
    }
   ],
   "source": [
    "# write the data to a dataframe\n",
    "md_clusters_df = pd.DataFrame(md_clusters)\n",
    "\n",
    "# initial look at the data\n",
    "md_clusters_df.head()"
   ]
  },
  {
   "cell_type": "markdown",
   "metadata": {},
   "source": [
    "### No Markdown Cells"
   ]
  },
  {
   "cell_type": "code",
   "execution_count": 46,
   "metadata": {},
   "outputs": [],
   "source": [
    "# run kproto algorithm\n",
    "no_md_kproto = KPrototypes(n_clusters = 5, init = 'Cao', verbose = 0)\n",
    "no_md_clusters = no_md_kproto.fit_predict(no_md_df, categorical = [0, 4, 5, 10])"
   ]
  },
  {
   "cell_type": "code",
   "execution_count": 47,
   "metadata": {},
   "outputs": [
    {
     "name": "stdout",
     "output_type": "stream",
     "text": [
      "[array([[8.89855398e-01, 1.50406504e+00, 3.29548007e-01, 1.73170732e+00,\n",
      "        4.99774346e-02, 7.96304582e-01, 9.70019127e+00],\n",
      "       [8.68827705e-01, 1.64257028e+00, 2.04132142e-01, 1.43172691e+00,\n",
      "        1.31112767e-01, 9.50905366e-01, 1.57377461e+00],\n",
      "       [8.76016463e-01, 1.00000000e+00, 2.99050245e-01, 1.93750000e+00,\n",
      "        3.48063395e-02, 6.66877996e-01, 7.29790422e+01],\n",
      "       [8.59947043e-01, 1.33333333e+00, 2.61188730e-01, 1.67708333e+00,\n",
      "        3.50742788e-02, 7.95975908e-01, 2.62446835e+01],\n",
      "       [1.00000000e+00, 1.00000000e+00, 8.62068966e-02, 1.00000000e+00,\n",
      "        2.06185567e-02, 7.87234043e-01, 2.94648936e+02]]), array([[False, False,  True, False],\n",
      "       [False, False,  True, False],\n",
      "       [False, False,  True, False],\n",
      "       [False, False,  True, False],\n",
      "       [False, False,  True,  True]])]\n"
     ]
    }
   ],
   "source": [
    "# get the cluster centroids\n",
    "no_md_cluster_centroids = no_md_kproto.cluster_centroids_\n",
    "print(no_md_cluster_centroids)"
   ]
  },
  {
   "cell_type": "code",
   "execution_count": 48,
   "metadata": {},
   "outputs": [],
   "source": [
    "# extract arrays for quant and cat\n",
    "no_md_quant_centroids = no_md_cluster_centroids[0]\n",
    "no_md_cat_centroids = no_md_cluster_centroids[1]"
   ]
  },
  {
   "cell_type": "code",
   "execution_count": 49,
   "metadata": {},
   "outputs": [
    {
     "data": {
      "text/plain": [
       "[(0, ('has_author', dtype('bool'))),\n",
       " (1, ('jupyter_prop', dtype('float64'))),\n",
       " (2, ('num_contrib', dtype('float64'))),\n",
       " (3, ('image_prop', dtype('float64'))),\n",
       " (4, ('is_education', dtype('bool'))),\n",
       " (5, ('has_comments', dtype('bool'))),\n",
       " (6, ('num_commits', dtype('float64'))),\n",
       " (7, ('non_exec_prop', dtype('float64'))),\n",
       " (8, ('exec_inorder', dtype('float64'))),\n",
       " (9, ('exec_skips', dtype('float64'))),\n",
       " (10, ('has_error', dtype('bool')))]"
      ]
     },
     "execution_count": 49,
     "metadata": {},
     "output_type": "execute_result"
    }
   ],
   "source": [
    "# look at the variables so we can separate\n",
    "list(enumerate(zip(no_md_vars, no_md_df.dtypes)))"
   ]
  },
  {
   "cell_type": "code",
   "execution_count": 50,
   "metadata": {},
   "outputs": [],
   "source": [
    "# extract quant and cat vars\n",
    "no_md_quant_vars = [no_md_vars[i] for i in [1, 2, 3, 6, 7, 8, 9]]\n",
    "no_md_cat_vars = [no_md_vars[i] for i in [0, 4, 5, 10]]"
   ]
  },
  {
   "cell_type": "code",
   "execution_count": 51,
   "metadata": {},
   "outputs": [],
   "source": [
    "# dictionary of information to write to csv\n",
    "no_md_centroid_cols = {\n",
    "    'cluster': None,\n",
    "    'has_author': None,\n",
    "    'jupyter_prop': None,\n",
    "    'num_contrib': None,\n",
    "    'image_prop': None,\n",
    "    'is_education': None,\n",
    "    'has_comments': None,\n",
    "    'num_commits': None,\n",
    "    'non_exec_prop': None,\n",
    "    'exec_inorder': None,\n",
    "    'exec_skips': None,\n",
    "    'has_error': None\n",
    "}"
   ]
  },
  {
   "cell_type": "code",
   "execution_count": 52,
   "metadata": {},
   "outputs": [],
   "source": [
    "# for each cluster, put information into dict\n",
    "no_md_clusters = [no_md_centroid_cols.copy() for i in range(5)]\n",
    "for i in range(5):\n",
    "    \n",
    "    # set the cluster number\n",
    "    no_md_clusters[i]['cluster'] = i + 1\n",
    "    \n",
    "    # get corresponding centroid data\n",
    "    quant_centroid = no_md_quant_centroids[i]\n",
    "    cat_centroid = no_md_cat_centroids[i]\n",
    "    \n",
    "    # for each variable, write data to dict\n",
    "    for (j, var) in enumerate(no_md_quant_vars):\n",
    "        no_md_clusters[i][var] = quant_centroid[j]\n",
    "    for (j, var) in enumerate(no_md_cat_vars):\n",
    "        no_md_clusters[i][var] = cat_centroid[j]"
   ]
  },
  {
   "cell_type": "code",
   "execution_count": 53,
   "metadata": {
    "scrolled": true
   },
   "outputs": [
    {
     "data": {
      "text/html": [
       "<div>\n",
       "<style scoped>\n",
       "    .dataframe tbody tr th:only-of-type {\n",
       "        vertical-align: middle;\n",
       "    }\n",
       "\n",
       "    .dataframe tbody tr th {\n",
       "        vertical-align: top;\n",
       "    }\n",
       "\n",
       "    .dataframe thead th {\n",
       "        text-align: right;\n",
       "    }\n",
       "</style>\n",
       "<table border=\"1\" class=\"dataframe\">\n",
       "  <thead>\n",
       "    <tr style=\"text-align: right;\">\n",
       "      <th></th>\n",
       "      <th>cluster</th>\n",
       "      <th>has_author</th>\n",
       "      <th>jupyter_prop</th>\n",
       "      <th>num_contrib</th>\n",
       "      <th>image_prop</th>\n",
       "      <th>is_education</th>\n",
       "      <th>has_comments</th>\n",
       "      <th>num_commits</th>\n",
       "      <th>non_exec_prop</th>\n",
       "      <th>exec_inorder</th>\n",
       "      <th>exec_skips</th>\n",
       "      <th>has_error</th>\n",
       "    </tr>\n",
       "  </thead>\n",
       "  <tbody>\n",
       "    <tr>\n",
       "      <th>0</th>\n",
       "      <td>1</td>\n",
       "      <td>False</td>\n",
       "      <td>0.889855</td>\n",
       "      <td>1.504065</td>\n",
       "      <td>0.329548</td>\n",
       "      <td>False</td>\n",
       "      <td>True</td>\n",
       "      <td>1.731707</td>\n",
       "      <td>0.049977</td>\n",
       "      <td>0.796305</td>\n",
       "      <td>9.700191</td>\n",
       "      <td>False</td>\n",
       "    </tr>\n",
       "    <tr>\n",
       "      <th>1</th>\n",
       "      <td>2</td>\n",
       "      <td>False</td>\n",
       "      <td>0.868828</td>\n",
       "      <td>1.642570</td>\n",
       "      <td>0.204132</td>\n",
       "      <td>False</td>\n",
       "      <td>True</td>\n",
       "      <td>1.431727</td>\n",
       "      <td>0.131113</td>\n",
       "      <td>0.950905</td>\n",
       "      <td>1.573775</td>\n",
       "      <td>False</td>\n",
       "    </tr>\n",
       "    <tr>\n",
       "      <th>2</th>\n",
       "      <td>3</td>\n",
       "      <td>False</td>\n",
       "      <td>0.876016</td>\n",
       "      <td>1.000000</td>\n",
       "      <td>0.299050</td>\n",
       "      <td>False</td>\n",
       "      <td>True</td>\n",
       "      <td>1.937500</td>\n",
       "      <td>0.034806</td>\n",
       "      <td>0.666878</td>\n",
       "      <td>72.979042</td>\n",
       "      <td>False</td>\n",
       "    </tr>\n",
       "    <tr>\n",
       "      <th>3</th>\n",
       "      <td>4</td>\n",
       "      <td>False</td>\n",
       "      <td>0.859947</td>\n",
       "      <td>1.333333</td>\n",
       "      <td>0.261189</td>\n",
       "      <td>False</td>\n",
       "      <td>True</td>\n",
       "      <td>1.677083</td>\n",
       "      <td>0.035074</td>\n",
       "      <td>0.795976</td>\n",
       "      <td>26.244684</td>\n",
       "      <td>False</td>\n",
       "    </tr>\n",
       "    <tr>\n",
       "      <th>4</th>\n",
       "      <td>5</td>\n",
       "      <td>False</td>\n",
       "      <td>1.000000</td>\n",
       "      <td>1.000000</td>\n",
       "      <td>0.086207</td>\n",
       "      <td>False</td>\n",
       "      <td>True</td>\n",
       "      <td>1.000000</td>\n",
       "      <td>0.020619</td>\n",
       "      <td>0.787234</td>\n",
       "      <td>294.648936</td>\n",
       "      <td>True</td>\n",
       "    </tr>\n",
       "  </tbody>\n",
       "</table>\n",
       "</div>"
      ],
      "text/plain": [
       "   cluster  has_author  jupyter_prop  num_contrib  image_prop  is_education  \\\n",
       "0        1       False      0.889855     1.504065    0.329548         False   \n",
       "1        2       False      0.868828     1.642570    0.204132         False   \n",
       "2        3       False      0.876016     1.000000    0.299050         False   \n",
       "3        4       False      0.859947     1.333333    0.261189         False   \n",
       "4        5       False      1.000000     1.000000    0.086207         False   \n",
       "\n",
       "   has_comments  num_commits  non_exec_prop  exec_inorder  exec_skips  \\\n",
       "0          True     1.731707       0.049977      0.796305    9.700191   \n",
       "1          True     1.431727       0.131113      0.950905    1.573775   \n",
       "2          True     1.937500       0.034806      0.666878   72.979042   \n",
       "3          True     1.677083       0.035074      0.795976   26.244684   \n",
       "4          True     1.000000       0.020619      0.787234  294.648936   \n",
       "\n",
       "   has_error  \n",
       "0      False  \n",
       "1      False  \n",
       "2      False  \n",
       "3      False  \n",
       "4       True  "
      ]
     },
     "execution_count": 53,
     "metadata": {},
     "output_type": "execute_result"
    }
   ],
   "source": [
    "# write data to dataframe\n",
    "no_md_clusters_df = pd.DataFrame(no_md_clusters)\n",
    "\n",
    "# initial look at the data\n",
    "no_md_clusters_df.head()"
   ]
  },
  {
   "cell_type": "markdown",
   "metadata": {},
   "source": [
    "## Notebook Labels\n",
    "\n",
    "We want to create a dataframe (then output to csv) each notebook with its corresponding cluster"
   ]
  },
  {
   "cell_type": "markdown",
   "metadata": {},
   "source": [
    "### Markdown Cells"
   ]
  },
  {
   "cell_type": "code",
   "execution_count": 54,
   "metadata": {},
   "outputs": [],
   "source": [
    "# get the labels from the algorithm result\n",
    "md_labels = md_kproto.labels_"
   ]
  },
  {
   "cell_type": "code",
   "execution_count": 55,
   "metadata": {},
   "outputs": [
    {
     "data": {
      "text/html": [
       "<div>\n",
       "<style scoped>\n",
       "    .dataframe tbody tr th:only-of-type {\n",
       "        vertical-align: middle;\n",
       "    }\n",
       "\n",
       "    .dataframe tbody tr th {\n",
       "        vertical-align: top;\n",
       "    }\n",
       "\n",
       "    .dataframe thead th {\n",
       "        text-align: right;\n",
       "    }\n",
       "</style>\n",
       "<table border=\"1\" class=\"dataframe\">\n",
       "  <thead>\n",
       "    <tr style=\"text-align: right;\">\n",
       "      <th></th>\n",
       "      <th>nb_id</th>\n",
       "      <th>longer_beginning</th>\n",
       "      <th>longer_ending</th>\n",
       "      <th>has_author</th>\n",
       "      <th>has_equation</th>\n",
       "      <th>jupyter_prop</th>\n",
       "      <th>markdown_prop</th>\n",
       "      <th>num_contrib</th>\n",
       "      <th>image_prop</th>\n",
       "      <th>is_education</th>\n",
       "      <th>has_links</th>\n",
       "      <th>has_comments</th>\n",
       "      <th>md_frequency</th>\n",
       "      <th>has_title</th>\n",
       "      <th>num_commits</th>\n",
       "      <th>md_format</th>\n",
       "      <th>non_exec_prop</th>\n",
       "      <th>exec_inorder</th>\n",
       "      <th>exec_skips</th>\n",
       "      <th>has_error</th>\n",
       "    </tr>\n",
       "  </thead>\n",
       "  <tbody>\n",
       "    <tr>\n",
       "      <th>0</th>\n",
       "      <td>594</td>\n",
       "      <td>True</td>\n",
       "      <td>False</td>\n",
       "      <td>False</td>\n",
       "      <td>False</td>\n",
       "      <td>0.507588</td>\n",
       "      <td>0.044444</td>\n",
       "      <td>3.0</td>\n",
       "      <td>0.0</td>\n",
       "      <td>True</td>\n",
       "      <td>True</td>\n",
       "      <td>False</td>\n",
       "      <td>0.068182</td>\n",
       "      <td>True</td>\n",
       "      <td>1.0</td>\n",
       "      <td>True</td>\n",
       "      <td>0.000000</td>\n",
       "      <td>1.000000</td>\n",
       "      <td>1.809524</td>\n",
       "      <td>False</td>\n",
       "    </tr>\n",
       "    <tr>\n",
       "      <th>1</th>\n",
       "      <td>1222</td>\n",
       "      <td>True</td>\n",
       "      <td>False</td>\n",
       "      <td>False</td>\n",
       "      <td>False</td>\n",
       "      <td>1.000000</td>\n",
       "      <td>0.161290</td>\n",
       "      <td>1.0</td>\n",
       "      <td>0.0</td>\n",
       "      <td>True</td>\n",
       "      <td>True</td>\n",
       "      <td>True</td>\n",
       "      <td>0.333333</td>\n",
       "      <td>False</td>\n",
       "      <td>2.0</td>\n",
       "      <td>True</td>\n",
       "      <td>0.961538</td>\n",
       "      <td>1.000000</td>\n",
       "      <td>0.000000</td>\n",
       "      <td>False</td>\n",
       "    </tr>\n",
       "    <tr>\n",
       "      <th>2</th>\n",
       "      <td>1447</td>\n",
       "      <td>True</td>\n",
       "      <td>False</td>\n",
       "      <td>False</td>\n",
       "      <td>False</td>\n",
       "      <td>0.970851</td>\n",
       "      <td>0.375887</td>\n",
       "      <td>1.0</td>\n",
       "      <td>0.0</td>\n",
       "      <td>True</td>\n",
       "      <td>True</td>\n",
       "      <td>True</td>\n",
       "      <td>0.621429</td>\n",
       "      <td>True</td>\n",
       "      <td>1.0</td>\n",
       "      <td>True</td>\n",
       "      <td>0.988636</td>\n",
       "      <td>1.000000</td>\n",
       "      <td>0.000000</td>\n",
       "      <td>False</td>\n",
       "    </tr>\n",
       "    <tr>\n",
       "      <th>3</th>\n",
       "      <td>2705</td>\n",
       "      <td>True</td>\n",
       "      <td>False</td>\n",
       "      <td>False</td>\n",
       "      <td>False</td>\n",
       "      <td>1.000000</td>\n",
       "      <td>0.461538</td>\n",
       "      <td>1.0</td>\n",
       "      <td>0.0</td>\n",
       "      <td>True</td>\n",
       "      <td>True</td>\n",
       "      <td>True</td>\n",
       "      <td>0.640000</td>\n",
       "      <td>True</td>\n",
       "      <td>1.0</td>\n",
       "      <td>False</td>\n",
       "      <td>0.000000</td>\n",
       "      <td>0.923077</td>\n",
       "      <td>1.615385</td>\n",
       "      <td>False</td>\n",
       "    </tr>\n",
       "    <tr>\n",
       "      <th>4</th>\n",
       "      <td>2861</td>\n",
       "      <td>True</td>\n",
       "      <td>False</td>\n",
       "      <td>False</td>\n",
       "      <td>True</td>\n",
       "      <td>1.000000</td>\n",
       "      <td>0.461538</td>\n",
       "      <td>1.0</td>\n",
       "      <td>0.0</td>\n",
       "      <td>False</td>\n",
       "      <td>False</td>\n",
       "      <td>True</td>\n",
       "      <td>0.520000</td>\n",
       "      <td>False</td>\n",
       "      <td>1.0</td>\n",
       "      <td>False</td>\n",
       "      <td>0.000000</td>\n",
       "      <td>1.000000</td>\n",
       "      <td>6.333333</td>\n",
       "      <td>False</td>\n",
       "    </tr>\n",
       "  </tbody>\n",
       "</table>\n",
       "</div>"
      ],
      "text/plain": [
       "   nb_id  longer_beginning  longer_ending  has_author  has_equation  \\\n",
       "0    594              True          False       False         False   \n",
       "1   1222              True          False       False         False   \n",
       "2   1447              True          False       False         False   \n",
       "3   2705              True          False       False         False   \n",
       "4   2861              True          False       False          True   \n",
       "\n",
       "   jupyter_prop  markdown_prop  num_contrib  image_prop  is_education  \\\n",
       "0      0.507588       0.044444          3.0         0.0          True   \n",
       "1      1.000000       0.161290          1.0         0.0          True   \n",
       "2      0.970851       0.375887          1.0         0.0          True   \n",
       "3      1.000000       0.461538          1.0         0.0          True   \n",
       "4      1.000000       0.461538          1.0         0.0         False   \n",
       "\n",
       "   has_links  has_comments  md_frequency  has_title  num_commits  md_format  \\\n",
       "0       True         False      0.068182       True          1.0       True   \n",
       "1       True          True      0.333333      False          2.0       True   \n",
       "2       True          True      0.621429       True          1.0       True   \n",
       "3       True          True      0.640000       True          1.0      False   \n",
       "4      False          True      0.520000      False          1.0      False   \n",
       "\n",
       "   non_exec_prop  exec_inorder  exec_skips  has_error  \n",
       "0       0.000000      1.000000    1.809524      False  \n",
       "1       0.961538      1.000000    0.000000      False  \n",
       "2       0.988636      1.000000    0.000000      False  \n",
       "3       0.000000      0.923077    1.615385      False  \n",
       "4       0.000000      1.000000    6.333333      False  "
      ]
     },
     "execution_count": 55,
     "metadata": {},
     "output_type": "execute_result"
    }
   ],
   "source": [
    "# get the original dataframe and drop the first column\n",
    "md_labels_df = md_original.copy().drop(['Unnamed: 0'], axis = 1)\n",
    "\n",
    "# check the dataframe\n",
    "md_labels_df.head()"
   ]
  },
  {
   "cell_type": "code",
   "execution_count": 56,
   "metadata": {},
   "outputs": [],
   "source": [
    "# add a column to the dataframe with the labels\n",
    "md_labels_df['cluster'] = md_labels.tolist()"
   ]
  },
  {
   "cell_type": "code",
   "execution_count": 57,
   "metadata": {
    "scrolled": true
   },
   "outputs": [
    {
     "data": {
      "text/html": [
       "<div>\n",
       "<style scoped>\n",
       "    .dataframe tbody tr th:only-of-type {\n",
       "        vertical-align: middle;\n",
       "    }\n",
       "\n",
       "    .dataframe tbody tr th {\n",
       "        vertical-align: top;\n",
       "    }\n",
       "\n",
       "    .dataframe thead th {\n",
       "        text-align: right;\n",
       "    }\n",
       "</style>\n",
       "<table border=\"1\" class=\"dataframe\">\n",
       "  <thead>\n",
       "    <tr style=\"text-align: right;\">\n",
       "      <th></th>\n",
       "      <th>nb_id</th>\n",
       "      <th>longer_beginning</th>\n",
       "      <th>longer_ending</th>\n",
       "      <th>has_author</th>\n",
       "      <th>has_equation</th>\n",
       "      <th>jupyter_prop</th>\n",
       "      <th>markdown_prop</th>\n",
       "      <th>num_contrib</th>\n",
       "      <th>image_prop</th>\n",
       "      <th>is_education</th>\n",
       "      <th>...</th>\n",
       "      <th>has_comments</th>\n",
       "      <th>md_frequency</th>\n",
       "      <th>has_title</th>\n",
       "      <th>num_commits</th>\n",
       "      <th>md_format</th>\n",
       "      <th>non_exec_prop</th>\n",
       "      <th>exec_inorder</th>\n",
       "      <th>exec_skips</th>\n",
       "      <th>has_error</th>\n",
       "      <th>cluster</th>\n",
       "    </tr>\n",
       "  </thead>\n",
       "  <tbody>\n",
       "    <tr>\n",
       "      <th>0</th>\n",
       "      <td>594</td>\n",
       "      <td>True</td>\n",
       "      <td>False</td>\n",
       "      <td>False</td>\n",
       "      <td>False</td>\n",
       "      <td>0.507588</td>\n",
       "      <td>0.044444</td>\n",
       "      <td>3.0</td>\n",
       "      <td>0.0</td>\n",
       "      <td>True</td>\n",
       "      <td>...</td>\n",
       "      <td>False</td>\n",
       "      <td>0.068182</td>\n",
       "      <td>True</td>\n",
       "      <td>1.0</td>\n",
       "      <td>True</td>\n",
       "      <td>0.000000</td>\n",
       "      <td>1.000000</td>\n",
       "      <td>1.809524</td>\n",
       "      <td>False</td>\n",
       "      <td>1</td>\n",
       "    </tr>\n",
       "    <tr>\n",
       "      <th>1</th>\n",
       "      <td>1222</td>\n",
       "      <td>True</td>\n",
       "      <td>False</td>\n",
       "      <td>False</td>\n",
       "      <td>False</td>\n",
       "      <td>1.000000</td>\n",
       "      <td>0.161290</td>\n",
       "      <td>1.0</td>\n",
       "      <td>0.0</td>\n",
       "      <td>True</td>\n",
       "      <td>...</td>\n",
       "      <td>True</td>\n",
       "      <td>0.333333</td>\n",
       "      <td>False</td>\n",
       "      <td>2.0</td>\n",
       "      <td>True</td>\n",
       "      <td>0.961538</td>\n",
       "      <td>1.000000</td>\n",
       "      <td>0.000000</td>\n",
       "      <td>False</td>\n",
       "      <td>1</td>\n",
       "    </tr>\n",
       "    <tr>\n",
       "      <th>2</th>\n",
       "      <td>1447</td>\n",
       "      <td>True</td>\n",
       "      <td>False</td>\n",
       "      <td>False</td>\n",
       "      <td>False</td>\n",
       "      <td>0.970851</td>\n",
       "      <td>0.375887</td>\n",
       "      <td>1.0</td>\n",
       "      <td>0.0</td>\n",
       "      <td>True</td>\n",
       "      <td>...</td>\n",
       "      <td>True</td>\n",
       "      <td>0.621429</td>\n",
       "      <td>True</td>\n",
       "      <td>1.0</td>\n",
       "      <td>True</td>\n",
       "      <td>0.988636</td>\n",
       "      <td>1.000000</td>\n",
       "      <td>0.000000</td>\n",
       "      <td>False</td>\n",
       "      <td>1</td>\n",
       "    </tr>\n",
       "    <tr>\n",
       "      <th>3</th>\n",
       "      <td>2705</td>\n",
       "      <td>True</td>\n",
       "      <td>False</td>\n",
       "      <td>False</td>\n",
       "      <td>False</td>\n",
       "      <td>1.000000</td>\n",
       "      <td>0.461538</td>\n",
       "      <td>1.0</td>\n",
       "      <td>0.0</td>\n",
       "      <td>True</td>\n",
       "      <td>...</td>\n",
       "      <td>True</td>\n",
       "      <td>0.640000</td>\n",
       "      <td>True</td>\n",
       "      <td>1.0</td>\n",
       "      <td>False</td>\n",
       "      <td>0.000000</td>\n",
       "      <td>0.923077</td>\n",
       "      <td>1.615385</td>\n",
       "      <td>False</td>\n",
       "      <td>1</td>\n",
       "    </tr>\n",
       "    <tr>\n",
       "      <th>4</th>\n",
       "      <td>2861</td>\n",
       "      <td>True</td>\n",
       "      <td>False</td>\n",
       "      <td>False</td>\n",
       "      <td>True</td>\n",
       "      <td>1.000000</td>\n",
       "      <td>0.461538</td>\n",
       "      <td>1.0</td>\n",
       "      <td>0.0</td>\n",
       "      <td>False</td>\n",
       "      <td>...</td>\n",
       "      <td>True</td>\n",
       "      <td>0.520000</td>\n",
       "      <td>False</td>\n",
       "      <td>1.0</td>\n",
       "      <td>False</td>\n",
       "      <td>0.000000</td>\n",
       "      <td>1.000000</td>\n",
       "      <td>6.333333</td>\n",
       "      <td>False</td>\n",
       "      <td>1</td>\n",
       "    </tr>\n",
       "  </tbody>\n",
       "</table>\n",
       "<p>5 rows × 21 columns</p>\n",
       "</div>"
      ],
      "text/plain": [
       "   nb_id  longer_beginning  longer_ending  has_author  has_equation  \\\n",
       "0    594              True          False       False         False   \n",
       "1   1222              True          False       False         False   \n",
       "2   1447              True          False       False         False   \n",
       "3   2705              True          False       False         False   \n",
       "4   2861              True          False       False          True   \n",
       "\n",
       "   jupyter_prop  markdown_prop  num_contrib  image_prop  is_education  ...  \\\n",
       "0      0.507588       0.044444          3.0         0.0          True  ...   \n",
       "1      1.000000       0.161290          1.0         0.0          True  ...   \n",
       "2      0.970851       0.375887          1.0         0.0          True  ...   \n",
       "3      1.000000       0.461538          1.0         0.0          True  ...   \n",
       "4      1.000000       0.461538          1.0         0.0         False  ...   \n",
       "\n",
       "   has_comments  md_frequency  has_title  num_commits  md_format  \\\n",
       "0         False      0.068182       True          1.0       True   \n",
       "1          True      0.333333      False          2.0       True   \n",
       "2          True      0.621429       True          1.0       True   \n",
       "3          True      0.640000       True          1.0      False   \n",
       "4          True      0.520000      False          1.0      False   \n",
       "\n",
       "   non_exec_prop  exec_inorder  exec_skips  has_error  cluster  \n",
       "0       0.000000      1.000000    1.809524      False        1  \n",
       "1       0.961538      1.000000    0.000000      False        1  \n",
       "2       0.988636      1.000000    0.000000      False        1  \n",
       "3       0.000000      0.923077    1.615385      False        1  \n",
       "4       0.000000      1.000000    6.333333      False        1  \n",
       "\n",
       "[5 rows x 21 columns]"
      ]
     },
     "execution_count": 57,
     "metadata": {},
     "output_type": "execute_result"
    }
   ],
   "source": [
    "# initial look at the data\n",
    "md_labels_df.head()"
   ]
  },
  {
   "cell_type": "code",
   "execution_count": 58,
   "metadata": {
    "scrolled": false
   },
   "outputs": [
    {
     "data": {
      "text/plain": [
       "1    1818\n",
       "3     358\n",
       "2     101\n",
       "0      14\n",
       "Name: cluster, dtype: int64"
      ]
     },
     "execution_count": 58,
     "metadata": {},
     "output_type": "execute_result"
    }
   ],
   "source": [
    "# look at value counts for each cluster\n",
    "md_labels_df['cluster'].value_counts()"
   ]
  },
  {
   "cell_type": "code",
   "execution_count": 59,
   "metadata": {},
   "outputs": [],
   "source": [
    "# extract labels to a csv\n",
    "md_labels_df.to_csv('cluster-data/markdown_group_clusters.csv')"
   ]
  },
  {
   "cell_type": "markdown",
   "metadata": {},
   "source": [
    "### No Markdown Cells"
   ]
  },
  {
   "cell_type": "code",
   "execution_count": 60,
   "metadata": {},
   "outputs": [],
   "source": [
    "# get labels from alg result\n",
    "no_md_labels = no_md_kproto.labels_"
   ]
  },
  {
   "cell_type": "code",
   "execution_count": 61,
   "metadata": {},
   "outputs": [
    {
     "data": {
      "text/html": [
       "<div>\n",
       "<style scoped>\n",
       "    .dataframe tbody tr th:only-of-type {\n",
       "        vertical-align: middle;\n",
       "    }\n",
       "\n",
       "    .dataframe tbody tr th {\n",
       "        vertical-align: top;\n",
       "    }\n",
       "\n",
       "    .dataframe thead th {\n",
       "        text-align: right;\n",
       "    }\n",
       "</style>\n",
       "<table border=\"1\" class=\"dataframe\">\n",
       "  <thead>\n",
       "    <tr style=\"text-align: right;\">\n",
       "      <th></th>\n",
       "      <th>nb_id</th>\n",
       "      <th>has_author</th>\n",
       "      <th>jupyter_prop</th>\n",
       "      <th>num_contrib</th>\n",
       "      <th>image_prop</th>\n",
       "      <th>is_education</th>\n",
       "      <th>has_comments</th>\n",
       "      <th>num_commits</th>\n",
       "      <th>non_exec_prop</th>\n",
       "      <th>exec_inorder</th>\n",
       "      <th>exec_skips</th>\n",
       "      <th>has_error</th>\n",
       "    </tr>\n",
       "  </thead>\n",
       "  <tbody>\n",
       "    <tr>\n",
       "      <th>0</th>\n",
       "      <td>1589</td>\n",
       "      <td>False</td>\n",
       "      <td>0.714130</td>\n",
       "      <td>1.0</td>\n",
       "      <td>0.142857</td>\n",
       "      <td>False</td>\n",
       "      <td>False</td>\n",
       "      <td>1.0</td>\n",
       "      <td>0.00000</td>\n",
       "      <td>1.000000</td>\n",
       "      <td>1.000000</td>\n",
       "      <td>False</td>\n",
       "    </tr>\n",
       "    <tr>\n",
       "      <th>1</th>\n",
       "      <td>1919</td>\n",
       "      <td>False</td>\n",
       "      <td>0.997840</td>\n",
       "      <td>1.0</td>\n",
       "      <td>0.187500</td>\n",
       "      <td>False</td>\n",
       "      <td>True</td>\n",
       "      <td>1.0</td>\n",
       "      <td>0.04878</td>\n",
       "      <td>0.789474</td>\n",
       "      <td>10.631579</td>\n",
       "      <td>True</td>\n",
       "    </tr>\n",
       "    <tr>\n",
       "      <th>2</th>\n",
       "      <td>2857</td>\n",
       "      <td>False</td>\n",
       "      <td>0.121957</td>\n",
       "      <td>5.0</td>\n",
       "      <td>0.000000</td>\n",
       "      <td>False</td>\n",
       "      <td>True</td>\n",
       "      <td>11.0</td>\n",
       "      <td>0.00000</td>\n",
       "      <td>0.909091</td>\n",
       "      <td>6.181818</td>\n",
       "      <td>False</td>\n",
       "    </tr>\n",
       "    <tr>\n",
       "      <th>3</th>\n",
       "      <td>4339</td>\n",
       "      <td>False</td>\n",
       "      <td>1.000000</td>\n",
       "      <td>1.0</td>\n",
       "      <td>0.000000</td>\n",
       "      <td>False</td>\n",
       "      <td>True</td>\n",
       "      <td>1.0</td>\n",
       "      <td>0.00000</td>\n",
       "      <td>1.000000</td>\n",
       "      <td>1.631579</td>\n",
       "      <td>False</td>\n",
       "    </tr>\n",
       "    <tr>\n",
       "      <th>4</th>\n",
       "      <td>4659</td>\n",
       "      <td>False</td>\n",
       "      <td>0.940063</td>\n",
       "      <td>3.0</td>\n",
       "      <td>0.000000</td>\n",
       "      <td>False</td>\n",
       "      <td>True</td>\n",
       "      <td>3.0</td>\n",
       "      <td>0.12500</td>\n",
       "      <td>1.000000</td>\n",
       "      <td>1.000000</td>\n",
       "      <td>True</td>\n",
       "    </tr>\n",
       "  </tbody>\n",
       "</table>\n",
       "</div>"
      ],
      "text/plain": [
       "   nb_id  has_author  jupyter_prop  num_contrib  image_prop  is_education  \\\n",
       "0   1589       False      0.714130          1.0    0.142857         False   \n",
       "1   1919       False      0.997840          1.0    0.187500         False   \n",
       "2   2857       False      0.121957          5.0    0.000000         False   \n",
       "3   4339       False      1.000000          1.0    0.000000         False   \n",
       "4   4659       False      0.940063          3.0    0.000000         False   \n",
       "\n",
       "   has_comments  num_commits  non_exec_prop  exec_inorder  exec_skips  \\\n",
       "0         False          1.0        0.00000      1.000000    1.000000   \n",
       "1          True          1.0        0.04878      0.789474   10.631579   \n",
       "2          True         11.0        0.00000      0.909091    6.181818   \n",
       "3          True          1.0        0.00000      1.000000    1.631579   \n",
       "4          True          3.0        0.12500      1.000000    1.000000   \n",
       "\n",
       "   has_error  \n",
       "0      False  \n",
       "1       True  \n",
       "2      False  \n",
       "3      False  \n",
       "4       True  "
      ]
     },
     "execution_count": 61,
     "metadata": {},
     "output_type": "execute_result"
    }
   ],
   "source": [
    "# get original dataframe and drop first column\n",
    "no_md_labels_df = no_md_original.copy().drop(['Unnamed: 0'], axis = 1)\n",
    "\n",
    "# check the dataframe\n",
    "no_md_labels_df.head()"
   ]
  },
  {
   "cell_type": "code",
   "execution_count": 62,
   "metadata": {},
   "outputs": [],
   "source": [
    "# add a column to hold the labels\n",
    "no_md_labels_df['cluster'] = no_md_labels.tolist()"
   ]
  },
  {
   "cell_type": "code",
   "execution_count": 63,
   "metadata": {},
   "outputs": [
    {
     "data": {
      "text/html": [
       "<div>\n",
       "<style scoped>\n",
       "    .dataframe tbody tr th:only-of-type {\n",
       "        vertical-align: middle;\n",
       "    }\n",
       "\n",
       "    .dataframe tbody tr th {\n",
       "        vertical-align: top;\n",
       "    }\n",
       "\n",
       "    .dataframe thead th {\n",
       "        text-align: right;\n",
       "    }\n",
       "</style>\n",
       "<table border=\"1\" class=\"dataframe\">\n",
       "  <thead>\n",
       "    <tr style=\"text-align: right;\">\n",
       "      <th></th>\n",
       "      <th>nb_id</th>\n",
       "      <th>has_author</th>\n",
       "      <th>jupyter_prop</th>\n",
       "      <th>num_contrib</th>\n",
       "      <th>image_prop</th>\n",
       "      <th>is_education</th>\n",
       "      <th>has_comments</th>\n",
       "      <th>num_commits</th>\n",
       "      <th>non_exec_prop</th>\n",
       "      <th>exec_inorder</th>\n",
       "      <th>exec_skips</th>\n",
       "      <th>has_error</th>\n",
       "      <th>cluster</th>\n",
       "    </tr>\n",
       "  </thead>\n",
       "  <tbody>\n",
       "    <tr>\n",
       "      <th>0</th>\n",
       "      <td>1589</td>\n",
       "      <td>False</td>\n",
       "      <td>0.714130</td>\n",
       "      <td>1.0</td>\n",
       "      <td>0.142857</td>\n",
       "      <td>False</td>\n",
       "      <td>False</td>\n",
       "      <td>1.0</td>\n",
       "      <td>0.00000</td>\n",
       "      <td>1.000000</td>\n",
       "      <td>1.000000</td>\n",
       "      <td>False</td>\n",
       "      <td>1</td>\n",
       "    </tr>\n",
       "    <tr>\n",
       "      <th>1</th>\n",
       "      <td>1919</td>\n",
       "      <td>False</td>\n",
       "      <td>0.997840</td>\n",
       "      <td>1.0</td>\n",
       "      <td>0.187500</td>\n",
       "      <td>False</td>\n",
       "      <td>True</td>\n",
       "      <td>1.0</td>\n",
       "      <td>0.04878</td>\n",
       "      <td>0.789474</td>\n",
       "      <td>10.631579</td>\n",
       "      <td>True</td>\n",
       "      <td>0</td>\n",
       "    </tr>\n",
       "    <tr>\n",
       "      <th>2</th>\n",
       "      <td>2857</td>\n",
       "      <td>False</td>\n",
       "      <td>0.121957</td>\n",
       "      <td>5.0</td>\n",
       "      <td>0.000000</td>\n",
       "      <td>False</td>\n",
       "      <td>True</td>\n",
       "      <td>11.0</td>\n",
       "      <td>0.00000</td>\n",
       "      <td>0.909091</td>\n",
       "      <td>6.181818</td>\n",
       "      <td>False</td>\n",
       "      <td>0</td>\n",
       "    </tr>\n",
       "    <tr>\n",
       "      <th>3</th>\n",
       "      <td>4339</td>\n",
       "      <td>False</td>\n",
       "      <td>1.000000</td>\n",
       "      <td>1.0</td>\n",
       "      <td>0.000000</td>\n",
       "      <td>False</td>\n",
       "      <td>True</td>\n",
       "      <td>1.0</td>\n",
       "      <td>0.00000</td>\n",
       "      <td>1.000000</td>\n",
       "      <td>1.631579</td>\n",
       "      <td>False</td>\n",
       "      <td>1</td>\n",
       "    </tr>\n",
       "    <tr>\n",
       "      <th>4</th>\n",
       "      <td>4659</td>\n",
       "      <td>False</td>\n",
       "      <td>0.940063</td>\n",
       "      <td>3.0</td>\n",
       "      <td>0.000000</td>\n",
       "      <td>False</td>\n",
       "      <td>True</td>\n",
       "      <td>3.0</td>\n",
       "      <td>0.12500</td>\n",
       "      <td>1.000000</td>\n",
       "      <td>1.000000</td>\n",
       "      <td>True</td>\n",
       "      <td>1</td>\n",
       "    </tr>\n",
       "  </tbody>\n",
       "</table>\n",
       "</div>"
      ],
      "text/plain": [
       "   nb_id  has_author  jupyter_prop  num_contrib  image_prop  is_education  \\\n",
       "0   1589       False      0.714130          1.0    0.142857         False   \n",
       "1   1919       False      0.997840          1.0    0.187500         False   \n",
       "2   2857       False      0.121957          5.0    0.000000         False   \n",
       "3   4339       False      1.000000          1.0    0.000000         False   \n",
       "4   4659       False      0.940063          3.0    0.000000         False   \n",
       "\n",
       "   has_comments  num_commits  non_exec_prop  exec_inorder  exec_skips  \\\n",
       "0         False          1.0        0.00000      1.000000    1.000000   \n",
       "1          True          1.0        0.04878      0.789474   10.631579   \n",
       "2          True         11.0        0.00000      0.909091    6.181818   \n",
       "3          True          1.0        0.00000      1.000000    1.631579   \n",
       "4          True          3.0        0.12500      1.000000    1.000000   \n",
       "\n",
       "   has_error  cluster  \n",
       "0      False        1  \n",
       "1       True        0  \n",
       "2      False        0  \n",
       "3      False        1  \n",
       "4       True        1  "
      ]
     },
     "execution_count": 63,
     "metadata": {},
     "output_type": "execute_result"
    }
   ],
   "source": [
    "# initial look at the data\n",
    "no_md_labels_df.head()"
   ]
  },
  {
   "cell_type": "code",
   "execution_count": 64,
   "metadata": {
    "scrolled": false
   },
   "outputs": [
    {
     "data": {
      "text/plain": [
       "1    996\n",
       "0    246\n",
       "3     96\n",
       "2     16\n",
       "4      1\n",
       "Name: cluster, dtype: int64"
      ]
     },
     "execution_count": 64,
     "metadata": {},
     "output_type": "execute_result"
    }
   ],
   "source": [
    "# look at value counts for each cluster\n",
    "no_md_labels_df['cluster'].value_counts()"
   ]
  },
  {
   "cell_type": "code",
   "execution_count": 66,
   "metadata": {},
   "outputs": [],
   "source": [
    "# extract labels to a csv\n",
    "no_md_labels_df.to_csv('cluster-data/no_markdown_group_clusters.csv')"
   ]
  },
  {
   "cell_type": "markdown",
   "metadata": {},
   "source": [
    "# Outliers"
   ]
  },
  {
   "cell_type": "markdown",
   "metadata": {},
   "source": [
    "## No Markdown Cells"
   ]
  },
  {
   "cell_type": "code",
   "execution_count": 68,
   "metadata": {},
   "outputs": [
    {
     "data": {
      "text/html": [
       "<div>\n",
       "<style scoped>\n",
       "    .dataframe tbody tr th:only-of-type {\n",
       "        vertical-align: middle;\n",
       "    }\n",
       "\n",
       "    .dataframe tbody tr th {\n",
       "        vertical-align: top;\n",
       "    }\n",
       "\n",
       "    .dataframe thead th {\n",
       "        text-align: right;\n",
       "    }\n",
       "</style>\n",
       "<table border=\"1\" class=\"dataframe\">\n",
       "  <thead>\n",
       "    <tr style=\"text-align: right;\">\n",
       "      <th></th>\n",
       "      <th>nb_id</th>\n",
       "      <th>has_author</th>\n",
       "      <th>jupyter_prop</th>\n",
       "      <th>num_contrib</th>\n",
       "      <th>image_prop</th>\n",
       "      <th>is_education</th>\n",
       "      <th>has_comments</th>\n",
       "      <th>num_commits</th>\n",
       "      <th>non_exec_prop</th>\n",
       "      <th>exec_inorder</th>\n",
       "      <th>exec_skips</th>\n",
       "      <th>has_error</th>\n",
       "      <th>cluster</th>\n",
       "    </tr>\n",
       "  </thead>\n",
       "  <tbody>\n",
       "    <tr>\n",
       "      <th>700</th>\n",
       "      <td>588262</td>\n",
       "      <td>False</td>\n",
       "      <td>1.0</td>\n",
       "      <td>1.0</td>\n",
       "      <td>0.086207</td>\n",
       "      <td>False</td>\n",
       "      <td>True</td>\n",
       "      <td>1.0</td>\n",
       "      <td>0.020619</td>\n",
       "      <td>0.787234</td>\n",
       "      <td>294.648936</td>\n",
       "      <td>True</td>\n",
       "      <td>4</td>\n",
       "    </tr>\n",
       "  </tbody>\n",
       "</table>\n",
       "</div>"
      ],
      "text/plain": [
       "      nb_id  has_author  jupyter_prop  num_contrib  image_prop  is_education  \\\n",
       "700  588262       False           1.0          1.0    0.086207         False   \n",
       "\n",
       "     has_comments  num_commits  non_exec_prop  exec_inorder  exec_skips  \\\n",
       "700          True          1.0       0.020619      0.787234  294.648936   \n",
       "\n",
       "     has_error  cluster  \n",
       "700       True        4  "
      ]
     },
     "execution_count": 68,
     "metadata": {},
     "output_type": "execute_result"
    }
   ],
   "source": [
    "# extract the single notebook in cluster 4\n",
    "outlier = no_md_labels_df[no_md_labels_df['cluster'] == 4]\n",
    "outlier"
   ]
  },
  {
   "cell_type": "markdown",
   "metadata": {},
   "source": [
    "The reason why this notebook was placed in a cluster by itself was because the average skip size was extremely high, much higher than the rest of the notebooks. We can exclude this cluster and notebook from further analysis."
   ]
  }
 ],
 "metadata": {
  "kernelspec": {
   "display_name": "Python 3",
   "language": "python",
   "name": "python3"
  },
  "language_info": {
   "codemirror_mode": {
    "name": "ipython",
    "version": 3
   },
   "file_extension": ".py",
   "mimetype": "text/x-python",
   "name": "python",
   "nbconvert_exporter": "python",
   "pygments_lexer": "ipython3",
   "version": "3.6.9"
  }
 },
 "nbformat": 4,
 "nbformat_minor": 2
}
