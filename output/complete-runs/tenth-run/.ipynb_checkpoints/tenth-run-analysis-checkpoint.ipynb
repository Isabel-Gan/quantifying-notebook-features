{
 "cells": [
  {
   "cell_type": "markdown",
   "metadata": {},
   "source": [
    "# Imports"
   ]
  },
  {
   "cell_type": "code",
   "execution_count": 2,
   "metadata": {},
   "outputs": [],
   "source": [
    "import pandas as pd\n",
    "import seaborn as sns\n",
    "import matplotlib as plt"
   ]
  },
  {
   "cell_type": "markdown",
   "metadata": {},
   "source": [
    "# Analyzing Errors\n",
    "\n",
    "Analyzing the notebooks that ran into various errors while the script was executing (`github2017-tenth-errors.csv`)"
   ]
  },
  {
   "cell_type": "markdown",
   "metadata": {},
   "source": [
    "## Loading the .csv file"
   ]
  },
  {
   "cell_type": "code",
   "execution_count": 3,
   "metadata": {},
   "outputs": [
    {
     "data": {
      "text/html": [
       "<div>\n",
       "<style scoped>\n",
       "    .dataframe tbody tr th:only-of-type {\n",
       "        vertical-align: middle;\n",
       "    }\n",
       "\n",
       "    .dataframe tbody tr th {\n",
       "        vertical-align: top;\n",
       "    }\n",
       "\n",
       "    .dataframe thead th {\n",
       "        text-align: right;\n",
       "    }\n",
       "</style>\n",
       "<table border=\"1\" class=\"dataframe\">\n",
       "  <thead>\n",
       "    <tr style=\"text-align: right;\">\n",
       "      <th></th>\n",
       "      <th>nb_id</th>\n",
       "      <th>repo_id</th>\n",
       "      <th>err_in</th>\n",
       "    </tr>\n",
       "  </thead>\n",
       "  <tbody>\n",
       "    <tr>\n",
       "      <th>0</th>\n",
       "      <td>408548</td>\n",
       "      <td>93282436</td>\n",
       "      <td>api</td>\n",
       "    </tr>\n",
       "    <tr>\n",
       "      <th>1</th>\n",
       "      <td>484614</td>\n",
       "      <td>95004508</td>\n",
       "      <td>no_code</td>\n",
       "    </tr>\n",
       "    <tr>\n",
       "      <th>2</th>\n",
       "      <td>806977</td>\n",
       "      <td>93647670</td>\n",
       "      <td>api</td>\n",
       "    </tr>\n",
       "    <tr>\n",
       "      <th>3</th>\n",
       "      <td>160930</td>\n",
       "      <td>29998194</td>\n",
       "      <td>api</td>\n",
       "    </tr>\n",
       "    <tr>\n",
       "      <th>4</th>\n",
       "      <td>964194</td>\n",
       "      <td>72123088</td>\n",
       "      <td>api</td>\n",
       "    </tr>\n",
       "  </tbody>\n",
       "</table>\n",
       "</div>"
      ],
      "text/plain": [
       "    nb_id   repo_id   err_in\n",
       "0  408548  93282436      api\n",
       "1  484614  95004508  no_code\n",
       "2  806977  93647670      api\n",
       "3  160930  29998194      api\n",
       "4  964194  72123088      api"
      ]
     },
     "execution_count": 3,
     "metadata": {},
     "output_type": "execute_result"
    }
   ],
   "source": [
    "errors_filepath = 'github2017-tenth-errors.csv'\n",
    "errors_df = pd.read_csv(errors_filepath)\n",
    "\n",
    "# initial look at the data\n",
    "errors_df.head()"
   ]
  },
  {
   "cell_type": "markdown",
   "metadata": {},
   "source": [
    "## Plotting the error data"
   ]
  },
  {
   "cell_type": "code",
   "execution_count": 4,
   "metadata": {
    "scrolled": true
   },
   "outputs": [
    {
     "data": {
      "image/png": "[encoded data removed]",
      "text/plain": [
       "<Figure size 432x288 with 1 Axes>"
      ]
     },
     "metadata": {
      "needs_background": "light"
     },
     "output_type": "display_data"
    }
   ],
   "source": [
    "# create a bar plot of the errors column\n",
    "error_plot = sns.countplot(x = 'err_in', data = errors_df)\n",
    "\n",
    "# fix appearance\n",
    "temp = error_plot.set_xticklabels(error_plot.get_xticklabels(), rotation = 60, ha = \"right\")\n",
    "temp = error_plot.set(title = \"Notebook Errors\")"
   ]
  },
  {
   "cell_type": "markdown",
   "metadata": {},
   "source": [
    "The top three errors (`api`, `no_code`, and `nb_file`) have similar numbers to the previous complete runs.\n",
    "\n",
    "The one `has_export` error was a result of the script hanging, due to `re.search` taking a very long time to search a huge line of code. This has been fixed by adding a 20-second timeout to the two `re.search` calls in the script."
   ]
  },
  {
   "cell_type": "markdown",
   "metadata": {},
   "source": [
    "# Analyzing Features\n",
    "\n",
    "Analyzing the data obtained from running the new feature scripts on the dataset (`github2017-tenth-run.csv`)"
   ]
  },
  {
   "cell_type": "markdown",
   "metadata": {},
   "source": [
    "## Loading the .csv file"
   ]
  },
  {
   "cell_type": "code",
   "execution_count": 5,
   "metadata": {},
   "outputs": [
    {
     "data": {
      "text/html": [
       "<div>\n",
       "<style scoped>\n",
       "    .dataframe tbody tr th:only-of-type {\n",
       "        vertical-align: middle;\n",
       "    }\n",
       "\n",
       "    .dataframe tbody tr th {\n",
       "        vertical-align: top;\n",
       "    }\n",
       "\n",
       "    .dataframe thead th {\n",
       "        text-align: right;\n",
       "    }\n",
       "</style>\n",
       "<table border=\"1\" class=\"dataframe\">\n",
       "  <thead>\n",
       "    <tr style=\"text-align: right;\">\n",
       "      <th></th>\n",
       "      <th>nb_id</th>\n",
       "      <th>repo_id</th>\n",
       "      <th>has_export</th>\n",
       "      <th>num_functions</th>\n",
       "      <th>has_test</th>\n",
       "      <th>num_headers</th>\n",
       "      <th>has_papermill</th>\n",
       "      <th>has_reqtext</th>\n",
       "    </tr>\n",
       "  </thead>\n",
       "  <tbody>\n",
       "    <tr>\n",
       "      <th>0</th>\n",
       "      <td>900493</td>\n",
       "      <td>85972539</td>\n",
       "      <td>True</td>\n",
       "      <td>0</td>\n",
       "      <td>False</td>\n",
       "      <td>0</td>\n",
       "      <td>False</td>\n",
       "      <td>False</td>\n",
       "    </tr>\n",
       "    <tr>\n",
       "      <th>1</th>\n",
       "      <td>322852</td>\n",
       "      <td>45655960</td>\n",
       "      <td>False</td>\n",
       "      <td>0</td>\n",
       "      <td>False</td>\n",
       "      <td>2</td>\n",
       "      <td>False</td>\n",
       "      <td>False</td>\n",
       "    </tr>\n",
       "    <tr>\n",
       "      <th>2</th>\n",
       "      <td>457759</td>\n",
       "      <td>27685708</td>\n",
       "      <td>False</td>\n",
       "      <td>0</td>\n",
       "      <td>False</td>\n",
       "      <td>1</td>\n",
       "      <td>False</td>\n",
       "      <td>False</td>\n",
       "    </tr>\n",
       "    <tr>\n",
       "      <th>3</th>\n",
       "      <td>672138</td>\n",
       "      <td>92749043</td>\n",
       "      <td>True</td>\n",
       "      <td>2</td>\n",
       "      <td>False</td>\n",
       "      <td>2</td>\n",
       "      <td>False</td>\n",
       "      <td>False</td>\n",
       "    </tr>\n",
       "    <tr>\n",
       "      <th>4</th>\n",
       "      <td>103154</td>\n",
       "      <td>30734070</td>\n",
       "      <td>True</td>\n",
       "      <td>0</td>\n",
       "      <td>False</td>\n",
       "      <td>0</td>\n",
       "      <td>False</td>\n",
       "      <td>False</td>\n",
       "    </tr>\n",
       "  </tbody>\n",
       "</table>\n",
       "</div>"
      ],
      "text/plain": [
       "    nb_id   repo_id has_export  num_functions  has_test  num_headers  \\\n",
       "0  900493  85972539       True              0     False            0   \n",
       "1  322852  45655960      False              0     False            2   \n",
       "2  457759  27685708      False              0     False            1   \n",
       "3  672138  92749043       True              2     False            2   \n",
       "4  103154  30734070       True              0     False            0   \n",
       "\n",
       "   has_papermill  has_reqtext  \n",
       "0          False        False  \n",
       "1          False        False  \n",
       "2          False        False  \n",
       "3          False        False  \n",
       "4          False        False  "
      ]
     },
     "execution_count": 5,
     "metadata": {},
     "output_type": "execute_result"
    }
   ],
   "source": [
    "results_filepath = 'github2017-tenth-run.csv'\n",
    "results_df = pd.read_csv(results_filepath)\n",
    "\n",
    "# initial look at the data\n",
    "results_df.head()"
   ]
  },
  {
   "cell_type": "markdown",
   "metadata": {},
   "source": [
    "The new features for this run are:\n",
    "\n",
    "- `has_export`: uses a variety of regex to determine whether a notebook exports to a file\n",
    "- `num_functions`: counts the number of functions defined in the code cells of a notebook\n",
    "- `has_test`: checks for imports of `pytest`, `test`, and `unittest`\n",
    "- `num_headers`: counts the number of headers in the markdown cells of a notebook\n",
    "- `has_papermill`: checks for import of `papermill`, a notebook parameterization tool\n",
    "- `has_reqtext`: checks for `requirements.txt` in the same directory as the notebook"
   ]
  },
  {
   "cell_type": "markdown",
   "metadata": {},
   "source": [
    "## Plotting and Cleaning the Data"
   ]
  },
  {
   "cell_type": "code",
   "execution_count": 8,
   "metadata": {},
   "outputs": [],
   "source": [
    "def clean_column(field):\n",
    "    \n",
    "    # isolate the right columns\n",
    "    original = results_df[['nb_id', 'repo_id', field]]\n",
    "    \n",
    "    # filter out the NaN rows\n",
    "    clean = original.dropna(subset = [field])\n",
    "    \n",
    "    # return the cleaned column\n",
    "    return clean"
   ]
  },
  {
   "cell_type": "markdown",
   "metadata": {},
   "source": [
    "### Exporting to a File"
   ]
  },
  {
   "cell_type": "code",
   "execution_count": 10,
   "metadata": {},
   "outputs": [
    {
     "data": {
      "image/png": "[encoded data removed]",
      "text/plain": [
       "<Figure size 432x288 with 1 Axes>"
      ]
     },
     "metadata": {
      "needs_background": "light"
     },
     "output_type": "display_data"
    }
   ],
   "source": [
    "# clean the data\n",
    "has_export = clean_column('has_export')\n",
    "\n",
    "# plot the data\n",
    "has_export_plot = sns.countplot(x = 'has_export', data = has_export)\n",
    "\n",
    "# fix appearance\n",
    "temp = has_export_plot.set(title = \"Exports\")"
   ]
  },
  {
   "cell_type": "markdown",
   "metadata": {},
   "source": [
    "### Number of Functions"
   ]
  },
  {
   "cell_type": "code",
   "execution_count": 12,
   "metadata": {},
   "outputs": [
    {
     "data": {
      "image/png": "[encoded data removed]",
      "text/plain": [
       "<Figure size 432x288 with 1 Axes>"
      ]
     },
     "metadata": {
      "needs_background": "light"
     },
     "output_type": "display_data"
    }
   ],
   "source": [
    "# clean the data\n",
    "num_functions = clean_column('num_functions')\n",
    "\n",
    "# plot the data\n",
    "num_functions_plot = num_functions['num_functions'].plot(kind = 'hist')\n",
    "\n",
    "# fix appearance\n",
    "temp = num_functions_plot.set_title('Number of Functions')"
   ]
  },
  {
   "cell_type": "markdown",
   "metadata": {},
   "source": [
    "### Testing"
   ]
  },
  {
   "cell_type": "code",
   "execution_count": 13,
   "metadata": {
    "scrolled": true
   },
   "outputs": [
    {
     "data": {
      "image/png": "[encoded data removed]",
      "text/plain": [
       "<Figure size 432x288 with 1 Axes>"
      ]
     },
     "metadata": {
      "needs_background": "light"
     },
     "output_type": "display_data"
    }
   ],
   "source": [
    "# clean the data\n",
    "has_test = clean_column('has_test')\n",
    "\n",
    "# plot the data\n",
    "has_test_plot = sns.countplot(x = 'has_test', data = has_test)\n",
    "\n",
    "# fix appearance\n",
    "temp = has_test_plot.set(title = 'Testing')"
   ]
  },
  {
   "cell_type": "markdown",
   "metadata": {},
   "source": [
    "### Notebook Headers"
   ]
  },
  {
   "cell_type": "code",
   "execution_count": 14,
   "metadata": {},
   "outputs": [
    {
     "data": {
      "image/png": "[encoded data removed]",
      "text/plain": [
       "<Figure size 432x288 with 1 Axes>"
      ]
     },
     "metadata": {
      "needs_background": "light"
     },
     "output_type": "display_data"
    }
   ],
   "source": [
    "# clean the data\n",
    "num_headers = clean_column('num_headers')\n",
    "\n",
    "# plot the data\n",
    "num_headers_plot = num_headers['num_headers'].plot(kind = 'hist')\n",
    "\n",
    "# fix appearance\n",
    "temp = num_headers_plot.set_title('Number of Markdown Headers')"
   ]
  },
  {
   "cell_type": "markdown",
   "metadata": {},
   "source": [
    "### Papermill (Parameterization)"
   ]
  },
  {
   "cell_type": "code",
   "execution_count": 15,
   "metadata": {},
   "outputs": [
    {
     "data": {
      "text/plain": [
       "[Text(0.5, 1.0, 'Papermill')]"
      ]
     },
     "execution_count": 15,
     "metadata": {},
     "output_type": "execute_result"
    },
    {
     "data": {
      "image/png": "[encoded data removed]",
      "text/plain": [
       "<Figure size 432x288 with 1 Axes>"
      ]
     },
     "metadata": {
      "needs_background": "light"
     },
     "output_type": "display_data"
    }
   ],
   "source": [
    "# clean the data\n",
    "has_papermill = clean_column('has_papermill')\n",
    "\n",
    "# plot the data\n",
    "has_papermill_plot = sns.countplot(x = 'has_papermill', data = has_papermill)\n",
    "\n",
    "# fix appearance\n",
    "has_papermill_plot.set(title = 'Papermill')"
   ]
  },
  {
   "cell_type": "markdown",
   "metadata": {},
   "source": [
    "We can eliminate this metric, since none of the notebooks imported `papermill`. However, we will keep it on the 10k dataset to see if results change"
   ]
  },
  {
   "cell_type": "markdown",
   "metadata": {},
   "source": [
    "### requirements.txt"
   ]
  },
  {
   "cell_type": "code",
   "execution_count": 16,
   "metadata": {},
   "outputs": [
    {
     "data": {
      "text/plain": [
       "[Text(0.5, 1.0, 'requirements.txt')]"
      ]
     },
     "execution_count": 16,
     "metadata": {},
     "output_type": "execute_result"
    },
    {
     "data": {
      "image/png": "[encoded data removed]",
      "text/plain": [
       "<Figure size 432x288 with 1 Axes>"
      ]
     },
     "metadata": {
      "needs_background": "light"
     },
     "output_type": "display_data"
    }
   ],
   "source": [
    "# clean the data\n",
    "has_reqtext = clean_column('has_reqtext')\n",
    "\n",
    "# plot the data\n",
    "has_reqtext_plot = sns.countplot(x = 'has_reqtext', data = has_reqtext)\n",
    "\n",
    "# fix appearance\n",
    "has_reqtext_plot.set(title = 'requirements.txt')"
   ]
  },
  {
   "cell_type": "markdown",
   "metadata": {},
   "source": [
    "We can also eliminate this metric, since none of the notebooks had a `requirements.txt` in the same directory. However, we will keep it on the 10k dataset to see if results change"
   ]
  }
 ],
 "metadata": {
  "kernelspec": {
   "display_name": "Python 3",
   "language": "python",
   "name": "python3"
  },
  "language_info": {
   "codemirror_mode": {
    "name": "ipython",
    "version": 3
   },
   "file_extension": ".py",
   "mimetype": "text/x-python",
   "name": "python",
   "nbconvert_exporter": "python",
   "pygments_lexer": "ipython3",
   "version": "3.6.9"
  }
 },
 "nbformat": 4,
 "nbformat_minor": 2
}
